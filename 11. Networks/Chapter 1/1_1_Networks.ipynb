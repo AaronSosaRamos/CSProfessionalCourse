{
  "nbformat": 4,
  "nbformat_minor": 0,
  "metadata": {
    "colab": {
      "provenance": []
    },
    "kernelspec": {
      "name": "python3",
      "display_name": "Python 3"
    },
    "language_info": {
      "name": "python"
    }
  },
  "cells": [
    {
      "cell_type": "markdown",
      "source": [
        "#Networks"
      ],
      "metadata": {
        "id": "AO9aEVTaE2us"
      }
    },
    {
      "cell_type": "markdown",
      "source": [
        "#1. Introduction to the Internet and TCP/IP Model"
      ],
      "metadata": {
        "id": "x0M6uCHUE9cs"
      }
    },
    {
      "cell_type": "markdown",
      "source": [
        "The Internet is a global network of interconnected devices that communicate using the TCP/IP protocol suite. TCP/IP consists of layers that handle different aspects of network communication, such as data transmission and addressing."
      ],
      "metadata": {
        "id": "RN7NdzzbE-XT"
      }
    },
    {
      "cell_type": "code",
      "source": [
        "import socket\n",
        "\n",
        "# Create a TCP/IP socket\n",
        "sock = socket.socket(socket.AF_INET, socket.SOCK_STREAM)\n",
        "\n",
        "# Connect the socket to the server\n",
        "server_address = ('localhost', 8888)\n",
        "sock.connect(server_address)\n",
        "\n",
        "try:\n",
        "    # Send data\n",
        "    message = b'Hello, world!'\n",
        "    print(f'Sending: {message.decode()}')\n",
        "    sock.sendall(message)\n",
        "\n",
        "    # Receive response\n",
        "    data = sock.recv(1024)\n",
        "    print(f'Received: {data.decode()}')\n",
        "\n",
        "finally:\n",
        "    # Clean up\n",
        "    sock.close()"
      ],
      "metadata": {
        "id": "ePjR1lHKGJPb"
      },
      "execution_count": null,
      "outputs": []
    },
    {
      "cell_type": "markdown",
      "source": [
        "#2. Understanding the Operation of Internet Protocols\n"
      ],
      "metadata": {
        "id": "jhzb7bd4FJQD"
      }
    },
    {
      "cell_type": "markdown",
      "source": [
        " Internet protocols like HTTP (HyperText Transfer Protocol), FTP (File Transfer Protocol), SMTP (Simple Mail Transfer Protocol), etc., define rules for communication between devices on the Internet."
      ],
      "metadata": {
        "id": "SIxK6WAdFPG7"
      }
    },
    {
      "cell_type": "code",
      "source": [
        "import requests\n",
        "\n",
        "url = 'https://www.example.com'\n",
        "response = requests.get(url)\n",
        "print(f'Status Code: {response.status_code}')\n",
        "print(f'Content: {response.text}')"
      ],
      "metadata": {
        "colab": {
          "base_uri": "https://localhost:8080/"
        },
        "id": "xmepUvOkFOtM",
        "outputId": "daef3c32-9c22-4910-b7af-14291eeb8ead"
      },
      "execution_count": null,
      "outputs": [
        {
          "output_type": "stream",
          "name": "stdout",
          "text": [
            "Status Code: 200\n",
            "Content: <!doctype html>\n",
            "<html>\n",
            "<head>\n",
            "    <title>Example Domain</title>\n",
            "\n",
            "    <meta charset=\"utf-8\" />\n",
            "    <meta http-equiv=\"Content-type\" content=\"text/html; charset=utf-8\" />\n",
            "    <meta name=\"viewport\" content=\"width=device-width, initial-scale=1\" />\n",
            "    <style type=\"text/css\">\n",
            "    body {\n",
            "        background-color: #f0f0f2;\n",
            "        margin: 0;\n",
            "        padding: 0;\n",
            "        font-family: -apple-system, system-ui, BlinkMacSystemFont, \"Segoe UI\", \"Open Sans\", \"Helvetica Neue\", Helvetica, Arial, sans-serif;\n",
            "        \n",
            "    }\n",
            "    div {\n",
            "        width: 600px;\n",
            "        margin: 5em auto;\n",
            "        padding: 2em;\n",
            "        background-color: #fdfdff;\n",
            "        border-radius: 0.5em;\n",
            "        box-shadow: 2px 3px 7px 2px rgba(0,0,0,0.02);\n",
            "    }\n",
            "    a:link, a:visited {\n",
            "        color: #38488f;\n",
            "        text-decoration: none;\n",
            "    }\n",
            "    @media (max-width: 700px) {\n",
            "        div {\n",
            "            margin: 0 auto;\n",
            "            width: auto;\n",
            "        }\n",
            "    }\n",
            "    </style>    \n",
            "</head>\n",
            "\n",
            "<body>\n",
            "<div>\n",
            "    <h1>Example Domain</h1>\n",
            "    <p>This domain is for use in illustrative examples in documents. You may use this\n",
            "    domain in literature without prior coordination or asking for permission.</p>\n",
            "    <p><a href=\"https://www.iana.org/domains/example\">More information...</a></p>\n",
            "</div>\n",
            "</body>\n",
            "</html>\n",
            "\n"
          ]
        }
      ]
    },
    {
      "cell_type": "markdown",
      "source": [
        "#3. Network Applications"
      ],
      "metadata": {
        "id": "_Gpn7qrOFTfj"
      }
    },
    {
      "cell_type": "markdown",
      "source": [
        "Network applications are programs that use networking protocols to provide services over a network, such as web browsers, email clients, and file transfer utilities."
      ],
      "metadata": {
        "id": "twJ7a2FGFaJT"
      }
    },
    {
      "cell_type": "code",
      "source": [
        "from http.server import BaseHTTPRequestHandler, HTTPServer\n",
        "\n",
        "class SimpleHTTPRequestHandler(BaseHTTPRequestHandler):\n",
        "    def do_GET(self):\n",
        "        self.send_response(200)\n",
        "        self.end_headers()\n",
        "        self.wfile.write(b'Hello, world!')\n",
        "\n",
        "def run_server():\n",
        "    server_address = ('localhost', 8316)\n",
        "    httpd = HTTPServer(server_address, SimpleHTTPRequestHandler)\n",
        "    print('Server running at http://localhost:8316/')\n",
        "    httpd.handle_request()  # Handle a single request\n",
        "\n",
        "if __name__ == '__main__':\n",
        "    run_server()"
      ],
      "metadata": {
        "id": "avmgp65dGqYj"
      },
      "execution_count": null,
      "outputs": []
    },
    {
      "cell_type": "markdown",
      "source": [
        "#4. Peer-to-Peer Protocols and Protocol Sockets"
      ],
      "metadata": {
        "id": "kmi-p6hWG9kE"
      }
    },
    {
      "cell_type": "markdown",
      "source": [
        "Peer-to-peer protocols allow direct communication between devices without a central server. Protocol sockets facilitate this direct communication."
      ],
      "metadata": {
        "id": "im6YDPnYHCEc"
      }
    },
    {
      "cell_type": "code",
      "source": [
        "import socket\n",
        "import threading\n",
        "\n",
        "def handle_client(client_socket):\n",
        "    while True:\n",
        "        message = client_socket.recv(1024).decode()\n",
        "        print(f'Received message: {message}')\n",
        "        client_socket.sendall(b'Message received')\n",
        "\n",
        "# Server setup\n",
        "server = socket.socket(socket.AF_INET, socket.SOCK_STREAM)\n",
        "server.bind(('localhost', 8888))\n",
        "server.listen(5)\n",
        "print('Server listening on port 8888...')\n",
        "\n",
        "while True:\n",
        "    client_socket, address = server.accept()\n",
        "    print(f'Connection from {address}')\n",
        "    client_handler = threading.Thread(target=handle_client, args=(client_socket,))\n",
        "    client_handler.start()"
      ],
      "metadata": {
        "id": "zEz78fosHCkU"
      },
      "execution_count": null,
      "outputs": []
    },
    {
      "cell_type": "markdown",
      "source": [
        "#5. Reliable and Unreliable Data Delivery"
      ],
      "metadata": {
        "id": "XgrgGAUOHFv8"
      }
    },
    {
      "cell_type": "markdown",
      "source": [
        " Reliable data delivery ensures that data sent over a network is received correctly and in the right order. Unreliable delivery does not guarantee this."
      ],
      "metadata": {
        "id": "0RRCAjWcHMRr"
      }
    },
    {
      "cell_type": "code",
      "source": [
        "import socket\n",
        "\n",
        "server = socket.socket(socket.AF_INET, socket.SOCK_STREAM)\n",
        "server.bind(('localhost', 8888))\n",
        "server.listen(5)\n",
        "\n",
        "while True:\n",
        "    client_socket, address = server.accept()\n",
        "    print(f'Connection from {address}')\n",
        "\n",
        "    while True:\n",
        "        data = client_socket.recv(1024)\n",
        "        if not data:\n",
        "            break\n",
        "        print(f'Received: {data.decode()}')\n",
        "        client_socket.sendall(b'Acknowledged: ' + data)\n",
        "\n",
        "    client_socket.close()"
      ],
      "metadata": {
        "id": "MRiYl01nHMib"
      },
      "execution_count": null,
      "outputs": []
    },
    {
      "cell_type": "markdown",
      "source": [
        "#6. Congestion Control and Flow Control"
      ],
      "metadata": {
        "id": "UFxvL1TOHTkb"
      }
    },
    {
      "cell_type": "markdown",
      "source": [
        "Congestion control manages data flow to prevent network congestion and optimize performance. Flow control regulates the rate of data transmission."
      ],
      "metadata": {
        "id": "9eyxwrBUHXhT"
      }
    },
    {
      "cell_type": "code",
      "source": [
        "# Example: Simulating TCP congestion control\n",
        "# (Python's socket library inherently handles TCP congestion control)\n",
        "\n",
        "import socket\n",
        "\n",
        "server = socket.socket(socket.AF_INET, socket.SOCK_STREAM)\n",
        "server.bind(('localhost', 8888))\n",
        "server.listen(5)\n",
        "\n",
        "while True:\n",
        "    client_socket, address = server.accept()\n",
        "    print(f'Connection from {address}')\n",
        "\n",
        "    while True:\n",
        "        data = client_socket.recv(1024)\n",
        "        if not data:\n",
        "            break\n",
        "        print(f'Received: {data.decode()}')\n",
        "        client_socket.sendall(data)\n",
        "\n",
        "    client_socket.close()"
      ],
      "metadata": {
        "id": "81XzBquiHX3D"
      },
      "execution_count": null,
      "outputs": []
    },
    {
      "cell_type": "markdown",
      "source": [
        "#7. Routing and Forwarding"
      ],
      "metadata": {
        "id": "zYFBhE6QHaEb"
      }
    },
    {
      "cell_type": "markdown",
      "source": [
        "Routing involves selecting the best path for data packets to reach their destination. Forwarding is the process of transmitting data packets based on routing decisions."
      ],
      "metadata": {
        "id": "pxEC0BoLHa8j"
      }
    },
    {
      "cell_type": "code",
      "source": [
        "# Example: Simulating packet routing and forwarding\n",
        "# (This is a simplified demonstration)\n",
        "\n",
        "class Router:\n",
        "    def __init__(self, routing_table):\n",
        "        self.routing_table = routing_table\n",
        "\n",
        "    def route_packet(self, packet):\n",
        "        destination = packet['destination']\n",
        "        if destination in self.routing_table:\n",
        "            next_hop = self.routing_table[destination]\n",
        "            print(f'Forwarding packet to {next_hop}')\n",
        "        else:\n",
        "            print('Destination unreachable')\n",
        "\n",
        "# Example routing table (destination -> next hop)\n",
        "routing_table = {\n",
        "    '192.168.1.1': 'Gateway1',\n",
        "    '10.0.0.1': 'Gateway2'\n",
        "}\n",
        "\n",
        "router = Router(routing_table)\n",
        "packet = {'source': '192.168.1.10', 'destination': '10.0.0.1'}\n",
        "router.route_packet(packet)"
      ],
      "metadata": {
        "colab": {
          "base_uri": "https://localhost:8080/"
        },
        "id": "MnPLJ-h1HdT7",
        "outputId": "84d948e5-1b74-46a0-a6c6-24bdd8daf443"
      },
      "execution_count": null,
      "outputs": [
        {
          "output_type": "stream",
          "name": "stdout",
          "text": [
            "Forwarding packet to Gateway2\n"
          ]
        }
      ]
    },
    {
      "cell_type": "markdown",
      "source": [
        "#8. IPv6"
      ],
      "metadata": {
        "id": "YlwmAHl2H6sU"
      }
    },
    {
      "cell_type": "markdown",
      "source": [
        "IPv6 (Internet Protocol version 6) is the most recent version of the Internet Protocol, designed to replace IPv4. It provides a larger address space, improved routing, and better support for security and quality of service (QoS)."
      ],
      "metadata": {
        "id": "jo9LGlgjIEOL"
      }
    },
    {
      "cell_type": "code",
      "source": [
        "import socket\n",
        "\n",
        "# Create an IPv6 TCP socket\n",
        "server_socket = socket.socket(socket.AF_INET6, socket.SOCK_STREAM)\n",
        "\n",
        "# Bind the socket to a specific IPv6 address and port\n",
        "server_address = ('::1', 8888)  # localhost IPv6 address\n",
        "server_socket.bind(server_address)\n",
        "\n",
        "# Listen for incoming connections\n",
        "server_socket.listen(1)\n",
        "\n",
        "print('Server listening on', server_address)\n",
        "\n",
        "while True:\n",
        "    # Wait for a connection\n",
        "    client_socket, client_address = server_socket.accept()\n",
        "\n",
        "    try:\n",
        "        print('Connection from', client_address)\n",
        "\n",
        "        # Receive data from the client\n",
        "        data = client_socket.recv(1024)\n",
        "        print('Received:', data.decode())\n",
        "\n",
        "        # Echo back to the client\n",
        "        client_socket.sendall(data)\n",
        "\n",
        "    finally:\n",
        "        # Clean up the connection\n",
        "        client_socket.close()"
      ],
      "metadata": {
        "id": "KTUyR1IVIFSl"
      },
      "execution_count": null,
      "outputs": []
    },
    {
      "cell_type": "markdown",
      "source": [
        "#9. LAN and WAN"
      ],
      "metadata": {
        "id": "7C3VTPJHIIO0"
      }
    },
    {
      "cell_type": "markdown",
      "source": [
        "LAN (Local Area Network) refers to a network that spans a small geographical area, like an office or home. WAN (Wide Area Network) covers a larger geographical area, often connecting multiple LANs together over long distances."
      ],
      "metadata": {
        "id": "G3BSJQMZIWzk"
      }
    },
    {
      "cell_type": "code",
      "source": [
        "import socket\n",
        "\n",
        "# LAN communication example\n",
        "server_socket = socket.socket(socket.AF_INET, socket.SOCK_STREAM)\n",
        "server_address = ('192.168.1.100', 8888)  # Example LAN IP address and port\n",
        "server_socket.bind(server_address)\n",
        "server_socket.listen(1)\n",
        "\n",
        "print('Server listening on', server_address)\n",
        "\n",
        "# Accept incoming connections and handle them..."
      ],
      "metadata": {
        "id": "RZLpenIiIRnD"
      },
      "execution_count": null,
      "outputs": []
    },
    {
      "cell_type": "markdown",
      "source": [
        "#10. Virtualization"
      ],
      "metadata": {
        "id": "lf6eppN0IZ4b"
      }
    },
    {
      "cell_type": "markdown",
      "source": [
        "Virtualization involves creating virtual versions of computing resources such as servers, storage devices, or networks. It enables more efficient use of hardware and facilitates easier management and scalability."
      ],
      "metadata": {
        "id": "aj_AjYGhIiG7"
      }
    },
    {
      "cell_type": "code",
      "source": [
        "%pip install virtualenv"
      ],
      "metadata": {
        "id": "eHadrdB0IiYM"
      },
      "execution_count": null,
      "outputs": []
    },
    {
      "cell_type": "code",
      "source": [
        "import virtualenv\n",
        "\n",
        "# Create a virtual environment\n",
        "virtualenv.create_environment('/path/to/myenv')"
      ],
      "metadata": {
        "id": "5mILaoTmIjtM"
      },
      "execution_count": null,
      "outputs": []
    },
    {
      "cell_type": "markdown",
      "source": [
        "#11. Wireless Networks"
      ],
      "metadata": {
        "id": "LUYETbSyIoQD"
      }
    },
    {
      "cell_type": "markdown",
      "source": [
        "Wireless networks use radio waves or other wireless technologies to transmit data over the air instead of using physical cables. Common examples include Wi-Fi, Bluetooth, and cellular networks."
      ],
      "metadata": {
        "id": "vY3NrfZ1IsEj"
      }
    },
    {
      "cell_type": "code",
      "source": [
        "import wifi\n",
        "\n",
        "networks = wifi.Cell.all('wlan0')\n",
        "for network in networks:\n",
        "    print(network.ssid, network.signal)"
      ],
      "metadata": {
        "id": "HEz7g62-ItxL"
      },
      "execution_count": null,
      "outputs": []
    },
    {
      "cell_type": "markdown",
      "source": [
        "#12. SDN - Software Defined Networking"
      ],
      "metadata": {
        "id": "WSe_R_TWIxLr"
      }
    },
    {
      "cell_type": "markdown",
      "source": [
        " SDN separates the control plane from the data plane in networking devices, allowing centralized control and programmability of network behavior through software."
      ],
      "metadata": {
        "id": "DvCoEXG5I3kz"
      }
    },
    {
      "cell_type": "code",
      "source": [
        "%pip install ryu"
      ],
      "metadata": {
        "id": "nEAGu2zsI3z7"
      },
      "execution_count": null,
      "outputs": []
    },
    {
      "cell_type": "code",
      "source": [
        "from ryu.base import app_manager\n",
        "\n",
        "class SimpleController(app_manager.RyuApp):\n",
        "    def __init__(self, *args, **kwargs):\n",
        "        super(SimpleController, self).__init__(*args, **kwargs)\n",
        "\n",
        "    # Implement SDN controller logic here..."
      ],
      "metadata": {
        "id": "Ulv4sXeKI52D"
      },
      "execution_count": null,
      "outputs": []
    },
    {
      "cell_type": "markdown",
      "source": [
        "#13. Network automation"
      ],
      "metadata": {
        "id": "UDSnnMeKI8BD"
      }
    },
    {
      "cell_type": "markdown",
      "source": [
        " Network automation involves using software tools and scripts to automate repetitive tasks in network configuration, management, and monitoring, improving efficiency and reducing errors."
      ],
      "metadata": {
        "id": "zdQzIlt7I9y1"
      }
    },
    {
      "cell_type": "code",
      "source": [
        "%pip install netmiko"
      ],
      "metadata": {
        "id": "Vdge81NtJQjk"
      },
      "execution_count": null,
      "outputs": []
    },
    {
      "cell_type": "code",
      "source": [
        "from netmiko import ConnectHandler\n",
        "\n",
        "device = {\n",
        "    'device_type': 'cisco_ios',\n",
        "    'host': '192.168.1.1',\n",
        "    'username': 'admin',\n",
        "    'password': 'password',\n",
        "}\n",
        "\n",
        "ssh = ConnectHandler(**device)\n",
        "output = ssh.send_command('show ip interface brief')\n",
        "print(output)\n",
        "ssh.disconnect()"
      ],
      "metadata": {
        "id": "3B1DEbscJVbb"
      },
      "execution_count": null,
      "outputs": []
    },
    {
      "cell_type": "markdown",
      "source": [
        "#14. Virtual network functions (VNFs)"
      ],
      "metadata": {
        "id": "2TUcwJ2QJZHr"
      }
    },
    {
      "cell_type": "markdown",
      "source": [
        "Virtual network functions (VNFs) are software-based network services that replicate the functions of traditional networking hardware, such as routers, firewalls, or load balancers, running on virtualized infrastructure."
      ],
      "metadata": {
        "id": "E0Ut7tIhJZ47"
      }
    },
    {
      "cell_type": "markdown",
      "source": [
        "#15. Network Orchestrator"
      ],
      "metadata": {
        "id": "WAvhN84_JjIr"
      }
    },
    {
      "cell_type": "markdown",
      "source": [
        "A network orchestrator is a software platform that automates and coordinates the deployment, configuration, and management of network resources and services within a network infrastructure."
      ],
      "metadata": {
        "id": "e72m6PfyKJaT"
      }
    },
    {
      "cell_type": "code",
      "source": [
        "%pip install napalm"
      ],
      "metadata": {
        "id": "QQLEg7a1rwRS"
      },
      "execution_count": null,
      "outputs": []
    },
    {
      "cell_type": "code",
      "source": [
        "import napalm\n",
        "\n",
        "driver = napalm.get_network_driver('ios')\n",
        "device = {\n",
        "    'hostname': '192.168.1.1',\n",
        "    'username': 'admin',\n",
        "    'password': 'password',\n",
        "}\n",
        "\n",
        "with driver(**device) as device:\n",
        "    device.open()\n",
        "    facts = device.get_facts()\n",
        "    print(facts)\n",
        "    device.close()"
      ],
      "metadata": {
        "id": "55OLFfe4r1Lh"
      },
      "execution_count": null,
      "outputs": []
    }
  ]
}