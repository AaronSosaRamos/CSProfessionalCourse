{
  "nbformat": 4,
  "nbformat_minor": 0,
  "metadata": {
    "colab": {
      "provenance": []
    },
    "kernelspec": {
      "name": "python3",
      "display_name": "Python 3"
    },
    "language_info": {
      "name": "python"
    }
  },
  "cells": [
    {
      "cell_type": "markdown",
      "source": [
        "#Introduction to Platform-Based Development"
      ],
      "metadata": {
        "id": "0SpOKnUfCEDi"
      }
    },
    {
      "cell_type": "markdown",
      "source": [
        "Platform-based development involves creating applications using frameworks, libraries, and specific environments tailored for a particular platform such as web, mobile, or desktop.\n",
        "\n"
      ],
      "metadata": {
        "id": "Kz2LJ5lPEOLn"
      }
    },
    {
      "cell_type": "code",
      "execution_count": null,
      "metadata": {
        "id": "Qzi6qvIQB0Iz"
      },
      "outputs": [],
      "source": [
        "# Installing Django (if not already installed)\n",
        "# pip install django\n",
        "\n",
        "# Creating a new Django project\n",
        "django-admin startproject mywebapp\n",
        "\n",
        "# Creating a new app within the project\n",
        "cd mywebapp\n",
        "python manage.py startapp mainapp\n",
        "\n",
        "# Defining a simple view\n",
        "# mainapp/views.py\n",
        "from django.http import HttpResponse\n",
        "\n",
        "def home(request):\n",
        "    return HttpResponse(\"Hello, world! This is my first web app with Django.\")\n",
        "\n",
        "# Configuring the URL for the view\n",
        "# mywebapp/urls.py\n",
        "from django.urls import path\n",
        "from mainapp import views\n",
        "\n",
        "urlpatterns = [\n",
        "    path('', views.home, name='home'),\n",
        "]\n",
        "\n",
        "# Running the development server\n",
        "python manage.py runserver"
      ]
    },
    {
      "cell_type": "markdown",
      "source": [
        "#Front End Applications"
      ],
      "metadata": {
        "id": "i5tob3UlERVH"
      }
    },
    {
      "cell_type": "markdown",
      "source": [
        "Front End applications refer to the part of an application or website that users interact with directly in their web browser or device. It includes design, user interface, and client-side logic.\n",
        "\n"
      ],
      "metadata": {
        "id": "wAUWXnkCESm_"
      }
    },
    {
      "cell_type": "code",
      "source": [
        "from flask import Flask, jsonify\n",
        "\n",
        "app = Flask(__name__)\n",
        "\n",
        "# Example of a simple API that returns data in JSON format\n",
        "@app.route('/api/data')\n",
        "def get_data():\n",
        "    data = {'message': 'Hello from Flask API'}\n",
        "    return jsonify(data)\n",
        "\n",
        "if __name__ == '__main__':\n",
        "    app.run(debug=True)"
      ],
      "metadata": {
        "colab": {
          "base_uri": "https://localhost:8080/"
        },
        "id": "rsNXOAJcETBe",
        "outputId": "25540609-da9e-49ac-a9d1-d0491d2ab2c7"
      },
      "execution_count": null,
      "outputs": [
        {
          "output_type": "stream",
          "name": "stdout",
          "text": [
            " * Serving Flask app '__main__'\n",
            " * Debug mode: on\n"
          ]
        },
        {
          "output_type": "stream",
          "name": "stderr",
          "text": [
            "INFO:werkzeug:\u001b[31m\u001b[1mWARNING: This is a development server. Do not use it in a production deployment. Use a production WSGI server instead.\u001b[0m\n",
            " * Running on http://127.0.0.1:5000\n",
            "INFO:werkzeug:\u001b[33mPress CTRL+C to quit\u001b[0m\n",
            "INFO:werkzeug: * Restarting with stat\n"
          ]
        }
      ]
    },
    {
      "cell_type": "markdown",
      "source": [
        "#Back End Applications"
      ],
      "metadata": {
        "id": "gHxS628GEXFG"
      }
    },
    {
      "cell_type": "markdown",
      "source": [
        "Back End applications handle the business logic and interaction with the database of an application. These applications are often written in languages like Python, Java, or Node.js.\n",
        "\n"
      ],
      "metadata": {
        "id": "ZZnDDjhXEYSe"
      }
    },
    {
      "cell_type": "code",
      "source": [
        "from flask import Flask, jsonify\n",
        "from flask_sqlalchemy import SQLAlchemy\n",
        "\n",
        "app = Flask(__name__)\n",
        "app.config['SQLALCHEMY_DATABASE_URI'] = 'sqlite:///example.db'\n",
        "db = SQLAlchemy(app)\n",
        "\n",
        "# Defining a simple data model\n",
        "class User(db.Model):\n",
        "    id = db.Column(db.Integer, primary_key=True)\n",
        "    username = db.Column(db.String(80), unique=True, nullable=False)\n",
        "\n",
        "    def __repr__(self):\n",
        "        return f'<User {self.username}>'\n",
        "\n",
        "# Example route that queries and returns data from the database\n",
        "@app.route('/api/users')\n",
        "def get_users():\n",
        "    users = User.query.all()\n",
        "    user_list = [{'id': user.id, 'username': user.username} for user in users]\n",
        "    return jsonify(user_list)\n",
        "\n",
        "if __name__ == '__main__':\n",
        "    app.run(debug=True)"
      ],
      "metadata": {
        "id": "87ETWvr4Echv"
      },
      "execution_count": null,
      "outputs": []
    },
    {
      "cell_type": "markdown",
      "source": [
        "#Mobile Applications"
      ],
      "metadata": {
        "id": "6TsKG8LfEeM-"
      }
    },
    {
      "cell_type": "markdown",
      "source": [
        "Mobile applications are programs designed to be used on mobile devices such as smartphones and tablets. They can be developed using native technologies (like Kotlin or Swift) or using cross-platform frameworks like Flutter or React Native."
      ],
      "metadata": {
        "id": "N_nc-gjXEfOd"
      }
    },
    {
      "cell_type": "code",
      "source": [
        "# Installing Kivy (if not already installed)\n",
        "# pip install kivy\n",
        "\n",
        "from kivy.app import App\n",
        "from kivy.uix.label import Label\n",
        "\n",
        "class MyApp(App):\n",
        "    def build(self):\n",
        "        return Label(text='Hello, world! This is my first mobile app with Kivy.')\n",
        "\n",
        "if __name__ == '__main__':\n",
        "    MyApp().run()"
      ],
      "metadata": {
        "id": "lkXdE46OEgbO"
      },
      "execution_count": null,
      "outputs": []
    },
    {
      "cell_type": "markdown",
      "source": [
        "#Databases"
      ],
      "metadata": {
        "id": "pPXuQDu1Elbe"
      }
    },
    {
      "cell_type": "markdown",
      "source": [
        "Databases are systems for storing and managing large volumes of data efficiently. Python has various libraries and tools for interacting with both relational and non-relational databases."
      ],
      "metadata": {
        "id": "nOtzPvP8EmUO"
      }
    },
    {
      "cell_type": "code",
      "source": [
        "from sqlalchemy import create_engine, Column, Integer, String\n",
        "from sqlalchemy.ext.declarative import declarative_base\n",
        "from sqlalchemy.orm import sessionmaker\n",
        "\n",
        "# Create a SQLite database engine\n",
        "engine = create_engine('sqlite:///example.db', echo=True)\n",
        "\n",
        "# Create a base class to define models\n",
        "Base = declarative_base()\n",
        "\n",
        "# Define a data model\n",
        "class User(Base):\n",
        "    __tablename__ = 'users'\n",
        "    id = Column(Integer, primary_key=True)\n",
        "    username = Column(String, unique=True, nullable=False)\n",
        "\n",
        "# Create tables in the database\n",
        "Base.metadata.create_all(engine)\n",
        "\n",
        "# Create a session to interact with the database\n",
        "Session = sessionmaker(bind=engine)\n",
        "session = Session()\n",
        "\n",
        "# Example of creating and querying users\n",
        "new_user = User(username='john_doe')\n",
        "session.add(new_user)\n",
        "session.commit()\n",
        "\n",
        "# Query all users\n",
        "users = session.query(User).all()\n",
        "for user in users:\n",
        "    print(user.username)\n",
        "\n",
        "session.close()"
      ],
      "metadata": {
        "id": "HrY_Yw4CEnX2"
      },
      "execution_count": null,
      "outputs": []
    },
    {
      "cell_type": "markdown",
      "source": [
        "# Modeling for the Web"
      ],
      "metadata": {
        "id": "mi8vPPMpFNwG"
      }
    },
    {
      "cell_type": "markdown",
      "source": [
        "Modeling for the web involves designing and structuring components of web applications, including relational databases, client-server models, and internet communication protocols.\n",
        "\n"
      ],
      "metadata": {
        "id": "1EghBLTtFXn_"
      }
    },
    {
      "cell_type": "markdown",
      "source": [
        "# Relational Database"
      ],
      "metadata": {
        "id": "fovfvdCSFcFG"
      }
    },
    {
      "cell_type": "markdown",
      "source": [
        "A relational database is a type of database that organizes data into tables with predefined relationships between them."
      ],
      "metadata": {
        "id": "ddRKo9_5Fdie"
      }
    },
    {
      "cell_type": "markdown",
      "source": [
        "# Manipulating Data"
      ],
      "metadata": {
        "id": "hSxVGO_XFfd-"
      }
    },
    {
      "cell_type": "code",
      "source": [
        "import sqlite3\n",
        "\n",
        "# Connect to an in-memory SQLite database\n",
        "conn = sqlite3.connect(':memory:')\n",
        "\n",
        "# Create a cursor object to execute SQL queries\n",
        "cursor = conn.cursor()\n",
        "\n",
        "# Create a table\n",
        "cursor.execute('CREATE TABLE users (id INTEGER PRIMARY KEY, name TEXT, age INTEGER)')\n",
        "\n",
        "# Insert data into the table\n",
        "cursor.execute('INSERT INTO users (name, age) VALUES (?, ?)', ('Alice', 30))\n",
        "cursor.execute('INSERT INTO users (name, age) VALUES (?, ?)', ('Bob', 25))\n",
        "\n",
        "# Commit the changes\n",
        "conn.commit()\n",
        "\n",
        "# Query the data\n",
        "cursor.execute('SELECT * FROM users')\n",
        "rows = cursor.fetchall()\n",
        "\n",
        "# Display the data\n",
        "for row in rows:\n",
        "    print(row)\n",
        "\n",
        "# Close the connection\n",
        "conn.close()"
      ],
      "metadata": {
        "colab": {
          "base_uri": "https://localhost:8080/"
        },
        "id": "r5j8PUYzFYjH",
        "outputId": "3520f839-6819-44dc-ddda-6a3657511ecc"
      },
      "execution_count": null,
      "outputs": [
        {
          "output_type": "stream",
          "name": "stdout",
          "text": [
            "(1, 'Alice', 30)\n",
            "(2, 'Bob', 25)\n"
          ]
        }
      ]
    },
    {
      "cell_type": "markdown",
      "source": [
        "#Performing Queries"
      ],
      "metadata": {
        "id": "_Zz-0DSDFjoi"
      }
    },
    {
      "cell_type": "code",
      "source": [
        "import sqlite3\n",
        "\n",
        "# Connect to an in-memory SQLite database\n",
        "conn = sqlite3.connect(':memory:')\n",
        "\n",
        "# Create a cursor object to execute SQL queries\n",
        "cursor = conn.cursor()\n",
        "\n",
        "# Create a table\n",
        "cursor.execute('CREATE TABLE users (id INTEGER PRIMARY KEY, name TEXT, age INTEGER)')\n",
        "\n",
        "# Insert data into the table\n",
        "cursor.execute('INSERT INTO users (name, age) VALUES (?, ?)', ('Alice', 30))\n",
        "cursor.execute('INSERT INTO users (name, age) VALUES (?, ?)', ('Bob', 25))\n",
        "cursor.execute('INSERT INTO users (name, age) VALUES (?, ?)', ('Charlie', 35))\n",
        "\n",
        "# Commit the changes\n",
        "conn.commit()\n",
        "\n",
        "# Perform a query to retrieve users older than 30\n",
        "cursor.execute('SELECT * FROM users WHERE age > ?', (30,))\n",
        "rows = cursor.fetchall()\n",
        "\n",
        "# Display the data\n",
        "for row in rows:\n",
        "    print(row)\n",
        "\n",
        "# Close the connection\n",
        "conn.close()"
      ],
      "metadata": {
        "colab": {
          "base_uri": "https://localhost:8080/"
        },
        "id": "peu3BVb1Flpj",
        "outputId": "20f6fdfd-1541-46f8-9e5c-82a7b96ba98c"
      },
      "execution_count": null,
      "outputs": [
        {
          "output_type": "stream",
          "name": "stdout",
          "text": [
            "(3, 'Charlie', 35)\n"
          ]
        }
      ]
    },
    {
      "cell_type": "markdown",
      "source": [
        "#Structuring Data"
      ],
      "metadata": {
        "id": "5fdG3eBTFpaK"
      }
    },
    {
      "cell_type": "code",
      "source": [
        "import sqlite3\n",
        "\n",
        "# Connect to an in-memory SQLite database\n",
        "conn = sqlite3.connect(':memory:')\n",
        "\n",
        "# Create a cursor object to execute SQL queries\n",
        "cursor = conn.cursor()\n",
        "\n",
        "# Create tables with relationships\n",
        "cursor.execute('CREATE TABLE users (id INTEGER PRIMARY KEY, name TEXT)')\n",
        "cursor.execute('CREATE TABLE posts (id INTEGER PRIMARY KEY, user_id INTEGER, content TEXT, FOREIGN KEY(user_id) REFERENCES users(id))')\n",
        "\n",
        "# Insert data into the tables\n",
        "cursor.execute('INSERT INTO users (name) VALUES (?)', ('Alice',))\n",
        "cursor.execute('INSERT INTO users (name) VALUES (?)', ('Bob',))\n",
        "cursor.execute('INSERT INTO posts (user_id, content) VALUES (?, ?)', (1, 'Hello from Alice!'))\n",
        "cursor.execute('INSERT INTO posts (user_id, content) VALUES (?, ?)', (2, 'Greetings from Bob!'))\n",
        "\n",
        "# Commit the changes\n",
        "conn.commit()\n",
        "\n",
        "# Perform a join query to retrieve user and post data\n",
        "cursor.execute('SELECT users.name, posts.content FROM posts JOIN users ON posts.user_id = users.id')\n",
        "rows = cursor.fetchall()\n",
        "\n",
        "# Display the data\n",
        "for row in rows:\n",
        "    print(row)\n",
        "\n",
        "# Close the connection\n",
        "conn.close()"
      ],
      "metadata": {
        "colab": {
          "base_uri": "https://localhost:8080/"
        },
        "id": "2-IQC7xzFqbq",
        "outputId": "314e46ee-479d-4918-9b4b-234a2a0e6448"
      },
      "execution_count": null,
      "outputs": [
        {
          "output_type": "stream",
          "name": "stdout",
          "text": [
            "('Alice', 'Hello from Alice!')\n",
            "('Bob', 'Greetings from Bob!')\n"
          ]
        }
      ]
    },
    {
      "cell_type": "markdown",
      "source": [
        "#Client-Server Model"
      ],
      "metadata": {
        "id": "uLSHvoNCGbnF"
      }
    },
    {
      "cell_type": "markdown",
      "source": [
        "The client-server model involves communication between clients (which request services or resources) and servers (which provide services or resources).\n",
        "\n"
      ],
      "metadata": {
        "id": "A1Yfcc_-Gcst"
      }
    },
    {
      "cell_type": "code",
      "source": [
        "import socket\n",
        "\n",
        "# Create a TCP/IP socket\n",
        "server_socket = socket.socket(socket.AF_INET, socket.SOCK_STREAM)\n",
        "\n",
        "# Bind the socket to the address and port\n",
        "server_address = ('localhost', 8080)\n",
        "server_socket.bind(server_address)\n",
        "\n",
        "# Listen for incoming connections\n",
        "server_socket.listen(1)\n",
        "\n",
        "print(\"Server is listening on port 8080...\")\n",
        "\n",
        "while True:\n",
        "    # Wait for a connection\n",
        "    client_socket, client_address = server_socket.accept()\n",
        "\n",
        "    try:\n",
        "        print(f\"Connection from {client_address}\")\n",
        "\n",
        "        # Receive data from the client\n",
        "        while True:\n",
        "            data = client_socket.recv(1024)\n",
        "            if not data:\n",
        "                break\n",
        "            print(f\"Received: {data.decode()}\")\n",
        "            # Echo back the received data\n",
        "            client_socket.sendall(data)\n",
        "\n",
        "    finally:\n",
        "        # Clean up the connection\n",
        "        client_socket.close()"
      ],
      "metadata": {
        "id": "V8utrJIEGdeF"
      },
      "execution_count": null,
      "outputs": []
    },
    {
      "cell_type": "code",
      "source": [
        "import socket\n",
        "\n",
        "# Create a TCP/IP socket\n",
        "client_socket = socket.socket(socket.AF_INET, socket.SOCK_STREAM)\n",
        "\n",
        "# Connect the socket to the server's address and port\n",
        "server_address = ('localhost', 8080)\n",
        "client_socket.connect(server_address)\n",
        "\n",
        "try:\n",
        "    # Send data to the server\n",
        "    message = \"Hello, server!\"\n",
        "    client_socket.sendall(message.encode())\n",
        "\n",
        "    # Receive echoed data from the server\n",
        "    data = client_socket.recv(1024)\n",
        "    print(f\"Received from server: {data.decode()}\")\n",
        "\n",
        "finally:\n",
        "    # Clean up the connection\n",
        "    client_socket.close()\n"
      ],
      "metadata": {
        "id": "hRSOW-FLGhK9"
      },
      "execution_count": null,
      "outputs": []
    },
    {
      "cell_type": "markdown",
      "source": [
        "#Internet Communication Protocol"
      ],
      "metadata": {
        "id": "1pRI9jbGGgEd"
      }
    },
    {
      "cell_type": "markdown",
      "source": [
        "Internet communication protocols define the rules and conventions for communication between devices on the internet.\n",
        "\n"
      ],
      "metadata": {
        "id": "Tjqfb1GdGkHu"
      }
    },
    {
      "cell_type": "markdown",
      "source": [
        "#TCP/IP"
      ],
      "metadata": {
        "id": "E85oUAjmGmU9"
      }
    },
    {
      "cell_type": "markdown",
      "source": [
        "TCP/IP (Transmission Control Protocol/Internet Protocol) is a suite of communication protocols used for network communication over the internet.\n",
        "\n"
      ],
      "metadata": {
        "id": "9XI6BVI6GnOl"
      }
    },
    {
      "cell_type": "code",
      "source": [
        "import socket\n",
        "import threading\n",
        "\n",
        "# Global list to store client connections\n",
        "clients = []\n",
        "\n",
        "# Function to handle incoming client connections\n",
        "def handle_client(client_socket, client_address):\n",
        "    print(f\"Connected with {client_address}\")\n",
        "\n",
        "    # Add client socket to the list of clients\n",
        "    clients.append(client_socket)\n",
        "\n",
        "    try:\n",
        "        while True:\n",
        "            # Receive message from the client\n",
        "            message = client_socket.recv(1024).decode()\n",
        "            if not message:\n",
        "                break\n",
        "\n",
        "            # Broadcast the message to all connected clients\n",
        "            broadcast_message(message, client_socket)\n",
        "\n",
        "    except ConnectionResetError:\n",
        "        pass\n",
        "\n",
        "    finally:\n",
        "        # Client disconnected\n",
        "        print(f\"Disconnected from {client_address}\")\n",
        "        clients.remove(client_socket)\n",
        "        client_socket.close()\n",
        "\n",
        "# Function to broadcast message to all clients except the sender\n",
        "def broadcast_message(message, sender_socket):\n",
        "    for client in clients:\n",
        "        if client != sender_socket:\n",
        "            try:\n",
        "                client.sendall(message.encode())\n",
        "            except:\n",
        "                # Handle broken connections\n",
        "                clients.remove(client)\n",
        "\n",
        "# Create a TCP/IP socket\n",
        "server_socket = socket.socket(socket.AF_INET, socket.SOCK_STREAM)\n",
        "\n",
        "# Bind the socket to the address and port\n",
        "server_address = ('localhost', 8080)\n",
        "server_socket.bind(server_address)\n",
        "\n",
        "# Listen for incoming connections\n",
        "server_socket.listen(5)\n",
        "print(\"Server is listening on port 8080...\")\n",
        "\n",
        "try:\n",
        "    while True:\n",
        "        # Accept incoming connection\n",
        "        client_socket, client_address = server_socket.accept()\n",
        "\n",
        "        # Start a new thread to handle the client\n",
        "        client_thread = threading.Thread(target=handle_client, args=(client_socket, client_address))\n",
        "        client_thread.start()\n",
        "\n",
        "except KeyboardInterrupt:\n",
        "    print(\"Server shutting down...\")\n",
        "    for client in clients:\n",
        "        client.close()\n",
        "\n",
        "    server_socket.close()"
      ],
      "metadata": {
        "id": "l2cWPh0yGnp8"
      },
      "execution_count": null,
      "outputs": []
    },
    {
      "cell_type": "code",
      "source": [
        "import socket\n",
        "import threading\n",
        "\n",
        "# Function to handle receiving messages from server\n",
        "def receive_messages(client_socket):\n",
        "    while True:\n",
        "        try:\n",
        "            # Receive message from server\n",
        "            message = client_socket.recv(1024).decode()\n",
        "            if not message:\n",
        "                break\n",
        "            print(message)\n",
        "        except:\n",
        "            break\n",
        "\n",
        "# Create a TCP/IP socket\n",
        "client_socket = socket.socket(socket.AF_INET, socket.SOCK_STREAM)\n",
        "\n",
        "# Connect the socket to the server's address and port\n",
        "server_address = ('localhost', 8080)\n",
        "client_socket.connect(server_address)\n",
        "\n",
        "# Start a thread to receive messages from the server\n",
        "receive_thread = threading.Thread(target=receive_messages, args=(client_socket,))\n",
        "receive_thread.start()\n",
        "\n",
        "try:\n",
        "    # Send messages to the server\n",
        "    while True:\n",
        "        message = input()\n",
        "        client_socket.sendall(message.encode())\n",
        "\n",
        "except KeyboardInterrupt:\n",
        "    client_socket.close()"
      ],
      "metadata": {
        "id": "yKn_Kg-zINo7"
      },
      "execution_count": null,
      "outputs": []
    }
  ]
}