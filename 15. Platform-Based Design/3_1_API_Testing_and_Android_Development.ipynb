{
  "nbformat": 4,
  "nbformat_minor": 0,
  "metadata": {
    "colab": {
      "provenance": []
    },
    "kernelspec": {
      "name": "python3",
      "display_name": "Python 3"
    },
    "language_info": {
      "name": "python"
    }
  },
  "cells": [
    {
      "cell_type": "markdown",
      "source": [
        "#API Testing"
      ],
      "metadata": {
        "id": "_au_GDgcQhAZ"
      }
    },
    {
      "cell_type": "markdown",
      "source": [
        "#TDD (Test-Driven Development)"
      ],
      "metadata": {
        "id": "m-LMVLH9QiKH"
      }
    },
    {
      "cell_type": "markdown",
      "source": [
        "Test-Driven Development (TDD) is a software development approach where tests are written before the actual implementation of the code. The development process involves:"
      ],
      "metadata": {
        "id": "9pCNTTCKQkyP"
      }
    },
    {
      "cell_type": "markdown",
      "source": [
        "1. Writing a test that defines a new function or improvement.\n",
        "2. Running the test (which should fail because the feature isn't implemented yet).\n",
        "3. Writing the code to make the test pass.\n",
        "4. Running the test again.\n",
        "5. Refactoring the code to improve its structure while ensuring all tests continue to pass."
      ],
      "metadata": {
        "id": "KGW7-wq7Qmg4"
      }
    },
    {
      "cell_type": "code",
      "source": [
        "%pip install pytest"
      ],
      "metadata": {
        "colab": {
          "base_uri": "https://localhost:8080/"
        },
        "id": "PFkQFwWoR3x1",
        "outputId": "0abaffe6-9892-4b48-cd8f-e5bc54ef04af"
      },
      "execution_count": null,
      "outputs": [
        {
          "output_type": "stream",
          "name": "stdout",
          "text": [
            "Requirement already satisfied: pytest in /usr/local/lib/python3.10/dist-packages (7.4.4)\n",
            "Requirement already satisfied: iniconfig in /usr/local/lib/python3.10/dist-packages (from pytest) (2.0.0)\n",
            "Requirement already satisfied: packaging in /usr/local/lib/python3.10/dist-packages (from pytest) (24.0)\n",
            "Requirement already satisfied: pluggy<2.0,>=0.12 in /usr/local/lib/python3.10/dist-packages (from pytest) (1.4.0)\n",
            "Requirement already satisfied: exceptiongroup>=1.0.0rc8 in /usr/local/lib/python3.10/dist-packages (from pytest) (1.2.0)\n",
            "Requirement already satisfied: tomli>=1.0.0 in /usr/local/lib/python3.10/dist-packages (from pytest) (2.0.1)\n"
          ]
        }
      ]
    },
    {
      "cell_type": "code",
      "source": [
        "%%writefile test_addition.py\n",
        "\n",
        "# Function to test\n",
        "def add_numbers(a, b):\n",
        "    return a + b\n",
        "\n",
        "# Test cases using pytest\n",
        "def test_add_positive_numbers():\n",
        "    assert add_numbers(3, 5) == 8\n",
        "\n",
        "def test_add_negative_numbers():\n",
        "    assert add_numbers(-1, -3) == -4\n",
        "\n",
        "def test_add_mixed_numbers():\n",
        "    assert add_numbers(10, -7) == 3"
      ],
      "metadata": {
        "colab": {
          "base_uri": "https://localhost:8080/"
        },
        "id": "bWu3vDrARpAt",
        "outputId": "2dd6c8e1-619e-46ef-e748-6702eda5737b"
      },
      "execution_count": null,
      "outputs": [
        {
          "output_type": "stream",
          "name": "stdout",
          "text": [
            "Writing test_addition.py\n"
          ]
        }
      ]
    },
    {
      "cell_type": "code",
      "source": [
        "!pytest test_addition.py"
      ],
      "metadata": {
        "colab": {
          "base_uri": "https://localhost:8080/"
        },
        "id": "fmdu-Qv-SGKt",
        "outputId": "fffa4a2f-be5b-48bd-c7cb-b9a519dc58df"
      },
      "execution_count": null,
      "outputs": [
        {
          "output_type": "stream",
          "name": "stdout",
          "text": [
            "\u001b[1m======================================= test session starts ========================================\u001b[0m\n",
            "platform linux -- Python 3.10.12, pytest-7.4.4, pluggy-1.4.0\n",
            "rootdir: /content\n",
            "plugins: anyio-3.7.1\n",
            "\u001b[1mcollecting ... \u001b[0m\u001b[1m\rcollected 3 items                                                                                  \u001b[0m\n",
            "\n",
            "test_addition.py \u001b[32m.\u001b[0m\u001b[32m.\u001b[0m\u001b[32m.\u001b[0m\u001b[32m                                                                         [100%]\u001b[0m\n",
            "\n",
            "\u001b[32m======================================== \u001b[32m\u001b[1m3 passed\u001b[0m\u001b[32m in 0.02s\u001b[0m\u001b[32m =========================================\u001b[0m\n"
          ]
        }
      ]
    },
    {
      "cell_type": "markdown",
      "source": [
        "#Unit Testing"
      ],
      "metadata": {
        "id": "JnbqbyVjQ5FH"
      }
    },
    {
      "cell_type": "markdown",
      "source": [
        "Unit testing involves testing individual units or components of a software application in isolation. This is achieved by writing test cases that verify the behavior of specific functions or methods.\n",
        "\n"
      ],
      "metadata": {
        "id": "aR4QpYCXQ6wu"
      }
    },
    {
      "cell_type": "code",
      "source": [
        "%%writefile calculator.py\n",
        "\n",
        "class Calculator:\n",
        "    def add(self, a, b):\n",
        "        return a + b\n",
        "\n",
        "    def subtract(self, a, b):\n",
        "        return a - b\n",
        "\n",
        "    def multiply(self, a, b):\n",
        "        return a * b\n",
        "\n",
        "    def divide(self, a, b):\n",
        "        if b == 0:\n",
        "            raise ValueError(\"Cannot divide by zero\")\n",
        "        return a / b"
      ],
      "metadata": {
        "colab": {
          "base_uri": "https://localhost:8080/"
        },
        "id": "JN84-2pWSq8M",
        "outputId": "2854eafb-3c23-4d29-f533-ea533fd8f468"
      },
      "execution_count": null,
      "outputs": [
        {
          "output_type": "stream",
          "name": "stdout",
          "text": [
            "Writing calculator.py\n"
          ]
        }
      ]
    },
    {
      "cell_type": "code",
      "source": [
        "%%writefile test_calculator.py\n",
        "\n",
        "import pytest\n",
        "from calculator import Calculator\n",
        "\n",
        "@pytest.fixture\n",
        "def calculator():\n",
        "    return Calculator()\n",
        "\n",
        "def test_addition(calculator):\n",
        "    assert calculator.add(3, 5) == 8\n",
        "\n",
        "def test_subtraction(calculator):\n",
        "    assert calculator.subtract(10, 3) == 7\n",
        "\n",
        "def test_multiplication(calculator):\n",
        "    assert calculator.multiply(4, 6) == 24\n",
        "\n",
        "def test_division(calculator):\n",
        "    assert calculator.divide(10, 2) == 5\n",
        "\n",
        "def test_divide_by_zero_error(calculator):\n",
        "    with pytest.raises(ValueError):\n",
        "        calculator.divide(8, 0)\n",
        "\n",
        "@pytest.mark.parametrize(\"a, b, expected_result\", [\n",
        "    (5, 3, 8),\n",
        "    (-2, 7, 5),\n",
        "    (0, 0, 0),\n",
        "    (10, -3, 7)\n",
        "])\n",
        "def test_addition_parameterized(calculator, a, b, expected_result):\n",
        "    result = calculator.add(a, b)\n",
        "    assert result == expected_result"
      ],
      "metadata": {
        "colab": {
          "base_uri": "https://localhost:8080/"
        },
        "id": "PEXLss3ASs5U",
        "outputId": "85b1591f-0cb2-42ed-bd29-305c9209bc6a"
      },
      "execution_count": null,
      "outputs": [
        {
          "output_type": "stream",
          "name": "stdout",
          "text": [
            "Writing test_calculator.py\n"
          ]
        }
      ]
    },
    {
      "cell_type": "code",
      "source": [
        "!pytest -v test_calculator.py"
      ],
      "metadata": {
        "colab": {
          "base_uri": "https://localhost:8080/"
        },
        "id": "NNSXW2PrSyIc",
        "outputId": "8f4e6f81-54ef-45bd-aff1-217bed9fde94"
      },
      "execution_count": null,
      "outputs": [
        {
          "output_type": "stream",
          "name": "stdout",
          "text": [
            "\u001b[1m======================================= test session starts ========================================\u001b[0m\n",
            "platform linux -- Python 3.10.12, pytest-7.4.4, pluggy-1.4.0 -- /usr/bin/python3\n",
            "cachedir: .pytest_cache\n",
            "rootdir: /content\n",
            "plugins: anyio-3.7.1\n",
            "\u001b[1mcollecting ... \u001b[0m\u001b[1m\rcollected 9 items                                                                                  \u001b[0m\n",
            "\n",
            "test_calculator.py::test_addition \u001b[32mPASSED\u001b[0m\u001b[32m                                                     [ 11%]\u001b[0m\n",
            "test_calculator.py::test_subtraction \u001b[32mPASSED\u001b[0m\u001b[32m                                                  [ 22%]\u001b[0m\n",
            "test_calculator.py::test_multiplication \u001b[32mPASSED\u001b[0m\u001b[32m                                               [ 33%]\u001b[0m\n",
            "test_calculator.py::test_division \u001b[32mPASSED\u001b[0m\u001b[32m                                                     [ 44%]\u001b[0m\n",
            "test_calculator.py::test_divide_by_zero_error \u001b[32mPASSED\u001b[0m\u001b[32m                                         [ 55%]\u001b[0m\n",
            "test_calculator.py::test_addition_parameterized[5-3-8] \u001b[32mPASSED\u001b[0m\u001b[32m                                [ 66%]\u001b[0m\n",
            "test_calculator.py::test_addition_parameterized[-2-7-5] \u001b[32mPASSED\u001b[0m\u001b[32m                               [ 77%]\u001b[0m\n",
            "test_calculator.py::test_addition_parameterized[0-0-0] \u001b[32mPASSED\u001b[0m\u001b[32m                                [ 88%]\u001b[0m\n",
            "test_calculator.py::test_addition_parameterized[10--3-7] \u001b[32mPASSED\u001b[0m\u001b[32m                              [100%]\u001b[0m\n",
            "\n",
            "\u001b[32m======================================== \u001b[32m\u001b[1m9 passed\u001b[0m\u001b[32m in 0.04s\u001b[0m\u001b[32m =========================================\u001b[0m\n"
          ]
        }
      ]
    },
    {
      "cell_type": "markdown",
      "source": [
        "#Android Devices and Version Support\n",
        "Android devices vary in hardware specifications and software versions. When developing Android applications, it's essential to consider device compatibility and target Android versions to ensure optimal user experience across different devices.\n",
        "\n"
      ],
      "metadata": {
        "id": "bptZSedqS6KU"
      }
    },
    {
      "cell_type": "code",
      "source": [
        "// Example of supporting multiple Android versions in AndroidManifest.xml\n",
        "<uses-sdk\n",
        "    android:minSdkVersion=\"15\"\n",
        "    android:targetSdkVersion=\"30\" />"
      ],
      "metadata": {
        "id": "eg6Lz3shS--H"
      },
      "execution_count": null,
      "outputs": []
    },
    {
      "cell_type": "markdown",
      "source": [
        "#Creating a Hello World in Android"
      ],
      "metadata": {
        "id": "huKdcs4bTCke"
      }
    },
    {
      "cell_type": "markdown",
      "source": [
        "#Android SDK"
      ],
      "metadata": {
        "id": "gN4pn4WbTbVT"
      }
    },
    {
      "cell_type": "markdown",
      "source": [
        "The Android SDK (Software Development Kit) provides tools and libraries necessary for developing Android applications. It includes compilers, debugging tools, emulators, and more.\n",
        "\n"
      ],
      "metadata": {
        "id": "LLYx3cWDTdot"
      }
    },
    {
      "cell_type": "code",
      "source": [
        "# Example SDK installation command\n",
        "sdkmanager \"platforms;android-30\""
      ],
      "metadata": {
        "id": "vv3G9pZYTeNk"
      },
      "execution_count": null,
      "outputs": []
    },
    {
      "cell_type": "markdown",
      "source": [
        "#Android Studio"
      ],
      "metadata": {
        "id": "eGGXktrJThXt"
      }
    },
    {
      "cell_type": "markdown",
      "source": [
        "Android Studio is the official Integrated Development Environment (IDE) for Android app development. It provides a rich set of tools for designing, coding, testing, and debugging Android applications.\n",
        "\n"
      ],
      "metadata": {
        "id": "E9Od12DATklk"
      }
    },
    {
      "cell_type": "code",
      "source": [
        "// Example of a simple Hello World app in Android Studio\n",
        "public class MainActivity extends AppCompatActivity {\n",
        "    @Override\n",
        "    protected void onCreate(Bundle savedInstanceState) {\n",
        "        super.onCreate(savedInstanceState);\n",
        "        setContentView(R.layout.activity_main);\n",
        "    }\n",
        "}"
      ],
      "metadata": {
        "id": "fitkBdbXTpL0"
      },
      "execution_count": null,
      "outputs": []
    },
    {
      "cell_type": "markdown",
      "source": [
        "#Emulators - Genymotion\n",
        "Genymotion is a popular third-party Android emulator that provides fast and reliable virtual devices for testing Android applications on different hardware configurations."
      ],
      "metadata": {
        "id": "4oVxA6RsTnFY"
      }
    },
    {
      "cell_type": "code",
      "source": [
        "// Example of using Genymotion emulator for testing\n",
        "// (assuming Genymotion is installed and configured)"
      ],
      "metadata": {
        "id": "FBLnSaAaTuLy"
      },
      "execution_count": null,
      "outputs": []
    },
    {
      "cell_type": "markdown",
      "source": [
        "#Android Components"
      ],
      "metadata": {
        "id": "5TFi331kUBVk"
      }
    },
    {
      "cell_type": "markdown",
      "source": [
        "# Activity\n",
        "An Activity in Android represents a single screen with a user interface. It's a fundamental component that handles user interactions."
      ],
      "metadata": {
        "id": "baE9zwrdUDPM"
      }
    },
    {
      "cell_type": "code",
      "source": [
        "// Example of defining an Activity class in Android\n",
        "public class MainActivity extends AppCompatActivity {\n",
        "    @Override\n",
        "    protected void onCreate(Bundle savedInstanceState) {\n",
        "        super.onCreate(savedInstanceState);\n",
        "        setContentView(R.layout.activity_main);\n",
        "    }\n",
        "}"
      ],
      "metadata": {
        "id": "ovg7o1-LUGQJ"
      },
      "execution_count": null,
      "outputs": []
    },
    {
      "cell_type": "markdown",
      "source": [
        "#Fragment\n",
        "A Fragment is a modular section of an Activity that has its own lifecycle and can be reused across multiple activities."
      ],
      "metadata": {
        "id": "EC8A2SPJUOkL"
      }
    },
    {
      "cell_type": "code",
      "source": [
        "public class MyFragment extends Fragment {\n",
        "\n",
        "    public MyFragment() {\n",
        "        // Required empty public constructor\n",
        "    }\n",
        "\n",
        "    @Override\n",
        "    public View onCreateView(LayoutInflater inflater, ViewGroup container,\n",
        "                             Bundle savedInstanceState) {\n",
        "        // Inflate the layout for this fragment\n",
        "        View view = inflater.inflate(R.layout.fragment_my, container, false);\n",
        "\n",
        "        // Initialize views and handle fragment logic here\n",
        "\n",
        "        return view;\n",
        "    }\n",
        "}"
      ],
      "metadata": {
        "id": "LUhREmZxUPcX"
      },
      "execution_count": null,
      "outputs": []
    },
    {
      "cell_type": "markdown",
      "source": [
        "#Intents\n",
        "Intents in Android are messaging objects used to request actions from other components within the app or system."
      ],
      "metadata": {
        "id": "oMYqK3a_Ukmd"
      }
    },
    {
      "cell_type": "markdown",
      "source": [
        "Explicit Intent"
      ],
      "metadata": {
        "id": "Ug0hibDGUslS"
      }
    },
    {
      "cell_type": "code",
      "source": [
        "Intent intent = new Intent(MainActivity.this, SecondActivity.class);\n",
        "intent.putExtra(\"key\", \"value\");\n",
        "startActivity(intent);"
      ],
      "metadata": {
        "id": "DIt60VYkUlpc"
      },
      "execution_count": null,
      "outputs": []
    },
    {
      "cell_type": "markdown",
      "source": [
        "Implicit Intent (Opening a Web Page)"
      ],
      "metadata": {
        "id": "B560bkk1UtNk"
      }
    },
    {
      "cell_type": "code",
      "source": [
        "Intent intent = new Intent(Intent.ACTION_VIEW, Uri.parse(\"https://www.example.com\"));\n",
        "startActivity(intent);"
      ],
      "metadata": {
        "id": "R3GemeP9UoZz"
      },
      "execution_count": null,
      "outputs": []
    },
    {
      "cell_type": "markdown",
      "source": [
        "#Services\n",
        "Services in Android are background components that perform long-running operations independently of the user interface."
      ],
      "metadata": {
        "id": "JLebaNLXUw0l"
      }
    },
    {
      "cell_type": "code",
      "source": [
        "public class MyForegroundService extends Service {\n",
        "\n",
        "    @Override\n",
        "    public int onStartCommand(Intent intent, int flags, int startId) {\n",
        "        // Perform long-running task here\n",
        "\n",
        "        return START_STICKY;\n",
        "    }\n",
        "\n",
        "    @Override\n",
        "    public IBinder onBind(Intent intent) {\n",
        "        return null;\n",
        "    }\n",
        "}"
      ],
      "metadata": {
        "id": "g7ar2pfLUxxu"
      },
      "execution_count": null,
      "outputs": []
    },
    {
      "cell_type": "markdown",
      "source": [
        "#Broadcasts\n",
        "Broadcasts in Android allow the system or apps to deliver events or messages to various components."
      ],
      "metadata": {
        "id": "H7bq1xJSU5uF"
      }
    },
    {
      "cell_type": "code",
      "source": [
        "Intent intent = new Intent(\"com.example.ACTION_CUSTOM\");\n",
        "intent.putExtra(\"message\", \"Hello!\");\n",
        "sendBroadcast(intent);"
      ],
      "metadata": {
        "id": "o_THYj8OU7As"
      },
      "execution_count": null,
      "outputs": []
    },
    {
      "cell_type": "code",
      "source": [
        "public class MyBroadcastReceiver extends BroadcastReceiver {\n",
        "\n",
        "    @Override\n",
        "    public void onReceive(Context context, Intent intent) {\n",
        "        String message = intent.getStringExtra(\"message\");\n",
        "        Toast.makeText(context, message, Toast.LENGTH_SHORT).show();\n",
        "    }\n",
        "}"
      ],
      "metadata": {
        "id": "iLucb8akU9x7"
      },
      "execution_count": null,
      "outputs": []
    },
    {
      "cell_type": "markdown",
      "source": [
        "#Basic Android Application to List Items"
      ],
      "metadata": {
        "id": "7p6k-kOqVCXC"
      }
    },
    {
      "cell_type": "code",
      "source": [
        "dependencies {\n",
        "    implementation 'com.h2database:h2:1.4.200' // H2 database dependency\n",
        "}"
      ],
      "metadata": {
        "id": "GcvrBsxjVERM"
      },
      "execution_count": null,
      "outputs": []
    },
    {
      "cell_type": "code",
      "source": [
        "public class DatabaseHelper extends SQLiteOpenHelper {\n",
        "\n",
        "    private static final String DATABASE_NAME = \"my_database.db\";\n",
        "    private static final int DATABASE_VERSION = 1;\n",
        "\n",
        "    public DatabaseHelper(Context context) {\n",
        "        super(context, DATABASE_NAME, null, DATABASE_VERSION);\n",
        "    }\n",
        "\n",
        "    @Override\n",
        "    public void onCreate(SQLiteDatabase db) {\n",
        "        // Create your database tables here\n",
        "        db.execSQL(\"CREATE TABLE items (_id INTEGER PRIMARY KEY, name TEXT)\");\n",
        "    }\n",
        "\n",
        "    @Override\n",
        "    public void onUpgrade(SQLiteDatabase db, int oldVersion, int newVersion) {\n",
        "        // Upgrade your database (if needed)\n",
        "        // This method is called when DATABASE_VERSION is incremented\n",
        "        db.execSQL(\"DROP TABLE IF EXISTS items\");\n",
        "        onCreate(db);\n",
        "    }\n",
        "}"
      ],
      "metadata": {
        "id": "LSteBct5VRyc"
      },
      "execution_count": null,
      "outputs": []
    },
    {
      "cell_type": "code",
      "source": [
        "public class MainActivity extends AppCompatActivity {\n",
        "\n",
        "    private ListView listView;\n",
        "    private ArrayAdapter<String> adapter;\n",
        "    private DatabaseHelper dbHelper;\n",
        "\n",
        "    @Override\n",
        "    protected void onCreate(Bundle savedInstanceState) {\n",
        "        super.onCreate(savedInstanceState);\n",
        "        setContentView(R.layout.activity_main);\n",
        "\n",
        "        listView = findViewById(R.id.list_view);\n",
        "        dbHelper = new DatabaseHelper(this);\n",
        "\n",
        "        // Populate database with sample data\n",
        "        SQLiteDatabase db = dbHelper.getWritableDatabase();\n",
        "        ContentValues values = new ContentValues();\n",
        "        values.put(\"name\", \"Item 1\");\n",
        "        db.insert(\"items\", null, values);\n",
        "\n",
        "        // Query database and display items in ListView\n",
        "        Cursor cursor = db.rawQuery(\"SELECT name FROM items\", null);\n",
        "        ArrayList<String> itemList = new ArrayList<>();\n",
        "        if (cursor.moveToFirst()) {\n",
        "            do {\n",
        "                String itemName = cursor.getString(cursor.getColumnIndex(\"name\"));\n",
        "                itemList.add(itemName);\n",
        "            } while (cursor.moveToNext());\n",
        "        }\n",
        "        cursor.close();\n",
        "\n",
        "        adapter = new ArrayAdapter<>(this, android.R.layout.simple_list_item_1, itemList);\n",
        "        listView.setAdapter(adapter);\n",
        "    }\n",
        "}\n"
      ],
      "metadata": {
        "id": "8-3bwbEiVTwp"
      },
      "execution_count": null,
      "outputs": []
    },
    {
      "cell_type": "code",
      "source": [
        "<!-- activity_main.xml -->\n",
        "<ListView\n",
        "    android:id=\"@+id/list_view\"\n",
        "    android:layout_width=\"match_parent\"\n",
        "    android:layout_height=\"match_parent\" />"
      ],
      "metadata": {
        "id": "Eq8GsA2sVWSK"
      },
      "execution_count": null,
      "outputs": []
    }
  ]
}