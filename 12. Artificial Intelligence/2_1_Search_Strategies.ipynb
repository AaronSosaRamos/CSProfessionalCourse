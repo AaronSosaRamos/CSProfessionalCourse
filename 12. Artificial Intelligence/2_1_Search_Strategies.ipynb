{
  "nbformat": 4,
  "nbformat_minor": 0,
  "metadata": {
    "colab": {
      "provenance": []
    },
    "kernelspec": {
      "name": "python3",
      "display_name": "Python 3"
    },
    "language_info": {
      "name": "python"
    }
  },
  "cells": [
    {
      "cell_type": "markdown",
      "source": [
        "#Search Strategies"
      ],
      "metadata": {
        "id": "etokf7V1PIqF"
      }
    },
    {
      "cell_type": "markdown",
      "source": [
        "#Problem Spaces and Problem-Solving Spaces via Search\n",
        "* Problem spaces represent the set of all possible states that can be reached from the initial state by applying valid actions.\n",
        "* Problem-solving spaces encompass both problem spaces and the sequence of actions required to reach a goal state."
      ],
      "metadata": {
        "id": "KBom_QEQPzRV"
      }
    },
    {
      "cell_type": "code",
      "source": [
        "graph = {\n",
        "    'A': ['B', 'C'],\n",
        "    'B': ['A', 'D', 'E'],\n",
        "    'C': ['A', 'F'],\n",
        "    'D': ['B'],\n",
        "    'E': ['B', 'F'],\n",
        "    'F': ['C', 'E']\n",
        "}"
      ],
      "metadata": {
        "id": "PrCvz4qxP5dH"
      },
      "execution_count": null,
      "outputs": []
    },
    {
      "cell_type": "code",
      "source": [
        "from collections import deque\n",
        "\n",
        "def bfs(graph, start, goal):\n",
        "    visited = set()\n",
        "    queue = deque([(start, [start])])\n",
        "\n",
        "    while queue:\n",
        "        current_node, path = queue.popleft()\n",
        "        if current_node == goal:\n",
        "            return path\n",
        "        if current_node not in visited:\n",
        "            visited.add(current_node)\n",
        "            for neighbor in graph[current_node]:\n",
        "                queue.append((neighbor, path + [neighbor]))\n",
        "\n",
        "# Applying BFS\n",
        "print(\"Shortest path using BFS:\", bfs(graph, 'A', 'F'))"
      ],
      "metadata": {
        "colab": {
          "base_uri": "https://localhost:8080/"
        },
        "id": "8_txLU-9QBKN",
        "outputId": "ffa1b590-b534-41fe-9ed7-33388b3c2f48"
      },
      "execution_count": null,
      "outputs": [
        {
          "output_type": "stream",
          "name": "stdout",
          "text": [
            "Shortest path using BFS: ['A', 'C', 'F']\n"
          ]
        }
      ]
    },
    {
      "cell_type": "markdown",
      "source": [
        "#Construction of Search Trees, Search Space, Combinatorial Explosion of Search Space"
      ],
      "metadata": {
        "id": "X1ynCyzLQKb8"
      }
    },
    {
      "cell_type": "markdown",
      "source": [
        "Search trees are data structures used to represent the exploration of a search space. The search space refers to the set of all possible states and transitions between states that can be explored during the search process. Combinatorial explosion refers to the rapid growth of the search space as the problem size increases."
      ],
      "metadata": {
        "id": "bc5Lgo2dQLQF"
      }
    },
    {
      "cell_type": "code",
      "source": [
        "class TreeNode:\n",
        "    def __init__(self, data):\n",
        "        self.data = data\n",
        "        self.children = []\n",
        "\n",
        "def dfs(node, goal):\n",
        "    if node.data == goal:\n",
        "        return [node.data]\n",
        "\n",
        "    for child in node.children:\n",
        "        path = dfs(child, goal)\n",
        "        if path:\n",
        "            return [node.data] + path\n",
        "    return None\n",
        "\n",
        "# Creating a sample tree\n",
        "root = TreeNode('A')\n",
        "root.children = [TreeNode('B'), TreeNode('C')]\n",
        "root.children[0].children = [TreeNode('D'), TreeNode('E')]\n",
        "root.children[1].children = [TreeNode('F'), TreeNode('G')]\n",
        "\n",
        "# Applying dfs\n",
        "goal_node = 'E'  # We want to find a path to node 'E'\n",
        "path = dfs(root, goal_node)\n",
        "if path:\n",
        "    print(\"Path to node\", goal_node, \":\", path)\n",
        "else:\n",
        "    print(\"Node\", goal_node, \"not found in the tree.\")"
      ],
      "metadata": {
        "colab": {
          "base_uri": "https://localhost:8080/"
        },
        "id": "RYcS6_q0QkSd",
        "outputId": "13613f6e-6e0f-4208-aa1c-19cb56ced35e"
      },
      "execution_count": null,
      "outputs": [
        {
          "output_type": "stream",
          "name": "stdout",
          "text": [
            "Path to node E : ['A', 'B', 'E']\n"
          ]
        }
      ]
    },
    {
      "cell_type": "markdown",
      "source": [
        "#Heuristics"
      ],
      "metadata": {
        "id": "nMtQ1xK8QxFM"
      }
    },
    {
      "cell_type": "markdown",
      "source": [
        "Heuristics are problem-solving techniques that use estimates or rules of thumb to guide the search process. In search algorithms, heuristics are often used to evaluate the desirability of states and guide the exploration towards the goal."
      ],
      "metadata": {
        "id": "SG-0PxpBQ0U8"
      }
    },
    {
      "cell_type": "code",
      "source": [
        "def heuristic(node, goal):\n",
        "    # Assuming heuristic as the distance between nodes\n",
        "    distances = {'A': 5, 'B': 4, 'C': 3, 'D': 2, 'E': 1, 'F': 0}\n",
        "    return distances[node] + distances[goal]\n",
        "\n",
        "def astar(graph, start, goal, heuristic):\n",
        "    open_set = [(heuristic(start, goal), start)]\n",
        "    closed_set = set()\n",
        "\n",
        "    while open_set:\n",
        "        _, current_node = min(open_set)\n",
        "        open_set.remove((heuristic(current_node, goal), current_node))\n",
        "\n",
        "        if current_node == goal:\n",
        "            return current_node\n",
        "\n",
        "        closed_set.add(current_node)\n",
        "        for neighbor in graph[current_node]:\n",
        "            if neighbor not in closed_set:\n",
        "                open_set.append((heuristic(neighbor, goal), neighbor))\n",
        "\n",
        "# Applying A* Search\n",
        "print(\"Shortest path using A* Search:\", astar(graph, 'A', 'F', heuristic))"
      ],
      "metadata": {
        "colab": {
          "base_uri": "https://localhost:8080/"
        },
        "id": "2PDk9CmRRIHF",
        "outputId": "04636cda-f80c-43af-d29e-d2ac9f69ae2a"
      },
      "execution_count": null,
      "outputs": [
        {
          "output_type": "stream",
          "name": "stdout",
          "text": [
            "Shortest path using A* Search: F\n"
          ]
        }
      ]
    },
    {
      "cell_type": "markdown",
      "source": [
        "#Uninformed Search"
      ],
      "metadata": {
        "id": "-oTdXw6VRPMt"
      }
    },
    {
      "cell_type": "markdown",
      "source": [
        "Uninformed search algorithms explore the search space without using any domain-specific knowledge about the problem. Examples include breadth-first search (BFS) and depth-first search (DFS)."
      ],
      "metadata": {
        "id": "9ylRn4t-RL1l"
      }
    },
    {
      "cell_type": "code",
      "source": [
        "def depth_limited_search(graph, start, goal, depth_limit):\n",
        "    visited = set()\n",
        "    return dls_recursive(graph, start, goal, depth_limit, visited)\n",
        "\n",
        "def dls_recursive(graph, current_node, goal, depth_limit, visited, current_depth=0):\n",
        "    if current_node == goal:\n",
        "        return [current_node]\n",
        "\n",
        "    if current_depth >= depth_limit:\n",
        "        return None\n",
        "\n",
        "    visited.add(current_node)\n",
        "\n",
        "    for neighbor in graph[current_node]:\n",
        "        if neighbor not in visited:\n",
        "            path = dls_recursive(graph, neighbor, goal, depth_limit, visited, current_depth + 1)\n",
        "            if path is not None:\n",
        "                return [current_node] + path\n",
        "\n",
        "    return None\n",
        "\n",
        "# Sample graph\n",
        "graph = {\n",
        "    'A': ['B', 'C'],\n",
        "    'B': ['D', 'E'],\n",
        "    'C': ['F'],\n",
        "    'D': ['G'],\n",
        "    'E': [],\n",
        "    'F': [],\n",
        "    'G': []\n",
        "}\n",
        "\n",
        "# Applying Depth-Limited Search\n",
        "start_node = 'A'\n",
        "goal_node = 'G'\n",
        "depth_limit = 3\n",
        "\n",
        "path = depth_limited_search(graph, start_node, goal_node, depth_limit)\n",
        "if path:\n",
        "    print(\"Path from\", start_node, \"to\", goal_node, \":\", path)\n",
        "else:\n",
        "    print(\"No path found within the depth limit.\")"
      ],
      "metadata": {
        "colab": {
          "base_uri": "https://localhost:8080/"
        },
        "id": "gNMNqL36RRie",
        "outputId": "57e6ef67-a13d-473d-887b-34cb0d31f556"
      },
      "execution_count": null,
      "outputs": [
        {
          "output_type": "stream",
          "name": "stdout",
          "text": [
            "Path from A to G : ['A', 'B', 'D', 'G']\n"
          ]
        }
      ]
    },
    {
      "cell_type": "markdown",
      "source": [
        "#Informed Search"
      ],
      "metadata": {
        "id": "gLS9nHKiRq-0"
      }
    },
    {
      "cell_type": "markdown",
      "source": [
        "Informed search algorithms, also known as heuristic search algorithms, use domain-specific knowledge to guide the search process towards the goal more efficiently. Examples include A* search and greedy best-first search."
      ],
      "metadata": {
        "id": "LDWoUG9fRwmE"
      }
    },
    {
      "cell_type": "code",
      "source": [
        "def greedy_best_first_search(graph, start, goal, heuristic):\n",
        "    open_set = [(heuristic(start, goal), start)]\n",
        "    closed_set = set()\n",
        "\n",
        "    while open_set:\n",
        "        _, current_node = min(open_set)\n",
        "        open_set.remove((heuristic(current_node, goal), current_node))\n",
        "\n",
        "        if current_node == goal:\n",
        "            return current_node\n",
        "\n",
        "        closed_set.add(current_node)\n",
        "        for neighbor in graph[current_node]:\n",
        "            if neighbor not in closed_set:\n",
        "                open_set.append((heuristic(neighbor, goal), neighbor))\n",
        "\n",
        "# Applying Greedy Best-First Search\n",
        "print(\"Shortest path using Greedy Best-First Search:\", greedy_best_first_search(graph, 'A', 'F', heuristic))"
      ],
      "metadata": {
        "colab": {
          "base_uri": "https://localhost:8080/"
        },
        "id": "se8_sqQuRysN",
        "outputId": "ebff4cc6-1571-408e-bfca-4df995bcaa6e"
      },
      "execution_count": null,
      "outputs": [
        {
          "output_type": "stream",
          "name": "stdout",
          "text": [
            "Shortest path using Greedy Best-First Search: F\n"
          ]
        }
      ]
    }
  ]
}