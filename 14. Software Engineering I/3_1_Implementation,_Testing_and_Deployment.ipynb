{
  "nbformat": 4,
  "nbformat_minor": 0,
  "metadata": {
    "colab": {
      "provenance": []
    },
    "kernelspec": {
      "name": "python3",
      "display_name": "Python 3"
    },
    "language_info": {
      "name": "python"
    }
  },
  "cells": [
    {
      "cell_type": "markdown",
      "source": [
        "#Implementation"
      ],
      "metadata": {
        "id": "8VNBEsTESFQd"
      }
    },
    {
      "cell_type": "markdown",
      "source": [
        "This refers to the actual development and deployment of a software solution after all necessary testing and validation have been completed."
      ],
      "metadata": {
        "id": "fVISTKExSJKa"
      }
    },
    {
      "cell_type": "code",
      "source": [
        "from flask import Flask, render_template\n",
        "\n",
        "app = Flask(__name__)\n",
        "\n",
        "@app.route('/')\n",
        "def home():\n",
        "    return render_template('index.html', title='Home Page')\n",
        "\n",
        "if __name__ == '__main__':\n",
        "    app.run(debug=True)"
      ],
      "metadata": {
        "colab": {
          "base_uri": "https://localhost:8080/"
        },
        "id": "lGlKoLMFSI-r",
        "outputId": "60a35f1a-d785-46af-ba98-5b6e2ebd321a"
      },
      "execution_count": null,
      "outputs": [
        {
          "output_type": "stream",
          "name": "stdout",
          "text": [
            " * Serving Flask app '__main__'\n",
            " * Debug mode: on\n"
          ]
        },
        {
          "output_type": "stream",
          "name": "stderr",
          "text": [
            "INFO:werkzeug:\u001b[31m\u001b[1mWARNING: This is a development server. Do not use it in a production deployment. Use a production WSGI server instead.\u001b[0m\n",
            " * Running on http://127.0.0.1:5000\n",
            "INFO:werkzeug:\u001b[33mPress CTRL+C to quit\u001b[0m\n",
            "INFO:werkzeug: * Restarting with stat\n"
          ]
        }
      ]
    },
    {
      "cell_type": "markdown",
      "source": [
        "#Code Review"
      ],
      "metadata": {
        "id": "v0cf1TYmSR96"
      }
    },
    {
      "cell_type": "markdown",
      "source": [
        "Code review is a critical practice where team members evaluate code changes to ensure quality, maintainability, and adherence to coding standards."
      ],
      "metadata": {
        "id": "2Yd5zUC-ST8j"
      }
    },
    {
      "cell_type": "code",
      "execution_count": null,
      "metadata": {
        "colab": {
          "base_uri": "https://localhost:8080/"
        },
        "id": "EudyORC2Qlmh",
        "outputId": "553144ad-69a5-47ed-fc4d-6fe3057a880e"
      },
      "outputs": [
        {
          "output_type": "execute_result",
          "data": {
            "text/plain": [
              "13"
            ]
          },
          "metadata": {},
          "execution_count": 4
        }
      ],
      "source": [
        "def fibonacci(n):\n",
        "    if n <= 0:\n",
        "        return \"Invalid input\"\n",
        "    elif n == 1:\n",
        "        return 0\n",
        "    elif n == 2:\n",
        "        return 1\n",
        "    else:\n",
        "        return fibonacci(n-1) + fibonacci(n-2)\n",
        "\n",
        "fibonacci(8)"
      ]
    },
    {
      "cell_type": "code",
      "source": [
        "import math\n",
        "\n",
        "def calculate_circle_area(radius):\n",
        "    if radius < 0:\n",
        "        raise ValueError(\"Radius cannot be negative\")\n",
        "    return math.pi * (radius ** 2)\n"
      ],
      "metadata": {
        "id": "wu0ZEZ9zSlLu"
      },
      "execution_count": null,
      "outputs": []
    },
    {
      "cell_type": "code",
      "source": [
        "import math\n",
        "\n",
        "def calculate_circle_area(radius):\n",
        "    if radius <= 0:\n",
        "        raise ValueError(\"Radius must be positive\")\n",
        "    return math.pi * (radius ** 2)\n"
      ],
      "metadata": {
        "id": "uyrahVoySmoJ"
      },
      "execution_count": null,
      "outputs": []
    },
    {
      "cell_type": "markdown",
      "source": [
        "#Code Quality"
      ],
      "metadata": {
        "id": "-QBT8_nhS-v9"
      }
    },
    {
      "cell_type": "markdown",
      "source": [
        "Code quality encompasses factors like readability, maintainability, efficiency, and adherence to coding standards."
      ],
      "metadata": {
        "id": "0MZCmfmATAlZ"
      }
    },
    {
      "cell_type": "code",
      "source": [
        "%pip install pylint radon"
      ],
      "metadata": {
        "colab": {
          "base_uri": "https://localhost:8080/"
        },
        "id": "EaOQPOJ2TZGp",
        "outputId": "6f208ad8-a0dc-458e-db55-802de052919e"
      },
      "execution_count": null,
      "outputs": [
        {
          "output_type": "stream",
          "name": "stdout",
          "text": [
            "Collecting pylint\n",
            "  Downloading pylint-3.1.0-py3-none-any.whl (515 kB)\n",
            "\u001b[2K     \u001b[90m━━━━━━━━━━━━━━━━━━━━━━━━━━━━━━━━━━━━━━━━\u001b[0m \u001b[32m515.6/515.6 kB\u001b[0m \u001b[31m3.5 MB/s\u001b[0m eta \u001b[36m0:00:00\u001b[0m\n",
            "\u001b[?25hCollecting radon\n",
            "  Downloading radon-6.0.1-py2.py3-none-any.whl (52 kB)\n",
            "\u001b[2K     \u001b[90m━━━━━━━━━━━━━━━━━━━━━━━━━━━━━━━━━━━━━━━━\u001b[0m \u001b[32m52.8/52.8 kB\u001b[0m \u001b[31m5.3 MB/s\u001b[0m eta \u001b[36m0:00:00\u001b[0m\n",
            "\u001b[?25hRequirement already satisfied: platformdirs>=2.2.0 in /usr/local/lib/python3.10/dist-packages (from pylint) (4.2.0)\n",
            "Collecting astroid<=3.2.0-dev0,>=3.1.0 (from pylint)\n",
            "  Downloading astroid-3.1.0-py3-none-any.whl (275 kB)\n",
            "\u001b[2K     \u001b[90m━━━━━━━━━━━━━━━━━━━━━━━━━━━━━━━━━━━━━━━━\u001b[0m \u001b[32m275.6/275.6 kB\u001b[0m \u001b[31m17.8 MB/s\u001b[0m eta \u001b[36m0:00:00\u001b[0m\n",
            "\u001b[?25hCollecting isort!=5.13.0,<6,>=4.2.5 (from pylint)\n",
            "  Downloading isort-5.13.2-py3-none-any.whl (92 kB)\n",
            "\u001b[2K     \u001b[90m━━━━━━━━━━━━━━━━━━━━━━━━━━━━━━━━━━━━━━━━\u001b[0m \u001b[32m92.3/92.3 kB\u001b[0m \u001b[31m9.1 MB/s\u001b[0m eta \u001b[36m0:00:00\u001b[0m\n",
            "\u001b[?25hCollecting mccabe<0.8,>=0.6 (from pylint)\n",
            "  Downloading mccabe-0.7.0-py2.py3-none-any.whl (7.3 kB)\n",
            "Collecting tomlkit>=0.10.1 (from pylint)\n",
            "  Downloading tomlkit-0.12.4-py3-none-any.whl (37 kB)\n",
            "Collecting dill>=0.2 (from pylint)\n",
            "  Downloading dill-0.3.8-py3-none-any.whl (116 kB)\n",
            "\u001b[2K     \u001b[90m━━━━━━━━━━━━━━━━━━━━━━━━━━━━━━━━━━━━━━━━\u001b[0m \u001b[32m116.3/116.3 kB\u001b[0m \u001b[31m11.3 MB/s\u001b[0m eta \u001b[36m0:00:00\u001b[0m\n",
            "\u001b[?25hRequirement already satisfied: tomli>=1.1.0 in /usr/local/lib/python3.10/dist-packages (from pylint) (2.0.1)\n",
            "Collecting mando<0.8,>=0.6 (from radon)\n",
            "  Downloading mando-0.7.1-py2.py3-none-any.whl (28 kB)\n",
            "Collecting colorama>=0.4.1 (from radon)\n",
            "  Downloading colorama-0.4.6-py2.py3-none-any.whl (25 kB)\n",
            "Requirement already satisfied: typing-extensions>=4.0.0 in /usr/local/lib/python3.10/dist-packages (from astroid<=3.2.0-dev0,>=3.1.0->pylint) (4.11.0)\n",
            "Requirement already satisfied: six in /usr/local/lib/python3.10/dist-packages (from mando<0.8,>=0.6->radon) (1.16.0)\n",
            "Installing collected packages: tomlkit, mccabe, mando, isort, dill, colorama, astroid, radon, pylint\n",
            "Successfully installed astroid-3.1.0 colorama-0.4.6 dill-0.3.8 isort-5.13.2 mando-0.7.1 mccabe-0.7.0 pylint-3.1.0 radon-6.0.1 tomlkit-0.12.4\n"
          ]
        }
      ]
    },
    {
      "cell_type": "code",
      "source": [
        "import pandas as pd\n",
        "import seaborn as sns\n",
        "import matplotlib.pyplot as plt\n",
        "from radon.cli import Config\n",
        "from radon.visitors import ComplexityVisitor\n",
        "\n",
        "# Load the sample dataset (Iris dataset)\n",
        "iris = sns.load_dataset('iris')\n",
        "\n",
        "# Display the first few rows of the dataset\n",
        "print(\"Sample Dataset (Iris):\")\n",
        "print(iris.head())"
      ],
      "metadata": {
        "colab": {
          "base_uri": "https://localhost:8080/"
        },
        "id": "BgKuXESnTA6r",
        "outputId": "68eb4f16-bbaa-4787-8d14-4213d4426ae5"
      },
      "execution_count": null,
      "outputs": [
        {
          "output_type": "stream",
          "name": "stdout",
          "text": [
            "Sample Dataset (Iris):\n",
            "   sepal_length  sepal_width  petal_length  petal_width species\n",
            "0           5.1          3.5           1.4          0.2  setosa\n",
            "1           4.9          3.0           1.4          0.2  setosa\n",
            "2           4.7          3.2           1.3          0.2  setosa\n",
            "3           4.6          3.1           1.5          0.2  setosa\n",
            "4           5.0          3.6           1.4          0.2  setosa\n"
          ]
        }
      ]
    },
    {
      "cell_type": "code",
      "source": [
        "# Define the Python script for data analysis\n",
        "analyze_data_script = \"\"\"\n",
        "import pandas as pd\n",
        "import seaborn as sns\n",
        "import matplotlib.pyplot as plt\n",
        "\n",
        "def load_and_clean_data():\n",
        "    \\\"\\\"\\\"Load and clean the dataset.\\\"\\\"\\\"\n",
        "    iris = sns.load_dataset('iris')\n",
        "    return iris\n",
        "\n",
        "def plot_data(data):\n",
        "    \\\"\\\"\\\"Plot the data.\\\"\\\"\\\"\n",
        "    plt.figure(figsize=(10, 6))\n",
        "    sns.scatterplot(data=data, x='sepal_length', y='sepal_width', hue='species')\n",
        "    plt.title('Iris Dataset - Sepal Length vs Sepal Width')\n",
        "    plt.xlabel('Sepal Length (cm)')\n",
        "    plt.ylabel('Sepal Width (cm)')\n",
        "    plt.legend()\n",
        "    plt.show()\n",
        "\n",
        "# Main function\n",
        "if __name__ == '__main__':\n",
        "    data = load_and_clean_data()\n",
        "    plot_data(data)\n",
        "\"\"\"\n",
        "\n",
        "# Save the script to a file (temporary for analysis) with module docstring\n",
        "with open('analyze_data.py', 'w') as file:\n",
        "    file.write(analyze_data_script)\n",
        "\n",
        "# Display the script content\n",
        "print(\"\\nPython Script for Data Analysis (analyze_data.py):\")\n",
        "print(analyze_data_script)"
      ],
      "metadata": {
        "colab": {
          "base_uri": "https://localhost:8080/"
        },
        "id": "uMmwzkPPTrZH",
        "outputId": "81e135ba-85ba-4ce3-aa23-238142d57c9b"
      },
      "execution_count": null,
      "outputs": [
        {
          "output_type": "stream",
          "name": "stdout",
          "text": [
            "\n",
            "Python Script for Data Analysis (analyze_data.py):\n",
            "\n",
            "import pandas as pd\n",
            "import seaborn as sns\n",
            "import matplotlib.pyplot as plt\n",
            "\n",
            "def load_and_clean_data():\n",
            "    \"\"\"Load and clean the dataset.\"\"\"\n",
            "    iris = sns.load_dataset('iris')\n",
            "    return iris\n",
            "\n",
            "def plot_data(data):\n",
            "    \"\"\"Plot the data.\"\"\"\n",
            "    plt.figure(figsize=(10, 6))\n",
            "    sns.scatterplot(data=data, x='sepal_length', y='sepal_width', hue='species')\n",
            "    plt.title('Iris Dataset - Sepal Length vs Sepal Width')\n",
            "    plt.xlabel('Sepal Length (cm)')\n",
            "    plt.ylabel('Sepal Width (cm)')\n",
            "    plt.legend()\n",
            "    plt.show()\n",
            "\n",
            "# Main function\n",
            "if __name__ == '__main__':\n",
            "    data = load_and_clean_data()\n",
            "    plot_data(data)\n",
            "\n"
          ]
        }
      ]
    },
    {
      "cell_type": "code",
      "source": [
        "# Perform code quality analysis using pylint\n",
        "!pylint analyze_data.py\n",
        "\n",
        "# Calculate code complexity metrics using radon\n",
        "with open('analyze_data.py', 'r') as file:\n",
        "    code = file.read()\n",
        "    visitor = ComplexityVisitor.from_code(code)"
      ],
      "metadata": {
        "colab": {
          "base_uri": "https://localhost:8080/"
        },
        "id": "fqVqMm57TwNZ",
        "outputId": "45dfc1a8-1a3d-452a-d6c3-2ffdaf669f57"
      },
      "execution_count": null,
      "outputs": [
        {
          "output_type": "stream",
          "name": "stdout",
          "text": [
            "************* Module analyze_data\n",
            "analyze_data.py:1:0: C0114: Missing module docstring (missing-module-docstring)\n",
            "analyze_data.py:11:14: W0621: Redefining name 'data' from outer scope (line 23) (redefined-outer-name)\n",
            "analyze_data.py:2:0: W0611: Unused pandas imported as pd (unused-import)\n",
            "\n",
            "------------------------------------------------------------------\n",
            "Your code has been rated at 8.24/10 (previous run: 8.24/10, +0.00)\n",
            "\n"
          ]
        }
      ]
    },
    {
      "cell_type": "markdown",
      "source": [
        "#Testing"
      ],
      "metadata": {
        "id": "gv9oqr7YUOGm"
      }
    },
    {
      "cell_type": "markdown",
      "source": [
        "#Unit Testing"
      ],
      "metadata": {
        "id": "ku9UbUcwUQEG"
      }
    },
    {
      "cell_type": "markdown",
      "source": [
        " Unit testing involves testing individual units or components of a software application."
      ],
      "metadata": {
        "id": "S4HR2CX2US2Q"
      }
    },
    {
      "cell_type": "code",
      "source": [
        "import unittest\n",
        "\n",
        "def add_numbers(a, b):\n",
        "    return a + b\n",
        "\n",
        "class TestAddNumbers(unittest.TestCase):\n",
        "\n",
        "    def test_add_positive_numbers(self):\n",
        "        result = add_numbers(3, 4)\n",
        "        self.assertEqual(result, 7)\n",
        "\n",
        "    def test_add_negative_numbers(self):\n",
        "        result = add_numbers(-2, 5)\n",
        "        self.assertEqual(result, 3)\n",
        "\n",
        "# Run the unit tests\n",
        "if __name__ == '__main__':\n",
        "    unittest.main(argv=[''], exit=False)"
      ],
      "metadata": {
        "colab": {
          "base_uri": "https://localhost:8080/"
        },
        "id": "F6aWH99tUizs",
        "outputId": "9b0aa58b-858e-4aa2-a78d-4e60b6d9b656"
      },
      "execution_count": null,
      "outputs": [
        {
          "output_type": "stream",
          "name": "stderr",
          "text": [
            "..\n",
            "----------------------------------------------------------------------\n",
            "Ran 2 tests in 0.007s\n",
            "\n",
            "OK\n"
          ]
        }
      ]
    },
    {
      "cell_type": "markdown",
      "source": [
        "#Functional Testing"
      ],
      "metadata": {
        "id": "-iwMi16wZ4IJ"
      }
    },
    {
      "cell_type": "markdown",
      "source": [
        "Functional testing verifies that the software functions correctly from the end user's perspective."
      ],
      "metadata": {
        "id": "Ub2wQMFhZ5rc"
      }
    },
    {
      "cell_type": "code",
      "source": [
        "%pip install selenium"
      ],
      "metadata": {
        "colab": {
          "base_uri": "https://localhost:8080/"
        },
        "id": "IJqgTKhSZ8xs",
        "outputId": "8450db2e-d10f-48c3-dd1b-3cbf846f0df8"
      },
      "execution_count": null,
      "outputs": [
        {
          "output_type": "stream",
          "name": "stdout",
          "text": [
            "Collecting selenium\n",
            "  Downloading selenium-4.19.0-py3-none-any.whl (10.5 MB)\n",
            "     ━━━━━━━━━━━━━━━━━━━━━━━━━━━━━━━━━━━━━━━━ 10.5/10.5 MB 16.8 MB/s eta 0:00:00\n",
            "\u001b[?25hRequirement already satisfied: urllib3[socks]<3,>=1.26 in /usr/local/lib/python3.10/dist-packages (from selenium) (2.0.7)\n",
            "Collecting trio~=0.17 (from selenium)\n",
            "  Downloading trio-0.25.0-py3-none-any.whl (467 kB)\n",
            "     ━━━━━━━━━━━━━━━━━━━━━━━━━━━━━━━━━━━━━━━━ 467.2/467.2 kB 33.5 MB/s eta 0:00:00\n",
            "\u001b[?25hCollecting trio-websocket~=0.9 (from selenium)\n",
            "  Downloading trio_websocket-0.11.1-py3-none-any.whl (17 kB)\n",
            "Requirement already satisfied: certifi>=2021.10.8 in /usr/local/lib/python3.10/dist-packages (from selenium) (2024.2.2)\n",
            "Requirement already satisfied: typing_extensions>=4.9.0 in /usr/local/lib/python3.10/dist-packages (from selenium) (4.11.0)\n",
            "Requirement already satisfied: attrs>=23.2.0 in /usr/local/lib/python3.10/dist-packages (from trio~=0.17->selenium) (23.2.0)\n",
            "Requirement already satisfied: sortedcontainers in /usr/local/lib/python3.10/dist-packages (from trio~=0.17->selenium) (2.4.0)\n",
            "Requirement already satisfied: idna in /usr/local/lib/python3.10/dist-packages (from trio~=0.17->selenium) (3.7)\n",
            "Collecting outcome (from trio~=0.17->selenium)\n",
            "  Downloading outcome-1.3.0.post0-py2.py3-none-any.whl (10 kB)\n",
            "Requirement already satisfied: sniffio>=1.3.0 in /usr/local/lib/python3.10/dist-packages (from trio~=0.17->selenium) (1.3.1)\n",
            "Requirement already satisfied: exceptiongroup in /usr/local/lib/python3.10/dist-packages (from trio~=0.17->selenium) (1.2.0)\n",
            "Collecting wsproto>=0.14 (from trio-websocket~=0.9->selenium)\n",
            "  Downloading wsproto-1.2.0-py3-none-any.whl (24 kB)\n",
            "Requirement already satisfied: pysocks!=1.5.7,<2.0,>=1.5.6 in /usr/local/lib/python3.10/dist-packages (from urllib3[socks]<3,>=1.26->selenium) (1.7.1)\n",
            "Collecting h11<1,>=0.9.0 (from wsproto>=0.14->trio-websocket~=0.9->selenium)\n",
            "  Downloading h11-0.14.0-py3-none-any.whl (58 kB)\n",
            "     ━━━━━━━━━━━━━━━━━━━━━━━━━━━━━━━━━━━━━━━━ 58.3/58.3 kB 5.7 MB/s eta 0:00:00\n",
            "\u001b[?25hInstalling collected packages: outcome, h11, wsproto, trio, trio-websocket, selenium\n",
            "Successfully installed h11-0.14.0 outcome-1.3.0.post0 selenium-4.19.0 trio-0.25.0 trio-websocket-0.11.1 wsproto-1.2.0\n"
          ]
        }
      ]
    },
    {
      "cell_type": "code",
      "source": [
        "from selenium import webdriver\n",
        "\n",
        "# Open the browser\n",
        "driver = webdriver.Chrome()\n",
        "\n",
        "# Navigate to the website\n",
        "driver.get('http://example.com')\n",
        "\n",
        "# Find an element and perform an action\n",
        "element = driver.find_element_by_link_text('About Us')\n",
        "element.click()\n",
        "\n",
        "# Verify the expected page title\n",
        "assert \"About Us\" in driver.title\n",
        "\n",
        "# Close the browser\n",
        "driver.quit()"
      ],
      "metadata": {
        "id": "EkigOUqeapVv"
      },
      "execution_count": null,
      "outputs": []
    },
    {
      "cell_type": "markdown",
      "source": [
        "#Automated Function Testing"
      ],
      "metadata": {
        "id": "-xj9A65Aap1X"
      }
    },
    {
      "cell_type": "markdown",
      "source": [
        "Automated functional testing involves automating tests that validate the functional aspects of a software application."
      ],
      "metadata": {
        "id": "bwPHXtcqas7Z"
      }
    },
    {
      "cell_type": "code",
      "source": [
        "import requests\n",
        "\n",
        "def test_get_users():\n",
        "    response = requests.get('https://api.example.com/users')\n",
        "    assert response.status_code == 200\n",
        "    assert len(response.json()) > 0"
      ],
      "metadata": {
        "id": "kHnKwOFHatLn"
      },
      "execution_count": null,
      "outputs": []
    },
    {
      "cell_type": "markdown",
      "source": [
        "#Integration Testing"
      ],
      "metadata": {
        "id": "4Ss2PC22awSx"
      }
    },
    {
      "cell_type": "markdown",
      "source": [
        "Integration testing verifies that different parts of a software system work together as expected."
      ],
      "metadata": {
        "id": "QSFGIVpZaw7P"
      }
    },
    {
      "cell_type": "code",
      "source": [
        "import requests\n",
        "\n",
        "def test_weather_api_integration():\n",
        "    response = requests.get('https://api.weatherapi.com/v1/current.json?q=London')\n",
        "    weather_data = response.json()\n",
        "    assert 'current' in weather_data\n",
        "    assert 'condition' in weather_data['current']"
      ],
      "metadata": {
        "id": "4VakLPUbayhy"
      },
      "execution_count": null,
      "outputs": []
    },
    {
      "cell_type": "markdown",
      "source": [
        "#Stress Testing"
      ],
      "metadata": {
        "id": "2A9MXMcWa4xN"
      }
    },
    {
      "cell_type": "markdown",
      "source": [
        "Stress testing evaluates how a system behaves under intense load or stress conditions."
      ],
      "metadata": {
        "id": "VOT71X_ybGU0"
      }
    },
    {
      "cell_type": "code",
      "source": [
        "from locust import HttpUser, task, between\n",
        "\n",
        "class WebsiteUser(HttpUser):\n",
        "    wait_time = between(5, 9)\n",
        "\n",
        "    @task\n",
        "    def load_homepage(self):\n",
        "        self.client.get(\"/\")"
      ],
      "metadata": {
        "id": "n_GxXh4_a7ar"
      },
      "execution_count": null,
      "outputs": []
    },
    {
      "cell_type": "markdown",
      "source": [
        "#Deployment"
      ],
      "metadata": {
        "id": "6HXRNZuFbNRM"
      }
    },
    {
      "cell_type": "markdown",
      "source": [
        "#Development Environment\n",
        "The development environment is where developers write, test, and debug code."
      ],
      "metadata": {
        "id": "Kxfe-5UXbOkl"
      }
    },
    {
      "cell_type": "code",
      "source": [
        "# Django project structure\n",
        "django-admin startproject myproject\n",
        "cd myproject\n",
        "python manage.py runserver"
      ],
      "metadata": {
        "id": "zQc2JHWfbRzT"
      },
      "execution_count": null,
      "outputs": []
    },
    {
      "cell_type": "markdown",
      "source": [
        "# Production Environment"
      ],
      "metadata": {
        "id": "eUY5cq9TbWgV"
      }
    },
    {
      "cell_type": "markdown",
      "source": [
        "The production environment is where the final application is deployed and accessed by end users."
      ],
      "metadata": {
        "id": "fuRKewo3bX3E"
      }
    },
    {
      "cell_type": "code",
      "source": [
        "# Dockerfile\n",
        "FROM python:3.8\n",
        "WORKDIR /app\n",
        "COPY requirements.txt /app/\n",
        "RUN pip install -r requirements.txt\n",
        "COPY . /app/\n",
        "CMD [\"python\", \"manage.py\", \"runserver\", \"0.0.0.0:8000\"]"
      ],
      "metadata": {
        "id": "WXbJXS7EbYKu"
      },
      "execution_count": null,
      "outputs": []
    },
    {
      "cell_type": "markdown",
      "source": [
        "#Continuous Integration"
      ],
      "metadata": {
        "id": "HEgVah9Bbaw0"
      }
    },
    {
      "cell_type": "code",
      "source": [
        "name: Python CI\n",
        "\n",
        "on:\n",
        "  push:\n",
        "    branches:\n",
        "      - main\n",
        "  pull_request:\n",
        "    branches:\n",
        "      - main\n",
        "\n",
        "jobs:\n",
        "  build:\n",
        "\n",
        "    runs-on: ubuntu-latest\n",
        "\n",
        "    steps:\n",
        "    - uses: actions/checkout@v2\n",
        "\n",
        "    - name: Set up Python\n",
        "      uses: actions/setup-python@v2\n",
        "      with:\n",
        "        python-version: '3.x'  # Specify the Python version (e.g., '3.7', '3.8', '3.9')\n",
        "\n",
        "    - name: Install dependencies\n",
        "      run: |\n",
        "        python -m pip install --upgrade pip\n",
        "        pip install -r requirements.txt  # Install project dependencies\n",
        "\n",
        "    - name: Run tests\n",
        "      run: |\n",
        "        python -m unittest discover  # Run unit tests\n",
        "\n",
        "    - name: Lint code\n",
        "      run: |\n",
        "        pip install pylint\n",
        "        pylint your_module.py  # Replace 'your_module.py' with your Python module/file"
      ],
      "metadata": {
        "id": "4Da-N_D-bamb"
      },
      "execution_count": null,
      "outputs": []
    }
  ]
}