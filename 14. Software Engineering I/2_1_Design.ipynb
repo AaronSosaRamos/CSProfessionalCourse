{
  "nbformat": 4,
  "nbformat_minor": 0,
  "metadata": {
    "colab": {
      "provenance": []
    },
    "kernelspec": {
      "name": "python3",
      "display_name": "Python 3"
    },
    "language_info": {
      "name": "python"
    }
  },
  "cells": [
    {
      "cell_type": "markdown",
      "source": [
        "#Principles of Design"
      ],
      "metadata": {
        "id": "3Akq3MlFF3e4"
      }
    },
    {
      "cell_type": "markdown",
      "source": [
        "#Cohesion\n",
        "Cohesion refers to the degree to which elements within a module or component of a software system belong together and work towards a common purpose."
      ],
      "metadata": {
        "id": "p7TqpM5WGH2I"
      }
    },
    {
      "cell_type": "code",
      "execution_count": null,
      "metadata": {
        "id": "Ka6NnQUJE0gX"
      },
      "outputs": [],
      "source": [
        "# High Cohesion Example\n",
        "class FileManager:\n",
        "    def read_file(self, filename):\n",
        "        # Code to read a file\n",
        "        pass\n",
        "\n",
        "    def write_file(self, filename, data):\n",
        "        # Code to write data to a file\n",
        "        pass\n",
        "\n",
        "    def close_file(self, filename):\n",
        "        # Code to close a file\n",
        "        pass"
      ]
    },
    {
      "cell_type": "markdown",
      "source": [
        "# Coupling\n",
        "Coupling refers to the degree of interdependence between software modules; it measures how closely connected different modules or components are."
      ],
      "metadata": {
        "id": "u3z1ZOUNGOts"
      }
    },
    {
      "cell_type": "code",
      "source": [
        "# Tight Coupling Example\n",
        "class ShoppingCart:\n",
        "    def calculate_total_price(self, items):\n",
        "        total = 0\n",
        "        for item in items:\n",
        "            total += item.price\n",
        "        return total\n",
        "\n",
        "class CheckoutProcess:\n",
        "    def checkout(self, cart):\n",
        "        total_price = cart.calculate_total_price(cart.items)\n",
        "        # Code to complete checkout process\n",
        "        pass"
      ],
      "metadata": {
        "id": "iJRP5rAsGQLW"
      },
      "execution_count": null,
      "outputs": []
    },
    {
      "cell_type": "markdown",
      "source": [
        "#Software Design Patterns"
      ],
      "metadata": {
        "id": "iO5e9M9hGVOT"
      }
    },
    {
      "cell_type": "markdown",
      "source": [
        "Software design patterns are reusable solutions to common problems encountered during software development, aimed at improving the design, structure, and flexibility of software systems."
      ],
      "metadata": {
        "id": "ri3xb7M4GXTL"
      }
    },
    {
      "cell_type": "code",
      "source": [
        "# Singleton Design Pattern Example\n",
        "class Singleton:\n",
        "    _instance = None\n",
        "\n",
        "    def __new__(cls):\n",
        "        if cls._instance is None:\n",
        "            cls._instance = super(Singleton, cls).__new__(cls)\n",
        "        return cls._instance\n",
        "\n",
        "# Usage\n",
        "obj1 = Singleton()\n",
        "obj2 = Singleton()\n",
        "\n",
        "print(obj1 is obj2)  # Output: True (Both obj1 and obj2 refer to the same instance)"
      ],
      "metadata": {
        "colab": {
          "base_uri": "https://localhost:8080/"
        },
        "id": "bYs0GlNkGYDL",
        "outputId": "fb44294c-adb8-4489-ff7f-d6563e68ce94"
      },
      "execution_count": null,
      "outputs": [
        {
          "output_type": "stream",
          "name": "stdout",
          "text": [
            "True\n"
          ]
        }
      ]
    },
    {
      "cell_type": "markdown",
      "source": [
        "#Software Architecture"
      ],
      "metadata": {
        "id": "l_lcaBQrGcKy"
      }
    },
    {
      "cell_type": "markdown",
      "source": [
        "#Software Architecture Diagram\n",
        "A software architecture diagram visually represents the high-level structure of a software system, including its components, relationships, and interactions."
      ],
      "metadata": {
        "id": "x_Ps0uSjGdpq"
      }
    },
    {
      "cell_type": "code",
      "source": [
        "# Example of a simple software architecture diagram using Python-like notation\n",
        "class Frontend:\n",
        "    def __init__(self):\n",
        "        self.backend = Backend()\n",
        "\n",
        "    def request_data(self):\n",
        "        return self.backend.fetch_data()\n",
        "\n",
        "class Backend:\n",
        "    def fetch_data(self):\n",
        "        return \"Data from backend\"\n",
        "\n",
        "# Usage\n",
        "frontend = Frontend()\n",
        "print(frontend.request_data())  # Output: \"Data from backend\""
      ],
      "metadata": {
        "colab": {
          "base_uri": "https://localhost:8080/"
        },
        "id": "yMHYSMdAGgBC",
        "outputId": "bcb907dc-a113-49f5-fb4c-af1b742fd145"
      },
      "execution_count": null,
      "outputs": [
        {
          "output_type": "stream",
          "name": "stdout",
          "text": [
            "Data from backend\n"
          ]
        }
      ]
    },
    {
      "cell_type": "markdown",
      "source": [
        "#Software Architecture Styles\n",
        "Software architecture styles define the overall structure and organization of software systems, such as client-server, layered architecture, microservices, etc."
      ],
      "metadata": {
        "id": "jNIlm1vlGk3M"
      }
    },
    {
      "cell_type": "code",
      "source": [
        "# Microservices Architecture Example in Python\n",
        "from flask import Flask\n",
        "\n",
        "app = Flask(__name__)\n",
        "\n",
        "@app.route('/api/user/<user_id>')\n",
        "def get_user(user_id):\n",
        "    # Code to retrieve user information\n",
        "    return f\"User {user_id} details\"\n",
        "\n",
        "@app.route('/api/order/<order_id>')\n",
        "def get_order(order_id):\n",
        "    # Code to retrieve order information\n",
        "    return f\"Order {order_id} details\"\n",
        "\n",
        "if __name__ == '__main__':\n",
        "    app.run(debug=True)"
      ],
      "metadata": {
        "colab": {
          "base_uri": "https://localhost:8080/"
        },
        "id": "KRX4jGcKGmdM",
        "outputId": "ef9159a0-f7b1-4aee-e7c7-1ad9947d1975"
      },
      "execution_count": null,
      "outputs": [
        {
          "output_type": "stream",
          "name": "stdout",
          "text": [
            " * Serving Flask app '__main__'\n",
            " * Debug mode: on\n"
          ]
        },
        {
          "output_type": "stream",
          "name": "stderr",
          "text": [
            "INFO:werkzeug:\u001b[31m\u001b[1mWARNING: This is a development server. Do not use it in a production deployment. Use a production WSGI server instead.\u001b[0m\n",
            " * Running on http://127.0.0.1:5000\n",
            "INFO:werkzeug:\u001b[33mPress CTRL+C to quit\u001b[0m\n",
            "INFO:werkzeug: * Restarting with stat\n"
          ]
        }
      ]
    },
    {
      "cell_type": "markdown",
      "source": [
        "#UML (Unified Modeling Language)"
      ],
      "metadata": {
        "id": "O88hidVRGtF1"
      }
    },
    {
      "cell_type": "markdown",
      "source": [
        "#Class Diagram\n",
        "A class diagram in UML illustrates the structure of a system by showing the classes, attributes, methods, and relationships between classes."
      ],
      "metadata": {
        "id": "-M9vaop7Gui8"
      }
    },
    {
      "cell_type": "code",
      "source": [
        "# Class Diagram Example in Python-like notation\n",
        "class Person:\n",
        "    def __init__(self, name, age):\n",
        "        self.name = name\n",
        "        self.age = age\n",
        "\n",
        "class Employee(Person):\n",
        "    def __init__(self, name, age, emp_id):\n",
        "        super().__init__(name, age)\n",
        "        self.emp_id = emp_id\n",
        "\n",
        "# Usage\n",
        "employee = Employee(\"John Doe\", 30, \"E123\")\n",
        "print(employee.name)   # Output: \"John Doe\"\n",
        "print(employee.emp_id)  # Output: \"E123\""
      ],
      "metadata": {
        "colab": {
          "base_uri": "https://localhost:8080/"
        },
        "id": "8-0lMQilGv5c",
        "outputId": "9db182cc-14ae-4e11-e852-f846e52ef98c"
      },
      "execution_count": null,
      "outputs": [
        {
          "output_type": "stream",
          "name": "stdout",
          "text": [
            "John Doe\n",
            "E123\n"
          ]
        }
      ]
    },
    {
      "cell_type": "markdown",
      "source": [
        "#Sequence Diagram\n",
        "A sequence diagram in UML illustrates how objects interact with each other in a particular scenario of a use case or operation."
      ],
      "metadata": {
        "id": "QhEPpBYKG11z"
      }
    },
    {
      "cell_type": "code",
      "source": [
        "# Sequence Diagram Example in Python-like notation\n",
        "class Customer:\n",
        "    def place_order(self, product):\n",
        "        return f\"Order placed for {product}\"\n",
        "\n",
        "class OrderProcessor:\n",
        "    def process_order(self, customer, product):\n",
        "        return customer.place_order(product)\n",
        "\n",
        "# Usage\n",
        "customer = Customer()\n",
        "order_processor = OrderProcessor()\n",
        "result = order_processor.process_order(customer, \"Laptop\")\n",
        "print(result)  # Output: \"Order placed for Laptop\""
      ],
      "metadata": {
        "id": "SnC9WNajG4Mc",
        "outputId": "ad2fe417-510c-4ce2-98c3-6a5f396f477c",
        "colab": {
          "base_uri": "https://localhost:8080/"
        }
      },
      "execution_count": null,
      "outputs": [
        {
          "output_type": "stream",
          "name": "stdout",
          "text": [
            "Order placed for Laptop\n"
          ]
        }
      ]
    }
  ]
}