{
  "nbformat": 4,
  "nbformat_minor": 0,
  "metadata": {
    "colab": {
      "provenance": []
    },
    "kernelspec": {
      "name": "python3",
      "display_name": "Python 3"
    },
    "language_info": {
      "name": "python"
    }
  },
  "cells": [
    {
      "cell_type": "markdown",
      "source": [
        "#Operating System Fundamentals"
      ],
      "metadata": {
        "id": "aWSGh4tmBJfx"
      }
    },
    {
      "cell_type": "markdown",
      "source": [
        "#Process Management"
      ],
      "metadata": {
        "id": "jkAIW9vXBL4Y"
      }
    },
    {
      "cell_type": "code",
      "execution_count": null,
      "metadata": {
        "colab": {
          "base_uri": "https://localhost:8080/"
        },
        "id": "-KJJM_gpBCQm",
        "outputId": "bc910aa5-d2d2-4e3a-86ad-770c8299fb2b"
      },
      "outputs": [
        {
          "output_type": "stream",
          "name": "stdout",
          "text": [
            "Squared numbers: [1, 4, 9, 16, 25]\n"
          ]
        }
      ],
      "source": [
        "import multiprocessing\n",
        "\n",
        "def square_numbers(numbers, result_queue):\n",
        "    results = [n * n for n in numbers]\n",
        "    result_queue.put(results)\n",
        "\n",
        "if __name__ == \"__main__\":\n",
        "    numbers = [1, 2, 3, 4, 5]\n",
        "    result_queue = multiprocessing.Queue()\n",
        "\n",
        "    # Create processes\n",
        "    processes = []\n",
        "    num_processes = 3\n",
        "\n",
        "    for i in range(num_processes):\n",
        "        start = int(i * len(numbers) / num_processes)\n",
        "        end = int((i + 1) * len(numbers) / num_processes)\n",
        "        process = multiprocessing.Process(target=square_numbers, args=(numbers[start:end], result_queue))\n",
        "        processes.append(process)\n",
        "        process.start()\n",
        "\n",
        "    # Join processes\n",
        "    for process in processes:\n",
        "        process.join()\n",
        "\n",
        "    # Collect results from the queue\n",
        "    results = []\n",
        "    while not result_queue.empty():\n",
        "        results.extend(result_queue.get())\n",
        "\n",
        "    print(\"Squared numbers:\", results)"
      ]
    },
    {
      "cell_type": "markdown",
      "source": [
        "#Memory Management"
      ],
      "metadata": {
        "id": "0ieJOEYCBcVw"
      }
    },
    {
      "cell_type": "code",
      "source": [
        "import numpy as np\n",
        "\n",
        "# Create a large numpy array\n",
        "array_size = (1000, 1000)\n",
        "large_array = np.zeros(array_size)\n",
        "\n",
        "# Manipulate the array\n",
        "large_array += 1\n",
        "large_array *= 2\n",
        "\n",
        "# Perform matrix multiplication\n",
        "result = np.dot(large_array, large_array.T)\n",
        "\n",
        "print(\"Result shape:\", result.shape)"
      ],
      "metadata": {
        "colab": {
          "base_uri": "https://localhost:8080/"
        },
        "id": "lZAA3pGYBdsY",
        "outputId": "527fb163-3e28-4661-e1a7-343e895a6ae2"
      },
      "execution_count": null,
      "outputs": [
        {
          "output_type": "stream",
          "name": "stdout",
          "text": [
            "Result shape: (1000, 1000)\n"
          ]
        }
      ]
    },
    {
      "cell_type": "markdown",
      "source": [
        "#File System"
      ],
      "metadata": {
        "id": "naIvLOcHBkgg"
      }
    },
    {
      "cell_type": "code",
      "source": [
        "from google.colab import drive\n",
        "\n",
        "# Mount Google Drive\n",
        "drive.mount('/content/drive')\n",
        "\n",
        "# Write data to a file in Google Drive\n",
        "file_path = '/content/drive/My Drive/example.txt'\n",
        "with open(file_path, 'w') as file:\n",
        "    file.write('Hello, Google Drive!')\n",
        "\n",
        "# Read data from the file\n",
        "with open(file_path, 'r') as file:\n",
        "    content = file.read()\n",
        "    print(\"File content:\", content)"
      ],
      "metadata": {
        "id": "Pbzw1sdOBoF4"
      },
      "execution_count": null,
      "outputs": []
    },
    {
      "cell_type": "markdown",
      "source": [
        "#Synchronization and Concurrency"
      ],
      "metadata": {
        "id": "88zRKqLEBqO3"
      }
    },
    {
      "cell_type": "code",
      "source": [
        "import asyncio\n",
        "\n",
        "async def task(name, semaphore):\n",
        "    print(f\"{name} waiting to acquire semaphore\")\n",
        "    async with semaphore:\n",
        "        print(f\"{name} acquired semaphore\")\n",
        "        await asyncio.sleep(2)\n",
        "        print(f\"{name} released semaphore\")\n",
        "\n",
        "async def main():\n",
        "    semaphore = asyncio.Semaphore(2)  # Allow 2 tasks to run concurrently\n",
        "    tasks = [task(\"Task 1\", semaphore), task(\"Task 2\", semaphore), task(\"Task 3\", semaphore)]\n",
        "    await asyncio.gather(*tasks)\n",
        "\n",
        "# Run the main coroutine\n",
        "await main()"
      ],
      "metadata": {
        "colab": {
          "base_uri": "https://localhost:8080/"
        },
        "id": "uXR-hFENBkNp",
        "outputId": "e44ed0ed-ae2a-4a20-dada-0fbb431b363f"
      },
      "execution_count": null,
      "outputs": [
        {
          "output_type": "stream",
          "name": "stdout",
          "text": [
            "Task 1 waiting to acquire semaphore\n",
            "Task 1 acquired semaphore\n",
            "Task 2 waiting to acquire semaphore\n",
            "Task 2 acquired semaphore\n",
            "Task 3 waiting to acquire semaphore\n",
            "Task 1 released semaphore\n",
            "Task 2 released semaphore\n",
            "Task 3 acquired semaphore\n",
            "Task 3 released semaphore\n"
          ]
        }
      ]
    },
    {
      "cell_type": "markdown",
      "source": [
        "#Device Management"
      ],
      "metadata": {
        "id": "8ccGmRhoBvb_"
      }
    },
    {
      "cell_type": "code",
      "source": [
        "!pip install pyserial\n",
        "\n",
        "import serial\n",
        "\n",
        "# Open a serial port (replace 'COM3' with the appropriate port on your system)\n",
        "ser = serial.Serial('COM3', 9600)\n",
        "\n",
        "# Send data to the serial port\n",
        "ser.write(b'Hello from Python!')\n",
        "\n",
        "# Read data from the serial port\n",
        "received_data = ser.readline()\n",
        "print(\"Received data:\", received_data.decode())\n",
        "\n",
        "# Close the serial port\n",
        "ser.close()"
      ],
      "metadata": {
        "id": "3cHkSab2B3TP"
      },
      "execution_count": null,
      "outputs": []
    }
  ]
}