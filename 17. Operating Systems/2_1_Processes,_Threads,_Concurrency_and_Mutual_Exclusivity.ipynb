{
  "nbformat": 4,
  "nbformat_minor": 0,
  "metadata": {
    "colab": {
      "provenance": []
    },
    "kernelspec": {
      "name": "python3",
      "display_name": "Python 3"
    },
    "language_info": {
      "name": "python"
    }
  },
  "cells": [
    {
      "cell_type": "markdown",
      "source": [
        "#Processes and Threads"
      ],
      "metadata": {
        "id": "sw9HLslnBshG"
      }
    },
    {
      "cell_type": "markdown",
      "source": [
        "#Processes"
      ],
      "metadata": {
        "id": "VSeOK_NnBvwN"
      }
    },
    {
      "cell_type": "code",
      "execution_count": null,
      "metadata": {
        "colab": {
          "base_uri": "https://localhost:8080/"
        },
        "id": "u06q45NtBd2s",
        "outputId": "612b74b4-12fe-48c2-a529-8bea97163518"
      },
      "outputs": [
        {
          "output_type": "stream",
          "name": "stdout",
          "text": [
            "Squared numbers: [1, 4, 9, 16, 25]\n"
          ]
        }
      ],
      "source": [
        "import multiprocessing\n",
        "\n",
        "def square(numbers, result):\n",
        "    for idx, n in enumerate(numbers):\n",
        "        result[idx] = n * n\n",
        "\n",
        "if __name__ == \"__main__\":\n",
        "    numbers = [1, 2, 3, 4, 5]\n",
        "    result = multiprocessing.Array('i', len(numbers))\n",
        "\n",
        "    process = multiprocessing.Process(target=square, args=(numbers, result))\n",
        "    process.start()\n",
        "    process.join()\n",
        "\n",
        "    print(\"Squared numbers:\", list(result))"
      ]
    },
    {
      "cell_type": "markdown",
      "source": [
        "#Threads"
      ],
      "metadata": {
        "id": "AnTwr9d5Byw0"
      }
    },
    {
      "cell_type": "code",
      "source": [
        "import threading\n",
        "\n",
        "def greet():\n",
        "    print(\"Hello from a thread!\")\n",
        "\n",
        "if __name__ == \"__main__\":\n",
        "    thread = threading.Thread(target=greet)\n",
        "    thread.start()\n",
        "    thread.join()"
      ],
      "metadata": {
        "colab": {
          "base_uri": "https://localhost:8080/"
        },
        "id": "wEUBwXNBBzv1",
        "outputId": "fbf8f0d1-06ab-4f0b-bb03-490529b23d67"
      },
      "execution_count": null,
      "outputs": [
        {
          "output_type": "stream",
          "name": "stdout",
          "text": [
            "Hello from a thread!\n"
          ]
        }
      ]
    },
    {
      "cell_type": "markdown",
      "source": [
        "#Concurrency: Mutual Exclusion and Synchronization Mechanisms"
      ],
      "metadata": {
        "id": "tlXn2NW7B3FW"
      }
    },
    {
      "cell_type": "markdown",
      "source": [
        "Concurrency involves managing multiple tasks that execute independently but may interact with shared resources. Key mechanisms to ensure correct behavior include mutual exclusion and synchronization.\n",
        "\n"
      ],
      "metadata": {
        "id": "HlLHBIhAB7cV"
      }
    },
    {
      "cell_type": "markdown",
      "source": [
        "#Locks and Semaphores"
      ],
      "metadata": {
        "id": "awwpSdLdCDFW"
      }
    },
    {
      "cell_type": "code",
      "source": [
        "import threading\n",
        "\n",
        "shared_resource = 0\n",
        "lock = threading.Lock()\n",
        "\n",
        "def modify_shared_resource():\n",
        "    global shared_resource\n",
        "    with lock:\n",
        "        for _ in range(10000):\n",
        "            shared_resource += 1\n",
        "\n",
        "# Create multiple threads to modify the shared resource\n",
        "threads = []\n",
        "for _ in range(5):\n",
        "    thread = threading.Thread(target=modify_shared_resource)\n",
        "    thread.start()\n",
        "    threads.append(thread)\n",
        "\n",
        "for thread in threads:\n",
        "    thread.join()\n",
        "\n",
        "print(\"Final shared resource value:\", shared_resource)"
      ],
      "metadata": {
        "colab": {
          "base_uri": "https://localhost:8080/"
        },
        "id": "1jihAMkCCDkN",
        "outputId": "897110e1-1559-4a75-e13a-ed033295c182"
      },
      "execution_count": null,
      "outputs": [
        {
          "output_type": "stream",
          "name": "stdout",
          "text": [
            "Final shared resource value: 50000\n"
          ]
        }
      ]
    },
    {
      "cell_type": "code",
      "source": [
        "import threading\n",
        "import time\n",
        "\n",
        "semaphore = threading.Semaphore(2)  # Allow 2 threads to access the resource simultaneously\n",
        "resource = []\n",
        "\n",
        "def produce():\n",
        "    global resource\n",
        "    while True:\n",
        "        with semaphore:\n",
        "            resource.append('item')\n",
        "            print(\"Produced 1 item\")\n",
        "            time.sleep(1)\n",
        "\n",
        "def consume():\n",
        "    global resource\n",
        "    while True:\n",
        "        with semaphore:\n",
        "            if resource:\n",
        "                resource.pop()\n",
        "                print(\"Consumed 1 item\")\n",
        "            time.sleep(1)\n",
        "\n",
        "# Create producer and consumer threads\n",
        "producer_thread = threading.Thread(target=produce)\n",
        "consumer_thread = threading.Thread(target=consume)\n",
        "\n",
        "producer_thread.start()\n",
        "consumer_thread.start()\n",
        "\n",
        "time.sleep(10)  # Run for 10 seconds"
      ],
      "metadata": {
        "colab": {
          "base_uri": "https://localhost:8080/"
        },
        "id": "cPH129OhCFHu",
        "outputId": "009c4851-5645-4359-8d1c-9e468af067bf"
      },
      "execution_count": null,
      "outputs": [
        {
          "output_type": "stream",
          "name": "stdout",
          "text": [
            "Produced 1 item\n",
            "Consumed 1 item\n",
            "Produced 1 item\n",
            "Consumed 1 item\n",
            "Produced 1 item\n",
            "Consumed 1 item\n",
            "Produced 1 item\n",
            "Consumed 1 item\n",
            "Produced 1 item\n",
            "Consumed 1 item\n",
            "Produced 1 item\n",
            "Consumed 1 item\n",
            "Produced 1 item\n",
            "Consumed 1 item\n",
            "Produced 1 item\n",
            "Consumed 1 item\n",
            "Produced 1 item\n",
            "Consumed 1 item\n",
            "Produced 1 item\n",
            "Consumed 1 item\n",
            "Produced 1 item\n",
            "Consumed 1 item\n"
          ]
        }
      ]
    },
    {
      "cell_type": "markdown",
      "source": [
        "#Concurrency and Mutual Exclusion/Synchronization Mechanisms"
      ],
      "metadata": {
        "id": "6CO7zoPpCH3G"
      }
    },
    {
      "cell_type": "markdown",
      "source": [
        "#Producer and Consumer"
      ],
      "metadata": {
        "id": "TSnRn9CPCJ_p"
      }
    },
    {
      "cell_type": "code",
      "source": [
        "import queue\n",
        "import threading\n",
        "import time\n",
        "import random\n",
        "\n",
        "# Shared queue with a maximum size\n",
        "shared_queue = queue.Queue(maxsize=10)\n",
        "\n",
        "# Sentinel value to indicate the end of production\n",
        "SENTINEL = object()\n",
        "\n",
        "# Function representing the producer\n",
        "def producer():\n",
        "    for i in range(20):  # Produce 20 items\n",
        "        item = random.randint(1, 100)\n",
        "        shared_queue.put(item)\n",
        "        print(f\"Produced {item}\")\n",
        "        time.sleep(random.uniform(0.5, 1.0))  # Simulate some delay\n",
        "    # Put the sentinel value to indicate the end\n",
        "    shared_queue.put(SENTINEL)\n",
        "\n",
        "# Function representing the consumer\n",
        "def consumer():\n",
        "    while True:\n",
        "        try:\n",
        "            item = shared_queue.get(timeout=2)  # Timeout to allow termination\n",
        "            if item is SENTINEL:\n",
        "                # Reached the end\n",
        "                shared_queue.task_done()\n",
        "                break\n",
        "            print(f\"Consumed {item}\")\n",
        "            shared_queue.task_done()\n",
        "            time.sleep(random.uniform(0.5, 1.0))  # Simulate some processing time\n",
        "        except queue.Empty:\n",
        "            # If queue is empty for too long, assume end of production\n",
        "            break\n",
        "\n",
        "# Create producer and consumer threads\n",
        "producer_thread = threading.Thread(target=producer)\n",
        "consumer_thread = threading.Thread(target=consumer)\n",
        "\n",
        "# Start the threads\n",
        "producer_thread.start()\n",
        "consumer_thread.start()\n",
        "\n",
        "# Wait for the producer to finish\n",
        "producer_thread.join()\n",
        "\n",
        "# Wait for the consumer to finish (with a timeout)\n",
        "consumer_thread.join(timeout=3)\n",
        "\n",
        "print(\"Production and consumption complete.\")"
      ],
      "metadata": {
        "colab": {
          "base_uri": "https://localhost:8080/"
        },
        "id": "73AG185CCIkA",
        "outputId": "09206156-18e2-411f-e59c-f2bf416b7905"
      },
      "execution_count": null,
      "outputs": [
        {
          "output_type": "stream",
          "name": "stdout",
          "text": [
            "Reader Thread-27 (reader_task) is reading resource: 4\n",
            "Produced 30\n",
            "Consumed 30\n",
            "Consumed 1 item\n",
            "Produced 1 item\n",
            "Reader Thread-26 (reader_task) is reading resource: 4\n",
            "Produced 23\n",
            "Consumed 23\n",
            "Produced 80\n",
            "Consumed 1 item\n",
            "Produced 1 item\n",
            "Consumed 80\n",
            "Reader Thread-27 (reader_task) is reading resource: 4\n",
            "Produced 13\n",
            "Consumed 1 item\n",
            "Produced 1 item\n",
            "Consumed 13\n",
            "Produced 53\n",
            "Reader Thread-26 (reader_task) is reading resource: 4\n",
            "Consumed 53\n",
            "Consumed 1 item\n",
            "Produced 1 item\n",
            "Produced 70\n",
            "Reader Thread-27 (reader_task) is reading resource: 4\n",
            "Consumed 70\n",
            "Consumed 1 item\n",
            "Produced 1 item\n",
            "Produced 67\n",
            "Reader Thread-26 (reader_task) is reading resource: 4\n",
            "Consumed 67\n",
            "Produced 10\n",
            "Consumed 1 item\n",
            "Produced 1 item\n",
            "Consumed 10\n",
            "Reader Thread-27 (reader_task) is reading resource: 4\n",
            "Produced 29\n",
            "Produced 19\n",
            "Consumed 1 item\n",
            "Produced 1 item\n",
            "Consumed 29\n",
            "Reader Thread-26 (reader_task) is reading resource: 4\n",
            "Consumed 19\n",
            "Produced 79\n",
            "Consumed 1 item\n",
            "Produced 1 item\n",
            "Reader Thread-27 (reader_task) is reading resource: 4\n",
            "Consumed 79\n",
            "Produced 11\n",
            "Consumed 1 item\n",
            "Produced 1 item\n",
            "Consumed 11\n",
            "Produced 30\n",
            "Reader Thread-26 (reader_task) is reading resource: 4\n",
            "Consumed 30\n",
            "Produced 68\n",
            "Consumed 1 item\n",
            "Produced 1 item\n",
            "Reader Thread-27 (reader_task) is reading resource: 4\n",
            "Consumed 68\n",
            "Produced 2\n",
            "Consumed 1 item\n",
            "Produced 1 item\n",
            "Reader Thread-26 (reader_task) is reading resource: 4\n",
            "Consumed 2\n",
            "Produced 13\n",
            "Consumed 1 item\n",
            "Produced 1 item\n",
            "Consumed 13\n",
            "Reader Thread-27 (reader_task) is reading resource: 4\n",
            "Produced 88\n",
            "Consumed 88\n",
            "Consumed 1 item\n",
            "Produced 1 item\n",
            "Reader Thread-26 (reader_task) is reading resource: 4\n",
            "Produced 88\n",
            "Consumed 88\n",
            "Consumed 1 item\n",
            "Produced 1 item\n",
            "Reader Thread-27 (reader_task) is reading resource: 4\n",
            "Produced 78\n",
            "Consumed 78\n",
            "Consumed 1 item\n",
            "Produced 1 item\n",
            "Produced 49\n",
            "Consumed 49\n",
            "Reader Thread-26 (reader_task) is reading resource: 4\n",
            "Production and consumption complete.\n"
          ]
        }
      ]
    },
    {
      "cell_type": "markdown",
      "source": [
        "#Monitor Implementation"
      ],
      "metadata": {
        "id": "Fjb9kF6QDsTU"
      }
    },
    {
      "cell_type": "code",
      "source": [
        "import threading\n",
        "\n",
        "class SharedResourceMonitor:\n",
        "    def __init__(self):\n",
        "        self.resource = None\n",
        "        self.condition = threading.Condition()\n",
        "\n",
        "    def set_resource(self, value):\n",
        "        with self.condition:\n",
        "            while self.resource is not None:\n",
        "                self.condition.wait()\n",
        "            self.resource = value\n",
        "            self.condition.notify_all()\n",
        "\n",
        "    def get_resource(self):\n",
        "        with self.condition:\n",
        "            while self.resource is None:\n",
        "                self.condition.wait()\n",
        "            value = self.resource\n",
        "            self.resource = None\n",
        "            self.condition.notify_all()\n",
        "            return value\n",
        "\n",
        "def producer(monitor):\n",
        "    for i in range(5):\n",
        "        monitor.set_resource(i)\n",
        "        print(f\"Produced: {i}\")\n",
        "\n",
        "def consumer(monitor):\n",
        "    for _ in range(5):\n",
        "        value = monitor.get_resource()\n",
        "        print(f\"Consumed: {value}\")\n",
        "\n",
        "# Create shared resource monitor\n",
        "monitor = SharedResourceMonitor()\n",
        "\n",
        "# Create producer and consumer threads\n",
        "producer_thread = threading.Thread(target=producer, args=(monitor,))\n",
        "consumer_thread = threading.Thread(target=consumer, args=(monitor,))\n",
        "\n",
        "producer_thread.start()\n",
        "consumer_thread.start()\n",
        "\n",
        "producer_thread.join()\n",
        "consumer_thread.join()"
      ],
      "metadata": {
        "colab": {
          "base_uri": "https://localhost:8080/"
        },
        "id": "75zwm9G7DtI0",
        "outputId": "49dea673-eb6a-4c96-99ba-81bbec821ef3"
      },
      "execution_count": null,
      "outputs": [
        {
          "output_type": "stream",
          "name": "stdout",
          "text": [
            "Produced: 0\n",
            "Consumed: 0Produced: 1\n",
            "\n",
            "Consumed: 1Produced: 2\n",
            "\n",
            "Consumed: 2Produced: 3\n",
            "\n",
            "Consumed: 3Produced: 4\n",
            "\n",
            "Consumed: 4\n"
          ]
        }
      ]
    },
    {
      "cell_type": "markdown",
      "source": [
        "# The Reader-Writer Problem"
      ],
      "metadata": {
        "id": "rs3e93JODv7E"
      }
    },
    {
      "cell_type": "code",
      "source": [
        "import threading\n",
        "import time\n",
        "\n",
        "class ReaderWriter:\n",
        "    def __init__(self):\n",
        "        self.lock = threading.Lock()\n",
        "        self.readers = 0\n",
        "        self.resource = 0\n",
        "        self.resource_lock = threading.Lock()  # Lock for resource access\n",
        "\n",
        "    def read(self):\n",
        "        with self.lock:\n",
        "            self.readers += 1\n",
        "            if self.readers == 1:\n",
        "                self.resource_lock.acquire()  # First reader acquires resource lock\n",
        "        # Release the main lock to allow other readers to increment 'readers'\n",
        "        print(f\"Reader {threading.current_thread().name} is reading resource: {self.resource}\")\n",
        "        time.sleep(1)\n",
        "        with self.lock:\n",
        "            self.readers -= 1\n",
        "            if self.readers == 0:\n",
        "                self.resource_lock.release()  # Last reader releases resource lock\n",
        "\n",
        "    def write(self, value):\n",
        "        self.resource_lock.acquire()  # Acquire resource lock for exclusive write\n",
        "        self.resource = value\n",
        "        print(f\"Writer {threading.current_thread().name} is writing resource: {self.resource}\")\n",
        "        self.resource_lock.release()  # Release resource lock after writing\n",
        "\n",
        "# Create reader-writer instance\n",
        "rw = ReaderWriter()\n",
        "\n",
        "# Function for reader task\n",
        "def reader_task(iterations):\n",
        "    for _ in range(iterations):\n",
        "        rw.read()\n",
        "        time.sleep(0.5)\n",
        "\n",
        "# Function for writer task\n",
        "def writer_task(iterations):\n",
        "    for i in range(iterations):\n",
        "        rw.write(i)\n",
        "        time.sleep(2)\n",
        "\n",
        "# Define the number of iterations for each task\n",
        "num_reader_iterations = 5\n",
        "num_writer_iterations = 5\n",
        "\n",
        "# Create reader and writer threads\n",
        "readers = [threading.Thread(target=reader_task, args=(num_reader_iterations,)) for _ in range(2)]\n",
        "writers = [threading.Thread(target=writer_task, args=(num_writer_iterations,)) for _ in range(2)]\n",
        "\n",
        "# Start reader and writer threads\n",
        "for reader in readers:\n",
        "    reader.start()\n",
        "\n",
        "for writer in writers:\n",
        "    writer.start()\n",
        "\n",
        "# Join all reader and writer threads\n",
        "for reader in readers:\n",
        "    reader.join()\n",
        "\n",
        "for writer in writers:\n",
        "    writer.join()\n",
        "\n",
        "print(\"All tasks completed.\")"
      ],
      "metadata": {
        "colab": {
          "base_uri": "https://localhost:8080/"
        },
        "id": "fePDegP7Dxbk",
        "outputId": "c9cb3533-cc75-4451-fd52-253edccecded"
      },
      "execution_count": null,
      "outputs": [
        {
          "output_type": "stream",
          "name": "stdout",
          "text": [
            "Reader Thread-32 (reader_task) is reading resource: 0\n",
            "Reader Thread-33 (reader_task) is reading resource: 0\n",
            "Reader Thread-26 (reader_task) is reading resource: 4\n",
            "Reader Thread-27 (reader_task) is reading resource: 0\n",
            "Produced 1 item\n",
            "Consumed 1 item\n",
            "Reader Thread-32 (reader_task) is reading resource: 0\n",
            "Reader Thread-33 (reader_task) is reading resource: 0\n",
            "Reader Thread-26 (reader_task) is reading resource: 0\n",
            "Produced 1 item\n",
            "Consumed 1 item\n",
            "Reader Thread-27 (reader_task) is reading resource: 0\n",
            "Produced 1 item\n",
            "Consumed 1 item\n",
            "Reader Thread-32 (reader_task) is reading resource: 0\n",
            "Reader Thread-33 (reader_task) is reading resource: 0\n",
            "Reader Thread-26 (reader_task) is reading resource: 0\n",
            "Reader Thread-27 (reader_task) is reading resource: 0\n",
            "Consumed 1 item\n",
            "Produced 1 item\n",
            "Reader Thread-32 (reader_task) is reading resource: 0\n",
            "Reader Thread-33 (reader_task) is reading resource: 0\n",
            "Reader Thread-26 (reader_task) is reading resource: 0\n",
            "Produced 1 item\n",
            "Consumed 1 item\n",
            "Reader Thread-27 (reader_task) is reading resource: 0\n",
            "Produced 1 item\n",
            "Consumed 1 item\n",
            "Reader Thread-32 (reader_task) is reading resource: 0\n",
            "Reader Thread-33 (reader_task) is reading resource: 0\n",
            "Reader Thread-26 (reader_task) is reading resource: 0\n",
            "Reader Thread-27 (reader_task) is reading resource: 0\n",
            "Produced 1 item\n",
            "Consumed 1 item\n",
            "Reader Thread-26 (reader_task) is reading resource: 0\n",
            "Produced 1 item\n",
            "Consumed 1 item\n",
            "Reader Thread-27 (reader_task) is reading resource: 0\n",
            "Produced 1 item\n",
            "Consumed 1 item\n",
            "Reader Thread-26 (reader_task) is reading resource: 0\n",
            "Reader Thread-27 (reader_task) is reading resource: 0\n",
            "Produced 1 item\n",
            "Consumed 1 item\n",
            "Reader Thread-26 (reader_task) is reading resource: 0\n",
            "Produced 1 item\n",
            "Consumed 1 item\n",
            "Reader Thread-27 (reader_task) is reading resource: 0\n",
            "Produced 1 item\n",
            "Consumed 1 item\n",
            "Writer Thread-34 (writer_task) is writing resource: 0\n",
            "Writer Thread-35 (writer_task) is writing resource: 0\n",
            "Reader Thread-26 (reader_task) is reading resource: 0\n",
            "Reader Thread-27 (reader_task) is reading resource: 0\n",
            "Produced 1 item\n",
            "Consumed 1 item\n",
            "Reader Thread-26 (reader_task) is reading resource: 0\n",
            "Produced 1 item\n",
            "Consumed 1 item\n",
            "Reader Thread-27 (reader_task) is reading resource: 0\n",
            "Produced 1 itemConsumed 1 item\n",
            "\n",
            "Writer Thread-34 (writer_task) is writing resource: 1\n",
            "Writer Thread-35 (writer_task) is writing resource: 1\n",
            "Reader Thread-26 (reader_task) is reading resource: 1\n",
            "Reader Thread-27 (reader_task) is reading resource: 1\n",
            "Consumed 1 item\n",
            "Produced 1 item\n",
            "Reader Thread-26 (reader_task) is reading resource: 1\n",
            "Produced 1 itemConsumed 1 item\n",
            "\n",
            "Reader Thread-27 (reader_task) is reading resource: 1\n",
            "Produced 1 item\n",
            "Consumed 1 item\n",
            "Writer Thread-35 (writer_task) is writing resource: 2\n",
            "Writer Thread-34 (writer_task) is writing resource: 2\n",
            "Reader Thread-26 (reader_task) is reading resource: 2\n",
            "Reader Thread-27 (reader_task) is reading resource: 2\n",
            "Produced 1 item\n",
            "Consumed 1 item\n",
            "Reader Thread-26 (reader_task) is reading resource: 2\n",
            "Consumed 1 item\n",
            "Produced 1 item\n",
            "Reader Thread-27 (reader_task) is reading resource: 2\n",
            "Consumed 1 item\n",
            "Produced 1 item\n",
            "Writer Thread-35 (writer_task) is writing resource: 3\n",
            "Writer Thread-34 (writer_task) is writing resource: 3\n",
            "Reader Thread-26 (reader_task) is reading resource: 3\n",
            "Reader Thread-27 (reader_task) is reading resource: 3\n",
            "Consumed 1 item\n",
            "Produced 1 item\n",
            "Reader Thread-26 (reader_task) is reading resource: 3\n",
            "Consumed 1 item\n",
            "Produced 1 item\n",
            "Reader Thread-27 (reader_task) is reading resource: 3\n",
            "Consumed 1 item\n",
            "Produced 1 item\n",
            "Writer Thread-35 (writer_task) is writing resource: 4\n",
            "Writer Thread-34 (writer_task) is writing resource: 4\n",
            "Reader Thread-26 (reader_task) is reading resource: 4\n",
            "Reader Thread-27 (reader_task) is reading resource: 4\n",
            "Consumed 1 item\n",
            "Produced 1 item\n",
            "Reader Thread-26 (reader_task) is reading resource: 4\n",
            "Consumed 1 item\n",
            "Produced 1 item\n",
            "Reader Thread-27 (reader_task) is reading resource: 4\n",
            "All tasks completed.\n"
          ]
        }
      ]
    }
  ]
}