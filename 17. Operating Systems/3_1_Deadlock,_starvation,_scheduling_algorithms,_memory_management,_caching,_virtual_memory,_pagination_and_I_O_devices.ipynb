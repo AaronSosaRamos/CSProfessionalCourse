{
  "nbformat": 4,
  "nbformat_minor": 0,
  "metadata": {
    "colab": {
      "provenance": []
    },
    "kernelspec": {
      "name": "python3",
      "display_name": "Python 3"
    },
    "language_info": {
      "name": "python"
    }
  },
  "cells": [
    {
      "cell_type": "markdown",
      "source": [
        "# Problems of Concurrent Execution: Analysis and Solutions to Deadlock and Starvation"
      ],
      "metadata": {
        "id": "SAD50ZaWVCVE"
      }
    },
    {
      "cell_type": "markdown",
      "source": [
        "Concurrent execution in computing involves multiple tasks running simultaneously, often sharing resources. Deadlock occurs when two or more processes are unable to proceed because each is waiting for the other to release a resource. Starvation happens when a process is perpetually denied necessary resources, preventing it from making progress."
      ],
      "metadata": {
        "id": "bFSDnL1XVD5z"
      }
    },
    {
      "cell_type": "code",
      "source": [
        "import threading\n",
        "import time\n",
        "\n",
        "# Example of potential deadlock\n",
        "lock1 = threading.Lock()\n",
        "lock2 = threading.Lock()\n",
        "\n",
        "def worker1():\n",
        "    with lock1:\n",
        "        time.sleep(1)\n",
        "        with lock2:\n",
        "            print(\"Worker 1 acquired lock2\")\n",
        "\n",
        "def worker2():\n",
        "    with lock2:\n",
        "        time.sleep(1)\n",
        "        with lock1:\n",
        "            print(\"Worker 2 acquired lock1\")\n",
        "\n",
        "thread1 = threading.Thread(target=worker1)\n",
        "thread2 = threading.Thread(target=worker2)\n",
        "thread1.start()\n",
        "thread2.start()\n",
        "thread1.join()\n",
        "thread2.join()"
      ],
      "metadata": {
        "id": "sIoNgsq6WQZ7"
      },
      "execution_count": null,
      "outputs": []
    },
    {
      "cell_type": "markdown",
      "source": [
        "#Scheduling Algorithms"
      ],
      "metadata": {
        "id": "eGaE52CBVZ-X"
      }
    },
    {
      "cell_type": "markdown",
      "source": [
        "Scheduling algorithms determine the order and timing of executing processes in a system. Different algorithms prioritize tasks based on factors like process priority, time-sharing, or resource availability.\n",
        "\n"
      ],
      "metadata": {
        "id": "BFG9KhKqVcev"
      }
    },
    {
      "cell_type": "markdown",
      "source": [
        "#First-Come, First-Served (FCFS) Scheduling"
      ],
      "metadata": {
        "id": "fkKPKpwcVjuK"
      }
    },
    {
      "cell_type": "markdown",
      "source": [
        "In FCFS scheduling, processes are executed in the order they arrive.\n",
        "\n"
      ],
      "metadata": {
        "id": "YvbQBTYPVnvK"
      }
    },
    {
      "cell_type": "code",
      "source": [
        "def fcfs_scheduling(processes):\n",
        "    # Sort processes based on arrival time (assuming arrival time is the first element in each tuple)\n",
        "    processes.sort(key=lambda x: x[0])\n",
        "\n",
        "    current_time = 0\n",
        "    total_waiting_time = 0\n",
        "    print(\"FCFS Scheduling:\")\n",
        "    for process in processes:\n",
        "        arrival_time, burst_time = process\n",
        "        if current_time < arrival_time:\n",
        "            current_time = arrival_time  # Wait until the process arrives\n",
        "        waiting_time = current_time - arrival_time\n",
        "        total_waiting_time += waiting_time\n",
        "        print(f\"Process executed: Arrival Time={arrival_time}, Burst Time={burst_time}, Waiting Time={waiting_time}\")\n",
        "        current_time += burst_time  # Process execution\n",
        "    average_waiting_time = total_waiting_time / len(processes)\n",
        "    print(f\"Average Waiting Time: {average_waiting_time:.2f} units\")\n",
        "\n",
        "# Example usage\n",
        "processes_fcfs = [(0, 5), (1, 3), (2, 8), (3, 6)]\n",
        "fcfs_scheduling(processes_fcfs)"
      ],
      "metadata": {
        "colab": {
          "base_uri": "https://localhost:8080/"
        },
        "id": "T9xcDBXGVkXi",
        "outputId": "3c2232c4-7c49-4f1b-e92c-72cac3125b68"
      },
      "execution_count": null,
      "outputs": [
        {
          "output_type": "stream",
          "name": "stdout",
          "text": [
            "FCFS Scheduling:\n",
            "Process executed: Arrival Time=0, Burst Time=5, Waiting Time=0\n",
            "Process executed: Arrival Time=1, Burst Time=3, Waiting Time=4\n",
            "Process executed: Arrival Time=2, Burst Time=8, Waiting Time=6\n",
            "Process executed: Arrival Time=3, Burst Time=6, Waiting Time=13\n",
            "Average Waiting Time: 5.75 units\n"
          ]
        }
      ]
    },
    {
      "cell_type": "markdown",
      "source": [
        "#Shortest Job Next (SJN) or Shortest Job First (SJF) Scheduling"
      ],
      "metadata": {
        "id": "dTM-pkw1VtaC"
      }
    },
    {
      "cell_type": "markdown",
      "source": [
        "In SJN scheduling, the process with the shortest burst time is executed first.\n",
        "\n"
      ],
      "metadata": {
        "id": "4ax1JfTVV3nU"
      }
    },
    {
      "cell_type": "code",
      "source": [
        "def sjn_scheduling(processes):\n",
        "    # Sort processes based on burst time (assuming burst time is the second element in each tuple)\n",
        "    processes.sort(key=lambda x: x[1])\n",
        "\n",
        "    current_time = 0\n",
        "    total_waiting_time = 0\n",
        "    print(\"Shortest Job Next (SJN) Scheduling:\")\n",
        "    for process in processes:\n",
        "        arrival_time, burst_time = process\n",
        "        if current_time < arrival_time:\n",
        "            current_time = arrival_time  # Wait until the process arrives\n",
        "        waiting_time = current_time - arrival_time\n",
        "        total_waiting_time += waiting_time\n",
        "        print(f\"Process executed: Arrival Time={arrival_time}, Burst Time={burst_time}, Waiting Time={waiting_time}\")\n",
        "        current_time += burst_time  # Process execution\n",
        "    average_waiting_time = total_waiting_time / len(processes)\n",
        "    print(f\"Average Waiting Time: {average_waiting_time:.2f} units\")\n",
        "\n",
        "# Example usage\n",
        "processes_sjn = [(0, 5), (1, 3), (2, 8), (3, 6)]\n",
        "sjn_scheduling(processes_sjn)"
      ],
      "metadata": {
        "colab": {
          "base_uri": "https://localhost:8080/"
        },
        "id": "rpzLlK8GV55e",
        "outputId": "fe4035b4-da8b-4c8e-8a1d-b2d7c17ea235"
      },
      "execution_count": null,
      "outputs": [
        {
          "output_type": "stream",
          "name": "stdout",
          "text": [
            "Shortest Job Next (SJN) Scheduling:\n",
            "Process executed: Arrival Time=1, Burst Time=3, Waiting Time=0\n",
            "Process executed: Arrival Time=0, Burst Time=5, Waiting Time=4\n",
            "Process executed: Arrival Time=3, Burst Time=6, Waiting Time=6\n",
            "Process executed: Arrival Time=2, Burst Time=8, Waiting Time=13\n",
            "Average Waiting Time: 5.75 units\n"
          ]
        }
      ]
    },
    {
      "cell_type": "markdown",
      "source": [
        "#Round Robin Scheduling"
      ],
      "metadata": {
        "id": "NNOee9cvV8pk"
      }
    },
    {
      "cell_type": "markdown",
      "source": [
        "In Round Robin scheduling, each process is executed for a small unit of time (time quantum) and then moved to the end of the queue.\n",
        "\n"
      ],
      "metadata": {
        "id": "4BWQw26wV-J8"
      }
    },
    {
      "cell_type": "code",
      "source": [
        "from collections import deque\n",
        "\n",
        "def round_robin_scheduling(processes, quantum):\n",
        "    queue = deque(processes)  # Convert list of processes to a deque\n",
        "    current_time = 0\n",
        "    total_waiting_time = 0\n",
        "    print(f\"Round Robin Scheduling (Quantum = {quantum}):\")\n",
        "    while queue:\n",
        "        process = queue.popleft()\n",
        "        arrival_time, burst_time = process\n",
        "        if current_time < arrival_time:\n",
        "            current_time = arrival_time  # Wait until the process arrives\n",
        "        execute_time = min(burst_time, quantum)\n",
        "        waiting_time = current_time - arrival_time\n",
        "        total_waiting_time += waiting_time\n",
        "        print(f\"Process executed: Arrival Time={arrival_time}, Burst Time={burst_time}, Waiting Time={waiting_time}\")\n",
        "        current_time += execute_time\n",
        "        if burst_time > execute_time:\n",
        "            queue.append((arrival_time, burst_time - execute_time))  # Remaining burst time\n",
        "    average_waiting_time = total_waiting_time / len(processes)\n",
        "    print(f\"Average Waiting Time: {average_waiting_time:.2f} units\")\n",
        "\n",
        "# Example usage\n",
        "processes_rr = [(0, 5), (1, 3), (2, 8), (3, 6)]\n",
        "quantum_rr = 3\n",
        "round_robin_scheduling(processes_rr, quantum_rr)"
      ],
      "metadata": {
        "colab": {
          "base_uri": "https://localhost:8080/"
        },
        "id": "TWCCNB4eV971",
        "outputId": "451c31cd-39a6-4697-b281-1b66d7708b71"
      },
      "execution_count": null,
      "outputs": [
        {
          "output_type": "stream",
          "name": "stdout",
          "text": [
            "Round Robin Scheduling (Quantum = 3):\n",
            "Process executed: Arrival Time=0, Burst Time=5, Waiting Time=0\n",
            "Process executed: Arrival Time=1, Burst Time=3, Waiting Time=2\n",
            "Process executed: Arrival Time=2, Burst Time=8, Waiting Time=4\n",
            "Process executed: Arrival Time=3, Burst Time=6, Waiting Time=6\n",
            "Process executed: Arrival Time=0, Burst Time=2, Waiting Time=12\n",
            "Process executed: Arrival Time=2, Burst Time=5, Waiting Time=12\n",
            "Process executed: Arrival Time=3, Burst Time=3, Waiting Time=14\n",
            "Process executed: Arrival Time=2, Burst Time=2, Waiting Time=18\n",
            "Average Waiting Time: 17.00 units\n"
          ]
        }
      ]
    },
    {
      "cell_type": "markdown",
      "source": [
        "#Priority Scheduling"
      ],
      "metadata": {
        "id": "Jd99vfUuWK52"
      }
    },
    {
      "cell_type": "markdown",
      "source": [
        "In Priority Scheduling, processes are executed based on priority levels assigned to them.\n",
        "\n"
      ],
      "metadata": {
        "id": "Tk2zgsklWL5W"
      }
    },
    {
      "cell_type": "code",
      "source": [
        "def priority_scheduling(processes):\n",
        "    # Sort processes based on priority (assuming priority is the third element in each tuple)\n",
        "    processes.sort(key=lambda x: x[2])\n",
        "\n",
        "    current_time = 0\n",
        "    total_waiting_time = 0\n",
        "    print(\"Priority Scheduling:\")\n",
        "    for process in processes:\n",
        "        arrival_time, burst_time, priority = process\n",
        "        if current_time < arrival_time:\n",
        "            current_time = arrival_time  # Wait until the process arrives\n",
        "        waiting_time = current_time - arrival_time\n",
        "        total_waiting_time += waiting_time\n",
        "        print(f\"Process executed: Arrival Time={arrival_time}, Burst Time={burst_time}, Priority={priority}, Waiting Time={waiting_time}\")\n",
        "        current_time += burst_time  # Process execution\n",
        "    average_waiting_time = total_waiting_time / len(processes)\n",
        "    print(f\"Average Waiting Time: {average_waiting_time:.2f} units\")\n",
        "\n",
        "# Example usage\n",
        "processes_priority = [(0, 5, 3), (1, 3, 1), (2, 8, 2), (3, 6, 4)]\n",
        "priority_scheduling(processes_priority)\n"
      ],
      "metadata": {
        "colab": {
          "base_uri": "https://localhost:8080/"
        },
        "id": "3LO4aAMZWOUL",
        "outputId": "60868d62-ca9f-4ab5-ac40-49b979a4294e"
      },
      "execution_count": null,
      "outputs": [
        {
          "output_type": "stream",
          "name": "stdout",
          "text": [
            "Priority Scheduling:\n",
            "Process executed: Arrival Time=1, Burst Time=3, Priority=1, Waiting Time=0\n",
            "Process executed: Arrival Time=2, Burst Time=8, Priority=2, Waiting Time=2\n",
            "Process executed: Arrival Time=0, Burst Time=5, Priority=3, Waiting Time=12\n",
            "Process executed: Arrival Time=3, Burst Time=6, Priority=4, Waiting Time=14\n",
            "Average Waiting Time: 7.00 units\n"
          ]
        }
      ]
    },
    {
      "cell_type": "markdown",
      "source": [
        "#Memory Management and Caching"
      ],
      "metadata": {
        "id": "CpZzhweMWVSE"
      }
    },
    {
      "cell_type": "markdown",
      "source": [
        "Memory management involves managing a computer's memory resources efficiently. Caching optimizes memory usage by storing frequently accessed data in a fast-access storage area."
      ],
      "metadata": {
        "id": "ph-_jBH3WWOE"
      }
    },
    {
      "cell_type": "code",
      "source": [
        "import functools\n",
        "\n",
        "@functools.lru_cache(maxsize=128)\n",
        "def fibonacci(n):\n",
        "    if n < 2:\n",
        "        return n\n",
        "    else:\n",
        "        return fibonacci(n-1) + fibonacci(n-2)\n",
        "\n",
        "print(fibonacci(10))  # Cached result retrieved"
      ],
      "metadata": {
        "colab": {
          "base_uri": "https://localhost:8080/"
        },
        "id": "1LRYD7L_WWoc",
        "outputId": "a8bf825a-b247-4f65-ddc6-9fd7d7b96a81"
      },
      "execution_count": null,
      "outputs": [
        {
          "output_type": "stream",
          "name": "stdout",
          "text": [
            "55\n"
          ]
        }
      ]
    },
    {
      "cell_type": "markdown",
      "source": [
        "#Virtual Memory and Paging"
      ],
      "metadata": {
        "id": "UTqVAjHfWhmB"
      }
    },
    {
      "cell_type": "markdown",
      "source": [
        "Virtual memory is a memory management technique that provides an illusion of infinite memory by using disk space. Paging is a memory allocation scheme where memory is divided into fixed-size blocks (pages) to efficiently manage memory access."
      ],
      "metadata": {
        "id": "mCAEoeXrWiqJ"
      }
    },
    {
      "cell_type": "code",
      "source": [
        "class PageTable:\n",
        "    def __init__(self, frame_count):\n",
        "        self.page_table = [-1] * frame_count  # Initialize page table with -1 (indicating empty)\n",
        "        self.free_frames = set(range(frame_count))  # Track available frames\n",
        "\n",
        "    def map_page(self, page_number):\n",
        "        if not self.free_frames:\n",
        "            raise Exception(\"No free frames available for paging\")\n",
        "\n",
        "        frame_number = self.free_frames.pop()  # Allocate a free frame\n",
        "        self.page_table[page_number] = frame_number\n",
        "        return frame_number\n",
        "\n",
        "    def unmap_page(self, page_number):\n",
        "        frame_number = self.page_table[page_number]\n",
        "        self.page_table[page_number] = -1  # Mark page table entry as empty\n",
        "        self.free_frames.add(frame_number)  # Release the frame\n",
        "\n",
        "    def get_frame_number(self, page_number):\n",
        "        return self.page_table[page_number]\n",
        "\n",
        "\n",
        "# Example usage of PageTable\n",
        "page_table = PageTable(frame_count=4)\n",
        "\n",
        "# Simulate page mapping\n",
        "print(\"Mapping pages to frames:\")\n",
        "print(f\"Page 0 -> Frame {page_table.map_page(0)}\")\n",
        "print(f\"Page 1 -> Frame {page_table.map_page(1)}\")\n",
        "print(f\"Page 2 -> Frame {page_table.map_page(2)}\")\n",
        "\n",
        "# Access frame number for a page\n",
        "print(\"\\nAccessing frame numbers for pages:\")\n",
        "print(f\"Page 0 is mapped to Frame {page_table.get_frame_number(0)}\")\n",
        "print(f\"Page 1 is mapped to Frame {page_table.get_frame_number(1)}\")\n",
        "print(f\"Page 2 is mapped to Frame {page_table.get_frame_number(2)}\")\n",
        "\n",
        "# Simulate page unmapping\n",
        "print(\"\\nUnmapping pages:\")\n",
        "page_table.unmap_page(1)\n",
        "print(\"Page 1 unmapped\")\n",
        "\n",
        "# Attempting to map another page\n",
        "print(\"\\nMapping another page after unmapping:\")\n",
        "print(f\"Page 3 -> Frame {page_table.map_page(3)}\")\n",
        "\n",
        "# Access frame number for the newly mapped page\n",
        "print(\"\\nAccessing frame number for the newly mapped page:\")\n",
        "print(f\"Page 3 is mapped to Frame {page_table.get_frame_number(3)}\")"
      ],
      "metadata": {
        "colab": {
          "base_uri": "https://localhost:8080/"
        },
        "id": "_FpSye7tWjDh",
        "outputId": "82cc5180-725a-4047-b579-730acd893b23"
      },
      "execution_count": null,
      "outputs": [
        {
          "output_type": "stream",
          "name": "stdout",
          "text": [
            "Mapping pages to frames:\n",
            "Page 0 -> Frame 0\n",
            "Page 1 -> Frame 1\n",
            "Page 2 -> Frame 2\n",
            "\n",
            "Accessing frame numbers for pages:\n",
            "Page 0 is mapped to Frame 0\n",
            "Page 1 is mapped to Frame 1\n",
            "Page 2 is mapped to Frame 2\n",
            "\n",
            "Unmapping pages:\n",
            "Page 1 unmapped\n",
            "\n",
            "Mapping another page after unmapping:\n",
            "Page 3 -> Frame 3\n",
            "\n",
            "Accessing frame number for the newly mapped page:\n",
            "Page 3 is mapped to Frame 3\n"
          ]
        }
      ]
    },
    {
      "cell_type": "markdown",
      "source": [
        "#I/O Devices: Analysis and Description\n"
      ],
      "metadata": {
        "id": "W9s6Y3Q-Wr8q"
      }
    },
    {
      "cell_type": "markdown",
      "source": [
        "I/O devices facilitate interaction between a computer system and external devices like keyboards, displays, and storage devices. Analyzing and describing I/O devices involves understanding their characteristics, communication protocols, and data transfer mechanisms."
      ],
      "metadata": {
        "id": "uUNNip85WtRq"
      }
    },
    {
      "cell_type": "code",
      "source": [
        "import time\n",
        "\n",
        "def read_input():\n",
        "    # Simulate reading input from the user\n",
        "    print(\"Please enter your name:\")\n",
        "    user_input = input()\n",
        "    return user_input\n",
        "\n",
        "def process_data(name):\n",
        "    # Simulate processing the input data\n",
        "    print(f\"Processing data for {name}...\")\n",
        "    time.sleep(2)  # Simulate processing time (2 seconds)\n",
        "\n",
        "def output_result(name):\n",
        "    # Simulate outputting the processed result\n",
        "    print(f\"Hello, {name}! Welcome to our system.\")\n",
        "\n",
        "def main():\n",
        "    name = read_input()  # Read input from the user\n",
        "    process_data(name)   # Process the input data\n",
        "    output_result(name)  # Output the processed result\n",
        "\n",
        "# Call the main function to execute the I/O operations\n",
        "main()"
      ],
      "metadata": {
        "colab": {
          "base_uri": "https://localhost:8080/"
        },
        "id": "j6UR7MkVWtBz",
        "outputId": "d82fa1a6-9663-4251-af93-1b7ff4c52e89"
      },
      "execution_count": null,
      "outputs": [
        {
          "output_type": "stream",
          "name": "stdout",
          "text": [
            "Please enter your name:\n",
            "Aaron\n",
            "Processing data for Aaron...\n",
            "Hello, Aaron! Welcome to our system.\n"
          ]
        }
      ]
    },
    {
      "cell_type": "markdown",
      "source": [
        "#Concurrency and Parallel programming"
      ],
      "metadata": {
        "id": "W9hUQ4h6m-dt"
      }
    },
    {
      "cell_type": "code",
      "source": [
        "import threading\n",
        "import multiprocessing\n",
        "import time\n",
        "\n",
        "# Function to execute in threads\n",
        "def thread_task(name, delay):\n",
        "    print(f\"Thread {name} started\")\n",
        "    time.sleep(delay)\n",
        "    print(f\"Thread {name} ended\")\n",
        "\n",
        "# Function to execute in processes\n",
        "def process_task(name, delay):\n",
        "    print(f\"Process {name} started\")\n",
        "    time.sleep(delay)\n",
        "    print(f\"Process {name} ended\")\n",
        "\n",
        "if __name__ == \"__main__\":\n",
        "    # Concurrency with threads\n",
        "    threads = []\n",
        "    for i in range(5):\n",
        "        thread = threading.Thread(target=thread_task, args=(f\"Thread-{i}\", i+1))\n",
        "        threads.append(thread)\n",
        "        thread.start()\n",
        "\n",
        "    # Wait for all threads to complete\n",
        "    for thread in threads:\n",
        "        thread.join()\n",
        "\n",
        "    print(\"All threads completed\\n\")\n",
        "\n",
        "    # Parallelism with processes\n",
        "    processes = []\n",
        "    for i in range(5):\n",
        "        process = multiprocessing.Process(target=process_task, args=(f\"Process-{i}\", i+1))\n",
        "        processes.append(process)\n",
        "        process.start()\n",
        "\n",
        "    # Wait for all processes to complete\n",
        "    for process in processes:\n",
        "        process.join()\n",
        "\n",
        "    print(\"All processes completed\")"
      ],
      "metadata": {
        "colab": {
          "base_uri": "https://localhost:8080/"
        },
        "id": "vY93AJR_nJzm",
        "outputId": "98b6248b-52c4-441e-9ede-17e3af78d130"
      },
      "execution_count": 1,
      "outputs": [
        {
          "output_type": "stream",
          "name": "stdout",
          "text": [
            "Thread Thread-0 started\n",
            "Thread Thread-1 startedThread Thread-2 started\n",
            "\n",
            "Thread Thread-3 started\n",
            "Thread Thread-4 started\n",
            "Thread Thread-0 ended\n",
            "Thread Thread-1 ended\n",
            "Thread Thread-2 ended\n",
            "Thread Thread-3 ended\n",
            "Thread Thread-4 ended\n",
            "All threads completed\n",
            "\n",
            "Process Process-1 startedProcess Process-0 started\n",
            "\n",
            "Process Process-2 started\n",
            "Process Process-3 started\n",
            "Process Process-4 started\n",
            "Process Process-0 ended\n",
            "Process Process-1 ended\n",
            "Process Process-2 ended\n",
            "Process Process-3 ended\n",
            "Process Process-4 ended\n",
            "All processes completed\n"
          ]
        }
      ]
    }
  ]
}