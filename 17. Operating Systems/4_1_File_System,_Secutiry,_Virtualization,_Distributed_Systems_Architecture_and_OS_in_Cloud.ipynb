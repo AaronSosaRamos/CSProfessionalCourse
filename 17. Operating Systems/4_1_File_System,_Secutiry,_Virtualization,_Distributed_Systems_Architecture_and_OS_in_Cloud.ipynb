{
  "nbformat": 4,
  "nbformat_minor": 0,
  "metadata": {
    "colab": {
      "provenance": []
    },
    "kernelspec": {
      "name": "python3",
      "display_name": "Python 3"
    },
    "language_info": {
      "name": "python"
    }
  },
  "cells": [
    {
      "cell_type": "markdown",
      "source": [
        "#File System Structure and Organization"
      ],
      "metadata": {
        "id": "IWydpHOrh5f9"
      }
    },
    {
      "cell_type": "markdown",
      "source": [
        "The file system in an operating system organizes and manages data on storage devices. We'll use Python to interact with the file system and perform basic operations like listing files in a directory."
      ],
      "metadata": {
        "id": "Uyfr7HUZiIBC"
      }
    },
    {
      "cell_type": "code",
      "execution_count": null,
      "metadata": {
        "colab": {
          "base_uri": "https://localhost:8080/"
        },
        "id": "i0foIUz9hI9_",
        "outputId": "6d087611-2484-49f9-e297-f3b653d7621a"
      },
      "outputs": [
        {
          "output_type": "stream",
          "name": "stdout",
          "text": [
            "Mounted at /content/drive\n",
            "Sosa, Martinez, Samaniego, Lopez - Gráfico circular 1.gsheet\n",
            "Sosa, Martinez, Samaniego, Lopez.gslides\n",
            "Formulario de Biología.gform\n",
            "COAR\n",
            "DIRECCIÓN DE PROYECTOS.pptx\n",
            "cynthia.pptx\n",
            "2. Dirección de proyectos (Planificación).gslides\n",
            "proyecto paigina 1 al 4.pptx\n",
            "PAG. 5-8.gslides\n",
            "Copia de Trabajo N°3 - Presentación de la relación cliente, usuario final y desarrollador.gslides\n",
            "3.Presentación de la relación cliente, usuario final y desarrollador.gslides\n",
            "Actividades\n",
            "Historia - Organizadores\n",
            "N° 2_ Dirección de proyectos.gslides\n",
            "E.Física-Natación\n",
            "Classroom\n",
            "TRABAJO.gslides\n",
            "INTERFACES.gslides\n",
            "TISG - SOSA RAMOS WILFREDO AARÓN - 4D\n",
            "Copia y pega :V .gslides\n",
            "2.11 -  LICENCIAS DE SOFTWARE (recuperado).gslides\n",
            "COAR 4D - 1er Año Bachillerato Internacional - CURSOS\n",
            "1RA ENTREVISTA CON EL CLIENTE - CONVOCATORIA 19 (recuperado) (1).gsheet\n",
            "1RA ENTREVISTA CON EL CLIENTE - CONVOCATORIA 19 (recuperado).gsheet\n",
            "ENVIA AQUI\n",
            "aaron 001.jpg\n",
            "SOSA RAMOS WILFREDO AARÓN 4°D.pdf\n",
            "ASTO, MELLADO, SAMANIEGO Y SOSA - INFORME G4.pdf\n",
            "CAUSAS DE LA PRIMERA GUERRA MUNDIAL (CORREGIDO)\n",
            "Backup\n",
            "2. Estructura Atómica - Talbot en español.pdf\n",
            "Exámen de IB Historia NS\n",
            "2. Referencias, BuscarV y Concatenar.xlsx\n",
            "SOSA AARÓN SPEECH\n",
            "aaron\n",
            "CORRECCION DE LA PRUEBA 1 EN HISTORIA.docx\n",
            "Video de natación\n",
            "Música\n",
            "SECOND FIGURE\n",
            "Realidad Virtual y Realidad Aumentada.gslides\n",
            "1. Estructura de la Página Web.jpg\n",
            "9. Monografía - Literatura\n",
            "ActividadesABC\n",
            "2018-09-23.mpg\n",
            "Screenshot MAGIX Video deluxe 18-09-23_11-15-34.jpg\n",
            "Screenshot MAGIX Video deluxe 18-09-23_11-20-12.jpg\n",
            "SPEAKING PET\n",
            "READING AND WRITING PET\n",
            "FASCISMO-20181003T135102Z-001.zip\n",
            "1\n",
            "Stalin vs Trotsky\n",
            "INTRODUCCIÓN + ÁREA DE ... .gslides\n",
            "3. Redes - Tipos de redes.gslides\n",
            "Music\n",
            "SEE IT PLEASE\n",
            "4.9 Contraseña, Firewall y Servidor Proxy.gslides\n",
            "Trabajos Internos\n",
            "TRABAJOS INTERNOS_IB\n",
            "IMG_20190313_194632.jpg\n",
            "Sosa Ramos Wilfredo Aaron.docx\n",
            "3.1. Infografía acerca de Juan Velasco Alvarado.pdf\n",
            "3.2. Infografía acerca de Juan Domingo Perón .pdf\n",
            "Internal Assessments IB\n",
            "Trabajos_COAR\n",
            "(18) CAUSAS DE LA REVOLUCIÓN CUBANA.docx\n",
            "(16)Gobierno de Fidel Castro.pptx\n",
            "051505-0018_MONOGRAFÍA ESPAÑOL A_LITERATURA.docx\n",
            "Yachachin, Alarcón y Sosa_TEOLOGÍA DE LA LIBERACIÓN_5A.png\n",
            "051505_0018_INVESTIGACIÓN HISTÓRICA_SOSA RAMOS WILFREDO AARON.docx\n",
            "3. Políticas Internas Económicas, Sociales y Culturales de los Estados Autoritarios.gslides\n",
            "practica_examen_01_mos_powerpoint_specialist\n",
            "Sitio Web\n",
            "Curso - Desarrollo Web\n",
            "HORARIO DE ATENCIÓN A PPFF_COAR Junín.pdf\n",
            "Círculo de Estudios\n",
            "WILFREDO SOSA.docx\n",
            "Wilfredo Sosa .pdf\n",
            "Nuevo documento de texto.txt\n",
            "Tarea Académica 1_Grupo 3 (2).docx\n",
            "¿De qué manera la independencia afecto a la economía del Perú.docx\n",
            "s08.2. Texto argumentativo (Final).docx\n",
            "Copia de Wart\n",
            ".gslides\n",
            "Wilfredo Aaron Sosa Ramos - Producto -Aprendizaje Basado en Proyectos.mp4\n",
            "cdr-hguv-ssx-2 oct. 2020.gjam\n",
            "(1) Marcos Witt - Solamente en Cristo (KARAOKE SIb) - YouTube[mediante torchbrowser.com] (1).mp4\n",
            "(1) Tu nombre oh Dios - Pista - Marcos Witt - YouTube[mediante torchbrowser.com].mp4\n",
            "Procesamiento de datos sobre el proyecto físico\n",
            "Presentación_Matemática para Ingenieros 1.mp4\n",
            "Copia de Keygen Corel Draw.rar\n",
            "dyw-shwn-dko-26 mar 2021.gjam\n",
            "oan-ynfp-mon - 29 abr 2021 (1).gjam\n",
            "oan-ynfp-mon - 29 abr 2021.gjam\n",
            "Datos de contacto.gform\n",
            "Encuesta sobre Virus Informáticos - Huancayo, Perú.gform\n",
            "Encuesta sobre Virus Informáticos (2021) - Huancayo, Perú.gsheet\n",
            "051505-0018_MONOGRAFÍA ESPAÑOL A_LITERATURAa.gdoc\n",
            "carpetaDePrueba\n",
            "Los Hackers del Conocimiento - Valores de un lider - Jesús.pptx\n",
            "Colab Notebooks\n",
            "customer-service-training-course.gslides\n",
            "Presentación sin título (1).gslides\n",
            "Presentación de prototipos.gslides\n",
            "DINÁMICA - JUEGO DE ROLES .gslides\n",
            "Sosa Ramos Wilfredo Aaron_Currículum Vitae.pdf\n",
            "S09 - Comunicación Asertiva.gslides\n",
            "Presentación de prototipos.pdf\n",
            "S10 - Importancia del Feedback y Análisis de Caso de Coaching.gslides\n",
            "UML Distilled - FOWLER, Martin.pdf\n",
            "S12 - ChatGPT - Sosa Ramos Wilfredo Aaron.gslides\n",
            "S13 - Disolución - Trabajo en equipo.gslides\n",
            "Presentación sin título.gslides\n",
            "Carta Práctica Pre Empresa Privada_Sosa Ramos Wilfredo Aaron.docx\n",
            "1. Documentación\n",
            "Copia de Checklist_CV_GarciaMelgarejoSofia\n",
            ".xlsx\n",
            "files\n",
            "SalaryAI\n",
            "Hoja de cálculo sin título.gsheet\n",
            "AI\n"
          ]
        }
      ],
      "source": [
        "import os\n",
        "\n",
        "# Mount Google Drive for file access in Google Colab\n",
        "from google.colab import drive\n",
        "drive.mount('/content/drive')\n",
        "\n",
        "# Specify the directory path\n",
        "directory = '/content/drive/My Drive'\n",
        "\n",
        "# List all files in the directory\n",
        "files = os.listdir(directory)\n",
        "\n",
        "# Print each file in the directory\n",
        "for file in files:\n",
        "    print(file)"
      ]
    },
    {
      "cell_type": "markdown",
      "source": [
        "#Security and Protection Principles in Operating Systems"
      ],
      "metadata": {
        "id": "gTZmGSvUiLGK"
      }
    },
    {
      "cell_type": "markdown",
      "source": [
        "Security principles involve protecting system resources and data. We'll demonstrate hashing passwords using Python's hashlib library."
      ],
      "metadata": {
        "id": "SdgLfz1ziMAB"
      }
    },
    {
      "cell_type": "code",
      "source": [
        "import hashlib\n",
        "\n",
        "# Take user input for password\n",
        "password = input(\"Enter your password: \")\n",
        "\n",
        "# Hash the password using SHA-256\n",
        "hashed_password = hashlib.sha256(password.encode()).hexdigest()\n",
        "\n",
        "print(\"Hashed Password:\", hashed_password)"
      ],
      "metadata": {
        "colab": {
          "base_uri": "https://localhost:8080/"
        },
        "id": "yGELvzBqiQRu",
        "outputId": "3dd79fe8-97da-4622-c759-2d463c5f614c"
      },
      "execution_count": null,
      "outputs": [
        {
          "output_type": "stream",
          "name": "stdout",
          "text": [
            "Enter your password: password\n",
            "Hashed Password: 5e884898da28047151d0e56f8dc6292773603d0d6aabbdd62a11ef721d1542d8\n"
          ]
        }
      ]
    },
    {
      "cell_type": "markdown",
      "source": [
        "#Introduction to Virtualization"
      ],
      "metadata": {
        "id": "SItZk49WikLd"
      }
    },
    {
      "cell_type": "markdown",
      "source": [
        "Virtualization enables running multiple virtual environments on a single physical system. We'll showcase interacting with VMware vSphere using pyvmomi library."
      ],
      "metadata": {
        "id": "3JrjFsGzik18"
      }
    },
    {
      "cell_type": "code",
      "source": [
        "!pip install pyvmomi\n",
        "\n",
        "from pyVim import connect\n",
        "from pyVmomi import vim\n",
        "\n",
        "# Connect to vSphere (replace with your details)\n",
        "si = connect.SmartConnectNoSSL(host=\"your-vsphere-host\",\n",
        "                               user=\"your-username\",\n",
        "                               pwd=\"your-password\")\n",
        "\n",
        "# List all virtual machines\n",
        "content = si.RetrieveContent()\n",
        "vm_list = content.viewManager.CreateContainerView(content.rootFolder,\n",
        "                                                 [vim.VirtualMachine],\n",
        "                                                 True).view\n",
        "\n",
        "for vm in vm_list:\n",
        "    print(\"VM Name:\", vm.name)\n",
        "\n",
        "# Disconnect from vSphere\n",
        "connect.Disconnect(si)"
      ],
      "metadata": {
        "id": "LmFzII6PimS8"
      },
      "execution_count": null,
      "outputs": []
    },
    {
      "cell_type": "markdown",
      "source": [
        "#Distributed Systems Architecture"
      ],
      "metadata": {
        "id": "ZQdPRYKYisM0"
      }
    },
    {
      "cell_type": "markdown",
      "source": [
        "Distributed systems use multiple computers to provide unified services. We'll demonstrate network communication using Python's socket library."
      ],
      "metadata": {
        "id": "o5n1tqTfis8t"
      }
    },
    {
      "cell_type": "code",
      "source": [
        "import socket\n",
        "\n",
        "# Server\n",
        "server_socket = socket.socket(socket.AF_INET, socket.SOCK_STREAM)\n",
        "server_socket.bind(('localhost', 8888))\n",
        "server_socket.listen(1)\n",
        "\n",
        "print(\"Server listening...\")\n",
        "\n",
        "while True:\n",
        "    conn, addr = server_socket.accept()\n",
        "    print(\"Connected by\", addr)\n",
        "\n",
        "    data = conn.recv(1024)\n",
        "    if not data:\n",
        "        break\n",
        "\n",
        "    conn.sendall(data)\n",
        "\n",
        "    conn.close()\n",
        "\n",
        "# Client\n",
        "client_socket = socket.socket(socket.AF_INET, socket.SOCK_STREAM)\n",
        "client_socket.connect(('localhost', 8888))\n",
        "\n",
        "client_socket.sendall(b'Hello, server!')\n",
        "data = client_socket.recv(1024)\n",
        "print(\"Received from server:\", data.decode())\n",
        "\n",
        "client_socket.close()"
      ],
      "metadata": {
        "id": "dPuoFmN1i7UZ"
      },
      "execution_count": null,
      "outputs": []
    },
    {
      "cell_type": "markdown",
      "source": [
        "#Operating Systems in Cloud and Embedded Computing"
      ],
      "metadata": {
        "id": "HsuAqhtNi-jo"
      }
    },
    {
      "cell_type": "markdown",
      "source": [
        "Cloud and embedded operating systems are tailored for specific environments."
      ],
      "metadata": {
        "id": "Z2aTK4dsjCWv"
      }
    },
    {
      "cell_type": "code",
      "source": [
        "!pip install adafruit-circuitpython-neopixel\n",
        "\n",
        "import board\n",
        "import neopixel\n",
        "import time\n",
        "\n",
        "# Define neopixel\n",
        "pixels = neopixel.NeoPixel(board.D18, 30)\n",
        "\n",
        "# Rainbow cycle effect\n",
        "def rainbow_cycle(wait):\n",
        "    for j in range(255):\n",
        "        for i in range(len(pixels)):\n",
        "            rc_index = (i * 256 // len(pixels)) + j * 5\n",
        "            pixels[i] = wheel(rc_index & 255)\n",
        "        pixels.show()\n",
        "        time.sleep(wait)\n",
        "\n",
        "# Helper function\n",
        "def wheel(pos):\n",
        "    if pos < 85:\n",
        "        return (pos * 3, 255 - pos * 3, 0)\n",
        "    elif pos < 170:\n",
        "        pos -= 85\n",
        "        return (255 - pos * 3, 0, pos * 3)\n",
        "    else:\n",
        "        pos -= 170\n",
        "        return (0, pos * 3, 255 - pos * 3)\n",
        "\n",
        "# Run rainbow cycle\n",
        "while True:\n",
        "    rainbow_cycle(0.01)"
      ],
      "metadata": {
        "id": "uAiw2774jECA"
      },
      "execution_count": null,
      "outputs": []
    }
  ]
}