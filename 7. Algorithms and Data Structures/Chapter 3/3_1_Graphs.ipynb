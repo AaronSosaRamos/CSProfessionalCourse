{
  "nbformat": 4,
  "nbformat_minor": 0,
  "metadata": {
    "colab": {
      "provenance": []
    },
    "kernelspec": {
      "name": "python3",
      "display_name": "Python 3"
    },
    "language_info": {
      "name": "python"
    }
  },
  "cells": [
    {
      "cell_type": "markdown",
      "source": [
        "#Graphs"
      ],
      "metadata": {
        "id": "Dr_mKDa44IBt"
      }
    },
    {
      "cell_type": "markdown",
      "source": [
        "Graphs are mathematical structures used to represent relationships between objects. They consist of a set of vertices (nodes) and a set of edges (connections) that connect them. Graphs are used in a wide range of applications, from computer networks to social networks and search algorithms.\n",
        "\n"
      ],
      "metadata": {
        "id": "B_cn6sju4J1S"
      }
    },
    {
      "cell_type": "markdown",
      "source": [
        "Definitions:\n",
        "* Graph: A graph G is defined as an ordered pair (V, E), where V is a finite set of vertices and E is a set of edges that connect the vertices.\n",
        "* Vertex (Node): A vertex is a point in the graph that can represent individual entities such as people, places, or events.\n",
        "* Edge (Connection): An edge is a connection between two vertices in the graph. It can be directed or undirected, depending on whether it has a direction or not.\n",
        "* Directed Graph: A directed graph is one in which the edges have a specific direction, i.e., the origin and destination of each edge are specified.\n",
        "* Undirected Graph: An undirected graph is one in which the edges have no direction, i.e., the connection between nodes is bidirectional.\n",
        "* Edge Weight: In some graphs, edges may have an associated weight, representing the distance, cost, or any other metric between the connected vertices."
      ],
      "metadata": {
        "id": "8V05AmdW4TBT"
      }
    },
    {
      "cell_type": "markdown",
      "source": [
        "# Implementation of Graphs using Adjacency Matrices"
      ],
      "metadata": {
        "id": "a_A_C8aP4k7c"
      }
    },
    {
      "cell_type": "markdown",
      "source": [
        "An adjacency matrix is a convenient way to represent a graph using a two-dimensional array. In this matrix, the rows and columns represent the vertices, and the entries indicate whether there is a connection between the corresponding vertices.\n",
        "\n"
      ],
      "metadata": {
        "id": "jVunQaoG4lkL"
      }
    },
    {
      "cell_type": "code",
      "execution_count": 1,
      "metadata": {
        "colab": {
          "base_uri": "https://localhost:8080/"
        },
        "id": "pRgRSbm04Gwr",
        "outputId": "4975b5c2-3563-4a80-bdc4-50a5021afb1c"
      },
      "outputs": [
        {
          "output_type": "stream",
          "name": "stdout",
          "text": [
            "[0, 1, 1, 0, 0]\n",
            "[0, 0, 0, 1, 0]\n",
            "[0, 0, 0, 0, 1]\n",
            "[0, 0, 0, 0, 0]\n",
            "[0, 0, 0, 0, 0]\n"
          ]
        }
      ],
      "source": [
        "class GraphAdjacencyMatrix:\n",
        "    def __init__(self, num_vertices):\n",
        "        self.num_vertices = num_vertices\n",
        "        self.matrix = [[0] * num_vertices for _ in range(num_vertices)]\n",
        "\n",
        "    def add_edge(self, source, destination, weight=1):\n",
        "        self.matrix[source][destination] = weight\n",
        "        # If it's an undirected graph, uncomment the following line\n",
        "        # self.matrix[destination][source] = weight\n",
        "\n",
        "    def remove_edge(self, source, destination):\n",
        "        self.matrix[source][destination] = 0\n",
        "        # If it's an undirected graph, uncomment the following line\n",
        "        # self.matrix[destination][source] = 0\n",
        "\n",
        "    def print_graph(self):\n",
        "        for row in self.matrix:\n",
        "            print(row)\n",
        "\n",
        "# Example usage\n",
        "graph = GraphAdjacencyMatrix(5)\n",
        "graph.add_edge(0, 1)\n",
        "graph.add_edge(0, 2)\n",
        "graph.add_edge(1, 3)\n",
        "graph.add_edge(2, 4)\n",
        "graph.print_graph()"
      ]
    },
    {
      "cell_type": "markdown",
      "source": [
        "#Implementation of Graphs using Adjacency Lists"
      ],
      "metadata": {
        "id": "umAekyaI5MBU"
      }
    },
    {
      "cell_type": "markdown",
      "source": [
        "Adjacency lists are a data structure that stores a graph's connections using linked lists or arrays. Each node in the graph has an associated list containing the vertices it is connected to.\n",
        "\n"
      ],
      "metadata": {
        "id": "JvyyQIen5QWj"
      }
    },
    {
      "cell_type": "code",
      "source": [
        "class GraphAdjacencyList:\n",
        "    def __init__(self, num_vertices):\n",
        "        self.num_vertices = num_vertices\n",
        "        self.list = [[] for _ in range(num_vertices)]\n",
        "\n",
        "    def add_edge(self, source, destination, weight=1):\n",
        "        self.list[source].append((destination, weight))\n",
        "        # If it's an undirected graph, uncomment the following line\n",
        "        # self.list[destination].append((source, weight))\n",
        "\n",
        "    def remove_edge(self, source, destination):\n",
        "        for i, (v, _) in enumerate(self.list[source]):\n",
        "            if v == destination:\n",
        "                del self.list[source][i]\n",
        "                break\n",
        "        # If it's an undirected graph, uncomment the following lines\n",
        "        # for i, (v, _) in enumerate(self.list[destination]):\n",
        "        #     if v == source:\n",
        "        #         del self.list[destination][i]\n",
        "        #         break\n",
        "\n",
        "    def print_graph(self):\n",
        "        for i, adj_list in enumerate(self.list):\n",
        "            print(f\"Vertex {i}: {adj_list}\")\n",
        "\n",
        "# Example usage\n",
        "graph = GraphAdjacencyList(5)\n",
        "graph.add_edge(0, 1)\n",
        "graph.add_edge(0, 2)\n",
        "graph.add_edge(1, 3)\n",
        "graph.add_edge(2, 4)\n",
        "graph.print_graph()"
      ],
      "metadata": {
        "colab": {
          "base_uri": "https://localhost:8080/"
        },
        "id": "LhZRUH1s5P2M",
        "outputId": "e8fee5d1-3901-40f5-e07c-91ddc1e2c735"
      },
      "execution_count": 2,
      "outputs": [
        {
          "output_type": "stream",
          "name": "stdout",
          "text": [
            "Vertex 0: [(1, 1), (2, 1)]\n",
            "Vertex 1: [(3, 1)]\n",
            "Vertex 2: [(4, 1)]\n",
            "Vertex 3: []\n",
            "Vertex 4: []\n"
          ]
        }
      ]
    },
    {
      "cell_type": "markdown",
      "source": [
        "#Insertion, Search, and Deletion of Nodes and Edges"
      ],
      "metadata": {
        "id": "4ljs2Wea5oxK"
      }
    },
    {
      "cell_type": "markdown",
      "source": [
        "To insert, search, and delete nodes and edges in a graph, specific methods can be implemented in the graph classes above.\n",
        "\n"
      ],
      "metadata": {
        "id": "QzBN333i6Q68"
      }
    },
    {
      "cell_type": "code",
      "source": [
        "class GraphAdjacencyMatrix:\n",
        "    def __init__(self, num_vertices):\n",
        "        self.num_vertices = num_vertices\n",
        "        self.matrix = [[0] * num_vertices for _ in range(num_vertices)]\n",
        "\n",
        "    def add_edge(self, source, destination, weight=1):\n",
        "        self.matrix[source][destination] = weight\n",
        "        # If it's an undirected graph, uncomment the following line\n",
        "        # self.matrix[destination][source] = weight\n",
        "\n",
        "    def remove_edge(self, source, destination):\n",
        "        self.matrix[source][destination] = 0\n",
        "        # If it's an undirected graph, uncomment the following line\n",
        "        # self.matrix[destination][source] = 0\n",
        "\n",
        "    def print_graph(self):\n",
        "        for row in self.matrix:\n",
        "            print(row)\n",
        "\n",
        "    def insert_vertex(self):\n",
        "        self.num_vertices += 1\n",
        "        for row in self.matrix:\n",
        "            row.append(0)\n",
        "        self.matrix.append([0] * self.num_vertices)\n",
        "\n",
        "    def delete_vertex(self, vertex):\n",
        "        del self.matrix[vertex]\n",
        "        self.num_vertices -= 1\n",
        "        for row in self.matrix:\n",
        "            del row[vertex]\n",
        "\n",
        "    def insert_edge(self, source, destination, weight=1):\n",
        "        if source < self.num_vertices and destination < self.num_vertices:\n",
        "            self.matrix[source][destination] = weight\n",
        "            # If it's an undirected graph, uncomment the following line\n",
        "            # self.matrix[destination][source] = weight\n",
        "\n",
        "    def delete_edge(self, source, destination):\n",
        "        if source < self.num_vertices and destination < self.num_vertices:\n",
        "            self.matrix[source][destination] = 0\n",
        "            # If it's an undirected graph, uncomment the following line\n",
        "            # self.matrix[destination][source] = 0\n",
        "\n",
        "\n",
        "class GraphAdjacencyList:\n",
        "    def __init__(self, num_vertices):\n",
        "        self.num_vertices = num_vertices\n",
        "        self.list = [[] for _ in range(num_vertices)]\n",
        "\n",
        "    def add_edge(self, source, destination, weight=1):\n",
        "        self.list[source].append((destination, weight))\n",
        "        # If it's an undirected graph, uncomment the following line\n",
        "        # self.list[destination].append((source, weight))\n",
        "\n",
        "    def remove_edge(self, source, destination):\n",
        "        for i, (v, _) in enumerate(self.list[source]):\n",
        "            if v == destination:\n",
        "                del self.list[source][i]\n",
        "                break\n",
        "        # If it's an undirected graph, uncomment the following lines\n",
        "        # for i, (v, _) in enumerate(self.list[destination]):\n",
        "        #     if v == source:\n",
        "        #         del self.list[destination][i]\n",
        "        #         break\n",
        "\n",
        "    def print_graph(self):\n",
        "        for i, adj_list in enumerate(self.list):\n",
        "            print(f\"Vertex {i}: {adj_list}\")\n",
        "\n",
        "    def insert_vertex(self):\n",
        "        self.num_vertices += 1\n",
        "        self.list.append([])\n",
        "\n",
        "    def delete_vertex(self, vertex):\n",
        "        del self.list[vertex]\n",
        "        for adj_list in self.list:\n",
        "            for i, (v, _) in enumerate(adj_list):\n",
        "                if v == vertex:\n",
        "                    del adj_list[i]\n",
        "\n",
        "    def insert_edge(self, source, destination, weight=1):\n",
        "        if source < self.num_vertices and destination < self.num_vertices:\n",
        "            self.list[source].append((destination, weight))\n",
        "            # If it's an undirected graph, uncomment the following line\n",
        "            # self.list[destination].append((source, weight))\n",
        "\n",
        "    def delete_edge(self, source, destination):\n",
        "        if source < self.num_vertices and destination < self.num_vertices:\n",
        "            for i, (v, _) in enumerate(self.list[source]):\n",
        "                if v == destination:\n",
        "                    del self.list[source][i]\n",
        "                    break\n",
        "            # If it's an undirected graph, uncomment the following lines\n",
        "            # for i, (v, _) in enumerate(self.list[destination]):\n",
        "            #     if v == source:\n",
        "            #         del self.list[destination][i]\n",
        "            #         break"
      ],
      "metadata": {
        "id": "RFuB4Pnq5pfa"
      },
      "execution_count": 6,
      "outputs": []
    },
    {
      "cell_type": "code",
      "source": [
        "# Example usage\n",
        "print(\"Graph using adjacency matrix:\")\n",
        "graph_matrix = GraphAdjacencyMatrix(5)\n",
        "graph_matrix.insert_vertex()\n",
        "graph_matrix.insert_edge(0, 1)\n",
        "graph_matrix.insert_edge(0, 2)\n",
        "graph_matrix.insert_edge(1, 3)\n",
        "graph_matrix.insert_edge(2, 4)\n",
        "graph_matrix.print_graph()\n",
        "\n",
        "print(\"\\nGraph using adjacency list:\")\n",
        "graph_list = GraphAdjacencyList(5)\n",
        "graph_list.insert_vertex()\n",
        "graph_list.insert_edge(0, 1)\n",
        "graph_list.insert_edge(0, 2)\n",
        "graph_list.insert_edge(1, 3)\n",
        "graph_list.insert_edge(2, 4)\n",
        "graph_list.print_graph()"
      ],
      "metadata": {
        "colab": {
          "base_uri": "https://localhost:8080/"
        },
        "id": "-1-tpNeP6mdS",
        "outputId": "c78387fc-57ce-483d-e45b-7d218088c65c"
      },
      "execution_count": 9,
      "outputs": [
        {
          "output_type": "stream",
          "name": "stdout",
          "text": [
            "Graph using adjacency matrix:\n",
            "[0, 1, 1, 0, 0, 0]\n",
            "[0, 0, 0, 1, 0, 0]\n",
            "[0, 0, 0, 0, 1, 0]\n",
            "[0, 0, 0, 0, 0, 0]\n",
            "[0, 0, 0, 0, 0, 0]\n",
            "[0, 0, 0, 0, 0, 0]\n",
            "\n",
            "Graph using adjacency list:\n",
            "Vertex 0: [(1, 1), (2, 1)]\n",
            "Vertex 1: [(3, 1)]\n",
            "Vertex 2: [(4, 1)]\n",
            "Vertex 3: []\n",
            "Vertex 4: []\n",
            "Vertex 5: []\n"
          ]
        }
      ]
    },
    {
      "cell_type": "code",
      "source": [
        "class GraphAdjacencyList:\n",
        "    def __init__(self):\n",
        "        self.graph = {}\n",
        "\n",
        "    def add_vertex(self, vertex):\n",
        "        if vertex not in self.graph:\n",
        "            self.graph[vertex] = []\n",
        "\n",
        "    def add_edge(self, source, destination):\n",
        "        if source in self.graph and destination in self.graph:\n",
        "            self.graph[source].append(destination)\n",
        "            self.graph[destination].append(source)\n",
        "\n",
        "    def remove_vertex(self, vertex):\n",
        "        if vertex in self.graph:\n",
        "            del self.graph[vertex]\n",
        "            for adj_list in self.graph.values():\n",
        "                if vertex in adj_list:\n",
        "                    adj_list.remove(vertex)\n",
        "\n",
        "    def remove_edge(self, source, destination):\n",
        "        if source in self.graph and destination in self.graph:\n",
        "            if destination in self.graph[source]:\n",
        "                self.graph[source].remove(destination)\n",
        "            if source in self.graph[destination]:\n",
        "                self.graph[destination].remove(source)\n",
        "\n",
        "    def print_graph(self):\n",
        "        for vertex, adj_list in self.graph.items():\n",
        "            print(f\"Vertex {vertex}: {adj_list}\")\n",
        "\n",
        "\n",
        "# Example usage\n",
        "graph = GraphAdjacencyList()\n",
        "graph.add_vertex(0)\n",
        "graph.add_vertex(1)\n",
        "graph.add_vertex(2)\n",
        "graph.add_vertex(3)\n",
        "graph.add_edge(0, 1)\n",
        "graph.add_edge(0, 2)\n",
        "graph.add_edge(1, 3)\n",
        "graph.add_edge(2, 3)\n",
        "graph.print_graph()\n",
        "\n",
        "print(\"Removing vertex 1 and edge (2, 3)...\")\n",
        "graph.remove_vertex(1)\n",
        "graph.remove_edge(2, 3)\n",
        "graph.print_graph()\n"
      ],
      "metadata": {
        "colab": {
          "base_uri": "https://localhost:8080/"
        },
        "id": "RFEpYPPK63Xz",
        "outputId": "e10e6f07-34d5-44c7-c7ef-e2dd20150ad7"
      },
      "execution_count": 10,
      "outputs": [
        {
          "output_type": "stream",
          "name": "stdout",
          "text": [
            "Vertex 0: [1, 2]\n",
            "Vertex 1: [0, 3]\n",
            "Vertex 2: [0, 3]\n",
            "Vertex 3: [1, 2]\n",
            "Removing vertex 1 and edge (2, 3)...\n",
            "Vertex 0: [2]\n",
            "Vertex 2: [0]\n",
            "Vertex 3: []\n"
          ]
        }
      ]
    },
    {
      "cell_type": "code",
      "source": [
        "class WeightedGraph:\n",
        "    def __init__(self):\n",
        "        self.graph = {}\n",
        "\n",
        "    def add_vertex(self, vertex):\n",
        "        if vertex not in self.graph:\n",
        "            self.graph[vertex] = {}\n",
        "\n",
        "    def add_edge(self, source, destination, weight):\n",
        "        if source in self.graph and destination in self.graph:\n",
        "            self.graph[source][destination] = weight\n",
        "            self.graph[destination][source] = weight\n",
        "\n",
        "    def remove_vertex(self, vertex):\n",
        "        if vertex in self.graph:\n",
        "            del self.graph[vertex]\n",
        "            for adj_list in self.graph.values():\n",
        "                if vertex in adj_list:\n",
        "                    del adj_list[vertex]\n",
        "\n",
        "    def remove_edge(self, source, destination):\n",
        "        if source in self.graph and destination in self.graph:\n",
        "            if destination in self.graph[source]:\n",
        "                del self.graph[source][destination]\n",
        "            if source in self.graph[destination]:\n",
        "                del self.graph[destination][source]\n",
        "\n",
        "    def print_graph(self):\n",
        "        for vertex, adj_list in self.graph.items():\n",
        "            print(f\"Vertex {vertex}: {adj_list}\")\n",
        "\n",
        "\n",
        "# Example usage\n",
        "graph = WeightedGraph()\n",
        "graph.add_vertex(0)\n",
        "graph.add_vertex(1)\n",
        "graph.add_vertex(2)\n",
        "graph.add_vertex(3)\n",
        "graph.add_edge(0, 1, 5)\n",
        "graph.add_edge(0, 2, 7)\n",
        "graph.add_edge(1, 3, 9)\n",
        "graph.add_edge(2, 3, 8)\n",
        "graph.print_graph()\n",
        "\n",
        "print(\"Removing vertex 1 and edge (2, 3)...\")\n",
        "graph.remove_vertex(1)\n",
        "graph.remove_edge(2, 3)\n",
        "graph.print_graph()\n"
      ],
      "metadata": {
        "colab": {
          "base_uri": "https://localhost:8080/"
        },
        "id": "TWBtP3DI6_RT",
        "outputId": "4a0a48ae-d051-4393-c5b0-86428eaae677"
      },
      "execution_count": 11,
      "outputs": [
        {
          "output_type": "stream",
          "name": "stdout",
          "text": [
            "Vertex 0: {1: 5, 2: 7}\n",
            "Vertex 1: {0: 5, 3: 9}\n",
            "Vertex 2: {0: 7, 3: 8}\n",
            "Vertex 3: {1: 9, 2: 8}\n",
            "Removing vertex 1 and edge (2, 3)...\n",
            "Vertex 0: {2: 7}\n",
            "Vertex 2: {0: 7}\n",
            "Vertex 3: {}\n"
          ]
        }
      ]
    },
    {
      "cell_type": "markdown",
      "source": [
        "#Minimum Spanning Tree"
      ],
      "metadata": {
        "id": "vt-ywFjB5_7j"
      }
    },
    {
      "cell_type": "markdown",
      "source": [
        "The minimum spanning tree is a subgraph of a connected graph that contains all the vertices of the original graph and is a tree (no cycles) with the minimum sum of the weights of its edges."
      ],
      "metadata": {
        "id": "mJ2SdOY66A3D"
      }
    },
    {
      "cell_type": "code",
      "source": [
        "import heapq\n",
        "\n",
        "def prim(graph):\n",
        "    num_vertices = graph.num_vertices\n",
        "    visited = [False] * num_vertices\n",
        "    min_spanning_tree = []\n",
        "    edge_heap = []\n",
        "\n",
        "    def add_edges(vertex):\n",
        "        visited[vertex] = True\n",
        "        for neighbor, weight in graph.list[vertex]:\n",
        "            if not visited[neighbor]:\n",
        "                heapq.heappush(edge_heap, (weight, vertex, neighbor))\n",
        "\n",
        "    start_vertex = 0  # Starting from vertex 0\n",
        "    add_edges(start_vertex)\n",
        "\n",
        "    while edge_heap:\n",
        "        weight, source, destination = heapq.heappop(edge_heap)\n",
        "        if not visited[destination]:\n",
        "            min_spanning_tree.append((source, destination, weight))\n",
        "            add_edges(destination)\n",
        "\n",
        "    return min_spanning_tree\n",
        "\n",
        "# Example usage\n",
        "graph = GraphAdjacencyList(5)\n",
        "graph.add_edge(0, 1, 2)\n",
        "graph.add_edge(0, 3, 6)\n",
        "graph.add_edge(1, 2, 3)\n",
        "graph.add_edge(1, 3, 8)\n",
        "graph.add_edge(1, 4, 5)\n",
        "graph.add_edge(2, 4, 7)\n",
        "graph.add_edge(3, 4, 9)\n",
        "\n",
        "min_spanning_tree = prim(graph)\n",
        "print(\"Minimum Spanning Tree:\")\n",
        "for edge in min_spanning_tree:\n",
        "    print(edge)\n"
      ],
      "metadata": {
        "colab": {
          "base_uri": "https://localhost:8080/"
        },
        "id": "NaKaZD8S58DD",
        "outputId": "e6af058d-eaf4-4e17-ba70-58f54cf3e800"
      },
      "execution_count": 4,
      "outputs": [
        {
          "output_type": "stream",
          "name": "stdout",
          "text": [
            "Minimum Spanning Tree:\n",
            "(0, 1, 2)\n",
            "(1, 2, 3)\n",
            "(1, 4, 5)\n",
            "(0, 3, 6)\n"
          ]
        }
      ]
    },
    {
      "cell_type": "markdown",
      "source": [
        "#Graph Search Algorithms"
      ],
      "metadata": {
        "id": "fV7iL76M7ow4"
      }
    },
    {
      "cell_type": "markdown",
      "source": [
        "Depth-First Search (DFS): DFS explores as far as possible along each branch before backtracking. It uses a stack to keep track of the nodes to visit next.\n",
        "\n"
      ],
      "metadata": {
        "id": "HbfP4dcX7pvg"
      }
    },
    {
      "cell_type": "code",
      "source": [
        "class Graph:\n",
        "    def __init__(self):\n",
        "        self.graph = {}\n",
        "\n",
        "    def add_edge(self, u, v):\n",
        "        if u not in self.graph:\n",
        "            self.graph[u] = []\n",
        "        self.graph[u].append(v)\n",
        "\n",
        "    def dfs_util(self, v, visited):\n",
        "        visited.add(v)\n",
        "        print(v, end=' ')\n",
        "\n",
        "        for neighbor in self.graph.get(v, []):\n",
        "            if neighbor not in visited:\n",
        "                self.dfs_util(neighbor, visited)\n",
        "\n",
        "    def dfs(self, start):\n",
        "        visited = set()\n",
        "        self.dfs_util(start, visited)\n",
        "\n",
        "# Example usage\n",
        "graph = Graph()\n",
        "graph.add_edge(0, 1)\n",
        "graph.add_edge(0, 2)\n",
        "graph.add_edge(1, 2)\n",
        "graph.add_edge(2, 0)\n",
        "graph.add_edge(2, 3)\n",
        "graph.add_edge(3, 3)\n",
        "\n",
        "print(\"DFS Traversal:\")\n",
        "graph.dfs(2)"
      ],
      "metadata": {
        "colab": {
          "base_uri": "https://localhost:8080/"
        },
        "id": "EvQmtwm88aXr",
        "outputId": "f9310aec-78b2-478c-c248-dcb404263a70"
      },
      "execution_count": 12,
      "outputs": [
        {
          "output_type": "stream",
          "name": "stdout",
          "text": [
            "DFS Traversal:\n",
            "2 0 1 3 "
          ]
        }
      ]
    },
    {
      "cell_type": "markdown",
      "source": [
        "Breadth-First Search (BFS): BFS explores vertices in layers, starting from the root vertex, and explores all of its neighbors before moving on to the next layer.\n",
        "\n"
      ],
      "metadata": {
        "id": "pQpKDsEh8chc"
      }
    },
    {
      "cell_type": "code",
      "source": [
        "from collections import deque\n",
        "\n",
        "class Graph:\n",
        "    def __init__(self):\n",
        "        self.graph = {}\n",
        "\n",
        "    def add_edge(self, u, v):\n",
        "        if u not in self.graph:\n",
        "            self.graph[u] = []\n",
        "        self.graph[u].append(v)\n",
        "\n",
        "    def bfs(self, start):\n",
        "        visited = set()\n",
        "        queue = deque([start])\n",
        "        visited.add(start)\n",
        "\n",
        "        while queue:\n",
        "            vertex = queue.popleft()\n",
        "            print(vertex, end=' ')\n",
        "\n",
        "            for neighbor in self.graph.get(vertex, []):\n",
        "                if neighbor not in visited:\n",
        "                    visited.add(neighbor)\n",
        "                    queue.append(neighbor)\n",
        "\n",
        "# Example usage\n",
        "graph = Graph()\n",
        "graph.add_edge(0, 1)\n",
        "graph.add_edge(0, 2)\n",
        "graph.add_edge(1, 2)\n",
        "graph.add_edge(2, 0)\n",
        "graph.add_edge(2, 3)\n",
        "graph.add_edge(3, 3)\n",
        "\n",
        "print(\"BFS Traversal:\")\n",
        "graph.bfs(2)"
      ],
      "metadata": {
        "id": "CXf614IU8gFk",
        "outputId": "7fb2d04a-aada-40a3-81c6-37aa7d99e42e",
        "colab": {
          "base_uri": "https://localhost:8080/"
        }
      },
      "execution_count": 13,
      "outputs": [
        {
          "output_type": "stream",
          "name": "stdout",
          "text": [
            "BFS Traversal:\n",
            "2 0 3 1 "
          ]
        }
      ]
    }
  ]
}