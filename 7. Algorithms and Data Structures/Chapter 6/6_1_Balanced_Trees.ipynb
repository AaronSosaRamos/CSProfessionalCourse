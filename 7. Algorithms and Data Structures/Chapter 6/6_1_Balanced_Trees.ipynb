{
  "nbformat": 4,
  "nbformat_minor": 0,
  "metadata": {
    "colab": {
      "provenance": []
    },
    "kernelspec": {
      "name": "python3",
      "display_name": "Python 3"
    },
    "language_info": {
      "name": "python"
    }
  },
  "cells": [
    {
      "cell_type": "markdown",
      "source": [
        "#Balanced Trees"
      ],
      "metadata": {
        "id": "mGnXTtMqNiQv"
      }
    },
    {
      "cell_type": "markdown",
      "source": [
        "Balanced trees are data structures used in computer science to organize and store data efficiently. They maintain a balance between the height of the left and right subtrees, which ensures that the tree remains relatively balanced and prevents worst-case scenarios such as linear search times.\n",
        "\n"
      ],
      "metadata": {
        "id": "k_DBFa0SNjk8"
      }
    },
    {
      "cell_type": "markdown",
      "source": [
        "Balanced trees are trees in which the height difference between the left and right subtrees of any node is restricted. This restriction helps maintain the overall balance of the tree, ensuring efficient operations like insertion, deletion, and search.\n",
        "\n"
      ],
      "metadata": {
        "id": "IriB8gBWNoLM"
      }
    },
    {
      "cell_type": "markdown",
      "source": [
        "#AVL Trees"
      ],
      "metadata": {
        "id": "_G5Yz4RaOoXf"
      }
    },
    {
      "cell_type": "markdown",
      "source": [
        "AVL (Adelson-Velsky and Landis) trees are a type of self-balancing binary search tree. They are named after the inventors who proposed them. In AVL trees, the height difference between the left and right subtrees (the balance factor) of every node is at most 1.\n",
        "\n"
      ],
      "metadata": {
        "id": "xwVwjg_DNtfH"
      }
    },
    {
      "cell_type": "code",
      "execution_count": 1,
      "metadata": {
        "id": "a_41QMsjNd1D"
      },
      "outputs": [],
      "source": [
        "class AVLNode:\n",
        "    def __init__(self, key):\n",
        "        self.key = key\n",
        "        self.left = None\n",
        "        self.right = None\n",
        "        self.height = 1\n",
        "\n",
        "class AVLTree:\n",
        "    def __init__(self):\n",
        "        self.root = None\n",
        "\n",
        "    def insert(self, root, key):\n",
        "        if not root:\n",
        "            return AVLNode(key)\n",
        "        elif key < root.key:\n",
        "            root.left = self.insert(root.left, key)\n",
        "        else:\n",
        "            root.right = self.insert(root.right, key)\n",
        "\n",
        "        root.height = 1 + max(self.get_height(root.left), self.get_height(root.right))\n",
        "\n",
        "        balance = self.get_balance(root)\n",
        "\n",
        "        if balance > 1:\n",
        "            if key < root.left.key:\n",
        "                return self.rotate_right(root)\n",
        "            else:\n",
        "                root.left = self.rotate_left(root.left)\n",
        "                return self.rotate_right(root)\n",
        "        if balance < -1:\n",
        "            if key > root.right.key:\n",
        "                return self.rotate_left(root)\n",
        "            else:\n",
        "                root.right = self.rotate_right(root.right)\n",
        "                return self.rotate_left(root)\n",
        "\n",
        "        return root\n",
        "\n",
        "    def get_height(self, root):\n",
        "        if not root:\n",
        "            return 0\n",
        "        return root.height\n",
        "\n",
        "    def get_balance(self, root):\n",
        "        if not root:\n",
        "            return 0\n",
        "        return self.get_height(root.left) - self.get_height(root.right)\n",
        "\n",
        "    def rotate_right(self, z):\n",
        "        y = z.left\n",
        "        T3 = y.right\n",
        "\n",
        "        y.right = z\n",
        "        z.left = T3\n",
        "\n",
        "        z.height = 1 + max(self.get_height(z.left), self.get_height(z.right))\n",
        "        y.height = 1 + max(self.get_height(y.left), self.get_height(y.right))\n",
        "\n",
        "        return y\n",
        "\n",
        "    def rotate_left(self, z):\n",
        "        y = z.right\n",
        "        T2 = y.left\n",
        "\n",
        "        y.left = z\n",
        "        z.right = T2\n",
        "\n",
        "        z.height = 1 + max(self.get_height(z.left), self.get_height(z.right))\n",
        "        y.height = 1 + max(self.get_height(y.left), self.get_height(y.right))\n",
        "\n",
        "        return y\n"
      ]
    },
    {
      "cell_type": "code",
      "source": [
        "# Example usage of AVL tree\n",
        "from random import randint\n",
        "\n",
        "# Import AVL tree implementation\n",
        "\n",
        "avl_tree = AVLTree()\n",
        "\n",
        "# Insert random numbers into the AVL tree\n",
        "for _ in range(10):\n",
        "    value = randint(0, 100)\n",
        "    print(\"Inserting value:\", value)\n",
        "    avl_tree.root = avl_tree.insert(avl_tree.root, value)\n",
        "\n",
        "# Print the AVL tree in-order traversal\n",
        "def inorder_traversal(root):\n",
        "    if root:\n",
        "        inorder_traversal(root.left)\n",
        "        print(root.key, end=\" \")\n",
        "        inorder_traversal(root.right)\n",
        "\n",
        "print(\"In-order traversal of AVL tree:\")\n",
        "inorder_traversal(avl_tree.root)\n"
      ],
      "metadata": {
        "colab": {
          "base_uri": "https://localhost:8080/"
        },
        "id": "-vsNR5U5O6NO",
        "outputId": "1b6a2b31-cc2d-4754-9f9f-137d3b14f70d"
      },
      "execution_count": 2,
      "outputs": [
        {
          "output_type": "stream",
          "name": "stdout",
          "text": [
            "Inserting value: 34\n",
            "Inserting value: 91\n",
            "Inserting value: 3\n",
            "Inserting value: 81\n",
            "Inserting value: 55\n",
            "Inserting value: 69\n",
            "Inserting value: 51\n",
            "Inserting value: 71\n",
            "Inserting value: 83\n",
            "Inserting value: 83\n",
            "In-order traversal of AVL tree:\n",
            "3 34 51 55 69 71 81 83 83 91 "
          ]
        }
      ]
    },
    {
      "cell_type": "markdown",
      "source": [
        "#B-Trees"
      ],
      "metadata": {
        "id": "8u4Mh0XHPCw2"
      }
    },
    {
      "cell_type": "markdown",
      "source": [
        "B-trees are a type of self-balancing search tree commonly used in databases and file systems. They are designed to work well with blocks of data, allowing efficient insertion, deletion, and retrieval operations even when the data is too large to fit in memory.\n",
        "\n"
      ],
      "metadata": {
        "id": "89mpkKUNPDrG"
      }
    },
    {
      "cell_type": "code",
      "source": [
        "class BTreeNode:\n",
        "    def __init__(self, leaf=True):\n",
        "        self.leaf = leaf\n",
        "        self.keys = []\n",
        "        self.children = []\n",
        "\n",
        "class BTree:\n",
        "    def __init__(self, t):\n",
        "        self.root = BTreeNode()\n",
        "        self.t = t\n",
        "\n",
        "    def insert(self, k):\n",
        "        root = self.root\n",
        "        if len(root.keys) == (2 * self.t) - 1:\n",
        "            new_root = BTreeNode(leaf=False)\n",
        "            new_root.children.append(self.root)\n",
        "            self.split_child(new_root, 0)\n",
        "            self.root = new_root\n",
        "            self.insert_non_full(new_root, k)\n",
        "        else:\n",
        "            self.insert_non_full(root, k)\n",
        "\n",
        "    def insert_non_full(self, x, k):\n",
        "        i = len(x.keys) - 1\n",
        "        if x.leaf:\n",
        "            x.keys.append(None)\n",
        "            while i >= 0 and k < x.keys[i]:\n",
        "                x.keys[i + 1] = x.keys[i]\n",
        "                i -= 1\n",
        "            x.keys[i + 1] = k\n",
        "        else:\n",
        "            while i >= 0 and k < x.keys[i]:\n",
        "                i -= 1\n",
        "            i += 1\n",
        "            if len(x.children[i].keys) == (2 * self.t) - 1:\n",
        "                self.split_child(x, i)\n",
        "                if k > x.keys[i]:\n",
        "                    i += 1\n",
        "            self.insert_non_full(x.children[i], k)\n",
        "\n",
        "    def split_child(self, x, i):\n",
        "        t = self.t\n",
        "        y = x.children[i]\n",
        "        z = BTreeNode(leaf=y.leaf)\n",
        "\n",
        "        x.children.insert(i + 1, z)\n",
        "        x.keys.insert(i, y.keys[t - 1])\n",
        "\n",
        "        z.keys = y.keys[t:(2 * t - 1)]\n",
        "        y.keys = y.keys[0:(t - 1)]\n",
        "\n",
        "        if not y.leaf:\n",
        "            z.children = y.children[t:(2 * t)]\n",
        "            y.children = y.children[0:(t - 1)]\n"
      ],
      "metadata": {
        "id": "SsZ7Il53PE8u"
      },
      "execution_count": 3,
      "outputs": []
    },
    {
      "cell_type": "code",
      "source": [
        "# Example usage of B-tree\n",
        "# Import B-tree implementation\n",
        "\n",
        "b_tree = BTree(t=3)  # Creating a B-tree with degree 3\n",
        "\n",
        "# Insert values into the B-tree\n",
        "values = [10, 20, 5, 6, 12, 30, 7, 17, 3, 9, 8]\n",
        "for value in values:\n",
        "    b_tree.insert(value)\n",
        "\n",
        "# Print the B-tree\n",
        "print(\"B-tree structure:\")\n",
        "print(b_tree.root.keys)\n",
        "for child in b_tree.root.children:\n",
        "    print(child.keys)\n"
      ],
      "metadata": {
        "colab": {
          "base_uri": "https://localhost:8080/"
        },
        "id": "psn9GYNlPJJQ",
        "outputId": "72c51964-2a6c-4f08-a8d3-9d4fec83a2e3"
      },
      "execution_count": 4,
      "outputs": [
        {
          "output_type": "stream",
          "name": "stdout",
          "text": [
            "B-tree structure:\n",
            "[6, 10]\n",
            "[3, 5]\n",
            "[7, 8, 9]\n",
            "[12, 17, 20, 30]\n"
          ]
        }
      ]
    },
    {
      "cell_type": "markdown",
      "source": [
        "#Tries"
      ],
      "metadata": {
        "id": "QMgJMXl4PbVP"
      }
    },
    {
      "cell_type": "markdown",
      "source": [
        "Tries, also known as prefix trees, are tree-based data structures used for storing a dynamic set of strings. Each node in a trie represents a common prefix shared by a set of strings. Tries are efficient for tasks like searching for strings with a specific prefix or performing dictionary-like operations.\n",
        "\n"
      ],
      "metadata": {
        "id": "AV7DSzJiPbJv"
      }
    },
    {
      "cell_type": "code",
      "source": [
        "class TrieNode:\n",
        "    def __init__(self):\n",
        "        self.children = {}\n",
        "        self.is_end_of_word = False\n",
        "\n",
        "class Trie:\n",
        "    def __init__(self):\n",
        "        self.root = TrieNode()\n",
        "\n",
        "    def insert(self, word):\n",
        "        node = self.root\n",
        "        for char in word:\n",
        "            if char not in node.children:\n",
        "                node.children[char] = TrieNode()\n",
        "            node = node.children[char]\n",
        "        node.is_end_of_word = True\n",
        "\n",
        "    def search(self, word):\n",
        "        node = self.root\n",
        "        for char in word:\n",
        "            if char not in node.children:\n",
        "                return False\n",
        "            node = node.children[char]\n",
        "        return node.is_end_of_word\n",
        "\n",
        "    def starts_with(self, prefix):\n",
        "        node = self.root\n",
        "        for char in prefix:\n",
        "            if char not in node.children:\n",
        "                return False\n",
        "            node = node.children[char]\n",
        "        return True\n"
      ],
      "metadata": {
        "id": "9OpUOUF-PeeY"
      },
      "execution_count": 5,
      "outputs": []
    },
    {
      "cell_type": "code",
      "source": [
        "# Example usage of Trie\n",
        "# Import Trie implementation\n",
        "\n",
        "trie = Trie()\n",
        "\n",
        "# Insert words into the trie\n",
        "words = [\"apple\", \"banana\", \"application\", \"app\"]\n",
        "for word in words:\n",
        "    trie.insert(word)\n",
        "\n",
        "# Search for words in the trie\n",
        "print(\"Searching for words in the trie:\")\n",
        "print(\"apple:\", trie.search(\"apple\"))  # True\n",
        "print(\"apples:\", trie.search(\"apples\"))  # False\n",
        "\n",
        "# Check if words start with a specific prefix\n",
        "print(\"Words starting with 'app':\")\n",
        "print(\"app:\", trie.starts_with(\"app\"))  # True\n",
        "print(\"ban:\", trie.starts_with(\"ban\"))  # False\n"
      ],
      "metadata": {
        "colab": {
          "base_uri": "https://localhost:8080/"
        },
        "id": "93CeGQ8UPq1P",
        "outputId": "365ebbd3-4a9d-427a-f52f-70f1946a9a64"
      },
      "execution_count": 6,
      "outputs": [
        {
          "output_type": "stream",
          "name": "stdout",
          "text": [
            "Searching for words in the trie:\n",
            "apple: True\n",
            "apples: False\n",
            "Words starting with 'app':\n",
            "app: True\n",
            "ban: True\n"
          ]
        }
      ]
    }
  ]
}