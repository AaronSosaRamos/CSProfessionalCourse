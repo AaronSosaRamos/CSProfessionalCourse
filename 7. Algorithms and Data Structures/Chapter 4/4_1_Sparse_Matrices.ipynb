{
  "nbformat": 4,
  "nbformat_minor": 0,
  "metadata": {
    "colab": {
      "provenance": []
    },
    "kernelspec": {
      "name": "python3",
      "display_name": "Python 3"
    },
    "language_info": {
      "name": "python"
    }
  },
  "cells": [
    {
      "cell_type": "markdown",
      "source": [
        "#Sparse Matrices"
      ],
      "metadata": {
        "id": "Bg1Ya1nn9Vyd"
      }
    },
    {
      "cell_type": "markdown",
      "source": [
        "Sparse matrices are matrices that have a significant number of elements equal to zero. They are commonly used in various computational applications to efficiently store and manipulate large matrices with mostly zero values.\n",
        "\n"
      ],
      "metadata": {
        "id": "CtdeP5KW9XaE"
      }
    },
    {
      "cell_type": "markdown",
      "source": [
        "#Definitions\n",
        "* Sparse Matrix: A matrix where most of the elements are zero.\n",
        "* Non-zero Elements: Elements in a sparse matrix that are not equal to zero.\n",
        "* Density: The proportion of non-zero elements to the total number of elements in a sparse matrix."
      ],
      "metadata": {
        "id": "n2iceaIb9gGz"
      }
    },
    {
      "cell_type": "markdown",
      "source": [
        "#Creation of Static and Dynamic Sparse Matrices"
      ],
      "metadata": {
        "id": "TMeVSygJ9sLz"
      }
    },
    {
      "cell_type": "markdown",
      "source": [
        "Sparse matrices can be created both statically and dynamically. Static sparse matrices have fixed dimensions and are initialized with specific non-zero values, while dynamic sparse matrices can dynamically adjust their size and non-zero values.\n"
      ],
      "metadata": {
        "id": "P7Trw6D39tXN"
      }
    },
    {
      "cell_type": "markdown",
      "source": [
        "#Static Sparse Matrix"
      ],
      "metadata": {
        "id": "nMjvYWVR9yRL"
      }
    },
    {
      "cell_type": "code",
      "execution_count": 1,
      "metadata": {
        "id": "g_tf_AUV8_ze"
      },
      "outputs": [],
      "source": [
        "# Static Sparse Matrix\n",
        "static_sparse_matrix = [\n",
        "    [0, 0, 0, 0, 0],\n",
        "    [0, 5, 0, 0, 0],\n",
        "    [0, 0, 0, 8, 0],\n",
        "    [0, 0, 0, 0, 0],\n",
        "    [0, 0, 0, 0, 3]\n",
        "]\n"
      ]
    },
    {
      "cell_type": "code",
      "source": [
        "import numpy as np\n",
        "\n",
        "# Static Sparse Matrix with NumPy\n",
        "static_sparse_matrix = np.array([\n",
        "    [0, 0, 0, 0, 0],\n",
        "    [0, 5, 0, 0, 0],\n",
        "    [0, 0, 0, 8, 0],\n",
        "    [0, 0, 0, 0, 0],\n",
        "    [0, 0, 0, 0, 3]\n",
        "])\n"
      ],
      "metadata": {
        "id": "RWBDyl5R-njR"
      },
      "execution_count": 4,
      "outputs": []
    },
    {
      "cell_type": "code",
      "source": [
        "import tensorflow as tf\n",
        "\n",
        "# Static Sparse Matrix with TensorFlow\n",
        "static_sparse_matrix = tf.sparse.SparseTensor(\n",
        "    indices=[[1, 1], [2, 3], [4, 4]],\n",
        "    values=[5, 8, 3],\n",
        "    dense_shape=[5, 5]\n",
        ")\n"
      ],
      "metadata": {
        "id": "WPnApjtc-o9o"
      },
      "execution_count": 5,
      "outputs": []
    },
    {
      "cell_type": "markdown",
      "source": [
        "#Dynamic Sparse Matrix using Dictionary"
      ],
      "metadata": {
        "id": "xa5W_3bZ92yk"
      }
    },
    {
      "cell_type": "code",
      "source": [
        "# Dynamic Sparse Matrix\n",
        "dynamic_sparse_matrix = {}\n",
        "\n",
        "# Inserting elements\n",
        "dynamic_sparse_matrix[(1, 1)] = 5\n",
        "dynamic_sparse_matrix[(2, 4)] = 8\n",
        "dynamic_sparse_matrix[(4, 5)] = 3\n"
      ],
      "metadata": {
        "id": "gfi4VY3692nT"
      },
      "execution_count": 2,
      "outputs": []
    },
    {
      "cell_type": "markdown",
      "source": [
        "#Insertion, Search, and Deletion Methods"
      ],
      "metadata": {
        "id": "uMWGv7_z9-60"
      }
    },
    {
      "cell_type": "markdown",
      "source": [
        "Methods for insertion, search, and deletion are crucial for efficient manipulation of sparse matrices. These methods help manage the non-zero elements effectively.\n",
        "\n"
      ],
      "metadata": {
        "id": "M0g8Mana-F_E"
      }
    },
    {
      "cell_type": "code",
      "source": [
        "# Insertion Method\n",
        "def insert_element(matrix, row, col, value):\n",
        "    matrix[(row, col)] = value\n",
        "\n",
        "# Search Method\n",
        "def search_element(matrix, row, col):\n",
        "    return matrix.get((row, col), 0)\n",
        "\n",
        "# Deletion Method\n",
        "def delete_element(matrix, row, col):\n",
        "    if (row, col) in matrix:\n",
        "        del matrix[(row, col)]\n",
        "\n",
        "# Example Usage\n",
        "insert_element(dynamic_sparse_matrix, 3, 3, 10)\n",
        "print(search_element(dynamic_sparse_matrix, 3, 3))  # Output: 10\n",
        "delete_element(dynamic_sparse_matrix, 3, 3)\n",
        "print(search_element(dynamic_sparse_matrix, 3, 3))  # Output: 0 (Element deleted)\n"
      ],
      "metadata": {
        "colab": {
          "base_uri": "https://localhost:8080/"
        },
        "id": "2J38E-Ks-Ghj",
        "outputId": "6bf4963b-0141-4df2-990f-ad03ce8479b6"
      },
      "execution_count": 3,
      "outputs": [
        {
          "output_type": "stream",
          "name": "stdout",
          "text": [
            "10\n",
            "0\n"
          ]
        }
      ]
    },
    {
      "cell_type": "code",
      "source": [
        "# Dynamic Sparse Matrix with NumPy\n",
        "dynamic_sparse_matrix = np.zeros((5, 5))\n",
        "\n",
        "# Insertion Method\n",
        "def insert_element(matrix, row, col, value):\n",
        "    matrix[row, col] = value\n",
        "\n",
        "# Search Method\n",
        "def search_element(matrix, row, col):\n",
        "    return matrix[row, col]\n",
        "\n",
        "# Deletion Method\n",
        "def delete_element(matrix, row, col):\n",
        "    matrix[row, col] = 0\n",
        "\n",
        "# Example Usage\n",
        "insert_element(dynamic_sparse_matrix, 3, 3, 10)\n",
        "print(search_element(dynamic_sparse_matrix, 3, 3))  # Output: 10\n",
        "delete_element(dynamic_sparse_matrix, 3, 3)\n",
        "print(search_element(dynamic_sparse_matrix, 3, 3))  # Output: 0 (Element deleted)\n"
      ],
      "metadata": {
        "colab": {
          "base_uri": "https://localhost:8080/"
        },
        "id": "BpYQGi18-wlg",
        "outputId": "407be312-24cc-4633-e6fc-2e3455fe7016"
      },
      "execution_count": 6,
      "outputs": [
        {
          "output_type": "stream",
          "name": "stdout",
          "text": [
            "10.0\n",
            "0.0\n"
          ]
        }
      ]
    },
    {
      "cell_type": "code",
      "source": [
        "# Dynamic Sparse Matrix with TensorFlow\n",
        "dynamic_sparse_matrix = tf.sparse.SparseTensor(\n",
        "    indices=[[1, 1], [2, 3], [4, 4]],\n",
        "    values=[5, 8, 3],\n",
        "    dense_shape=[5, 5]\n",
        ")\n",
        "\n",
        "# Insertion Method (Not applicable for TensorFlow SparseTensor)\n",
        "# Search Method (Not applicable for TensorFlow SparseTensor)\n",
        "# Deletion Method (Not applicable for TensorFlow SparseTensor)\n"
      ],
      "metadata": {
        "id": "rmgCeuVN-zkI"
      },
      "execution_count": 7,
      "outputs": []
    }
  ]
}