{
  "nbformat": 4,
  "nbformat_minor": 0,
  "metadata": {
    "colab": {
      "provenance": []
    },
    "kernelspec": {
      "name": "python3",
      "display_name": "Python 3"
    },
    "language_info": {
      "name": "python"
    }
  },
  "cells": [
    {
      "cell_type": "markdown",
      "source": [
        "#Hash Tables:"
      ],
      "metadata": {
        "id": "_evC3t-LKBxh"
      }
    },
    {
      "cell_type": "markdown",
      "source": [
        "A hash table is a data structure that implements an associative array abstract data type, a structure that can map keys to values. It uses a hash function to compute an index into an array of buckets or slots, from which the desired value can be found. Hash tables offer fast lookup, insertion, and deletion operations.\n",
        "\n"
      ],
      "metadata": {
        "id": "c-k1s-2DKKNY"
      }
    },
    {
      "cell_type": "markdown",
      "source": [
        "Definitions:\n",
        "* Hash Function: A function that converts keys into indexes within the hash table. It should distribute keys uniformly across the array of buckets to minimize collisions.\n",
        "* Collision: A situation that occurs when two different keys hash to the same index in the hash table. Collisions need to be resolved to maintain the integrity of the data structure."
      ],
      "metadata": {
        "id": "Pvi8QLQXKLQP"
      }
    },
    {
      "cell_type": "markdown",
      "source": [
        "#Hash Function"
      ],
      "metadata": {
        "id": "qDDrVcSnKWWf"
      }
    },
    {
      "cell_type": "markdown",
      "source": [
        "A hash function is responsible for taking an input (or 'key') and returning a fixed-size string of bytes. The function should ideally produce a unique hash for each unique input, and it should evenly distribute these hashes across the available space.\n",
        "\n"
      ],
      "metadata": {
        "id": "IQLU3WX2KZ14"
      }
    },
    {
      "cell_type": "code",
      "execution_count": 1,
      "metadata": {
        "colab": {
          "base_uri": "https://localhost:8080/"
        },
        "id": "_vL8E-KQJ3bj",
        "outputId": "2fb6b931-4520-41ef-9b0e-82ae2ae63e3c"
      },
      "outputs": [
        {
          "output_type": "stream",
          "name": "stdout",
          "text": [
            "The hash value for key 'example' is: 8\n"
          ]
        }
      ],
      "source": [
        "def hash_function(key, size_of_hash_table):\n",
        "    # Simple hash function example: sum of ASCII values modulo size of hash table\n",
        "    hash_value = sum(ord(char) for char in key) % size_of_hash_table\n",
        "    return hash_value\n",
        "\n",
        "# Example usage\n",
        "hash_table_size = 10\n",
        "key = \"example\"\n",
        "hashed_index = hash_function(key, hash_table_size)\n",
        "print(f\"The hash value for key '{key}' is: {hashed_index}\")\n"
      ]
    },
    {
      "cell_type": "code",
      "source": [
        "import hashlib\n",
        "import zlib\n",
        "\n",
        "# Hash function 1: MD5\n",
        "def md5_hash(key):\n",
        "    return hashlib.md5(key.encode()).hexdigest()\n",
        "\n",
        "# Hash function 2: SHA-1\n",
        "def sha1_hash(key):\n",
        "    return hashlib.sha1(key.encode()).hexdigest()\n",
        "\n",
        "# Hash function 3: SHA-256\n",
        "def sha256_hash(key):\n",
        "    return hashlib.sha256(key.encode()).hexdigest()\n",
        "\n",
        "# Hash function 4: SHA-512\n",
        "def sha512_hash(key):\n",
        "    return hashlib.sha512(key.encode()).hexdigest()\n",
        "\n",
        "# Hash function 5: Jenkins Hash\n",
        "def jenkins_hash(key):\n",
        "    hash_value = 0\n",
        "    for char in key:\n",
        "        hash_value += ord(char)\n",
        "        hash_value += (hash_value << 10)\n",
        "        hash_value ^= (hash_value >> 6)\n",
        "    hash_value += (hash_value << 3)\n",
        "    hash_value ^= (hash_value >> 11)\n",
        "    hash_value += (hash_value << 15)\n",
        "    return hash_value\n",
        "\n",
        "# Hash function 6: DJB2 Hash\n",
        "def djb2_hash(key):\n",
        "    hash_value = 5381\n",
        "    for char in key:\n",
        "        hash_value = ((hash_value << 5) + hash_value) + ord(char)\n",
        "    return hash_value\n",
        "\n",
        "# Hash function 7: SDBM Hash\n",
        "def sdbm_hash(key):\n",
        "    hash_value = 0\n",
        "    for char in key:\n",
        "        hash_value = ord(char) + (hash_value << 6) + (hash_value << 16) - hash_value\n",
        "    return hash_value\n",
        "\n",
        "# Hash function 8: FNV-1a Hash\n",
        "def fnv1a_hash(key):\n",
        "    hash_value = 2166136261\n",
        "    for char in key:\n",
        "        hash_value ^= ord(char)\n",
        "        hash_value *= 16777619\n",
        "    return hash_value\n",
        "\n",
        "# Hash function 9: Bernstein Hash\n",
        "def bernstein_hash(key):\n",
        "    hash_value = 0\n",
        "    for char in key:\n",
        "        hash_value = 33 * hash_value + ord(char)\n",
        "    return hash_value\n",
        "\n",
        "# Hash function 10: Pearson Hash\n",
        "# Hash function 10: Pearson Hash\n",
        "def pearson_hash(key):\n",
        "    table = (\n",
        "        0x00, 0x01, 0x02, 0x03, 0x04, 0x05, 0x06, 0x07, 0x08, 0x09, 0x0A, 0x0B, 0x0C, 0x0D, 0x0E, 0x0F,\n",
        "        0x10, 0x11, 0x12, 0x13, 0x14, 0x15, 0x16, 0x17, 0x18, 0x19, 0x1A, 0x1B, 0x1C, 0x1D, 0x1E, 0x1F,\n",
        "        0x20, 0x21, 0x22, 0x23, 0x24, 0x25, 0x26, 0x27, 0x28, 0x29, 0x2A, 0x2B, 0x2C, 0x2D, 0x2E, 0x2F,\n",
        "        0x30, 0x31, 0x32, 0x33, 0x34, 0x35, 0x36, 0x37, 0x38, 0x39, 0x3A, 0x3B, 0x3C, 0x3D, 0x3E, 0x3F,\n",
        "        0x40, 0x41, 0x42, 0x43, 0x44, 0x45, 0x46, 0x47, 0x48, 0x49, 0x4A, 0x4B, 0x4C, 0x4D, 0x4E, 0x4F,\n",
        "        0x50, 0x51, 0x52, 0x53, 0x54, 0x55, 0x56, 0x57, 0x58, 0x59, 0x5A, 0x5B, 0x5C, 0x5D, 0x5E, 0x5F,\n",
        "        0x60, 0x61, 0x62, 0x63, 0x64, 0x65, 0x66, 0x67, 0x68, 0x69, 0x6A, 0x6B, 0x6C, 0x6D, 0x6E, 0x6F,\n",
        "        0x70, 0x71, 0x72, 0x73, 0x74, 0x75, 0x76, 0x77, 0x78, 0x79, 0x7A, 0x7B, 0x7C, 0x7D, 0x7E, 0x7F,\n",
        "        0x80, 0x81, 0x82, 0x83, 0x84, 0x85, 0x86, 0x87, 0x88, 0x89, 0x8A, 0x8B, 0x8C, 0x8D, 0x8E, 0x8F,\n",
        "        0x90, 0x91, 0x92, 0x93, 0x94, 0x95, 0x96, 0x97, 0x98, 0x99, 0x9A, 0x9B, 0x9C, 0x9D, 0x9E, 0x9F,\n",
        "        0xA0, 0xA1, 0xA2, 0xA3, 0xA4, 0xA5, 0xA6, 0xA7, 0xA8, 0xA9, 0xAA, 0xAB, 0xAC, 0xAD, 0xAE, 0xAF,\n",
        "        0xB0, 0xB1, 0xB2, 0xB3, 0xB4, 0xB5, 0xB6, 0xB7, 0xB8, 0xB9, 0xBA, 0xBB, 0xBC, 0xBD, 0xBE, 0xBF,\n",
        "        0xC0, 0xC1, 0xC2, 0xC3, 0xC4, 0xC5, 0xC6, 0xC7, 0xC8, 0xC9, 0xCA, 0xCB, 0xCC, 0xCD, 0xCE, 0xCF,\n",
        "        0xD0, 0xD1, 0xD2, 0xD3, 0xD4, 0xD5, 0xD6, 0xD7, 0xD8, 0xD9, 0xDA, 0xDB, 0xDC, 0xDD, 0xDE, 0xDF,\n",
        "        0xE0, 0xE1, 0xE2, 0xE3, 0xE4, 0xE5, 0xE6, 0xE7, 0xE8, 0xE9, 0xEA, 0xEB, 0xEC, 0xED, 0xEE, 0xEF,\n",
        "        0xF0, 0xF1, 0xF2, 0xF3, 0xF4, 0xF5, 0xF6, 0xF7, 0xF8, 0xF9, 0xFA, 0xFB, 0xFC, 0xFD, 0xFE, 0xFF\n",
        "    )\n",
        "    hash_value = 0\n",
        "    for char in key:\n",
        "        hash_value = table[hash_value ^ ord(char)]\n",
        "    return hash_value\n",
        "\n",
        "# Hash function 11: Adler-32\n",
        "def adler32_hash(key):\n",
        "    a = 1\n",
        "    b = 0\n",
        "    for char in key:\n",
        "        a = (a + ord(char)) % 65521\n",
        "        b = (b + a) % 65521\n",
        "    return (b << 16) | a\n",
        "\n",
        "# Hash function 12: CRC32\n",
        "def crc32_hash(key):\n",
        "    return zlib.crc32(key.encode())\n",
        "\n",
        "# Hash function 13: FNV-1 Hash\n",
        "def fnv1_hash(key):\n",
        "    hash_value = 2166136261\n",
        "    for char in key:\n",
        "        hash_value *= 16777619\n",
        "        hash_value ^= ord(char)\n",
        "    return hash_value\n",
        "\n",
        "# Hash function 14: ELF Hash\n",
        "def elf_hash(key):\n",
        "    hash_value = 0\n",
        "    for char in key:\n",
        "        hash_value = (hash_value << 4) + ord(char)\n",
        "        x = hash_value & 0xF0000000\n",
        "        if x != 0:\n",
        "            hash_value ^= x >> 24\n",
        "        hash_value &= ~x\n",
        "    return hash_value\n",
        "\n",
        "# Hash function 15: PJW Hash\n",
        "def pjw_hash(key):\n",
        "    hash_value = 0\n",
        "    for char in key:\n",
        "        hash_value = (hash_value << 4) + ord(char)\n",
        "        x = hash_value & 0xF0000000\n",
        "        if x != 0:\n",
        "            hash_value ^= (x >> 24) | x\n",
        "        hash_value &= ~x\n",
        "    return hash_value\n",
        "\n",
        "# Testing each hash function\n",
        "key = \"example\"\n",
        "print(\"MD5:\", md5_hash(key))\n",
        "print(\"SHA-1:\", sha1_hash(key))\n",
        "print(\"SHA-256:\", sha256_hash(key))\n",
        "print(\"SHA-512:\", sha512_hash(key))\n",
        "print(\"Jenkins Hash:\", jenkins_hash(key))\n",
        "print(\"DJB2 Hash:\", djb2_hash(key))\n",
        "print(\"SDBM Hash:\", sdbm_hash(key))\n",
        "print(\"FNV-1a Hash:\", fnv1a_hash(key))\n",
        "print(\"Bernstein Hash:\", bernstein_hash(key))\n",
        "print(\"Pearson Hash:\", pearson_hash(key))\n",
        "print(\"Adler-32:\", adler32_hash(key))\n",
        "print(\"CRC32:\", crc32_hash(key))\n",
        "print(\"FNV-1 Hash:\", fnv1_hash(key))\n",
        "print(\"ELF Hash:\", elf_hash(key))\n",
        "print(\"PJW Hash:\", pjw_hash(key))\n"
      ],
      "metadata": {
        "colab": {
          "base_uri": "https://localhost:8080/"
        },
        "id": "2pGNtPHmLTke",
        "outputId": "e046eca8-ba21-4557-ba56-2ffaf8d7fe9d"
      },
      "execution_count": 7,
      "outputs": [
        {
          "output_type": "stream",
          "name": "stdout",
          "text": [
            "MD5: 1a79a4d60de6718e8e5b326e338ae533\n",
            "SHA-1: c3499c2729730a7f807efb8676a92dcb6f8a3f8f\n",
            "SHA-256: 50d858e0985ecc7f60418aaf0cc5ab587f42c2570a884095a9e8ccacd0f6545c\n",
            "SHA-512: 3bb12eda3c298db5de25597f54d924f2e17e78a26ad8953ed8218ee682f0bbbe9021e2f3009d152c911bf1f25ec683a902714166767afbd8e5bd0fb0124ecb8a\n",
            "Jenkins Hash: 34895907782028640364518630305\n",
            "DJB2 Hash: 229465095248369\n",
            "SDBM Hash: 8048455618597258476492895515274\n",
            "FNV-1a Hash: 810584061664336961762795976429490066154577014808774595198625\n",
            "Bernstein Hash: 135253589132\n",
            "Pearson Hash: 104\n",
            "Adler-32: 197133037\n",
            "CRC32: 1861000095\n",
            "FNV-1 Hash: 810584075510011958732647225775524861931502249539436485001181\n",
            "ELF Hash: 216549189\n",
            "PJW Hash: 216549189\n"
          ]
        }
      ]
    },
    {
      "cell_type": "markdown",
      "source": [
        "#Collision Handling\n",
        "Collisions are inevitable in hash tables, especially with a finite number of buckets. There are several techniques to handle collisions:\n",
        "\n",
        "* Separate Chaining: Each bucket in the hash table is a linked list. When a collision occurs, the collided element is appended to the linked list at that bucket.\n",
        "* Open Addressing: When a collision occurs, the hash table looks for the next available slot (using a probing sequence) to place the collided element."
      ],
      "metadata": {
        "id": "n1dEe6e8KhdP"
      }
    },
    {
      "cell_type": "code",
      "source": [
        "class HashTable:\n",
        "    def __init__(self, size):\n",
        "        self.size = size\n",
        "        self.table = [[] for _ in range(size)]\n",
        "\n",
        "    def insert(self, key, value):\n",
        "        index = hash(key) % self.size\n",
        "        self.table[index].append((key, value))\n",
        "\n",
        "    def search(self, key):\n",
        "        index = hash(key) % self.size\n",
        "        for k, v in self.table[index]:\n",
        "            if k == key:\n",
        "                return v\n",
        "        return None\n",
        "\n",
        "# Example usage\n",
        "hash_table = HashTable(10)\n",
        "hash_table.insert(\"example_key\", \"example_value\")\n",
        "print(hash_table.search(\"example_key\"))  # Output: \"example_value\"\n"
      ],
      "metadata": {
        "colab": {
          "base_uri": "https://localhost:8080/"
        },
        "id": "a7xMoxrUKxHM",
        "outputId": "f0685c81-75a6-47fd-e35f-d8c2003bb7c8"
      },
      "execution_count": 2,
      "outputs": [
        {
          "output_type": "stream",
          "name": "stdout",
          "text": [
            "example_value\n"
          ]
        }
      ]
    }
  ]
}