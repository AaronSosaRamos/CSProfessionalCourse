{
  "nbformat": 4,
  "nbformat_minor": 0,
  "metadata": {
    "colab": {
      "provenance": []
    },
    "kernelspec": {
      "name": "python3",
      "display_name": "Python 3"
    },
    "language_info": {
      "name": "python"
    }
  },
  "cells": [
    {
      "cell_type": "markdown",
      "source": [
        "#Singly Linked List"
      ],
      "metadata": {
        "id": "kkWIr89cT4SO"
      }
    },
    {
      "cell_type": "code",
      "execution_count": 1,
      "metadata": {
        "colab": {
          "base_uri": "https://localhost:8080/"
        },
        "id": "rUwguz_ITsvU",
        "outputId": "01a18cd1-4df5-45b0-b0fc-cb9ead4e4e44"
      },
      "outputs": [
        {
          "output_type": "stream",
          "name": "stdout",
          "text": [
            "1 2 3 \n"
          ]
        }
      ],
      "source": [
        "class Node:\n",
        "    def __init__(self, data):\n",
        "        self.data = data\n",
        "        self.next = None\n",
        "\n",
        "class SinglyLinkedList:\n",
        "    def __init__(self):\n",
        "        self.head = None\n",
        "\n",
        "    def insert_at_beginning(self, data):\n",
        "        new_node = Node(data)\n",
        "        new_node.next = self.head\n",
        "        self.head = new_node\n",
        "\n",
        "    def print_list(self):\n",
        "        current = self.head\n",
        "        while current:\n",
        "            print(current.data, end=' ')\n",
        "            current = current.next\n",
        "        print()\n",
        "\n",
        "sll = SinglyLinkedList()\n",
        "sll.insert_at_beginning(3)\n",
        "sll.insert_at_beginning(2)\n",
        "sll.insert_at_beginning(1)\n",
        "sll.print_list()  # Output: 1 2 3"
      ]
    },
    {
      "cell_type": "markdown",
      "source": [
        "#Doubly Linked List"
      ],
      "metadata": {
        "id": "aoU9eBiJUARr"
      }
    },
    {
      "cell_type": "code",
      "source": [
        "class DoubleNode:\n",
        "    def __init__(self, data):\n",
        "        self.data = data\n",
        "        self.next = None\n",
        "        self.prev = None\n",
        "\n",
        "class DoublyLinkedList:\n",
        "    def __init__(self):\n",
        "        self.head = None\n",
        "\n",
        "    def insert_at_beginning(self, data):\n",
        "        new_node = DoubleNode(data)\n",
        "        new_node.next = self.head\n",
        "        if self.head:\n",
        "            self.head.prev = new_node\n",
        "        self.head = new_node\n",
        "\n",
        "    def print_list(self):\n",
        "        current = self.head\n",
        "        while current:\n",
        "            print(current.data, end=' ')\n",
        "            current = current.next\n",
        "        print()\n",
        "\n",
        "dll = DoublyLinkedList()\n",
        "dll.insert_at_beginning(3)\n",
        "dll.insert_at_beginning(2)\n",
        "dll.insert_at_beginning(1)\n",
        "dll.print_list()  # Output: 1 2 3\n"
      ],
      "metadata": {
        "colab": {
          "base_uri": "https://localhost:8080/"
        },
        "id": "8LjXw6OMUBRw",
        "outputId": "867e1648-845c-4b5a-9adf-ba364eff751e"
      },
      "execution_count": 2,
      "outputs": [
        {
          "output_type": "stream",
          "name": "stdout",
          "text": [
            "1 2 3 \n"
          ]
        }
      ]
    },
    {
      "cell_type": "markdown",
      "source": [
        "#Circular Singly Linked List"
      ],
      "metadata": {
        "id": "YqaeP68bUG_E"
      }
    },
    {
      "cell_type": "code",
      "source": [
        "class CircularSinglyLinkedList:\n",
        "    def __init__(self):\n",
        "        self.head = None\n",
        "\n",
        "    def insert_at_beginning(self, data):\n",
        "        new_node = Node(data)\n",
        "        if not self.head:\n",
        "            self.head = new_node\n",
        "            new_node.next = self.head\n",
        "        else:\n",
        "            temp = self.head\n",
        "            while temp.next != self.head:\n",
        "                temp = temp.next\n",
        "            temp.next = new_node\n",
        "            new_node.next = self.head\n",
        "            self.head = new_node\n",
        "\n",
        "    def print_list(self):\n",
        "        if not self.head:\n",
        "            return\n",
        "        temp = self.head\n",
        "        while True:\n",
        "            print(temp.data, end=' ')\n",
        "            temp = temp.next\n",
        "            if temp == self.head:\n",
        "                break\n",
        "        print()\n",
        "csll = CircularSinglyLinkedList()\n",
        "csll.insert_at_beginning(3)\n",
        "csll.insert_at_beginning(2)\n",
        "csll.insert_at_beginning(1)\n",
        "csll.print_list()  # Output: 1 2 3\n"
      ],
      "metadata": {
        "colab": {
          "base_uri": "https://localhost:8080/"
        },
        "id": "cBqICdlgUH9r",
        "outputId": "f0db5e1f-0a4d-43a7-ac5f-4edb7fcd34a5"
      },
      "execution_count": 4,
      "outputs": [
        {
          "output_type": "stream",
          "name": "stdout",
          "text": [
            "1 2 3 \n"
          ]
        }
      ]
    },
    {
      "cell_type": "markdown",
      "source": [
        "#Circular Doubly Linked List"
      ],
      "metadata": {
        "id": "1rHtF_vUU5IM"
      }
    },
    {
      "cell_type": "code",
      "source": [
        "class CircularDoubleNode:\n",
        "    def __init__(self, data):\n",
        "        self.data = data\n",
        "        self.next = None\n",
        "        self.prev = None\n",
        "\n",
        "class CircularDoublyLinkedList:\n",
        "    def __init__(self):\n",
        "        self.head = None\n",
        "\n",
        "    def insert_at_beginning(self, data):\n",
        "        new_node = CircularDoubleNode(data)\n",
        "        if not self.head:\n",
        "            self.head = new_node\n",
        "            new_node.next = new_node\n",
        "            new_node.prev = new_node\n",
        "        else:\n",
        "            last_node = self.head.prev\n",
        "            new_node.next = self.head\n",
        "            self.head.prev = new_node\n",
        "            new_node.prev = last_node\n",
        "            last_node.next = new_node\n",
        "            self.head = new_node\n",
        "\n",
        "    def print_list(self):\n",
        "        if not self.head:\n",
        "            return\n",
        "        temp = self.head\n",
        "        while True:\n",
        "            print(temp.data, end=' ')\n",
        "            temp = temp.next\n",
        "            if temp == self.head:\n",
        "                break\n",
        "        print()\n",
        "cdll = CircularDoublyLinkedList()\n",
        "cdll.insert_at_beginning(3)\n",
        "cdll.insert_at_beginning(2)\n",
        "cdll.insert_at_beginning(1)\n",
        "cdll.print_list()  # Output: 1 2 3\n"
      ],
      "metadata": {
        "colab": {
          "base_uri": "https://localhost:8080/"
        },
        "id": "YUgVY3BfU6A8",
        "outputId": "e8ad58f8-410e-4af0-ca17-e70d770483a9"
      },
      "execution_count": 5,
      "outputs": [
        {
          "output_type": "stream",
          "name": "stdout",
          "text": [
            "1 2 3 \n"
          ]
        }
      ]
    },
    {
      "cell_type": "markdown",
      "source": [
        "#Types, Vectors and Iterators"
      ],
      "metadata": {
        "id": "9nX0G-QKVBvL"
      }
    },
    {
      "cell_type": "code",
      "source": [
        "# Type traits example\n",
        "# Python is dynamically typed, so there's no direct equivalent of type traits in Python.\n",
        "# However, we can use type checking or introspection to determine the type of an object.\n",
        "\n",
        "def print_type(obj):\n",
        "    print(type(obj))\n",
        "\n",
        "print_type(5)       # <class 'int'>\n",
        "print_type(\"Hello\") # <class 'str'>\n",
        "print_type([])      # <class 'list'>\n",
        "print_type({})      # <class 'dict'>\n",
        "\n",
        "# Vector (ArrayList) example\n",
        "# In Python, lists can dynamically resize, acting like vectors in C++.\n",
        "\n",
        "vector = []\n",
        "vector.append(1)\n",
        "vector.append(2)\n",
        "vector.append(3)\n",
        "print(vector)  # [1, 2, 3]\n",
        "\n",
        "# Iterators example\n",
        "# Python's for loop is implemented using iterators.\n",
        "\n",
        "my_list = [1, 2, 3, 4, 5]\n",
        "\n",
        "# Using a for loop\n",
        "for item in my_list:\n",
        "    print(item)\n",
        "\n",
        "# Using an iterator directly\n",
        "iterator = iter(my_list)\n",
        "while True:\n",
        "    try:\n",
        "        item = next(iterator)\n",
        "        print(item)\n",
        "    except StopIteration:\n",
        "        break\n"
      ],
      "metadata": {
        "colab": {
          "base_uri": "https://localhost:8080/"
        },
        "id": "bKzMcUS6VFnk",
        "outputId": "7bc8fd45-ce8d-4b80-b062-1752667d441f"
      },
      "execution_count": 6,
      "outputs": [
        {
          "output_type": "stream",
          "name": "stdout",
          "text": [
            "<class 'int'>\n",
            "<class 'str'>\n",
            "<class 'list'>\n",
            "<class 'dict'>\n",
            "[1, 2, 3]\n",
            "1\n",
            "2\n",
            "3\n",
            "4\n",
            "5\n",
            "1\n",
            "2\n",
            "3\n",
            "4\n",
            "5\n"
          ]
        }
      ]
    },
    {
      "cell_type": "markdown",
      "source": [
        "#Queues"
      ],
      "metadata": {
        "id": "ddV6BA4pVL_T"
      }
    },
    {
      "cell_type": "code",
      "source": [
        "from collections import deque\n",
        "\n",
        "class Queue:\n",
        "    def __init__(self):\n",
        "        self.items = deque()\n",
        "\n",
        "    def enqueue(self, data):\n",
        "        self.items.append(data)\n",
        "\n",
        "    def dequeue(self):\n",
        "        return self.items.popleft()\n",
        "\n",
        "    def is_empty(self):\n",
        "        return len(self.items) == 0\n",
        "q = Queue()\n",
        "q.enqueue(1)\n",
        "q.enqueue(2)\n",
        "q.enqueue(3)\n",
        "print(q.dequeue())  # Output: 1\n",
        "print(q.dequeue())  # Output: 2"
      ],
      "metadata": {
        "colab": {
          "base_uri": "https://localhost:8080/"
        },
        "id": "T8BRwq3SVPnt",
        "outputId": "6d56cb9f-03a7-4192-d6a0-0a5295d13d41"
      },
      "execution_count": 7,
      "outputs": [
        {
          "output_type": "stream",
          "name": "stdout",
          "text": [
            "1\n",
            "2\n"
          ]
        }
      ]
    },
    {
      "cell_type": "markdown",
      "source": [
        "#Stacks"
      ],
      "metadata": {
        "id": "EeXND1wgVZ4d"
      }
    },
    {
      "cell_type": "code",
      "source": [
        "class Stack:\n",
        "    def __init__(self):\n",
        "        self.items = []\n",
        "\n",
        "    def push(self, data):\n",
        "        self.items.append(data)\n",
        "\n",
        "    def pop(self):\n",
        "        return self.items.pop()\n",
        "\n",
        "    def is_empty(self):\n",
        "        return len(self.items) == 0\n",
        "s = Stack()\n",
        "s.push(1)\n",
        "s.push(2)\n",
        "s.push(3)\n",
        "print(s.pop())  # Output: 3\n",
        "print(s.pop())  # Output: 2"
      ],
      "metadata": {
        "colab": {
          "base_uri": "https://localhost:8080/"
        },
        "id": "JzDwnwk1Vam1",
        "outputId": "daecc5c4-95ba-4852-9b54-8aef17d62ba9"
      },
      "execution_count": 8,
      "outputs": [
        {
          "output_type": "stream",
          "name": "stdout",
          "text": [
            "3\n",
            "2\n"
          ]
        }
      ]
    }
  ]
}