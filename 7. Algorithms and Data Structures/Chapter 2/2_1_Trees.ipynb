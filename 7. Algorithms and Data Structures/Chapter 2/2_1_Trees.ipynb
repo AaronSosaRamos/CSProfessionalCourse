{
  "nbformat": 4,
  "nbformat_minor": 0,
  "metadata": {
    "colab": {
      "provenance": []
    },
    "kernelspec": {
      "name": "python3",
      "display_name": "Python 3"
    },
    "language_info": {
      "name": "python"
    }
  },
  "cells": [
    {
      "cell_type": "markdown",
      "source": [
        "#Binary Trees"
      ],
      "metadata": {
        "id": "YF541OBrn9ju"
      }
    },
    {
      "cell_type": "code",
      "execution_count": 1,
      "metadata": {
        "colab": {
          "base_uri": "https://localhost:8080/"
        },
        "id": "nW8Xl0aen3Re",
        "outputId": "ee5d5195-4253-42ce-c1fe-962abdba881e"
      },
      "outputs": [
        {
          "output_type": "stream",
          "name": "stdout",
          "text": [
            "{1, 2, 3}\n",
            "{'root': <__main__.TreeNode object at 0x78f1c67839d0>, 'left_child': <__main__.TreeNode object at 0x78f1c6783970>, 'right_child': <__main__.TreeNode object at 0x78f1c67824a0>}\n",
            "4\n",
            "2\n",
            "5\n",
            "1\n",
            "3\n"
          ]
        }
      ],
      "source": [
        "class TreeNode:\n",
        "    def __init__(self, val):\n",
        "        self.val = val\n",
        "        self.left = None\n",
        "        self.right = None\n",
        "\n",
        "# Example of creating a binary tree\n",
        "#        1\n",
        "#       / \\\n",
        "#      2   3\n",
        "#     / \\\n",
        "#    4   5\n",
        "root = TreeNode(1)\n",
        "root.left = TreeNode(2)\n",
        "root.right = TreeNode(3)\n",
        "root.left.left = TreeNode(4)\n",
        "root.left.right = TreeNode(5)\n",
        "\n",
        "# 2.1.1. Sets and maps (Binary Trees)\n",
        "# Sets in Python\n",
        "my_set = {root.val, root.left.val, root.right.val}\n",
        "print(my_set)\n",
        "\n",
        "# Maps (Dictionaries) in Python\n",
        "my_map = {'root': root, 'left_child': root.left, 'right_child': root.right}\n",
        "print(my_map)\n",
        "\n",
        "# 2.1.2. Iterators\n",
        "# Example of iterating over a binary tree using inorder traversal\n",
        "def inorder_traversal(node):\n",
        "    if node:\n",
        "        inorder_traversal(node.left)\n",
        "        print(node.val)\n",
        "        inorder_traversal(node.right)\n",
        "\n",
        "inorder_traversal(root)"
      ]
    },
    {
      "cell_type": "markdown",
      "source": [
        "#Binary heaps using trees"
      ],
      "metadata": {
        "id": "1rWNcKquoWQb"
      }
    },
    {
      "cell_type": "code",
      "source": [
        "class MinHeap:\n",
        "    def __init__(self):\n",
        "        self.heap = []\n",
        "\n",
        "    def parent(self, i):\n",
        "        return (i - 1) // 2\n",
        "\n",
        "    def insert_key(self, key):\n",
        "        self.heap.append(key)\n",
        "        i = len(self.heap) - 1\n",
        "        while i != 0 and self.heap[self.parent(i)] > self.heap[i]:\n",
        "            self.heap[i], self.heap[self.parent(i)] = self.heap[self.parent(i)], self.heap[i]\n",
        "            i = self.parent(i)\n",
        "\n",
        "    def decrease_key(self, i, new_val):\n",
        "        self.heap[i] = new_val\n",
        "        while i != 0 and self.heap[self.parent(i)] > self.heap[i]:\n",
        "            self.heap[i], self.heap[self.parent(i)] = self.heap[self.parent(i)], self.heap[i]\n",
        "            i = self.parent(i)\n",
        "\n",
        "    def min_heapify(self, i):\n",
        "        left = 2 * i + 1\n",
        "        right = 2 * i + 2\n",
        "        smallest = i\n",
        "        if left < len(self.heap) and self.heap[left] < self.heap[i]:\n",
        "            smallest = left\n",
        "        if right < len(self.heap) and self.heap[right] < self.heap[smallest]:\n",
        "            smallest = right\n",
        "        if smallest != i:\n",
        "            self.heap[i], self.heap[smallest] = self.heap[smallest], self.heap[i]\n",
        "            self.min_heapify(smallest)\n",
        "\n",
        "    def extract_min(self):\n",
        "        if len(self.heap) == 0:\n",
        "            return None\n",
        "        if len(self.heap) == 1:\n",
        "            return self.heap.pop()\n",
        "        root = self.heap[0]\n",
        "        self.heap[0] = self.heap.pop()\n",
        "        self.min_heapify(0)\n",
        "        return root\n",
        "\n",
        "\n",
        "class MaxHeap:\n",
        "    def __init__(self):\n",
        "        self.heap = []\n",
        "\n",
        "    def parent(self, i):\n",
        "        return (i - 1) // 2\n",
        "\n",
        "    def insert_key(self, key):\n",
        "        self.heap.append(key)\n",
        "        i = len(self.heap) - 1\n",
        "        while i != 0 and self.heap[self.parent(i)] < self.heap[i]:\n",
        "            self.heap[i], self.heap[self.parent(i)] = self.heap[self.parent(i)], self.heap[i]\n",
        "            i = self.parent(i)\n",
        "\n",
        "    def increase_key(self, i, new_val):\n",
        "        self.heap[i] = new_val\n",
        "        while i != 0 and self.heap[self.parent(i)] < self.heap[i]:\n",
        "            self.heap[i], self.heap[self.parent(i)] = self.heap[self.parent(i)], self.heap[i]\n",
        "            i = self.parent(i)\n",
        "\n",
        "    def max_heapify(self, i):\n",
        "        left = 2 * i + 1\n",
        "        right = 2 * i + 2\n",
        "        largest = i\n",
        "        if left < len(self.heap) and self.heap[left] > self.heap[i]:\n",
        "            largest = left\n",
        "        if right < len(self.heap) and self.heap[right] > self.heap[largest]:\n",
        "            largest = right\n",
        "        if largest != i:\n",
        "            self.heap[i], self.heap[largest] = self.heap[largest], self.heap[i]\n",
        "            self.max_heapify(largest)\n",
        "\n",
        "    def extract_max(self):\n",
        "        if len(self.heap) == 0:\n",
        "            return None\n",
        "        if len(self.heap) == 1:\n",
        "            return self.heap.pop()\n",
        "        root = self.heap[0]\n",
        "        self.heap[0] = self.heap.pop()\n",
        "        self.max_heapify(0)\n",
        "        return root\n"
      ],
      "metadata": {
        "id": "-ePspuUIoXxj"
      },
      "execution_count": 3,
      "outputs": []
    },
    {
      "cell_type": "code",
      "source": [
        "# Creating a Min Heap\n",
        "min_heap = MinHeap()\n",
        "\n",
        "# Inserting elements into the Min Heap\n",
        "min_heap.insert_key(5)\n",
        "min_heap.insert_key(3)\n",
        "min_heap.insert_key(8)\n",
        "min_heap.insert_key(2)\n",
        "min_heap.insert_key(7)\n",
        "\n",
        "# Extracting minimum element from the Min Heap\n",
        "print(\"Minimum element extracted from Min Heap:\", min_heap.extract_min())  # Output: 2\n",
        "print(\"Minimum element extracted from Min Heap:\", min_heap.extract_min())  # Output: 3\n",
        "\n",
        "# Decreasing key of an element in Min Heap\n",
        "min_heap.decrease_key(2, 1)\n",
        "\n",
        "# Extracting minimum element from the Min Heap after modification\n",
        "print(\"Minimum element extracted from Min Heap:\", min_heap.extract_min())  # Output: 1\n"
      ],
      "metadata": {
        "colab": {
          "base_uri": "https://localhost:8080/"
        },
        "id": "6TVcu63ao_RC",
        "outputId": "b5feff93-0a8e-4985-c586-1a6a4018f6a6"
      },
      "execution_count": 4,
      "outputs": [
        {
          "output_type": "stream",
          "name": "stdout",
          "text": [
            "Minimum element extracted from Min Heap: 2\n",
            "Minimum element extracted from Min Heap: 3\n",
            "Minimum element extracted from Min Heap: 1\n"
          ]
        }
      ]
    },
    {
      "cell_type": "code",
      "source": [
        "# Creating a Max Heap\n",
        "max_heap = MaxHeap()\n",
        "\n",
        "# Inserting elements into the Max Heap\n",
        "max_heap.insert_key(5)\n",
        "max_heap.insert_key(3)\n",
        "max_heap.insert_key(8)\n",
        "max_heap.insert_key(2)\n",
        "max_heap.insert_key(7)\n",
        "\n",
        "# Extracting maximum element from the Max Heap\n",
        "print(\"Maximum element extracted from Max Heap:\", max_heap.extract_max())  # Output: 8\n",
        "print(\"Maximum element extracted from Max Heap:\", max_heap.extract_max())  # Output: 7\n",
        "\n",
        "# Increasing key of an element in Max Heap\n",
        "max_heap.increase_key(2, 10)\n",
        "\n",
        "# Extracting maximum element from the Max Heap after modification\n",
        "print(\"Maximum element extracted from Max Heap:\", max_heap.extract_max())  # Output: 10\n"
      ],
      "metadata": {
        "colab": {
          "base_uri": "https://localhost:8080/"
        },
        "id": "Hs7WjQ8JpIKC",
        "outputId": "3fb0d082-6f23-4d83-b9d3-52d1a7b11b69"
      },
      "execution_count": 5,
      "outputs": [
        {
          "output_type": "stream",
          "name": "stdout",
          "text": [
            "Maximum element extracted from Max Heap: 8\n",
            "Maximum element extracted from Max Heap: 7\n",
            "Maximum element extracted from Max Heap: 10\n"
          ]
        }
      ]
    },
    {
      "cell_type": "markdown",
      "source": [
        "#Disjoint Set"
      ],
      "metadata": {
        "id": "yNomsZFDpuqf"
      }
    },
    {
      "cell_type": "code",
      "source": [
        "#!/usr/bin/python\n",
        "# -*- coding: utf-8 -*-\n",
        "\n",
        "\n",
        "class DisjointSet:\n",
        "\t'''\n",
        "\t Disjoint Set data structure (Union�Find), is a data structure that keeps track of a\n",
        "\t set of elements partitioned into a number of disjoint (nonoverlapping) subsets.\n",
        "\n",
        "\t Methods:\n",
        "\t\tfind: Determine which subset a particular element is in. Takes an element of any\n",
        "\t\tsubset as an argument and returns a subset that contains our element.\n",
        "\n",
        "\t\tunion: Join two subsets into a single subset. Takes two elements of any subsets\n",
        "\t\tfrom disjoint_set and returns a disjoint_set with merged subsets.\n",
        "\n",
        "\t\tget: returns current disjoint set.\n",
        "\t'''\n",
        "\t_disjoint_set = list()\n",
        "\n",
        "\tdef __init__(self, init_arr):\n",
        "\t\tself._disjoint_set = []\n",
        "\t\tif init_arr:\n",
        "\t\t\tfor item in list(set(init_arr)):\n",
        "\t\t\t\tself._disjoint_set.append([item])\n",
        "\n",
        "\tdef _find_index(self, elem):\n",
        "\t\tfor item in self._disjoint_set:\n",
        "\t\t\tif elem in item:\n",
        "\t\t\t\treturn self._disjoint_set.index(item)\n",
        "\t\treturn None\n",
        "\n",
        "\tdef find(self, elem):\n",
        "\t\tfor item in self._disjoint_set:\n",
        "\t\t\tif elem in item:\n",
        "\t\t\t\treturn self._disjoint_set[self._disjoint_set.index(item)]\n",
        "\t\treturn None\n",
        "\n",
        "\tdef union(self,elem1, elem2):\n",
        "\t\tindex_elem1 = self._find_index(elem1)\n",
        "\t\tindex_elem2 = self._find_index(elem2)\n",
        "\t\tif index_elem1 != index_elem2 and index_elem1 is not None and index_elem2 is not None:\n",
        "\t\t\tself._disjoint_set[index_elem2] = self._disjoint_set[index_elem2]+self._disjoint_set[index_elem1]\n",
        "\t\t\tdel self._disjoint_set[index_elem1]\n",
        "\t\treturn self._disjoint_set\n",
        "\n",
        "\tdef get(self):\n",
        "\t\treturn self._disjoint_set"
      ],
      "metadata": {
        "id": "X6KxQvv0pt7O"
      },
      "execution_count": 9,
      "outputs": []
    },
    {
      "cell_type": "code",
      "source": [
        "# Example usage:\n",
        "# Create a disjoint set with initial elements\n",
        "init_elements = [1, 2, 3, 4, 5]\n",
        "disjoint_set = DisjointSet(init_elements)\n",
        "print(\"Initial Disjoint Set:\", disjoint_set.get())\n",
        "\n",
        "# Find subsets of specific elements\n",
        "print(\"Subset of 1:\", disjoint_set.find(1))\n",
        "print(\"Subset of 3:\", disjoint_set.find(3))\n",
        "\n",
        "# Perform unions\n",
        "disjoint_set.union(1, 2)\n",
        "disjoint_set.union(4, 5)\n",
        "print(\"Disjoint Set after unions:\", disjoint_set.get())"
      ],
      "metadata": {
        "colab": {
          "base_uri": "https://localhost:8080/"
        },
        "id": "5ACcW-19r3on",
        "outputId": "cefd0d3a-dd67-4636-8f69-1aa27fc78b8d"
      },
      "execution_count": 10,
      "outputs": [
        {
          "output_type": "stream",
          "name": "stdout",
          "text": [
            "Initial Disjoint Set: [[1], [2], [3], [4], [5]]\n",
            "Subset of 1: [1]\n",
            "Subset of 3: [3]\n",
            "Disjoint Set after unions: [[2, 1], [3], [5, 4]]\n"
          ]
        }
      ]
    }
  ]
}