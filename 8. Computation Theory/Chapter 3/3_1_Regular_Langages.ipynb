{
  "nbformat": 4,
  "nbformat_minor": 0,
  "metadata": {
    "colab": {
      "provenance": []
    },
    "kernelspec": {
      "name": "python3",
      "display_name": "Python 3"
    },
    "language_info": {
      "name": "python"
    }
  },
  "cells": [
    {
      "cell_type": "markdown",
      "source": [
        "#Regular Languages"
      ],
      "metadata": {
        "id": "mJyvSPpkMQD_"
      }
    },
    {
      "cell_type": "markdown",
      "source": [
        "Regular languages are a fundamental concept in theoretical computer science and formal language theory. They are languages that can be recognized by finite automata, regular expressions, or regular grammars. Regular languages have several properties that make them useful for various applications in computer science.\n",
        "\n"
      ],
      "metadata": {
        "id": "-V006P7IMRk_"
      }
    },
    {
      "cell_type": "markdown",
      "source": [
        "# Regular Expressions"
      ],
      "metadata": {
        "id": "ZS9Q3x2QMS0u"
      }
    },
    {
      "cell_type": "markdown",
      "source": [
        "Regular expressions are a powerful tool for pattern matching and text processing. They are a compact and flexible way to describe sets of strings using a formal syntax. Regular expressions can be used for tasks such as searching, parsing, and replacing text in a wide range of applications.\n",
        "\n"
      ],
      "metadata": {
        "id": "rMUz4BrOMTeW"
      }
    },
    {
      "cell_type": "code",
      "execution_count": 1,
      "metadata": {
        "colab": {
          "base_uri": "https://localhost:8080/"
        },
        "id": "XcRzQAjLMFA5",
        "outputId": "f39e8308-a60c-4c1c-ec3a-4d979d097de4"
      },
      "outputs": [
        {
          "output_type": "stream",
          "name": "stdout",
          "text": [
            "Pattern found!\n"
          ]
        }
      ],
      "source": [
        "import re\n",
        "\n",
        "# Example of using regular expressions to match a pattern in a string\n",
        "pattern = r'dog'\n",
        "text = 'The quick brown fox jumps over the lazy dog'\n",
        "match = re.search(pattern, text)\n",
        "if match:\n",
        "    print('Pattern found!')\n",
        "else:\n",
        "    print('Pattern not found.')\n"
      ]
    },
    {
      "cell_type": "markdown",
      "source": [
        "#Regular Grammars"
      ],
      "metadata": {
        "id": "Y-41D4_xMYR3"
      }
    },
    {
      "cell_type": "markdown",
      "source": [
        "Regular grammars are a type of formal grammar that generate regular languages. They consist of a set of production rules that specify how strings of symbols can be generated. Regular grammars are often represented using regular expressions or finite automata."
      ],
      "metadata": {
        "id": "vqkNccZnMad_"
      }
    },
    {
      "cell_type": "code",
      "source": [
        "# Regular grammar represented as a regular expression\n",
        "regular_expression = r'(a|b)*abb'"
      ],
      "metadata": {
        "id": "vWKpyjS3MY7a"
      },
      "execution_count": 2,
      "outputs": []
    },
    {
      "cell_type": "code",
      "source": [
        "class RegularGrammar:\n",
        "    def __init__(self, rules):\n",
        "        self.rules = rules\n",
        "\n",
        "    def generate(self, start_symbol, max_length):\n",
        "        generated_strings = []\n",
        "        self._generate_recursive(start_symbol, '', generated_strings, max_length)\n",
        "        return generated_strings\n",
        "\n",
        "    def _generate_recursive(self, symbol, current_string, generated_strings, max_length):\n",
        "        if len(current_string) > max_length:\n",
        "            return\n",
        "        if symbol not in self.rules:\n",
        "            generated_strings.append(current_string)\n",
        "            return\n",
        "\n",
        "        for rule in self.rules[symbol]:\n",
        "            for s in rule:\n",
        "                self._generate_recursive(s, current_string + s, generated_strings, max_length)\n",
        "\n",
        "# Example usage:\n",
        "rules = {\n",
        "    'S': ['aA', 'bB'],\n",
        "    'A': ['a', 'bS'],\n",
        "    'B': ['b', 'aS']\n",
        "}\n",
        "\n",
        "regular_grammar = RegularGrammar(rules)\n",
        "generated_strings = regular_grammar.generate('S', 10)\n",
        "print(\"Generated strings:\", generated_strings)"
      ],
      "metadata": {
        "colab": {
          "base_uri": "https://localhost:8080/"
        },
        "id": "yWKRiW3oMsp2",
        "outputId": "95ee2740-a64d-401d-b506-2d9d859dcefe"
      },
      "execution_count": 3,
      "outputs": [
        {
          "output_type": "stream",
          "name": "stdout",
          "text": [
            "Generated strings: ['a', 'Aa', 'Ab', 'ASa', 'ASAa', 'ASAb', 'ASASa', 'ASASAa', 'ASASAb', 'ASASASa', 'ASASASAa', 'ASASASAb', 'ASASASASa', 'ASASASASAa', 'ASASASASAb', 'ASASASASb', 'ASASASASBb', 'ASASASASBa', 'ASASASb', 'ASASASBb', 'ASASASBa', 'ASASASBSa', 'ASASASBSAa', 'ASASASBSAb', 'ASASASBSb', 'ASASASBSBb', 'ASASASBSBa', 'ASASb', 'ASASBb', 'ASASBa', 'ASASBSa', 'ASASBSAa', 'ASASBSAb', 'ASASBSASa', 'ASASBSASAa', 'ASASBSASAb', 'ASASBSASb', 'ASASBSASBb', 'ASASBSASBa', 'ASASBSb', 'ASASBSBb', 'ASASBSBa', 'ASASBSBSa', 'ASASBSBSAa', 'ASASBSBSAb', 'ASASBSBSb', 'ASASBSBSBb', 'ASASBSBSBa', 'ASb', 'ASBb', 'ASBa', 'ASBSa', 'ASBSAa', 'ASBSAb', 'ASBSASa', 'ASBSASAa', 'ASBSASAb', 'ASBSASASa', 'ASBSASASAa', 'ASBSASASAb', 'ASBSASASb', 'ASBSASASBb', 'ASBSASASBa', 'ASBSASb', 'ASBSASBb', 'ASBSASBa', 'ASBSASBSa', 'ASBSASBSAa', 'ASBSASBSAb', 'ASBSASBSb', 'ASBSASBSBb', 'ASBSASBSBa', 'ASBSb', 'ASBSBb', 'ASBSBa', 'ASBSBSa', 'ASBSBSAa', 'ASBSBSAb', 'ASBSBSASa', 'ASBSBSASAa', 'ASBSBSASAb', 'ASBSBSASb', 'ASBSBSASBb', 'ASBSBSASBa', 'ASBSBSb', 'ASBSBSBb', 'ASBSBSBa', 'ASBSBSBSa', 'ASBSBSBSAa', 'ASBSBSBSAb', 'ASBSBSBSb', 'ASBSBSBSBb', 'ASBSBSBSBa', 'b', 'Bb', 'Ba', 'BSa', 'BSAa', 'BSAb', 'BSASa', 'BSASAa', 'BSASAb', 'BSASASa', 'BSASASAa', 'BSASASAb', 'BSASASASa', 'BSASASASAa', 'BSASASASAb', 'BSASASASb', 'BSASASASBb', 'BSASASASBa', 'BSASASb', 'BSASASBb', 'BSASASBa', 'BSASASBSa', 'BSASASBSAa', 'BSASASBSAb', 'BSASASBSb', 'BSASASBSBb', 'BSASASBSBa', 'BSASb', 'BSASBb', 'BSASBa', 'BSASBSa', 'BSASBSAa', 'BSASBSAb', 'BSASBSASa', 'BSASBSASAa', 'BSASBSASAb', 'BSASBSASb', 'BSASBSASBb', 'BSASBSASBa', 'BSASBSb', 'BSASBSBb', 'BSASBSBa', 'BSASBSBSa', 'BSASBSBSAa', 'BSASBSBSAb', 'BSASBSBSb', 'BSASBSBSBb', 'BSASBSBSBa', 'BSb', 'BSBb', 'BSBa', 'BSBSa', 'BSBSAa', 'BSBSAb', 'BSBSASa', 'BSBSASAa', 'BSBSASAb', 'BSBSASASa', 'BSBSASASAa', 'BSBSASASAb', 'BSBSASASb', 'BSBSASASBb', 'BSBSASASBa', 'BSBSASb', 'BSBSASBb', 'BSBSASBa', 'BSBSASBSa', 'BSBSASBSAa', 'BSBSASBSAb', 'BSBSASBSb', 'BSBSASBSBb', 'BSBSASBSBa', 'BSBSb', 'BSBSBb', 'BSBSBa', 'BSBSBSa', 'BSBSBSAa', 'BSBSBSAb', 'BSBSBSASa', 'BSBSBSASAa', 'BSBSBSASAb', 'BSBSBSASb', 'BSBSBSASBb', 'BSBSBSASBa', 'BSBSBSb', 'BSBSBSBb', 'BSBSBSBa', 'BSBSBSBSa', 'BSBSBSBSAa', 'BSBSBSBSAb', 'BSBSBSBSb', 'BSBSBSBSBb', 'BSBSBSBSBa']\n"
          ]
        }
      ]
    },
    {
      "cell_type": "markdown",
      "source": [
        "#Pumping Lemma"
      ],
      "metadata": {
        "id": "Hg4OHf3IMv9L"
      }
    },
    {
      "cell_type": "markdown",
      "source": [
        "The Pumping Lemma is a fundamental theorem used to prove that certain languages are not regular. It states that for any regular language, there exists a pumping length such that any string longer than the pumping length can be split into three parts, where the middle part can be repeated any number of times while still remaining in the language."
      ],
      "metadata": {
        "id": "PxwAxXunMw2t"
      }
    },
    {
      "cell_type": "code",
      "source": [
        "def prove_nonregularity(language):\n",
        "    print(\"Assume L is regular.\")\n",
        "    print(\"Let p be the pumping length given by the Pumping Lemma.\")\n",
        "    print(\"Consider the string s = '0' * p + '1' * p.\")\n",
        "    print(\"Since |s| ≥ p, s can be divided into three parts: xyz.\")\n",
        "    print(\"According to the Pumping Lemma, y can be pumped any number of times.\")\n",
        "    print(\"Let's consider xy^iz for i = 0, 1, 2, ...\")\n",
        "\n",
        "    p = 2  # Choose a pumping length\n",
        "    s = '0' * p + '1' * p\n",
        "    for i in range(5):\n",
        "        new_string = s[:p] + '1' * (p * i) + s[p:]\n",
        "        if new_string in language:\n",
        "            print(\"String\", new_string, \"is in L.\")\n",
        "        else:\n",
        "            print(\"String\", new_string, \"is not in L, contradiction!\")\n",
        "            print(\"Therefore, L is not regular.\")\n",
        "            return\n",
        "\n",
        "language = {'0'*n + '1'*n for n in range(10)}  # Generate some strings in the language L\n",
        "prove_nonregularity(language)"
      ],
      "metadata": {
        "colab": {
          "base_uri": "https://localhost:8080/"
        },
        "id": "WxO0Bz0pM6rl",
        "outputId": "c15750a3-237a-403f-fd06-13739780a7a7"
      },
      "execution_count": 4,
      "outputs": [
        {
          "output_type": "stream",
          "name": "stdout",
          "text": [
            "Assume L is regular.\n",
            "Let p be the pumping length given by the Pumping Lemma.\n",
            "Consider the string s = '0' * p + '1' * p.\n",
            "Since |s| ≥ p, s can be divided into three parts: xyz.\n",
            "According to the Pumping Lemma, y can be pumped any number of times.\n",
            "Let's consider xy^iz for i = 0, 1, 2, ...\n",
            "String 0011 is in L.\n",
            "String 001111 is not in L, contradiction!\n",
            "Therefore, L is not regular.\n"
          ]
        }
      ]
    }
  ]
}