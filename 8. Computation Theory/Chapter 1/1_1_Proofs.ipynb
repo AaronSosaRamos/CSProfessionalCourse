{
  "nbformat": 4,
  "nbformat_minor": 0,
  "metadata": {
    "colab": {
      "provenance": []
    },
    "kernelspec": {
      "name": "python3",
      "display_name": "Python 3"
    },
    "language_info": {
      "name": "python"
    }
  },
  "cells": [
    {
      "cell_type": "markdown",
      "source": [
        "#Proofs: by Induction, by Contradiction, Constructive, Non-Constructive, Principle of Boxes"
      ],
      "metadata": {
        "id": "ueN_HR_e1YiU"
      }
    },
    {
      "cell_type": "markdown",
      "source": [
        "#Induction:"
      ],
      "metadata": {
        "id": "M8N0Se211emc"
      }
    },
    {
      "cell_type": "markdown",
      "source": [
        "Induction is a proof technique used to establish a statement for all natural numbers (or a subset) by proving it for a base case and then showing that if it holds for an arbitrary value, it holds for the next value.\n"
      ],
      "metadata": {
        "id": "66o6vllh1fDr"
      }
    },
    {
      "cell_type": "code",
      "execution_count": 2,
      "metadata": {
        "colab": {
          "base_uri": "https://localhost:8080/"
        },
        "id": "BbwlWSaY1QgG",
        "outputId": "66da4061-0761-47cd-dd06-54e032a9d1cf"
      },
      "outputs": [
        {
          "output_type": "stream",
          "name": "stdout",
          "text": [
            "Induction test passed.\n"
          ]
        }
      ],
      "source": [
        "import math\n",
        "\n",
        "def factorial(n):\n",
        "    if n == 0:\n",
        "        return 1\n",
        "    else:\n",
        "        return n * factorial(n-1)\n",
        "\n",
        "# Proof by induction: Proving factorial(n) = n! for all n >= 0\n",
        "def test_induction():\n",
        "    for i in range(10):  # Testing for some values\n",
        "        assert factorial(i) == math.factorial(i)\n",
        "    print(\"Induction test passed.\")\n",
        "\n",
        "test_induction()\n"
      ]
    },
    {
      "cell_type": "markdown",
      "source": [
        "#Contradiction:"
      ],
      "metadata": {
        "id": "2cor_EH61oUc"
      }
    },
    {
      "cell_type": "markdown",
      "source": [
        "Proof by contradiction assumes the negation of what we want to prove and derives a contradiction from it, thus showing that the original statement must be true.\n"
      ],
      "metadata": {
        "id": "NH_eUjz41o_0"
      }
    },
    {
      "cell_type": "code",
      "source": [
        "def is_prime(n):\n",
        "    if n <= 1:\n",
        "        return False\n",
        "    elif n <= 3:\n",
        "        return True\n",
        "    elif n % 2 == 0 or n % 3 == 0:\n",
        "        return False\n",
        "    i = 5\n",
        "    while i * i <= n:\n",
        "        if n % i == 0 or n % (i + 2) == 0:\n",
        "            return False\n",
        "        i += 6\n",
        "    return True\n",
        "\n",
        "# Proof by contradiction: Proving there are infinitely many prime numbers\n",
        "def test_contradiction():\n",
        "    primes = [2, 3, 5, 7, 11, 13, 17, 19, 23, 29]  # Some prime numbers\n",
        "    for prime in primes:\n",
        "        assert is_prime(prime)\n",
        "    print(\"Contradiction test passed.\")\n",
        "\n",
        "test_contradiction()\n"
      ],
      "metadata": {
        "colab": {
          "base_uri": "https://localhost:8080/"
        },
        "id": "335CJQ421tDN",
        "outputId": "212d194c-bae8-48c5-d875-f33d7cba01de"
      },
      "execution_count": 3,
      "outputs": [
        {
          "output_type": "stream",
          "name": "stdout",
          "text": [
            "Contradiction test passed.\n"
          ]
        }
      ]
    },
    {
      "cell_type": "markdown",
      "source": [
        "# Constructive:"
      ],
      "metadata": {
        "id": "UeSwRi6n1zRU"
      }
    },
    {
      "cell_type": "markdown",
      "source": [
        "Constructive proofs provide an explicit example or algorithm that demonstrates the existence of the object satisfying the property being proven. Here's a simple example:\n",
        "\n"
      ],
      "metadata": {
        "id": "K-3_jLQO10sD"
      }
    },
    {
      "cell_type": "code",
      "source": [
        "# Constructive proof: Finding a square root of 2 using the Babylonian method\n",
        "def babylonian_sqrt(num):\n",
        "    guess = num / 2\n",
        "    while abs(guess * guess - num) > 0.0001:\n",
        "        guess = (guess + num / guess) / 2\n",
        "    return guess\n",
        "\n",
        "# Testing constructive proof\n",
        "def test_constructive():\n",
        "    assert abs(babylonian_sqrt(2) - math.sqrt(2)) < 0.0001\n",
        "    print(\"Constructive test passed.\")\n",
        "\n",
        "test_constructive()\n"
      ],
      "metadata": {
        "colab": {
          "base_uri": "https://localhost:8080/"
        },
        "id": "gqUtbT2010UU",
        "outputId": "4ccaf0c3-ff28-4797-91a0-ef8c5c9db697"
      },
      "execution_count": 4,
      "outputs": [
        {
          "output_type": "stream",
          "name": "stdout",
          "text": [
            "Constructive test passed.\n"
          ]
        }
      ]
    },
    {
      "cell_type": "markdown",
      "source": [
        "#Non-constructive:"
      ],
      "metadata": {
        "id": "2VhKDu-x15tj"
      }
    },
    {
      "cell_type": "markdown",
      "source": [
        "Non-constructive proofs demonstrate the existence of an object satisfying the property without providing an explicit example. An example of this is the proof of the existence of solutions to certain equations without actually finding them.\n",
        "\n"
      ],
      "metadata": {
        "id": "4GGRZ5cJ1_Ib"
      }
    },
    {
      "cell_type": "code",
      "source": [
        "# Non-constructive proof: Proving the existence of irrational numbers\n",
        "def test_non_constructive():\n",
        "    assert math.sqrt(2) - int(math.sqrt(2)) != 0  # Irrationality of square root of 2\n",
        "    print(\"Non-constructive test passed.\")\n",
        "\n",
        "test_non_constructive()\n"
      ],
      "metadata": {
        "colab": {
          "base_uri": "https://localhost:8080/"
        },
        "id": "GosyhQL817DC",
        "outputId": "4dde154c-6304-4e42-ff3a-d244f9b6647e"
      },
      "execution_count": 5,
      "outputs": [
        {
          "output_type": "stream",
          "name": "stdout",
          "text": [
            "Non-constructive test passed.\n"
          ]
        }
      ]
    },
    {
      "cell_type": "markdown",
      "source": [
        "#Principle of Boxes:"
      ],
      "metadata": {
        "id": "vnX_8ECD2L-d"
      }
    },
    {
      "cell_type": "markdown",
      "source": [
        "The principle of boxes, also known as the pigeonhole principle, states that if you distribute more items into boxes than there are boxes, then at least one box must contain more than one item. This principle finds applications in various computational scenarios.\n",
        "\n"
      ],
      "metadata": {
        "id": "igQ5WIL-2NyL"
      }
    },
    {
      "cell_type": "code",
      "source": [
        "# Principle of boxes: Proving there exist two people with the same age in a group of more than 365 people\n",
        "def test_principle_of_boxes(ages):\n",
        "    seen = set()\n",
        "    for age in ages:\n",
        "        if age in seen:\n",
        "            return True\n",
        "        seen.add(age)\n",
        "    return False\n",
        "\n",
        "# Testing principle of boxes\n",
        "def test_boxes():\n",
        "    ages = [20, 25, 30, 35, 40, 45, 20]  # More people than distinct ages\n",
        "    assert test_principle_of_boxes(ages)\n",
        "    print(\"Principle of boxes test passed.\")\n",
        "\n",
        "test_boxes()\n"
      ],
      "metadata": {
        "colab": {
          "base_uri": "https://localhost:8080/"
        },
        "id": "qWWLhIMu2Mlz",
        "outputId": "a20b92d3-c920-470a-cd68-bd900a99ae34"
      },
      "execution_count": 6,
      "outputs": [
        {
          "output_type": "stream",
          "name": "stdout",
          "text": [
            "Principle of boxes test passed.\n"
          ]
        }
      ]
    }
  ]
}