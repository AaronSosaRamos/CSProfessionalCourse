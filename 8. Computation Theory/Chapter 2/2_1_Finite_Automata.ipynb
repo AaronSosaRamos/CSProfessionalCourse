{
  "nbformat": 4,
  "nbformat_minor": 0,
  "metadata": {
    "colab": {
      "provenance": []
    },
    "kernelspec": {
      "name": "python3",
      "display_name": "Python 3"
    },
    "language_info": {
      "name": "python"
    }
  },
  "cells": [
    {
      "cell_type": "markdown",
      "source": [
        "# Finite Automata\n"
      ],
      "metadata": {
        "id": "MNJghVT-25EM"
      }
    },
    {
      "cell_type": "markdown",
      "source": [
        "Finite Automata are mathematical models used in computational theory to represent systems with a finite number of states and transitions between these states. Here, we'll discuss various types and operations related to Finite Automata."
      ],
      "metadata": {
        "id": "0Z72qhiq3qTr"
      }
    },
    {
      "cell_type": "markdown",
      "source": [
        "#Deterministic Finite Automata (DFA)"
      ],
      "metadata": {
        "id": "rHA1C7zG3wSL"
      }
    },
    {
      "cell_type": "markdown",
      "source": [
        "Deterministic Finite Automata (DFA) are a type of finite automaton where for each state and input symbol, there is exactly one next state."
      ],
      "metadata": {
        "id": "noyX7Idz3yWE"
      }
    },
    {
      "cell_type": "code",
      "execution_count": 1,
      "metadata": {
        "colab": {
          "base_uri": "https://localhost:8080/"
        },
        "id": "fsxGZN_-2sva",
        "outputId": "a3625784-b76d-4ff4-85f9-5d00c96b77b2"
      },
      "outputs": [
        {
          "output_type": "stream",
          "name": "stdout",
          "text": [
            "DFA test passed.\n"
          ]
        }
      ],
      "source": [
        "class DFA:\n",
        "    def __init__(self, states, alphabet, transition_function, initial_state, accepting_states):\n",
        "        self.states = states\n",
        "        self.alphabet = alphabet\n",
        "        self.transition_function = transition_function\n",
        "        self.current_state = initial_state\n",
        "        self.accepting_states = accepting_states\n",
        "\n",
        "    def transition(self, input_symbol):\n",
        "        if input_symbol in self.alphabet:\n",
        "            self.current_state = self.transition_function[self.current_state][input_symbol]\n",
        "\n",
        "    def is_accepting(self):\n",
        "        return self.current_state in self.accepting_states\n",
        "\n",
        "# Testing DFA\n",
        "def test_dfa():\n",
        "    dfa = DFA(states={'q0', 'q1'},\n",
        "              alphabet={'0', '1'},\n",
        "              transition_function={'q0': {'0': 'q1', '1': 'q0'},\n",
        "                                   'q1': {'0': 'q0', '1': 'q1'}},\n",
        "              initial_state='q0',\n",
        "              accepting_states={'q1'})\n",
        "    inputs = \"00110\"\n",
        "    for symbol in inputs:\n",
        "        dfa.transition(symbol)\n",
        "    assert dfa.is_accepting()\n",
        "    print(\"DFA test passed.\")\n",
        "\n",
        "test_dfa()\n"
      ]
    },
    {
      "cell_type": "markdown",
      "source": [
        "#Non-Deterministic Finite Automata (NFA)"
      ],
      "metadata": {
        "id": "s2aC_beI39h0"
      }
    },
    {
      "cell_type": "markdown",
      "source": [
        "Non-Deterministic Finite Automata (NFA) are finite automata where for a given state and input symbol, there can be multiple next states.\n"
      ],
      "metadata": {
        "id": "Z6UkwFgA4CtT"
      }
    },
    {
      "cell_type": "code",
      "source": [
        "class NFA:\n",
        "    def __init__(self, states, alphabet, transition_function, initial_state, accepting_states):\n",
        "        self.states = states\n",
        "        self.alphabet = alphabet\n",
        "        self.transition_function = transition_function\n",
        "        self.current_states = {initial_state}\n",
        "        self.accepting_states = accepting_states\n",
        "\n",
        "    def transition(self, input_symbol):\n",
        "        next_states = set()\n",
        "        for state in self.current_states:\n",
        "            if input_symbol in self.transition_function[state]:\n",
        "                next_states.update(self.transition_function[state][input_symbol])\n",
        "        self.current_states = next_states\n",
        "\n",
        "    def is_accepting(self):\n",
        "        return bool(self.current_states.intersection(self.accepting_states))\n",
        "\n",
        "# Testing NFA\n",
        "def test_nfa():\n",
        "    nfa = NFA(states={'q0', 'q1'},\n",
        "              alphabet={'0', '1'},\n",
        "              transition_function={'q0': {'0': {'q0', 'q1'}, '1': {'q0'}},\n",
        "                                   'q1': {'1': {'q1'}}},\n",
        "              initial_state='q0',\n",
        "              accepting_states={'q1'})\n",
        "    inputs = \"00110\"\n",
        "    for symbol in inputs:\n",
        "        nfa.transition(symbol)\n",
        "    assert nfa.is_accepting()\n",
        "    print(\"NFA test passed.\")\n",
        "\n",
        "test_nfa()\n"
      ],
      "metadata": {
        "colab": {
          "base_uri": "https://localhost:8080/"
        },
        "id": "ly_OLHT33-Oj",
        "outputId": "816e169a-c8f5-4631-de64-f5859d82155f"
      },
      "execution_count": 2,
      "outputs": [
        {
          "output_type": "stream",
          "name": "stdout",
          "text": [
            "NFA test passed.\n"
          ]
        }
      ]
    },
    {
      "cell_type": "markdown",
      "source": [
        "#NFA to DFA Transformation"
      ],
      "metadata": {
        "id": "8GIQymPQ4LPT"
      }
    },
    {
      "cell_type": "markdown",
      "source": [
        "Transformation of NFA to DFA involves converting a non-deterministic finite automaton into an equivalent deterministic finite automaton. This conversion allows for easier analysis and implementation. The subset construction algorithm is commonly used for this purpose.\n",
        "\n"
      ],
      "metadata": {
        "id": "dJkPV0Hs4L3j"
      }
    },
    {
      "cell_type": "code",
      "source": [
        "class NFA:\n",
        "    def __init__(self, states, alphabet, transition_function, initial_state, accepting_states):\n",
        "        self.states = states\n",
        "        self.alphabet = alphabet\n",
        "        self.transition_function = transition_function\n",
        "        self.initial_state = initial_state\n",
        "        self.accepting_states = accepting_states\n",
        "\n",
        "    def epsilon_closure(self, states):\n",
        "        closure = set(states)\n",
        "        stack = list(states)\n",
        "        while stack:\n",
        "            state = stack.pop()\n",
        "            if state in self.transition_function and '' in self.transition_function[state]:\n",
        "                epsilon_transitions = self.transition_function[state]['']\n",
        "                for next_state in epsilon_transitions:\n",
        "                    if next_state not in closure:\n",
        "                        closure.add(next_state)\n",
        "                        stack.append(next_state)\n",
        "        return closure\n",
        "\n",
        "    def move(self, states, symbol):\n",
        "        move_states = set()\n",
        "        for state in states:\n",
        "            if state in self.transition_function and symbol in self.transition_function[state]:\n",
        "                move_states.update(self.transition_function[state][symbol])\n",
        "        return move_states\n",
        "\n",
        "    def epsilon_closure_of_move(self, states, symbol):\n",
        "        return self.epsilon_closure(self.move(states, symbol))\n",
        "\n",
        "    def to_dfa(self):\n",
        "        dfa_states = []\n",
        "        dfa_transition_function = {}\n",
        "        dfa_initial_state = frozenset(self.epsilon_closure({self.initial_state}))\n",
        "        dfa_accepting_states = []\n",
        "\n",
        "        unmarked_states = [dfa_initial_state]\n",
        "        marked_states = set()\n",
        "\n",
        "        while unmarked_states:\n",
        "            current_dfa_state = unmarked_states.pop()\n",
        "            marked_states.add(current_dfa_state)\n",
        "\n",
        "            dfa_states.append(current_dfa_state)\n",
        "\n",
        "            if any(state in self.accepting_states for state in current_dfa_state):\n",
        "                dfa_accepting_states.append(current_dfa_state)\n",
        "\n",
        "            for symbol in self.alphabet:\n",
        "                move_states = self.epsilon_closure_of_move(current_dfa_state, symbol)\n",
        "                if move_states:\n",
        "                    dfa_next_state = frozenset(move_states)\n",
        "                    if dfa_next_state not in marked_states:\n",
        "                        unmarked_states.append(dfa_next_state)\n",
        "                    dfa_transition_function.setdefault(current_dfa_state, {})[symbol] = dfa_next_state\n",
        "\n",
        "        return DFA(dfa_states, self.alphabet, dfa_transition_function, dfa_initial_state, dfa_accepting_states)\n",
        "\n",
        "\n",
        "class DFA:\n",
        "    def __init__(self, states, alphabet, transition_function, initial_state, accepting_states):\n",
        "        self.states = states\n",
        "        self.alphabet = alphabet\n",
        "        self.transition_function = transition_function\n",
        "        self.initial_state = initial_state\n",
        "        self.accepting_states = accepting_states\n",
        "\n",
        "    def transition(self, input_symbol):\n",
        "        self.current_state = self.transition_function[self.current_state][input_symbol]\n",
        "\n",
        "    def is_accepting(self):\n",
        "        return self.current_state in self.accepting_states\n",
        "\n",
        "\n",
        "# Example usage:\n",
        "nfa = NFA(states={'q0', 'q1'},\n",
        "          alphabet={'0', '1'},\n",
        "          transition_function={'q0': {'0': {'q0'}, '1': {'q1'}, '': {'q1'}},\n",
        "                               'q1': {'1': {'q1'}}},\n",
        "          initial_state='q0',\n",
        "          accepting_states={'q1'})\n",
        "\n",
        "dfa = nfa.to_dfa()\n",
        "\n",
        "print(\"DFA States:\", dfa.states)\n",
        "print(\"DFA Transition Function:\", dfa.transition_function)\n",
        "print(\"DFA Initial State:\", dfa.initial_state)\n",
        "print(\"DFA Accepting States:\", dfa.accepting_states)\n"
      ],
      "metadata": {
        "colab": {
          "base_uri": "https://localhost:8080/"
        },
        "id": "LGj9GcWV4S8b",
        "outputId": "fe4e1114-c7f9-4543-be25-e4d593b8931d"
      },
      "execution_count": 3,
      "outputs": [
        {
          "output_type": "stream",
          "name": "stdout",
          "text": [
            "DFA States: [frozenset({'q0', 'q1'}), frozenset({'q1'})]\n",
            "DFA Transition Function: {frozenset({'q0', 'q1'}): {'0': frozenset({'q0', 'q1'}), '1': frozenset({'q1'})}, frozenset({'q1'}): {'1': frozenset({'q1'})}}\n",
            "DFA Initial State: frozenset({'q0', 'q1'})\n",
            "DFA Accepting States: [frozenset({'q0', 'q1'}), frozenset({'q1'})]\n"
          ]
        }
      ]
    },
    {
      "cell_type": "markdown",
      "source": [
        "#Non-Deterministic Finite Automata with ε-transitions (NFA-ε)"
      ],
      "metadata": {
        "id": "JtHD_sq04hmz"
      }
    },
    {
      "cell_type": "markdown",
      "source": [
        "NFA-ε is an extension of NFA where transitions can be made without consuming any input symbol. This allows for more expressive power in representing languages.\n"
      ],
      "metadata": {
        "id": "PFllWZz14iaM"
      }
    },
    {
      "cell_type": "code",
      "source": [
        "class NFA_E:\n",
        "    def __init__(self, states, alphabet, transition_function, initial_state, accepting_states):\n",
        "        self.states = states\n",
        "        self.alphabet = alphabet\n",
        "        self.transition_function = transition_function\n",
        "        self.current_states = {initial_state}\n",
        "        self.accepting_states = accepting_states\n",
        "\n",
        "    def epsilon_closure(self, states):\n",
        "        closure = set(states)\n",
        "        stack = list(states)\n",
        "        while stack:\n",
        "            state = stack.pop()\n",
        "            if state in self.transition_function and '' in self.transition_function[state]:\n",
        "                epsilon_transitions = self.transition_function[state]['']\n",
        "                for next_state in epsilon_transitions:\n",
        "                    if next_state not in closure:\n",
        "                        closure.add(next_state)\n",
        "                        stack.append(next_state)\n",
        "        return closure\n",
        "\n",
        "    def transition(self, input_symbol):\n",
        "        next_states = set()\n",
        "        for state in self.current_states:\n",
        "            if input_symbol in self.transition_function[state]:\n",
        "                next_states.update(self.transition_function[state][input_symbol])\n",
        "        self.current_states = self.epsilon_closure(next_states)\n",
        "\n",
        "    def is_accepting(self):\n",
        "        return bool(self.current_states.intersection(self.accepting_states))\n",
        "# Testing NFA-ε\n",
        "def test_nfa_e():\n",
        "    nfa_e = NFA_E(states={'q0', 'q1'},\n",
        "                  alphabet={'0', '1'},\n",
        "                  transition_function={'q0': {'0': {'q0'}, '1': {'q1'}, '': {'q1'}},\n",
        "                                       'q1': {'1': {'q1'}}},\n",
        "                  initial_state='q0',\n",
        "                  accepting_states={'q1'})\n",
        "    input_string = \"1\"\n",
        "    for symbol in input_string:\n",
        "        nfa_e.transition(symbol)\n",
        "    assert nfa_e.is_accepting(), f\"The NFA-ε did not accept the input string '{input_string}'\"\n",
        "    print(\"NFA-ε test passed.\")\n",
        "\n",
        "test_nfa_e()\n"
      ],
      "metadata": {
        "colab": {
          "base_uri": "https://localhost:8080/"
        },
        "id": "CKyd0MXo4lqc",
        "outputId": "6a3652dc-d374-4068-d9e1-09adb3d6edef"
      },
      "execution_count": 10,
      "outputs": [
        {
          "output_type": "stream",
          "name": "stdout",
          "text": [
            "NFA-ε test passed.\n"
          ]
        }
      ]
    },
    {
      "cell_type": "markdown",
      "source": [
        "#NFA-ε to DFA Transformation"
      ],
      "metadata": {
        "id": "fdsGeQuc6PyW"
      }
    },
    {
      "cell_type": "markdown",
      "source": [
        "Transformation of NFA-ε to DFA involves converting a non-deterministic finite automaton with ε-transitions into an equivalent deterministic finite automaton. This conversion is more complex than the standard NFA to DFA transformation due to the presence of ε-transitions.\n",
        "\n"
      ],
      "metadata": {
        "id": "9DBkMoOZ6Qjv"
      }
    },
    {
      "cell_type": "code",
      "source": [
        "class NFA_E:\n",
        "    def __init__(self, states, alphabet, transition_function, initial_state, accepting_states):\n",
        "        self.states = states\n",
        "        self.alphabet = alphabet\n",
        "        self.transition_function = transition_function\n",
        "        self.initial_state = initial_state\n",
        "        self.accepting_states = accepting_states\n",
        "\n",
        "    def epsilon_closure(self, states):\n",
        "        closure = set(states)\n",
        "        stack = list(states)\n",
        "        while stack:\n",
        "            state = stack.pop()\n",
        "            if state in self.transition_function and '' in self.transition_function[state]:\n",
        "                epsilon_transitions = self.transition_function[state]['']\n",
        "                for next_state in epsilon_transitions:\n",
        "                    if next_state not in closure:\n",
        "                        closure.add(next_state)\n",
        "                        stack.append(next_state)\n",
        "        return closure\n",
        "\n",
        "    def move(self, states, symbol):\n",
        "        move_states = set()\n",
        "        for state in states:\n",
        "            if state in self.transition_function and symbol in self.transition_function[state]:\n",
        "                move_states.update(self.transition_function[state][symbol])\n",
        "        return move_states\n",
        "\n",
        "    def epsilon_closure_of_move(self, states, symbol):\n",
        "        return self.epsilon_closure(self.move(states, symbol))\n",
        "\n",
        "    def to_dfa(self):\n",
        "        dfa_states = set()\n",
        "        dfa_transition_function = {}\n",
        "        unmarked_states = [frozenset(self.epsilon_closure({self.initial_state}))]\n",
        "\n",
        "        while unmarked_states:\n",
        "            current_dfa_state = unmarked_states.pop()\n",
        "            dfa_states.add(current_dfa_state)\n",
        "\n",
        "            for symbol in self.alphabet:\n",
        "                next_states = set()\n",
        "                for state in current_dfa_state:\n",
        "                    next_states |= self.epsilon_closure_of_move({state}, symbol)\n",
        "                if next_states:\n",
        "                    next_states_closure = frozenset(self.epsilon_closure(next_states))\n",
        "                    if next_states_closure not in dfa_states:\n",
        "                        unmarked_states.append(next_states_closure)\n",
        "                        dfa_states.add(next_states_closure)\n",
        "                    dfa_transition_function[current_dfa_state, symbol] = next_states_closure\n",
        "\n",
        "        dfa_accepting_states = {state for state in dfa_states if state.intersection(self.accepting_states)}\n",
        "\n",
        "        return DFA(dfa_states, self.alphabet, dfa_transition_function, frozenset(self.epsilon_closure({self.initial_state})), dfa_accepting_states)\n",
        "\n",
        "\n",
        "\n",
        "\n",
        "class DFA:\n",
        "    def __init__(self, states, alphabet, transition_function, initial_state, accepting_states):\n",
        "        self.states = states\n",
        "        self.alphabet = alphabet\n",
        "        self.transition_function = transition_function\n",
        "        self.initial_state = initial_state\n",
        "        self.accepting_states = accepting_states\n",
        "\n",
        "    def transition(self, input_symbol):\n",
        "        self.current_state = self.transition_function[self.current_state, input_symbol]\n",
        "\n",
        "    def is_accepting(self):\n",
        "        return self.current_state in self.accepting_states\n",
        "\n",
        "\n",
        "# Example usage:\n",
        "nfa_e = NFA_E(states={'q0', 'q1'},\n",
        "              alphabet={'0', '1'},\n",
        "              transition_function={'q0': {'0': {'q0'}, '1': {'q1'}, '': {'q1'}},\n",
        "                                   'q1': {'1': {'q1'}}},\n",
        "              initial_state='q0',\n",
        "              accepting_states={'q1'})\n",
        "\n",
        "dfa = nfa_e.to_dfa()\n",
        "\n",
        "print(\"DFA States:\", dfa.states)\n",
        "print(\"DFA Transition Function:\", dfa.transition_function)\n",
        "print(\"DFA Initial State:\", dfa.initial_state)\n",
        "print(\"DFA Accepting States:\", dfa.accepting_states)\n"
      ],
      "metadata": {
        "colab": {
          "base_uri": "https://localhost:8080/"
        },
        "id": "tJ_z57dS6ScG",
        "outputId": "74f53e79-9e95-4fab-b956-26eb8aca17ce"
      },
      "execution_count": 13,
      "outputs": [
        {
          "output_type": "stream",
          "name": "stdout",
          "text": [
            "DFA States: {frozenset({'q1'}), frozenset({'q0', 'q1'})}\n",
            "DFA Transition Function: {(frozenset({'q0', 'q1'}), '0'): frozenset({'q0', 'q1'}), (frozenset({'q0', 'q1'}), '1'): frozenset({'q1'}), (frozenset({'q1'}), '1'): frozenset({'q1'})}\n",
            "DFA Initial State: frozenset({'q0', 'q1'})\n",
            "DFA Accepting States: {frozenset({'q1'}), frozenset({'q0', 'q1'})}\n"
          ]
        }
      ]
    }
  ]
}