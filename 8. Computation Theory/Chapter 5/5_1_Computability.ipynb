{
  "nbformat": 4,
  "nbformat_minor": 0,
  "metadata": {
    "colab": {
      "provenance": []
    },
    "kernelspec": {
      "name": "python3",
      "display_name": "Python 3"
    },
    "language_info": {
      "name": "python"
    }
  },
  "cells": [
    {
      "cell_type": "markdown",
      "source": [
        "#Computability"
      ],
      "metadata": {
        "id": "YyX1l3pblgTF"
      }
    },
    {
      "cell_type": "markdown",
      "source": [
        "Computability refers to the study of what can be computed, and how efficiently it can be computed. It explores the theoretical foundations of computation and the limits of what computers can do.\n",
        "\n"
      ],
      "metadata": {
        "id": "FIwvmsaNlfLe"
      }
    },
    {
      "cell_type": "markdown",
      "source": [
        "#Turing Machines"
      ],
      "metadata": {
        "id": "gfOIJ9VvlieU"
      }
    },
    {
      "cell_type": "markdown",
      "source": [
        "Turing Machines are abstract mathematical models of computation introduced by Alan Turing in 1936. They consist of a tape divided into cells, a read/write head that can move left or right along the tape, and a finite set of states. Turing Machines can simulate any algorithmic computation.\n",
        "\n"
      ],
      "metadata": {
        "id": "H8ab01QClj38"
      }
    },
    {
      "cell_type": "code",
      "execution_count": 4,
      "metadata": {
        "colab": {
          "base_uri": "https://localhost:8080/"
        },
        "id": "ZVAWXKD4lbCI",
        "outputId": "4e0c1283-5f3c-45bd-e348-075e6973f2e2"
      },
      "outputs": [
        {
          "output_type": "stream",
          "name": "stdout",
          "text": [
            "Input: 000111\n",
            "Accepts: False\n"
          ]
        }
      ],
      "source": [
        "# Turing Machine simulation without external libraries\n",
        "\n",
        "class TuringMachine:\n",
        "    def __init__(self, transition_function, initial_state, final_states):\n",
        "        self.transition_function = transition_function\n",
        "        self.current_state = initial_state\n",
        "        self.final_states = final_states\n",
        "        self.tape = [' ']  # Initialize tape with a single blank symbol\n",
        "        self.head_position = 0  # Head starts at the leftmost cell\n",
        "\n",
        "    def move(self, direction):\n",
        "        if direction == 'R':\n",
        "            self.head_position += 1\n",
        "        elif direction == 'L':\n",
        "            self.head_position -= 1\n",
        "\n",
        "        # Extend tape if head moves beyond current tape bounds\n",
        "        if self.head_position == len(self.tape):\n",
        "            self.tape.append(' ')\n",
        "        elif self.head_position == -1:\n",
        "            self.tape.insert(0, ' ')\n",
        "            self.head_position = 0\n",
        "\n",
        "    def run(self, input_str):\n",
        "        for symbol in input_str:\n",
        "            transition = self.transition_function.get((self.current_state, symbol))\n",
        "            if transition:\n",
        "                new_state, new_symbol, direction = transition\n",
        "                self.tape[self.head_position] = new_symbol\n",
        "                self.current_state = new_state\n",
        "                self.move(direction)\n",
        "            else:\n",
        "                return False  # No valid transition for the current state and symbol\n",
        "        return self.current_state in self.final_states\n",
        "\n",
        "# Example usage\n",
        "transition_function = {\n",
        "    ('q0', '0'): ('q1', '1', 'R'),\n",
        "    ('q1', '1'): ('q0', '0', 'R'),\n",
        "}\n",
        "initial_state = 'q0'\n",
        "final_states = {'q0'}\n",
        "\n",
        "tm = TuringMachine(transition_function, initial_state, final_states)\n",
        "input_str = '000111'\n",
        "print(\"Input:\", input_str)\n",
        "print(\"Accepts:\", tm.run(input_str))\n"
      ]
    },
    {
      "cell_type": "markdown",
      "source": [
        "#Recognizable and Decidable Languages"
      ],
      "metadata": {
        "id": "f-nPHgIKmBiy"
      }
    },
    {
      "cell_type": "markdown",
      "source": [
        "Recognizable languages, also known as recursively enumerable languages, are languages for which there exists a Turing Machine that halts and accepts strings in the language. Decidable languages, on the other hand, are languages for which there exists a Turing Machine that halts and accepts all strings in the language and rejects all strings not in the language.\n",
        "\n"
      ],
      "metadata": {
        "id": "P7PxInIEmCXl"
      }
    },
    {
      "cell_type": "code",
      "source": [
        "# Python code using regular expressions to recognize languages\n",
        "import re\n",
        "\n",
        "# Regular expression to recognize strings of the form '0^n1^n'\n",
        "regex = re.compile(r'^(0+)(1+)$')\n",
        "\n",
        "def is_recognizable(input_str):\n",
        "    return bool(regex.match(input_str))\n",
        "\n",
        "def is_decidable(input_str):\n",
        "    return input_str.count('0') == input_str.count('1') and is_recognizable(input_str)\n",
        "\n",
        "# Test the functions\n",
        "print(\"Recognizable:\", is_recognizable(\"000111\"))  # True\n",
        "print(\"Decidable:\", is_decidable(\"000111\"))        # True\n"
      ],
      "metadata": {
        "colab": {
          "base_uri": "https://localhost:8080/"
        },
        "id": "pc3_M3kVmDR1",
        "outputId": "5f6a4ad8-c2df-4040-f633-56778a516877"
      },
      "execution_count": 5,
      "outputs": [
        {
          "output_type": "stream",
          "name": "stdout",
          "text": [
            "Recognizable: True\n",
            "Decidable: True\n"
          ]
        }
      ]
    },
    {
      "cell_type": "markdown",
      "source": [
        "#Halting Problem"
      ],
      "metadata": {
        "id": "Sn9Ed8apoq8N"
      }
    },
    {
      "cell_type": "markdown",
      "source": [
        "The Halting Problem, introduced by Alan Turing in 1936, asks whether it's possible to determine whether a given Turing Machine will halt (finish running) on a given input.\n",
        "\n"
      ],
      "metadata": {
        "id": "BqEER81jor91"
      }
    },
    {
      "cell_type": "code",
      "source": [
        "# Python code demonstrating the halting problem\n",
        "def halts(program, input_data):\n",
        "    try:\n",
        "        exec(program)\n",
        "        return True\n",
        "    except:\n",
        "        return False\n",
        "\n",
        "# Test the function\n",
        "program = \"\"\"\n",
        "while True:\n",
        "    pass\n",
        "\"\"\"\n",
        "print(\"Halts:\", halts(program, None))  # False\n"
      ],
      "metadata": {
        "colab": {
          "base_uri": "https://localhost:8080/"
        },
        "id": "G_it3O42osP9",
        "outputId": "02e99063-33e5-4468-fb90-a250d0d48f16"
      },
      "execution_count": 6,
      "outputs": [
        {
          "output_type": "stream",
          "name": "stdout",
          "text": [
            "Halts: False\n"
          ]
        }
      ]
    },
    {
      "cell_type": "markdown",
      "source": [
        "#Reductions"
      ],
      "metadata": {
        "id": "VYLgOT6KoxF1"
      }
    },
    {
      "cell_type": "markdown",
      "source": [
        "Reductions are a concept used in computability theory and complexity theory to compare the computational difficulty of different problems. A problem A is reducible to problem B if an algorithm for problem B can be used to solve problem A.\n",
        "\n"
      ],
      "metadata": {
        "id": "Dq4ND6DTozYE"
      }
    },
    {
      "cell_type": "code",
      "source": [
        "# Problem_B: A custom problem for demonstration\n",
        "def problem_B(input_data):\n",
        "    # Here we define the behavior of problem_B\n",
        "    # For simplicity, let's assume it returns True for even-length input strings and False for odd-length ones\n",
        "    return len(input_data) % 2 == 0\n",
        "\n",
        "# Reduction from the Halting Problem to Problem_B\n",
        "def reduction_halting_to_B(program):\n",
        "    # This function takes a program (represented as a string) and returns an instance of Problem_B\n",
        "    # We encode the behavior of the program in such a way that if the program halts, it maps to an even-length string; otherwise, it maps to an odd-length string\n",
        "\n",
        "    if halts(program, None):\n",
        "        return \"even_length_input\"\n",
        "    else:\n",
        "        return \"odd_length_input\"\n",
        "\n",
        "# Function to check if a program halts\n",
        "def halts(program, input_data):\n",
        "    # Here, you'd implement the logic to determine if the given program halts on the given input_data\n",
        "    # This is a simplified placeholder implementation\n",
        "    if program == \"while True: pass\":\n",
        "        return False\n",
        "    else:\n",
        "        return True\n",
        "\n",
        "# Test the reduction\n",
        "program = \"while True: pass\"  # Example program that doesn't halt\n",
        "input_instance = reduction_halting_to_B(program)\n",
        "print(\"Instance of Problem_B:\", input_instance)\n",
        "print(\"Solution to Problem_B:\", problem_B(input_instance))"
      ],
      "metadata": {
        "colab": {
          "base_uri": "https://localhost:8080/"
        },
        "id": "bhl0OsgPo0nF",
        "outputId": "a8e5780c-2c04-4ec5-bce2-09c62f697743"
      },
      "execution_count": 9,
      "outputs": [
        {
          "output_type": "stream",
          "name": "stdout",
          "text": [
            "Instance of Problem_B: odd_length_input\n",
            "Solution to Problem_B: True\n"
          ]
        }
      ]
    }
  ]
}