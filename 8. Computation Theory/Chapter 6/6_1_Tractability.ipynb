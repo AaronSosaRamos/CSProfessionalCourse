{
  "nbformat": 4,
  "nbformat_minor": 0,
  "metadata": {
    "colab": {
      "provenance": []
    },
    "kernelspec": {
      "name": "python3",
      "display_name": "Python 3"
    },
    "language_info": {
      "name": "python"
    }
  },
  "cells": [
    {
      "cell_type": "markdown",
      "source": [
        "#Tractability"
      ],
      "metadata": {
        "id": "rQhUpkw4pTKY"
      }
    },
    {
      "cell_type": "markdown",
      "source": [
        "Tractability in computational complexity theory refers to the feasibility of solving computational problems efficiently. It encompasses classes of problems for which efficient algorithms exist.\n",
        "\n"
      ],
      "metadata": {
        "id": "HBxUJ0BkpW8Q"
      }
    },
    {
      "cell_type": "markdown",
      "source": [
        "# Classes P and NP"
      ],
      "metadata": {
        "id": "YQHb5tzOpX_H"
      }
    },
    {
      "cell_type": "markdown",
      "source": [
        "* Class P (Polynomial Time): Problems that can be solved by a deterministic Turing machine in polynomial time. These problems are considered efficiently solvable.\n",
        "* Class NP (Nondeterministic Polynomial Time): Problems for which a proposed solution can be verified in polynomial time by a deterministic Turing machine. It's not known whether NP problems can be solved in polynomial time, but if a polynomial-time algorithm exists for any NP problem, then all NP problems can be solved in polynomial time."
      ],
      "metadata": {
        "id": "O77iH44dpYpm"
      }
    },
    {
      "cell_type": "code",
      "execution_count": 1,
      "metadata": {
        "colab": {
          "base_uri": "https://localhost:8080/"
        },
        "id": "hBnJjTdrpPfQ",
        "outputId": "ab2b1137-279f-425f-8002-ff17f0cc229a"
      },
      "outputs": [
        {
          "output_type": "stream",
          "name": "stdout",
          "text": [
            "Sorted list: [1, 1, 2, 3, 4, 5, 5, 6, 9]\n",
            "Subset sum exists: True\n"
          ]
        }
      ],
      "source": [
        "# Example of a problem in P: Sorting a list\n",
        "def sort_list(lst):\n",
        "    return sorted(lst)\n",
        "\n",
        "# Example of a problem in NP: Finding a subset sum\n",
        "def subset_sum(nums, target):\n",
        "    def backtrack(index, current_sum):\n",
        "        if current_sum == target:\n",
        "            return True\n",
        "        if current_sum > target or index >= len(nums):\n",
        "            return False\n",
        "        return backtrack(index + 1, current_sum + nums[index]) or backtrack(index + 1, current_sum)\n",
        "\n",
        "    return backtrack(0, 0)\n",
        "\n",
        "# Test the functions\n",
        "example_list = [3, 1, 4, 1, 5, 9, 2, 6, 5]\n",
        "print(\"Sorted list:\", sort_list(example_list))\n",
        "print(\"Subset sum exists:\", subset_sum(example_list, 8))\n"
      ]
    },
    {
      "cell_type": "markdown",
      "source": [
        "#NP Completeness"
      ],
      "metadata": {
        "id": "NA572FTrpnne"
      }
    },
    {
      "cell_type": "markdown",
      "source": [
        "NP-completeness is a property of optimization problems within the complexity class NP. A problem is NP-complete if it's in NP and every problem in NP can be reduced to it in polynomial time. NP-complete problems are among the hardest problems in NP and are believed not to have polynomial-time algorithms.\n",
        "\n"
      ],
      "metadata": {
        "id": "-nCjQWHBpoFP"
      }
    },
    {
      "cell_type": "code",
      "source": [
        "# Example of an NP-complete problem: Subset sum problem\n",
        "# We've already implemented the subset_sum function above\n",
        "\n",
        "# Example of a reduction to the subset sum problem\n",
        "def reduction_to_subset_sum(graph):\n",
        "    # Here, we map instances of a graph problem to instances of the subset sum problem\n",
        "    # This is a simplified example; actual reductions can be more complex\n",
        "    nums = [len(edge) for edge in graph]\n",
        "    target = len(graph)  # Arbitrary target value\n",
        "    return nums, target\n",
        "\n",
        "# Test the reduction\n",
        "example_graph = [[1, 2], [2, 3], [3, 1]]\n",
        "nums, target = reduction_to_subset_sum(example_graph)\n",
        "print(\"Instance of subset sum:\", nums, \"with target\", target)\n",
        "print(\"Subset sum exists:\", subset_sum(nums, target))"
      ],
      "metadata": {
        "colab": {
          "base_uri": "https://localhost:8080/"
        },
        "id": "9Un6ZV0Gpp-e",
        "outputId": "650bcdcf-5149-4606-ade2-dfc914483e48"
      },
      "execution_count": 2,
      "outputs": [
        {
          "output_type": "stream",
          "name": "stdout",
          "text": [
            "Instance of subset sum: [2, 2, 2] with target 3\n",
            "Subset sum exists: False\n"
          ]
        }
      ]
    },
    {
      "cell_type": "markdown",
      "source": [
        "#Polynomial Reductions"
      ],
      "metadata": {
        "id": "Pu7ap_UWppze"
      }
    },
    {
      "cell_type": "markdown",
      "source": [
        "Polynomial reductions (or polynomial-time reductions) are mappings between decision problems that preserve the solution in polynomial time. If problem A can be reduced to problem B in polynomial time, it means that an efficient algorithm for solving problem B could also be used to solve problem A efficiently.\n",
        "\n"
      ],
      "metadata": {
        "id": "mfqZB6hzpyl1"
      }
    },
    {
      "cell_type": "code",
      "source": [
        "# Subset Sum Problem: Given a set of integers and a target sum, find if there exists a subset whose sum is equal to the target.\n",
        "def subset_sum(nums, target):\n",
        "    dp = [False] * (target + 1)\n",
        "    dp[0] = True\n",
        "\n",
        "    for num in nums:\n",
        "        for i in range(target, num - 1, -1):\n",
        "            dp[i] |= dp[i - num]\n",
        "\n",
        "    return dp[target]\n",
        "\n",
        "# Knapsack Problem: Given a set of items, each with a weight and a value, determine the number of each item to include in a collection so that the total weight is less than or equal to a given limit and the total value is as large as possible.\n",
        "def knapsack(weights, values, capacity):\n",
        "    n = len(weights)\n",
        "    dp = [[0] * (capacity + 1) for _ in range(n + 1)]\n",
        "\n",
        "    for i in range(1, n + 1):\n",
        "        for w in range(1, capacity + 1):\n",
        "            if weights[i - 1] <= w:\n",
        "                dp[i][w] = max(dp[i - 1][w], values[i - 1] + dp[i - 1][w - weights[i - 1]])\n",
        "            else:\n",
        "                dp[i][w] = dp[i - 1][w]\n",
        "\n",
        "    return dp[n][capacity]\n",
        "\n",
        "# Reduction from Subset Sum to Knapsack Problem\n",
        "def reduction_subset_sum_to_knapsack(nums, target):\n",
        "    # Convert subset sum problem to a knapsack problem instance\n",
        "    weights = nums  # Use the numbers as weights\n",
        "    values = nums  # Use the numbers as values\n",
        "    capacity = target  # Set the knapsack capacity to the target sum\n",
        "    return weights, values, capacity\n",
        "\n",
        "# Test the reduction\n",
        "nums = [3, 1, 4, 1, 5, 9, 2, 6, 5]\n",
        "target = 8\n",
        "\n",
        "weights, values, capacity = reduction_subset_sum_to_knapsack(nums, target)\n",
        "print(\"Weights:\", weights)\n",
        "print(\"Values:\", values)\n",
        "print(\"Knapsack Capacity:\", capacity)\n",
        "\n",
        "# Solve the knapsack problem\n",
        "max_value = knapsack(weights, values, capacity)\n",
        "print(\"Maximum value achievable with knapsack:\", max_value)\n",
        "\n",
        "# If max_value equals target, there exists a subset sum equal to target\n",
        "subset_exists = max_value == target\n",
        "print(\"Subset sum exists with target\", target, \":\", subset_exists)"
      ],
      "metadata": {
        "colab": {
          "base_uri": "https://localhost:8080/"
        },
        "id": "GfDfSbcDpzZe",
        "outputId": "974e75ff-df54-4841-eca3-c526dc839b99"
      },
      "execution_count": 3,
      "outputs": [
        {
          "output_type": "stream",
          "name": "stdout",
          "text": [
            "Weights: [3, 1, 4, 1, 5, 9, 2, 6, 5]\n",
            "Values: [3, 1, 4, 1, 5, 9, 2, 6, 5]\n",
            "Knapsack Capacity: 8\n",
            "Maximum value achievable with knapsack: 8\n",
            "Subset sum exists with target 8 : True\n"
          ]
        }
      ]
    }
  ]
}