{
  "nbformat": 4,
  "nbformat_minor": 0,
  "metadata": {
    "colab": {
      "provenance": []
    },
    "kernelspec": {
      "name": "python3",
      "display_name": "Python 3"
    },
    "language_info": {
      "name": "python"
    }
  },
  "cells": [
    {
      "cell_type": "markdown",
      "source": [
        "#Reactive and Event-Driven Programming"
      ],
      "metadata": {
        "id": "RcpMneX4TkZR"
      }
    },
    {
      "cell_type": "markdown",
      "source": [
        "Reactive and event-driven programming is a paradigm that focuses on handling events and reacting to changes in a system.\n",
        "\n"
      ],
      "metadata": {
        "id": "EdtGsee6TmyP"
      }
    },
    {
      "cell_type": "markdown",
      "source": [
        "#Events and Event Handlers, Canonical Uses"
      ],
      "metadata": {
        "id": "9dmsCwb7TnrP"
      }
    },
    {
      "cell_type": "markdown",
      "source": [
        "Events are occurrences within a system, and event handlers are functions or methods that are executed in response to those events. Some canonical uses of events and event handlers include user interface interactions, asynchronous I/O operations, and system notifications.\n",
        "\n"
      ],
      "metadata": {
        "id": "qA1abKiWTtM3"
      }
    },
    {
      "cell_type": "markdown",
      "source": [
        "Case: In a chat application, events could include messages being sent or received, users joining or leaving a chat room, or typing indicators. Event handlers would handle these events by updating the user interface, notifying other users, or updating the chat history.\n",
        "\n"
      ],
      "metadata": {
        "id": "hXcUPFp0TvOX"
      }
    },
    {
      "cell_type": "code",
      "source": [
        "# Define an event and its handler\n",
        "class Event:\n",
        "    def __init__(self):\n",
        "        self.handlers = []\n",
        "\n",
        "    def add_handler(self, handler):\n",
        "        self.handlers.append(handler)\n",
        "\n",
        "    def notify(self, *args, **kwargs):\n",
        "        for handler in self.handlers:\n",
        "            handler(*args, **kwargs)\n",
        "\n",
        "# Example usage of events and event handlers\n",
        "def on_button_click():\n",
        "    print(\"Button clicked!\")\n",
        "\n",
        "# Create an event and attach a handler\n",
        "button_click_event = Event()\n",
        "button_click_event.add_handler(on_button_click)\n",
        "\n",
        "# Simulate a button click\n",
        "button_click_event.notify()\n"
      ],
      "metadata": {
        "colab": {
          "base_uri": "https://localhost:8080/"
        },
        "id": "usPpml8FUD0w",
        "outputId": "3b241c09-7a92-4c59-889f-3890d5a3978b"
      },
      "execution_count": 2,
      "outputs": [
        {
          "output_type": "stream",
          "name": "stdout",
          "text": [
            "Button clicked!\n"
          ]
        }
      ]
    },
    {
      "cell_type": "code",
      "execution_count": 3,
      "metadata": {
        "colab": {
          "base_uri": "https://localhost:8080/"
        },
        "id": "gTzvZBbpTaDk",
        "outputId": "92f9be2b-ada0-49a3-dcfe-a74a1b005358"
      },
      "outputs": [
        {
          "output_type": "stream",
          "name": "stdout",
          "text": [
            "Alice joined the chat\n",
            "Message received from Alice: Hello, everyone!\n",
            "Alice left the chat\n"
          ]
        }
      ],
      "source": [
        "class ChatRoom:\n",
        "    def __init__(self):\n",
        "        self.message_received = Event()\n",
        "        self.user_joined = Event()\n",
        "        self.user_left = Event()\n",
        "\n",
        "    def send_message(self, message, sender):\n",
        "        # Process message sending logic\n",
        "        self.message_received.notify(message, sender)\n",
        "\n",
        "    def join_room(self, user):\n",
        "        # Process user joining logic\n",
        "        self.user_joined.notify(user)\n",
        "\n",
        "    def leave_room(self, user):\n",
        "        # Process user leaving logic\n",
        "        self.user_left.notify(user)\n",
        "\n",
        "# Example usage\n",
        "def on_message_received(message, sender):\n",
        "    print(f\"Message received from {sender}: {message}\")\n",
        "\n",
        "def on_user_joined(user):\n",
        "    print(f\"{user} joined the chat\")\n",
        "\n",
        "def on_user_left(user):\n",
        "    print(f\"{user} left the chat\")\n",
        "\n",
        "chat_room = ChatRoom()\n",
        "chat_room.message_received.add_handler(on_message_received)\n",
        "chat_room.user_joined.add_handler(on_user_joined)\n",
        "chat_room.user_left.add_handler(on_user_left)\n",
        "\n",
        "chat_room.join_room(\"Alice\")\n",
        "chat_room.send_message(\"Hello, everyone!\", \"Alice\")\n",
        "chat_room.leave_room(\"Alice\")\n"
      ]
    },
    {
      "cell_type": "markdown",
      "source": [
        "#Use of Reactive Frameworks (Observer Pattern)\n",
        "Reactive frameworks provide structures and tools for building reactive systems. The Observer pattern is commonly used in reactive programming to implement event handling, where an object (subject) maintains a list of dependents (observers) and notifies them of state changes.\n",
        "\n"
      ],
      "metadata": {
        "id": "e-5bmC6UUINs"
      }
    },
    {
      "cell_type": "code",
      "source": [
        "!pip install rx"
      ],
      "metadata": {
        "colab": {
          "base_uri": "https://localhost:8080/"
        },
        "id": "WDo-bQPqUPMH",
        "outputId": "423924a9-d747-4434-ff4c-e8b4deead24b"
      },
      "execution_count": 5,
      "outputs": [
        {
          "output_type": "stream",
          "name": "stdout",
          "text": [
            "Collecting rx\n",
            "  Downloading Rx-3.2.0-py3-none-any.whl (199 kB)\n",
            "\u001b[?25l     \u001b[90m━━━━━━━━━━━━━━━━━━━━━━━━━━━━━━━━━━━━━━━━\u001b[0m \u001b[32m0.0/199.2 kB\u001b[0m \u001b[31m?\u001b[0m eta \u001b[36m-:--:--\u001b[0m\r\u001b[2K     \u001b[91m━━━━━━━━━━━━━━━━━━━━━━━━━━━━━━━━━━━━━━━\u001b[0m\u001b[90m╺\u001b[0m \u001b[32m194.6/199.2 kB\u001b[0m \u001b[31m6.6 MB/s\u001b[0m eta \u001b[36m0:00:01\u001b[0m\r\u001b[2K     \u001b[90m━━━━━━━━━━━━━━━━━━━━━━━━━━━━━━━━━━━━━━━━\u001b[0m \u001b[32m199.2/199.2 kB\u001b[0m \u001b[31m5.2 MB/s\u001b[0m eta \u001b[36m0:00:00\u001b[0m\n",
            "\u001b[?25hInstalling collected packages: rx\n",
            "Successfully installed rx-3.2.0\n"
          ]
        }
      ]
    },
    {
      "cell_type": "code",
      "source": [
        "from rx import of\n",
        "\n",
        "# Define an observable sequence\n",
        "source = of(1, 2, 3, 4, 5)\n",
        "\n",
        "# Subscribe to the sequence\n",
        "source.subscribe(\n",
        "    on_next=lambda value: print(\"Received:\", value),\n",
        "    on_completed=lambda: print(\"Completed!\")\n",
        ")\n"
      ],
      "metadata": {
        "colab": {
          "base_uri": "https://localhost:8080/"
        },
        "id": "JmkvkFBGUNHO",
        "outputId": "d87742e8-90c2-4d20-a03e-66d3834c1887"
      },
      "execution_count": 7,
      "outputs": [
        {
          "output_type": "stream",
          "name": "stdout",
          "text": [
            "Received: 1\n",
            "Received: 2\n",
            "Received: 3\n",
            "Received: 4\n",
            "Received: 5\n",
            "Completed!\n"
          ]
        },
        {
          "output_type": "execute_result",
          "data": {
            "text/plain": [
              "<rx.disposable.disposable.Disposable at 0x7b37e6d341f0>"
            ]
          },
          "metadata": {},
          "execution_count": 7
        }
      ]
    },
    {
      "cell_type": "code",
      "source": [
        "from rx import interval, operators as ops\n",
        "import random\n",
        "import time\n",
        "\n",
        "# Function to simulate fetching sensor data\n",
        "def get_sensor_data(sensor_id):\n",
        "    # Simulate fetching sensor data (temperature)\n",
        "    return random.uniform(20, 30)\n",
        "\n",
        "# Observable sequence for sensor data updates\n",
        "def observe_sensor(sensor_id):\n",
        "    return interval(1).pipe(\n",
        "        ops.map(lambda _: (sensor_id, get_sensor_data(sensor_id)))\n",
        "    )\n",
        "\n",
        "# Subscriber to react to sensor data changes\n",
        "def on_sensor_data_change(sensor_data):\n",
        "    sensor_id, data = sensor_data\n",
        "    print(f\"Sensor {sensor_id} - Temperature: {data:.2f}°C\")\n",
        "\n",
        "# Subscribe to sensor data updates for multiple sensors\n",
        "sensor_ids = [\"Sensor1\", \"Sensor2\", \"Sensor3\"]\n",
        "for sensor_id in sensor_ids:\n",
        "    observe_sensor(sensor_id).pipe(\n",
        "        ops.take(10)  # Limit emissions to 10 updates for each sensor\n",
        "    ).subscribe(on_sensor_data_change)\n",
        "\n",
        "# Sleep to allow the observable sequences to emit events\n",
        "time.sleep(15)  # Sleep for a duration longer than the number of expected emissions\n"
      ],
      "metadata": {
        "colab": {
          "base_uri": "https://localhost:8080/"
        },
        "id": "K54o6W1EUe27",
        "outputId": "a9154146-0916-468d-c85a-e9ded4663392"
      },
      "execution_count": 13,
      "outputs": [
        {
          "output_type": "stream",
          "name": "stdout",
          "text": [
            "Sensor Sensor1 - Temperature: 22.45°C\n",
            "Sensor Sensor2 - Temperature: 20.57°C\n",
            "Sensor Sensor3 - Temperature: 20.32°C\n",
            "Sensor Sensor1 - Temperature: 22.41°C\n",
            "Sensor Sensor2 - Temperature: 21.54°C\n",
            "Sensor Sensor3 - Temperature: 25.46°C\n",
            "Sensor Sensor1 - Temperature: 21.52°C\n",
            "Sensor Sensor3 - Temperature: 22.43°C\n",
            "Sensor Sensor2 - Temperature: 22.72°C\n",
            "Sensor Sensor1 - Temperature: 24.95°C\n",
            "Sensor Sensor3 - Temperature: 21.00°C\n",
            "Sensor Sensor2 - Temperature: 26.45°C\n",
            "Sensor Sensor1 - Temperature: 27.27°C\n",
            "Sensor Sensor3 - Temperature: 29.58°C\n",
            "Sensor Sensor2 - Temperature: 24.84°C\n",
            "Sensor Sensor1 - Temperature: 24.22°C\n",
            "Sensor Sensor3 - Temperature: 25.82°C\n",
            "Sensor Sensor2 - Temperature: 25.87°C\n",
            "Sensor Sensor1 - Temperature: 28.83°C\n",
            "Sensor Sensor3 - Temperature: 26.59°C\n",
            "Sensor Sensor2 - Temperature: 27.38°C\n",
            "Sensor Sensor1 - Temperature: 25.06°C\n",
            "Sensor Sensor3 - Temperature: 23.73°C\n",
            "Sensor Sensor2 - Temperature: 28.44°C\n",
            "Sensor Sensor1 - Temperature: 21.49°C\n",
            "Sensor Sensor3 - Temperature: 25.78°C\n",
            "Sensor Sensor2 - Temperature: 21.71°C\n",
            "Sensor Sensor1 - Temperature: 23.93°C\n",
            "Sensor Sensor3 - Temperature: 25.38°C\n",
            "Sensor Sensor2 - Temperature: 29.00°C\n"
          ]
        }
      ]
    },
    {
      "cell_type": "markdown",
      "source": [
        "#MVC Pattern: Model, View, Controller"
      ],
      "metadata": {
        "id": "3v4YX96cVXcM"
      }
    },
    {
      "cell_type": "markdown",
      "source": [
        "The Model-View-Controller (MVC) pattern is a design pattern commonly used in software engineering for separating concerns in an application. The Model represents the data and business logic, the View represents the presentation layer, and the Controller acts as an intermediary between the Model and View, handling user input and updating the Model accordingly.\n",
        "\n"
      ],
      "metadata": {
        "id": "8NeLMvTXVYIE"
      }
    },
    {
      "cell_type": "code",
      "source": [
        "# Model\n",
        "class Model:\n",
        "    def __init__(self):\n",
        "        self.data = None\n",
        "\n",
        "    def set_data(self, data):\n",
        "        self.data = data\n",
        "\n",
        "# View\n",
        "class View:\n",
        "    def render(self, data):\n",
        "        print(\"View rendering data:\", data)\n",
        "\n",
        "# Controller\n",
        "class Controller:\n",
        "    def __init__(self, model, view):\n",
        "        self.model = model\n",
        "        self.view = view\n",
        "\n",
        "    def update_data(self, new_data):\n",
        "        self.model.set_data(new_data)\n",
        "        self.view.render(self.model.data)\n",
        "\n",
        "# Example usage\n",
        "model = Model()\n",
        "view = View()\n",
        "controller = Controller(model, view)\n",
        "\n",
        "controller.update_data(\"New data\")\n"
      ],
      "metadata": {
        "colab": {
          "base_uri": "https://localhost:8080/"
        },
        "id": "oHLLKZEtVaJ8",
        "outputId": "42afa999-9695-4487-f4cd-a84553eeb356"
      },
      "execution_count": 14,
      "outputs": [
        {
          "output_type": "stream",
          "name": "stdout",
          "text": [
            "View rendering data: New data\n"
          ]
        }
      ]
    },
    {
      "cell_type": "markdown",
      "source": [
        "Case: In a task management application, the MVC pattern can be used to separate the data (tasks), presentation (UI), and user interactions (creating, updating, deleting tasks).\n"
      ],
      "metadata": {
        "id": "reDHV17xVe5b"
      }
    },
    {
      "cell_type": "code",
      "source": [
        "class TaskModel:\n",
        "    def __init__(self):\n",
        "        self.tasks = []\n",
        "\n",
        "    def add_task(self, task):\n",
        "        self.tasks.append(task)\n",
        "\n",
        "    def remove_task(self, task):\n",
        "        self.tasks.remove(task)\n",
        "\n",
        "class TaskView:\n",
        "    def show_tasks(self, tasks):\n",
        "        print(\"Tasks:\")\n",
        "        for task in tasks:\n",
        "            print(task)\n",
        "\n",
        "class TaskController:\n",
        "    def __init__(self, model, view):\n",
        "        self.model = model\n",
        "        self.view = view\n",
        "\n",
        "    def add_task(self, task):\n",
        "        self.model.add_task(task)\n",
        "        self.update_view()\n",
        "\n",
        "    def remove_task(self, task):\n",
        "        self.model.remove_task(task)\n",
        "        self.update_view()\n",
        "\n",
        "    def update_view(self):\n",
        "        self.view.show_tasks(self.model.tasks)\n",
        "\n",
        "# Example usage\n",
        "model = TaskModel()\n",
        "view = TaskView()\n",
        "controller = TaskController(model, view)\n",
        "\n",
        "controller.add_task(\"Complete project proposal\")\n",
        "controller.add_task(\"Review code\")\n",
        "controller.remove_task(\"Review code\")\n"
      ],
      "metadata": {
        "colab": {
          "base_uri": "https://localhost:8080/"
        },
        "id": "AUet9eizVcTk",
        "outputId": "85eb9fe2-aa32-4a5d-dc56-b7f4f8fb078d"
      },
      "execution_count": 15,
      "outputs": [
        {
          "output_type": "stream",
          "name": "stdout",
          "text": [
            "Tasks:\n",
            "Complete project proposal\n",
            "Tasks:\n",
            "Complete project proposal\n",
            "Review code\n",
            "Tasks:\n",
            "Complete project proposal\n"
          ]
        }
      ]
    }
  ]
}