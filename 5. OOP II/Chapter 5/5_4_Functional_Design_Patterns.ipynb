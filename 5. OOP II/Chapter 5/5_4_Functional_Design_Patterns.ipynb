{
  "nbformat": 4,
  "nbformat_minor": 0,
  "metadata": {
    "colab": {
      "provenance": []
    },
    "kernelspec": {
      "name": "python3",
      "display_name": "Python 3"
    },
    "language_info": {
      "name": "python"
    }
  },
  "cells": [
    {
      "cell_type": "markdown",
      "source": [
        "#Function Composition:\n",
        "Combining multiple functions to create a new function. This allows building complex behavior by chaining together simpler functions."
      ],
      "metadata": {
        "id": "uptaOy6_XeRg"
      }
    },
    {
      "cell_type": "code",
      "execution_count": 1,
      "metadata": {
        "colab": {
          "base_uri": "https://localhost:8080/"
        },
        "id": "BN_1VAs3XZgF",
        "outputId": "428ae074-e070-4f2c-d180-fccadf797b9f"
      },
      "outputs": [
        {
          "output_type": "stream",
          "name": "stdout",
          "text": [
            "100\n"
          ]
        }
      ],
      "source": [
        "# Function to double a number\n",
        "double = lambda x: x * 2\n",
        "\n",
        "# Function to square a number\n",
        "square = lambda x: x ** 2\n",
        "\n",
        "# Function to compose two functions\n",
        "compose = lambda f, g: lambda x: f(g(x))\n",
        "\n",
        "# Compose double and square functions\n",
        "double_then_square = compose(square, double)\n",
        "\n",
        "# Test the composed function\n",
        "result = double_then_square(5)  # Output: 100\n",
        "print(result)\n"
      ]
    },
    {
      "cell_type": "markdown",
      "source": [
        "#Currying:\n",
        "Transforming a function that takes multiple arguments into a sequence of functions, each taking a single argument."
      ],
      "metadata": {
        "id": "IxJqJGbYX3XG"
      }
    },
    {
      "cell_type": "code",
      "source": [
        "# Function to add two numbers\n",
        "add = lambda x: lambda y: x + y\n",
        "\n",
        "# Curried version of add function\n",
        "add_five = add(5)\n",
        "\n",
        "# Test the curried function\n",
        "result = add_five(3)  # Output: 8\n",
        "print(result)\n",
        "\n",
        "result = add_five(10)  # Output: 15\n",
        "print(result)"
      ],
      "metadata": {
        "colab": {
          "base_uri": "https://localhost:8080/"
        },
        "id": "Pug0fhKuX3Lo",
        "outputId": "f0efe0a0-5d87-47f9-c852-4bb09cdd403f"
      },
      "execution_count": 4,
      "outputs": [
        {
          "output_type": "stream",
          "name": "stdout",
          "text": [
            "8\n",
            "15\n"
          ]
        }
      ]
    },
    {
      "cell_type": "markdown",
      "source": [
        "#Partial Application:\n",
        "Fixing a number of arguments to a function, producing a new function with fewer arguments"
      ],
      "metadata": {
        "id": "sNp4V4tzYP9O"
      }
    },
    {
      "cell_type": "code",
      "source": [
        "from functools import partial\n",
        "\n",
        "# Function to add three numbers\n",
        "add_three = lambda x, y, z: x + y + z\n",
        "\n",
        "# Partial application of add_three function\n",
        "add_two_and_three = partial(add_three, 2)\n",
        "\n",
        "# Test the partially applied function\n",
        "result = add_two_and_three(3, 4)  # Output: 9\n",
        "print(result)\n"
      ],
      "metadata": {
        "colab": {
          "base_uri": "https://localhost:8080/"
        },
        "id": "afLrTEk9YPTu",
        "outputId": "c4817329-4ef4-4d96-fd79-27b66c8d1473"
      },
      "execution_count": 5,
      "outputs": [
        {
          "output_type": "stream",
          "name": "stdout",
          "text": [
            "9\n"
          ]
        }
      ]
    },
    {
      "cell_type": "markdown",
      "source": [
        "#Map:\n",
        "Applying a function to each element of a collection and returning a new collection of the results.\n",
        "\n"
      ],
      "metadata": {
        "id": "r0zZjW-aYlIm"
      }
    },
    {
      "cell_type": "code",
      "source": [
        "# List of numbers\n",
        "numbers = [1, 2, 3, 4, 5]\n",
        "\n",
        "# Function to double a number\n",
        "double = lambda x: x * 2\n",
        "\n",
        "# Map function to double each number in the list\n",
        "doubled_numbers = list(map(double, numbers))\n",
        "\n",
        "print(doubled_numbers)  # Output: [2, 4, 6, 8, 10]\n"
      ],
      "metadata": {
        "colab": {
          "base_uri": "https://localhost:8080/"
        },
        "id": "WsyLXXahYn9v",
        "outputId": "67c5b8bb-5e3a-422e-87c4-0970396a4401"
      },
      "execution_count": 6,
      "outputs": [
        {
          "output_type": "stream",
          "name": "stdout",
          "text": [
            "[2, 4, 6, 8, 10]\n"
          ]
        }
      ]
    },
    {
      "cell_type": "markdown",
      "source": [
        "#Filter:\n",
        "Selecting elements from a collection based on a predicate function.\n",
        "\n"
      ],
      "metadata": {
        "id": "goKb8jeLYsBm"
      }
    },
    {
      "cell_type": "code",
      "source": [
        "# List of numbers\n",
        "numbers = [1, 2, 3, 4, 5]\n",
        "\n",
        "# Function to filter even numbers\n",
        "is_even = lambda x: x % 2 == 0\n",
        "\n",
        "# Filter function to select even numbers from the list\n",
        "even_numbers = list(filter(is_even, numbers))\n",
        "\n",
        "print(even_numbers)  # Output: [2, 4]\n"
      ],
      "metadata": {
        "colab": {
          "base_uri": "https://localhost:8080/"
        },
        "id": "bG71tIuGYt-W",
        "outputId": "619af060-165e-4c9d-cda2-a5a7e7b89422"
      },
      "execution_count": 7,
      "outputs": [
        {
          "output_type": "stream",
          "name": "stdout",
          "text": [
            "[2, 4]\n"
          ]
        }
      ]
    },
    {
      "cell_type": "markdown",
      "source": [
        "#Reduce (Fold):\n",
        "Combining all elements of a collection into a single value using a combining function."
      ],
      "metadata": {
        "id": "wQ93LzG-Yzud"
      }
    },
    {
      "cell_type": "code",
      "source": [
        "from functools import reduce\n",
        "\n",
        "# List of numbers\n",
        "numbers = [1, 2, 3, 4, 5]\n",
        "\n",
        "# Function to add two numbers\n",
        "add = lambda x, y: x + y\n",
        "\n",
        "# Reduce function to sum all numbers in the list\n",
        "total = reduce(add, numbers)\n",
        "\n",
        "print(total)  # Output: 15\n"
      ],
      "metadata": {
        "colab": {
          "base_uri": "https://localhost:8080/"
        },
        "id": "z01ZeKSVYx68",
        "outputId": "19184acd-13f2-4a2b-e39a-e5d266f8f76c"
      },
      "execution_count": 8,
      "outputs": [
        {
          "output_type": "stream",
          "name": "stdout",
          "text": [
            "15\n"
          ]
        }
      ]
    },
    {
      "cell_type": "markdown",
      "source": [
        "#Recursion:\n",
        "Defining functions in terms of themselves, allowing for iterative solutions without mutable state."
      ],
      "metadata": {
        "id": "IKD-vnWTY6tD"
      }
    },
    {
      "cell_type": "code",
      "source": [
        "# Recursive function to calculate factorial\n",
        "factorial = lambda n: 1 if n == 0 else n * factorial(n - 1)\n",
        "\n",
        "result = factorial(5)  # Output: 120\n",
        "print(result)"
      ],
      "metadata": {
        "colab": {
          "base_uri": "https://localhost:8080/"
        },
        "id": "oWMspnksZBPl",
        "outputId": "72652130-6398-4745-bfe0-8b70bada2a06"
      },
      "execution_count": 9,
      "outputs": [
        {
          "output_type": "stream",
          "name": "stdout",
          "text": [
            "120\n"
          ]
        }
      ]
    },
    {
      "cell_type": "markdown",
      "source": [
        "#Memoization:\n",
        "Caching the results of expensive function calls to avoid redundant computations.\n",
        "\n"
      ],
      "metadata": {
        "id": "IiLNkvHqZCOm"
      }
    },
    {
      "cell_type": "code",
      "source": [
        "# Memoization decorator\n",
        "def memoize(func):\n",
        "    cache = {}\n",
        "\n",
        "    def memoized_func(*args):\n",
        "        if args not in cache:\n",
        "            cache[args] = func(*args)\n",
        "        return cache[args]\n",
        "\n",
        "    return memoized_func\n",
        "\n",
        "# Function to calculate Fibonacci numbers\n",
        "@memoize\n",
        "def fibonacci(n):\n",
        "    if n <= 1:\n",
        "        return n\n",
        "    else:\n",
        "        return fibonacci(n - 1) + fibonacci(n - 2)\n",
        "\n",
        "result = fibonacci(10)  # Output: 55\n",
        "print(result)\n"
      ],
      "metadata": {
        "colab": {
          "base_uri": "https://localhost:8080/"
        },
        "id": "Fgt0los0ZFqP",
        "outputId": "b43f52f4-d9da-42af-a5b4-a75d7c2e90c0"
      },
      "execution_count": 10,
      "outputs": [
        {
          "output_type": "stream",
          "name": "stdout",
          "text": [
            "55\n"
          ]
        }
      ]
    },
    {
      "cell_type": "markdown",
      "source": [
        "#Monad:\n",
        "A design pattern used to represent computation as a series of steps, with the ability to handle side effects in a pure functional way."
      ],
      "metadata": {
        "id": "KUPmqzC6ZRzW"
      }
    },
    {
      "cell_type": "code",
      "source": [
        "class Monad:\n",
        "    def __init__(self, value):\n",
        "        self.value = value\n",
        "\n",
        "    def bind(self, func):\n",
        "        return Monad(func(self.value))\n",
        "\n",
        "    def __str__(self):\n",
        "        return f'Monad({self.value})'\n",
        "\n",
        "# Example functions\n",
        "def add_two(x):\n",
        "    return x + 2\n",
        "\n",
        "def multiply_three(x):\n",
        "    return x * 3\n",
        "\n",
        "# Example usage\n",
        "monad = Monad(3)\n",
        "result = monad.bind(add_two).bind(multiply_three)\n",
        "print(result)  # Output: Monad(15)\n"
      ],
      "metadata": {
        "colab": {
          "base_uri": "https://localhost:8080/"
        },
        "id": "Bj4dQ6gcZTp2",
        "outputId": "4cd5ceed-f9fc-4456-b3c1-e34c3ed1ccaf"
      },
      "execution_count": 11,
      "outputs": [
        {
          "output_type": "stream",
          "name": "stdout",
          "text": [
            "Monad(15)\n"
          ]
        }
      ]
    },
    {
      "cell_type": "markdown",
      "source": [
        "#Immutable Data Structures:\n",
        "Using data structures that cannot be modified after creation, ensuring safety in concurrent or parallel programming."
      ],
      "metadata": {
        "id": "utRrt1omaVAm"
      }
    },
    {
      "cell_type": "code",
      "source": [
        "# Tuple\n",
        "my_tuple = (1, 2, 3)\n",
        "print(\"Tuple:\", my_tuple)  # Output: (1, 2, 3)\n",
        "\n",
        "# String\n",
        "my_string = \"Hello\"\n",
        "print(\"String:\", my_string)  # Output: Hello\n",
        "\n",
        "# Frozen set\n",
        "my_frozen_set = frozenset({1, 2, 3})\n",
        "print(\"Frozen Set:\", my_frozen_set)  # Output: frozenset({1, 2, 3})\n",
        "\n",
        "# NamedTuple\n",
        "from collections import namedtuple\n",
        "\n",
        "Point = namedtuple('Point', ['x', 'y'])\n",
        "my_point = Point(x=1, y=2)\n",
        "print(\"NamedTuple:\", my_point)  # Output: Point(x=1, y=2)\n",
        "\n",
        "# Numbers: Integer, Float, Complex\n",
        "my_int = 10\n",
        "my_float = 3.14\n",
        "my_complex = 1 + 2j\n",
        "\n",
        "print(\"Integer:\", my_int)  # Output: 10\n",
        "print(\"Float:\", my_float)  # Output: 3.14\n",
        "print(\"Complex:\", my_complex)  # Output: (1+2j)\n",
        "\n",
        "# None\n",
        "my_none = None\n",
        "print(\"None:\", my_none)  # Output: None\n"
      ],
      "metadata": {
        "colab": {
          "base_uri": "https://localhost:8080/"
        },
        "id": "mbAiFuwDaW52",
        "outputId": "4469b6c3-9aed-4658-88fe-03a9ad50922d"
      },
      "execution_count": 14,
      "outputs": [
        {
          "output_type": "stream",
          "name": "stdout",
          "text": [
            "Tuple: (1, 2, 3)\n",
            "String: Hello\n",
            "Frozen Set: frozenset({1, 2, 3})\n",
            "NamedTuple: Point(x=1, y=2)\n",
            "Integer: 10\n",
            "Float: 3.14\n",
            "Complex: (1+2j)\n",
            "None: None\n"
          ]
        }
      ]
    }
  ]
}