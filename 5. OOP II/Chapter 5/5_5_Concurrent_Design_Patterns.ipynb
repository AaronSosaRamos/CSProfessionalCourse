{
  "nbformat": 4,
  "nbformat_minor": 0,
  "metadata": {
    "colab": {
      "provenance": []
    },
    "kernelspec": {
      "name": "python3",
      "display_name": "Python 3"
    },
    "language_info": {
      "name": "python"
    }
  },
  "cells": [
    {
      "cell_type": "markdown",
      "source": [
        "#Thread Pool:\n",
        "A pool of pre-initialized threads used to execute tasks concurrently, which helps avoid the overhead of thread creation and destruction.\n",
        "\n"
      ],
      "metadata": {
        "id": "4v6_N4f5bW1Z"
      }
    },
    {
      "cell_type": "code",
      "execution_count": null,
      "metadata": {
        "colab": {
          "base_uri": "https://localhost:8080/"
        },
        "id": "qEhiNcLgbI1k",
        "outputId": "63887257-dbf9-44ef-c9f4-bb2386d4d427"
      },
      "outputs": [
        {
          "output_type": "stream",
          "name": "stdout",
          "text": [
            "Executing task 0\n",
            "Executing task 1\n",
            "Executing task 2\n",
            "Executing task 3Executing task 4\n",
            "Executing task 5\n",
            "\n",
            "Executing task 6\n",
            "Executing task 7\n",
            "Executing task 8\n",
            "Executing task 9\n"
          ]
        }
      ],
      "source": [
        "import concurrent.futures\n",
        "\n",
        "def task(n):\n",
        "    print(f\"Executing task {n}\")\n",
        "\n",
        "# Create a thread pool with 5 worker threads\n",
        "with concurrent.futures.ThreadPoolExecutor(max_workers=5) as executor:\n",
        "    # Submit tasks to the thread pool\n",
        "    for i in range(10):\n",
        "        executor.submit(task, i)\n"
      ]
    },
    {
      "cell_type": "markdown",
      "source": [
        "#Producer-Consumer:\n",
        "Coordination pattern where one or more threads produce data, while one or more threads consume that data. It helps balance the workload between producers and consumers."
      ],
      "metadata": {
        "id": "FgdYDIJ4bb-X"
      }
    },
    {
      "cell_type": "code",
      "source": [
        "import threading\n",
        "import queue\n",
        "import time\n",
        "\n",
        "def producer(q):\n",
        "    for i in range(5):\n",
        "        time.sleep(0.1)  # Simulate some work\n",
        "        item = f\"Item {i}\"\n",
        "        q.put(item)\n",
        "        print(f\"Produced {item}\")\n",
        "\n",
        "def consumer(q):\n",
        "    while True:\n",
        "        item = q.get()\n",
        "        print(f\"Consumed {item}\")\n",
        "        q.task_done()\n",
        "\n",
        "q = queue.Queue()\n",
        "producer_thread = threading.Thread(target=producer, args=(q,))\n",
        "consumer_thread = threading.Thread(target=consumer, args=(q,))\n",
        "producer_thread.start()\n",
        "consumer_thread.start()\n"
      ],
      "metadata": {
        "colab": {
          "base_uri": "https://localhost:8080/"
        },
        "id": "d1wDcLxAbgDm",
        "outputId": "6b2b0b3d-d9b3-4d55-fd49-6ec24b2939bb"
      },
      "execution_count": null,
      "outputs": [
        {
          "output_type": "stream",
          "name": "stdout",
          "text": [
            "Produced Item 0Consumed Item 0\n",
            "\n",
            "Produced Item 1Consumed Item 1\n",
            "\n",
            "Produced Item 2Consumed Item 2\n",
            "\n",
            "Produced Item 3\n",
            "Consumed Item 3\n"
          ]
        }
      ]
    },
    {
      "cell_type": "markdown",
      "source": [
        "#Barrier:\n",
        "A synchronization pattern that allows multiple threads to wait at a barrier until all threads have reached a certain point before continuing execution.\n",
        "\n"
      ],
      "metadata": {
        "id": "kpVsur82b0w3"
      }
    },
    {
      "cell_type": "code",
      "source": [
        "import threading\n",
        "\n",
        "barrier = threading.Barrier(3)\n",
        "\n",
        "def worker():\n",
        "    print(\"Worker started\")\n",
        "    barrier.wait()\n",
        "    print(\"Worker finished\")\n",
        "\n",
        "for _ in range(3):\n",
        "    threading.Thread(target=worker).start()\n"
      ],
      "metadata": {
        "colab": {
          "base_uri": "https://localhost:8080/"
        },
        "id": "SYCouKJ0bxfX",
        "outputId": "36f41a99-e66d-4e20-d862-93982148e9ef"
      },
      "execution_count": null,
      "outputs": [
        {
          "output_type": "stream",
          "name": "stdout",
          "text": [
            "Worker startedWorker started\n",
            "\n",
            "Worker started\n",
            "Worker finished\n",
            "Worker finished\n",
            "Worker finished\n"
          ]
        }
      ]
    },
    {
      "cell_type": "markdown",
      "source": [
        "#Reader-Writer Lock:\n",
        "A synchronization pattern that allows multiple readers to access a shared resource simultaneously while ensuring exclusive access for writers.\n",
        "\n"
      ],
      "metadata": {
        "id": "Zinw2xP0cfSY"
      }
    },
    {
      "cell_type": "code",
      "source": [
        "import threading\n",
        "\n",
        "class RWLock:\n",
        "    def __init__(self):\n",
        "        self._lock = threading.Lock()\n",
        "        self._readers = 0\n",
        "\n",
        "    def acquire_read(self):\n",
        "        with self._lock:\n",
        "            self._readers += 1\n",
        "            if self._readers == 1:\n",
        "                # First reader, acquire exclusive access\n",
        "                self._resource_lock = threading.Lock()\n",
        "                self._resource_lock.acquire()\n",
        "\n",
        "    def release_read(self):\n",
        "        with self._lock:\n",
        "            self._readers -= 1\n",
        "            if self._readers == 0:\n",
        "                # Last reader, release exclusive access\n",
        "                self._resource_lock.release()\n",
        "\n",
        "    def acquire_write(self):\n",
        "        # Writers always have exclusive access\n",
        "        self._resource_lock.acquire()\n",
        "\n",
        "    def release_write(self):\n",
        "        self._resource_lock.release()\n"
      ],
      "metadata": {
        "id": "krkkipy2cgnk"
      },
      "execution_count": null,
      "outputs": []
    },
    {
      "cell_type": "code",
      "source": [
        "import threading\n",
        "import time\n",
        "\n",
        "class SharedResource:\n",
        "    def __init__(self):\n",
        "        self._lock = RWLock()\n",
        "        self._data = 0\n",
        "\n",
        "    def read(self):\n",
        "        self._lock.acquire_read()\n",
        "        print(f\"Reader {threading.current_thread().name} reading data: {self._data}\")\n",
        "        self._lock.release_read()\n",
        "\n",
        "    def write(self, value):\n",
        "        self._lock.acquire_write()\n",
        "        self._data = value\n",
        "        print(f\"Writer {threading.current_thread().name} writing data: {value}\")\n",
        "        self._lock.release_write()\n",
        "\n",
        "def reader(shared_resource):\n",
        "    for _ in range(3):\n",
        "        shared_resource.read()\n",
        "        time.sleep(0.1)\n",
        "\n",
        "def writer(shared_resource):\n",
        "    for i in range(3):\n",
        "        shared_resource.write(i)\n",
        "        time.sleep(0.1)\n",
        "\n",
        "shared_resource = SharedResource()\n",
        "\n",
        "# Create reader threads\n",
        "readers = [threading.Thread(target=reader, args=(shared_resource,)) for _ in range(3)]\n",
        "\n",
        "# Create writer threads\n",
        "writers = [threading.Thread(target=writer, args=(shared_resource,)) for _ in range(2)]\n",
        "\n",
        "# Start all threads\n",
        "for reader_thread in readers:\n",
        "    reader_thread.start()\n",
        "\n",
        "for writer_thread in writers:\n",
        "    writer_thread.start()\n",
        "\n",
        "# Wait for all threads to finish\n",
        "for reader_thread in readers:\n",
        "    reader_thread.join()\n",
        "\n",
        "for writer_thread in writers:\n",
        "    writer_thread.join()\n"
      ],
      "metadata": {
        "colab": {
          "base_uri": "https://localhost:8080/"
        },
        "id": "KOjH1UFCcxZm",
        "outputId": "984cf517-0520-403d-a720-25130666287b"
      },
      "execution_count": null,
      "outputs": [
        {
          "output_type": "stream",
          "name": "stdout",
          "text": [
            "Reader Thread-15 (reader) reading data: 0\n",
            "Reader Thread-16 (reader) reading data: 0\n",
            "Reader Thread-17 (reader) reading data: 0\n",
            "Writer Thread-18 (writer) writing data: 0\n",
            "Writer Thread-19 (writer) writing data: 0\n",
            "Reader Thread-15 (reader) reading data: 0\n",
            "Reader Thread-16 (reader) reading data: 0\n",
            "Reader Thread-17 (reader) reading data: 0\n",
            "Writer Thread-18 (writer) writing data: 1\n",
            "Writer Thread-19 (writer) writing data: 1\n",
            "Reader Thread-15 (reader) reading data: 1\n",
            "Reader Thread-16 (reader) reading data: 1\n",
            "Reader Thread-17 (reader) reading data: 1\n",
            "Writer Thread-18 (writer) writing data: 2\n",
            "Writer Thread-19 (writer) writing data: 2\n"
          ]
        }
      ]
    },
    {
      "cell_type": "markdown",
      "source": [
        "#Monitor:\n",
        "A synchronization pattern that encapsulates shared resources and provides mechanisms for mutual exclusion and condition variables for signaling between threads.\n",
        "\n"
      ],
      "metadata": {
        "id": "n95bKuUXcyof"
      }
    },
    {
      "cell_type": "code",
      "source": [
        "import threading\n",
        "\n",
        "class Monitor:\n",
        "    def __init__(self):\n",
        "        self._lock = threading.Lock()\n",
        "        self._condition = threading.Condition(lock=self._lock)\n",
        "        self._resource = None\n",
        "\n",
        "    def acquire(self):\n",
        "        self._lock.acquire()\n",
        "\n",
        "    def release(self):\n",
        "        self._lock.release()\n",
        "\n",
        "    def wait(self):\n",
        "        self._condition.wait()\n",
        "\n",
        "    def notify(self):\n",
        "        self._condition.notify()\n",
        "\n",
        "    def notify_all(self):\n",
        "        self._condition.notifyAll()\n",
        "\n",
        "    def get_resource(self):\n",
        "        return self._resource\n",
        "\n",
        "    def set_resource(self, value):\n",
        "        self._resource = value\n",
        "\n",
        "    # Context manager methods\n",
        "    def __enter__(self):\n",
        "        self.acquire()\n",
        "        return self\n",
        "\n",
        "    def __exit__(self, exc_type, exc_value, traceback):\n",
        "        self.release()\n",
        "\n",
        "def reader(monitor):\n",
        "    with monitor:\n",
        "        while monitor.get_resource() is None:\n",
        "            monitor.wait()\n",
        "        print(f\"Reader read resource: {monitor.get_resource()}\")\n",
        "\n",
        "def writer(monitor, data):\n",
        "    with monitor:\n",
        "        monitor.set_resource(data)\n",
        "        monitor.notify_all()\n",
        "        print(f\"Writer wrote resource: {data}\")\n",
        "\n",
        "# Usage\n",
        "monitor = Monitor()\n",
        "threading.Thread(target=reader, args=(monitor,)).start()\n",
        "threading.Thread(target=writer, args=(monitor, \"Data from writer\")).start()"
      ],
      "metadata": {
        "id": "M9V6hC3_c_ze",
        "colab": {
          "base_uri": "https://localhost:8080/"
        },
        "outputId": "5a376178-2278-4489-a10d-c1db6191ca95"
      },
      "execution_count": 8,
      "outputs": [
        {
          "output_type": "stream",
          "name": "stderr",
          "text": [
            "<ipython-input-8-b459e5ce9e40>:22: DeprecationWarning: notifyAll() is deprecated, use notify_all() instead\n",
            "  self._condition.notifyAll()\n"
          ]
        },
        {
          "output_type": "stream",
          "name": "stdout",
          "text": [
            "Writer wrote resource: Data from writer\n",
            "Reader read resource: Data from writer\n"
          ]
        }
      ]
    },
    {
      "cell_type": "markdown",
      "source": [
        "#Semaphore:\n",
        "A synchronization primitive that restricts the number of threads that can access a shared resource concurrently, helping to control access to resources.\n",
        "\n"
      ],
      "metadata": {
        "id": "uMED4hexdlyl"
      }
    },
    {
      "cell_type": "code",
      "source": [
        "import threading\n",
        "\n",
        "class Semaphore:\n",
        "    def __init__(self, value):\n",
        "        self._value = value\n",
        "        self._lock = threading.Lock()\n",
        "        self._condition = threading.Condition(lock=self._lock)\n",
        "\n",
        "    def acquire(self):\n",
        "        with self._lock:\n",
        "            while self._value <= 0:\n",
        "                self._condition.wait()\n",
        "            self._value -= 1\n",
        "\n",
        "    def release(self):\n",
        "        with self._lock:\n",
        "            self._value += 1\n",
        "            self._condition.notify()\n",
        "\n",
        "    def get_value(self):\n",
        "        return self._value\n"
      ],
      "metadata": {
        "id": "PpA_SKO7dpnJ"
      },
      "execution_count": 9,
      "outputs": []
    },
    {
      "cell_type": "code",
      "source": [
        "import threading\n",
        "import time\n",
        "\n",
        "class SharedResource:\n",
        "    def __init__(self):\n",
        "        self._semaphore = Semaphore(value=1)\n",
        "        self._data = None\n",
        "\n",
        "    def read(self):\n",
        "        self._semaphore.acquire()\n",
        "        print(f\"Reader {threading.current_thread().name} reading data: {self._data}\")\n",
        "        self._semaphore.release()\n",
        "\n",
        "    def write(self, value):\n",
        "        self._semaphore.acquire()\n",
        "        self._data = value\n",
        "        print(f\"Writer {threading.current_thread().name} writing data: {value}\")\n",
        "        self._semaphore.release()\n",
        "\n",
        "def reader(shared_resource):\n",
        "    for _ in range(3):\n",
        "        shared_resource.read()\n",
        "        time.sleep(0.1)\n",
        "\n",
        "def writer(shared_resource):\n",
        "    for i in range(3):\n",
        "        shared_resource.write(i)\n",
        "        time.sleep(0.1)\n",
        "\n",
        "shared_resource = SharedResource()\n",
        "\n",
        "# Create reader threads\n",
        "readers = [threading.Thread(target=reader, args=(shared_resource,)) for _ in range(3)]\n",
        "\n",
        "# Create writer threads\n",
        "writers = [threading.Thread(target=writer, args=(shared_resource,)) for _ in range(2)]\n",
        "\n",
        "# Start all threads\n",
        "for reader_thread in readers:\n",
        "    reader_thread.start()\n",
        "\n",
        "for writer_thread in writers:\n",
        "    writer_thread.start()\n",
        "\n",
        "# Wait for all threads to finish\n",
        "for reader_thread in readers:\n",
        "    reader_thread.join()\n",
        "\n",
        "for writer_thread in writers:\n",
        "    writer_thread.join()\n"
      ],
      "metadata": {
        "colab": {
          "base_uri": "https://localhost:8080/"
        },
        "id": "_fPN7oUkduan",
        "outputId": "c0424c96-250c-4239-8ea1-3d51c8a28432"
      },
      "execution_count": 10,
      "outputs": [
        {
          "output_type": "stream",
          "name": "stdout",
          "text": [
            "Reader Thread-27 (reader) reading data: None\n",
            "Reader Thread-28 (reader) reading data: None\n",
            "Reader Thread-29 (reader) reading data: None\n",
            "Writer Thread-30 (writer) writing data: 0\n",
            "Writer Thread-31 (writer) writing data: 0\n",
            "Reader Thread-27 (reader) reading data: 0\n",
            "Reader Thread-28 (reader) reading data: 0\n",
            "Reader Thread-29 (reader) reading data: 0\n",
            "Writer Thread-30 (writer) writing data: 1\n",
            "Writer Thread-31 (writer) writing data: 1\n",
            "Reader Thread-27 (reader) reading data: 1\n",
            "Reader Thread-28 (reader) reading data: 1\n",
            "Reader Thread-29 (reader) reading data: 1\n",
            "Writer Thread-30 (writer) writing data: 2\n",
            "Writer Thread-31 (writer) writing data: 2\n"
          ]
        }
      ]
    },
    {
      "cell_type": "markdown",
      "source": [
        "#Futures:\n",
        "A concurrency pattern that represents a value that may not yet be available, typically used to represent the result of an asynchronous operation.\n",
        "\n"
      ],
      "metadata": {
        "id": "Tui0cN9seXbu"
      }
    },
    {
      "cell_type": "code",
      "source": [
        "import concurrent.futures\n",
        "import time\n",
        "\n",
        "def compute():\n",
        "    time.sleep(2)  # Simulate a long computation\n",
        "    return 42\n",
        "\n",
        "# Create a thread pool with 1 worker thread\n",
        "with concurrent.futures.ThreadPoolExecutor(max_workers=1) as executor:\n",
        "    future = executor.submit(compute)\n",
        "    # Do other work while waiting for the result\n",
        "    print(\"Doing other work...\")\n",
        "    result = future.result()  # Wait for the result\n",
        "    print(\"Result:\", result)\n"
      ],
      "metadata": {
        "colab": {
          "base_uri": "https://localhost:8080/"
        },
        "id": "P2xCnNLheeII",
        "outputId": "5bc6f3a4-e257-42e2-ec25-b48ea0f923a4"
      },
      "execution_count": 11,
      "outputs": [
        {
          "output_type": "stream",
          "name": "stdout",
          "text": [
            "Doing other work...\n",
            "Result: 42\n"
          ]
        }
      ]
    },
    {
      "cell_type": "markdown",
      "source": [
        "#Active Object:\n",
        "A concurrency pattern that encapsulates the execution of a method in an object, allowing method invocations to be queued and executed asynchronously.\n",
        "\n"
      ],
      "metadata": {
        "id": "aRV0d4GCekaP"
      }
    },
    {
      "cell_type": "code",
      "source": [
        "import threading\n",
        "import queue\n",
        "\n",
        "class ActiveObject:\n",
        "    def __init__(self):\n",
        "        self._queue = queue.Queue()\n",
        "\n",
        "    def enqueue(self, func, *args, **kwargs):\n",
        "        self._queue.put((func, args, kwargs))\n",
        "\n",
        "    def _run(self):\n",
        "        while True:\n",
        "            func, args, kwargs = self._queue.get()\n",
        "            func(*args, **kwargs)\n",
        "\n",
        "    def start(self):\n",
        "        threading.Thread(target=self._run, daemon=True).start()\n",
        "\n",
        "# Example usage\n",
        "def print_message(message):\n",
        "    print(message)\n",
        "\n",
        "ao = ActiveObject()\n",
        "ao.start()\n",
        "ao.enqueue(print_message, \"Hello from Active Object!\")\n"
      ],
      "metadata": {
        "colab": {
          "base_uri": "https://localhost:8080/"
        },
        "id": "12diCGz_eqaG",
        "outputId": "694fa131-9f86-4980-9d1b-994116e447b2"
      },
      "execution_count": 12,
      "outputs": [
        {
          "output_type": "stream",
          "name": "stdout",
          "text": [
            "Hello from Active Object!\n"
          ]
        }
      ]
    },
    {
      "cell_type": "markdown",
      "source": [
        "#Actor:\n",
        "A concurrency pattern that models concurrent computations as independent actors that communicate by passing messages to each other, allowing for distributed and fault-tolerant systems.\n",
        "\n"
      ],
      "metadata": {
        "id": "OgSAaLg1exXc"
      }
    },
    {
      "cell_type": "code",
      "source": [
        "import threading\n",
        "import queue\n",
        "\n",
        "class Actor:\n",
        "    def __init__(self):\n",
        "        self._inbox = queue.Queue()\n",
        "\n",
        "    def send_message(self, message):\n",
        "        self._inbox.put(message)\n",
        "\n",
        "    def _process_messages(self):\n",
        "        while True:\n",
        "            message = self._inbox.get()\n",
        "            self._handle_message(message)\n",
        "\n",
        "    def _handle_message(self, message):\n",
        "        # Implement message handling logic here\n",
        "        print(\"Received message:\", message)\n",
        "\n",
        "    def start(self):\n",
        "        threading.Thread(target=self._process_messages, daemon=True).start()\n",
        "\n",
        "# Example usage\n",
        "actor = Actor()\n",
        "actor.start()\n",
        "actor.send_message(\"Hello from Actor!\")\n"
      ],
      "metadata": {
        "colab": {
          "base_uri": "https://localhost:8080/"
        },
        "id": "8bz_8H9GezS8",
        "outputId": "ff79afb3-e2bb-47bf-f92e-77f7032ce54c"
      },
      "execution_count": 13,
      "outputs": [
        {
          "output_type": "stream",
          "name": "stdout",
          "text": [
            "Received message:"
          ]
        }
      ]
    },
    {
      "cell_type": "markdown",
      "source": [
        "#Thread-Specific Storage:\n",
        "A pattern that provides each thread with its own storage for data, ensuring that each thread can maintain its own state without interference from other threads."
      ],
      "metadata": {
        "id": "rGH8_Pzde9D8"
      }
    },
    {
      "cell_type": "code",
      "source": [
        "import threading\n",
        "\n",
        "class ThreadLocalStorage:\n",
        "    def __init__(self):\n",
        "        self._local = threading.local()\n",
        "\n",
        "    def set_data(self, data):\n",
        "        self._local.data = data\n",
        "\n",
        "    def get_data(self):\n",
        "        return getattr(self._local, 'data', None)\n",
        "\n",
        "def worker(storage, value):\n",
        "    storage.set_data(value)\n",
        "    print(f\"Thread {threading.get_ident()} stored value: {storage.get_data()}\")\n",
        "\n",
        "# Usage\n",
        "storage = ThreadLocalStorage()\n",
        "threads = []\n",
        "for i in range(3):\n",
        "    t = threading.Thread(target=worker, args=(storage, i))\n",
        "    threads.append(t)\n",
        "    t.start()\n",
        "for t in threads:\n",
        "    t.join()\n"
      ],
      "metadata": {
        "colab": {
          "base_uri": "https://localhost:8080/"
        },
        "id": "ynOVyFgCfM9y",
        "outputId": "13b30a73-46de-4da2-dfb8-3abf4eaa0241"
      },
      "execution_count": 14,
      "outputs": [
        {
          "output_type": "stream",
          "name": "stdout",
          "text": [
            "Thread 137093678364224 stored value: 0\n",
            "Thread 137093678364224 stored value: 1\n",
            "Thread 137093074384448 stored value: 2\n"
          ]
        }
      ]
    },
    {
      "cell_type": "markdown",
      "source": [
        "#Guarded Suspension:\n",
        "A synchronization pattern where a thread suspends its execution until a certain condition is met, typically used in producer-consumer scenarios.\n"
      ],
      "metadata": {
        "id": "GgN8vh18fQwl"
      }
    },
    {
      "cell_type": "code",
      "source": [
        "import threading\n",
        "\n",
        "class GuardedResource:\n",
        "    def __init__(self):\n",
        "        self._lock = threading.Lock()\n",
        "        self._condition = threading.Condition(lock=self._lock)\n",
        "        self._resource = None\n",
        "        self._ready = False\n",
        "\n",
        "    def get_resource(self):\n",
        "        with self._lock:\n",
        "            while not self._ready:\n",
        "                self._condition.wait()\n",
        "            return self._resource\n",
        "\n",
        "    def set_resource(self, resource):\n",
        "        with self._lock:\n",
        "            self._resource = resource\n",
        "            self._ready = True\n",
        "            self._condition.notify_all()\n",
        "\n",
        "def producer(resource, data):\n",
        "    resource.set_resource(data)\n",
        "\n",
        "def consumer(resource):\n",
        "    data = resource.get_resource()\n",
        "    print(\"Consumer got resource:\", data)\n",
        "\n",
        "# Usage\n",
        "resource = GuardedResource()\n",
        "t1 = threading.Thread(target=producer, args=(resource, \"Data from producer\"))\n",
        "t2 = threading.Thread(target=consumer, args=(resource,))\n",
        "t1.start()\n",
        "t2.start()\n",
        "t1.join()\n",
        "t2.join()\n"
      ],
      "metadata": {
        "colab": {
          "base_uri": "https://localhost:8080/"
        },
        "id": "3bl5GkMBfSRm",
        "outputId": "64ea13f1-f8ef-470b-c32f-c54486225f03"
      },
      "execution_count": 15,
      "outputs": [
        {
          "output_type": "stream",
          "name": "stdout",
          "text": [
            "Consumer got resource: Data from producer\n"
          ]
        }
      ]
    },
    {
      "cell_type": "markdown",
      "source": [
        "#Balking:\n",
        "A pattern where a thread performs an action only if certain conditions are met; otherwise, it \"balks\" or refuses to proceed.\n",
        "\n"
      ],
      "metadata": {
        "id": "DlBxKP31fXI2"
      }
    },
    {
      "cell_type": "code",
      "source": [
        "import threading\n",
        "import time\n",
        "\n",
        "class BalkingWorker:\n",
        "    def __init__(self):\n",
        "        self._working = False\n",
        "\n",
        "    def start_work(self):\n",
        "        if self._working:\n",
        "            print(\"Already working, balking.\")\n",
        "            return\n",
        "        self._working = True\n",
        "        threading.Thread(target=self._do_work).start()\n",
        "\n",
        "    def _do_work(self):\n",
        "        print(\"Starting work...\")\n",
        "        time.sleep(1)  # Simulate work\n",
        "        self._working = False\n",
        "        print(\"Work done.\")\n",
        "\n",
        "# Usage\n",
        "worker = BalkingWorker()\n",
        "worker.start_work()\n",
        "time.sleep(0.5)  # Simulate time for another request\n",
        "worker.start_work()  # Balking occurs\n"
      ],
      "metadata": {
        "colab": {
          "base_uri": "https://localhost:8080/"
        },
        "id": "Ui1hTAW8fdCO",
        "outputId": "16b2b9ef-7307-42d4-bf8b-66bba7b27673"
      },
      "execution_count": 16,
      "outputs": [
        {
          "output_type": "stream",
          "name": "stdout",
          "text": [
            "Starting work...\n",
            "Already working, balking.\n"
          ]
        }
      ]
    }
  ]
}