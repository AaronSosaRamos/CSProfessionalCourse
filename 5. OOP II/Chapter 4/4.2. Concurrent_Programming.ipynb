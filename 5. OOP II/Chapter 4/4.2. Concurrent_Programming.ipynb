{
  "nbformat": 4,
  "nbformat_minor": 0,
  "metadata": {
    "colab": {
      "provenance": []
    },
    "kernelspec": {
      "name": "python3",
      "display_name": "Python 3"
    },
    "language_info": {
      "name": "python"
    }
  },
  "cells": [
    {
      "cell_type": "markdown",
      "source": [
        "#Introduction to Concurrency and Properties of Concurrent Systems:\n"
      ],
      "metadata": {
        "id": "sLp9k-di7X1L"
      }
    },
    {
      "cell_type": "markdown",
      "source": [
        "Concurrency in Python can be achieved using threads with the threading module or processes with the multiprocessing module. These approaches allow running multiple tasks simultaneously. However, it's important to consider properties of concurrent systems, such as data consistency and the need for synchronization to avoid race conditions.\n",
        "\n"
      ],
      "metadata": {
        "id": "oOLPy9yAB44d"
      }
    },
    {
      "cell_type": "markdown",
      "source": [
        "#Models of Concurrent Programming:"
      ],
      "metadata": {
        "id": "fV17LNSYB5pw"
      }
    },
    {
      "cell_type": "markdown",
      "source": [
        "Shared Memory:\n"
      ],
      "metadata": {
        "id": "SUiTb8DWB89I"
      }
    },
    {
      "cell_type": "code",
      "execution_count": 15,
      "metadata": {
        "colab": {
          "base_uri": "https://localhost:8080/"
        },
        "id": "CngpYfdj68qQ",
        "outputId": "2c4db9e7-4acc-4a19-e573-5b8d24ab9703"
      },
      "outputs": [
        {
          "output_type": "stream",
          "name": "stdout",
          "text": [
            "Final counter value is: 10000000\n"
          ]
        }
      ],
      "source": [
        "import threading\n",
        "\n",
        "counter = 0\n",
        "\n",
        "def increment():\n",
        "    global counter\n",
        "    for _ in range(1000000):\n",
        "        counter += 1\n",
        "\n",
        "# Create multiple threads to increment the counter simultaneously\n",
        "threads = []\n",
        "for _ in range(10):\n",
        "    thread = threading.Thread(target=increment)\n",
        "    threads.append(thread)\n",
        "    thread.start()\n",
        "\n",
        "# Wait for all threads to finish\n",
        "for thread in threads:\n",
        "    thread.join()\n",
        "\n",
        "print(\"Final counter value is:\", counter)\n"
      ]
    },
    {
      "cell_type": "markdown",
      "source": [
        "Messaging:\n"
      ],
      "metadata": {
        "id": "09TegxhZCK3f"
      }
    },
    {
      "cell_type": "code",
      "source": [
        "import threading\n",
        "import queue\n",
        "\n",
        "def producer(queue):\n",
        "    for i in range(5):\n",
        "        queue.put(i)\n",
        "        print(\"Producer put\", i, \"into the queue\")\n",
        "\n",
        "def consumer(queue):\n",
        "    while True:\n",
        "        item = queue.get()\n",
        "        if item is None:\n",
        "            break\n",
        "        print(\"Consumer got\", item, \"from the queue\")\n",
        "\n",
        "# Create a shared queue\n",
        "queue = queue.Queue()\n",
        "\n",
        "# Create producer and consumer threads\n",
        "producer_thread = threading.Thread(target=producer, args=(queue,))\n",
        "consumer_thread = threading.Thread(target=consumer, args=(queue,))\n",
        "\n",
        "# Start the threads\n",
        "producer_thread.start()\n",
        "consumer_thread.start()\n",
        "\n",
        "# Wait for the producer to finish producing items\n",
        "producer_thread.join()\n",
        "\n",
        "# Add a termination signal for the consumer\n",
        "queue.put(None)\n",
        "consumer_thread.join()\n"
      ],
      "metadata": {
        "colab": {
          "base_uri": "https://localhost:8080/"
        },
        "id": "dFTzF5XDCLl3",
        "outputId": "57f3b913-4aa7-4ab0-b094-5664925898d9"
      },
      "execution_count": 16,
      "outputs": [
        {
          "output_type": "stream",
          "name": "stdout",
          "text": [
            "Producer put 0 into the queue\n",
            "Producer put 1 into the queue\n",
            "Producer put 2 into the queue\n",
            "Producer put 3 into the queue\n",
            "Producer put 4 into the queue\n",
            "Consumer got 0 from the queue\n",
            "Consumer got 1 from the queue\n",
            "Consumer got 2 from the queue\n",
            "Consumer got 3 from the queue\n",
            "Consumer got 4 from the queue\n"
          ]
        }
      ]
    },
    {
      "cell_type": "markdown",
      "source": [
        "Parallelism:\n"
      ],
      "metadata": {
        "id": "q5Tzoi7uCLWp"
      }
    },
    {
      "cell_type": "code",
      "source": [
        "import concurrent.futures\n",
        "\n",
        "def square(number):\n",
        "    return number ** 2\n",
        "\n",
        "numbers = [1, 2, 3, 4, 5]\n",
        "\n",
        "# Execute the function in parallel using a ThreadPoolExecutor\n",
        "with concurrent.futures.ThreadPoolExecutor() as executor:\n",
        "    results = executor.map(square, numbers)\n",
        "\n",
        "for result in results:\n",
        "    print(result)\n"
      ],
      "metadata": {
        "colab": {
          "base_uri": "https://localhost:8080/"
        },
        "id": "087-liSyCSvQ",
        "outputId": "04fdaf69-d16b-496a-fb18-facfb0c8c6f4"
      },
      "execution_count": 17,
      "outputs": [
        {
          "output_type": "stream",
          "name": "stdout",
          "text": [
            "1\n",
            "4\n",
            "9\n",
            "16\n",
            "25\n"
          ]
        }
      ]
    },
    {
      "cell_type": "markdown",
      "source": [
        "#Threads in Python:"
      ],
      "metadata": {
        "id": "YduNDuPVCZH4"
      }
    },
    {
      "cell_type": "markdown",
      "source": [
        "Creating Threads:\n"
      ],
      "metadata": {
        "id": "GnzfxaVHCcTY"
      }
    },
    {
      "cell_type": "code",
      "source": [
        "import threading\n",
        "\n",
        "def print_number(number):\n",
        "    print(\"Number:\", number)\n",
        "\n",
        "# Create multiple threads to print numbers from 1 to 5\n",
        "for i in range(1, 6):\n",
        "    thread = threading.Thread(target=print_number, args=(i,))\n",
        "    thread.start()\n"
      ],
      "metadata": {
        "colab": {
          "base_uri": "https://localhost:8080/"
        },
        "id": "pcZJr1ckCazI",
        "outputId": "61134d3a-94ee-425f-8223-480521faea2e"
      },
      "execution_count": 18,
      "outputs": [
        {
          "output_type": "stream",
          "name": "stdout",
          "text": [
            "Number: 1\n",
            "Number: 2\n",
            "Number: 3\n",
            "Number: 4\n",
            "Number: 5\n"
          ]
        }
      ]
    },
    {
      "cell_type": "markdown",
      "source": [
        "Shared Memory Scenarios, Race Condition, and Data Race:\n"
      ],
      "metadata": {
        "id": "SQ45Ls_RCjtB"
      }
    },
    {
      "cell_type": "code",
      "source": [
        "import threading\n",
        "\n",
        "counter = 0\n",
        "\n",
        "def increment():\n",
        "    global counter\n",
        "    for _ in range(1000000):\n",
        "        # Simulate a shared resource accessed by multiple threads\n",
        "        temp = counter\n",
        "        # Simulate a context switch or delay\n",
        "        # This is where the race condition and data race can occur\n",
        "        temp += 1\n",
        "        counter = temp\n",
        "\n",
        "# Create multiple threads to increment the counter simultaneously\n",
        "threads = []\n",
        "for _ in range(10):\n",
        "    thread = threading.Thread(target=increment)\n",
        "    threads.append(thread)\n",
        "    thread.start()\n",
        "\n",
        "# Wait for all threads to finish\n",
        "for thread in threads:\n",
        "    thread.join()\n",
        "\n",
        "print(\"Final counter value is:\", counter)\n"
      ],
      "metadata": {
        "colab": {
          "base_uri": "https://localhost:8080/"
        },
        "id": "YvC14-TvCjlg",
        "outputId": "708fccbf-e273-444d-c332-7268b7aac41d"
      },
      "execution_count": 19,
      "outputs": [
        {
          "output_type": "stream",
          "name": "stdout",
          "text": [
            "Final counter value is: 10000000\n"
          ]
        }
      ]
    },
    {
      "cell_type": "markdown",
      "source": [
        "Using Mutex and Lock Guards:\n"
      ],
      "metadata": {
        "id": "j-npX5KEC0Cw"
      }
    },
    {
      "cell_type": "code",
      "source": [
        "import threading\n",
        "\n",
        "counter = 0\n",
        "lock = threading.Lock()\n",
        "\n",
        "def increment():\n",
        "    global counter\n",
        "    for _ in range(1000000):\n",
        "        # Acquire the lock before modifying the counter\n",
        "        with lock:\n",
        "            counter += 1\n",
        "\n",
        "# Create multiple threads to increment the counter simultaneously\n",
        "threads = []\n",
        "for _ in range(10):\n",
        "    thread = threading.Thread(target=increment)\n",
        "    threads.append(thread)\n",
        "    thread.start()\n",
        "\n",
        "# Wait for all threads to finish\n",
        "for thread in threads:\n",
        "    thread.join()\n",
        "\n",
        "print(\"Final counter value is:\", counter)\n"
      ],
      "metadata": {
        "colab": {
          "base_uri": "https://localhost:8080/"
        },
        "id": "p6dkgmd6CjiA",
        "outputId": "05d90f9d-fa40-4da5-9324-91196783e62a"
      },
      "execution_count": 20,
      "outputs": [
        {
          "output_type": "stream",
          "name": "stdout",
          "text": [
            "Final counter value is: 10000000\n"
          ]
        }
      ]
    },
    {
      "cell_type": "markdown",
      "source": [
        "#Synchronization of Data and Messaging Between Threads in Python:"
      ],
      "metadata": {
        "id": "mE2ncC8tC9YQ"
      }
    },
    {
      "cell_type": "markdown",
      "source": [
        "Promise/Future:\n"
      ],
      "metadata": {
        "id": "XlcIk6PlDDOw"
      }
    },
    {
      "cell_type": "code",
      "source": [
        "import concurrent.futures\n",
        "\n",
        "def task():\n",
        "    return 42\n",
        "\n",
        "# Create a ThreadPoolExecutor\n",
        "with concurrent.futures.ThreadPoolExecutor() as executor:\n",
        "    # Execute the function in a thread\n",
        "    future_result = executor.submit(task)\n",
        "    # Get the result when it's available\n",
        "    result = future_result.result()\n",
        "    print(\"The result is:\", result)\n"
      ],
      "metadata": {
        "colab": {
          "base_uri": "https://localhost:8080/"
        },
        "id": "vJN9YroYC-tw",
        "outputId": "207ad5e5-3541-4d3f-d1d6-95d07d345e91"
      },
      "execution_count": 21,
      "outputs": [
        {
          "output_type": "stream",
          "name": "stdout",
          "text": [
            "The result is: 42\n"
          ]
        }
      ]
    },
    {
      "cell_type": "code",
      "source": [
        "import requests\n",
        "import concurrent.futures\n",
        "\n",
        "def fetch_data(url):\n",
        "    response = requests.get(url)\n",
        "    return response.json()\n",
        "\n",
        "# URL of the API endpoint\n",
        "api_url = \"https://jsonplaceholder.typicode.com/posts/1\"\n",
        "\n",
        "# Create a ThreadPoolExecutor\n",
        "with concurrent.futures.ThreadPoolExecutor() as executor:\n",
        "    # Submit the task of fetching data asynchronously\n",
        "    future_result = executor.submit(fetch_data, api_url)\n",
        "\n",
        "    # Wait for the task to complete and get the result\n",
        "    response_data = future_result.result()\n",
        "\n",
        "# Print the fetched data\n",
        "print(\"Fetched Data:\", response_data)\n"
      ],
      "metadata": {
        "colab": {
          "base_uri": "https://localhost:8080/"
        },
        "id": "KbUuPIX2DK75",
        "outputId": "942eb932-7863-4897-a85b-70035330f67f"
      },
      "execution_count": 22,
      "outputs": [
        {
          "output_type": "stream",
          "name": "stdout",
          "text": [
            "Fetched Data: {'userId': 1, 'id': 1, 'title': 'sunt aut facere repellat provident occaecati excepturi optio reprehenderit', 'body': 'quia et suscipit\\nsuscipit recusandae consequuntur expedita et cum\\nreprehenderit molestiae ut ut quas totam\\nnostrum rerum est autem sunt rem eveniet architecto'}\n"
          ]
        }
      ]
    }
  ]
}