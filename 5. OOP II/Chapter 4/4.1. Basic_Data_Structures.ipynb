{
  "nbformat": 4,
  "nbformat_minor": 0,
  "metadata": {
    "colab": {
      "provenance": []
    },
    "kernelspec": {
      "name": "python3",
      "display_name": "Python 3"
    },
    "language_info": {
      "name": "python"
    }
  },
  "cells": [
    {
      "cell_type": "markdown",
      "source": [
        "#Stacks and Queues:"
      ],
      "metadata": {
        "id": "sLp9k-di7X1L"
      }
    },
    {
      "cell_type": "code",
      "execution_count": 7,
      "metadata": {
        "colab": {
          "base_uri": "https://localhost:8080/"
        },
        "id": "CngpYfdj68qQ",
        "outputId": "7c5e2a89-3cae-48b6-f831-8f51677d1f8c"
      },
      "outputs": [
        {
          "output_type": "stream",
          "name": "stdout",
          "text": [
            "Stack:\n",
            "3\n",
            "2\n",
            "1\n",
            "Queue:\n",
            "1\n",
            "2\n",
            "3\n"
          ]
        }
      ],
      "source": [
        "class Stack:\n",
        "    def __init__(self):\n",
        "        self.items = []\n",
        "\n",
        "    def push(self, item):\n",
        "        self.items.append(item)\n",
        "\n",
        "    def pop(self):\n",
        "        return self.items.pop()\n",
        "\n",
        "    def is_empty(self):\n",
        "        return len(self.items) == 0\n",
        "\n",
        "class Queue:\n",
        "    def __init__(self):\n",
        "        self.items = []\n",
        "\n",
        "    def enqueue(self, item):\n",
        "        self.items.insert(0, item)\n",
        "\n",
        "    def dequeue(self):\n",
        "        return self.items.pop()\n",
        "\n",
        "    def is_empty(self):\n",
        "        return len(self.items) == 0\n",
        "\n",
        "# Stacks\n",
        "stack = Stack()\n",
        "stack.push(1)\n",
        "stack.push(2)\n",
        "stack.push(3)\n",
        "print(\"Stack:\")\n",
        "while not stack.is_empty():\n",
        "    print(stack.pop())\n",
        "\n",
        "# Queues\n",
        "queue = Queue()\n",
        "queue.enqueue(1)\n",
        "queue.enqueue(2)\n",
        "queue.enqueue(3)\n",
        "print(\"Queue:\")\n",
        "while not queue.is_empty():\n",
        "    print(queue.dequeue())\n"
      ]
    },
    {
      "cell_type": "markdown",
      "source": [
        "#Priority Queue:\n"
      ],
      "metadata": {
        "id": "Sjno1iji-tFA"
      }
    },
    {
      "cell_type": "code",
      "source": [
        "import heapq\n",
        "\n",
        "class PriorityQueue:\n",
        "    def __init__(self):\n",
        "        self.heap = []\n",
        "\n",
        "    def push(self, item, priority):\n",
        "        heapq.heappush(self.heap, (priority, item))\n",
        "\n",
        "    def pop(self):\n",
        "        return heapq.heappop(self.heap)[1]\n",
        "\n",
        "    def is_empty(self):\n",
        "        return len(self.heap) == 0\n",
        "\n",
        "# Priority Queue\n",
        "priority_queue = PriorityQueue()\n",
        "priority_queue.push(\"Task 1\", 3)\n",
        "priority_queue.push(\"Task 2\", 1)\n",
        "priority_queue.push(\"Task 3\", 2)\n",
        "print(\"Priority Queue:\")\n",
        "while not priority_queue.is_empty():\n",
        "    print(priority_queue.pop())"
      ],
      "metadata": {
        "colab": {
          "base_uri": "https://localhost:8080/"
        },
        "id": "30QfIadh-vig",
        "outputId": "daaec966-29a0-4ef6-dd18-cc7f4b2e0483"
      },
      "execution_count": 8,
      "outputs": [
        {
          "output_type": "stream",
          "name": "stdout",
          "text": [
            "Priority Queue:\n",
            "Task 2\n",
            "Task 3\n",
            "Task 1\n"
          ]
        }
      ]
    },
    {
      "cell_type": "markdown",
      "source": [
        "#Hash Table:\n"
      ],
      "metadata": {
        "id": "sAlcdvBR_FAM"
      }
    },
    {
      "cell_type": "code",
      "source": [
        "class HashTable:\n",
        "    def __init__(self):\n",
        "        self.size = 10\n",
        "        self.hash_table = [[] for _ in range(self.size)]\n",
        "\n",
        "    def hash_function(self, key):\n",
        "        return key % self.size\n",
        "\n",
        "    def insert(self, key, value):\n",
        "        hash_key = self.hash_function(key)\n",
        "        self.hash_table[hash_key].append((key, value))\n",
        "\n",
        "    def search(self, key):\n",
        "        hash_key = self.hash_function(key)\n",
        "        for item in self.hash_table[hash_key]:\n",
        "            if item[0] == key:\n",
        "                return item[1]\n",
        "        return None\n",
        "\n",
        "# Hash Table\n",
        "hash_table = HashTable()\n",
        "hash_table.insert(10, \"Alice\")\n",
        "hash_table.insert(20, \"Bob\")\n",
        "print(\"Hash Table:\")\n",
        "print(hash_table.search(10))\n",
        "print(hash_table.search(20))"
      ],
      "metadata": {
        "colab": {
          "base_uri": "https://localhost:8080/"
        },
        "id": "mPnZc6f1_CRu",
        "outputId": "155f2f9a-dcd1-49a0-cc14-d25d1bb8feea"
      },
      "execution_count": 9,
      "outputs": [
        {
          "output_type": "stream",
          "name": "stdout",
          "text": [
            "Hash Table:\n",
            "Alice\n",
            "Bob\n"
          ]
        }
      ]
    },
    {
      "cell_type": "markdown",
      "source": [
        "#Sorting Algorithms: Merge Sort, Quick Sort, Heap Sort:\n"
      ],
      "metadata": {
        "id": "dnGmtP-J_Uho"
      }
    },
    {
      "cell_type": "code",
      "source": [
        "def merge_sort(arr):\n",
        "    if len(arr) > 1:\n",
        "        mid = len(arr) // 2\n",
        "        left_half = arr[:mid]\n",
        "        right_half = arr[mid:]\n",
        "\n",
        "        merge_sort(left_half)\n",
        "        merge_sort(right_half)\n",
        "\n",
        "        i = j = k = 0\n",
        "\n",
        "        while i < len(left_half) and j < len(right_half):\n",
        "            if left_half[i] < right_half[j]:\n",
        "                arr[k] = left_half[i]\n",
        "                i += 1\n",
        "            else:\n",
        "                arr[k] = right_half[j]\n",
        "                j += 1\n",
        "            k += 1\n",
        "\n",
        "        while i < len(left_half):\n",
        "            arr[k] = left_half[i]\n",
        "            i += 1\n",
        "            k += 1\n",
        "\n",
        "        while j < len(right_half):\n",
        "            arr[k] = right_half[j]\n",
        "            j += 1\n",
        "            k += 1\n",
        "\n",
        "def quick_sort(arr):\n",
        "    if len(arr) <= 1:\n",
        "        return arr\n",
        "    pivot = arr[len(arr) // 2]\n",
        "    left = [x for x in arr if x < pivot]\n",
        "    middle = [x for x in arr if x == pivot]\n",
        "    right = [x for x in arr if x > pivot]\n",
        "    return quick_sort(left) + middle + quick_sort(right)\n",
        "\n",
        "def heap_sort(arr):\n",
        "    heapq.heapify(arr)\n",
        "    sorted_arr = []\n",
        "    while arr:\n",
        "        sorted_arr.append(heapq.heappop(arr))\n",
        "    return sorted_arr\n",
        "\n",
        "# Sorting Algorithms\n",
        "arr = [3, 1, 4, 1, 5, 9, 2, 6, 5]\n",
        "print(\"Original Array:\", arr)\n",
        "merge_sort(arr)\n",
        "print(\"Merge Sort:\", arr)\n",
        "print(\"Quick Sort:\", quick_sort(arr))\n",
        "print(\"Heap Sort:\", heap_sort(arr))"
      ],
      "metadata": {
        "colab": {
          "base_uri": "https://localhost:8080/"
        },
        "id": "XosbZhJP_VNg",
        "outputId": "7f65c871-622e-4334-c587-3742d874f7c2"
      },
      "execution_count": 11,
      "outputs": [
        {
          "output_type": "stream",
          "name": "stdout",
          "text": [
            "Original Array: [3, 1, 4, 1, 5, 9, 2, 6, 5]\n",
            "Merge Sort: [1, 1, 2, 3, 4, 5, 5, 6, 9]\n",
            "Quick Sort: [1, 1, 2, 3, 4, 5, 5, 6, 9]\n",
            "Heap Sort: [1, 1, 2, 3, 4, 5, 5, 6, 9]\n"
          ]
        }
      ]
    },
    {
      "cell_type": "markdown",
      "source": [
        "#Binary Search Tree:\n"
      ],
      "metadata": {
        "id": "gaalEOu8_bwo"
      }
    },
    {
      "cell_type": "code",
      "source": [
        "class TreeNode:\n",
        "    def __init__(self, key):\n",
        "        self.left = None\n",
        "        self.right = None\n",
        "        self.val = key\n",
        "\n",
        "def insert(root, key):\n",
        "    if root is None:\n",
        "        return TreeNode(key)\n",
        "    else:\n",
        "        if root.val < key:\n",
        "            root.right = insert(root.right, key)\n",
        "        else:\n",
        "            root.left = insert(root.left, key)\n",
        "    return root\n",
        "\n",
        "def inorder_traversal(root):\n",
        "    if root:\n",
        "        inorder_traversal(root.left)\n",
        "        print(root.val)\n",
        "        inorder_traversal(root.right)\n",
        "\n",
        "# Binary Search Tree\n",
        "root = None\n",
        "keys = [3, 1, 4, 1, 5, 9, 2, 6, 5]\n",
        "for key in keys:\n",
        "    root = insert(root, key)\n",
        "print(\"Binary Search Tree Inorder Traversal:\")\n",
        "inorder_traversal(root)"
      ],
      "metadata": {
        "colab": {
          "base_uri": "https://localhost:8080/"
        },
        "id": "dM4CO3ci_fBQ",
        "outputId": "23254e5a-bb9e-4eff-cf90-19b07a3a9683"
      },
      "execution_count": 12,
      "outputs": [
        {
          "output_type": "stream",
          "name": "stdout",
          "text": [
            "Binary Search Tree Inorder Traversal:\n",
            "1\n",
            "1\n",
            "2\n",
            "3\n",
            "4\n",
            "5\n",
            "5\n",
            "6\n",
            "9\n"
          ]
        }
      ]
    },
    {
      "cell_type": "markdown",
      "source": [
        "#Searching Algorithms: Sequential Search, Binary Search using Binary Search Tree:\n"
      ],
      "metadata": {
        "id": "TRfQ01Gq_l15"
      }
    },
    {
      "cell_type": "code",
      "source": [
        "def sequential_search(arr, target):\n",
        "    for index, item in enumerate(arr):\n",
        "        if item == target:\n",
        "            return index\n",
        "    return -1\n",
        "\n",
        "def binary_search_tree_search(root, target):\n",
        "    if root is None or root.val == target:\n",
        "        return root\n",
        "    if root.val < target:\n",
        "        return binary_search_tree_search(root.right, target)\n",
        "    return binary_search_tree_search(root.left, target)\n",
        "\n",
        "# Searching Algorithms\n",
        "arr = [3, 1, 4, 1, 5, 9, 2, 6, 5]\n",
        "print(\"Sequential Search:\")\n",
        "print(sequential_search(arr, 4))\n",
        "print(\"Binary Search Tree Search:\")\n",
        "print(binary_search_tree_search(root, 4))"
      ],
      "metadata": {
        "colab": {
          "base_uri": "https://localhost:8080/"
        },
        "id": "U-Kyel50_qZo",
        "outputId": "05ec5d3e-c64e-427b-b77b-dd2d73e57067"
      },
      "execution_count": 13,
      "outputs": [
        {
          "output_type": "stream",
          "name": "stdout",
          "text": [
            "Sequential Search:\n",
            "2\n",
            "Binary Search Tree Search:\n",
            "<__main__.TreeNode object at 0x7e6457fa49d0>\n"
          ]
        }
      ]
    },
    {
      "cell_type": "markdown",
      "source": [
        "#Graphs and Graph Traversal Algorithms:\n"
      ],
      "metadata": {
        "id": "FeI3pmEs_x3g"
      }
    },
    {
      "cell_type": "code",
      "source": [
        "from collections import defaultdict\n",
        "\n",
        "class Graph:\n",
        "    def __init__(self):\n",
        "        self.graph = defaultdict(list)\n",
        "\n",
        "    def add_edge(self, u, v):\n",
        "        self.graph[u].append(v)\n",
        "\n",
        "    def dfs_util(self, v, visited):\n",
        "        visited[v] = True\n",
        "        print(v, end=' ')\n",
        "        for i in self.graph[v]:\n",
        "            if not visited[i]:\n",
        "                self.dfs_util(i, visited)\n",
        "\n",
        "    def dfs(self, v):\n",
        "        visited = [False] * (len(self.graph))\n",
        "        self.dfs_util(v, visited)\n",
        "\n",
        "    def bfs(self, v):\n",
        "        visited = [False] * (len(self.graph))\n",
        "        queue = []\n",
        "        queue.append(v)\n",
        "        visited[v] = True\n",
        "        while queue:\n",
        "            v = queue.pop(0)\n",
        "            print(v, end=' ')\n",
        "            for i in self.graph[v]:\n",
        "                if not visited[i]:\n",
        "                    queue.append(i)\n",
        "                    visited[i] = True\n",
        "\n",
        "# Graphs and Graph Traversal Algorithms\n",
        "graph = Graph()\n",
        "graph.add_edge(0, 1)\n",
        "graph.add_edge(0, 2)\n",
        "graph.add_edge(1, 2)\n",
        "graph.add_edge(2, 0)\n",
        "graph.add_edge(2, 3)\n",
        "graph.add_edge(3, 3)\n",
        "\n",
        "print(\"Depth First Traversal starting from vertex 2:\")\n",
        "graph.dfs(2)\n",
        "print(\"\\nBreadth First Traversal starting from vertex 2:\")\n",
        "graph.bfs(2)"
      ],
      "metadata": {
        "colab": {
          "base_uri": "https://localhost:8080/"
        },
        "id": "SKMrGBTF_y_0",
        "outputId": "c61a8d5e-67f1-4c90-fc11-9356ed9c3e00"
      },
      "execution_count": 14,
      "outputs": [
        {
          "output_type": "stream",
          "name": "stdout",
          "text": [
            "Depth First Traversal starting from vertex 2:\n",
            "2 0 1 3 \n",
            "Breadth First Traversal starting from vertex 2:\n",
            "2 0 3 1 "
          ]
        }
      ]
    }
  ]
}