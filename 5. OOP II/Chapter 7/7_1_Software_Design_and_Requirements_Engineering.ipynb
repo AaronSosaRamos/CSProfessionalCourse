{
  "nbformat": 4,
  "nbformat_minor": 0,
  "metadata": {
    "colab": {
      "provenance": []
    },
    "kernelspec": {
      "name": "python3",
      "display_name": "Python 3"
    },
    "language_info": {
      "name": "python"
    }
  },
  "cells": [
    {
      "cell_type": "markdown",
      "source": [
        "#Software Design and Requirements Engineering"
      ],
      "metadata": {
        "id": "kr_ZAfCYXmUn"
      }
    },
    {
      "cell_type": "markdown",
      "source": [
        "#Phases of Software Development and the Role of Requirements Engineering and Software Design"
      ],
      "metadata": {
        "id": "4G8SDsiRXlNY"
      }
    },
    {
      "cell_type": "markdown",
      "source": [
        "In software development, various phases are typically followed, including requirements gathering, analysis, design, implementation, testing, deployment, and maintenance. Requirements engineering plays a crucial role in the early stages, where requirements are elicited, analyzed, documented, and validated. Software design follows, where system architecture, modules, interfaces, and data structures are designed to meet the specified requirements. The design phase bridges the gap between requirements and implementation, providing a blueprint for building the software system.\n",
        "\n"
      ],
      "metadata": {
        "id": "_we6Fda9Xoc2"
      }
    },
    {
      "cell_type": "code",
      "execution_count": 2,
      "metadata": {
        "id": "qKVV9P0zXf98"
      },
      "outputs": [],
      "source": [
        "class RequirementsEngineering:\n",
        "    def __init__(self):\n",
        "        self.requirements = []\n",
        "\n",
        "    def gather_requirements(self, requirement):\n",
        "        self.requirements.append(requirement)\n",
        "\n",
        "    def analyze_requirements(self):\n",
        "        # Perform analysis on gathered requirements\n",
        "        pass\n",
        "\n",
        "    def document_requirements(self):\n",
        "        # Document the analyzed requirements\n",
        "        pass\n",
        "\n",
        "    def validate_requirements(self):\n",
        "        # Validate the documented requirements\n",
        "        pass\n",
        "\n",
        "class SoftwareDesign:\n",
        "    def __init__(self, requirements):\n",
        "        self.requirements = requirements\n",
        "\n",
        "    def create_architecture(self):\n",
        "        # Create system architecture based on requirements\n",
        "        pass\n",
        "\n",
        "    def design_modules(self):\n",
        "        # Design modules based on system architecture and requirements\n",
        "        pass\n",
        "\n",
        "    def define_interfaces(self):\n",
        "        # Define interfaces between modules based on requirements\n",
        "        pass\n",
        "\n",
        "# Example usage\n",
        "requirements_engineering = RequirementsEngineering()\n",
        "requirements_engineering.gather_requirements(\"User should be able to log in\")\n",
        "requirements_engineering.gather_requirements(\"System should generate monthly reports\")\n",
        "requirements_engineering.analyze_requirements()\n",
        "requirements_engineering.document_requirements()\n",
        "requirements_engineering.validate_requirements()\n",
        "\n",
        "software_design = SoftwareDesign(requirements_engineering.requirements)\n",
        "software_design.create_architecture()\n",
        "software_design.design_modules()\n",
        "software_design.define_interfaces()\n"
      ]
    },
    {
      "cell_type": "markdown",
      "source": [
        "#Relationships Between Requirements and Designs: Model Transformation, Design Contracts, Invariants"
      ],
      "metadata": {
        "id": "xlK_pWX1X6ro"
      }
    },
    {
      "cell_type": "markdown",
      "source": [
        "The relationship between requirements and designs is fundamental to software development. Requirements serve as the basis for creating designs that fulfill them. Model transformation techniques are often employed to translate requirements into design models, ensuring consistency and traceability. Design contracts specify the behavior and constraints of software components based on requirements, helping to validate designs against requirements. Invariants define properties that remain unchanged throughout the system's execution, ensuring that designs adhere to specified constraints.\n",
        "\n"
      ],
      "metadata": {
        "id": "51mpy8IrX7Y_"
      }
    },
    {
      "cell_type": "code",
      "source": [
        "class Requirement:\n",
        "    def __init__(self, description):\n",
        "        self.description = description\n",
        "\n",
        "class DesignContract:\n",
        "    def __init__(self, requirement):\n",
        "        self.requirement = requirement\n",
        "\n",
        "    def validate_design(self):\n",
        "        # Validate design based on requirement\n",
        "        pass\n",
        "\n",
        "class Invariant:\n",
        "    def __init__(self, condition):\n",
        "        self.condition = condition\n",
        "\n",
        "    def check_invariant(self):\n",
        "        # Check if invariant condition holds true\n",
        "        pass\n",
        "\n",
        "# Define requirements\n",
        "login_requirement = Requirement(\"User should be able to log in\")\n",
        "report_requirement = Requirement(\"System should generate monthly reports\")\n",
        "\n",
        "# Transform requirements into design contracts\n",
        "login_contract = DesignContract(login_requirement)\n",
        "report_contract = DesignContract(report_requirement)\n",
        "\n",
        "# Validate design contracts\n",
        "login_contract.validate_design()\n",
        "report_contract.validate_design()\n",
        "\n",
        "# Define invariants\n",
        "login_invariant = Invariant(\"Login module must authenticate user credentials\")\n",
        "report_invariant = Invariant(\"Report module must generate reports monthly\")\n",
        "\n",
        "# Check invariants\n",
        "login_invariant.check_invariant()\n",
        "report_invariant.check_invariant()\n"
      ],
      "metadata": {
        "id": "MZrcJVtqYCQ_"
      },
      "execution_count": 3,
      "outputs": []
    },
    {
      "cell_type": "markdown",
      "source": [
        "#Software Design: Architectural and Detailed Abstraction Levels, Separation of Concerns, Information Hiding, Coupling and Cohesion, Reuse of Standard Structures"
      ],
      "metadata": {
        "id": "TZ8FGceOYRGH"
      }
    },
    {
      "cell_type": "markdown",
      "source": [
        "Software design involves defining the architecture and detailed structure of a software system. Architectural design focuses on high-level abstractions, defining the overall structure, components, and their interactions. Detailed design delves into lower-level details, specifying algorithms, data structures, and implementation specifics. Separation of concerns is achieved by partitioning the system into modules, each addressing a specific aspect or responsibility. Information hiding restricts access to implementation details, promoting modularity and encapsulation. Coupling and cohesion measure the relationships between modules, aiming for loose coupling and high cohesion to improve maintainability and reusability. Reuse of standard structures involves leveraging existing libraries, frameworks, and design patterns to expedite development and enhance quality.\n",
        "\n"
      ],
      "metadata": {
        "id": "kO2B1sy-YRz3"
      }
    },
    {
      "cell_type": "code",
      "source": [
        "class Module:\n",
        "    def __init__(self, name):\n",
        "        self.name = name\n",
        "        self.dependencies = []\n",
        "\n",
        "    def add_dependency(self, module):\n",
        "        self.dependencies.append(module)\n",
        "\n",
        "class Architecture:\n",
        "    def __init__(self):\n",
        "        self.modules = []\n",
        "\n",
        "    def add_module(self, module):\n",
        "        self.modules.append(module)\n",
        "\n",
        "# Create modules for architectural design\n",
        "user_module = Module(\"User Module\")\n",
        "auth_module = Module(\"Authentication Module\")\n",
        "report_module = Module(\"Report Module\")\n",
        "\n",
        "# Define dependencies between modules\n",
        "user_module.add_dependency(auth_module)\n",
        "report_module.add_dependency(auth_module)\n",
        "\n",
        "# Create system architecture\n",
        "system_architecture = Architecture()\n",
        "system_architecture.add_module(user_module)\n",
        "system_architecture.add_module(auth_module)\n",
        "system_architecture.add_module(report_module)\n"
      ],
      "metadata": {
        "id": "vHDBZhPSYU14"
      },
      "execution_count": 4,
      "outputs": []
    }
  ]
}