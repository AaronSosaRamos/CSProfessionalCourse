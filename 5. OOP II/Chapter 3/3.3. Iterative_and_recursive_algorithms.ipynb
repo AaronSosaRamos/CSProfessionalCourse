{
  "nbformat": 4,
  "nbformat_minor": 0,
  "metadata": {
    "colab": {
      "provenance": []
    },
    "kernelspec": {
      "name": "python3",
      "display_name": "Python 3"
    },
    "language_info": {
      "name": "python"
    }
  },
  "cells": [
    {
      "cell_type": "markdown",
      "source": [
        "#Iterative Algorithms:"
      ],
      "metadata": {
        "id": "sLp9k-di7X1L"
      }
    },
    {
      "cell_type": "markdown",
      "source": [
        "*   Iterative algorithms use loops to repeat a sequence of instructions until a certain condition is met.\n",
        "*   They often use less memory compared to recursive algorithms because they do not require a call stack.\n",
        "*  They are generally faster and more efficient for problems where the solution can be computed using a fixed number of iterations\n",
        "\n",
        "\n",
        "\n",
        "\n"
      ],
      "metadata": {
        "id": "pRE3sCVK7cAY"
      }
    },
    {
      "cell_type": "code",
      "execution_count": 2,
      "metadata": {
        "colab": {
          "base_uri": "https://localhost:8080/"
        },
        "id": "CngpYfdj68qQ",
        "outputId": "324b7220-09b0-4eaf-82f0-b9e332f97cd6"
      },
      "outputs": [
        {
          "output_type": "stream",
          "name": "stdout",
          "text": [
            "120\n"
          ]
        }
      ],
      "source": [
        "def factorial_iterative(n):\n",
        "    result = 1\n",
        "    for i in range(1, n + 1):\n",
        "        result *= i\n",
        "    return result\n",
        "\n",
        "print(factorial_iterative(5))  # Output: 120\n"
      ]
    },
    {
      "cell_type": "markdown",
      "source": [
        "#Recursive Algorithms:\n",
        "\n"
      ],
      "metadata": {
        "id": "xvErBe5D7nso"
      }
    },
    {
      "cell_type": "markdown",
      "source": [
        "\n",
        "*   Recursive algorithms solve problems by breaking them down into smaller, similar subproblems.\n",
        "*   They are often more elegant and easier to understand, especially for problems that can be naturally divided into smaller instances of the same problem.\n",
        "*   They may consume more memory due to the overhead of function calls and maintaining a call stack.\n",
        "*   Recursive algorithms can be slower than iterative algorithms due to the overhead of function calls and stack management"
      ],
      "metadata": {
        "id": "83nwjbd28HMo"
      }
    },
    {
      "cell_type": "code",
      "source": [
        "def factorial_recursive(n):\n",
        "    if n == 0:\n",
        "        return 1\n",
        "    else:\n",
        "        return n * factorial_recursive(n - 1)\n",
        "\n",
        "print(factorial_recursive(5))  # Output: 120"
      ],
      "metadata": {
        "colab": {
          "base_uri": "https://localhost:8080/"
        },
        "id": "qrpoY5Hd7njl",
        "outputId": "e8083b42-e2e3-49c1-ef24-13d4b6ac545e"
      },
      "execution_count": 3,
      "outputs": [
        {
          "output_type": "stream",
          "name": "stdout",
          "text": [
            "120\n"
          ]
        }
      ]
    }
  ]
}