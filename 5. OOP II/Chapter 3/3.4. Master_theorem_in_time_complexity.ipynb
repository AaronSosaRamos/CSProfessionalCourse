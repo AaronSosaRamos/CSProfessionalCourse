{
  "nbformat": 4,
  "nbformat_minor": 0,
  "metadata": {
    "colab": {
      "provenance": []
    },
    "kernelspec": {
      "name": "python3",
      "display_name": "Python 3"
    },
    "language_info": {
      "name": "python"
    }
  },
  "cells": [
    {
      "cell_type": "markdown",
      "source": [
        "#Master Theorem:"
      ],
      "metadata": {
        "id": "sLp9k-di7X1L"
      }
    },
    {
      "cell_type": "markdown",
      "source": [
        "The master theorem is a mathematical tool used to analyze the time complexity of divide-and-conquer algorithms. It provides a straightforward way to determine the time complexity of algorithms that can be expressed in a specific recurrence relation form. The theorem has several cases, but we'll focus on the simplest version, which is applicable to divide-and-conquer algorithms with three equal-sized subproblems.\n",
        "\n",
        "\n",
        "\n",
        "\n"
      ],
      "metadata": {
        "id": "pRE3sCVK7cAY"
      }
    },
    {
      "cell_type": "markdown",
      "source": [
        "The master theorem states that if we have a recurrence relation of the form:\n",
        "\n",
        "T(n) = a * T(n/b) + f(n)\n",
        "\n",
        "where:"
      ],
      "metadata": {
        "id": "Ovxi6x5p9R6C"
      }
    },
    {
      "cell_type": "markdown",
      "source": [
        "\n",
        "\n",
        "*   T(n) is the time complexity of the algorithm for a problem of size n.\n",
        "*   a is the number of subproblems generated in each recursion.\n",
        "*   n/b is the size of each subproblem.\n",
        "*   f(n) is the time complexity of the work done outside the recursive calls."
      ],
      "metadata": {
        "id": "er21xclu9S9x"
      }
    },
    {
      "cell_type": "markdown",
      "source": [
        "Then, the time complexity of the algorithm can be expressed as:"
      ],
      "metadata": {
        "id": "dZPT2Vc89jEY"
      }
    },
    {
      "cell_type": "markdown",
      "source": [
        "\n",
        "*   If f(n) = O(n^c) where c < log_b(a), then T(n) = O(n^log_b(a)).\n",
        "*   If f(n) = Θ(n^c) where c = log_b(a), then T(n) = Θ(n^c * log n).\n",
        "*   If f(n) = Ω(n^c) where c > log_b(a), and if a * f(n/b) <= k * f(n) for some constant k < 1 and sufficiently large n, then T(n) = Θ(f(n)).\n",
        "\n"
      ],
      "metadata": {
        "id": "wny-3OAg9kX4"
      }
    },
    {
      "cell_type": "code",
      "execution_count": 5,
      "metadata": {
        "colab": {
          "base_uri": "https://localhost:8080/"
        },
        "id": "CngpYfdj68qQ",
        "outputId": "12797d45-f206-4654-8e9f-0737940be4ab"
      },
      "outputs": [
        {
          "output_type": "stream",
          "name": "stdout",
          "text": [
            "Time complexity: Θ(n^2.00)\n"
          ]
        }
      ],
      "source": [
        "from math import log\n",
        "\n",
        "def master_theorem(a, b, c, k):\n",
        "    \"\"\"\n",
        "    Applies the master theorem to analyze the time complexity of a divide-and-conquer algorithm.\n",
        "\n",
        "    Parameters:\n",
        "        a (int): The number of subproblems generated in each recursion.\n",
        "        b (int): The size of each subproblem.\n",
        "        c (int): The exponent of the non-recursive part of the time complexity.\n",
        "        k (float): A constant factor.\n",
        "\n",
        "    Returns:\n",
        "        str: A string representing the time complexity of the algorithm.\n",
        "    \"\"\"\n",
        "    if c < log(a, b):\n",
        "        return f\"O(n^{log(a, b):.2f})\"\n",
        "    elif c == log(a, b):\n",
        "        return f\"Θ(n^{log(a, b):.2f} * log n)\"\n",
        "    else:\n",
        "        return f\"Θ(n^{c:.2f})\"\n",
        "\n",
        "# Given recurrence relation: T(n) = 3 * T(n/2) + n^2\n",
        "a = 3\n",
        "b = 2\n",
        "c = 2  # Exponent of n^2\n",
        "k = 0  # Constant factor\n",
        "\n",
        "# Applying the master theorem\n",
        "time_complexity = master_theorem(a, b, c, k)\n",
        "print(\"Time complexity:\", time_complexity)"
      ]
    }
  ]
}