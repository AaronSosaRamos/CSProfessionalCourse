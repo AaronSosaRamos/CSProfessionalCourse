{
  "nbformat": 4,
  "nbformat_minor": 0,
  "metadata": {
    "colab": {
      "provenance": []
    },
    "kernelspec": {
      "name": "python3",
      "display_name": "Python 3"
    },
    "language_info": {
      "name": "python"
    }
  },
  "cells": [
    {
      "cell_type": "code",
      "execution_count": 1,
      "metadata": {
        "id": "CngpYfdj68qQ",
        "outputId": "1a6617cf-a44f-45aa-a026-3970278b36f4",
        "colab": {
          "base_uri": "https://localhost:8080/"
        }
      },
      "outputs": [
        {
          "output_type": "stream",
          "name": "stdout",
          "text": [
            "1\n",
            "2\n",
            "2\n",
            "[1, 2, 3, 4, 5]\n",
            "[[19 22]\n",
            " [43 50]]\n",
            "[[], [1], [2], [1, 2], [3], [1, 3], [2, 3], [1, 2, 3]]\n"
          ]
        }
      ],
      "source": [
        "#Constant Time (O(1)):\n",
        "# Accessing an element from a list by index\n",
        "my_list = [1, 2, 3, 4, 5]\n",
        "element = my_list[0]\n",
        "print(element)  # This operation takes constant time, regardless of the size of the list\n",
        "\n",
        "#Logarithmic Time (O(log n)):\n",
        "# Binary search in a sorted list\n",
        "def binary_search(arr, target):\n",
        "    low = 0\n",
        "    high = len(arr) - 1\n",
        "    while low <= high:\n",
        "        mid = (low + high) // 2\n",
        "        if arr[mid] == target:\n",
        "            return mid\n",
        "        elif arr[mid] < target:\n",
        "            low = mid + 1\n",
        "        else:\n",
        "            high = mid - 1\n",
        "    return -1\n",
        "\n",
        "my_list = [1, 3, 5, 7, 9]\n",
        "index = binary_search(my_list, 5)\n",
        "print(index)  # This operation takes logarithmic time\n",
        "\n",
        "#Linear Time (O(n)):\n",
        "# Iterating through a list\n",
        "def linear_search(arr, target):\n",
        "    for i, num in enumerate(arr):\n",
        "        if num == target:\n",
        "            return i\n",
        "    return -1\n",
        "\n",
        "my_list = [1, 2, 3, 4, 5]\n",
        "index = linear_search(my_list, 3)\n",
        "print(index)  # This operation takes linear time\n",
        "\n",
        "#Quadratic Time (O(n^2)):\n",
        "# Bubble sort\n",
        "def bubble_sort(arr):\n",
        "    n = len(arr)\n",
        "    for i in range(n):\n",
        "        for j in range(0, n-i-1):\n",
        "            if arr[j] > arr[j+1]:\n",
        "                arr[j], arr[j+1] = arr[j+1], arr[j]\n",
        "\n",
        "my_list = [5, 3, 1, 4, 2]\n",
        "bubble_sort(my_list)\n",
        "print(my_list)  # This operation takes quadratic time\n",
        "\n",
        "\n",
        "#Polynomial Time (O(n^k)):\n",
        "# Matrix multiplication\n",
        "import numpy as np\n",
        "\n",
        "matrix_a = np.array([[1, 2], [3, 4]])\n",
        "matrix_b = np.array([[5, 6], [7, 8]])\n",
        "\n",
        "result = np.dot(matrix_a, matrix_b)\n",
        "print(result)  # This operation takes polynomial time\n",
        "\n",
        "#Exponential Time (O(2^n)):\n",
        "# Generating all subsets of a set\n",
        "def generate_subsets(nums):\n",
        "    subsets = [[]]\n",
        "    for num in nums:\n",
        "        subsets += [curr + [num] for curr in subsets]\n",
        "    return subsets\n",
        "\n",
        "my_set = [1, 2, 3]\n",
        "all_subsets = generate_subsets(my_set)\n",
        "print(all_subsets)  # This operation takes exponential time\n"
      ]
    }
  ]
}