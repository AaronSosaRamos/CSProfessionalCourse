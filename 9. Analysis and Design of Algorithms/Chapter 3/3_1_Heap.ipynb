{
  "nbformat": 4,
  "nbformat_minor": 0,
  "metadata": {
    "colab": {
      "provenance": []
    },
    "kernelspec": {
      "name": "python3",
      "display_name": "Python 3"
    },
    "language_info": {
      "name": "python"
    }
  },
  "cells": [
    {
      "cell_type": "markdown",
      "source": [
        "#Heap\n",
        "A heap is a specialized tree-based data structure that satisfies the heap property. It is commonly implemented as a binary tree with two additional constraints:\n",
        "\n",
        "* The heap property: For a max-heap, each parent node has a value greater than or equal to its children, and for a min-heap, each parent node has a value less than or equal to its children.\n",
        "\n",
        "* Complete binary tree: All levels of the tree, except possibly the last one, are fully filled, and the last level is filled from left to right.\n",
        "\n",
        "#Construction of Max-Heap:\n",
        "\n",
        "* max-heapify: This function ensures that the subtree rooted at the given index satisfies the max-heap property.\n",
        "* build-max-heap: This function builds a max-heap from an array by repeatedly calling max-heapify on non-leaf nodes."
      ],
      "metadata": {
        "id": "p1MjpU1qvoZd"
      }
    },
    {
      "cell_type": "code",
      "execution_count": null,
      "metadata": {
        "colab": {
          "base_uri": "https://localhost:8080/"
        },
        "id": "7EoqNdzWvBb6",
        "outputId": "f42486fb-8c08-4d2f-8185-910174c0a08b"
      },
      "outputs": [
        {
          "output_type": "stream",
          "name": "stdout",
          "text": [
            "Max-Heap: [10, 5, 3, 4, 1]\n"
          ]
        }
      ],
      "source": [
        "def max_heapify(arr, n, i):\n",
        "    largest = i  # Initialize largest as root\n",
        "    l = 2 * i + 1  # left child\n",
        "    r = 2 * i + 2  # right child\n",
        "\n",
        "    # Check if left child exists and is greater than root\n",
        "    if l < n and arr[l] > arr[largest]:\n",
        "        largest = l\n",
        "\n",
        "    # Check if right child exists and is greater than root\n",
        "    if r < n and arr[r] > arr[largest]:\n",
        "        largest = r\n",
        "\n",
        "    # Change root, if needed\n",
        "    if largest != i:\n",
        "        arr[i], arr[largest] = arr[largest], arr[i]  # swap\n",
        "        max_heapify(arr, n, largest)\n",
        "\n",
        "def build_max_heap(arr):\n",
        "    n = len(arr)\n",
        "    # Build a max heap.\n",
        "    for i in range(n // 2 - 1, -1, -1):\n",
        "        max_heapify(arr, n, i)\n",
        "\n",
        "# Example usage:\n",
        "arr = [4, 10, 3, 5, 1]\n",
        "build_max_heap(arr)\n",
        "print(\"Max-Heap:\", arr)\n"
      ]
    },
    {
      "cell_type": "markdown",
      "source": [
        "#Construction of Min-Heap:\n"
      ],
      "metadata": {
        "id": "jxqxOxvgxAjt"
      }
    },
    {
      "cell_type": "code",
      "source": [
        "def min_heapify(arr, n, i):\n",
        "    smallest = i  # Initialize smallest as root\n",
        "    l = 2 * i + 1  # left child\n",
        "    r = 2 * i + 2  # right child\n",
        "\n",
        "    # Check if left child exists and is smaller than root\n",
        "    if l < n and arr[l] < arr[smallest]:\n",
        "        smallest = l\n",
        "\n",
        "    # Check if right child exists and is smaller than root\n",
        "    if r < n and arr[r] < arr[smallest]:\n",
        "        smallest = r\n",
        "\n",
        "    # Change root, if needed\n",
        "    if smallest != i:\n",
        "        arr[i], arr[smallest] = arr[smallest], arr[i]  # swap\n",
        "        min_heapify(arr, n, smallest)\n",
        "\n",
        "def build_min_heap(arr):\n",
        "    n = len(arr)\n",
        "    # Build a min heap.\n",
        "    for i in range(n // 2 - 1, -1, -1):\n",
        "        min_heapify(arr, n, i)\n",
        "\n",
        "# Example usage:\n",
        "arr = [4, 10, 3, 5, 1]\n",
        "build_min_heap(arr)\n",
        "print(\"Min-Heap:\", arr)\n"
      ],
      "metadata": {
        "colab": {
          "base_uri": "https://localhost:8080/"
        },
        "id": "EYyaUre9whro",
        "outputId": "e975e060-ad1b-4f89-cbe5-6a6c5385cdc3"
      },
      "execution_count": null,
      "outputs": [
        {
          "output_type": "stream",
          "name": "stdout",
          "text": [
            "Min-Heap: [1, 4, 3, 5, 10]\n"
          ]
        }
      ]
    },
    {
      "cell_type": "markdown",
      "source": [
        "#The Heapsort Algorithm:"
      ],
      "metadata": {
        "id": "UV37D626xLjE"
      }
    },
    {
      "cell_type": "markdown",
      "source": [
        "Heapsort is a sorting algorithm that uses a heap to sort elements and then extracts them in order. The algorithm consists of two main phases: building a max-heap from the list of elements and repeatedly extracting the maximum from the heap and reconstructing the remaining heap.\n",
        "\n"
      ],
      "metadata": {
        "id": "eB8pCE7VxPk2"
      }
    },
    {
      "cell_type": "code",
      "source": [
        "import time\n",
        "import random\n",
        "import matplotlib.pyplot as plt\n",
        "\n",
        "def min_heapify(arr, n, i):\n",
        "    smallest = i  # Initialize smallest as root\n",
        "    l = 2 * i + 1  # left child\n",
        "    r = 2 * i + 2  # right child\n",
        "\n",
        "    # Check if left child exists and is smaller than root\n",
        "    if l < n and arr[l] < arr[smallest]:\n",
        "        smallest = l\n",
        "\n",
        "    # Check if right child exists and is smaller than root\n",
        "    if r < n and arr[r] < arr[smallest]:\n",
        "        smallest = r\n",
        "\n",
        "    # Change root, if needed\n",
        "    if smallest != i:\n",
        "        arr[i], arr[smallest] = arr[smallest], arr[i]  # swap\n",
        "        min_heapify(arr, n, smallest)\n",
        "\n",
        "def build_min_heap(arr):\n",
        "    n = len(arr)\n",
        "    # Build a min heap.\n",
        "    for i in range(n // 2 - 1, -1, -1):\n",
        "        min_heapify(arr, n, i)\n",
        "\n",
        "def heapsort(arr):\n",
        "    build_min_heap(arr)\n",
        "    n = len(arr)\n",
        "    sorted_arr = []\n",
        "    for i in range(n):\n",
        "        arr[0], arr[-1] = arr[-1], arr[0]  # swap root with last element\n",
        "        sorted_arr.append(arr.pop())  # append root to sorted array\n",
        "        min_heapify(arr, len(arr), 0)  # restore heap property\n",
        "    return sorted_arr\n",
        "\n",
        "# Function to perform time analysis\n",
        "def time_analysis(arr_lengths):\n",
        "    execution_times = []\n",
        "    for length in arr_lengths:\n",
        "        times = []\n",
        "        for _ in range(10):  # Perform 10 executions for each array length\n",
        "            arr = [random.randint(0, 1000) for _ in range(length)]\n",
        "            start_time = time.time()\n",
        "            heapsort(arr)\n",
        "            end_time = time.time()\n",
        "            times.append(end_time - start_time)\n",
        "        execution_times.append(sum(times) / len(times))\n",
        "    return execution_times\n",
        "\n",
        "# Array lengths for analysis\n",
        "arr_lengths = [1000, 5000, 10000, 50000]\n",
        "\n",
        "# Perform time analysis\n",
        "execution_times = time_analysis(arr_lengths)\n",
        "\n",
        "# Plotting\n",
        "plt.plot(arr_lengths, execution_times, marker='o')\n",
        "plt.title('Heapsort Time Analysis')\n",
        "plt.xlabel('Array Length')\n",
        "plt.ylabel('Time (seconds)')\n",
        "plt.grid(True)\n",
        "plt.show()"
      ],
      "metadata": {
        "colab": {
          "base_uri": "https://localhost:8080/",
          "height": 472
        },
        "id": "o6j2ylaYxNRj",
        "outputId": "5547a24e-9d17-4f18-9530-5956b66b6fb0"
      },
      "execution_count": null,
      "outputs": [
        {
          "output_type": "display_data",
          "data": {
            "text/plain": [
              "<Figure size 640x480 with 1 Axes>"
            ],
            "image/png": "[encoded data removed]"
          },
          "metadata": {}
        }
      ]
    },
    {
      "cell_type": "markdown",
      "source": [
        "#Priority Queues:\n",
        "\n"
      ],
      "metadata": {
        "id": "XVl9GFmryBkR"
      }
    },
    {
      "cell_type": "markdown",
      "source": [
        "A priority queue is an abstract data type that operates similarly to a regular queue or stack, but where each element has an associated priority. Elements with higher priorities are dequeued before elements with lower priorities.\n",
        "\n",
        "Priority queues can be implemented using heaps to efficiently maintain the highest (or lowest) priority element at the front of the queue."
      ],
      "metadata": {
        "id": "OIrRY8_qyGV3"
      }
    },
    {
      "cell_type": "code",
      "source": [
        "import heapq\n",
        "\n",
        "# Example usage of Priority Queue using heapq\n",
        "pq = []\n",
        "heapq.heappush(pq, (3, \"Priority 3\"))\n",
        "heapq.heappush(pq, (1, \"Priority 1\"))\n",
        "heapq.heappush(pq, (2, \"Priority 2\"))\n",
        "\n",
        "while pq:\n",
        "    priority, value = heapq.heappop(pq)\n",
        "    print(\"Value:\", value, \"Priority:\", priority)\n"
      ],
      "metadata": {
        "id": "2lUDBiEOyJvE",
        "outputId": "1dca7186-1b11-43e6-a577-57e7d4ae4657",
        "colab": {
          "base_uri": "https://localhost:8080/"
        }
      },
      "execution_count": null,
      "outputs": [
        {
          "output_type": "stream",
          "name": "stdout",
          "text": [
            "Value: Priority 1 Priority: 1\n",
            "Value: Priority 2 Priority: 2\n",
            "Value: Priority 3 Priority: 3\n"
          ]
        }
      ]
    }
  ]
}