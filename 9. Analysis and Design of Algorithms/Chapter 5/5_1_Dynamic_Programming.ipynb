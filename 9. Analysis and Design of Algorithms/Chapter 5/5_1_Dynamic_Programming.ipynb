{
  "nbformat": 4,
  "nbformat_minor": 0,
  "metadata": {
    "colab": {
      "provenance": []
    },
    "kernelspec": {
      "name": "python3",
      "display_name": "Python 3"
    },
    "language_info": {
      "name": "python"
    }
  },
  "cells": [
    {
      "cell_type": "markdown",
      "source": [
        "#Dynamic Programming"
      ],
      "metadata": {
        "id": "GeCt7hRq2Ol3"
      }
    },
    {
      "cell_type": "markdown",
      "source": [
        "Dynamic Programming (DP) is a method for solving complex problems by breaking them down into simpler subproblems and solving each subproblem only once. It stores the solutions of subproblems to avoid redundant computations, typically using memoization or tabulation.\n",
        "\n"
      ],
      "metadata": {
        "id": "gzLhdp1L2N-_"
      }
    },
    {
      "cell_type": "markdown",
      "source": [
        "#Basic Concepts of Dynamic Programming and Memoization"
      ],
      "metadata": {
        "id": "2OUyVpbk2SCv"
      }
    },
    {
      "cell_type": "markdown",
      "source": [
        "Dynamic Programming involves breaking down a problem into smaller subproblems, solving each subproblem just once, and storing the solutions for future use to avoid redundant computations. Memoization is a technique used in DP to store the results of expensive function calls and reuse them when the same inputs occur again."
      ],
      "metadata": {
        "id": "4QsxDjEq2ScX"
      }
    },
    {
      "cell_type": "code",
      "execution_count": null,
      "metadata": {
        "id": "hD30Ab_a2GZj"
      },
      "outputs": [],
      "source": [
        "# Memoization example in Python\n",
        "memo = {}\n",
        "\n",
        "def fibonacci(n):\n",
        "    if n in memo:\n",
        "        return memo[n]\n",
        "    if n <= 1:\n",
        "        return n\n",
        "    memo[n] = fibonacci(n-1) + fibonacci(n-2)\n",
        "    return memo[n]"
      ]
    },
    {
      "cell_type": "code",
      "source": [
        "print(\"Fibonacci sequence:\")\n",
        "for i in range(10):\n",
        "    print(fibonacci(i), end=\" \")\n",
        "print()"
      ],
      "metadata": {
        "colab": {
          "base_uri": "https://localhost:8080/"
        },
        "id": "xhbfmktW3Axv",
        "outputId": "48b56089-31aa-40df-d630-0b7df331c585"
      },
      "execution_count": null,
      "outputs": [
        {
          "output_type": "stream",
          "name": "stdout",
          "text": [
            "Fibonacci sequence:\n",
            "0 1 1 2 3 5 8 13 21 34 \n"
          ]
        }
      ]
    },
    {
      "cell_type": "markdown",
      "source": [
        "#Fibonacci Numbers"
      ],
      "metadata": {
        "id": "sFmP5O792u3_"
      }
    },
    {
      "cell_type": "markdown",
      "source": [
        "Fibonacci numbers are a sequence of numbers where each number is the sum of the two preceding ones, usually starting with 0 and 1.\n",
        "\n"
      ],
      "metadata": {
        "id": "xkaodtgd2vRf"
      }
    },
    {
      "cell_type": "code",
      "source": [
        "# Fibonacci sequence using dynamic programming\n",
        "def fibonacci(n):\n",
        "    fib = [0, 1]\n",
        "    for i in range(2, n+1):\n",
        "        fib.append(fib[i-1] + fib[i-2])\n",
        "    return fib[n]"
      ],
      "metadata": {
        "id": "oBxep6OZ2w0_"
      },
      "execution_count": null,
      "outputs": []
    },
    {
      "cell_type": "code",
      "source": [
        "print(\"Fibonacci sequence:\")\n",
        "for i in range(10):\n",
        "    print(fibonacci(i), end=\" \")\n",
        "print()"
      ],
      "metadata": {
        "colab": {
          "base_uri": "https://localhost:8080/"
        },
        "id": "2VuRRnVO3EFH",
        "outputId": "cdac258f-a13b-4897-e5c1-b8846da44d14"
      },
      "execution_count": null,
      "outputs": [
        {
          "output_type": "stream",
          "name": "stdout",
          "text": [
            "Fibonacci sequence:\n",
            "0 1 1 2 3 5 8 13 21 34 \n"
          ]
        }
      ]
    },
    {
      "cell_type": "markdown",
      "source": [
        "# Binomial Coefficients"
      ],
      "metadata": {
        "id": "51SjoEEu21aP"
      }
    },
    {
      "cell_type": "markdown",
      "source": [
        "Binomial coefficients represent the number of ways to choose k elements from a set of n distinct elements."
      ],
      "metadata": {
        "id": "Y8M9mX0y218H"
      }
    },
    {
      "cell_type": "code",
      "source": [
        "# Binomial Coefficient using dynamic programming\n",
        "def binomial_coefficient(n, k):\n",
        "    C = [[0] * (k+1) for _ in range(n+1)]\n",
        "    for i in range(n+1):\n",
        "        for j in range(min(i, k)+1):\n",
        "            if j == 0 or j == i:\n",
        "                C[i][j] = 1\n",
        "            else:\n",
        "                C[i][j] = C[i-1][j-1] + C[i-1][j]\n",
        "    return C[n][k]\n"
      ],
      "metadata": {
        "id": "tIcvoBYX23Qf"
      },
      "execution_count": null,
      "outputs": []
    },
    {
      "cell_type": "code",
      "source": [
        "# Binomial coefficients\n",
        "n = 5\n",
        "k = 2\n",
        "print(f\"Binomial coefficient of ({n}, {k}):\", binomial_coefficient(n, k))"
      ],
      "metadata": {
        "colab": {
          "base_uri": "https://localhost:8080/"
        },
        "id": "6adc020i3HDe",
        "outputId": "6303e3c1-18b6-4065-d741-4b896b045733"
      },
      "execution_count": null,
      "outputs": [
        {
          "output_type": "stream",
          "name": "stdout",
          "text": [
            "Binomial coefficient of (5, 2): 10\n"
          ]
        }
      ]
    },
    {
      "cell_type": "markdown",
      "source": [
        "#Disjoint Intervals"
      ],
      "metadata": {
        "id": "N2pmNmly3cJv"
      }
    },
    {
      "cell_type": "markdown",
      "source": [
        "Disjoint intervals are intervals that do not overlap with each other.\n",
        "\n"
      ],
      "metadata": {
        "id": "ocer879D3c3v"
      }
    },
    {
      "cell_type": "code",
      "source": [
        "# Finding maximum number of disjoint intervals using dynamic programming\n",
        "def max_disjoint_intervals(intervals):\n",
        "    intervals.sort(key=lambda x: x[1])  # Sort intervals by end time\n",
        "    count = 1\n",
        "    end_time = intervals[0][1]\n",
        "    for interval in intervals:\n",
        "        if interval[0] > end_time:\n",
        "            count += 1\n",
        "            end_time = interval[1]\n",
        "    return count"
      ],
      "metadata": {
        "id": "SFGBhAEV3dzv"
      },
      "execution_count": null,
      "outputs": []
    },
    {
      "cell_type": "code",
      "source": [
        "# Disjoint intervals\n",
        "intervals = [(1, 3), (2, 4), (3, 6), (5, 7), (8, 10)]\n",
        "print(\"Maximum number of disjoint intervals:\", max_disjoint_intervals(intervals))"
      ],
      "metadata": {
        "colab": {
          "base_uri": "https://localhost:8080/"
        },
        "id": "W5mjnrB83flA",
        "outputId": "408037ee-0342-4353-949b-9255343885ce"
      },
      "execution_count": null,
      "outputs": [
        {
          "output_type": "stream",
          "name": "stdout",
          "text": [
            "Maximum number of disjoint intervals: 3\n"
          ]
        }
      ]
    },
    {
      "cell_type": "markdown",
      "source": [
        "#Maximum Increasing Subsequence"
      ],
      "metadata": {
        "id": "mJVB_e3t31Uf"
      }
    },
    {
      "cell_type": "markdown",
      "source": [
        "Maximum Increasing Subsequence is the longest subsequence of a given sequence such that all elements of the subsequence are sorted in increasing order.\n",
        "\n"
      ],
      "metadata": {
        "id": "5sJZtii932Mf"
      }
    },
    {
      "cell_type": "code",
      "source": [
        "# Maximum Increasing Subsequence using dynamic programming\n",
        "def max_increasing_subsequence(nums):\n",
        "    dp = [1] * len(nums)\n",
        "    for i in range(1, len(nums)):\n",
        "        for j in range(i):\n",
        "            if nums[i] > nums[j]:\n",
        "                dp[i] = max(dp[i], dp[j] + 1)\n",
        "    return max(dp)"
      ],
      "metadata": {
        "id": "VdmzefOe37OO"
      },
      "execution_count": null,
      "outputs": []
    },
    {
      "cell_type": "code",
      "source": [
        "# Maximum increasing subsequence\n",
        "nums = [3, 10, 2, 1, 20]\n",
        "print(\"Maximum increasing subsequence length:\", max_increasing_subsequence(nums))"
      ],
      "metadata": {
        "colab": {
          "base_uri": "https://localhost:8080/"
        },
        "id": "3zlJMeF_3_bu",
        "outputId": "2e414537-d2a5-4b1b-b9ee-ac7f0cc33084"
      },
      "execution_count": null,
      "outputs": [
        {
          "output_type": "stream",
          "name": "stdout",
          "text": [
            "Maximum increasing subsequence length: 3\n"
          ]
        }
      ]
    },
    {
      "cell_type": "markdown",
      "source": [
        "#Subset Sum and Knapsack"
      ],
      "metadata": {
        "id": "sjUptAQJ4EwG"
      }
    },
    {
      "cell_type": "markdown",
      "source": [
        "Subset Sum and Knapsack are problems where given a set of items each with a weight and a value, we need to determine the maximum value that can be obtained by selecting a subset of the items such that the sum of the weights is less than or equal to a given limit.\n",
        "\n"
      ],
      "metadata": {
        "id": "SsoBq4nT4FSH"
      }
    },
    {
      "cell_type": "code",
      "source": [
        "# Subset Sum using dynamic programming\n",
        "def subset_sum(nums, target):\n",
        "    dp = [False] * (target + 1)\n",
        "    dp[0] = True\n",
        "    for num in nums:\n",
        "        for i in range(target, num-1, -1):\n",
        "            dp[i] = dp[i] or dp[i - num]\n",
        "    return dp[target]"
      ],
      "metadata": {
        "id": "iHJerg4h4IK3"
      },
      "execution_count": null,
      "outputs": []
    },
    {
      "cell_type": "code",
      "source": [
        "# Subset sum\n",
        "nums = [3, 34, 4, 12, 5, 2]\n",
        "target = 9\n",
        "print(\"Is there a subset summing up to the target?\", subset_sum(nums, target))"
      ],
      "metadata": {
        "colab": {
          "base_uri": "https://localhost:8080/"
        },
        "id": "FGfKic9h4K_v",
        "outputId": "87a78460-3fe7-4103-c208-f84f5c14c9f3"
      },
      "execution_count": null,
      "outputs": [
        {
          "output_type": "stream",
          "name": "stdout",
          "text": [
            "Is there a subset summing up to the target? True\n"
          ]
        }
      ]
    },
    {
      "cell_type": "markdown",
      "source": [
        "#Fair Partition"
      ],
      "metadata": {
        "id": "2n3DPSGU4QtI"
      }
    },
    {
      "cell_type": "markdown",
      "source": [
        "Fair Partition is a problem where given a set of numbers, the task is to divide them into two subsets such that the difference between the sum of elements in the subsets is minimized.\n",
        "\n"
      ],
      "metadata": {
        "id": "nh1ldoMG4Tsf"
      }
    },
    {
      "cell_type": "code",
      "source": [
        "# Fair Partition using dynamic programming\n",
        "def fair_partition(nums):\n",
        "    total_sum = sum(nums)\n",
        "    half_sum = total_sum // 2\n",
        "    dp = [False] * (half_sum + 1)\n",
        "    dp[0] = True\n",
        "    for num in nums:\n",
        "        for i in range(half_sum, num-1, -1):\n",
        "            dp[i] = dp[i] or dp[i - num]\n",
        "    for i in range(half_sum, -1, -1):\n",
        "        if dp[i]:\n",
        "            return total_sum - 2 * i"
      ],
      "metadata": {
        "id": "WxxfTcVC4UCI"
      },
      "execution_count": null,
      "outputs": []
    },
    {
      "cell_type": "code",
      "source": [
        "# Fair partition\n",
        "nums = [1, 6, 11, 5]\n",
        "print(\"Minimum difference for fair partition:\", fair_partition(nums))"
      ],
      "metadata": {
        "id": "esiAM8EF4WWu",
        "outputId": "75166cc6-150e-459b-f8a5-767dd93ea58c",
        "colab": {
          "base_uri": "https://localhost:8080/"
        }
      },
      "execution_count": null,
      "outputs": [
        {
          "output_type": "stream",
          "name": "stdout",
          "text": [
            "Minimum difference for fair partition: 1\n"
          ]
        }
      ]
    }
  ]
}