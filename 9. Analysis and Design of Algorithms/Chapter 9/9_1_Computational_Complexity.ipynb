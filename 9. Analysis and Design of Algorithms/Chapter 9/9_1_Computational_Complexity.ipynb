{
  "nbformat": 4,
  "nbformat_minor": 0,
  "metadata": {
    "colab": {
      "provenance": []
    },
    "kernelspec": {
      "name": "python3",
      "display_name": "Python 3"
    },
    "language_info": {
      "name": "python"
    }
  },
  "cells": [
    {
      "cell_type": "markdown",
      "source": [
        "#Computational Complexity"
      ],
      "metadata": {
        "id": "nZVpRAxfpqoa"
      }
    },
    {
      "cell_type": "markdown",
      "source": [
        "Computational complexity theory deals with understanding the resources (such as time and space) required by algorithms to solve computational problems.\n",
        "\n"
      ],
      "metadata": {
        "id": "1qxtvwzDpqHr"
      }
    },
    {
      "cell_type": "markdown",
      "source": [
        "#Polynomial Reductions: Definition and Examples"
      ],
      "metadata": {
        "id": "ETWK5syJptga"
      }
    },
    {
      "cell_type": "markdown",
      "source": [
        "Polynomial reductions are a fundamental concept in computational complexity theory, used to establish relationships between different computational problems."
      ],
      "metadata": {
        "id": "Ms9qw7X2puci"
      }
    },
    {
      "cell_type": "markdown",
      "source": [
        "A polynomial reduction from problem A to problem B is a transformation that converts instances of problem A into instances of problem B in polynomial time. If problem A can be reduced to problem B, then solving problem B efficiently implies the ability to solve problem A efficiently.\n",
        "\n"
      ],
      "metadata": {
        "id": "wwMTBghHp3AK"
      }
    },
    {
      "cell_type": "code",
      "execution_count": null,
      "metadata": {
        "id": "fQim6z52plbR"
      },
      "outputs": [],
      "source": [
        "def reduce_3sat_to_vertex_cover(clauses):\n",
        "    graph = {}\n",
        "    clause_idx = 0\n",
        "\n",
        "    for clause in clauses:\n",
        "        v1, v2, v3 = clause\n",
        "        # Create vertices and edges based on 3-SAT clause\n",
        "        graph[f\"v{clause_idx}_1\"] = [f\"v{clause_idx}_2\", f\"v{clause_idx}_3\"]\n",
        "        graph[f\"v{clause_idx}_2\"] = [f\"v{clause_idx}_1\", f\"v{clause_idx}_3\"]\n",
        "        graph[f\"v{clause_idx}_3\"] = [f\"v{clause_idx}_1\", f\"v{clause_idx}_2\"]\n",
        "        clause_idx += 1\n",
        "\n",
        "    return graph"
      ]
    },
    {
      "cell_type": "code",
      "source": [
        "# Example 3-SAT clauses\n",
        "clauses = [\n",
        "    ('x1', 'x2', 'not x3'),\n",
        "    ('not x1', 'x2', 'x4'),\n",
        "    ('x3', 'not x4', 'x5')\n",
        "]\n",
        "\n",
        "# Apply reduction\n",
        "graph = reduce_3sat_to_vertex_cover(clauses)\n",
        "print(\"Graph representation after reduction:\")\n",
        "print(graph)"
      ],
      "metadata": {
        "colab": {
          "base_uri": "https://localhost:8080/"
        },
        "id": "bAaWul14qVSb",
        "outputId": "758ac7f6-b14f-4d20-af51-bd7d0cb13dfd"
      },
      "execution_count": null,
      "outputs": [
        {
          "output_type": "stream",
          "name": "stdout",
          "text": [
            "Graph representation after reduction:\n",
            "{'v0_1': ['v0_2', 'v0_3'], 'v0_2': ['v0_1', 'v0_3'], 'v0_3': ['v0_1', 'v0_2'], 'v1_1': ['v1_2', 'v1_3'], 'v1_2': ['v1_1', 'v1_3'], 'v1_3': ['v1_1', 'v1_2'], 'v2_1': ['v2_2', 'v2_3'], 'v2_2': ['v2_1', 'v2_3'], 'v2_3': ['v2_1', 'v2_2']}\n"
          ]
        }
      ]
    },
    {
      "cell_type": "code",
      "source": [
        "def reduce_hamiltonian_cycle_to_tsp(graph):\n",
        "    tsp_graph = {}\n",
        "    vertices = list(graph.keys())\n",
        "\n",
        "    for i in range(len(vertices)):\n",
        "        for j in range(len(vertices)):\n",
        "            if i != j:\n",
        "                vertex_i = vertices[i]\n",
        "                vertex_j = vertices[j]\n",
        "                if vertex_j in graph[vertex_i]:  # Check if there's an edge between vertex_i and vertex_j\n",
        "                    tsp_graph[(vertex_i, vertex_j)] = graph[vertex_i][vertex_j]\n",
        "\n",
        "    return tsp_graph\n",
        "\n",
        "# Example graph representing Hamiltonian Cycle\n",
        "hamiltonian_graph = {\n",
        "    'A': {'B': 1, 'C': 2},\n",
        "    'B': {'A': 1, 'C': 3, 'D': 2},\n",
        "    'C': {'A': 2, 'B': 3, 'D': 1},\n",
        "    'D': {'B': 2, 'C': 1}\n",
        "}\n",
        "\n",
        "# Apply reduction correctly\n",
        "tsp_graph = reduce_hamiltonian_cycle_to_tsp(hamiltonian_graph)\n",
        "print(\"TSP graph representation after reduction:\")\n",
        "print(tsp_graph)\n"
      ],
      "metadata": {
        "colab": {
          "base_uri": "https://localhost:8080/"
        },
        "id": "7Lmp8ZmXqV4y",
        "outputId": "606af5aa-cee8-4510-95f4-6a3a5be88f07"
      },
      "execution_count": null,
      "outputs": [
        {
          "output_type": "stream",
          "name": "stdout",
          "text": [
            "TSP graph representation after reduction:\n",
            "{('A', 'B'): 1, ('A', 'C'): 2, ('B', 'A'): 1, ('B', 'C'): 3, ('B', 'D'): 2, ('C', 'A'): 2, ('C', 'B'): 3, ('C', 'D'): 1, ('D', 'B'): 2, ('D', 'C'): 1}\n"
          ]
        }
      ]
    },
    {
      "cell_type": "markdown",
      "source": [
        "#The Class NP"
      ],
      "metadata": {
        "id": "m9Ix8fPUq8cS"
      }
    },
    {
      "cell_type": "markdown",
      "source": [
        "The class NP (Nondeterministic Polynomial time) consists of decision problems for which a given solution can be verified in polynomial time by a deterministic Turing machine. This means that if someone provides a solution to an NP problem, we can efficiently check whether the solution is correct.\n",
        "\n"
      ],
      "metadata": {
        "id": "xRv3gtikrB1i"
      }
    },
    {
      "cell_type": "code",
      "source": [
        "class SubsetSum:\n",
        "    def __init__(self, nums, target_sum):\n",
        "        self.nums = nums\n",
        "        self.target_sum = target_sum\n",
        "\n",
        "    def verify_solution(self, subset):\n",
        "        # Verify if the subset sums to the target_sum\n",
        "        return sum(subset) == self.target_sum and set(subset).issubset(self.nums)\n",
        "\n",
        "# Example usage\n",
        "nums = [3, 1, 7, 9, 4]\n",
        "target_sum = 12\n",
        "subset = [3, 9]  # Example solution\n",
        "problem = SubsetSum(nums, target_sum)\n",
        "is_valid = problem.verify_solution(subset)\n",
        "print(f\"Is the subset {subset} a valid solution? {is_valid}\")"
      ],
      "metadata": {
        "colab": {
          "base_uri": "https://localhost:8080/"
        },
        "id": "0NfamqVorCKK",
        "outputId": "1dc68df1-5548-4efe-afc7-52be29f16cbb"
      },
      "execution_count": null,
      "outputs": [
        {
          "output_type": "stream",
          "name": "stdout",
          "text": [
            "Is the subset [3, 9] a valid solution? True\n"
          ]
        }
      ]
    },
    {
      "cell_type": "markdown",
      "source": [
        "#The Class NP-Complete\n"
      ],
      "metadata": {
        "id": "9cUaNtS5rFli"
      }
    },
    {
      "cell_type": "markdown",
      "source": [
        "A problem is NP-complete if it belongs to the class NP and every problem in NP can be polynomial-time reducible to it. In other words, an NP-complete problem is among the hardest problems in NP, and if any NP-complete problem can be solved efficiently, then all problems in NP can be solved efficiently (implying P = NP).\n",
        "\n"
      ],
      "metadata": {
        "id": "qkkLRyDIrGai"
      }
    },
    {
      "cell_type": "code",
      "source": [
        "import itertools\n",
        "\n",
        "class TSP:\n",
        "    def __init__(self, distances):\n",
        "        self.distances = distances\n",
        "\n",
        "    def verify_solution(self, route):\n",
        "        # Verify if the route visits each city exactly once and returns to the origin\n",
        "        cities = set(route)\n",
        "        return len(route) == len(self.distances) and cities == set(self.distances.keys()) and route[0] == route[-1]\n",
        "\n",
        "# Example usage\n",
        "distances = {\n",
        "    'A': {'B': 10, 'C': 15, 'D': 20},\n",
        "    'B': {'A': 10, 'C': 35, 'D': 25},\n",
        "    'C': {'A': 15, 'B': 35, 'D': 30},\n",
        "    'D': {'A': 20, 'B': 25, 'C': 30}\n",
        "}\n",
        "cities = list(distances.keys())\n",
        "shortest_route = min(itertools.permutations(cities), key=lambda route: sum(distances[route[i]][route[i + 1]] for i in range(len(route) - 1)))\n",
        "problem = TSP(distances)\n",
        "is_valid = problem.verify_solution(list(shortest_route) + [shortest_route[0]])\n",
        "print(f\"Is the route {shortest_route} a valid TSP solution? {is_valid}\")"
      ],
      "metadata": {
        "colab": {
          "base_uri": "https://localhost:8080/"
        },
        "id": "S1dAdiS5rPJW",
        "outputId": "da7c2b81-b93d-4c00-b79f-17b19ac81e05"
      },
      "execution_count": null,
      "outputs": [
        {
          "output_type": "stream",
          "name": "stdout",
          "text": [
            "Is the route ('C', 'A', 'B', 'D') a valid TSP solution? False\n"
          ]
        }
      ]
    },
    {
      "cell_type": "markdown",
      "source": [
        "#Cook's Theorem\n"
      ],
      "metadata": {
        "id": "2_Z2KR0jrR6m"
      }
    },
    {
      "cell_type": "markdown",
      "source": [
        "Cook's theorem asserts that the Boolean satisfiability problem (SAT) is NP-complete. This foundational result demonstrates the existence of NP-complete problems and their importance in theoretical computer science."
      ],
      "metadata": {
        "id": "uf0n2LVkrSVm"
      }
    },
    {
      "cell_type": "code",
      "source": [
        "%pip install pycosat"
      ],
      "metadata": {
        "colab": {
          "base_uri": "https://localhost:8080/"
        },
        "id": "65gAmEcprc5D",
        "outputId": "6fd85a6b-ae2c-4970-c29e-da61a0359c30"
      },
      "execution_count": null,
      "outputs": [
        {
          "output_type": "stream",
          "name": "stdout",
          "text": [
            "Collecting pycosat\n",
            "  Downloading pycosat-0.6.6.tar.gz (71 kB)\n",
            "\u001b[?25l     \u001b[90m━━━━━━━━━━━━━━━━━━━━━━━━━━━━━━━━━━━━━━━━\u001b[0m \u001b[32m0.0/71.6 kB\u001b[0m \u001b[31m?\u001b[0m eta \u001b[36m-:--:--\u001b[0m\r\u001b[2K     \u001b[90m━━━━━━━━━━━━━━━━━━━━━━━━━━━━━━━━━━━━━━━━\u001b[0m \u001b[32m71.6/71.6 kB\u001b[0m \u001b[31m2.1 MB/s\u001b[0m eta \u001b[36m0:00:00\u001b[0m\n",
            "\u001b[?25h  Preparing metadata (setup.py) ... \u001b[?25l\u001b[?25hdone\n",
            "Building wheels for collected packages: pycosat\n",
            "  Building wheel for pycosat (setup.py) ... \u001b[?25l\u001b[?25hdone\n",
            "  Created wheel for pycosat: filename=pycosat-0.6.6-cp310-cp310-linux_x86_64.whl size=169339 sha256=03a4f5e7117fa44f6bee85fc31860765c064454e7d6ca7e6fd42927fdfa1aeec\n",
            "  Stored in directory: /root/.cache/pip/wheels/63/29/df/b8c22ca5812e2d7b342269a53add280b5bad42a540f34c3dc1\n",
            "Successfully built pycosat\n",
            "Installing collected packages: pycosat\n",
            "Successfully installed pycosat-0.6.6\n"
          ]
        }
      ]
    },
    {
      "cell_type": "code",
      "source": [
        "import pycosat\n",
        "\n",
        "def solve_sat(formula):\n",
        "    result = pycosat.solve(formula)\n",
        "    return result if result != \"UNSAT\" else None\n",
        "\n",
        "# Example SAT formula (¬x1 ∨ x2) ∧ (x1 ∨ x3 ∨ ¬x2)\n",
        "formula = [[-1, 2], [1, 3, -2]]\n",
        "solution = solve_sat(formula)\n",
        "print(f\"Solution to SAT formula: {solution}\")"
      ],
      "metadata": {
        "colab": {
          "base_uri": "https://localhost:8080/"
        },
        "id": "JMol2-IZrbCz",
        "outputId": "678455de-a228-4e1d-8343-fd0a1d88f38a"
      },
      "execution_count": null,
      "outputs": [
        {
          "output_type": "stream",
          "name": "stdout",
          "text": [
            "Solution to SAT formula: [-1, 2, 3]\n"
          ]
        }
      ]
    },
    {
      "cell_type": "markdown",
      "source": [
        "#Strategy to Prove a Problem is NP-Complete\n",
        "1. Show that the problem is in NP: Design an algorithm (verifier) that can verify a potential solution to the problem in polynomial time.\n",
        "\n",
        "2. Select a Known NP-Complete Problem: Choose a problem that is already established as NP-complete, such as the Boolean satisfiability problem (SAT).\n",
        "\n",
        "3. Construct a Reduction: Design a polynomial-time reduction from the known NP-complete problem to the new problem. This reduction transforms instances of the known problem into instances of the new problem.\n",
        "\n",
        "4. Use Transitivity of NP-Completeness: Show that if the new problem can be solved efficiently, then the known NP-complete problem can also be solved efficiently using the reduction."
      ],
      "metadata": {
        "id": "cWgHITMbrs2y"
      }
    },
    {
      "cell_type": "code",
      "source": [
        "class GraphColoringProblem:\n",
        "    def __init__(self, graph, k):\n",
        "        self.graph = graph\n",
        "        self.k = k  # Number of colors\n",
        "\n",
        "    def verify_solution(self, coloring):\n",
        "        for node in self.graph:\n",
        "            if node not in coloring:\n",
        "                return False  # Ensure every node has a color assigned\n",
        "            node_color = coloring[node]\n",
        "            for neighbor in self.graph[node]:\n",
        "                if neighbor not in coloring:\n",
        "                    return False  # Ensure every neighbor has a color assigned\n",
        "                if node_color == coloring[neighbor]:\n",
        "                    return False  # Check if adjacent nodes have different colors\n",
        "        return True\n",
        "\n",
        "import pycosat\n",
        "\n",
        "def solve_sat(formula):\n",
        "    result = pycosat.solve(formula)\n",
        "    return result if result != \"UNSAT\" else None\n",
        "\n",
        "def reduce_sat_to_graph_coloring(sat_formula):\n",
        "    graph = {}\n",
        "\n",
        "    for clause_idx, clause in enumerate(sat_formula):\n",
        "        for literal in clause:\n",
        "            if literal > 0:\n",
        "                pos_node = f\"pos_{literal}\"\n",
        "                neg_node = f\"neg_{literal}\"\n",
        "            else:\n",
        "                pos_node = f\"neg_{-literal}\"\n",
        "                neg_node = f\"pos_{-literal}\"\n",
        "\n",
        "            graph.setdefault(pos_node, []).append(neg_node)\n",
        "            graph.setdefault(neg_node, []).append(pos_node)\n",
        "\n",
        "    k = len(sat_formula)\n",
        "    return graph, k\n",
        "\n",
        "# Example SAT formula (¬x1 ∨ x2) ∧ (x1 ∨ x3 ∨ ¬x2)\n",
        "sat_formula = [[-1, 2], [1, 3, -2]]\n",
        "graph, k = reduce_sat_to_graph_coloring(sat_formula)\n",
        "\n",
        "# Verify the reduction\n",
        "problem = GraphColoringProblem(graph, k)\n",
        "is_valid = problem.verify_solution({node: color for node, color in zip(graph.keys(), range(1, k + 1))})\n",
        "print(f\"Is the graph coloring valid? {is_valid}\")\n"
      ],
      "metadata": {
        "colab": {
          "base_uri": "https://localhost:8080/"
        },
        "id": "pED2Kquzr1wF",
        "outputId": "098f0af2-a33d-475b-c69c-1ac7f784dc51"
      },
      "execution_count": null,
      "outputs": [
        {
          "output_type": "stream",
          "name": "stdout",
          "text": [
            "Is the graph coloring valid? False\n"
          ]
        }
      ]
    }
  ]
}