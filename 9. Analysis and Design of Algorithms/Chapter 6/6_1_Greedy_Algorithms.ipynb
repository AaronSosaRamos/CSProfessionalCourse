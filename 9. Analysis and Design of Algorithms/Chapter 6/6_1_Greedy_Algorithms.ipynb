{
  "nbformat": 4,
  "nbformat_minor": 0,
  "metadata": {
    "colab": {
      "provenance": []
    },
    "kernelspec": {
      "name": "python3",
      "display_name": "Python 3"
    },
    "language_info": {
      "name": "python"
    }
  },
  "cells": [
    {
      "cell_type": "markdown",
      "source": [
        "#Greedy Algorithms"
      ],
      "metadata": {
        "id": "HQKQoVeN41np"
      }
    },
    {
      "cell_type": "markdown",
      "source": [
        "Greedy algorithms make locally optimal choices at each step with the hope of finding a global optimum. In other words, they choose the best option at the current moment without considering future consequences.\n",
        "\n"
      ],
      "metadata": {
        "id": "urKJt20E48hX"
      }
    },
    {
      "cell_type": "markdown",
      "source": [
        "#Basic Concepts of Greedy Strategy"
      ],
      "metadata": {
        "id": "Z69nQzuF4-EH"
      }
    },
    {
      "cell_type": "markdown",
      "source": [
        "Greedy algorithms are a class of algorithms that aim to find the optimal solution to a problem by making a series of locally optimal choices. At each step of the algorithm, a decision is made that appears to be the best choice at that moment, without considering the consequences of this decision in the future. The hope is that by consistently making these locally optimal choices, the algorithm will eventually reach an overall optimal solution.\n",
        "\n",
        "Key Characteristics of Greedy Algorithms:\n",
        "1. Greedy Choice Property: This is the key characteristic of greedy algorithms. At each step, the algorithm makes the choice that appears to be the best at that moment, without considering the overall consequences. In other words, it selects the locally optimal solution.\n",
        "\n",
        "2. Optimal Substructure: Greedy algorithms typically rely on the principle of optimal substructure, meaning that the optimal solution to a problem can be constructed from the optimal solutions of its subproblems. This property allows the algorithm to make decisions at each step without needing to reconsider previous choices.\n",
        "\n",
        "Steps in Designing a Greedy Algorithm:\n",
        "1. Problem Identification: Identify the problem and determine if it can be solved using a greedy approach. Greedy algorithms are suitable for problems where making locally optimal choices leads to a globally optimal solution.\n",
        "\n",
        "2. Greedy Choice: Determine the criteria for making the greedy choice at each step. This involves defining a rule or heuristic that selects the best available option without considering future consequences.\n",
        "\n",
        "3. Optimal Substructure: Verify that the problem exhibits the optimal substructure property, meaning that the optimal solution to the problem can be constructed from the optimal solutions of its subproblems.\n",
        "\n",
        "4. Proof of Correctness: Prove that the greedy algorithm always produces the correct solution. This often involves demonstrating that the locally optimal choices made by the algorithm lead to a globally optimal solution."
      ],
      "metadata": {
        "id": "vI4iomZt4-t-"
      }
    },
    {
      "cell_type": "code",
      "execution_count": null,
      "metadata": {
        "colab": {
          "base_uri": "https://localhost:8080/"
        },
        "id": "9Mbytctx4yBh",
        "outputId": "4c24ab3c-3e35-4e87-bb9c-dbfd4d205558"
      },
      "outputs": [
        {
          "output_type": "stream",
          "name": "stdout",
          "text": [
            "Minimum number of coins needed: 4\n"
          ]
        }
      ],
      "source": [
        "def min_coins(coins, amount):\n",
        "    coins.sort(reverse=True)  # Sort coins in descending order\n",
        "    coin_count = 0\n",
        "    for coin in coins:\n",
        "        while amount >= coin:\n",
        "            amount -= coin\n",
        "            coin_count += 1\n",
        "    return coin_count\n",
        "\n",
        "# Example usage:\n",
        "coins = [1, 2, 5, 10, 20, 50, 100, 200]\n",
        "amount = 123\n",
        "print(\"Minimum number of coins needed:\", min_coins(coins, amount))"
      ]
    },
    {
      "cell_type": "markdown",
      "source": [
        "#Techniques for Proving the Correctness of a Greedy Algorithm"
      ],
      "metadata": {
        "id": "xSGcWVWU5tpX"
      }
    },
    {
      "cell_type": "markdown",
      "source": [
        "While designing a greedy algorithm, it's crucial to ensure that the algorithm always produces the correct solution. Proving the correctness of a greedy algorithm involves demonstrating that the locally optimal choices made at each step lead to a globally optimal solution. Several techniques can be employed to establish the correctness of a greedy algorithm:\n",
        "\n",
        "1. Greedy-Choice Property:\n",
        "* The fundamental characteristic of a greedy algorithm is the greedy-choice property, which states that at each step, the locally optimal choice leads to the optimal solution overall.\n",
        "* To prove the greedy-choice property, demonstrate that selecting the locally optimal choice at each step never leads to a suboptimal solution.\n",
        "2. Optimal Substructure:\n",
        "* Greedy algorithms often rely on the principle of optimal substructure, which means that the optimal solution to a problem can be constructed from the optimal solutions of its subproblems.\n",
        "* Prove that the problem exhibits the optimal substructure property, ensuring that the optimal solution can be built incrementally from locally optimal solutions.\n",
        "3. Proof by Contradiction:\n",
        "* Employ proof by contradiction to establish the correctness of the greedy algorithm.\n",
        "* Assume that the greedy algorithm fails to produce the optimal solution and leads to a suboptimal solution instead.\n",
        "* Show that this assumption leads to a contradiction, thus proving that the greedy algorithm always produces the optimal solution.\n",
        "4. Exchange Argument:\n",
        "* Use an exchange argument to demonstrate that any locally optimal solution can be transformed into a globally optimal solution.\n",
        "* Suppose there exists a locally optimal solution that differs from the globally optimal solution.\n",
        "* Show that it's possible to exchange or transform parts of the locally optimal solution to obtain a solution that is at least as good as the globally optimal solution."
      ],
      "metadata": {
        "id": "CS7tzJMM5uHP"
      }
    },
    {
      "cell_type": "code",
      "source": [
        "def max_activities(activities):\n",
        "    activities.sort(key=lambda x: x[1])  # Sort activities by finish time\n",
        "    selected = [activities[0]]  # Select the first activity\n",
        "    last_finish_time = activities[0][1]\n",
        "    for activity in activities[1:]:\n",
        "        if activity[0] >= last_finish_time:\n",
        "            selected.append(activity)\n",
        "            last_finish_time = activity[1]\n",
        "    return selected\n",
        "\n",
        "# Example usage:\n",
        "activities = [(1, 4), (3, 5), (0, 6), (5, 7), (3, 8), (5, 9), (6, 10), (8, 11), (8, 12), (2, 13), (12, 14)]\n",
        "selected_activities = max_activities(activities)\n",
        "print(\"Selected Activities:\", selected_activities)\n"
      ],
      "metadata": {
        "colab": {
          "base_uri": "https://localhost:8080/"
        },
        "id": "R2DiXYa35tgn",
        "outputId": "488a7a46-1d19-435d-b7df-6b8790d09039"
      },
      "execution_count": null,
      "outputs": [
        {
          "output_type": "stream",
          "name": "stdout",
          "text": [
            "Selected Activities: [(1, 4), (5, 7), (8, 11), (12, 14)]\n"
          ]
        }
      ]
    },
    {
      "cell_type": "markdown",
      "source": [
        "#Disjoint Intervals"
      ],
      "metadata": {
        "id": "c5JX5JQ27RBH"
      }
    },
    {
      "cell_type": "markdown",
      "source": [
        "Greedy algorithms can efficiently solve problems involving disjoint intervals by sorting them based on some criteria and selecting intervals one by one.\n",
        "\n"
      ],
      "metadata": {
        "id": "oKj3B3TC7Rs2"
      }
    },
    {
      "cell_type": "code",
      "source": [
        "# Greedy algorithm for maximum number of disjoint intervals\n",
        "def max_disjoint_intervals(intervals):\n",
        "    intervals.sort(key=lambda x: x[1])  # Sort intervals by end time\n",
        "    count = 1\n",
        "    end_time = intervals[0][1]\n",
        "    for interval in intervals:\n",
        "        if interval[0] > end_time:\n",
        "            count += 1\n",
        "            end_time = interval[1]\n",
        "    return count\n"
      ],
      "metadata": {
        "id": "xFaAtBFu7Ucu"
      },
      "execution_count": null,
      "outputs": []
    },
    {
      "cell_type": "code",
      "source": [
        "# Applying the function for disjoint intervals\n",
        "intervals = [(1, 3), (2, 4), (3, 6), (5, 7), (8, 10)]\n",
        "print(\"Maximum number of disjoint intervals:\", max_disjoint_intervals(intervals))"
      ],
      "metadata": {
        "colab": {
          "base_uri": "https://localhost:8080/"
        },
        "id": "48feCJ_973lG",
        "outputId": "d7487a50-a3ca-4f68-f846-26158e729a4e"
      },
      "execution_count": null,
      "outputs": [
        {
          "output_type": "stream",
          "name": "stdout",
          "text": [
            "Maximum number of disjoint intervals: 3\n"
          ]
        }
      ]
    },
    {
      "cell_type": "markdown",
      "source": [
        "#Task Scheduling"
      ],
      "metadata": {
        "id": "hkQAzYWm7XI_"
      }
    },
    {
      "cell_type": "markdown",
      "source": [
        "In task scheduling, greedy algorithms can prioritize tasks based on certain criteria such as deadline or duration to maximize efficiency.\n",
        "\n"
      ],
      "metadata": {
        "id": "arl_LV6z7YTP"
      }
    },
    {
      "cell_type": "code",
      "source": [
        "# Greedy algorithm for task scheduling\n",
        "def schedule_tasks(tasks):\n",
        "    tasks.sort(key=lambda x: x[1])  # Sort tasks by end time\n",
        "    schedule = []\n",
        "    last_end_time = 0\n",
        "    for task in tasks:\n",
        "        if task[0] >= last_end_time:\n",
        "            schedule.append(task)\n",
        "            last_end_time = task[1]\n",
        "    return schedule"
      ],
      "metadata": {
        "id": "BuKwG1_97kR3"
      },
      "execution_count": null,
      "outputs": []
    },
    {
      "cell_type": "code",
      "source": [
        "# Applying the function for task scheduling\n",
        "tasks = [(1, 4), (3, 5), (0, 6), (5, 7), (3, 8), (5, 9), (6, 10), (8, 11), (8, 12), (2, 13), (12, 14)]\n",
        "scheduled_tasks = schedule_tasks(tasks)\n",
        "print(\"Scheduled Tasks:\", scheduled_tasks)"
      ],
      "metadata": {
        "colab": {
          "base_uri": "https://localhost:8080/"
        },
        "id": "gND03viv75h3",
        "outputId": "8ec3c718-8574-4879-f08f-7d04dd7619df"
      },
      "execution_count": null,
      "outputs": [
        {
          "output_type": "stream",
          "name": "stdout",
          "text": [
            "Scheduled Tasks: [(1, 4), (5, 7), (8, 11), (12, 14)]\n"
          ]
        }
      ]
    },
    {
      "cell_type": "markdown",
      "source": [
        "#Fractional Knapsack Problem"
      ],
      "metadata": {
        "id": "l54i1u_x7ZI3"
      }
    },
    {
      "cell_type": "markdown",
      "source": [
        "The fractional knapsack problem involves selecting fractions of items to maximize the value within a given weight constraint.\n"
      ],
      "metadata": {
        "id": "ViXMaB3E7caX"
      }
    },
    {
      "cell_type": "code",
      "source": [
        "# Greedy algorithm for fractional knapsack problem\n",
        "def fractional_knapsack(items, capacity):\n",
        "    items.sort(key=lambda x: x[1] / x[0], reverse=True)  # Sort items by value-to-weight ratio\n",
        "    total_value = 0\n",
        "    for item in items:\n",
        "        if capacity >= item[0]:\n",
        "            total_value += item[1]\n",
        "            capacity -= item[0]\n",
        "        else:\n",
        "            total_value += item[1] * (capacity / item[0])\n",
        "            break\n",
        "    return total_value"
      ],
      "metadata": {
        "id": "kvzoG0U07rIv"
      },
      "execution_count": null,
      "outputs": []
    },
    {
      "cell_type": "code",
      "source": [
        "# Applying the function for the fractional knapsack problem\n",
        "items = [(10, 60), (20, 100), (30, 120)]  # (weight, value) pairs\n",
        "capacity = 50\n",
        "max_value = fractional_knapsack(items, capacity)\n",
        "print(\"Maximum value obtained from fractional knapsack:\", max_value)"
      ],
      "metadata": {
        "colab": {
          "base_uri": "https://localhost:8080/"
        },
        "id": "dWwO6WF-77D-",
        "outputId": "3bfd85dc-6ac1-456a-81f4-49cf6584ae20"
      },
      "execution_count": null,
      "outputs": [
        {
          "output_type": "stream",
          "name": "stdout",
          "text": [
            "Maximum value obtained from fractional knapsack: 240.0\n"
          ]
        }
      ]
    },
    {
      "cell_type": "markdown",
      "source": [
        "#Huffman Coding: Recursive Implementation and Priority Queue Implementation"
      ],
      "metadata": {
        "id": "mD2Vj6YB7h4X"
      }
    },
    {
      "cell_type": "markdown",
      "source": [
        "Huffman coding is a method of lossless data compression that assigns variable-length codes to input characters based on their frequencies."
      ],
      "metadata": {
        "id": "tw_ZY7cJ7tTX"
      }
    },
    {
      "cell_type": "code",
      "source": [
        "# Recursive implementation of Huffman Coding\n",
        "# (No specific code example provided here, as it requires a tree data structure)\n",
        "\n",
        "# Priority Queue implementation of Huffman Coding\n",
        "import heapq\n",
        "\n",
        "def huffman_coding(freq):\n",
        "    heap = [[f, [char, \"\"]] for char, f in freq.items()]\n",
        "    heapq.heapify(heap)\n",
        "    while len(heap) > 1:\n",
        "        lo = heapq.heappop(heap)\n",
        "        hi = heapq.heappop(heap)\n",
        "        for pair in lo[1:]:\n",
        "            pair[1] = '0' + pair[1]\n",
        "        for pair in hi[1:]:\n",
        "            pair[1] = '1' + pair[1]\n",
        "        heapq.heappush(heap, [lo[0] + hi[0]] + lo[1:] + hi[1:])\n",
        "    return sorted(heapq.heappop(heap)[1:], key=lambda p: (len(p[-1]), p))\n",
        "\n",
        "# Example usage:\n",
        "freq = {'a': 5, 'b': 9, 'c': 12, 'd': 13, 'e': 16, 'f': 45}\n",
        "huffman_codes = huffman_coding(freq)\n",
        "print(\"Huffman Codes:\")\n",
        "for char, code in huffman_codes:\n",
        "    print(f\"{char}: {code}\")\n"
      ],
      "metadata": {
        "colab": {
          "base_uri": "https://localhost:8080/"
        },
        "id": "QsnWPIkP7s5H",
        "outputId": "f299f232-52aa-4b88-eb9e-092db5840237"
      },
      "execution_count": null,
      "outputs": [
        {
          "output_type": "stream",
          "name": "stdout",
          "text": [
            "Huffman Codes:\n",
            "f: 0\n",
            "c: 100\n",
            "d: 101\n",
            "e: 111\n",
            "a: 1100\n",
            "b: 1101\n"
          ]
        }
      ]
    }
  ]
}