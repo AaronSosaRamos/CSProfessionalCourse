{
  "nbformat": 4,
  "nbformat_minor": 0,
  "metadata": {
    "colab": {
      "provenance": []
    },
    "kernelspec": {
      "name": "python3",
      "display_name": "Python 3"
    },
    "language_info": {
      "name": "python"
    }
  },
  "cells": [
    {
      "cell_type": "markdown",
      "source": [
        "#Analysis and Design of Algorithms"
      ],
      "metadata": {
        "id": "PZBuaaAw26So"
      }
    },
    {
      "cell_type": "markdown",
      "source": [
        "#Sorting Algorithms, Intuitive Comparison of Execution Time"
      ],
      "metadata": {
        "id": "pdaiABQn2_mv"
      }
    },
    {
      "cell_type": "markdown",
      "source": [
        "Sorting algorithms are algorithms that put elements of a list in a certain order. Intuitively comparing the execution time between two sorting algorithms involves analyzing their performance characteristics such as time complexity, space complexity, and best, worst, and average-case scenarios.\n",
        "\n"
      ],
      "metadata": {
        "id": "rMTHECse3ATf"
      }
    },
    {
      "cell_type": "code",
      "execution_count": null,
      "metadata": {
        "colab": {
          "base_uri": "https://localhost:8080/"
        },
        "id": "lRsKqVV22xts",
        "outputId": "8a603891-5356-4f82-c720-19bbdd92b007"
      },
      "outputs": [
        {
          "output_type": "stream",
          "name": "stdout",
          "text": [
            "Bubble Sort Time: 0.169447660446167\n",
            "Quick Sort Time: 0.0039217472076416016\n"
          ]
        }
      ],
      "source": [
        "# Example of comparing the execution time of two sorting algorithms in Python\n",
        "\n",
        "import time\n",
        "import random\n",
        "\n",
        "# Bubble sort algorithm\n",
        "def bubble_sort(arr):\n",
        "    n = len(arr)\n",
        "    for i in range(n):\n",
        "        for j in range(0, n-i-1):\n",
        "            if arr[j] > arr[j+1]:\n",
        "                arr[j], arr[j+1] = arr[j+1], arr[j]\n",
        "\n",
        "# Quick sort algorithm\n",
        "def quick_sort(arr):\n",
        "    if len(arr) <= 1:\n",
        "        return arr\n",
        "    pivot = arr[len(arr)//2]\n",
        "    left = [x for x in arr if x < pivot]\n",
        "    middle = [x for x in arr if x == pivot]\n",
        "    right = [x for x in arr if x > pivot]\n",
        "    return quick_sort(left) + middle + quick_sort(right)\n",
        "\n",
        "# Generate a random list\n",
        "random_list = [random.randint(0, 1000) for _ in range(1000)]\n",
        "\n",
        "# Measure execution time for bubble sort\n",
        "start_time = time.time()\n",
        "bubble_sort(random_list.copy())\n",
        "bubble_sort_time = time.time() - start_time\n",
        "\n",
        "# Measure execution time for quick sort\n",
        "start_time = time.time()\n",
        "quick_sort(random_list.copy())\n",
        "quick_sort_time = time.time() - start_time\n",
        "\n",
        "print(\"Bubble Sort Time:\", bubble_sort_time)\n",
        "print(\"Quick Sort Time:\", quick_sort_time)\n"
      ]
    },
    {
      "cell_type": "markdown",
      "source": [
        "#Summations, Formulas, and Basic Properties"
      ],
      "metadata": {
        "id": "fdMWTDsX3GHH"
      }
    },
    {
      "cell_type": "markdown",
      "source": [
        "Summations involve adding up a sequence of numbers. Basic properties include linearity, arithmetic series, sum of squares and cubes, geometric series, harmonic series, and telescoping series."
      ],
      "metadata": {
        "id": "eUf8ry1b3HBv"
      }
    },
    {
      "cell_type": "code",
      "source": [
        "# Example of summing up a sequence of numbers in Python\n",
        "\n",
        "# Linear summation\n",
        "def linear_sum(n):\n",
        "    return (n * (n + 1)) // 2\n",
        "\n",
        "# Arithmetic series summation\n",
        "def arithmetic_sum(first_term, last_term, n):\n",
        "    return ((first_term + last_term) * n) // 2\n",
        "\n",
        "# Sum of squares\n",
        "def sum_of_squares(n):\n",
        "    return (n * (n + 1) * (2 * n + 1)) // 6\n",
        "\n",
        "# Sum of cubes\n",
        "def sum_of_cubes(n):\n",
        "    return ((n * (n + 1)) // 2) ** 2\n",
        "\n",
        "# Geometric series summation\n",
        "def geometric_sum(a, r, n):\n",
        "    return a * (1 - r ** n) // (1 - r)\n",
        "\n",
        "# Harmonic series summation\n",
        "def harmonic_sum(n):\n",
        "    return sum(1 / i for i in range(1, n + 1))\n",
        "\n",
        "# Telescoping series summation\n",
        "def telescoping_sum(n):\n",
        "    return sum(1 / (i * (i + 1)) for i in range(1, n + 1))\n",
        "\n",
        "# Example usage\n",
        "print(linear_sum(10))\n",
        "print(arithmetic_sum(1, 10, 10))\n",
        "print(sum_of_squares(10))\n",
        "print(sum_of_cubes(10))\n",
        "print(geometric_sum(1, 2, 10))\n",
        "print(harmonic_sum(10))\n",
        "print(telescoping_sum(10))\n"
      ],
      "metadata": {
        "colab": {
          "base_uri": "https://localhost:8080/"
        },
        "id": "P_dFdCDh3Guv",
        "outputId": "b2ed5bd4-9e25-4c73-e0cc-5bb5b716665c"
      },
      "execution_count": null,
      "outputs": [
        {
          "output_type": "stream",
          "name": "stdout",
          "text": [
            "55\n",
            "55\n",
            "385\n",
            "3025\n",
            "1023\n",
            "2.9289682539682538\n",
            "0.9090909090909091\n"
          ]
        }
      ]
    },
    {
      "cell_type": "markdown",
      "source": [
        "#Bounding Summations"
      ],
      "metadata": {
        "id": "36t0VOfx3xW_"
      }
    },
    {
      "cell_type": "markdown",
      "source": [
        "Bounding summations involves techniques such as induction, bounding terms, and dividing summations to find upper or lower bounds.\n",
        "\n"
      ],
      "metadata": {
        "id": "aV097HJL3xxX"
      }
    },
    {
      "cell_type": "code",
      "source": [
        "# Example of bounding summations using induction\n",
        "\n",
        "def sum_of_natural_numbers(n):\n",
        "    return n * (n + 1) // 2\n",
        "\n",
        "def bound_sum_of_natural_numbers(n):\n",
        "    # Base case: When n=1, the sum is 1\n",
        "    if n == 1:\n",
        "        return 1\n",
        "    # Inductive step: Assume true for n=k, then prove true for n=k+1\n",
        "    sum_k = bound_sum_of_natural_numbers(n - 1)\n",
        "    return sum_k + n\n",
        "\n",
        "# Test the functions\n",
        "print(\"Sum of the first 5 natural numbers:\", sum_of_natural_numbers(5))\n",
        "print(\"Bounded sum of the first 5 natural numbers:\", bound_sum_of_natural_numbers(5))"
      ],
      "metadata": {
        "colab": {
          "base_uri": "https://localhost:8080/"
        },
        "id": "Id2D5vGY3zB_",
        "outputId": "31e77b7d-6b17-4c79-f09f-342b7227c257"
      },
      "execution_count": null,
      "outputs": [
        {
          "output_type": "stream",
          "name": "stdout",
          "text": [
            "Sum of the first 5 natural numbers: 15\n",
            "Bounded sum of the first 5 natural numbers: 15\n"
          ]
        }
      ]
    },
    {
      "cell_type": "markdown",
      "source": [
        "#Basic Concepts of Graphs and Trees"
      ],
      "metadata": {
        "id": "2sKonLiB34iv"
      }
    },
    {
      "cell_type": "markdown",
      "source": [
        "Graphs consist of nodes connected by edges, while trees are a type of graph with a hierarchical structure where each node has at most one parent. Basic concepts include nodes, edges, directed and undirected graphs, connected components, cycles, depth-first search (DFS), breadth-first search (BFS), and tree traversal algorithms such as inorder, preorder, and postorder traversal.\n",
        "\n"
      ],
      "metadata": {
        "id": "mi1lMneA35gP"
      }
    },
    {
      "cell_type": "code",
      "source": [
        "class Graph:\n",
        "    def __init__(self):\n",
        "        self.graph = {}\n",
        "\n",
        "    def add_edge(self, u, v):\n",
        "        if u not in self.graph:\n",
        "            self.graph[u] = []\n",
        "        self.graph[u].append(v)\n",
        "\n",
        "    def dfs(self, start, visited=None):\n",
        "        if visited is None:\n",
        "            visited = set()\n",
        "        visited.add(start)\n",
        "        print(start, end=' ')\n",
        "        for neighbor in self.graph.get(start, []):\n",
        "            if neighbor not in visited:\n",
        "                self.dfs(neighbor, visited)\n",
        "\n",
        "    def bfs(self, start):\n",
        "        visited = set()\n",
        "        queue = [start]\n",
        "        visited.add(start)\n",
        "        while queue:\n",
        "            vertex = queue.pop(0)\n",
        "            print(vertex, end=' ')\n",
        "            for neighbor in self.graph.get(vertex, []):\n",
        "                if neighbor not in visited:\n",
        "                    queue.append(neighbor)\n",
        "                    visited.add(neighbor)\n",
        "\n",
        "\n",
        "# Example of basic concepts of graphs and trees\n",
        "\n",
        "# Create a graph\n",
        "g = Graph()\n",
        "g.add_edge(1, 2)\n",
        "g.add_edge(1, 3)\n",
        "g.add_edge(2, 4)\n",
        "g.add_edge(2, 5)\n",
        "g.add_edge(3, 6)\n",
        "\n",
        "# Traverse the graph using DFS\n",
        "print(\"Depth-First Search (DFS) Traversal:\")\n",
        "g.dfs(1)\n",
        "print(\"\\n\")\n",
        "\n",
        "# Traverse the graph using BFS\n",
        "print(\"Breadth-First Search (BFS) Traversal:\")\n",
        "g.bfs(1)"
      ],
      "metadata": {
        "colab": {
          "base_uri": "https://localhost:8080/"
        },
        "id": "wdJNRaqa36lf",
        "outputId": "37168e7b-ea4b-4d4e-f174-c20582ebb43f"
      },
      "execution_count": null,
      "outputs": [
        {
          "output_type": "stream",
          "name": "stdout",
          "text": [
            "Depth-First Search (DFS) Traversal:\n",
            "1 2 4 5 3 6 \n",
            "\n",
            "Breadth-First Search (BFS) Traversal:\n",
            "1 2 3 4 5 6 "
          ]
        }
      ]
    },
    {
      "cell_type": "markdown",
      "source": [
        "#Insertion Sort: Correctness and Analysis"
      ],
      "metadata": {
        "id": "HdxHeOt54ElX"
      }
    },
    {
      "cell_type": "markdown",
      "source": [
        "Insertion sort is a simple sorting algorithm that builds the final sorted array one item at a time. It is efficient for small data sets but inefficient for large lists. Correctness involves proving that the algorithm produces the correct output, while analysis involves determining its time complexity and space complexity.\n",
        "\n"
      ],
      "metadata": {
        "id": "8pINNgCB4FKn"
      }
    },
    {
      "cell_type": "code",
      "source": [
        "import time\n",
        "import matplotlib.pyplot as plt\n",
        "import numpy as np\n",
        "\n",
        "def insertion_sort(arr):\n",
        "    start_time = time.time()\n",
        "    for i in range(1, len(arr)):\n",
        "        key = arr[i]\n",
        "        j = i - 1\n",
        "        while j >= 0 and arr[j] > key:\n",
        "            arr[j + 1] = arr[j]\n",
        "            j -= 1\n",
        "        arr[j + 1] = key\n",
        "    return time.time() - start_time\n",
        "\n",
        "# Function to generate random arrays of varying sizes\n",
        "def generate_arrays(start, stop, step):\n",
        "    return [np.random.randint(0, 1000, size=n) for n in range(start, stop, step)]\n",
        "\n",
        "# Analyze the time complexity\n",
        "sizes = range(100, 1100, 100)\n",
        "times = []\n",
        "\n",
        "for size in sizes:\n",
        "    arrays = generate_arrays(100, size, 100)\n",
        "    avg_time = np.mean([insertion_sort(arr) for arr in arrays])\n",
        "    times.append(avg_time)\n",
        "\n",
        "# Plotting the results\n",
        "plt.plot(sizes, times, marker='o')\n",
        "plt.xlabel('Input Size')\n",
        "plt.ylabel('Time (s)')\n",
        "plt.title('Time Complexity of Insertion Sort')\n",
        "plt.grid(True)\n",
        "plt.show()\n"
      ],
      "metadata": {
        "colab": {
          "base_uri": "https://localhost:8080/",
          "height": 541
        },
        "id": "wsREXR4u4F6I",
        "outputId": "d010411b-264c-4b2e-f233-0a1e0182b1cd"
      },
      "execution_count": null,
      "outputs": [
        {
          "output_type": "stream",
          "name": "stderr",
          "text": [
            "/usr/local/lib/python3.10/dist-packages/numpy/core/fromnumeric.py:3504: RuntimeWarning: Mean of empty slice.\n",
            "  return _methods._mean(a, axis=axis, dtype=dtype,\n",
            "/usr/local/lib/python3.10/dist-packages/numpy/core/_methods.py:129: RuntimeWarning: invalid value encountered in scalar divide\n",
            "  ret = ret.dtype.type(ret / rcount)\n"
          ]
        },
        {
          "output_type": "display_data",
          "data": {
            "text/plain": [
              "<Figure size 640x480 with 1 Axes>"
            ],
            "image/png": "[encoded data removed]"
          },
          "metadata": {}
        }
      ]
    },
    {
      "cell_type": "markdown",
      "source": [
        "#Growth of Functions: Theta Notation, Big O Notation, Gamma Notation, Omega Notation, Small O Notation"
      ],
      "metadata": {
        "id": "5HRmTjYZ4fa3"
      }
    },
    {
      "cell_type": "markdown",
      "source": [
        "In computer science and mathematics, when analyzing algorithms, it's important to understand how their performance scales with input size. Growth of Functions provides a framework for describing how the performance of functions or algorithms changes as the size of the input increases.\n",
        "\n",
        "1. Big O Notation (O): Big O notation provides an upper bound on the growth rate of a function. It describes the worst-case scenario for the function's performance.\n"
      ],
      "metadata": {
        "id": "PI0tBVTT4lR_"
      }
    },
    {
      "cell_type": "code",
      "source": [
        "# Example: O(n^2)\n",
        "def example_function(arr):\n",
        "    n = len(arr)\n",
        "    for i in range(n):\n",
        "        for j in range(n):\n",
        "            print(arr[i] + arr[j])"
      ],
      "metadata": {
        "id": "jQ5fgGx44pr3"
      },
      "execution_count": null,
      "outputs": []
    },
    {
      "cell_type": "code",
      "source": [
        "def bubble_sort(arr):\n",
        "    n = len(arr)\n",
        "    for i in range(n):\n",
        "        for j in range(0, n-i-1):\n",
        "            if arr[j] > arr[j+1]:\n",
        "                arr[j], arr[j+1] = arr[j+1], arr[j]\n",
        "#O(n^2)"
      ],
      "metadata": {
        "id": "PKJcx6YR5W8o"
      },
      "execution_count": null,
      "outputs": []
    },
    {
      "cell_type": "markdown",
      "source": [
        "2. Omega Notation (Ω): Omega notation provides a lower bound on the growth rate of a function. It describes the best-case scenario for the function's performance."
      ],
      "metadata": {
        "id": "L9onQcJF4xlP"
      }
    },
    {
      "cell_type": "code",
      "source": [
        "# Example: Ω(n)\n",
        "def example_function(arr):\n",
        "    n = len(arr)\n",
        "    for i in range(n):\n",
        "        print(arr[i])"
      ],
      "metadata": {
        "id": "ds8kR2lp4y9X"
      },
      "execution_count": null,
      "outputs": []
    },
    {
      "cell_type": "code",
      "source": [
        "def linear_search(arr, target):\n",
        "    for i in range(len(arr)):\n",
        "        if arr[i] == target:\n",
        "            return i\n",
        "    return -1\n",
        "#Ω(n)"
      ],
      "metadata": {
        "id": "z5X7kJMF5lCP"
      },
      "execution_count": null,
      "outputs": []
    },
    {
      "cell_type": "markdown",
      "source": [
        "3. Theta Notation (Θ): Theta notation provides both upper and lower bounds on the growth rate of a function. It describes the tight bound on the function's performance."
      ],
      "metadata": {
        "id": "z-EgYEsD45uP"
      }
    },
    {
      "cell_type": "code",
      "source": [
        "# Example: Θ(n)\n",
        "def example_function(arr):\n",
        "    n = len(arr)\n",
        "    for i in range(n):\n",
        "        print(arr[i])"
      ],
      "metadata": {
        "id": "OGQPQEw2469G"
      },
      "execution_count": null,
      "outputs": []
    },
    {
      "cell_type": "code",
      "source": [
        "def merge_sort(arr):\n",
        "    if len(arr) > 1:\n",
        "        mid = len(arr) // 2\n",
        "        left_half = arr[:mid]\n",
        "        right_half = arr[mid:]\n",
        "\n",
        "        merge_sort(left_half)\n",
        "        merge_sort(right_half)\n",
        "\n",
        "        i = j = k = 0\n",
        "\n",
        "        while i < len(left_half) and j < len(right_half):\n",
        "            if left_half[i] < right_half[j]:\n",
        "                arr[k] = left_half[i]\n",
        "                i += 1\n",
        "            else:\n",
        "                arr[k] = right_half[j]\n",
        "                j += 1\n",
        "            k += 1\n",
        "\n",
        "        while i < len(left_half):\n",
        "            arr[k] = left_half[i]\n",
        "            i += 1\n",
        "            k += 1\n",
        "\n",
        "        while j < len(right_half):\n",
        "            arr[k] = right_half[j]\n",
        "            j += 1\n",
        "            k += 1\n",
        "#Θ(n log n)"
      ],
      "metadata": {
        "id": "rpGFUOQL5oaH"
      },
      "execution_count": null,
      "outputs": []
    },
    {
      "cell_type": "markdown",
      "source": [
        "4. Small O Notation (o): Small O notation provides an upper bound on the growth rate of a function, but it's not a tight bound like Big O notation. It describes an upper bound that is not asymptotically tight."
      ],
      "metadata": {
        "id": "3jNrZQbO5GB_"
      }
    },
    {
      "cell_type": "code",
      "source": [
        "# Example: o(n^2)\n",
        "def example_function(arr):\n",
        "    n = len(arr)\n",
        "    for i in range(n):\n",
        "        for j in range(i):\n",
        "            print(arr[i] + arr[j])"
      ],
      "metadata": {
        "id": "kn4vpQu45HTP"
      },
      "execution_count": null,
      "outputs": []
    },
    {
      "cell_type": "code",
      "source": [
        "def binary_search(arr, target):\n",
        "    low = 0\n",
        "    high = len(arr) - 1\n",
        "    while low <= high:\n",
        "        mid = (low + high) // 2\n",
        "        if arr[mid] == target:\n",
        "            return mid\n",
        "        elif arr[mid] < target:\n",
        "            low = mid + 1\n",
        "        else:\n",
        "            high = mid - 1\n",
        "    return -1\n",
        "\n",
        "#o(n)"
      ],
      "metadata": {
        "id": "jGAbUk-55ugH"
      },
      "execution_count": null,
      "outputs": []
    },
    {
      "cell_type": "markdown",
      "source": [
        "5. Gamma Notation (Γ): Gamma notation provides a lower bound on the growth rate of a function, but it's not a tight bound like Omega notation. It describes a lower bound that is not asymptotically tight."
      ],
      "metadata": {
        "id": "BYKkiTfB5L3n"
      }
    },
    {
      "cell_type": "code",
      "source": [
        "# Example: Γ(n)\n",
        "def example_function(arr):\n",
        "    print(arr[0])"
      ],
      "metadata": {
        "id": "9zdnbL-k5SEP"
      },
      "execution_count": null,
      "outputs": []
    },
    {
      "cell_type": "code",
      "source": [
        "def selection_sort(arr):\n",
        "    n = len(arr)\n",
        "    for i in range(n):\n",
        "        min_index = i\n",
        "        for j in range(i + 1, n):\n",
        "            if arr[j] < arr[min_index]:\n",
        "                min_index = j\n",
        "        arr[i], arr[min_index] = arr[min_index], arr[i]\n",
        "\n",
        "#Γ(n^2)"
      ],
      "metadata": {
        "id": "u3Na00Ni5xTn"
      },
      "execution_count": null,
      "outputs": []
    }
  ]
}