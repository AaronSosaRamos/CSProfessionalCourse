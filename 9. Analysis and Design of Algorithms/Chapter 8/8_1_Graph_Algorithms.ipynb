{
  "nbformat": 4,
  "nbformat_minor": 0,
  "metadata": {
    "colab": {
      "provenance": []
    },
    "kernelspec": {
      "name": "python3",
      "display_name": "Python 3"
    },
    "language_info": {
      "name": "python"
    }
  },
  "cells": [
    {
      "cell_type": "markdown",
      "source": [
        "#Graph Algorithms"
      ],
      "metadata": {
        "id": "5yOdQqJ2nAzD"
      }
    },
    {
      "cell_type": "markdown",
      "source": [
        "Graph algorithms are fundamental operations performed on graphs, which are collections of nodes (vertices) and edges connecting these nodes.\n",
        "\n"
      ],
      "metadata": {
        "id": "xd8WJTgCnCFq"
      }
    },
    {
      "cell_type": "markdown",
      "source": [
        "#Representations: Adjacency Matrices and Adjacency Lists"
      ],
      "metadata": {
        "id": "7ftF0H-EnI76"
      }
    },
    {
      "cell_type": "markdown",
      "source": [
        "Graphs can be represented using either adjacency matrices or adjacency lists."
      ],
      "metadata": {
        "id": "HEyHIm_8nJZa"
      }
    },
    {
      "cell_type": "markdown",
      "source": [
        "#1. Adjacency Matrix:"
      ],
      "metadata": {
        "id": "euMChd8dnLb6"
      }
    },
    {
      "cell_type": "markdown",
      "source": [
        "An adjacency matrix is a 2D array where the element at row i and column j represents whether there is an edge from vertex i to vertex j. If there is an edge, the matrix value is typically 1 (for unweighted graphs) or the weight of the edge (for weighted graphs). This representation is useful for dense graphs (where most pairs of vertices are connected).\n",
        "\n"
      ],
      "metadata": {
        "id": "TF9TP6JjnNRi"
      }
    },
    {
      "cell_type": "code",
      "execution_count": null,
      "metadata": {
        "colab": {
          "base_uri": "https://localhost:8080/"
        },
        "id": "Fa8x6ld0m_ky",
        "outputId": "56b88060-1dfa-4cf2-87d2-511938279a11"
      },
      "outputs": [
        {
          "output_type": "stream",
          "name": "stdout",
          "text": [
            "[0, 1, 1, 0]\n",
            "[1, 0, 0, 0]\n",
            "[1, 0, 0, 0]\n",
            "[0, 0, 0, 0]\n"
          ]
        }
      ],
      "source": [
        "class AdjacencyMatrixGraph:\n",
        "    def __init__(self, num_vertices):\n",
        "        self.num_vertices = num_vertices\n",
        "        self.graph = [[0] * num_vertices for _ in range(num_vertices)]\n",
        "\n",
        "    def add_edge(self, v1, v2):\n",
        "        self.graph[v1][v2] = 1\n",
        "        self.graph[v2][v1] = 1  # For undirected graph\n",
        "\n",
        "    def print_graph(self):\n",
        "        for row in self.graph:\n",
        "            print(row)\n",
        "\n",
        "# Example usage\n",
        "g = AdjacencyMatrixGraph(4)\n",
        "g.add_edge(0, 1)\n",
        "g.add_edge(0, 2)\n",
        "g.print_graph()"
      ]
    },
    {
      "cell_type": "markdown",
      "source": [
        "#2. Adjacency List:"
      ],
      "metadata": {
        "id": "nmEaUZlSnyxi"
      }
    },
    {
      "cell_type": "markdown",
      "source": [
        "An adjacency list represents a graph as a dictionary of lists. Each key in the dictionary represents a vertex, and the corresponding value is a list of adjacent vertices. This representation is efficient for sparse graphs (where few pairs of vertices are connected)."
      ],
      "metadata": {
        "id": "XhHYa4lXoUr6"
      }
    },
    {
      "cell_type": "code",
      "source": [
        "from collections import defaultdict\n",
        "\n",
        "class AdjacencyListGraph:\n",
        "    def __init__(self):\n",
        "        self.graph = defaultdict(list)\n",
        "\n",
        "    def add_edge(self, v1, v2):\n",
        "        self.graph[v1].append(v2)\n",
        "        self.graph[v2].append(v1)  # For undirected graph\n",
        "\n",
        "    def print_graph(self):\n",
        "        for vertex in self.graph:\n",
        "            print(f\"{vertex} -> {self.graph[vertex]}\")\n",
        "\n",
        "# Example usage\n",
        "g = AdjacencyListGraph()\n",
        "g.add_edge(0, 1)\n",
        "g.add_edge(0, 2)\n",
        "g.print_graph()"
      ],
      "metadata": {
        "colab": {
          "base_uri": "https://localhost:8080/"
        },
        "id": "drViS8NnoVmr",
        "outputId": "3d41bd40-1397-4fa4-9690-e653dc8afca7"
      },
      "execution_count": null,
      "outputs": [
        {
          "output_type": "stream",
          "name": "stdout",
          "text": [
            "0 -> [1, 2]\n",
            "1 -> [0]\n",
            "2 -> [0]\n"
          ]
        }
      ]
    },
    {
      "cell_type": "markdown",
      "source": [
        "#Depth-First Search (DFS)"
      ],
      "metadata": {
        "id": "oCCXpsw7obES"
      }
    },
    {
      "cell_type": "markdown",
      "source": [
        "Depth-First Search (DFS) is a graph traversal algorithm that explores as far as possible along each branch before backtracking. It uses a stack data structure (implicitly via recursion) to keep track of vertices to visit next.\n",
        "\n"
      ],
      "metadata": {
        "id": "xbet7ItPobyK"
      }
    },
    {
      "cell_type": "code",
      "source": [
        "def dfs(graph, start, visited=None):\n",
        "    if visited is None:\n",
        "        visited = set()\n",
        "    visited.add(start)\n",
        "    print(start, end=' ')  # Process the current vertex\n",
        "    for neighbor in graph[start]:\n",
        "        if neighbor not in visited:\n",
        "            dfs(graph, neighbor, visited)\n",
        "\n",
        "# Example usage\n",
        "graph = {\n",
        "    0: [1, 2],\n",
        "    1: [0, 3],\n",
        "    2: [0, 4],\n",
        "    3: [1],\n",
        "    4: [2]\n",
        "}\n",
        "print(\"DFS traversal:\")\n",
        "dfs(graph, 0)"
      ],
      "metadata": {
        "colab": {
          "base_uri": "https://localhost:8080/"
        },
        "id": "eNEdPsxLogZi",
        "outputId": "5f0be548-db39-4722-b2f5-7cfbe75c8902"
      },
      "execution_count": null,
      "outputs": [
        {
          "output_type": "stream",
          "name": "stdout",
          "text": [
            "DFS traversal:\n",
            "0 1 3 2 4 "
          ]
        }
      ]
    },
    {
      "cell_type": "markdown",
      "source": [
        "#Breadth-First Search (BFS)"
      ],
      "metadata": {
        "id": "FhMnzTKookrC"
      }
    },
    {
      "cell_type": "markdown",
      "source": [
        "Breadth-First Search (BFS) is a graph traversal algorithm that explores all neighbor nodes at the present depth level before moving on to nodes at the next depth level. It uses a queue data structure to keep track of vertices to visit next.\n",
        "\n"
      ],
      "metadata": {
        "id": "k0OXDCF4olHS"
      }
    },
    {
      "cell_type": "code",
      "source": [
        "from collections import deque\n",
        "\n",
        "def bfs(graph, start):\n",
        "    visited = set()\n",
        "    queue = deque([start])\n",
        "    visited.add(start)\n",
        "    while queue:\n",
        "        node = queue.popleft()\n",
        "        print(node, end=' ')  # Process the current vertex\n",
        "        for neighbor in graph[node]:\n",
        "            if neighbor not in visited:\n",
        "                visited.add(neighbor)\n",
        "                queue.append(neighbor)\n",
        "\n",
        "# Example usage\n",
        "graph = {\n",
        "    0: [1, 2],\n",
        "    1: [0, 3],\n",
        "    2: [0, 4],\n",
        "    3: [1],\n",
        "    4: [2]\n",
        "}\n",
        "print(\"BFS traversal:\")\n",
        "bfs(graph, 0)"
      ],
      "metadata": {
        "colab": {
          "base_uri": "https://localhost:8080/"
        },
        "id": "WFgd1Vu-omqq",
        "outputId": "1bf80f71-6f55-4e27-e2b6-56b3800b4bb8"
      },
      "execution_count": null,
      "outputs": [
        {
          "output_type": "stream",
          "name": "stdout",
          "text": [
            "BFS traversal:\n",
            "0 1 2 3 4 "
          ]
        }
      ]
    },
    {
      "cell_type": "markdown",
      "source": [
        "#Paths in Graphs: Dijkstra's Algorithm, Bellman-Ford Algorithm, Floyd-Warshall Algorithm"
      ],
      "metadata": {
        "id": "7Ni9tMXMowmC"
      }
    },
    {
      "cell_type": "markdown",
      "source": [
        "These algorithms find paths or shortest paths in graphs.\n",
        "\n"
      ],
      "metadata": {
        "id": "3Gqpv1DkoxBL"
      }
    },
    {
      "cell_type": "markdown",
      "source": [
        "#1. Dijkstra's Algorithm (Single Source Shortest Path):"
      ],
      "metadata": {
        "id": "MRNzTOZroyDy"
      }
    },
    {
      "cell_type": "markdown",
      "source": [
        "Dijkstra's algorithm finds the shortest paths from a given source vertex to all other vertices in a graph with non-negative edge weights. It uses a priority queue to efficiently select the vertex with the shortest known distance.\n",
        "\n"
      ],
      "metadata": {
        "id": "IfaxQuFxo5hq"
      }
    },
    {
      "cell_type": "code",
      "source": [
        "import heapq\n",
        "\n",
        "def dijkstra(graph, start):\n",
        "    distances = {node: float('inf') for node in graph}\n",
        "    distances[start] = 0\n",
        "    priority_queue = [(0, start)]  # (distance, node)\n",
        "\n",
        "    while priority_queue:\n",
        "        current_distance, current_node = heapq.heappop(priority_queue)\n",
        "\n",
        "        if current_distance > distances[current_node]:\n",
        "            continue\n",
        "\n",
        "        for neighbor, weight in graph[current_node].items():\n",
        "            distance = current_distance + weight\n",
        "\n",
        "            if distance < distances[neighbor]:\n",
        "                distances[neighbor] = distance\n",
        "                heapq.heappush(priority_queue, (distance, neighbor))\n",
        "\n",
        "    return distances\n",
        "\n",
        "# Example usage\n",
        "graph = {\n",
        "    'A': {'B': 3, 'C': 2},\n",
        "    'B': {'A': 3, 'C': 4, 'D': 7},\n",
        "    'C': {'A': 2, 'B': 4, 'D': 1},\n",
        "    'D': {'B': 7, 'C': 1}\n",
        "}\n",
        "print(\"Shortest distances from 'A':\")\n",
        "print(dijkstra(graph, 'A'))\n"
      ],
      "metadata": {
        "colab": {
          "base_uri": "https://localhost:8080/"
        },
        "id": "f2oVuHCKo6ZL",
        "outputId": "edbe3725-fc33-45ae-c88a-473e9ff24305"
      },
      "execution_count": null,
      "outputs": [
        {
          "output_type": "stream",
          "name": "stdout",
          "text": [
            "Shortest distances from 'A':\n",
            "{'A': 0, 'B': 3, 'C': 2, 'D': 3}\n"
          ]
        }
      ]
    },
    {
      "cell_type": "markdown",
      "source": [
        "#Bellman-Ford Algorithm (Single Source Shortest Path with Negative Weights):\n"
      ],
      "metadata": {
        "id": "8KdpQZ9Io9by"
      }
    },
    {
      "cell_type": "markdown",
      "source": [
        "The Bellman-Ford algorithm finds the shortest paths from a given source vertex to all other vertices in a graph, even if the graph contains negative-weight edges. It iteratively relaxes edges over |V| - 1 passes, where |V| is the number of vertices."
      ],
      "metadata": {
        "id": "jpOf6w_JpK0S"
      }
    },
    {
      "cell_type": "code",
      "source": [
        "def bellman_ford(graph, start):\n",
        "    distances = {node: float('inf') for node in graph}\n",
        "    distances[start] = 0\n",
        "\n",
        "    for _ in range(len(graph) - 1):\n",
        "        for u in graph:\n",
        "            for v, weight in graph[u].items():\n",
        "                if distances[u] + weight < distances[v]:\n",
        "                    distances[v] = distances[u] + weight\n",
        "\n",
        "    return distances\n",
        "\n",
        "# Example usage\n",
        "graph = {\n",
        "    'A': {'B': 3, 'C': 2},\n",
        "    'B': {'C': 4, 'D': 7},\n",
        "    'C': {'B': -5},\n",
        "    'D': {'C': 1}\n",
        "}\n",
        "print(\"Shortest distances from 'A':\")\n",
        "print(bellman_ford(graph, 'A'))\n"
      ],
      "metadata": {
        "colab": {
          "base_uri": "https://localhost:8080/"
        },
        "id": "tqqrDZv5pNcC",
        "outputId": "8412eb9e-8671-46af-b7a6-56e7f3c43749"
      },
      "execution_count": null,
      "outputs": [
        {
          "output_type": "stream",
          "name": "stdout",
          "text": [
            "Shortest distances from 'A':\n",
            "{'A': 0, 'B': -5, 'C': 0, 'D': 3}\n"
          ]
        }
      ]
    },
    {
      "cell_type": "markdown",
      "source": [
        "#Floyd-Warshall Algorithm (All-Pairs Shortest Paths):\n"
      ],
      "metadata": {
        "id": "gbqS32DHpSkq"
      }
    },
    {
      "cell_type": "markdown",
      "source": [
        "The Floyd-Warshall algorithm computes the shortest paths between all pairs of vertices in a graph. It uses a dynamic programming approach to update the shortest path distances iteratively.\n",
        "\n"
      ],
      "metadata": {
        "id": "CnIJNQO7pTAK"
      }
    },
    {
      "cell_type": "code",
      "source": [
        "def floyd_warshall(graph):\n",
        "    nodes = list(graph.keys())\n",
        "    distance = {i: {j: float('inf') for j in nodes} for i in nodes}\n",
        "    for i in nodes:\n",
        "        distance[i][i] = 0\n",
        "    for i in graph:\n",
        "        for j in graph[i]:\n",
        "            distance[i][j] = graph[i][j]\n",
        "\n",
        "    for k in nodes:\n",
        "        for i in nodes:\n",
        "            for j in nodes:\n",
        "                if distance[i][j] > distance[i][k] + distance[k][j]:\n",
        "                    distance[i][j] = distance[i][k] + distance[k][j]\n",
        "\n",
        "    return distance\n",
        "\n",
        "# Example usage\n",
        "graph = {\n",
        "    'A': {'B': 3, 'C': 8},\n",
        "    'B': {'C': 1, 'D': 7},\n",
        "    'C': {'B': 4},\n",
        "    'D': {'C': 2}\n",
        "}\n",
        "print(\"All-pairs shortest paths:\")\n",
        "print(floyd_warshall(graph))"
      ],
      "metadata": {
        "colab": {
          "base_uri": "https://localhost:8080/"
        },
        "id": "1HC_uN_EpTuS",
        "outputId": "241982b3-a36f-4c4e-8097-e8da4323fa8b"
      },
      "execution_count": null,
      "outputs": [
        {
          "output_type": "stream",
          "name": "stdout",
          "text": [
            "All-pairs shortest paths:\n",
            "{'A': {'A': 0, 'B': 3, 'C': 4, 'D': 10}, 'B': {'A': inf, 'B': 0, 'C': 1, 'D': 7}, 'C': {'A': inf, 'B': 4, 'C': 0, 'D': 11}, 'D': {'A': inf, 'B': 6, 'C': 2, 'D': 0}}\n"
          ]
        }
      ]
    },
    {
      "cell_type": "markdown",
      "source": [
        "#Flows in Graphs"
      ],
      "metadata": {
        "id": "_YPsU3kfpYNq"
      }
    },
    {
      "cell_type": "markdown",
      "source": [
        "Graph flow algorithms deal with finding the maximum flow or circulation in a graph."
      ],
      "metadata": {
        "id": "ooTb3t0OpY9i"
      }
    },
    {
      "cell_type": "markdown",
      "source": [
        "For example, we could implement the Edmonds-Karp algorithm for the maximum flow problem using the networkx library in Python."
      ],
      "metadata": {
        "id": "CqU6ooeZpbQS"
      }
    },
    {
      "cell_type": "code",
      "source": [
        "import networkx as nx\n",
        "\n",
        "def max_flow(graph, source, sink):\n",
        "    flow_value, flow_dict = nx.maximum_flow(graph, source, sink)\n",
        "    return flow_value, flow_dict\n",
        "\n",
        "# Example usage\n",
        "g = nx.DiGraph()\n",
        "g.add_edge('A', 'B', capacity=3)\n",
        "g.add_edge('A', 'C', capacity=2)\n",
        "g.add_edge('B', 'C', capacity=5)\n",
        "g.add_edge('B', 'D', capacity=7)\n",
        "g.add_edge('C', 'D', capacity=1)\n",
        "\n",
        "source = 'A'\n",
        "sink = 'D'\n",
        "max_flow_value, flow_dict = max_flow(g, source, sink)\n",
        "print(f\"Maximum flow from {source} to {sink} is {max_flow_value}\")\n",
        "print(\"Flow dictionary:\")\n",
        "print(flow_dict)\n"
      ],
      "metadata": {
        "id": "HWfZkLKppc7i",
        "outputId": "a5cf1886-82d9-4e79-eef5-f9f65641d765",
        "colab": {
          "base_uri": "https://localhost:8080/"
        }
      },
      "execution_count": null,
      "outputs": [
        {
          "output_type": "stream",
          "name": "stdout",
          "text": [
            "Maximum flow from A to D is 4\n",
            "Flow dictionary:\n",
            "{'A': {'B': 3, 'C': 1}, 'B': {'C': 0, 'D': 3}, 'C': {'D': 1}, 'D': {}}\n"
          ]
        }
      ]
    }
  ]
}