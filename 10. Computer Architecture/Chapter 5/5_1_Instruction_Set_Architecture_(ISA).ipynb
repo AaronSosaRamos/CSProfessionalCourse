{
  "nbformat": 4,
  "nbformat_minor": 0,
  "metadata": {
    "colab": {
      "provenance": []
    },
    "kernelspec": {
      "name": "python3",
      "display_name": "Python 3"
    },
    "language_info": {
      "name": "python"
    }
  },
  "cells": [
    {
      "cell_type": "markdown",
      "source": [
        "#Instruction Set Architecture (ISA)"
      ],
      "metadata": {
        "id": "k34STbZlt0bn"
      }
    },
    {
      "cell_type": "markdown",
      "source": [
        "Instruction Set Architecture (ISA) in computer architecture refers to the set of instructions that a processor can execute. It defines the operations and functionalities that a processor can perform, including arithmetic operations, data movement, control flow operations, and input/output operations. The ISA serves as an interface between the hardware (processor) and the software (programs written for the processor). It specifies the assembly language syntax and the binary encoding of instructions understood by the processor. The ISA also defines the registers available to the programmer and the memory addressing modes supported by the processor. Different processors may have different ISAs, and the ISA plays a crucial role in determining the overall capabilities and performance characteristics of a computer system."
      ],
      "metadata": {
        "id": "MoX2qnsYt2Cu"
      }
    },
    {
      "cell_type": "markdown",
      "source": [
        "#Simple ISA Simulation"
      ],
      "metadata": {
        "id": "sO19flipuEDm"
      }
    },
    {
      "cell_type": "code",
      "execution_count": null,
      "metadata": {
        "colab": {
          "base_uri": "https://localhost:8080/"
        },
        "id": "a5DRL13CtgwC",
        "outputId": "24c0ca05-ec5e-4c06-8a63-c32843897bc4"
      },
      "outputs": [
        {
          "output_type": "stream",
          "name": "stdout",
          "text": [
            "Registers: [0, 10, 20, 30, 0, 0, 0, 0]\n"
          ]
        }
      ],
      "source": [
        "class SimpleProcessor:\n",
        "    def __init__(self):\n",
        "        self.registers = [0] * 8  # 8 general-purpose registers\n",
        "\n",
        "    def add(self, reg_a, reg_b, reg_dest):\n",
        "        self.registers[reg_dest] = self.registers[reg_a] + self.registers[reg_b]\n",
        "\n",
        "    def load_imm(self, reg_dest, immediate):\n",
        "        self.registers[reg_dest] = immediate\n",
        "\n",
        "    def print_registers(self):\n",
        "        print(\"Registers:\", self.registers)\n",
        "\n",
        "# Usage example:\n",
        "if __name__ == \"__main__\":\n",
        "    processor = SimpleProcessor()\n",
        "\n",
        "    # Program to add two numbers and store the result\n",
        "    processor.load_imm(1, 10)  # Load immediate value 10 into register 1\n",
        "    processor.load_imm(2, 20)  # Load immediate value 20 into register 2\n",
        "    processor.add(1, 2, 3)     # Add values from register 1 and 2, store result in register 3\n",
        "\n",
        "    processor.print_registers()  # Print register values after execution"
      ]
    },
    {
      "cell_type": "markdown",
      "source": [
        "#ISA Simulator for Arithmetic Operations"
      ],
      "metadata": {
        "id": "MV0vLdwLuG6G"
      }
    },
    {
      "cell_type": "code",
      "source": [
        "class Processor:\n",
        "    def __init__(self):\n",
        "        self.registers = [0] * 8\n",
        "        self.pc = 0  # Program counter\n",
        "\n",
        "    def execute_instruction(self, instruction):\n",
        "        opcode = instruction[0]\n",
        "        if opcode == 'ADD':\n",
        "            reg_a, reg_b, reg_dest = instruction[1], instruction[2], instruction[3]\n",
        "            self.registers[reg_dest] = self.registers[reg_a] + self.registers[reg_b]\n",
        "        elif opcode == 'SUB':\n",
        "            reg_a, reg_b, reg_dest = instruction[1], instruction[2], instruction[3]\n",
        "            self.registers[reg_dest] = self.registers[reg_a] - self.registers[reg_b]\n",
        "        elif opcode == 'LOAD':\n",
        "            reg_dest, value = instruction[1], instruction[2]\n",
        "            self.registers[reg_dest] = value\n",
        "        elif opcode == 'PRINT':\n",
        "            reg = instruction[1]\n",
        "            print(\"Value in register\", reg, \":\", self.registers[reg])\n",
        "        self.pc += 1  # Increment program counter\n",
        "\n",
        "# Usage example:\n",
        "if __name__ == \"__main__\":\n",
        "    processor = Processor()\n",
        "\n",
        "    # Program (sequence of instructions)\n",
        "    program = [\n",
        "        ('LOAD', 1, 10),    # Load immediate value 10 into register 1\n",
        "        ('LOAD', 2, 20),    # Load immediate value 20 into register 2\n",
        "        ('ADD', 1, 2, 3),   # Add values from register 1 and 2, store result in register 3\n",
        "        ('PRINT', 3)        # Print value in register 3\n",
        "    ]\n",
        "\n",
        "    for instruction in program:\n",
        "        processor.execute_instruction(instruction)\n",
        "\n",
        "    # Print register values after execution\n",
        "    print(\"Final register values:\", processor.registers)"
      ],
      "metadata": {
        "colab": {
          "base_uri": "https://localhost:8080/"
        },
        "id": "aLBEfHknuHjO",
        "outputId": "f071e38e-497b-42c5-db3d-1fb8eebdd18c"
      },
      "execution_count": null,
      "outputs": [
        {
          "output_type": "stream",
          "name": "stdout",
          "text": [
            "Value in register 3 : 30\n",
            "Final register values: [0, 10, 20, 30, 0, 0, 0, 0]\n"
          ]
        }
      ]
    },
    {
      "cell_type": "markdown",
      "source": [
        "#Multi-Cycle Processor Simulator"
      ],
      "metadata": {
        "id": "3Em4sBbYuKWm"
      }
    },
    {
      "cell_type": "code",
      "source": [
        "class MultiCycleProcessor:\n",
        "    def __init__(self):\n",
        "        self.registers = [0] * 8\n",
        "        self.memory = [0] * 256\n",
        "        self.pc = 0\n",
        "\n",
        "    def execute_next_cycle(self):\n",
        "        if self.pc < len(self.memory):\n",
        "            instruction = self.memory[self.pc]\n",
        "            opcode = instruction >> 24\n",
        "            reg_a = (instruction >> 16) & 0xFF\n",
        "            reg_b = (instruction >> 8) & 0xFF\n",
        "            reg_dest = instruction & 0xFF\n",
        "\n",
        "            if reg_a < len(self.registers) and reg_b < len(self.registers) and reg_dest < len(self.registers):\n",
        "                if opcode == 0:  # ADD\n",
        "                    self.registers[reg_dest] = self.registers[reg_a] + self.registers[reg_b]\n",
        "                elif opcode == 1:  # SUB\n",
        "                    self.registers[reg_dest] = self.registers[reg_a] - self.registers[reg_b]\n",
        "                elif opcode == 2:  # LOAD\n",
        "                    address = self.registers[reg_b]\n",
        "                    if address < len(self.memory):\n",
        "                        self.registers[reg_dest] = self.memory[address]\n",
        "                elif opcode == 3:  # STORE\n",
        "                    address = self.registers[reg_b]\n",
        "                    if address < len(self.memory):\n",
        "                        self.memory[address] = self.registers[reg_a]\n",
        "\n",
        "            self.pc += 1\n",
        "        else:\n",
        "            print(\"End of program reached.\")\n",
        "\n",
        "if __name__ == \"__main__\":\n",
        "    processor = MultiCycleProcessor()\n",
        "\n",
        "    # Initialize registers and memory with example values\n",
        "    processor.registers[1] = 50   # R1 = 50\n",
        "    processor.memory[60] = 100    # Memory address 60 = 100\n",
        "    processor.registers[4] = 5     # R4 = 5\n",
        "    processor.registers[0] = 60    # R0 = 60 (memory address for STORE)\n",
        "\n",
        "    # Example program stored in memory\n",
        "    processor.memory[0] = (2 << 24) | (1 << 16) | (10 << 8) | 2   # LOAD R2, [R1+10]\n",
        "    processor.memory[1] = (0 << 24) | (2 << 16) | (4 << 8) | 3    # ADD R3, R2, R4\n",
        "    processor.memory[2] = (3 << 24) | (4 << 16) | (2 << 8) | 0    # STORE R4, [R2+R0]\n",
        "\n",
        "    # Execute program cycles\n",
        "    for _ in range(3):\n",
        "        processor.execute_next_cycle()\n",
        "\n",
        "    # Print final register values after execution\n",
        "    print(\"Final register values:\", processor.registers)\n",
        "\n",
        "    # Print memory content at specific addresses\n",
        "    print(\"Memory content at address 60:\", processor.memory[60])\n",
        "\n"
      ],
      "metadata": {
        "colab": {
          "base_uri": "https://localhost:8080/"
        },
        "id": "WFPD668_uLB2",
        "outputId": "c7d30f6b-e425-4614-c346-78bb33741093"
      },
      "execution_count": null,
      "outputs": [
        {
          "output_type": "stream",
          "name": "stdout",
          "text": [
            "Final register values: [60, 50, 0, 5, 5, 0, 0, 0]\n",
            "Memory content at address 60: 100\n"
          ]
        }
      ]
    }
  ]
}