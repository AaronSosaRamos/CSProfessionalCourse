{
  "nbformat": 4,
  "nbformat_minor": 0,
  "metadata": {
    "colab": {
      "provenance": []
    },
    "kernelspec": {
      "name": "python3",
      "display_name": "Python 3"
    },
    "language_info": {
      "name": "python"
    }
  },
  "cells": [
    {
      "cell_type": "markdown",
      "source": [
        "#Digital Design: Combinational Logic\n"
      ],
      "metadata": {
        "id": "h9htxeGwwOMd"
      }
    },
    {
      "cell_type": "markdown",
      "source": [
        "In digital design, combinational logic refers to circuits or components where the output is solely determined by the current input values. Combinational logic circuits do not have any memory or feedback; their output depends only on the present input values.\n",
        "\n"
      ],
      "metadata": {
        "id": "w-uqI4FfwRnc"
      }
    },
    {
      "cell_type": "markdown",
      "source": [
        "Combinational logic circuits consist of logic gates that produce outputs based directly on their inputs. The outputs change instantaneously as the inputs change. Common examples of combinational logic circuits include adders, multiplexers, demultiplexers, encoders, and decoders. These circuits are fundamental in digital systems for tasks like arithmetic operations, data routing, and encoding/decoding of information.\n",
        "\n"
      ],
      "metadata": {
        "id": "BPjFtbkwwUy0"
      }
    },
    {
      "cell_type": "code",
      "source": [
        "%pip install pip install pyeda"
      ],
      "metadata": {
        "colab": {
          "base_uri": "https://localhost:8080/"
        },
        "id": "5mFVKQO1whkM",
        "outputId": "35c2c1e4-5fdc-4f99-f3eb-12b638deee9f"
      },
      "execution_count": 2,
      "outputs": [
        {
          "output_type": "stream",
          "name": "stdout",
          "text": [
            "Requirement already satisfied: pip in /usr/local/lib/python3.10/dist-packages (23.1.2)\n",
            "Collecting install\n",
            "  Downloading install-1.3.5-py3-none-any.whl (3.2 kB)\n",
            "Collecting pyeda\n",
            "  Downloading pyeda-0.29.0.tar.gz (486 kB)\n",
            "\u001b[2K     \u001b[90m━━━━━━━━━━━━━━━━━━━━━━━━━━━━━━━━━━━━━━━━\u001b[0m \u001b[32m486.8/486.8 kB\u001b[0m \u001b[31m5.3 MB/s\u001b[0m eta \u001b[36m0:00:00\u001b[0m\n",
            "\u001b[?25h  Preparing metadata (setup.py) ... \u001b[?25l\u001b[?25hdone\n",
            "Building wheels for collected packages: pyeda\n",
            "  Building wheel for pyeda (setup.py) ... \u001b[?25l\u001b[?25hdone\n",
            "  Created wheel for pyeda: filename=pyeda-0.29.0-cp310-cp310-linux_x86_64.whl size=624119 sha256=f00e6791194b7e6a1b6bca9d9f8ddd5cd147b9b03a573dc2123b429b06333411\n",
            "  Stored in directory: /root/.cache/pip/wheels/29/48/ee/7d9b6709dc5157bde3c6766c9ff53fad190c3fb597a5f6e53b\n",
            "Successfully built pyeda\n",
            "Installing collected packages: pyeda, install\n",
            "Successfully installed install-1.3.5 pyeda-0.29.0\n"
          ]
        }
      ]
    },
    {
      "cell_type": "code",
      "execution_count": 5,
      "metadata": {
        "colab": {
          "base_uri": "https://localhost:8080/"
        },
        "id": "RY3QDxKtwCA2",
        "outputId": "c0a6cc7d-9779-4e5d-aca1-8e6d31bf1e17"
      },
      "outputs": [
        {
          "output_type": "stream",
          "name": "stdout",
          "text": [
            "Boolean Expression:\n",
            "And(A, B, C)\n",
            "\n",
            "Truth Table:\n",
            "(False, False, False) -> 0\n",
            "(False, False, True) -> 0\n",
            "(False, True, False) -> 0\n",
            "(False, True, True) -> 0\n",
            "(True, False, False) -> 0\n",
            "(True, False, True) -> 0\n",
            "(True, True, False) -> 0\n",
            "(True, True, True) -> 1\n"
          ]
        }
      ],
      "source": [
        "# Install the pyeda library if not already installed\n",
        "# pip install pyeda\n",
        "\n",
        "from pyeda.inter import *\n",
        "import itertools\n",
        "\n",
        "# Define input variables (A, B, C)\n",
        "A, B, C = map(exprvar, ['A', 'B', 'C'])\n",
        "\n",
        "# Define the combinational logic circuit (Boolean expression)\n",
        "# Let's implement a simple 3-input AND gate\n",
        "output = And(A, B, C)\n",
        "\n",
        "# Display the Boolean expression\n",
        "print(\"Boolean Expression:\")\n",
        "print(output)\n",
        "\n",
        "# Print the truth table\n",
        "print(\"\\nTruth Table:\")\n",
        "\n",
        "# Generate all possible input combinations\n",
        "inputs = [A, B, C]\n",
        "input_values = list(itertools.product([False, True], repeat=len(inputs)))\n",
        "\n",
        "for input_vals in input_values:\n",
        "    input_assignment = {var: val for var, val in zip(inputs, input_vals)}\n",
        "    output_val = output.restrict(input_assignment)\n",
        "    print(f\"{input_vals} -> {output_val}\")\n"
      ]
    },
    {
      "cell_type": "markdown",
      "source": [
        "Combinational logic is a fundamental aspect of digital design where the output is determined solely by the current input values. It involves constructing logic circuits using basic logic gates to perform specific functions without any internal state or memory. Here, we'll expand on various topics related to combinational logic in digital design.\n",
        "\n"
      ],
      "metadata": {
        "id": "HeYp4h69xRO1"
      }
    },
    {
      "cell_type": "markdown",
      "source": [
        "#Basic Logic Gates"
      ],
      "metadata": {
        "id": "uqBDrXRkxTA0"
      }
    },
    {
      "cell_type": "markdown",
      "source": [
        "* AND Gate: Output is true (1) only if all inputs are true.\n",
        "* OR Gate: Output is true (1) if at least one input is true.\n",
        "* NOT Gate (Inverter): Output is the complement of the input.\n",
        "* NAND Gate: Output is false (0) only if all inputs are true.\n",
        "* NOR Gate: Output is false (0) if at least one input is true.\n",
        "* XOR Gate (Exclusive OR): Output is true (1) if the number of true inputs is odd.\n",
        "* XNOR Gate (Exclusive NOR): Output is true (1) if the number of true inputs is even"
      ],
      "metadata": {
        "id": "fUbF__mwxaYr"
      }
    },
    {
      "cell_type": "code",
      "source": [
        "from pyeda.inter import *\n",
        "\n",
        "# Define input variables (A, B)\n",
        "A, B = map(exprvar, ['A', 'B'])\n",
        "\n",
        "# Implementing various logic gates\n",
        "# AND Gate\n",
        "output_and = And(A, B)\n",
        "\n",
        "# OR Gate\n",
        "output_or = Or(A, B)\n",
        "\n",
        "# NOT Gate (Inverter)\n",
        "output_not_A = Not(A)\n",
        "\n",
        "# NAND Gate\n",
        "output_nand = Nand(A, B)\n",
        "\n",
        "# NOR Gate\n",
        "output_nor = Nor(A, B)\n",
        "\n",
        "# XOR Gate\n",
        "output_xor = Xor(A, B)\n",
        "\n",
        "# XNOR Gate\n",
        "output_xnor = Xnor(A, B)\n",
        "\n",
        "# Displaying the outputs\n",
        "print(\"AND Gate:\")\n",
        "print(output_and)\n",
        "\n",
        "print(\"\\nOR Gate:\")\n",
        "print(output_or)\n",
        "\n",
        "print(\"\\nNOT Gate (Inverter) - Output for A:\")\n",
        "print(output_not_A)\n",
        "\n",
        "print(\"\\nNAND Gate:\")\n",
        "print(output_nand)\n",
        "\n",
        "print(\"\\nNOR Gate:\")\n",
        "print(output_nor)\n",
        "\n",
        "print(\"\\nXOR Gate:\")\n",
        "print(output_xor)\n",
        "\n",
        "print(\"\\nXNOR Gate:\")\n",
        "print(output_xnor)\n"
      ],
      "metadata": {
        "colab": {
          "base_uri": "https://localhost:8080/"
        },
        "id": "IDR8ESxrxRlr",
        "outputId": "1c794e30-2671-4eba-9ee2-9480339d51dc"
      },
      "execution_count": 6,
      "outputs": [
        {
          "output_type": "stream",
          "name": "stdout",
          "text": [
            "AND Gate:\n",
            "And(A, B)\n",
            "\n",
            "OR Gate:\n",
            "Or(A, B)\n",
            "\n",
            "NOT Gate (Inverter) - Output for A:\n",
            "~A\n",
            "\n",
            "NAND Gate:\n",
            "Not(And(A, B))\n",
            "\n",
            "NOR Gate:\n",
            "Not(Or(A, B))\n",
            "\n",
            "XOR Gate:\n",
            "Xor(A, B)\n",
            "\n",
            "XNOR Gate:\n",
            "Not(Xor(A, B))\n"
          ]
        }
      ]
    },
    {
      "cell_type": "markdown",
      "source": [
        "#Combinational Circuits\n"
      ],
      "metadata": {
        "id": "TL7KtYOlxjCT"
      }
    },
    {
      "cell_type": "markdown",
      "source": [
        "Combinational circuits combine logic gates to perform specific functions:"
      ],
      "metadata": {
        "id": "ygu-IuO8z58m"
      }
    },
    {
      "cell_type": "markdown",
      "source": [
        "* Adders: Combine binary numbers to perform addition.\n",
        "* Subtractors: Perform subtraction of binary numbers.\n",
        "* Multiplexers: Select one of many input signals based on a control signal.\n",
        "* Demultiplexers: Route one input signal to multiple outputs based on a control signal.\n",
        "* Encoders: Convert multiple input signals into a smaller set of signals.\n",
        "* Decoders: Convert a binary code into a set of signals."
      ],
      "metadata": {
        "id": "N6Zh5Ifgxlba"
      }
    },
    {
      "cell_type": "code",
      "source": [
        "%pip install bitarray"
      ],
      "metadata": {
        "colab": {
          "base_uri": "https://localhost:8080/"
        },
        "id": "V6lAvuatyxGG",
        "outputId": "7d850aaf-df50-40b2-8d20-e81be2b46411"
      },
      "execution_count": 15,
      "outputs": [
        {
          "output_type": "stream",
          "name": "stdout",
          "text": [
            "Collecting bitarray\n",
            "  Downloading bitarray-2.9.2-cp310-cp310-manylinux_2_17_x86_64.manylinux2014_x86_64.whl (288 kB)\n",
            "\u001b[2K     \u001b[90m━━━━━━━━━━━━━━━━━━━━━━━━━━━━━━━━━━━━━━━━\u001b[0m \u001b[32m288.3/288.3 kB\u001b[0m \u001b[31m4.6 MB/s\u001b[0m eta \u001b[36m0:00:00\u001b[0m\n",
            "\u001b[?25hInstalling collected packages: bitarray\n",
            "Successfully installed bitarray-2.9.2\n"
          ]
        }
      ]
    },
    {
      "cell_type": "code",
      "source": [
        "from pyeda.inter import *\n",
        "\n",
        "# Define input variables (A, B, C)\n",
        "A, B, C = map(exprvar, ['A', 'B', 'C'])\n",
        "\n",
        "# Boolean expression: (A AND B) OR (A AND C)\n",
        "expr = Or(And(A, B), And(A, C))\n",
        "\n",
        "# Display the original Boolean expression\n",
        "print(\"Original Boolean Expression:\")\n",
        "print(expr)\n",
        "\n",
        "# Apply Boolean algebra simplification\n",
        "simplified_expr = expr.simplify()\n",
        "\n",
        "# Display the simplified Boolean expression\n",
        "print(\"\\nSimplified Boolean Expression:\")\n",
        "print(simplified_expr)\n"
      ],
      "metadata": {
        "colab": {
          "base_uri": "https://localhost:8080/"
        },
        "id": "3GxsiHAlxrEP",
        "outputId": "ac41b770-6f7b-42e9-815d-eeb8ee399b87"
      },
      "execution_count": 8,
      "outputs": [
        {
          "output_type": "stream",
          "name": "stdout",
          "text": [
            "Original Boolean Expression:\n",
            "Or(And(A, B), And(A, C))\n",
            "\n",
            "Simplified Boolean Expression:\n",
            "Or(And(A, B), And(A, C))\n"
          ]
        }
      ]
    },
    {
      "cell_type": "code",
      "source": [
        "from bitarray import bitarray\n",
        "\n",
        "def half_adder(a, b):\n",
        "    sum = a ^ b\n",
        "    carry = a & b\n",
        "    return sum, carry\n",
        "\n",
        "def full_adder(a, b, carry_in):\n",
        "    sum1, carry1 = half_adder(a, b)\n",
        "    sum2, carry2 = half_adder(sum1, carry_in)\n",
        "    carry_out = carry1 | carry2\n",
        "    return sum2, carry_out\n",
        "\n",
        "def binary_adder(a, b):\n",
        "    size = max(len(a), len(b)) + 1\n",
        "    result = bitarray(size)\n",
        "    carry = 0\n",
        "\n",
        "    for i in range(size):\n",
        "        bit_a = a[i] if i < len(a) else 0\n",
        "        bit_b = b[i] if i < len(b) else 0\n",
        "        sum, carry = full_adder(bit_a, bit_b, carry)\n",
        "        result[i] = sum\n",
        "\n",
        "    return result\n"
      ],
      "metadata": {
        "id": "X2IR-64xx-2r"
      },
      "execution_count": 16,
      "outputs": []
    },
    {
      "cell_type": "code",
      "source": [
        "def binary_subtractor(a, b):\n",
        "    neg_b = bitarray(b)\n",
        "    # Compute two's complement of b\n",
        "    for i in range(len(neg_b)):\n",
        "        neg_b[i] = not neg_b[i]\n",
        "    neg_b = binary_adder(neg_b, bitarray('1'))\n",
        "\n",
        "    return binary_adder(a, neg_b)\n"
      ],
      "metadata": {
        "id": "qnPTonw8y4dj"
      },
      "execution_count": 17,
      "outputs": []
    },
    {
      "cell_type": "code",
      "source": [
        "def multiplexer(inputs, control):\n",
        "    if len(inputs) != 2**len(control):\n",
        "        raise ValueError(\"Number of inputs must be equal to 2**len(control).\")\n",
        "\n",
        "    index = 0\n",
        "    for i in range(len(control)):\n",
        "        if control[i]:\n",
        "            index += 2**i\n",
        "\n",
        "    return inputs[index]\n"
      ],
      "metadata": {
        "id": "oKObLSVFy5xD"
      },
      "execution_count": 24,
      "outputs": []
    },
    {
      "cell_type": "code",
      "source": [
        "def demultiplexer(input_signal, control):\n",
        "    outputs = []\n",
        "    for i in range(len(control)):\n",
        "        if control[i]:\n",
        "            outputs.append(input_signal)\n",
        "        else:\n",
        "            outputs.append(bitarray(len(input_signal)))  # Placeholder for unused output\n",
        "\n",
        "    return outputs\n"
      ],
      "metadata": {
        "id": "1kj4xSeay9Fr"
      },
      "execution_count": 20,
      "outputs": []
    },
    {
      "cell_type": "code",
      "source": [
        "def encoder(inputs):\n",
        "    size = len(inputs)\n",
        "    for i in range(size):\n",
        "        if inputs[i]:\n",
        "            return bitarray(bin(i)[2:].zfill(size))  # Encode the index into binary\n"
      ],
      "metadata": {
        "id": "oOCeWsSxy-iL"
      },
      "execution_count": 21,
      "outputs": []
    },
    {
      "cell_type": "code",
      "source": [
        "def decoder(binary_code):\n",
        "    size = len(binary_code)\n",
        "    index = int(binary_code.to01(), 2)  # Convert binary to integer\n",
        "    outputs = [False] * size\n",
        "    if 0 <= index < size:\n",
        "        outputs[index] = True\n",
        "\n",
        "    return outputs\n"
      ],
      "metadata": {
        "id": "dc1hrGrrzAIU"
      },
      "execution_count": 22,
      "outputs": []
    },
    {
      "cell_type": "code",
      "source": [
        "# Testing the circuits\n",
        "a = bitarray('1010')\n",
        "b = bitarray('0110')\n",
        "\n",
        "# Binary Addition\n",
        "sum_result = binary_adder(a, b)\n",
        "print(\"Binary Addition Result:\", sum_result.to01())  # Output: 10000\n",
        "\n",
        "# Binary Subtraction\n",
        "sub_result = binary_subtractor(a, b)\n",
        "print(\"Binary Subtraction Result:\", sub_result.to01())  # Output: 0100\n",
        "\n",
        "# Multiplexer\n",
        "inputs = [bitarray('1010'), bitarray('1100'), bitarray('0110'), bitarray('0001')]\n",
        "control = bitarray('10')\n",
        "mux_result = multiplexer(inputs, control)\n",
        "print(\"Multiplexer Result:\", mux_result.to01())  # Output: 1100\n",
        "\n",
        "# Demultiplexer\n",
        "demux_result = demultiplexer(a, control)\n",
        "print(\"Demultiplexer Result:\", [output.to01() for output in demux_result])  # Output: ['1010', '0110']\n",
        "\n",
        "# Encoder\n",
        "enc_inputs = bitarray('101')\n",
        "enc_result = encoder(enc_inputs)\n",
        "print(\"Encoder Result:\", enc_result.to01())  # Output: 010\n",
        "\n",
        "# Decoder\n",
        "dec_inputs = bitarray('010')\n",
        "dec_result = decoder(dec_inputs)\n",
        "print(\"Decoder Result:\", dec_result)  # Output: [False, True, False]\n"
      ],
      "metadata": {
        "colab": {
          "base_uri": "https://localhost:8080/"
        },
        "id": "kH0drNv-zBbc",
        "outputId": "0567cd7e-616d-4ec1-ce19-90ee8ff6e65b"
      },
      "execution_count": 25,
      "outputs": [
        {
          "output_type": "stream",
          "name": "stdout",
          "text": [
            "Binary Addition Result: 11010\n",
            "Binary Subtraction Result: 111100\n",
            "Multiplexer Result: 1100\n",
            "Demultiplexer Result: ['1010', '0000']\n",
            "Encoder Result: 000\n",
            "Decoder Result: [False, False, True]\n"
          ]
        }
      ]
    },
    {
      "cell_type": "markdown",
      "source": [
        "#Boolean Algebra"
      ],
      "metadata": {
        "id": "Q7XEUtJN0-oZ"
      }
    },
    {
      "cell_type": "markdown",
      "source": [
        "Boolean algebra is used to analyze and design combinational logic circuits:"
      ],
      "metadata": {
        "id": "jJo4L5u00_PS"
      }
    },
    {
      "cell_type": "markdown",
      "source": [
        "* Boolean Identities: Fundamental rules governing Boolean algebra (e.g., commutative, associative, distributive laws).\n",
        "* Simplification Techniques: Methods like Karnaugh maps and Boolean algebraic manipulation to simplify logic expressions.\n",
        "* Canonical Forms: Sum-of-Products (SOP) and Product-of-Sums (POS) representations of Boolean functions."
      ],
      "metadata": {
        "id": "owk-mXWu2kL5"
      }
    },
    {
      "cell_type": "code",
      "source": [
        "from sympy import symbols, Or, And, Not, simplify_logic\n",
        "\n",
        "# Define Boolean variables\n",
        "A, B, C = symbols('A B C', boolean=True)\n",
        "\n",
        "# Boolean identities\n",
        "commutative_law = Or(A, B).equals(Or(B, A))\n",
        "associative_law = Or(Or(A, B), C).equals(Or(A, Or(B, C)))\n",
        "distributive_law = And(A, Or(B, C)).equals(Or(And(A, B), And(A, C)))\n",
        "identity_law = Or(A, False).equals(A)\n",
        "\n",
        "# Boolean complement law: A OR NOT(A) = True\n",
        "complement_law = Or(A, Not(A))\n",
        "\n",
        "# Evaluate the complement law (should simplify to True)\n",
        "is_complement_law_true = complement_law.simplify()\n",
        "print(\"Complement Law:\", is_complement_law_true)\n",
        "\n",
        "\n",
        "# Print Boolean identities\n",
        "print(\"Commutative Law:\", commutative_law)\n",
        "print(\"Associative Law:\", associative_law)\n",
        "print(\"Distributive Law:\", distributive_law)\n",
        "print(\"Identity Law:\", identity_law)\n",
        "\n",
        "# Example Boolean expression for simplification\n",
        "expression = Or(And(A, B), And(A, C))\n",
        "\n",
        "# Simplify the expression using Boolean algebra\n",
        "simplified_expr = simplify_logic(expression)\n",
        "print(\"Simplified Expression:\", simplified_expr)\n"
      ],
      "metadata": {
        "colab": {
          "base_uri": "https://localhost:8080/"
        },
        "id": "vrTk8bZG1MWH",
        "outputId": "0b737d5a-79fa-42fd-a200-208dce000c43"
      },
      "execution_count": 30,
      "outputs": [
        {
          "output_type": "stream",
          "name": "stdout",
          "text": [
            "Complement Law: True\n",
            "Commutative Law: True\n",
            "Associative Law: True\n",
            "Distributive Law: True\n",
            "Identity Law: True\n",
            "Simplified Expression: A & (B | C)\n"
          ]
        }
      ]
    },
    {
      "cell_type": "markdown",
      "source": [
        "#Canonical Forms (Sum-of-Products and Product-of-Sums)"
      ],
      "metadata": {
        "id": "PM8gTZl03Dbj"
      }
    },
    {
      "cell_type": "code",
      "source": [
        "from sympy.logic.boolalg import to_cnf, to_dnf\n",
        "\n",
        "# Define a Boolean function (Example: A AND B OR A AND C)\n",
        "boolean_function = Or(And(A, B), And(A, C))\n",
        "\n",
        "# Convert to Sum-of-Products (SOP) form\n",
        "sop_form = to_cnf(boolean_function)\n",
        "print(\"Sum-of-Products (SOP) Form:\", sop_form)\n",
        "\n",
        "# Convert to Product-of-Sums (POS) form\n",
        "pos_form = to_dnf(boolean_function)\n",
        "print(\"Product-of-Sums (POS) Form:\", pos_form)\n"
      ],
      "metadata": {
        "colab": {
          "base_uri": "https://localhost:8080/"
        },
        "id": "G66czrZ-3Blh",
        "outputId": "d03541f5-d1d2-4424-90d5-1c6039e5d01d"
      },
      "execution_count": 31,
      "outputs": [
        {
          "output_type": "stream",
          "name": "stdout",
          "text": [
            "Sum-of-Products (SOP) Form: A & (A | B) & (A | C) & (B | C)\n",
            "Product-of-Sums (POS) Form: (A & B) | (A & C)\n"
          ]
        }
      ]
    },
    {
      "cell_type": "markdown",
      "source": [
        "#Implementation Tools\n",
        "Tools and languages used for designing and simulating combinational logic circuits:\n",
        "\n",
        "* HDLs (Hardware Description Languages): Verilog, VHDL for specifying hardware designs.\n",
        "* Logic Design Software: Xilinx Vivado, Altera Quartus for FPGA design.\n",
        "* Simulation Tools: ModelSim, Verilator for HDL simulation.\n",
        "* Circuit Design Platforms: Arduino, Raspberry Pi for hardware prototyping."
      ],
      "metadata": {
        "id": "JnKsHmoA3Mte"
      }
    },
    {
      "cell_type": "code",
      "source": [
        "def generate_verilog_half_adder():\n",
        "    verilog_code = \"\"\"\n",
        "module half_adder(input a, input b, output sum, output carry);\n",
        "    assign sum = a ^ b;\n",
        "    assign carry = a & b;\n",
        "endmodule\n",
        "\"\"\"\n",
        "    with open('half_adder.v', 'w') as f:\n",
        "        f.write(verilog_code)\n",
        "\n",
        "# Generate Verilog code for half adder\n",
        "generate_verilog_half_adder()\n"
      ],
      "metadata": {
        "id": "YlHz0dYs3VPN"
      },
      "execution_count": 32,
      "outputs": []
    },
    {
      "cell_type": "code",
      "source": [
        "%pip install myhdl"
      ],
      "metadata": {
        "colab": {
          "base_uri": "https://localhost:8080/"
        },
        "id": "bFN7pSAY3ZZ3",
        "outputId": "1f6be924-5328-46ae-a197-59d87134c360"
      },
      "execution_count": 34,
      "outputs": [
        {
          "output_type": "stream",
          "name": "stdout",
          "text": [
            "Collecting myhdl\n",
            "  Downloading myhdl-0.11.45-py3-none-any.whl (157 kB)\n",
            "\u001b[2K     \u001b[90m━━━━━━━━━━━━━━━━━━━━━━━━━━━━━━━━━━━━━━━━\u001b[0m \u001b[32m158.0/158.0 kB\u001b[0m \u001b[31m3.7 MB/s\u001b[0m eta \u001b[36m0:00:00\u001b[0m\n",
            "\u001b[?25hInstalling collected packages: myhdl\n",
            "Successfully installed myhdl-0.11.45\n"
          ]
        }
      ]
    },
    {
      "cell_type": "code",
      "source": [
        "from myhdl import block, always_comb, Signal, delay, Simulation, instance, StopSimulation\n",
        "\n",
        "@block\n",
        "def half_adder(a, b, sum_out, carry_out):\n",
        "    @always_comb\n",
        "    def logic():\n",
        "        sum_out.next = a ^ b\n",
        "        carry_out.next = a & b\n",
        "\n",
        "    return logic\n",
        "\n",
        "def test_half_adder():\n",
        "    a, b = Signal(bool(0)), Signal(bool(0))\n",
        "    sum_out, carry_out = Signal(bool(0)), Signal(bool(0))\n",
        "    half_adder_inst = half_adder(a, b, sum_out, carry_out)\n",
        "\n",
        "    @block\n",
        "    def stimulus():\n",
        "        @instance\n",
        "        def stimulus_proc():\n",
        "            yield delay(10)\n",
        "            a.next = 0\n",
        "            b.next = 0\n",
        "            yield delay(10)\n",
        "            a.next = 1\n",
        "            b.next = 0\n",
        "            yield delay(10)\n",
        "            a.next = 0\n",
        "            b.next = 1\n",
        "            yield delay(10)\n",
        "            a.next = 1\n",
        "            b.next = 1\n",
        "            yield delay(10)\n",
        "            raise StopSimulation()\n",
        "\n",
        "        return stimulus_proc\n",
        "\n",
        "    sim = Simulation(half_adder_inst, stimulus())\n",
        "    sim.run()\n",
        "\n",
        "test_half_adder()\n"
      ],
      "metadata": {
        "id": "TbMtFyR83YD-"
      },
      "execution_count": 38,
      "outputs": []
    },
    {
      "cell_type": "code",
      "source": [
        "%pip install serial"
      ],
      "metadata": {
        "colab": {
          "base_uri": "https://localhost:8080/"
        },
        "id": "Ri1FknDh3s5d",
        "outputId": "7c731d49-db0f-4e66-8098-817be498c613"
      },
      "execution_count": 39,
      "outputs": [
        {
          "output_type": "stream",
          "name": "stdout",
          "text": [
            "Collecting serial\n",
            "  Downloading serial-0.0.97-py2.py3-none-any.whl (40 kB)\n",
            "\u001b[?25l     \u001b[90m━━━━━━━━━━━━━━━━━━━━━━━━━━━━━━━━━━━━━━━━\u001b[0m \u001b[32m0.0/40.9 kB\u001b[0m \u001b[31m?\u001b[0m eta \u001b[36m-:--:--\u001b[0m\r\u001b[2K     \u001b[90m━━━━━━━━━━━━━━━━━━━━━━━━━━━━━━━━━━━━━━━━\u001b[0m \u001b[32m40.9/40.9 kB\u001b[0m \u001b[31m1.6 MB/s\u001b[0m eta \u001b[36m0:00:00\u001b[0m\n",
            "\u001b[?25hRequirement already satisfied: future>=0.17.1 in /usr/local/lib/python3.10/dist-packages (from serial) (0.18.3)\n",
            "Requirement already satisfied: pyyaml>=3.13 in /usr/local/lib/python3.10/dist-packages (from serial) (6.0.1)\n",
            "Collecting iso8601>=0.1.12 (from serial)\n",
            "  Downloading iso8601-2.1.0-py3-none-any.whl (7.5 kB)\n",
            "Installing collected packages: iso8601, serial\n",
            "Successfully installed iso8601-2.1.0 serial-0.0.97\n"
          ]
        }
      ]
    },
    {
      "cell_type": "code",
      "source": [
        "import serial\n",
        "import time\n",
        "\n",
        "# Replace 'COM3' with the appropriate port name for your Arduino\n",
        "arduino_port = 'COM3'\n",
        "baud_rate = 9600\n",
        "\n",
        "try:\n",
        "    # Open serial connection to Arduino\n",
        "    ser = serial.serial_for_url(f'serial://{arduino_port}', baudrate=baud_rate, timeout=1)\n",
        "    print(f\"Serial connection established on {arduino_port} at {baud_rate} baud.\")\n",
        "\n",
        "    # Wait for the serial connection to be established (2 seconds delay)\n",
        "    time.sleep(2)\n",
        "\n",
        "    # Send commands to Arduino\n",
        "    ser.write(b'H')  # Example: Send character 'H' to turn on an LED\n",
        "    time.sleep(1)    # Wait for 1 second\n",
        "    ser.write(b'L')  # Example: Send character 'L' to turn off the LED\n",
        "    time.sleep(1)    # Wait for 1 second\n",
        "\n",
        "except serial.SerialException as e:\n",
        "    print(f\"Error: {e}\")\n",
        "\n",
        "finally:\n",
        "    # Close serial connection\n",
        "    if ser.is_open:\n",
        "        ser.close()\n",
        "        print(\"Serial connection closed.\")\n"
      ],
      "metadata": {
        "id": "Kz-J99YX4B6k"
      },
      "execution_count": null,
      "outputs": []
    }
  ]
}