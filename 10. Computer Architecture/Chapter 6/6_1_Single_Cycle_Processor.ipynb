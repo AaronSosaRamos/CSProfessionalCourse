{
  "nbformat": 4,
  "nbformat_minor": 0,
  "metadata": {
    "colab": {
      "provenance": []
    },
    "kernelspec": {
      "name": "python3",
      "display_name": "Python 3"
    },
    "language_info": {
      "name": "python"
    }
  },
  "cells": [
    {
      "cell_type": "markdown",
      "source": [
        "#Single-Cycle Processor"
      ],
      "metadata": {
        "id": "bPfOeD9zuz33"
      }
    },
    {
      "cell_type": "markdown",
      "source": [
        "A Single-Cycle Processor is a type of processor design where each instruction is executed in a single clock cycle. In this architecture, all instructions, regardless of their complexity or type, take the same amount of time to complete. The processor is organized such that each stage of instruction execution (fetch, decode, execute, memory access, and write-back) occurs within one clock cycle. This simplicity in design leads to a straightforward control mechanism but may result in inefficiencies for complex instructions that require multiple cycles to execute. Single-cycle processors are often used for educational purposes and in simpler embedded systems where performance requirements are not stringent. They provide a clear and easy-to-understand model of how a processor executes instructions sequentially within a fixed time frame."
      ],
      "metadata": {
        "id": "GPrHUElZu07t"
      }
    },
    {
      "cell_type": "code",
      "execution_count": null,
      "metadata": {
        "colab": {
          "base_uri": "https://localhost:8080/"
        },
        "id": "U5wQbB4Uukxi",
        "outputId": "67450673-9cbf-46ef-a717-f61eee9f7fe3"
      },
      "outputs": [
        {
          "output_type": "stream",
          "name": "stdout",
          "text": [
            "Final state after execution:\n",
            "Registers: [0, 1, 0, 0, 0, 0, 0, 0]\n",
            "Memory: [('LOAD', 1, 0, 2, 10), ('LOAD', 2, 0, 3, 20), ('ADD', 2, 3, 4, 0), ('STORE', 4, 0, 5, 30), ('BEQ', 1, 2, 0, 3), ('ADD', 1, 1, 1, 1), None, None, None, None, 5, None, None, None, None, None, None, None, None, None, 10, None, None, None, None, None, None, None, None, None, 0, None, None, None, None, None, None, None, None, None, None, None, None, None, None, None, None, None, None, None, None, None, None, None, None, None, None, None, None, None, None, None, None, None, None, None, None, None, None, None, None, None, None, None, None, None, None, None, None, None, None, None, None, None, None, None, None, None, None, None, None, None, None, None, None, None, None, None, None, None, None, None, None, None, None, None, None, None, None, None, None, None, None, None, None, None, None, None, None, None, None, None, None, None, None, None, None, None, None, None, None, None, None, None, None, None, None, None, None, None, None, None, None, None, None, None, None, None, None, None, None, None, None, None, None, None, None, None, None, None, None, None, None, None, None, None, None, None, None, None, None, None, None, None, None, None, None, None, None, None, None, None, None, None, None, None, None, None, None, None, None, None, None, None, None, None, None, None, None, None, None, None, None, None, None, None, None, None, None, None, None, None, None, None, None, None, None, None, None, None, None, None, None, None, None, None, None, None, None, None, None, None, None, None, None, None, None, None, None, None, None, None, None, None, None, None, None, None, None, None, None, None, None, None, None, None]\n",
            "Final register values: [0, 1, 0, 0, 0, 0, 0, 0]\n",
            "Memory content at address 30: 0\n"
          ]
        }
      ],
      "source": [
        "class SingleCycleProcessor:\n",
        "    def __init__(self):\n",
        "        # Initialize registers\n",
        "        self.registers = [0] * 8  # 8 general-purpose registers (R0-R7)\n",
        "        self.pc = 0  # Program counter\n",
        "\n",
        "        # Initialize memory\n",
        "        self.memory = [None] * 256  # 256 bytes of memory\n",
        "\n",
        "    def execute_instruction(self, opcode, rs, rt, rd, immediate):\n",
        "        if opcode == 'ADD':\n",
        "            if self.registers[rs] is not None and self.registers[rt] is not None:\n",
        "                self.registers[rd] = self.registers[rs] + self.registers[rt]\n",
        "        elif opcode == 'SUB':\n",
        "            if self.registers[rs] is not None and self.registers[rt] is not None:\n",
        "                self.registers[rd] = self.registers[rs] - self.registers[rt]\n",
        "        elif opcode == 'LOAD':\n",
        "            if self.registers[rs] is not None:\n",
        "                address = self.registers[rs] + immediate\n",
        "                if address < len(self.memory) and self.memory[address] is not None:\n",
        "                    self.registers[rd] = self.memory[address]\n",
        "        elif opcode == 'STORE':\n",
        "            if self.registers[rs] is not None and self.registers[rt] is not None:\n",
        "                address = self.registers[rs] + immediate\n",
        "                if address < len(self.memory):\n",
        "                    self.memory[address] = self.registers[rt]\n",
        "        elif opcode == 'BEQ':\n",
        "            if self.registers[rs] is not None and self.registers[rt] is not None:\n",
        "                if self.registers[rs] == self.registers[rt]:\n",
        "                    self.pc += immediate  # Branch to the specified address (relative jump)\n",
        "                    return True  # Signal successful branch\n",
        "\n",
        "        # Increment program counter\n",
        "        self.pc += 1\n",
        "        return False  # No branch taken\n",
        "\n",
        "    def print_state(self):\n",
        "        print(\"Registers:\", self.registers)\n",
        "        print(\"Memory:\", self.memory)\n",
        "\n",
        "    def load_program(self, program):\n",
        "        # Load program into memory starting at address 0\n",
        "        for i, instruction in enumerate(program):\n",
        "            self.memory[i] = instruction\n",
        "\n",
        "    def run_program(self):\n",
        "        while self.pc < len(self.memory) and self.memory[self.pc] is not None:\n",
        "            instruction = self.memory[self.pc]\n",
        "            opcode, rs, rt, rd, immediate = instruction\n",
        "            branch_taken = self.execute_instruction(opcode, rs, rt, rd, immediate)\n",
        "            if not branch_taken:\n",
        "                self.pc += 1  # Move to the next instruction if no branch was taken\n",
        "\n",
        "        # Print final state after program execution\n",
        "        print(\"Final state after execution:\")\n",
        "        self.print_state()\n",
        "\n",
        "# Usage example:\n",
        "if __name__ == \"__main__\":\n",
        "    processor = SingleCycleProcessor()\n",
        "\n",
        "    # Initialize registers and memory with example values\n",
        "    processor.registers[0] = 0  # R0\n",
        "    processor.registers[1] = 1  # R1 (loop counter)\n",
        "    processor.memory[10] = 5  # Memory address 10 = 5\n",
        "    processor.memory[20] = 10  # Memory address 20 = 10\n",
        "    processor.memory[30] = 0  # Memory address 30 (initial value, will be overwritten)\n",
        "\n",
        "    # Define a sample program (instructions encoded as tuples)\n",
        "    program = [\n",
        "        ('LOAD', 1, 0, 2, 10),  # Load R2 with the value at address (R0 + 10)\n",
        "        ('LOAD', 2, 0, 3, 20),  # Load R3 with the value at address (R0 + 20)\n",
        "        ('ADD', 2, 3, 4, 0),    # Add R2 and R3, store result in R4\n",
        "        ('STORE', 4, 0, 5, 30),  # Store the value in R4 at address (R0 + 30)\n",
        "        ('BEQ', 1, 2, 0, 3),     # Branch to PC + 3 if R1 == R2 (simulate loop)\n",
        "        ('ADD', 1, 1, 1, 1)      # Increment R1 (loop counter)\n",
        "    ]\n",
        "\n",
        "    # Load program into memory and execute it\n",
        "    processor.load_program(program)\n",
        "    processor.run_program()\n",
        "\n",
        "    # Print final state after execution\n",
        "    print(\"Final register values:\", processor.registers)\n",
        "    print(\"Memory content at address 30:\", processor.memory[30])"
      ]
    }
  ]
}