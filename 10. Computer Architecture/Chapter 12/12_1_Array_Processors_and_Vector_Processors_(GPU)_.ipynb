{
  "nbformat": 4,
  "nbformat_minor": 0,
  "metadata": {
    "colab": {
      "provenance": []
    },
    "kernelspec": {
      "name": "python3",
      "display_name": "Python 3"
    },
    "language_info": {
      "name": "python"
    }
  },
  "cells": [
    {
      "cell_type": "markdown",
      "source": [
        "#Array Processors and Vector Processors (GPU)"
      ],
      "metadata": {
        "id": "P8xjaTr7xmoz"
      }
    },
    {
      "cell_type": "markdown",
      "source": [
        "#Array Processor Simulation"
      ],
      "metadata": {
        "id": "0_RUV1vBxyTW"
      }
    },
    {
      "cell_type": "code",
      "source": [
        "import numpy as np\n",
        "import multiprocessing\n",
        "\n",
        "class ArrayProcessor:\n",
        "    def __init__(self, num_cores):\n",
        "        self.num_cores = num_cores\n",
        "\n",
        "    def execute_elementwise_operation(self, array, operation):\n",
        "        # Split array into chunks based on number of CPU cores\n",
        "        chunk_size = len(array) // self.num_cores\n",
        "        chunks = [array[i:i+chunk_size] for i in range(0, len(array), chunk_size)]\n",
        "\n",
        "        # Execute operation in parallel using multiprocessing\n",
        "        pool = multiprocessing.Pool(self.num_cores)\n",
        "        results = pool.map(operation, chunks)\n",
        "        pool.close()\n",
        "        pool.join()\n",
        "\n",
        "        # Concatenate results from all cores\n",
        "        result_array = np.concatenate(results)\n",
        "        return result_array\n",
        "\n",
        "\n",
        "# Define element-wise operations (example functions)\n",
        "def square_chunk(chunk):\n",
        "    return np.square(chunk)\n",
        "\n",
        "def negate_chunk(chunk):\n",
        "    return -chunk\n",
        "\n",
        "# Usage example:\n",
        "if __name__ == '__main__':\n",
        "    # Initialize array processor with 4 cores\n",
        "    array_processor = ArrayProcessor(num_cores=4)\n",
        "\n",
        "    # Create input array\n",
        "    array = np.array([1, 2, 3, 4, 5, 6, 7, 8])\n",
        "\n",
        "    # Execute element-wise square operation using array processor\n",
        "    squared_result = array_processor.execute_elementwise_operation(array, square_chunk)\n",
        "    print(\"Result of element-wise square operation:\", squared_result)\n",
        "\n",
        "    # Execute element-wise negation operation using array processor\n",
        "    negated_result = array_processor.execute_elementwise_operation(array, negate_chunk)\n",
        "    print(\"Result of element-wise negation operation:\", negated_result)"
      ],
      "metadata": {
        "colab": {
          "base_uri": "https://localhost:8080/"
        },
        "id": "ACl2-cbDx0vH",
        "outputId": "a9699d8e-224c-49ad-df64-c64b7329d91f"
      },
      "execution_count": null,
      "outputs": [
        {
          "output_type": "stream",
          "name": "stdout",
          "text": [
            "Result of element-wise square operation: [ 1  4  9 16 25 36 49 64]\n",
            "Result of element-wise negation operation: [-1 -2 -3 -4 -5 -6 -7 -8]\n"
          ]
        }
      ]
    },
    {
      "cell_type": "markdown",
      "source": [
        "#Vector Operation Simulation\n"
      ],
      "metadata": {
        "id": "DGIy8cyNxohL"
      }
    },
    {
      "cell_type": "code",
      "execution_count": null,
      "metadata": {
        "colab": {
          "base_uri": "https://localhost:8080/"
        },
        "id": "FazB7RCQxhXv",
        "outputId": "816d909d-15e1-4848-9574-32a4f8f2bccb"
      },
      "outputs": [
        {
          "output_type": "stream",
          "name": "stdout",
          "text": [
            "Result of vector addition using GPU: [11 22 33 44 55 66 77 88]\n"
          ]
        }
      ],
      "source": [
        "import numpy as np\n",
        "\n",
        "class GPU:\n",
        "    def __init__(self, num_cores):\n",
        "        self.num_cores = num_cores\n",
        "\n",
        "    def execute_vector_addition(self, vector_a, vector_b):\n",
        "        # Simulate parallel vector addition using GPU cores\n",
        "        if len(vector_a) != len(vector_b):\n",
        "            raise ValueError(\"Vector dimensions must match for addition\")\n",
        "\n",
        "        # Split vectors into chunks based on number of GPU cores\n",
        "        chunk_size = len(vector_a) // self.num_cores\n",
        "        chunks_a = [vector_a[i:i+chunk_size] for i in range(0, len(vector_a), chunk_size)]\n",
        "        chunks_b = [vector_b[i:i+chunk_size] for i in range(0, len(vector_b), chunk_size)]\n",
        "\n",
        "        # Execute vector addition in parallel using GPU cores\n",
        "        results = []\n",
        "        for i in range(self.num_cores):\n",
        "            results.append(chunks_a[i] + chunks_b[i])\n",
        "\n",
        "        # Concatenate results from all cores\n",
        "        result_vector = np.concatenate(results)\n",
        "        return result_vector\n",
        "\n",
        "\n",
        "# Usage example:\n",
        "gpu = GPU(num_cores=4)\n",
        "\n",
        "# Create input vectors\n",
        "vector_a = np.array([1, 2, 3, 4, 5, 6, 7, 8])\n",
        "vector_b = np.array([10, 20, 30, 40, 50, 60, 70, 80])\n",
        "\n",
        "# Execute vector addition using GPU\n",
        "result_vector = gpu.execute_vector_addition(vector_a, vector_b)\n",
        "print(\"Result of vector addition using GPU:\", result_vector)\n"
      ]
    }
  ]
}