{
  "nbformat": 4,
  "nbformat_minor": 0,
  "metadata": {
    "colab": {
      "provenance": []
    },
    "kernelspec": {
      "name": "python3",
      "display_name": "Python 3"
    },
    "language_info": {
      "name": "python"
    }
  },
  "cells": [
    {
      "cell_type": "markdown",
      "source": [
        "#Digital Design - Sequential Logic"
      ],
      "metadata": {
        "id": "qyl6vpCdlkEO"
      }
    },
    {
      "cell_type": "markdown",
      "source": [
        "Digital design refers to the process of designing circuits and systems that use digital signals, such as those in computers and other digital electronics. It involves the use of logic gates, memory elements, and other digital components to achieve specific functionalities.\n",
        "\n"
      ],
      "metadata": {
        "id": "uYepkve_lhjO"
      }
    },
    {
      "cell_type": "code",
      "source": [
        "%pip install myhdl"
      ],
      "metadata": {
        "colab": {
          "base_uri": "https://localhost:8080/"
        },
        "id": "SWSGRnDVlorW",
        "outputId": "5a7b9f16-d7fd-4b17-8992-12a61bcdf35b"
      },
      "execution_count": null,
      "outputs": [
        {
          "output_type": "stream",
          "name": "stdout",
          "text": [
            "Collecting myhdl\n",
            "  Downloading myhdl-0.11.45-py3-none-any.whl (157 kB)\n",
            "\u001b[?25l     \u001b[90m━━━━━━━━━━━━━━━━━━━━━━━━━━━━━━━━━━━━━━━━\u001b[0m \u001b[32m0.0/158.0 kB\u001b[0m \u001b[31m?\u001b[0m eta \u001b[36m-:--:--\u001b[0m\r\u001b[2K     \u001b[91m━━━━━━━━━━━━━━━━━━━━━━━━━━━━━━━━━━━━━━\u001b[0m\u001b[91m╸\u001b[0m\u001b[90m━\u001b[0m \u001b[32m153.6/158.0 kB\u001b[0m \u001b[31m4.5 MB/s\u001b[0m eta \u001b[36m0:00:01\u001b[0m\r\u001b[2K     \u001b[90m━━━━━━━━━━━━━━━━━━━━━━━━━━━━━━━━━━━━━━━━\u001b[0m \u001b[32m158.0/158.0 kB\u001b[0m \u001b[31m3.3 MB/s\u001b[0m eta \u001b[36m0:00:00\u001b[0m\n",
            "\u001b[?25hInstalling collected packages: myhdl\n",
            "Successfully installed myhdl-0.11.45\n"
          ]
        }
      ]
    },
    {
      "cell_type": "code",
      "source": [
        "from myhdl import block, Signal, delay, always_comb\n",
        "\n",
        "@block\n",
        "def and_gate(A, B, C):\n",
        "    @always_comb\n",
        "    def logic():\n",
        "        C.next = A and B\n",
        "\n",
        "    return logic\n",
        "\n",
        "# Usage\n",
        "A, B, C = [Signal(bool(1)) for _ in range(3)]\n",
        "and_inst = and_gate(A, B, C)\n",
        "\n",
        "def simulate():\n",
        "    for i in range(2):\n",
        "        for j in range(2):\n",
        "            A.next, B.next = bool(i), bool(j)\n",
        "            print(f\"A = {int(A)}, B = {int(B)}, C = {int(C)}\")\n",
        "\n",
        "simulate()\n"
      ],
      "metadata": {
        "colab": {
          "base_uri": "https://localhost:8080/"
        },
        "id": "lhC7wwizlhXX",
        "outputId": "b9e43170-a66a-40d4-a34f-df6c7c59eb55"
      },
      "execution_count": null,
      "outputs": [
        {
          "output_type": "stream",
          "name": "stdout",
          "text": [
            "A = 1, B = 1, C = 1\n",
            "A = 1, B = 1, C = 1\n",
            "A = 1, B = 1, C = 1\n",
            "A = 1, B = 1, C = 1\n"
          ]
        }
      ]
    },
    {
      "cell_type": "markdown",
      "source": [
        "#Sequential Logic"
      ],
      "metadata": {
        "id": "s5Ru4rfTmRq2"
      }
    },
    {
      "cell_type": "markdown",
      "source": [
        "Sequential logic refers to digital circuits where the output not only depends on the present input but also on the history of inputs. This is achieved using memory elements like flip-flops. Sequential circuits have states and can store information, which allows them to perform tasks like counting or remembering past inputs.\n",
        "\n"
      ],
      "metadata": {
        "id": "yfaE1X1bmU73"
      }
    },
    {
      "cell_type": "markdown",
      "source": [
        "#Finite State Machine (FSM)"
      ],
      "metadata": {
        "id": "AhzDHsTamiyG"
      }
    },
    {
      "cell_type": "code",
      "source": [
        "class StateMachine:\n",
        "    def __init__(self):\n",
        "        self.state = 'A'\n",
        "\n",
        "    def transition(self, input_signal):\n",
        "        if self.state == 'A':\n",
        "            if input_signal == 0:\n",
        "                self.state = 'B'\n",
        "            else:\n",
        "                self.state = 'A'\n",
        "        elif self.state == 'B':\n",
        "            if input_signal == 0:\n",
        "                self.state = 'A'\n",
        "            else:\n",
        "                self.state = 'B'\n",
        "\n",
        "    def get_state(self):\n",
        "        return self.state\n",
        "\n",
        "# Usage example:\n",
        "if __name__ == \"__main__\":\n",
        "    fsm = StateMachine()\n",
        "    inputs = [0, 1, 0, 1, 0]\n",
        "\n",
        "    for inp in inputs:\n",
        "        fsm.transition(inp)\n",
        "        print(f\"Input: {inp}, Current State: {fsm.get_state()}\")"
      ],
      "metadata": {
        "colab": {
          "base_uri": "https://localhost:8080/"
        },
        "id": "nkVJ4sBUmUyw",
        "outputId": "e8c1a75f-7776-48a4-cff1-6bffb4c70ab3"
      },
      "execution_count": null,
      "outputs": [
        {
          "output_type": "stream",
          "name": "stdout",
          "text": [
            "Input: 0, Current State: B\n",
            "Input: 1, Current State: B\n",
            "Input: 0, Current State: A\n",
            "Input: 1, Current State: A\n",
            "Input: 0, Current State: B\n"
          ]
        }
      ]
    },
    {
      "cell_type": "markdown",
      "source": [
        "#Shift Register Simulation"
      ],
      "metadata": {
        "id": "gjHcxDYpmlfG"
      }
    },
    {
      "cell_type": "code",
      "source": [
        "class ShiftRegister:\n",
        "    def __init__(self, size):\n",
        "        self.size = size\n",
        "        self.data = [0] * size\n",
        "\n",
        "    def shift_left(self, input_bit):\n",
        "        # Shift existing data to the left\n",
        "        for i in range(self.size - 1):\n",
        "            self.data[i] = self.data[i + 1]\n",
        "        # Insert new input bit at the end\n",
        "        self.data[self.size - 1] = input_bit\n",
        "\n",
        "    def get_output(self):\n",
        "        return self.data\n",
        "\n",
        "# Usage example:\n",
        "if __name__ == \"__main__\":\n",
        "    reg = ShiftRegister(4)\n",
        "    inputs = [1, 0, 1, 1, 0]\n",
        "\n",
        "    for inp in inputs:\n",
        "        reg.shift_left(inp)\n",
        "        print(f\"Input: {inp}, Register State: {reg.get_output()}\")"
      ],
      "metadata": {
        "colab": {
          "base_uri": "https://localhost:8080/"
        },
        "id": "oYa5iOzbml6e",
        "outputId": "0c9e8dd5-9a0c-4800-dc94-0a61461bae73"
      },
      "execution_count": null,
      "outputs": [
        {
          "output_type": "stream",
          "name": "stdout",
          "text": [
            "Input: 1, Register State: [0, 0, 0, 1]\n",
            "Input: 0, Register State: [0, 0, 1, 0]\n",
            "Input: 1, Register State: [0, 1, 0, 1]\n",
            "Input: 1, Register State: [1, 0, 1, 1]\n",
            "Input: 0, Register State: [0, 1, 1, 0]\n"
          ]
        }
      ]
    },
    {
      "cell_type": "markdown",
      "source": [
        "#D Flip-Flop Simulation"
      ],
      "metadata": {
        "id": "JaE93Sllm472"
      }
    },
    {
      "cell_type": "code",
      "source": [
        "class DFlipFlop:\n",
        "    def __init__(self):\n",
        "        self.q = 0\n",
        "\n",
        "    def update(self, d, clk):\n",
        "        if clk == 1:  # Rising edge trigger\n",
        "            self.q = d\n",
        "\n",
        "    def get_output(self):\n",
        "        return self.q\n",
        "\n",
        "# Usage example:\n",
        "if __name__ == \"__main__\":\n",
        "    dff = DFlipFlop()\n",
        "    inputs_d = [0, 1, 0, 1]\n",
        "    clock = [0, 1, 0, 1]\n",
        "\n",
        "    for d, clk in zip(inputs_d, clock):\n",
        "        dff.update(d, clk)\n",
        "        print(f\"Clock: {clk}, Input D: {d}, Output Q: {dff.get_output()}\")"
      ],
      "metadata": {
        "colab": {
          "base_uri": "https://localhost:8080/"
        },
        "id": "wieNDXi8m5d2",
        "outputId": "762c4fba-6f71-4e36-e2d2-7c82512ae8d9"
      },
      "execution_count": null,
      "outputs": [
        {
          "output_type": "stream",
          "name": "stdout",
          "text": [
            "Clock: 0, Input D: 0, Output Q: 0\n",
            "Clock: 1, Input D: 1, Output Q: 1\n",
            "Clock: 0, Input D: 0, Output Q: 1\n",
            "Clock: 1, Input D: 1, Output Q: 1\n"
          ]
        }
      ]
    },
    {
      "cell_type": "markdown",
      "source": [
        "#Counter using Sequential Logic"
      ],
      "metadata": {
        "id": "XUNKzt-Sm75-"
      }
    },
    {
      "cell_type": "code",
      "source": [
        "class Counter:\n",
        "    def __init__(self, num_bits):\n",
        "        self.num_bits = num_bits\n",
        "        self.count = [0] * num_bits\n",
        "\n",
        "    def increment(self):\n",
        "        carry = 1\n",
        "        for i in range(self.num_bits):\n",
        "            self.count[i] += carry\n",
        "            if self.count[i] <= 1:\n",
        "                break\n",
        "            else:\n",
        "                self.count[i] = 0\n",
        "                carry = 1\n",
        "\n",
        "    def get_output(self):\n",
        "        return self.count\n",
        "\n",
        "# Usage example:\n",
        "if __name__ == \"__main__\":\n",
        "    counter = Counter(4)\n",
        "\n",
        "    for _ in range(10):  # Increment the counter 10 times\n",
        "        counter.increment()\n",
        "        print(f\"Counter Output: {counter.get_output()}\")"
      ],
      "metadata": {
        "colab": {
          "base_uri": "https://localhost:8080/"
        },
        "id": "qMbyZ_Zxm9pu",
        "outputId": "bfc25c31-11a9-4a6a-b42e-f7822ef303b2"
      },
      "execution_count": null,
      "outputs": [
        {
          "output_type": "stream",
          "name": "stdout",
          "text": [
            "Counter Output: [1, 0, 0, 0]\n",
            "Counter Output: [0, 1, 0, 0]\n",
            "Counter Output: [1, 1, 0, 0]\n",
            "Counter Output: [0, 0, 1, 0]\n",
            "Counter Output: [1, 0, 1, 0]\n",
            "Counter Output: [0, 1, 1, 0]\n",
            "Counter Output: [1, 1, 1, 0]\n",
            "Counter Output: [0, 0, 0, 1]\n",
            "Counter Output: [1, 0, 0, 1]\n",
            "Counter Output: [0, 1, 0, 1]\n"
          ]
        }
      ]
    },
    {
      "cell_type": "markdown",
      "source": [
        "#Finite State Machine (FSM) with Moore Output"
      ],
      "metadata": {
        "id": "3C0010lfnAp-"
      }
    },
    {
      "cell_type": "code",
      "source": [
        "class MooreStateMachine:\n",
        "    def __init__(self):\n",
        "        self.state = 'A'\n",
        "\n",
        "    def transition(self, input_signal):\n",
        "        if self.state == 'A':\n",
        "            if input_signal == 0:\n",
        "                self.state = 'B'\n",
        "            else:\n",
        "                self.state = 'A'\n",
        "        elif self.state == 'B':\n",
        "            if input_signal == 0:\n",
        "                self.state = 'A'\n",
        "            else:\n",
        "                self.state = 'B'\n",
        "\n",
        "    def output(self):\n",
        "        if self.state == 'A':\n",
        "            return 0\n",
        "        elif self.state == 'B':\n",
        "            return 1\n",
        "\n",
        "# Usage example:\n",
        "if __name__ == \"__main__\":\n",
        "    fsm = MooreStateMachine()\n",
        "    inputs = [0, 1, 0, 1, 0]\n",
        "\n",
        "    for inp in inputs:\n",
        "        fsm.transition(inp)\n",
        "        print(f\"Input: {inp}, Current State: {fsm.state}, Output: {fsm.output()}\")"
      ],
      "metadata": {
        "id": "yk6ZSwJwnKYW",
        "outputId": "ae0ecc5f-535f-4d83-b8d2-5b2967c0fafb",
        "colab": {
          "base_uri": "https://localhost:8080/"
        }
      },
      "execution_count": null,
      "outputs": [
        {
          "output_type": "stream",
          "name": "stdout",
          "text": [
            "Input: 0, Current State: B, Output: 1\n",
            "Input: 1, Current State: B, Output: 1\n",
            "Input: 0, Current State: A, Output: 0\n",
            "Input: 1, Current State: A, Output: 0\n",
            "Input: 0, Current State: B, Output: 1\n"
          ]
        }
      ]
    }
  ]
}