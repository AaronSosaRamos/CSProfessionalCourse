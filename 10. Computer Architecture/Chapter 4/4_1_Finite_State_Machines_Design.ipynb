{
  "nbformat": 4,
  "nbformat_minor": 0,
  "metadata": {
    "colab": {
      "provenance": []
    },
    "kernelspec": {
      "name": "python3",
      "display_name": "Python 3"
    },
    "language_info": {
      "name": "python"
    }
  },
  "cells": [
    {
      "cell_type": "markdown",
      "source": [
        "#Finite State Machines Design"
      ],
      "metadata": {
        "id": "z2kZuXWSpq13"
      }
    },
    {
      "cell_type": "markdown",
      "source": [
        "#Basic Finite State Machine (FSM)"
      ],
      "metadata": {
        "id": "jg0BE4ItrATW"
      }
    },
    {
      "cell_type": "code",
      "execution_count": null,
      "metadata": {
        "colab": {
          "base_uri": "https://localhost:8080/"
        },
        "id": "ngO2CYBgo4fC",
        "outputId": "02899688-da5c-41f4-e2ef-f9ee617e74fb"
      },
      "outputs": [
        {
          "output_type": "stream",
          "name": "stdout",
          "text": [
            "Input: A, Current State: S1\n",
            "Input: B, Current State: S2\n",
            "Input: C, Current State: S2\n",
            "Input: A, Current State: S2\n"
          ]
        }
      ],
      "source": [
        "class FiniteStateMachine:\n",
        "    def __init__(self):\n",
        "        self.state = 'S0'\n",
        "\n",
        "    def transition(self, input):\n",
        "        if self.state == 'S0':\n",
        "            if input == 'A':\n",
        "                self.state = 'S1'\n",
        "        elif self.state == 'S1':\n",
        "            if input == 'B':\n",
        "                self.state = 'S2'\n",
        "            elif input == 'C':\n",
        "                self.state = 'S0'\n",
        "\n",
        "    def get_state(self):\n",
        "        return self.state\n",
        "\n",
        "# Usage example:\n",
        "if __name__ == \"__main__\":\n",
        "    fsm = FiniteStateMachine()\n",
        "    inputs = ['A', 'B', 'C', 'A']\n",
        "\n",
        "    for inp in inputs:\n",
        "        fsm.transition(inp)\n",
        "        print(f\"Input: {inp}, Current State: {fsm.get_state()}\")\n"
      ]
    },
    {
      "cell_type": "markdown",
      "source": [
        "#Moore Output Finite State Machine"
      ],
      "metadata": {
        "id": "JqaCoH5Xsxij"
      }
    },
    {
      "cell_type": "code",
      "source": [
        "class MooreFiniteStateMachine:\n",
        "    def __init__(self):\n",
        "        self.state = 'S0'\n",
        "\n",
        "    def transition(self, input):\n",
        "        if self.state == 'S0':\n",
        "            if input == 'A':\n",
        "                self.state = 'S1'\n",
        "        elif self.state == 'S1':\n",
        "            if input == 'B':\n",
        "                self.state = 'S2'\n",
        "            elif input == 'C':\n",
        "                self.state = 'S0'\n",
        "\n",
        "    def output(self):\n",
        "        if self.state == 'S0':\n",
        "            return 'X'\n",
        "        elif self.state == 'S1':\n",
        "            return 'Y'\n",
        "        elif self.state == 'S2':\n",
        "            return 'Z'\n",
        "\n",
        "# Usage example:\n",
        "if __name__ == \"__main__\":\n",
        "    fsm = MooreFiniteStateMachine()\n",
        "    inputs = ['A', 'B', 'C']\n",
        "\n",
        "    for inp in inputs:\n",
        "        fsm.transition(inp)\n",
        "        print(f\"Input: {inp}, Current State: {fsm.state}, Output: {fsm.output()}\")"
      ],
      "metadata": {
        "colab": {
          "base_uri": "https://localhost:8080/"
        },
        "id": "kKQqKqssszgK",
        "outputId": "f5a5c9de-3ead-4ab5-aa1f-9411d810d57d"
      },
      "execution_count": null,
      "outputs": [
        {
          "output_type": "stream",
          "name": "stdout",
          "text": [
            "Input: A, Current State: S1, Output: Y\n",
            "Input: B, Current State: S2, Output: Z\n",
            "Input: C, Current State: S2, Output: Z\n"
          ]
        }
      ]
    },
    {
      "cell_type": "markdown",
      "source": [
        "#Mealy Output Finite State Machine"
      ],
      "metadata": {
        "id": "Fltv0Mrfs2Vz"
      }
    },
    {
      "cell_type": "code",
      "source": [
        "class MealyFiniteStateMachine:\n",
        "    def __init__(self):\n",
        "        self.state = 'S0'\n",
        "\n",
        "    def transition(self, input):\n",
        "        output = ''\n",
        "        if self.state == 'S0':\n",
        "            if input == 'A':\n",
        "                self.state = 'S1'\n",
        "                output = 'X'\n",
        "            else:\n",
        "                output = 'Z'\n",
        "        elif self.state == 'S1':\n",
        "            if input == 'B':\n",
        "                self.state = 'S2'\n",
        "                output = 'Y'\n",
        "            elif input == 'C':\n",
        "                self.state = 'S0'\n",
        "                output = 'W'\n",
        "            else:\n",
        "                output = 'Z'\n",
        "        elif self.state == 'S2':\n",
        "            if input == 'A':\n",
        "                self.state = 'S0'\n",
        "                output = 'V'\n",
        "            else:\n",
        "                output = 'Z'\n",
        "        return output\n",
        "\n",
        "# Usage example:\n",
        "if __name__ == \"__main__\":\n",
        "    fsm = MealyFiniteStateMachine()\n",
        "    inputs = ['A', 'B', 'C', 'A']\n",
        "\n",
        "    for inp in inputs:\n",
        "        output = fsm.transition(inp)\n",
        "        print(f\"Input: {inp}, Current State: {fsm.state}, Output: {output}\")"
      ],
      "metadata": {
        "colab": {
          "base_uri": "https://localhost:8080/"
        },
        "id": "heIIyurRs2va",
        "outputId": "55a421cc-d98f-4671-c07c-acf9488420dc"
      },
      "execution_count": null,
      "outputs": [
        {
          "output_type": "stream",
          "name": "stdout",
          "text": [
            "Input: A, Current State: S1, Output: X\n",
            "Input: B, Current State: S2, Output: Y\n",
            "Input: C, Current State: S2, Output: Z\n",
            "Input: A, Current State: S0, Output: V\n"
          ]
        }
      ]
    },
    {
      "cell_type": "markdown",
      "source": [
        "#Traffic Light Controller FSM"
      ],
      "metadata": {
        "id": "mY92gQ7fs5xu"
      }
    },
    {
      "cell_type": "code",
      "source": [
        "class TrafficLightController:\n",
        "    def __init__(self):\n",
        "        self.state = 'Green'\n",
        "\n",
        "    def transition(self):\n",
        "        if self.state == 'Green':\n",
        "            self.state = 'Yellow'\n",
        "        elif self.state == 'Yellow':\n",
        "            self.state = 'Red'\n",
        "        elif self.state == 'Red':\n",
        "            self.state = 'Green'\n",
        "\n",
        "    def get_state(self):\n",
        "        return self.state\n",
        "\n",
        "# Usage example:\n",
        "if __name__ == \"__main__\":\n",
        "    traffic_light = TrafficLightController()\n",
        "\n",
        "    for _ in range(5):\n",
        "        print(f\"Current State: {traffic_light.get_state()}\")\n",
        "        traffic_light.transition()"
      ],
      "metadata": {
        "colab": {
          "base_uri": "https://localhost:8080/"
        },
        "id": "EYvP5t8Ns6N-",
        "outputId": "47984d79-00fc-4858-87d6-adf427d6b85c"
      },
      "execution_count": null,
      "outputs": [
        {
          "output_type": "stream",
          "name": "stdout",
          "text": [
            "Current State: Green\n",
            "Current State: Yellow\n",
            "Current State: Red\n",
            "Current State: Green\n",
            "Current State: Yellow\n"
          ]
        }
      ]
    },
    {
      "cell_type": "markdown",
      "source": [
        "#Sequence Detector FSM"
      ],
      "metadata": {
        "id": "YIBFlPbVtBSO"
      }
    },
    {
      "cell_type": "code",
      "source": [
        "class SequenceDetectorFSM:\n",
        "    def __init__(self):\n",
        "        self.state = 'S0'\n",
        "\n",
        "    def transition(self, input):\n",
        "        if self.state == 'S0':\n",
        "            if input == 0:\n",
        "                self.state = 'S1'\n",
        "            else:\n",
        "                self.state = 'S0'\n",
        "        elif self.state == 'S1':\n",
        "            if input == 1:\n",
        "                self.state = 'S2'\n",
        "            else:\n",
        "                self.state = 'S0'\n",
        "        elif self.state == 'S2':\n",
        "            if input == 0:\n",
        "                self.state = 'S3'\n",
        "            else:\n",
        "                self.state = 'S0'\n",
        "        elif self.state == 'S3':\n",
        "            if input == 1:\n",
        "                self.state = 'Success'\n",
        "            else:\n",
        "                self.state = 'S0'\n",
        "\n",
        "    def is_sequence_detected(self):\n",
        "        return self.state == 'Success'\n",
        "\n",
        "# Usage example:\n",
        "if __name__ == \"__main__\":\n",
        "    fsm = SequenceDetectorFSM()\n",
        "    inputs = [0, 1, 0, 1, 1, 0, 1]\n",
        "\n",
        "    for inp in inputs:\n",
        "        fsm.transition(inp)\n",
        "\n",
        "    if fsm.is_sequence_detected():\n",
        "        print(\"Sequence detected!\")\n",
        "    else:\n",
        "        print(\"Sequence not detected.\")"
      ],
      "metadata": {
        "colab": {
          "base_uri": "https://localhost:8080/"
        },
        "id": "0kaUlLIftCWd",
        "outputId": "9cbc352e-be75-4912-b21a-0156aedf1625"
      },
      "execution_count": null,
      "outputs": [
        {
          "output_type": "stream",
          "name": "stdout",
          "text": [
            "Sequence detected!\n"
          ]
        }
      ]
    },
    {
      "cell_type": "markdown",
      "source": [
        "#Vending Machine FSM"
      ],
      "metadata": {
        "id": "8wCBw8O5tFTe"
      }
    },
    {
      "cell_type": "code",
      "source": [
        "class VendingMachineFSM:\n",
        "    def __init__(self):\n",
        "        self.balance = 0\n",
        "        self.state = 'Idle'\n",
        "\n",
        "    def insert_coin(self, amount):\n",
        "        if self.state == 'Idle':\n",
        "            self.state = 'CoinsInserted'\n",
        "        self.balance += amount\n",
        "\n",
        "    def select_item(self, item_price):\n",
        "        if self.state == 'CoinsInserted' and self.balance >= item_price:\n",
        "            self.balance -= item_price\n",
        "            if self.balance == 0:\n",
        "                self.state = 'Idle'\n",
        "            return True\n",
        "        return False\n",
        "\n",
        "    def get_balance(self):\n",
        "        return self.balance\n",
        "\n",
        "    def get_state(self):\n",
        "        return self.state\n",
        "\n",
        "# Usage example:\n",
        "if __name__ == \"__main__\":\n",
        "    vending_machine = VendingMachineFSM()\n",
        "\n",
        "    print(\"Current State:\", vending_machine.get_state())\n",
        "    vending_machine.insert_coin(10)\n",
        "    vending_machine.insert_coin(5)\n",
        "    print(\"Current State:\", vending_machine.get_state())\n",
        "    print(\"Current Balance:\", vending_machine.get_balance())\n",
        "\n",
        "    item_price = 7\n",
        "    if vending_machine.select_item(item_price):\n",
        "        print(\"Item dispensed!\")\n",
        "    else:\n",
        "        print(\"Insufficient balance or wrong state.\")"
      ],
      "metadata": {
        "colab": {
          "base_uri": "https://localhost:8080/"
        },
        "id": "ot3TKbJ_tIRW",
        "outputId": "adfeb538-ed19-436a-efac-24435864da60"
      },
      "execution_count": null,
      "outputs": [
        {
          "output_type": "stream",
          "name": "stdout",
          "text": [
            "Current State: Idle\n",
            "Current State: CoinsInserted\n",
            "Current Balance: 15\n",
            "Item dispensed!\n"
          ]
        }
      ]
    },
    {
      "cell_type": "markdown",
      "source": [
        "#Traffic Light Controller FSM with Pedestrian Signal"
      ],
      "metadata": {
        "id": "34O1nCP2tbJO"
      }
    },
    {
      "cell_type": "code",
      "source": [
        "class TrafficLightControllerWithPedestrian:\n",
        "    def __init__(self):\n",
        "        self.state = 'Green'\n",
        "\n",
        "    def transition(self):\n",
        "        if self.state == 'Green':\n",
        "            self.state = 'Yellow'\n",
        "        elif self.state == 'Yellow':\n",
        "            self.state = 'Red'\n",
        "        elif self.state == 'Red':\n",
        "            self.state = 'Green'\n",
        "\n",
        "    def pedestrian_signal(self):\n",
        "        if self.state == 'Green':\n",
        "            return False\n",
        "        elif self.state == 'Yellow':\n",
        "            return False\n",
        "        elif self.state == 'Red':\n",
        "            return True\n",
        "\n",
        "# Usage example:\n",
        "if __name__ == \"__main__\":\n",
        "    traffic_light = TrafficLightControllerWithPedestrian()\n",
        "\n",
        "    for _ in range(5):\n",
        "        print(f\"Current State: {traffic_light.state}, Pedestrian Cross: {traffic_light.pedestrian_signal()}\")\n",
        "        traffic_light.transition()"
      ],
      "metadata": {
        "colab": {
          "base_uri": "https://localhost:8080/"
        },
        "id": "Xxtsn_x4tcxW",
        "outputId": "384a2a47-b478-422a-a08a-69e3f44c8a27"
      },
      "execution_count": null,
      "outputs": [
        {
          "output_type": "stream",
          "name": "stdout",
          "text": [
            "Current State: Green, Pedestrian Cross: False\n",
            "Current State: Yellow, Pedestrian Cross: False\n",
            "Current State: Red, Pedestrian Cross: True\n",
            "Current State: Green, Pedestrian Cross: False\n",
            "Current State: Yellow, Pedestrian Cross: False\n"
          ]
        }
      ]
    }
  ]
}