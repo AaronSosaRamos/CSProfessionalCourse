{
  "nbformat": 4,
  "nbformat_minor": 0,
  "metadata": {
    "colab": {
      "provenance": []
    },
    "kernelspec": {
      "name": "python3",
      "display_name": "Python 3"
    },
    "language_info": {
      "name": "python"
    }
  },
  "cells": [
    {
      "cell_type": "markdown",
      "source": [
        "#Systolic Processor Simulation: Matrix Multiplication"
      ],
      "metadata": {
        "id": "vxyzuRQCyweg"
      }
    },
    {
      "cell_type": "code",
      "execution_count": null,
      "metadata": {
        "colab": {
          "base_uri": "https://localhost:8080/"
        },
        "id": "C4ERQ97nyOn0",
        "outputId": "22fac0fe-f1c0-440e-8ce4-2e043d9ab939"
      },
      "outputs": [
        {
          "output_type": "stream",
          "name": "stdout",
          "text": [
            "Product of matrix multiplication using systolic processor:\n",
            "[[ 73  81]\n",
            " [117 103]\n",
            " [ 66  56]\n",
            " [ 97  89]]\n"
          ]
        }
      ],
      "source": [
        "import numpy as np\n",
        "import multiprocessing\n",
        "\n",
        "class SystolicProcessor:\n",
        "    def __init__(self, num_rows_A, num_cols_A, num_cols_B, num_pes):\n",
        "        self.num_rows_A = num_rows_A\n",
        "        self.num_cols_A = num_cols_A\n",
        "        self.num_cols_B = num_cols_B\n",
        "        self.num_pes = num_pes\n",
        "\n",
        "        # Initialize processing elements (PEs) in the systolic array\n",
        "        self.pes = [[ProcessingElement() for _ in range(num_cols_B)] for _ in range(num_rows_A)]\n",
        "\n",
        "    def execute_matrix_multiplication(self, matrix_A, matrix_B):\n",
        "        assert matrix_A.shape == (self.num_rows_A, self.num_cols_A)\n",
        "        assert matrix_B.shape == (self.num_cols_A, self.num_cols_B)\n",
        "\n",
        "        # Split matrices into tiles based on the number of processing elements (PEs)\n",
        "        tile_size = self.num_rows_A // self.num_pes\n",
        "        tiles_A = [matrix_A[i*tile_size:(i+1)*tile_size, :] for i in range(self.num_pes)]\n",
        "        tiles_B = [matrix_B[:, j*self.num_cols_B:(j+1)*self.num_cols_B] for j in range(self.num_cols_B)]\n",
        "\n",
        "        # Execute matrix multiplication using systolic array approach\n",
        "        results = []\n",
        "\n",
        "        for i in range(self.num_pes):\n",
        "            results_row = []\n",
        "\n",
        "            for j in range(self.num_cols_B):\n",
        "                pe = self.pes[i][j]\n",
        "                result = pe.execute_tile_multiplication(tiles_A[i], tiles_B[j])\n",
        "                results_row.append(result)\n",
        "\n",
        "            results.append(np.hstack(results_row))\n",
        "\n",
        "        # Concatenate results to form the final matrix product\n",
        "        product_matrix = np.vstack(results)\n",
        "        return product_matrix\n",
        "\n",
        "\n",
        "class ProcessingElement:\n",
        "    def execute_tile_multiplication(self, tile_A, tile_B):\n",
        "        # Perform matrix multiplication for the given tiles\n",
        "        return np.dot(tile_A, tile_B)\n",
        "\n",
        "\n",
        "# Usage example:\n",
        "if __name__ == '__main__':\n",
        "    # Define matrix dimensions and number of processing elements (PEs)\n",
        "    num_rows_A = 4\n",
        "    num_cols_A = 3\n",
        "    num_cols_B = 2\n",
        "    num_pes = 2\n",
        "\n",
        "    # Create input matrices\n",
        "    matrix_A = np.random.randint(1, 10, size=(num_rows_A, num_cols_A))\n",
        "    matrix_B = np.random.randint(1, 10, size=(num_cols_A, num_cols_B))\n",
        "\n",
        "    # Initialize systolic processor\n",
        "    systolic_processor = SystolicProcessor(num_rows_A, num_cols_A, num_cols_B, num_pes)\n",
        "\n",
        "    # Execute matrix multiplication using systolic array approach\n",
        "    product_matrix = systolic_processor.execute_matrix_multiplication(matrix_A, matrix_B)\n",
        "    print(\"Product of matrix multiplication using systolic processor:\")\n",
        "    print(product_matrix)"
      ]
    },
    {
      "cell_type": "markdown",
      "source": [
        "#Processor Interconnection Simulation\n"
      ],
      "metadata": {
        "id": "mnnt2pUvzjuW"
      }
    },
    {
      "cell_type": "code",
      "source": [
        "import random\n",
        "\n",
        "class Processor:\n",
        "    def __init__(self, processor_id):\n",
        "        self.processor_id = processor_id\n",
        "        self.message_queue = []\n",
        "\n",
        "    def send_message(self, message, destination_processor):\n",
        "        destination_processor.receive_message(message)\n",
        "\n",
        "    def receive_message(self, message):\n",
        "        self.message_queue.append(message)\n",
        "\n",
        "    def process_messages(self):\n",
        "        # Process received messages (e.g., print or perform computations)\n",
        "        while self.message_queue:\n",
        "            message = self.message_queue.pop(0)\n",
        "            print(f\"Processor {self.processor_id} received message: {message}\")\n",
        "\n",
        "class InterconnectionNetwork:\n",
        "    def __init__(self, num_processors):\n",
        "        self.num_processors = num_processors\n",
        "        self.processors = [Processor(processor_id) for processor_id in range(num_processors)]\n",
        "\n",
        "    def send_random_message(self):\n",
        "        sender = random.choice(self.processors)\n",
        "        receiver = random.choice(self.processors)\n",
        "        message = f\"Hello from Processor {sender.processor_id}\"\n",
        "        sender.send_message(message, receiver)\n",
        "\n",
        "    def simulate_network(self, num_messages):\n",
        "        for _ in range(num_messages):\n",
        "            self.send_random_message()\n",
        "\n",
        "        # Process all received messages after simulation\n",
        "        for processor in self.processors:\n",
        "            processor.process_messages()\n",
        "\n",
        "\n",
        "# Usage example:\n",
        "if __name__ == '__main__':\n",
        "    # Initialize interconnection network with 4 processors\n",
        "    interconnection_network = InterconnectionNetwork(num_processors=4)\n",
        "\n",
        "    # Simulate sending and processing messages in the network\n",
        "    num_messages = 6\n",
        "    interconnection_network.simulate_network(num_messages)"
      ],
      "metadata": {
        "id": "BwqI8wHZzkQG",
        "outputId": "9788a539-d6e5-4eee-d0ad-6f527cbbd8b7",
        "colab": {
          "base_uri": "https://localhost:8080/"
        }
      },
      "execution_count": null,
      "outputs": [
        {
          "output_type": "stream",
          "name": "stdout",
          "text": [
            "Processor 0 received message: Hello from Processor 1\n",
            "Processor 0 received message: Hello from Processor 3\n",
            "Processor 0 received message: Hello from Processor 2\n",
            "Processor 1 received message: Hello from Processor 1\n",
            "Processor 3 received message: Hello from Processor 0\n",
            "Processor 3 received message: Hello from Processor 1\n"
          ]
        }
      ]
    }
  ]
}