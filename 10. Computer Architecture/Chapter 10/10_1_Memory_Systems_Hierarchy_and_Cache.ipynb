{
  "nbformat": 4,
  "nbformat_minor": 0,
  "metadata": {
    "colab": {
      "provenance": []
    },
    "kernelspec": {
      "name": "python3",
      "display_name": "Python 3"
    },
    "language_info": {
      "name": "python"
    }
  },
  "cells": [
    {
      "cell_type": "markdown",
      "source": [
        "#Memory Systems: Hierarchy and Cache\n"
      ],
      "metadata": {
        "id": "c5n9gpIj3u8j"
      }
    },
    {
      "cell_type": "markdown",
      "source": [
        "Memory hierarchy refers to the arrangement of different types of memory devices, arranged in increasing order of access speed and decreasing order of capacity. The typical hierarchy includes registers, cache memory, main memory (RAM), and secondary storage (disk)."
      ],
      "metadata": {
        "id": "d9TnfoO83wIZ"
      }
    },
    {
      "cell_type": "code",
      "source": [
        "class MemoryHierarchy:\n",
        "    def __init__(self, cache_size, cache_associativity, cache_block_size):\n",
        "        self.registers = {}  # Simulated CPU registers\n",
        "        self.cache = Cache(cache_size, cache_associativity, cache_block_size)\n",
        "        self.main_memory = MainMemory()\n",
        "\n",
        "    def read_from_memory(self, address):\n",
        "        # Check if data is in cache\n",
        "        data = self.cache.read(address)\n",
        "        if data is not None:\n",
        "            print(f\"Data read from cache: {data}\")\n",
        "        else:\n",
        "            # Data not in cache, fetch from main memory\n",
        "            data = self.main_memory.read(address)\n",
        "            print(f\"Data read from main memory: {data}\")\n",
        "            # Store data in cache\n",
        "            self.cache.write(address, data)\n",
        "\n",
        "    def write_to_memory(self, address, data):\n",
        "        # Write data to cache and main memory\n",
        "        self.cache.write(address, data)\n",
        "        self.main_memory.write(address, data)\n",
        "        print(f\"Data written to memory address {address}\")\n",
        "\n",
        "\n",
        "class Cache:\n",
        "    def __init__(self, size, associativity, block_size):\n",
        "        self.size = size\n",
        "        self.associativity = associativity\n",
        "        self.block_size = block_size\n",
        "        self.cache_lines = {}\n",
        "\n",
        "    def read(self, address):\n",
        "        # Check cache for data at the given address\n",
        "        block_address = address // self.block_size\n",
        "        if block_address in self.cache_lines:\n",
        "            return self.cache_lines[block_address]\n",
        "        else:\n",
        "            return None\n",
        "\n",
        "    def write(self, address, data):\n",
        "        # Write data to cache at the given address\n",
        "        block_address = address // self.block_size\n",
        "        self.cache_lines[block_address] = data\n",
        "\n",
        "\n",
        "class MainMemory:\n",
        "    def __init__(self):\n",
        "        self.memory = {}\n",
        "\n",
        "    def read(self, address):\n",
        "        # Simulate reading data from main memory\n",
        "        if address in self.memory:\n",
        "            return self.memory[address]\n",
        "        else:\n",
        "            return None\n",
        "\n",
        "    def write(self, address, data):\n",
        "        # Simulate writing data to main memory\n",
        "        self.memory[address] = data\n",
        "\n",
        "\n",
        "# Usage example:\n",
        "memory_hierarchy = MemoryHierarchy(cache_size=1024, cache_associativity=2, cache_block_size=64)\n",
        "\n",
        "# Perform memory operations\n",
        "memory_hierarchy.write_to_memory(100, \"Hello, World!\")\n",
        "memory_hierarchy.read_from_memory(100)\n",
        "memory_hierarchy.read_from_memory(200)"
      ],
      "metadata": {
        "id": "lRH24DNg3v5j",
        "colab": {
          "base_uri": "https://localhost:8080/"
        },
        "outputId": "79e540ec-7a38-42e7-f4ea-a769bcff0278"
      },
      "execution_count": null,
      "outputs": [
        {
          "output_type": "stream",
          "name": "stdout",
          "text": [
            "Data written to memory address 100\n",
            "Data read from cache: Hello, World!\n",
            "Data read from main memory: None\n"
          ]
        }
      ]
    },
    {
      "cell_type": "markdown",
      "source": [
        "#Cache"
      ],
      "metadata": {
        "id": "Jxdl0YuVu9Gm"
      }
    },
    {
      "cell_type": "markdown",
      "source": [
        "A cache is a small, fast storage device used to temporarily store data that is frequently accessed by the CPU. Caches exploit the principle of locality (temporal and spatial) to speed up memory access times.\n"
      ],
      "metadata": {
        "id": "oIE_pvjeu8NY"
      }
    },
    {
      "cell_type": "code",
      "execution_count": null,
      "metadata": {
        "id": "lA_J2-sC3gUa",
        "colab": {
          "base_uri": "https://localhost:8080/"
        },
        "outputId": "a8cfe4d1-d29c-4d44-d35c-4045901d605d"
      },
      "outputs": [
        {
          "output_type": "stream",
          "name": "stdout",
          "text": [
            "Data 'Data1' written to cache at address 100\n",
            "Data 'Data2' written to cache at address 200\n",
            "Data1\n",
            "None\n"
          ]
        }
      ],
      "source": [
        "class Cache:\n",
        "    def __init__(self, size, associativity, block_size):\n",
        "        self.size = size\n",
        "        self.associativity = associativity\n",
        "        self.block_size = block_size\n",
        "        self.cache_lines = {}\n",
        "\n",
        "    def read(self, address):\n",
        "        # Check cache for data at the given address\n",
        "        block_address = address // self.block_size\n",
        "        if block_address in self.cache_lines:\n",
        "            return self.cache_lines[block_address]\n",
        "        else:\n",
        "            return None\n",
        "\n",
        "    def write(self, address, data):\n",
        "        # Write data to cache at the given address\n",
        "        block_address = address // self.block_size\n",
        "        self.cache_lines[block_address] = data\n",
        "        print(f\"Data '{data}' written to cache at address {address}\")\n",
        "\n",
        "\n",
        "# Usage example:\n",
        "cache = Cache(size=1024, associativity=2, block_size=64)\n",
        "\n",
        "# Perform cache read and write operations\n",
        "cache.write(100, \"Data1\")\n",
        "cache.write(200, \"Data2\")\n",
        "\n",
        "print(cache.read(100))  # Read from cache\n",
        "print(cache.read(300))  # Data not in cache, returns None"
      ]
    }
  ]
}