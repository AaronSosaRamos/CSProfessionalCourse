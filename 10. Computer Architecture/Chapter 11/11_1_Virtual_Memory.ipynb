{
  "nbformat": 4,
  "nbformat_minor": 0,
  "metadata": {
    "colab": {
      "provenance": []
    },
    "kernelspec": {
      "name": "python3",
      "display_name": "Python 3"
    },
    "language_info": {
      "name": "python"
    }
  },
  "cells": [
    {
      "cell_type": "markdown",
      "source": [
        "#Virtual Memory:"
      ],
      "metadata": {
        "id": "L8-4ky1OvXo4"
      }
    },
    {
      "cell_type": "markdown",
      "source": [
        "Virtual memory management involves translating virtual addresses used by a program into physical addresses in RAM. This includes handling page faults and swapping pages between RAM and disk when necessary."
      ],
      "metadata": {
        "id": "1Z5xnPezveoH"
      }
    },
    {
      "cell_type": "code",
      "execution_count": null,
      "metadata": {
        "colab": {
          "base_uri": "https://localhost:8080/"
        },
        "id": "5APcufOfvVVf",
        "outputId": "d4616c97-2125-4a15-9a72-4a0e715073b2"
      },
      "outputs": [
        {
          "output_type": "stream",
          "name": "stdout",
          "text": [
            "Page fault occurred: Page 2 is not in physical memory\n",
            "Accessing physical memory: Page 2\n",
            "Page fault occurred: Page 1 is not in physical memory\n",
            "Accessing physical memory: Page 1\n",
            "Page fault occurred: Page 3 is not in physical memory\n",
            "Accessing physical memory: Page 3\n",
            "Page fault occurred: Page 4 is not in physical memory\n",
            "Accessing physical memory: Page 4\n"
          ]
        }
      ],
      "source": [
        "class PageTable:\n",
        "    def __init__(self, num_entries):\n",
        "        self.num_entries = num_entries\n",
        "        self.table = {}\n",
        "\n",
        "    def map_virtual_to_physical(self, virtual_address):\n",
        "        page_number = virtual_address // PAGE_SIZE\n",
        "        if page_number in self.table:\n",
        "            return self.table[page_number]\n",
        "        else:\n",
        "            raise PageFaultError(f\"Page {page_number} is not in physical memory\")\n",
        "\n",
        "    def update_page_table_entry(self, page_number, frame_number):\n",
        "        self.table[page_number] = frame_number\n",
        "\n",
        "\n",
        "class MemoryManager:\n",
        "    def __init__(self, memory_size, page_size):\n",
        "        self.memory_size = memory_size\n",
        "        self.page_size = page_size\n",
        "        self.num_frames = memory_size // page_size\n",
        "        self.frames = [None] * self.num_frames\n",
        "        self.page_table = PageTable(num_entries=self.num_frames)\n",
        "        self.free_frame_list = list(range(self.num_frames))\n",
        "\n",
        "    def allocate_frame(self):\n",
        "        if len(self.free_frame_list) > 0:\n",
        "            return self.free_frame_list.pop(0)\n",
        "        else:\n",
        "            raise MemoryFullError(\"No free frames available in physical memory\")\n",
        "\n",
        "    def load_page_into_memory(self, page_number):\n",
        "        frame_number = self.allocate_frame()\n",
        "        self.frames[frame_number] = f\"Page {page_number}\"\n",
        "        self.page_table.update_page_table_entry(page_number, frame_number)\n",
        "\n",
        "    def access_virtual_memory(self, virtual_address):\n",
        "        try:\n",
        "            frame_number = self.page_table.map_virtual_to_physical(virtual_address)\n",
        "            print(f\"Accessing physical memory: {self.frames[frame_number]}\")\n",
        "        except PageFaultError as e:\n",
        "            print(f\"Page fault occurred: {e}\")\n",
        "            # Load page from disk into memory\n",
        "            page_number = virtual_address // self.page_size\n",
        "            self.load_page_into_memory(page_number)\n",
        "            self.access_virtual_memory(virtual_address)  # Retry access after page is loaded\n",
        "\n",
        "\n",
        "# Constants\n",
        "PAGE_SIZE = 4096  # Page size in bytes\n",
        "\n",
        "\n",
        "class PageFaultError(Exception):\n",
        "    pass\n",
        "\n",
        "\n",
        "class MemoryFullError(Exception):\n",
        "    pass\n",
        "\n",
        "\n",
        "# Usage example:\n",
        "memory_manager = MemoryManager(memory_size=16384, page_size=PAGE_SIZE)\n",
        "\n",
        "# Access virtual memory addresses\n",
        "addresses = [8192, 4096, 12288, 16384]\n",
        "\n",
        "for address in addresses:\n",
        "    memory_manager.access_virtual_memory(address)"
      ]
    }
  ]
}