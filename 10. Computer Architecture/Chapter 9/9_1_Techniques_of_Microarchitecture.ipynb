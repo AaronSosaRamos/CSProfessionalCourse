{
  "nbformat": 4,
  "nbformat_minor": 0,
  "metadata": {
    "colab": {
      "provenance": []
    },
    "kernelspec": {
      "name": "python3",
      "display_name": "Python 3"
    },
    "language_info": {
      "name": "python"
    }
  },
  "cells": [
    {
      "cell_type": "markdown",
      "source": [
        "#Techniques of Microarchitecture\n"
      ],
      "metadata": {
        "id": "9jCqaTxF2xdr"
      }
    },
    {
      "cell_type": "markdown",
      "source": [
        "#1. Reorder Buffer\n",
        "The reorder buffer is a microarchitecture component used in out-of-order execution processors to manage instruction results until they can be committed to architectural state in program order."
      ],
      "metadata": {
        "id": "SfYDzvke2_EC"
      }
    },
    {
      "cell_type": "code",
      "execution_count": null,
      "metadata": {
        "colab": {
          "base_uri": "https://localhost:8080/"
        },
        "id": "Tu8AmaxN2oYA",
        "outputId": "b5f6b87e-8f5e-4444-994f-e0c930700d93"
      },
      "outputs": [
        {
          "output_type": "execute_result",
          "data": {
            "text/plain": [
              "True"
            ]
          },
          "metadata": {},
          "execution_count": 1
        }
      ],
      "source": [
        "class ReorderBufferEntry:\n",
        "    def __init__(self, instruction, result):\n",
        "        self.instruction = instruction\n",
        "        self.result = result\n",
        "        self.committed = False\n",
        "\n",
        "class ReorderBuffer:\n",
        "    def __init__(self, size):\n",
        "        self.buffer = [None] * size\n",
        "        self.head = 0  # Points to the oldest instruction\n",
        "        self.tail = 0  # Points to the next available slot\n",
        "        self.size = size\n",
        "\n",
        "    def issue_instruction(self, instruction):\n",
        "        if (self.tail + 1) % self.size == self.head:\n",
        "            # Reorder buffer is full, cannot issue more instructions\n",
        "            return False\n",
        "\n",
        "        # Insert the instruction into the buffer\n",
        "        self.buffer[self.tail] = ReorderBufferEntry(instruction, None)\n",
        "        self.tail = (self.tail + 1) % self.size\n",
        "        return True\n",
        "\n",
        "    def execute_instruction(self, instruction):\n",
        "        # Simulate instruction execution and update the result in the buffer\n",
        "        result = None  # Simulated result of executing the instruction\n",
        "        for entry in self.buffer:\n",
        "            if entry and not entry.committed and entry.instruction == instruction:\n",
        "                entry.result = result\n",
        "                break\n",
        "\n",
        "    def commit_instruction(self):\n",
        "        if self.buffer[self.head]:\n",
        "            # Commit the oldest non-committed instruction to architectural state\n",
        "            self.buffer[self.head].committed = True\n",
        "            self.head = (self.head + 1) % self.size\n",
        "            return True\n",
        "        return False\n",
        "\n",
        "# Usage example:\n",
        "reorder_buffer = ReorderBuffer(size=4)\n",
        "\n",
        "# Issue instructions to the reorder buffer\n",
        "instructions = [\"ADD R1, R2, R3\", \"SUB R4, R1, R5\", \"MUL R6, R7, R8\"]\n",
        "for instruction in instructions:\n",
        "    reorder_buffer.issue_instruction(instruction)\n",
        "\n",
        "# Simulate instruction execution and commit\n",
        "reorder_buffer.execute_instruction(\"ADD R1, R2, R3\")\n",
        "reorder_buffer.commit_instruction()"
      ]
    },
    {
      "cell_type": "markdown",
      "source": [
        "#Superscalar Execution"
      ],
      "metadata": {
        "id": "p_pfK9I23Rna"
      }
    },
    {
      "cell_type": "markdown",
      "source": [
        "Superscalar processors can execute multiple instructions simultaneously by having multiple execution units."
      ],
      "metadata": {
        "id": "a21kR6zY3SUC"
      }
    },
    {
      "cell_type": "code",
      "source": [
        "class SuperscalarProcessor:\n",
        "    def __init__(self, num_units):\n",
        "        self.execution_units = [None] * num_units\n",
        "\n",
        "    def execute_instruction(self, instruction):\n",
        "        for i in range(len(self.execution_units)):\n",
        "            if self.execution_units[i] is None or self.execution_units[i].is_finished():\n",
        "                # Assign the execution unit to the instruction\n",
        "                self.execution_units[i] = ExecutionUnit(instruction)\n",
        "                break\n",
        "\n",
        "    def tick(self):\n",
        "        # Simulate one clock cycle\n",
        "        for unit in self.execution_units:\n",
        "            if unit:\n",
        "                unit.execute_one_cycle()\n",
        "\n",
        "class ExecutionUnit:\n",
        "    def __init__(self, instruction):\n",
        "        self.instruction = instruction\n",
        "        self.cycles_remaining = self.calculate_execution_cycles()\n",
        "\n",
        "    def calculate_execution_cycles(self):\n",
        "        # Simulated function to determine execution cycles based on instruction type\n",
        "        if \"ADD\" in self.instruction:\n",
        "            return 2\n",
        "        elif \"SUB\" in self.instruction:\n",
        "            return 3\n",
        "        elif \"MUL\" in self.instruction:\n",
        "            return 4\n",
        "\n",
        "    def execute_one_cycle(self):\n",
        "        if self.cycles_remaining > 0:\n",
        "            self.cycles_remaining -= 1\n",
        "\n",
        "    def is_finished(self):\n",
        "        return self.cycles_remaining == 0\n",
        "\n",
        "# Usage example:\n",
        "processor = SuperscalarProcessor(num_units=2)\n",
        "\n",
        "# Issue multiple instructions for execution\n",
        "instructions = [\"ADD R1, R2, R3\", \"SUB R4, R1, R5\", \"MUL R6, R7, R8\"]\n",
        "for instruction in instructions:\n",
        "    processor.execute_instruction(instruction)\n",
        "\n",
        "# Simulate processor execution for a few clock cycles\n",
        "for _ in range(5):\n",
        "    processor.tick()"
      ],
      "metadata": {
        "id": "xjKFQlny3TgK"
      },
      "execution_count": null,
      "outputs": []
    }
  ]
}