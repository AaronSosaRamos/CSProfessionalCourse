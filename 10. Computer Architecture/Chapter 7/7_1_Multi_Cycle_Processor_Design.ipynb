{
  "nbformat": 4,
  "nbformat_minor": 0,
  "metadata": {
    "colab": {
      "provenance": []
    },
    "kernelspec": {
      "name": "python3",
      "display_name": "Python 3"
    },
    "language_info": {
      "name": "python"
    }
  },
  "cells": [
    {
      "cell_type": "markdown",
      "source": [
        "#Multi-Cycle Processor Design"
      ],
      "metadata": {
        "id": "8ZUFipcbwGQW"
      }
    },
    {
      "cell_type": "markdown",
      "source": [
        "A Multi-Cycle Processor Design is a type of processor architecture where different instructions may take varying numbers of clock cycles to execute. Unlike the Single-Cycle Processor where each instruction is completed in a single clock cycle, the Multi-Cycle Processor breaks down the instruction execution process into multiple stages, with each stage taking one or more clock cycles to complete.\n",
        "\n",
        "In a Multi-Cycle Processor:\n",
        "\n",
        "1. Instruction Fetch: The processor fetches the instruction from memory during the first clock cycle.\n",
        "2. Instruction Decode: The processor decodes the instruction during subsequent clock cycles, determining the required operations and operands.\n",
        "3. Execution: The processor executes the instruction, which may involve arithmetic or logical operations, memory accesses, or control flow operations. This execution phase can span multiple clock cycles depending on the complexity of the instruction.\n",
        "4. Memory Access: If the instruction requires accessing memory (e.g., loading or storing data), this stage occurs after the execution phase and can take one or more clock cycles.\n",
        "5. Write-Back: Finally, the processor writes back the result of the instruction to the appropriate register or memory location.\n"
      ],
      "metadata": {
        "id": "zjdo4k7OwHUd"
      }
    },
    {
      "cell_type": "markdown",
      "source": [
        "Each instruction is divided into these stages, and the control logic of the processor determines how many cycles each stage requires based on the instruction being executed. This allows for more flexibility and efficiency in handling complex instructions compared to Single-Cycle Processors, as resources can be utilized optimally across multiple clock cycles. However, Multi-Cycle Processors typically require more complex control logic to manage the different stages of instruction execution efficiently. This design is commonly used in modern general-purpose processors to achieve better performance and instruction throughput compared to Single-Cycle designs."
      ],
      "metadata": {
        "id": "0DQiwLsCwksd"
      }
    },
    {
      "cell_type": "code",
      "execution_count": null,
      "metadata": {
        "colab": {
          "base_uri": "https://localhost:8080/"
        },
        "id": "Cj07fDrIv--H",
        "outputId": "2d6c5ae5-f515-44e9-d4d2-14707f973298"
      },
      "outputs": [
        {
          "output_type": "stream",
          "name": "stdout",
          "text": [
            "Registers: [0, 9, 0, 0, 0, 0, 0, 0]\n",
            "Memory: [0, 38, 24, 60, 64, 0, 0, 0, 0, 0, 0, 0, 0, 0, 0, 0, 0, 0, 0, 0, 0, 0, 0, 0, 0, 0, 0, 0, 0, 0, 0, 0, 0, 0, 0, 0, 0, 0, 0, 0, 0, 0, 0, 0, 0, 0, 0, 0, 0, 0, 0, 0, 0, 0, 0, 0, 0, 0, 0, 0, 0, 0, 0, 0]\n"
          ]
        }
      ],
      "source": [
        "class MultiCycleProcessor:\n",
        "    def __init__(self, instructions):\n",
        "        self.registers = [0] * 8  # 8 general-purpose registers\n",
        "        self.memory = [0] * 64  # 64 bytes of memory\n",
        "        self.pc = 0  # Program counter\n",
        "        self.instructions = instructions\n",
        "        self.running = False\n",
        "\n",
        "    def fetch(self):\n",
        "        # Fetch the instruction at the current PC address\n",
        "        instruction = self.instructions[self.pc]\n",
        "        self.pc += 1\n",
        "        return instruction\n",
        "\n",
        "    def decode(self, instruction):\n",
        "        # Decode the instruction to determine the operation and operands\n",
        "        opcode = instruction >> 4\n",
        "        operand1 = (instruction >> 2) & 0b11\n",
        "        operand2 = instruction & 0b11\n",
        "        return (opcode, operand1, operand2)\n",
        "\n",
        "    def execute(self, opcode, operand1, operand2):\n",
        "        # Execute the instruction based on the opcode and operands\n",
        "        if opcode == 0b0000:  # ADD\n",
        "            self.registers[operand1] += self.registers[operand2]\n",
        "        elif opcode == 0b0001:  # SUB\n",
        "            self.registers[operand1] -= self.registers[operand2]\n",
        "        elif opcode == 0b0010:  # LOAD\n",
        "            address = self.registers[operand2]\n",
        "            self.registers[operand1] = self.memory[address]\n",
        "        elif opcode == 0b0011:  # STORE\n",
        "            address = self.registers[operand2]\n",
        "            self.memory[address] = self.registers[operand1]\n",
        "        elif opcode == 0b0100:  # HALT\n",
        "            self.running = False\n",
        "        else:\n",
        "            raise ValueError(f\"Unknown opcode: {opcode}\")\n",
        "\n",
        "    def run(self):\n",
        "        self.running = True\n",
        "        while self.running:\n",
        "            instruction = self.fetch()\n",
        "            opcode, operand1, operand2 = self.decode(instruction)\n",
        "            self.execute(opcode, operand1, operand2)\n",
        "\n",
        "    def load_program(self, program):\n",
        "        # Load a program into memory starting at address 0\n",
        "        for i, instruction in enumerate(program):\n",
        "            self.memory[i] = instruction\n",
        "\n",
        "# Example usage:\n",
        "\n",
        "# Define a program (instructions represented as opcode and operands)\n",
        "program = [\n",
        "    0b00001001,  # ADD R1, R2 (Add contents of R2 to R1)\n",
        "    0b00100110,  # LOAD R2, R6 (Load value from memory address in R6 into R2)\n",
        "    0b00011000,  # SUB R1, R0 (Subtract contents of R0 from R1)\n",
        "    0b00111100,  # STORE R1, R3 (Store value in R1 into memory address in R3)\n",
        "    0b01000000   # HALT (Halt the processor)\n",
        "]\n",
        "\n",
        "# Create a multi-cycle processor instance\n",
        "processor = MultiCycleProcessor(program)\n",
        "\n",
        "# Load the program into memory\n",
        "processor.load_program(program)\n",
        "\n",
        "# Run the processor\n",
        "processor.run()\n",
        "\n",
        "# After execution, inspect register and memory contents\n",
        "print(\"Registers:\", processor.registers)\n",
        "print(\"Memory:\", processor.memory)"
      ]
    }
  ]
}