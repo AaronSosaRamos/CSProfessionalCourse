{
  "nbformat": 4,
  "nbformat_minor": 0,
  "metadata": {
    "colab": {
      "provenance": []
    },
    "kernelspec": {
      "name": "python3",
      "display_name": "Python 3"
    },
    "language_info": {
      "name": "python"
    }
  },
  "cells": [
    {
      "cell_type": "markdown",
      "source": [
        "#Sets"
      ],
      "metadata": {
        "id": "wJpFqnNEKgNj"
      }
    },
    {
      "cell_type": "code",
      "execution_count": 1,
      "metadata": {
        "id": "5VbPM53KIZo_",
        "colab": {
          "base_uri": "https://localhost:8080/",
          "height": 533
        },
        "outputId": "a89580b3-3218-43a6-a142-9c30cd9962fd"
      },
      "outputs": [
        {
          "output_type": "display_data",
          "data": {
            "text/plain": [
              "<Figure size 640x480 with 1 Axes>"
            ],
            "image/png": "[encoded data removed]"
          },
          "metadata": {}
        },
        {
          "output_type": "stream",
          "name": "stdout",
          "text": [
            "Intersection: {3, 4}\n",
            "Join: {1, 2, 3, 4, 5, 6}\n",
            "Complement: {5, 6}\n",
            "Cartesian Product: [(1, 'a'), (1, 'b'), (2, 'a'), (2, 'b')]\n",
            "Power Set: [(), (1,), (2,), (3,), (1, 2), (1, 3), (2, 3), (1, 2, 3)]\n",
            "Cardinality: 5\n"
          ]
        }
      ],
      "source": [
        "import matplotlib.pyplot as plt\n",
        "from matplotlib_venn import venn2\n",
        "import itertools\n",
        "\n",
        "# 1. Venn Diagrams:\n",
        "# Venn diagrams are illustrations that show all possible logical relations between a finite collection of different sets.\n",
        "# Here, we use matplotlib_venn library to create a Venn diagram representing the intersection and union of two sets.\n",
        "\n",
        "set1 = {1, 2, 3, 4}\n",
        "set2 = {3, 4, 5, 6}\n",
        "\n",
        "venn2([set1, set2], ('Set 1', 'Set 2'))\n",
        "plt.title(\"Venn Diagram of Set 1 and Set 2\")\n",
        "plt.show()\n",
        "\n",
        "# 2. Join, Intersection, and Complement:\n",
        "# Join (Union) combines all elements from two sets, Intersection finds common elements,\n",
        "# and Complement finds the elements in set2 that are not in set1.\n",
        "\n",
        "intersection = set1.intersection(set2)\n",
        "print(\"Intersection:\", intersection)\n",
        "\n",
        "join = set1.union(set2)\n",
        "print(\"Join:\", join)\n",
        "\n",
        "complement = set2 - set1\n",
        "print(\"Complement:\", complement)\n",
        "\n",
        "# 3. Cartesian Product:\n",
        "# The Cartesian product of two sets is a set of all possible ordered pairs from the two sets.\n",
        "\n",
        "set1 = {1, 2}\n",
        "set2 = {'a', 'b'}\n",
        "\n",
        "cartesian_product = list(itertools.product(set1, set2))\n",
        "print(\"Cartesian Product:\", cartesian_product)\n",
        "\n",
        "# 4. Power Set of Sets:\n",
        "# The power set of a set is the set of all its subsets, including the empty set and itself.\n",
        "\n",
        "set1 = {1, 2, 3}\n",
        "power_set = list(itertools.chain.from_iterable(itertools.combinations(set1, r) for r in range(len(set1)+1)))\n",
        "print(\"Power Set:\", power_set)\n",
        "\n",
        "# 5. Cardinality of Finite Sets:\n",
        "# Cardinality refers to the number of elements in a set.\n",
        "\n",
        "set1 = {1, 2, 3, 4, 5}\n",
        "cardinality = len(set1)\n",
        "print(\"Cardinality:\", cardinality)\n"
      ]
    },
    {
      "cell_type": "markdown",
      "source": [
        "#Relations"
      ],
      "metadata": {
        "id": "lOHxrYqX4h8t"
      }
    },
    {
      "cell_type": "code",
      "source": [
        "# 1. Reflexivity, Symmetry, and Transitivity:\n",
        "\n",
        "# Example relation\n",
        "relation = {(1, 1), (2, 2), (3, 3), (1, 2), (2, 1)}\n",
        "\n",
        "def is_reflexive(rel):\n",
        "    \"\"\"\n",
        "    Checks if a relation is reflexive.\n",
        "    A relation R on a set A is reflexive if every element in A is related to itself.\n",
        "    \"\"\"\n",
        "    # Check if every element is related to itself\n",
        "    return all((x, x) in rel for x in {item for sublist in rel for item in sublist})\n",
        "\n",
        "def is_symmetric(rel):\n",
        "    \"\"\"\n",
        "    Checks if a relation is symmetric.\n",
        "    A relation R on a set A is symmetric if whenever (a, b) is in R, then (b, a) is also in R.\n",
        "    \"\"\"\n",
        "    # Check if whenever (a, b) is in R, then (b, a) is also in R\n",
        "    return all((y, x) in rel for x, y in rel)\n",
        "\n",
        "def is_transitive(rel):\n",
        "    \"\"\"\n",
        "    Checks if a relation is transitive.\n",
        "    A relation R on a set A is transitive if whenever (a, b) is in R and (b, c) is in R, then (a, c) is also in R.\n",
        "    \"\"\"\n",
        "    # Check if whenever (a, b) is in R and (b, c) is in R, then (a, c) is also in R\n",
        "    return all((x, z) in rel for x, y in rel for w, z in rel if y == w)\n",
        "\n",
        "print(\"Reflexive:\", is_reflexive(relation))\n",
        "print(\"Symmetric:\", is_symmetric(relation))\n",
        "print(\"Transitive:\", is_transitive(relation))\n",
        "\n",
        "# 2. Relations of Equivalence:\n",
        "\n",
        "# Example equivalence relation\n",
        "equivalence_relation = {(1, 1), (2, 2), (3, 3), (1, 2), (2, 1), (2, 3), (3, 2)}\n",
        "\n",
        "print(\"Equivalence Relation:\", is_reflexive(equivalence_relation) and is_symmetric(equivalence_relation) and is_transitive(equivalence_relation))\n",
        "\n",
        "# 3. Relation of Partial Order and Partially Ordered Sets:\n",
        "\n",
        "# Example partial order relation\n",
        "partial_order_relation = {(1, 1), (2, 2), (3, 3), (1, 2), (2, 3)}\n",
        "\n",
        "def is_antisymmetric(rel):\n",
        "    \"\"\"\n",
        "    Checks if a relation is antisymmetric.\n",
        "    A relation R on a set A is antisymmetric if whenever (a, b) and (b, a) are in R, then a = b.\n",
        "    \"\"\"\n",
        "    # Check if whenever (a, b) and (b, a) are in R, then a = b\n",
        "    return all((x, y) not in rel or (y, x) not in rel or x == y for x, y in rel)\n",
        "\n",
        "print(\"Partial Order Relation:\", is_reflexive(partial_order_relation) and is_antisymmetric(partial_order_relation) and is_transitive(partial_order_relation))\n",
        "\n",
        "#4. Extreme elements of a partially ordered set\n",
        "\n",
        "def extreme_elements(partial_order_set):\n",
        "    \"\"\"\n",
        "    Finds extreme elements of a partially ordered set.\n",
        "\n",
        "    Args:\n",
        "    partial_order_set: A list of tuples representing the relation in the partially ordered set.\n",
        "                      Each tuple should be of the form (x, y) indicating that x is related to y.\n",
        "\n",
        "    Returns:\n",
        "    A tuple containing two lists, the first list contains the maximal elements\n",
        "    and the second list contains the minimal elements.\n",
        "    \"\"\"\n",
        "\n",
        "    # Initialize lists to store maximal and minimal elements\n",
        "    maximal_elements = []\n",
        "    minimal_elements = []\n",
        "\n",
        "    # Check each element in the partially ordered set\n",
        "    for x in partial_order_set:\n",
        "        # Initialize flags to check if x is maximal or minimal\n",
        "        is_maximal = True\n",
        "        is_minimal = True\n",
        "\n",
        "        # Check if x is maximal by comparing with other elements y\n",
        "        for y in partial_order_set:\n",
        "            if x != y:  # Skip self-comparison\n",
        "                # Check if there exists an element y such that x is not greater than y\n",
        "                if x[0] == y[0] and x[1] < y[1]:\n",
        "                    is_maximal = False\n",
        "                    break\n",
        "        # If x remained maximal, add it to the list of maximal elements\n",
        "        if is_maximal:\n",
        "            maximal_elements.append(x[0])\n",
        "\n",
        "        # Check if x is minimal by comparing with other elements y\n",
        "        for y in partial_order_set:\n",
        "            if x != y:  # Skip self-comparison\n",
        "                # Check if there exists an element y such that x is not lesser than y\n",
        "                if x[0] == y[0] and x[1] > y[1]:\n",
        "                    is_minimal = False\n",
        "                    break\n",
        "        # If x remained minimal, add it to the list of minimal elements\n",
        "        if is_minimal:\n",
        "            minimal_elements.append(x[0])\n",
        "\n",
        "    # Return the lists of maximal and minimal elements\n",
        "    return maximal_elements, minimal_elements\n",
        "\n",
        "# Example usage:\n",
        "partial_order_set = [(1, 2), (1, 3), (2, 3), (3, 4), (2, 4)]\n",
        "maximals, minimals = extreme_elements(partial_order_set)\n",
        "print(\"Maximal elements:\", maximals)\n",
        "print(\"Minimal elements:\", minimals)\n"
      ],
      "metadata": {
        "colab": {
          "base_uri": "https://localhost:8080/"
        },
        "id": "RYKfSgTZ4wQY",
        "outputId": "c9668fcb-3429-4db5-9416-7a91858a28ab"
      },
      "execution_count": 9,
      "outputs": [
        {
          "output_type": "stream",
          "name": "stdout",
          "text": [
            "Reflexive: True\n",
            "Symmetric: True\n",
            "Transitive: True\n",
            "Equivalence Relation: False\n",
            "Partial Order Relation: False\n",
            "Maximal elements: [1, 3, 2]\n",
            "Minimal elements: [1, 2, 3]\n"
          ]
        }
      ]
    },
    {
      "cell_type": "markdown",
      "source": [
        "#Functions"
      ],
      "metadata": {
        "id": "7aeCzZGF_Cnd"
      }
    },
    {
      "cell_type": "code",
      "source": [
        "# 1.3.1. Injections, Surjections, Bijections, Total Functions.\n",
        "\n",
        "def injection_surjection_bijection_total_functions(domain, codomain, function):\n",
        "    \"\"\"\n",
        "    Determines if a function is an injection, surjection, bijection, or total function.\n",
        "\n",
        "    Args:\n",
        "    domain: A list representing the domain of the function.\n",
        "    codomain: A list representing the codomain of the function.\n",
        "    function: A dictionary representing the function where keys are elements of the domain\n",
        "              and values are elements of the codomain.\n",
        "\n",
        "    Returns:\n",
        "    A tuple containing four boolean values:\n",
        "    - True if the function is an injection, False otherwise.\n",
        "    - True if the function is a surjection, False otherwise.\n",
        "    - True if the function is a bijection, False otherwise.\n",
        "    - True if the function is a total function, False otherwise.\n",
        "    \"\"\"\n",
        "    # Check for injection\n",
        "    is_injection = len(set(function.values())) == len(function)\n",
        "\n",
        "    # Check for surjection\n",
        "    is_surjection = set(function.values()) == set(codomain)\n",
        "\n",
        "    # Check for bijection\n",
        "    is_bijection = is_injection and is_surjection\n",
        "\n",
        "    # Check for total function\n",
        "    is_total_function = set(function.keys()) == set(domain)\n",
        "\n",
        "    return is_injection, is_surjection, is_bijection, is_total_function\n",
        "\n",
        "\n",
        "# Example usage:\n",
        "domain = [1, 2, 3]\n",
        "codomain = ['a', 'b', 'c', 'd']\n",
        "function = {1: 'a', 2: 'b', 3: 'c'}\n",
        "\n",
        "is_injection, is_surjection, is_bijection, is_total_function = \\\n",
        "    injection_surjection_bijection_total_functions(domain, codomain, function)\n",
        "\n",
        "print(\"Is Injection:\", is_injection)\n",
        "print(\"Is Surjection:\", is_surjection)\n",
        "print(\"Is Bijection:\", is_bijection)\n",
        "print(\"Is Total Function:\", is_total_function)\n",
        "\n",
        "\n",
        "# 1.3.2. Inverses.\n",
        "\n",
        "def inverse_function(function):\n",
        "    \"\"\"\n",
        "    Computes the inverse of a function.\n",
        "\n",
        "    Args:\n",
        "    function: A dictionary representing the function.\n",
        "\n",
        "    Returns:\n",
        "    A dictionary representing the inverse function.\n",
        "    \"\"\"\n",
        "    inverse = {v: k for k, v in function.items()}\n",
        "    return inverse\n",
        "\n",
        "\n",
        "# Example usage:\n",
        "function = {1: 'a', 2: 'b', 3: 'c'}\n",
        "inverse = inverse_function(function)\n",
        "print(\"Original function:\", function)\n",
        "print(\"Inverse function:\", inverse)\n",
        "\n",
        "\n",
        "# 1.3.3. Composition.\n",
        "\n",
        "def function_composition(f, g):\n",
        "    \"\"\"\n",
        "    Computes the composition of two functions.\n",
        "\n",
        "    Args:\n",
        "    f: A dictionary representing the first function.\n",
        "    g: A dictionary representing the second function.\n",
        "\n",
        "    Returns:\n",
        "    A dictionary representing the composition of the two functions.\n",
        "    \"\"\"\n",
        "    composition = {x: g[f[x]] for x in f}\n",
        "    return composition\n",
        "\n",
        "\n",
        "# Example usage:\n",
        "f = {1: 2, 2: 3, 3: 4}\n",
        "g = {2: 'a', 3: 'b', 4: 'c'}\n",
        "composition = function_composition(f, g)\n",
        "print(\"Composition of f and g:\", composition)\n"
      ],
      "metadata": {
        "colab": {
          "base_uri": "https://localhost:8080/"
        },
        "id": "V6Ooxx4X_J-0",
        "outputId": "53e2bc93-0c27-4912-fb45-c79e7f911121"
      },
      "execution_count": 14,
      "outputs": [
        {
          "output_type": "stream",
          "name": "stdout",
          "text": [
            "Is Injection: True\n",
            "Is Surjection: False\n",
            "Is Bijection: False\n",
            "Is Total Function: True\n",
            "Original function: {1: 'a', 2: 'b', 3: 'c'}\n",
            "Inverse function: {'a': 1, 'b': 2, 'c': 3}\n",
            "Composition of f and g: {1: 'a', 2: 'b', 3: 'c'}\n"
          ]
        }
      ]
    }
  ]
}