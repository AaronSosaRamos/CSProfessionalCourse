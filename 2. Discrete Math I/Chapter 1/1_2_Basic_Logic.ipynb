{
  "nbformat": 4,
  "nbformat_minor": 0,
  "metadata": {
    "colab": {
      "provenance": []
    },
    "kernelspec": {
      "name": "python3",
      "display_name": "Python 3"
    },
    "language_info": {
      "name": "python"
    }
  },
  "cells": [
    {
      "cell_type": "markdown",
      "source": [
        "#Basic Logic"
      ],
      "metadata": {
        "id": "15ZY_VXFAC60"
      }
    },
    {
      "cell_type": "code",
      "execution_count": 18,
      "metadata": {
        "colab": {
          "base_uri": "https://localhost:8080/"
        },
        "id": "sK_wpguhACCR",
        "outputId": "c2fcea05-ebce-45a1-f21e-57a0518ab62a"
      },
      "outputs": [
        {
          "output_type": "stream",
          "name": "stdout",
          "text": [
            "Propositional Logic Operations:\n",
            "Conjunctive Normal Form (CNF) of expression 1: (p | ~r) & (q | ~r)\n",
            "Conjunctive Normal Form (CNF) of expression 2: (p | q) & (p | r)\n",
            "Disjunctive Normal Form (DNF) of expression 1: ~r | (p & q)\n",
            "Disjunctive Normal Form (DNF) of expression 2: p | (q & r)\n",
            "Truth table for expression 1:\n",
            "<generator object truth_table at 0x7de9f678f530>\n",
            "Truth table for expression 2:\n",
            "<generator object truth_table at 0x7de9f678f530>\n",
            "Parsed expression: r & (p | q)\n",
            "Is conclusion valid using Modus Ponens? False\n",
            "Is conclusion valid using Modus Tollens? {q: True, p: True}\n",
            "\n",
            "Predicate Logic Operations:\n",
            "Universal quantification: (x > 0) & (x < 4)\n",
            "Is universal quantification satisfiable? {Q.lt(x, 4): True, Q.gt(x, 0): True}\n",
            "Existential quantification: False\n",
            "Is existential quantification satisfiable? False\n"
          ]
        }
      ],
      "source": [
        "from sympy import symbols, And, Or, Not, to_cnf, to_dnf\n",
        "from sympy.logic.boolalg import truth_table\n",
        "from sympy.logic.inference import satisfiable\n",
        "from sympy.parsing.sympy_parser import (parse_expr, standard_transformations,\n",
        "                                         implicit_multiplication_application)\n",
        "\n",
        "# Define a transformation for implicit multiplication\n",
        "transformations = standard_transformations + (implicit_multiplication_application,)\n",
        "\n",
        "def propositional_logic_operations():\n",
        "    # Define symbolic variables\n",
        "    p, q, r = symbols('p q r')\n",
        "\n",
        "    # Logical expressions\n",
        "    expression1 = Or(And(p, q), Not(r))\n",
        "    expression2 = Or(p, And(q, r))\n",
        "\n",
        "    # Convert to Conjunctive Normal Form (CNF)\n",
        "    cnf1 = to_cnf(expression1)\n",
        "    cnf2 = to_cnf(expression2)\n",
        "    print(\"Conjunctive Normal Form (CNF) of expression 1:\", cnf1)\n",
        "    print(\"Conjunctive Normal Form (CNF) of expression 2:\", cnf2)\n",
        "\n",
        "    # Convert to Disjunctive Normal Form (DNF)\n",
        "    dnf1 = to_dnf(expression1)\n",
        "    dnf2 = to_dnf(expression2)\n",
        "    print(\"Disjunctive Normal Form (DNF) of expression 1:\", dnf1)\n",
        "    print(\"Disjunctive Normal Form (DNF) of expression 2:\", dnf2)\n",
        "\n",
        "    # Truth tables\n",
        "    print(\"Truth table for expression 1:\")\n",
        "    print(truth_table(expression1, [p, q, r]))\n",
        "    print(\"Truth table for expression 2:\")\n",
        "    print(truth_table(expression2, [p, q, r]))\n",
        "\n",
        "    # Validation of well-formed formulas\n",
        "    try:\n",
        "        parsed_expr = parse_expr(\"(p | q) & r\", transformations=transformations)\n",
        "        print(\"Parsed expression:\", parsed_expr)\n",
        "    except Exception as e:\n",
        "        print(\"Error:\", e)\n",
        "\n",
        "    # Propositional inference rules (Modus Ponens and Modus Tollens)\n",
        "    premises = [p, p >> q]\n",
        "    conclusion = q\n",
        "    print(\"Is conclusion valid using Modus Ponens?\", satisfiable(And(*(premises + [Not(conclusion)]))))\n",
        "    print(\"Is conclusion valid using Modus Tollens?\", satisfiable(And(*(premises + [conclusion]))))\n",
        "\n",
        "def predicate_logic_operations():\n",
        "    # Predicate logic\n",
        "    x, y = symbols('x y')\n",
        "\n",
        "    # Universal quantification\n",
        "    universal = And(x > 0, x < 4)\n",
        "    print(\"Universal quantification:\", universal)\n",
        "    print(\"Is universal quantification satisfiable?\", satisfiable(universal))\n",
        "\n",
        "    # Existential quantification\n",
        "    existential = Or(x == 1, x == 2, x == 3)\n",
        "    print(\"Existential quantification:\", existential)\n",
        "    print(\"Is existential quantification satisfiable?\", satisfiable(existential))\n",
        "\n",
        "def main():\n",
        "    print(\"Propositional Logic Operations:\")\n",
        "    propositional_logic_operations()\n",
        "    print(\"\\nPredicate Logic Operations:\")\n",
        "    predicate_logic_operations()\n",
        "\n",
        "if __name__ == \"__main__\":\n",
        "    main()\n"
      ]
    }
  ]
}