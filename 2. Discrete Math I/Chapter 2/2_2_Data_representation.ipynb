{
  "nbformat": 4,
  "nbformat_minor": 0,
  "metadata": {
    "colab": {
      "provenance": []
    },
    "kernelspec": {
      "name": "python3",
      "display_name": "Python 3"
    },
    "language_info": {
      "name": "python"
    }
  },
  "cells": [
    {
      "cell_type": "markdown",
      "source": [
        "#Numeric representations"
      ],
      "metadata": {
        "id": "rLs3Yf1F7LAv"
      }
    },
    {
      "cell_type": "code",
      "execution_count": 1,
      "metadata": {
        "colab": {
          "base_uri": "https://localhost:8080/"
        },
        "id": "P3F4Edqs7GIU",
        "outputId": "ba49de20-77ce-4b29-9f6f-7e812e3ea189"
      },
      "outputs": [
        {
          "output_type": "stream",
          "name": "stdout",
          "text": [
            "Decimal Representation:\n",
            "Decimal number: 123\n",
            "Negative decimal number: -45\n",
            "Decimal float number: 3.14\n",
            "\n",
            "Binary Representation:\n",
            "Binary number: 0b1010\n",
            "\n",
            "Hexadecimal Representation:\n",
            "Hexadecimal number: 171\n",
            "\n",
            "Octal Representation:\n",
            "Octal number: 61\n",
            "\n",
            "ASCII Representation:\n",
            "ASCII value of 'A': 65\n",
            "\n",
            "Floating Point Representation:\n",
            "Floating point number: 3.14\n"
          ]
        }
      ],
      "source": [
        "# Decimal Representation\n",
        "decimal_num = 123\n",
        "negative_decimal_num = -45\n",
        "decimal_float_num = 3.14\n",
        "\n",
        "# Binary Representation\n",
        "binary_num = bin(10)  # Converts 10 to binary: '0b1010'\n",
        "\n",
        "# Hexadecimal Representation\n",
        "hex_num = 0xAB   # Represents the hexadecimal number 171\n",
        "\n",
        "# Octal Representation\n",
        "octal_num = 0o75  # Represents the octal number 61\n",
        "\n",
        "# ASCII Representation\n",
        "ascii_val = ord('A')  # Returns the ASCII value of 'A': 65\n",
        "\n",
        "# Floating Point Representation\n",
        "float_num = float(3.14)  # Represents the floating-point number 3.14\n",
        "\n",
        "# Printing the results\n",
        "print(\"Decimal Representation:\")\n",
        "print(\"Decimal number:\", decimal_num)\n",
        "print(\"Negative decimal number:\", negative_decimal_num)\n",
        "print(\"Decimal float number:\", decimal_float_num)\n",
        "\n",
        "print(\"\\nBinary Representation:\")\n",
        "print(\"Binary number:\", binary_num)\n",
        "\n",
        "print(\"\\nHexadecimal Representation:\")\n",
        "print(\"Hexadecimal number:\", hex_num)\n",
        "\n",
        "print(\"\\nOctal Representation:\")\n",
        "print(\"Octal number:\", octal_num)\n",
        "\n",
        "print(\"\\nASCII Representation:\")\n",
        "print(\"ASCII value of 'A':\", ascii_val)\n",
        "\n",
        "print(\"\\nFloating Point Representation:\")\n",
        "print(\"Floating point number:\", float_num)\n"
      ]
    },
    {
      "cell_type": "markdown",
      "source": [
        "#Sets, relations and functions:"
      ],
      "metadata": {
        "id": "BbpQY_2o9U2-"
      }
    },
    {
      "cell_type": "code",
      "source": [
        "# Sets\n",
        "# Direct creation\n",
        "my_set = {1, 2, 3}\n",
        "\n",
        "# Using set() constructor\n",
        "another_set = set([4, 5, 6])\n",
        "\n",
        "# Relations\n",
        "# Binary relation R from set A to set B\n",
        "relation_R = {(1, 'a'), (2, 'b'), (3, 'c')}\n",
        "\n",
        "# Functions\n",
        "# One-to-one function f\n",
        "function_f = {1: 'apple', 2: 'banana', 3: 'cherry'}\n",
        "\n",
        "# Printing the results\n",
        "print(\"Sets:\")\n",
        "print(\"my_set:\", my_set)\n",
        "print(\"another_set:\", another_set)\n",
        "\n",
        "print(\"\\nRelations:\")\n",
        "print(\"relation_R:\", relation_R)\n",
        "\n",
        "print(\"\\nFunctions:\")\n",
        "print(\"function_f:\", function_f)\n"
      ],
      "metadata": {
        "colab": {
          "base_uri": "https://localhost:8080/"
        },
        "id": "iu2Spmiz9UHu",
        "outputId": "4f2f0ebb-9d49-4970-a0e9-2cf4c13f3fa2"
      },
      "execution_count": 2,
      "outputs": [
        {
          "output_type": "stream",
          "name": "stdout",
          "text": [
            "Sets:\n",
            "my_set: {1, 2, 3}\n",
            "another_set: {4, 5, 6}\n",
            "\n",
            "Relations:\n",
            "relation_R: {(2, 'b'), (3, 'c'), (1, 'a')}\n",
            "\n",
            "Functions:\n",
            "function_f: {1: 'apple', 2: 'banana', 3: 'cherry'}\n"
          ]
        }
      ]
    }
  ]
}