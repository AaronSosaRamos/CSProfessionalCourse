{
  "nbformat": 4,
  "nbformat_minor": 0,
  "metadata": {
    "colab": {
      "provenance": []
    },
    "kernelspec": {
      "name": "python3",
      "display_name": "Python 3"
    },
    "language_info": {
      "name": "python"
    }
  },
  "cells": [
    {
      "cell_type": "markdown",
      "source": [
        "#Implication, Equivalence, Conversion, Inversion, Contraposition, Negation, and Contradiction Concepts:\n",
        "These are fundamental concepts in propositional logic and predicate logic. They deal with relationships between statements, such as when one statement implies another (implication), when two statements have the same truth value (equivalence), how to convert between different logical forms (conversion), reversing the direction of an implication (inversion), replacing a statement with its negation (contraposition), denying a statement (negation), and deriving a logical inconsistency (contradiction)."
      ],
      "metadata": {
        "id": "4kM7KiXw09aF"
      }
    },
    {
      "cell_type": "code",
      "execution_count": null,
      "metadata": {
        "id": "pV4ZX5z105Zn",
        "colab": {
          "base_uri": "https://localhost:8080/"
        },
        "outputId": "1f7ca1d2-64be-4173-aa6b-f42af4b73fed"
      },
      "outputs": [
        {
          "output_type": "stream",
          "name": "stdout",
          "text": [
            "Implication (p -> q): Implies(p, q)\n",
            "Equivalence (p <-> q): Equivalent(p, q)\n",
            "Conversion (q -> p): Equivalent(p, q)\n",
            "Inversion (¬q -> ¬p): Implies(~q, ~p)\n",
            "Contraposition (¬q -> ¬p): Implies(~q, ~p)\n",
            "Negation (¬p): ~p\n",
            "Negation (¬q): ~q\n",
            "Contradiction (p ∧ ¬p): p & ~p\n"
          ]
        }
      ],
      "source": [
        "from sympy import symbols, Implies, Equivalent, Not\n",
        "\n",
        "# Define symbols\n",
        "p, q = symbols('p q')\n",
        "\n",
        "# Implication\n",
        "implication = Implies(p, q)\n",
        "print(\"Implication (p -> q):\", implication)\n",
        "\n",
        "# Equivalence\n",
        "equivalence = Equivalent(p, q)\n",
        "print(\"Equivalence (p <-> q):\", equivalence)\n",
        "\n",
        "# Conversion\n",
        "conversion = Equivalent(q, p)\n",
        "print(\"Conversion (q -> p):\", conversion)\n",
        "\n",
        "# Inversion\n",
        "inversion = Implies(Not(q), Not(p))\n",
        "print(\"Inversion (¬q -> ¬p):\", inversion)\n",
        "\n",
        "# Contraposition\n",
        "contraposition = Implies(Not(q), Not(p))\n",
        "print(\"Contraposition (¬q -> ¬p):\", contraposition)\n",
        "\n",
        "# Negation\n",
        "negation_p = Not(p)\n",
        "negation_q = Not(q)\n",
        "print(\"Negation (¬p):\", negation_p)\n",
        "print(\"Negation (¬q):\", negation_q)\n",
        "\n",
        "# Contradiction\n",
        "contradiction = p & Not(p)\n",
        "print(\"Contradiction (p ∧ ¬p):\", contradiction)\n"
      ]
    },
    {
      "cell_type": "markdown",
      "source": [
        "#Structure of Mathematical Proofs:"
      ],
      "metadata": {
        "id": "czR4Cmi6wu4x"
      }
    },
    {
      "cell_type": "markdown",
      "source": [
        "This refers to the organization and presentation of mathematical arguments to demonstrate the truth of a statement. Mathematical proofs typically consist of a series of logical steps that lead from known premises to a desired conclusion."
      ],
      "metadata": {
        "id": "I1uUoBYwwuh5"
      }
    },
    {
      "cell_type": "code",
      "source": [
        "from sympy import symbols, simplify, Eq\n",
        "\n",
        "# Define the symbol\n",
        "n = symbols('n')\n",
        "\n",
        "# Define the sum of the first n positive integers\n",
        "sum_of_integers = n * (n + 1) / 2\n",
        "\n",
        "# Base case: n = 1\n",
        "base_case = Eq(sum_of_integers.subs(n, 1), 1)\n",
        "\n",
        "# Inductive step: assume true for n = k and prove for n = k + 1\n",
        "k = symbols('k')\n",
        "inductive_assumption = k * (k + 1) / 2\n",
        "inductive_step = simplify(sum_of_integers.subs(n, k + 1) - inductive_assumption)\n",
        "\n",
        "# Print the base case, inductive step\n",
        "print(\"Base case:\")\n",
        "print(base_case)\n",
        "\n",
        "print(\"\\nInductive step:\")\n",
        "print(inductive_step)\n"
      ],
      "metadata": {
        "colab": {
          "base_uri": "https://localhost:8080/"
        },
        "id": "HQuJ_PQ9CK4r",
        "outputId": "4a7e9de0-dd23-41d3-e182-c66c6f067888"
      },
      "execution_count": null,
      "outputs": [
        {
          "output_type": "stream",
          "name": "stdout",
          "text": [
            "Base case:\n",
            "True\n",
            "\n",
            "Inductive step:\n",
            "k + 1\n"
          ]
        }
      ]
    },
    {
      "cell_type": "markdown",
      "source": [
        "#Direct Proof:"
      ],
      "metadata": {
        "id": "v5Tmo1sayV_p"
      }
    },
    {
      "cell_type": "markdown",
      "source": [
        "A direct proof is a method of proving a statement by demonstrating a logical sequence of deductions from known premises to the desired conclusion, without relying on any intermediate assumptions."
      ],
      "metadata": {
        "id": "SrZnyQB8w0Kw"
      }
    },
    {
      "cell_type": "code",
      "source": [
        "from sympy import symbols, simplify\n",
        "\n",
        "# Define the symbol\n",
        "n = symbols('n')\n",
        "\n",
        "# Define the sum of the first n positive integers\n",
        "sum_of_integers = n * (n + 1) / 2\n",
        "\n",
        "# Define the expression for the sum of the first n positive integers\n",
        "direct_proof = sum(range(1, 1 + 1))  # Here, we're evaluating for n = 1\n",
        "\n",
        "# Simplify the expressions\n",
        "direct_proof_simplified = simplify(direct_proof - sum_of_integers.subs(n, 1))\n",
        "\n",
        "# Print the direct proof\n",
        "print(\"Direct Proof:\")\n",
        "print(direct_proof_simplified)\n"
      ],
      "metadata": {
        "colab": {
          "base_uri": "https://localhost:8080/"
        },
        "id": "orkJJqAxxAu_",
        "outputId": "0f395bcb-dace-4645-8b7e-0cdee47345bb"
      },
      "execution_count": 2,
      "outputs": [
        {
          "output_type": "stream",
          "name": "stdout",
          "text": [
            "Direct Proof:\n",
            "0\n"
          ]
        }
      ]
    },
    {
      "cell_type": "markdown",
      "source": [
        "#Refutation by Counterexample:"
      ],
      "metadata": {
        "id": "ceJHYLun1h0H"
      }
    },
    {
      "cell_type": "markdown",
      "source": [
        " This technique involves disproving a statement by providing a specific example, or counterexample, that contradicts the statement. If a statement is disproved by a counterexample, it cannot be universally true."
      ],
      "metadata": {
        "id": "wJfHtlvq1g2n"
      }
    },
    {
      "cell_type": "code",
      "source": [
        "# Define the function for the sum of the first n positive integers\n",
        "def sum_of_first_n_integers(n):\n",
        "    return sum(range(1, n + 1))\n",
        "\n",
        "# Define a function for the formula n(n+1)/2\n",
        "def formula(n):\n",
        "    return n * (n + 1) / 2\n",
        "\n",
        "# Check for counterexamples\n",
        "for n_value in range(1, 11):  # Checking for n from 1 to 10\n",
        "    if sum_of_first_n_integers(n_value) != formula(n_value):\n",
        "        print(f\"Counterexample found for n = {n_value}:\")\n",
        "        print(f\"Sum of the first n positive integers: {sum_of_first_n_integers(n_value)}\")\n",
        "        print(f\"Formula value: {formula(n_value)}\")\n",
        "        break\n",
        "else:\n",
        "    print(\"No counterexample found within the given range.\")\n"
      ],
      "metadata": {
        "colab": {
          "base_uri": "https://localhost:8080/"
        },
        "id": "NHXhnWlh1JL2",
        "outputId": "cede9102-9fa0-445a-9dcb-25115fa77a56"
      },
      "execution_count": 3,
      "outputs": [
        {
          "output_type": "stream",
          "name": "stdout",
          "text": [
            "No counterexample found within the given range.\n"
          ]
        }
      ]
    },
    {
      "cell_type": "markdown",
      "source": [
        "#Proof by Contradiction:"
      ],
      "metadata": {
        "id": "28vTSS0j2KWn"
      }
    },
    {
      "cell_type": "markdown",
      "source": [
        "Also known as reductio ad absurdum, this technique involves assuming the negation of the statement to be proved and then deriving a contradiction from this assumption. This contradiction demonstrates that the original statement must be true."
      ],
      "metadata": {
        "id": "v1pv4NKE2GAX"
      }
    },
    {
      "cell_type": "code",
      "source": [
        "from sympy import symbols, Eq, simplify\n",
        "\n",
        "# Define the symbol\n",
        "n = symbols('n')\n",
        "\n",
        "# Define the sum of the first n positive integers\n",
        "sum_of_integers = n * (n + 1) / 2\n",
        "\n",
        "# Assume the negation of the theorem: sum_of_integers != n * (n + 1) / 2\n",
        "assumption = Eq(sum_of_integers, n * (n + 1) / 2)\n",
        "\n",
        "# Negate the assumption\n",
        "negation = ~assumption\n",
        "\n",
        "# Try to derive a contradiction\n",
        "contradiction = simplify(negation)\n",
        "\n",
        "# Print the contradiction\n",
        "print(\"Contradiction:\")\n",
        "print(contradiction)\n"
      ],
      "metadata": {
        "colab": {
          "base_uri": "https://localhost:8080/"
        },
        "id": "aGon8jzT1-_f",
        "outputId": "48803837-31e5-4ace-9ece-54fcab9ea35d"
      },
      "execution_count": 5,
      "outputs": [
        {
          "output_type": "stream",
          "name": "stdout",
          "text": [
            "Contradiction:\n",
            "False\n"
          ]
        }
      ]
    },
    {
      "cell_type": "markdown",
      "source": [
        "#Induction on Natural Numbers:"
      ],
      "metadata": {
        "id": "4AfYKHyq3T9e"
      }
    },
    {
      "cell_type": "markdown",
      "source": [
        " Mathematical induction is a powerful proof technique used to prove statements about natural numbers. It typically involves proving a base case and then demonstrating that if the statement holds for some natural number, it also holds for the next natural number."
      ],
      "metadata": {
        "id": "4At23XuG3Pb_"
      }
    },
    {
      "cell_type": "code",
      "source": [
        "def mathematical_induction(statement, base_case, inductive_step, n):\n",
        "    \"\"\"\n",
        "    Perform mathematical induction to prove a statement for natural numbers up to n.\n",
        "\n",
        "    Args:\n",
        "    - statement: A function that takes a natural number as input and returns True or False.\n",
        "                This function should represent the statement being proved.\n",
        "    - base_case: A function that takes a natural number as input and returns True or False.\n",
        "                This function should represent the base case of the induction.\n",
        "    - inductive_step: A function that takes a natural number as input and returns True or False.\n",
        "                      This function should represent the inductive step of the induction.\n",
        "    - n: The highest natural number up to which the statement needs to be proved.\n",
        "\n",
        "    Returns:\n",
        "    - True if the statement holds for all natural numbers up to n, False otherwise.\n",
        "    \"\"\"\n",
        "\n",
        "    # Base case\n",
        "    if not base_case(0):\n",
        "        return False\n",
        "\n",
        "    # Inductive step\n",
        "    for i in range(1, n+1):\n",
        "        if not statement(i):\n",
        "            return False\n",
        "        if not inductive_step(i):\n",
        "            return False\n",
        "\n",
        "    return True\n",
        "\n",
        "# Example usage\n",
        "# Statement to be proved: For all natural numbers n, 1 + 2 + 3 + ... + n = n*(n+1)/2\n",
        "def statement(n):\n",
        "    return sum(range(1, n+1)) == n*(n+1)//2\n",
        "\n",
        "# Base case: The statement holds for n = 0\n",
        "def base_case(n):\n",
        "    return statement(n)\n",
        "\n",
        "# Inductive step: If the statement holds for n, it also holds for n+1\n",
        "def inductive_step(n):\n",
        "    return statement(n+1)\n",
        "\n",
        "# Prove the statement for natural numbers up to 10\n",
        "print(\"Statement holds up to n=10:\", mathematical_induction(statement, base_case, inductive_step, 10))\n"
      ],
      "metadata": {
        "colab": {
          "base_uri": "https://localhost:8080/"
        },
        "id": "h1hon_-s20E2",
        "outputId": "56c3f30f-d655-432e-fa5e-9804cff32b96"
      },
      "execution_count": 10,
      "outputs": [
        {
          "output_type": "stream",
          "name": "stdout",
          "text": [
            "Statement holds up to n=10: True\n"
          ]
        }
      ]
    },
    {
      "cell_type": "markdown",
      "source": [
        "#Structural Induction:"
      ],
      "metadata": {
        "id": "I90yC-f_3X02"
      }
    },
    {
      "cell_type": "markdown",
      "source": [
        "Similar to mathematical induction, structural induction is used to prove properties of recursively defined structures, such as trees or lists. It involves proving a base case and then demonstrating that if the property holds for smaller instances of the structure, it also holds for larger instances."
      ],
      "metadata": {
        "id": "_bQpGxOO3W6G"
      }
    },
    {
      "cell_type": "code",
      "source": [
        "class TreeNode:\n",
        "    def __init__(self, value, children=None):\n",
        "        self.value = value\n",
        "        self.children = children if children else []\n",
        "\n",
        "def structural_induction(statement, base_case, inductive_step, tree):\n",
        "    \"\"\"\n",
        "    Perform structural induction to prove a statement for a recursively defined structure (e.g., a tree).\n",
        "\n",
        "    Args:\n",
        "    - statement: A function that takes a node of the structure as input and returns True or False.\n",
        "                This function should represent the property being proved.\n",
        "    - base_case: A function that takes a node of the structure as input and returns True or False.\n",
        "                 This function should represent the base case of the induction.\n",
        "    - inductive_step: A function that takes a node of the structure as input and returns True or False.\n",
        "                      This function should represent the inductive step of the induction.\n",
        "    - tree: The root node of the structure for which the property needs to be proved.\n",
        "\n",
        "    Returns:\n",
        "    - True if the statement holds for the entire structure rooted at the given node, False otherwise.\n",
        "    \"\"\"\n",
        "\n",
        "    # Base case\n",
        "    if not base_case(tree):\n",
        "        return False\n",
        "\n",
        "    # Inductive step\n",
        "    for child in tree.children:\n",
        "        if not structural_induction(statement, base_case, inductive_step, child):\n",
        "            return False\n",
        "\n",
        "    return inductive_step(tree)\n",
        "\n",
        "# Example usage\n",
        "# Statement to be proved: All nodes in the tree have a value greater than or equal to zero.\n",
        "def statement(node):\n",
        "    return node.value >= 0\n",
        "\n",
        "# Base case: A single node tree has a non-negative value\n",
        "def base_case(node):\n",
        "    return statement(node)\n",
        "\n",
        "# Inductive step: If all children nodes satisfy the property, and the current node satisfies the property,\n",
        "# then the property holds for the entire tree rooted at the current node.\n",
        "def inductive_step(node):\n",
        "    for child in node.children:\n",
        "        if not statement(child):\n",
        "            return False\n",
        "    return True\n",
        "\n",
        "# Example tree\n",
        "#       1\n",
        "#     / | \\\n",
        "#    2  3  4\n",
        "#   / \\\n",
        "#  5   6\n",
        "tree = TreeNode(1, [\n",
        "    TreeNode(2, [\n",
        "        TreeNode(5),\n",
        "        TreeNode(6)\n",
        "    ]),\n",
        "    TreeNode(3),\n",
        "    TreeNode(4)\n",
        "])\n",
        "\n",
        "# Prove the property for the given tree\n",
        "print(\"Property holds for the given tree:\", structural_induction(statement, base_case, inductive_step, tree))\n"
      ],
      "metadata": {
        "colab": {
          "base_uri": "https://localhost:8080/"
        },
        "id": "McOeGnBq3Yo-",
        "outputId": "d39c50ce-5f46-4b1b-ac8e-9165fc5047fe"
      },
      "execution_count": 11,
      "outputs": [
        {
          "output_type": "stream",
          "name": "stdout",
          "text": [
            "Property holds for the given tree: True\n"
          ]
        }
      ]
    },
    {
      "cell_type": "markdown",
      "source": [
        "# Weak and Strong Induction:"
      ],
      "metadata": {
        "id": "4ZzZaq004bZW"
      }
    },
    {
      "cell_type": "markdown",
      "source": [
        "These are variations of mathematical induction. Weak induction involves proving that if a statement holds for some natural number, it also holds for the next natural number. Strong induction involves proving that if a statement holds for all smaller natural numbers, it also holds for a particular natural number."
      ],
      "metadata": {
        "id": "oTeCGHnb4ai2"
      }
    },
    {
      "cell_type": "code",
      "source": [
        "def weak_induction(statement, base_case, inductive_step, n):\n",
        "    \"\"\"\n",
        "    Perform weak induction to prove a statement for natural numbers up to n.\n",
        "\n",
        "    Args:\n",
        "    - statement: A function that takes a natural number as input and returns True or False.\n",
        "                This function should represent the statement being proved.\n",
        "    - base_case: A function that takes a natural number as input and returns True or False.\n",
        "                This function should represent the base case of the induction.\n",
        "    - inductive_step: A function that takes a natural number as input and returns True or False.\n",
        "                      This function should represent the inductive step of the induction.\n",
        "    - n: The highest natural number up to which the statement needs to be proved.\n",
        "\n",
        "    Returns:\n",
        "    - True if the statement holds for all natural numbers up to n, False otherwise.\n",
        "    \"\"\"\n",
        "\n",
        "    # Base case\n",
        "    if not base_case(0):\n",
        "        return False\n",
        "\n",
        "    # Inductive step\n",
        "    for i in range(n):\n",
        "        if not statement(i):\n",
        "            return False\n",
        "        if not inductive_step(i):\n",
        "            return False\n",
        "\n",
        "    return True\n",
        "\n",
        "\n",
        "def strong_induction(statement, base_case, inductive_step, n):\n",
        "    \"\"\"\n",
        "    Perform strong induction to prove a statement for natural numbers up to n.\n",
        "\n",
        "    Args:\n",
        "    - statement: A function that takes a natural number as input and returns True or False.\n",
        "                This function should represent the statement being proved.\n",
        "    - base_case: A function that takes a natural number as input and returns True or False.\n",
        "                This function should represent the base case of the induction.\n",
        "    - inductive_step: A function that takes a natural number as input and returns True or False.\n",
        "                      This function should represent the inductive step of the induction.\n",
        "    - n: The highest natural number up to which the statement needs to be proved.\n",
        "\n",
        "    Returns:\n",
        "    - True if the statement holds for all natural numbers up to n, False otherwise.\n",
        "    \"\"\"\n",
        "\n",
        "    # Base case\n",
        "    if not base_case(0):\n",
        "        return False\n",
        "\n",
        "    # Inductive step\n",
        "    for i in range(n):\n",
        "        if not statement(i):\n",
        "            return False\n",
        "        for j in range(i + 1, n + 1):\n",
        "            if not inductive_step(j):\n",
        "                return False\n",
        "\n",
        "    return True\n",
        "\n",
        "\n",
        "# Example usage\n",
        "# Statement to be proved: For all natural numbers n, n(n+1)/2 = 1 + 2 + 3 + ... + n\n",
        "def statement(n):\n",
        "    return sum(range(1, n + 1)) == n * (n + 1) // 2\n",
        "\n",
        "# Base case: The statement holds for n = 0\n",
        "def base_case(n):\n",
        "    return statement(n)\n",
        "\n",
        "# Inductive step for weak induction: If the statement holds for n, it also holds for n+1\n",
        "def weak_inductive_step(n):\n",
        "    return statement(n + 1)\n",
        "\n",
        "# Inductive step for strong induction: If the statement holds for all smaller natural numbers, it holds for n\n",
        "def strong_inductive_step(n):\n",
        "    for i in range(n):\n",
        "        if not statement(i):\n",
        "            return False\n",
        "    return True\n",
        "\n",
        "# Prove the statement for natural numbers up to 10 using weak induction\n",
        "print(\"Statement holds up to n=10 (Weak Induction):\", weak_induction(statement, base_case, weak_inductive_step, 10))\n",
        "\n",
        "# Prove the statement for natural numbers up to 10 using strong induction\n",
        "print(\"Statement holds up to n=10 (Strong Induction):\", strong_induction(statement, base_case, strong_inductive_step, 10))\n"
      ],
      "metadata": {
        "colab": {
          "base_uri": "https://localhost:8080/"
        },
        "id": "V5BCvi0D4cKG",
        "outputId": "ddd69289-811e-4e96-da29-a659333b5cd8"
      },
      "execution_count": 12,
      "outputs": [
        {
          "output_type": "stream",
          "name": "stdout",
          "text": [
            "Statement holds up to n=10 (Weak Induction): True\n",
            "Statement holds up to n=10 (Strong Induction): True\n"
          ]
        }
      ]
    },
    {
      "cell_type": "markdown",
      "source": [
        "#Recursive Mathematical Definitions:"
      ],
      "metadata": {
        "id": "shKedB794vqu"
      }
    },
    {
      "cell_type": "markdown",
      "source": [
        " Many mathematical concepts are defined recursively, meaning they are defined in terms of themselves. Proof techniques often involve understanding and manipulating these recursive definitions to prove properties about the defined objects."
      ],
      "metadata": {
        "id": "DhfUE8on4ugt"
      }
    },
    {
      "cell_type": "code",
      "source": [
        "def fibonacci(n):\n",
        "    \"\"\"\n",
        "    Compute the nth Fibonacci number recursively.\n",
        "\n",
        "    Args:\n",
        "    - n: The index of the Fibonacci number to compute.\n",
        "\n",
        "    Returns:\n",
        "    - The nth Fibonacci number.\n",
        "    \"\"\"\n",
        "    if n == 0:\n",
        "        return 0\n",
        "    elif n == 1:\n",
        "        return 1\n",
        "    else:\n",
        "        return fibonacci(n - 1) + fibonacci(n - 2)\n",
        "\n",
        "# Example: Compute the first 10 Fibonacci numbers\n",
        "for i in range(10):\n",
        "    print(f\"F({i}) = {fibonacci(i)}\")\n",
        "\n",
        "def sum_of_fibonacci(n):\n",
        "    \"\"\"\n",
        "    Compute the sum of the first n Fibonacci numbers.\n",
        "\n",
        "    Args:\n",
        "    - n: The number of Fibonacci numbers to sum.\n",
        "\n",
        "    Returns:\n",
        "    - The sum of the first n Fibonacci numbers.\n",
        "    \"\"\"\n",
        "    return fibonacci(n + 2) - 1\n",
        "\n",
        "def prove_sum_of_fibonacci_property(n):\n",
        "    \"\"\"\n",
        "    Prove the property that the sum of the first n Fibonacci numbers is equal to F(n+2) - 1 using mathematical induction.\n",
        "\n",
        "    Args:\n",
        "    - n: The number of Fibonacci numbers to sum.\n",
        "\n",
        "    Returns:\n",
        "    - True if the property holds for the given value of n, False otherwise.\n",
        "    \"\"\"\n",
        "    # Base case\n",
        "    if n == 0:\n",
        "        return sum_of_fibonacci(0) == fibonacci(2) - 1 == 0\n",
        "\n",
        "    # Inductive step\n",
        "    for i in range(n):\n",
        "        if sum_of_fibonacci(i) != fibonacci(i + 2) - 1:\n",
        "            return False\n",
        "    return True\n",
        "\n",
        "# Prove the property for the first 10 Fibonacci numbers\n",
        "print(\"Property holds for the sum of the first 10 Fibonacci numbers:\", prove_sum_of_fibonacci_property(10))\n",
        "\n"
      ],
      "metadata": {
        "colab": {
          "base_uri": "https://localhost:8080/"
        },
        "id": "88lBiX704wjO",
        "outputId": "0aa8ff42-730b-421b-c244-abb763f0dc70"
      },
      "execution_count": 13,
      "outputs": [
        {
          "output_type": "stream",
          "name": "stdout",
          "text": [
            "F(0) = 0\n",
            "F(1) = 1\n",
            "F(2) = 1\n",
            "F(3) = 2\n",
            "F(4) = 3\n",
            "F(5) = 5\n",
            "F(6) = 8\n",
            "F(7) = 13\n",
            "F(8) = 21\n",
            "F(9) = 34\n",
            "Property holds for the sum of the first 10 Fibonacci numbers: True\n"
          ]
        }
      ]
    },
    {
      "cell_type": "markdown",
      "source": [
        "#Well-Ordered Sets:"
      ],
      "metadata": {
        "id": "qi0WUiFD6JDW"
      }
    },
    {
      "cell_type": "markdown",
      "source": [
        "A well-ordered set is a partially ordered set in which every non-empty subset has a least element. Well-ordering is a fundamental concept in set theory and plays a crucial role in many areas of mathematics, particularly in proof by mathematical induction."
      ],
      "metadata": {
        "id": "96YcC5St6HW2"
      }
    },
    {
      "cell_type": "code",
      "source": [
        "def is_well_ordered(A):\n",
        "    \"\"\"\n",
        "    Check if the given set A is well-ordered.\n",
        "\n",
        "    Args:\n",
        "    - A: A set (list) of elements.\n",
        "\n",
        "    Returns:\n",
        "    - True if A is well-ordered, False otherwise.\n",
        "    \"\"\"\n",
        "    if not A:  # Check if A is empty\n",
        "        return False\n",
        "\n",
        "    # Find the minimum element in A\n",
        "    min_element = min(A)\n",
        "\n",
        "    # Check if min_element is the least element in A\n",
        "    for element in A:\n",
        "        if element < min_element:\n",
        "            return False\n",
        "\n",
        "    return True\n",
        "\n",
        "# Example: Show that the set of natural numbers is well-ordered\n",
        "natural_numbers = [0, 1, 2, 3, 4, 5, 6, 7, 8, 9, 10]  # Consider only a finite subset for demonstration\n",
        "print(\"Is the set of natural numbers well-ordered?\", is_well_ordered(natural_numbers))\n"
      ],
      "metadata": {
        "colab": {
          "base_uri": "https://localhost:8080/"
        },
        "id": "s57PIX726TgG",
        "outputId": "e46e1fdb-f543-4528-e0ec-7ea1352b9026"
      },
      "execution_count": 14,
      "outputs": [
        {
          "output_type": "stream",
          "name": "stdout",
          "text": [
            "Is the set of natural numbers well-ordered? True\n"
          ]
        }
      ]
    }
  ]
}