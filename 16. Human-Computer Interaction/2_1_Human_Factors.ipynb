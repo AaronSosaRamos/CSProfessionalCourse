{
  "nbformat": 4,
  "nbformat_minor": 0,
  "metadata": {
    "colab": {
      "provenance": []
    },
    "kernelspec": {
      "name": "python3",
      "display_name": "Python 3"
    },
    "language_info": {
      "name": "python"
    }
  },
  "cells": [
    {
      "cell_type": "markdown",
      "source": [
        "#Human Factors"
      ],
      "metadata": {
        "id": "euMkmAfPJCX-"
      }
    },
    {
      "cell_type": "markdown",
      "source": [
        "#Cognitive Models Informing Interaction Design"
      ],
      "metadata": {
        "id": "8CXtZl7rJDte"
      }
    },
    {
      "cell_type": "markdown",
      "source": [
        "This involves using cognitive models to inform how user interactions are designed. For example, considering aspects like attention, perception, recognition, movement, memory, and user expectations.\n",
        "\n"
      ],
      "metadata": {
        "id": "IpY1OQNhJG_O"
      }
    },
    {
      "cell_type": "code",
      "execution_count": null,
      "metadata": {
        "colab": {
          "base_uri": "https://localhost:8080/"
        },
        "id": "-O1tfvwPI8BA",
        "outputId": "5a72d1b7-b20f-4437-90da-e5eb5b52e488"
      },
      "outputs": [
        {
          "output_type": "stream",
          "name": "stdout",
          "text": [
            "Interactive design optimized for user's attention and movement\n"
          ]
        }
      ],
      "source": [
        "# Using cognitive models for interaction design\n",
        "class UserInteraction:\n",
        "    def __init__(self, attention, perception, movement, memory):\n",
        "        self.attention = attention\n",
        "        self.perception = perception\n",
        "        self.movement = movement\n",
        "        self.memory = memory\n",
        "\n",
        "    def design_interaction(self):\n",
        "        # Example: Design based on attention and movement\n",
        "        if self.attention > 0.5 and self.movement == 'smooth':\n",
        "            return \"Interactive design optimized for user's attention and movement\"\n",
        "        else:\n",
        "            return \"Standard interaction design\"\n",
        "\n",
        "# Example usage\n",
        "user = UserInteraction(0.7, 'sharp', 'smooth', 'short')\n",
        "interaction_design = user.design_interaction()\n",
        "print(interaction_design)"
      ]
    },
    {
      "cell_type": "markdown",
      "source": [
        "#Physical Capabilities Informing Interaction Design"
      ],
      "metadata": {
        "id": "ct36fVJaJvWe"
      }
    },
    {
      "cell_type": "markdown",
      "source": [
        "This focuses on designing interactions based on physical capabilities such as color perception and ergonomics.\n",
        "\n"
      ],
      "metadata": {
        "id": "rxOAmZT6Jw62"
      }
    },
    {
      "cell_type": "code",
      "source": [
        "# Designing interaction based on physical capabilities\n",
        "class PhysicalInteraction:\n",
        "    def __init__(self, color_perception, ergonomics):\n",
        "        self.color_perception = color_perception\n",
        "        self.ergonomics = ergonomics\n",
        "\n",
        "    def design_interaction(self):\n",
        "        # Example: Designing based on color perception\n",
        "        if self.color_perception == 'good':\n",
        "            return \"Colorful and visually appealing design\"\n",
        "        else:\n",
        "            return \"Design considering other aspects of interaction\"\n",
        "\n",
        "# Example usage\n",
        "interaction = PhysicalInteraction('good', 'comfortable')\n",
        "interaction_design = interaction.design_interaction()\n",
        "print(interaction_design)"
      ],
      "metadata": {
        "colab": {
          "base_uri": "https://localhost:8080/"
        },
        "id": "w0rxBdf8JxNW",
        "outputId": "a182fa74-2733-4bce-e9e3-41c7382046f1"
      },
      "execution_count": null,
      "outputs": [
        {
          "output_type": "stream",
          "name": "stdout",
          "text": [
            "Colorful and visually appealing design\n"
          ]
        }
      ]
    },
    {
      "cell_type": "markdown",
      "source": [
        "#Accessibility for Different Abilities"
      ],
      "metadata": {
        "id": "O2J1VuKmJ2c2"
      }
    },
    {
      "cell_type": "markdown",
      "source": [
        "This involves creating interfaces that are accessible to populations with diverse abilities, such as the visually impaired or physically disabled.\n",
        "\n"
      ],
      "metadata": {
        "id": "-CixKtGyJ4Wu"
      }
    },
    {
      "cell_type": "code",
      "source": [
        "# Designing accessible interfaces\n",
        "class AccessibleInterface:\n",
        "    def __init__(self, user_type):\n",
        "        self.user_type = user_type\n",
        "\n",
        "    def is_accessible(self):\n",
        "        # Example: Checking accessibility based on user type\n",
        "        if self.user_type in ['blind', 'disabled']:\n",
        "            return False\n",
        "        else:\n",
        "            return True\n",
        "\n",
        "# Example usage\n",
        "user_interface = AccessibleInterface('blind')\n",
        "accessible = user_interface.is_accessible()\n",
        "print(\"Is the interface accessible?\", accessible)"
      ],
      "metadata": {
        "colab": {
          "base_uri": "https://localhost:8080/"
        },
        "id": "G71hWd_QJ4qe",
        "outputId": "15771428-684f-4084-ee0f-d69ddbdbfc64"
      },
      "execution_count": null,
      "outputs": [
        {
          "output_type": "stream",
          "name": "stdout",
          "text": [
            "Is the interface accessible? False\n"
          ]
        }
      ]
    },
    {
      "cell_type": "markdown",
      "source": [
        "#Interfaces for Different Age Groups"
      ],
      "metadata": {
        "id": "nY-l1KlLKUtd"
      }
    },
    {
      "cell_type": "markdown",
      "source": [
        "This entails designing interfaces that cater to different age groups, such as children or the elderly."
      ],
      "metadata": {
        "id": "xanI3o19KV1V"
      }
    },
    {
      "cell_type": "code",
      "source": [
        "# Designing interfaces for different age groups\n",
        "class AgeGroupInterface:\n",
        "    def __init__(self, age):\n",
        "        self.age = age\n",
        "\n",
        "    def design_for_age(self):\n",
        "        # Example: Designing based on age group\n",
        "        if self.age < 12:\n",
        "            return \"Child-friendly interface\"\n",
        "        elif self.age >= 80:\n",
        "            return \"Senior-friendly interface\"\n",
        "        else:\n",
        "            return \"Standard interface\"\n",
        "\n",
        "# Example usage\n",
        "user_interface = AgeGroupInterface(75)\n",
        "designed_for_age = user_interface.design_for_age()\n",
        "print(\"Designed interface:\", designed_for_age)"
      ],
      "metadata": {
        "colab": {
          "base_uri": "https://localhost:8080/"
        },
        "id": "fFIk44I-KWlN",
        "outputId": "b8e7e526-310f-4c60-ce1f-6fc2de71d4e3"
      },
      "execution_count": null,
      "outputs": [
        {
          "output_type": "stream",
          "name": "stdout",
          "text": [
            "Designed interface: Standard interface\n"
          ]
        }
      ]
    }
  ]
}