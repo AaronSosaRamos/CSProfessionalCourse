{
  "nbformat": 4,
  "nbformat_minor": 0,
  "metadata": {
    "colab": {
      "provenance": []
    },
    "kernelspec": {
      "name": "python3",
      "display_name": "Python 3"
    },
    "language_info": {
      "name": "python"
    }
  },
  "cells": [
    {
      "cell_type": "markdown",
      "source": [
        "#Introduction to Databases and DBMS"
      ],
      "metadata": {
        "id": "enzGTguNSKVS"
      }
    },
    {
      "cell_type": "markdown",
      "source": [
        "Databases play a fundamental role in modern information systems, serving as organized repositories for storing and managing structured data. The evolution of database systems has been marked by significant advancements driven by the growing complexity and diversity of data management needs.\n",
        "\n"
      ],
      "metadata": {
        "id": "jsBHwKRgSLAI"
      }
    },
    {
      "cell_type": "markdown",
      "source": [
        "#Approach and Evolution of Database Systems"
      ],
      "metadata": {
        "id": "u0cFFK1oSMGA"
      }
    },
    {
      "cell_type": "markdown",
      "source": [
        "The evolution of database systems reflects a progression from simple file-based data management to sophisticated relational and non-relational database models. Initially, systems relied on hierarchical and network models, which organized data in tree-like structures or graphs. However, these models lacked flexibility and scalability.\n",
        "\n",
        "The relational model, introduced by Edgar Codd in the 1970s, revolutionized database management by organizing data into tables with rows and columns. This model, implemented in relational database management systems (RDBMS) like IBM's DB2, Oracle, and later MySQL and PostgreSQL, offered powerful querying capabilities using Structured Query Language (SQL).\n",
        "\n",
        "In recent years, the emergence of NoSQL databases has addressed the need for handling unstructured and semi-structured data at scale. NoSQL databases, including document-oriented, key-value, columnar, and graph databases, provide flexible data models suitable for diverse use cases such as web applications, big data analytics, and real-time processing."
      ],
      "metadata": {
        "id": "yeyIoyFfSUMY"
      }
    },
    {
      "cell_type": "markdown",
      "source": [
        "#Components of the Database System"
      ],
      "metadata": {
        "id": "DCdv2rY1So1_"
      }
    },
    {
      "cell_type": "markdown",
      "source": [
        "A typical database system comprises several interconnected components that work together to facilitate data storage, retrieval, and management. These components include:\n",
        "\n",
        "* Data: The actual information stored in the database, organized according to the chosen data model.\n",
        "* Database Management System (DBMS): Software that provides an interface for interacting with the database, including functionalities for data definition, manipulation, querying, and security.\n",
        "* Application Programs: Software applications that access the database to perform specific tasks or operations.\n",
        "* Users: Individuals or entities who interact with the database system, including administrators, developers, and end-users.\n",
        "* Hardware and Software Infrastructure: The physical and virtual resources, including servers, networks, and operating systems, that support the database system's operations."
      ],
      "metadata": {
        "id": "1wuqHc9zSpm7"
      }
    },
    {
      "cell_type": "markdown",
      "source": [
        "#Design of the Main Functions of a DBMS\n",
        "A well-designed DBMS incorporates several essential functions to ensure efficient and reliable data management. These functions include:\n",
        "\n",
        "* Data Definition: Defining the structure of the database schema, including tables, columns, data types, constraints, and relationships.\n",
        "* Data Manipulation: Performing operations to add, modify, or delete data records within the database.\n",
        "* Query Processing and Optimization: Translating user queries into executable commands, optimizing query execution plans for performance, and retrieving requested data efficiently.\n",
        "* Transaction Management: Ensuring data consistency and integrity by managing transactions, which are sequences of database operations treated as a single unit of work.\n",
        "* Concurrency Control: Preventing data inconsistencies that may arise from concurrent access by multiple users or applications, typically through techniques like locking and timestamping.\n",
        "* Data Security: Implementing mechanisms to control access to sensitive data, including authentication, authorization, encryption, and auditing."
      ],
      "metadata": {
        "id": "UFAhfC73S6BQ"
      }
    },
    {
      "cell_type": "code",
      "execution_count": null,
      "metadata": {
        "colab": {
          "base_uri": "https://localhost:8080/"
        },
        "id": "xBLU8ATuQllU",
        "outputId": "5d36d83a-8843-42de-d7ef-071b2d0c1138"
      },
      "outputs": [
        {
          "output_type": "stream",
          "name": "stdout",
          "text": [
            "[(1, 'John Doe', 'Manager', 50000.0), (2, 'Jane Smith', 'Developer', 60000.0), (3, 'Alice Johnson', 'Analyst', 55000.0)]\n"
          ]
        }
      ],
      "source": [
        "# Import SQLite library\n",
        "import sqlite3\n",
        "\n",
        "# Connect to an in-memory database (for demonstration in Google Colab)\n",
        "conn = sqlite3.connect(':memory:')\n",
        "\n",
        "# Create a cursor object to execute SQL commands\n",
        "cursor = conn.cursor()\n",
        "\n",
        "# Create a table for employees\n",
        "cursor.execute('''CREATE TABLE IF NOT EXISTS employees\n",
        "                  (id INTEGER PRIMARY KEY, name TEXT, position TEXT, salary REAL)''')\n",
        "\n",
        "# Insert some sample data\n",
        "cursor.execute(\"INSERT INTO employees (name, position, salary) VALUES ('John Doe', 'Manager', 50000.00)\")\n",
        "cursor.execute(\"INSERT INTO employees (name, position, salary) VALUES ('Jane Smith', 'Developer', 60000.00)\")\n",
        "cursor.execute(\"INSERT INTO employees (name, position, salary) VALUES ('Alice Johnson', 'Analyst', 55000.00)\")\n",
        "\n",
        "# Commit the transaction\n",
        "conn.commit()\n",
        "\n",
        "# Retrieve and print all employees\n",
        "cursor.execute(\"SELECT * FROM employees\")\n",
        "print(cursor.fetchall())\n",
        "\n",
        "# Close the cursor and connection\n",
        "cursor.close()\n",
        "conn.close()"
      ]
    }
  ]
}