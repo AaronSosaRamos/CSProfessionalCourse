{
  "nbformat": 4,
  "nbformat_minor": 0,
  "metadata": {
    "colab": {
      "provenance": []
    },
    "kernelspec": {
      "name": "python3",
      "display_name": "Python 3"
    },
    "language_info": {
      "name": "python"
    }
  },
  "cells": [
    {
      "cell_type": "markdown",
      "source": [
        "#Entity-Relationship Diagram (ERD) Model"
      ],
      "metadata": {
        "id": "ya-sHqGiUQuv"
      }
    },
    {
      "cell_type": "markdown",
      "source": [
        "The Entity-Relationship Diagram (ERD) model is a graphical representation used to design and visualize database schemas. It consists of entities, attributes, relationships, and constraints."
      ],
      "metadata": {
        "id": "pa94MdIFUVZG"
      }
    },
    {
      "cell_type": "markdown",
      "source": [
        "#Definition of the Entity-Relationship Diagram\n",
        "In the ERD model, entities represent real-world objects or concepts, attributes describe properties of entities, and relationships depict associations between entities. The ERD provides a clear and concise overview of the database structure, facilitating communication between stakeholders during the design phase."
      ],
      "metadata": {
        "id": "M_U8zAkWUaq2"
      }
    },
    {
      "cell_type": "markdown",
      "source": [
        "#Constraints - Multiplicity"
      ],
      "metadata": {
        "id": "bU_nEH8tUmiL"
      }
    },
    {
      "cell_type": "markdown",
      "source": [
        "Multiplicity constraints specify the cardinality of relationships between entities. They define the minimum and maximum number of instances that can participate in a relationship. Common multiplicities include one-to-one, one-to-many, and many-to-many relationships, each representing different types of associations between entities."
      ],
      "metadata": {
        "id": "Wj5A0uGSUnN7"
      }
    },
    {
      "cell_type": "markdown",
      "source": [
        "#Constraints - Participation\n",
        "Participation constraints determine whether an entity's participation in a relationship is mandatory (total participation) or optional (partial participation). Total participation indicates that every entity instance in the entity set must participate in the relationship, while partial participation allows some entities to be independent of the relationship."
      ],
      "metadata": {
        "id": "zjOGFFh7UshM"
      }
    },
    {
      "cell_type": "code",
      "execution_count": null,
      "metadata": {
        "colab": {
          "base_uri": "https://localhost:8080/"
        },
        "id": "oG8N-Hb4T7Fx",
        "outputId": "5849b113-290e-4d87-b2d1-2fd90dcf9646"
      },
      "outputs": [
        {
          "output_type": "stream",
          "name": "stdout",
          "text": [
            "Students:\n",
            "[(1, 'John Doe', 'john@example.com'), (2, 'Alice Smith', 'alice@example.com')]\n",
            "\n",
            "Courses:\n",
            "[(1, 'Database Systems', 1), (2, 'Linear Algebra', 2)]\n",
            "\n",
            "Instructors:\n",
            "[(1, 'Professor Smith', 'Computer Science'), (2, 'Professor Johnson', 'Mathematics')]\n"
          ]
        }
      ],
      "source": [
        "# Import SQLite library\n",
        "import sqlite3\n",
        "\n",
        "# Connect to an in-memory database\n",
        "conn = sqlite3.connect(':memory:')\n",
        "\n",
        "# Create a cursor object to execute SQL commands\n",
        "cursor = conn.cursor()\n",
        "\n",
        "# Create tables for students, courses, and instructors\n",
        "cursor.execute('''CREATE TABLE IF NOT EXISTS students\n",
        "                  (student_id INTEGER PRIMARY KEY, name TEXT, email TEXT)''')\n",
        "\n",
        "cursor.execute('''CREATE TABLE IF NOT EXISTS courses\n",
        "                  (course_id INTEGER PRIMARY KEY, title TEXT, instructor_id INTEGER)''')\n",
        "\n",
        "cursor.execute('''CREATE TABLE IF NOT EXISTS instructors\n",
        "                  (instructor_id INTEGER PRIMARY KEY, name TEXT, department TEXT)''')\n",
        "\n",
        "# Create a table to represent the enrollment relationship between students and courses\n",
        "cursor.execute('''CREATE TABLE IF NOT EXISTS enrollment\n",
        "                  (student_id INTEGER, course_id INTEGER,\n",
        "                  FOREIGN KEY(student_id) REFERENCES students(student_id),\n",
        "                  FOREIGN KEY(course_id) REFERENCES courses(course_id),\n",
        "                  PRIMARY KEY (student_id, course_id))''')\n",
        "\n",
        "# Insert sample data into students, courses, and instructors tables\n",
        "cursor.execute(\"INSERT INTO students (name, email) VALUES ('John Doe', 'john@example.com')\")\n",
        "cursor.execute(\"INSERT INTO students (name, email) VALUES ('Alice Smith', 'alice@example.com')\")\n",
        "\n",
        "cursor.execute(\"INSERT INTO instructors (name, department) VALUES ('Professor Smith', 'Computer Science')\")\n",
        "cursor.execute(\"INSERT INTO instructors (name, department) VALUES ('Professor Johnson', 'Mathematics')\")\n",
        "\n",
        "cursor.execute(\"INSERT INTO courses (title, instructor_id) VALUES ('Database Systems', 1)\")\n",
        "cursor.execute(\"INSERT INTO courses (title, instructor_id) VALUES ('Linear Algebra', 2)\")\n",
        "\n",
        "# Enroll students in courses\n",
        "cursor.execute(\"INSERT INTO enrollment (student_id, course_id) VALUES (1, 1)\")  # John Doe in Database Systems\n",
        "cursor.execute(\"INSERT INTO enrollment (student_id, course_id) VALUES (2, 2)\")  # Alice Smith in Linear Algebra\n",
        "\n",
        "# Commit the transaction\n",
        "conn.commit()\n",
        "\n",
        "# Retrieve and print all students, courses, and instructors\n",
        "cursor.execute(\"SELECT * FROM students\")\n",
        "print(\"Students:\")\n",
        "print(cursor.fetchall())\n",
        "\n",
        "cursor.execute(\"SELECT * FROM courses\")\n",
        "print(\"\\nCourses:\")\n",
        "print(cursor.fetchall())\n",
        "\n",
        "cursor.execute(\"SELECT * FROM instructors\")\n",
        "print(\"\\nInstructors:\")\n",
        "print(cursor.fetchall())\n",
        "\n",
        "# Close the cursor and connection\n",
        "cursor.close()\n",
        "conn.close()"
      ]
    },
    {
      "cell_type": "code",
      "source": [
        "# Install the required libraries\n",
        "!pip install graphviz\n",
        "\n",
        "# Import necessary libraries\n",
        "from graphviz import Digraph\n",
        "\n",
        "# Create a new graph\n",
        "graph = Digraph()\n",
        "\n",
        "# Define nodes for students, courses, and instructors\n",
        "graph.node('students', label='Students')\n",
        "graph.node('courses', label='Courses')\n",
        "graph.node('instructors', label='Instructors')\n",
        "\n",
        "# Define relationships between entities\n",
        "graph.edge('students', 'courses', label='Enrollment')\n",
        "graph.edge('courses', 'instructors', label='Taught by')\n",
        "\n",
        "# Render and display the graph\n",
        "graph.render('university_erd', format='png', cleanup=True)\n",
        "graph"
      ],
      "metadata": {
        "colab": {
          "base_uri": "https://localhost:8080/",
          "height": 330
        },
        "id": "EneIviugVSVQ",
        "outputId": "25171f47-be38-4a97-b0f2-225f8835352e"
      },
      "execution_count": null,
      "outputs": [
        {
          "output_type": "stream",
          "name": "stdout",
          "text": [
            "Requirement already satisfied: graphviz in /usr/local/lib/python3.10/dist-packages (0.20.3)\n"
          ]
        },
        {
          "output_type": "execute_result",
          "data": {
            "image/svg+xml": "<?xml version=\"1.0\" encoding=\"UTF-8\" standalone=\"no\"?>\n<!DOCTYPE svg PUBLIC \"-//W3C//DTD SVG 1.1//EN\"\n \"http://www.w3.org/Graphics/SVG/1.1/DTD/svg11.dtd\">\n<!-- Generated by graphviz version 2.43.0 (0)\n -->\n<!-- Title: %3 Pages: 1 -->\n<svg width=\"118pt\" height=\"218pt\"\n viewBox=\"0.00 0.00 118.10 218.00\" xmlns=\"http://www.w3.org/2000/svg\" xmlns:xlink=\"http://www.w3.org/1999/xlink\">\n<g id=\"graph0\" class=\"graph\" transform=\"scale(1 1) rotate(0) translate(4 214)\">\n<title>%3</title>\n<polygon fill=\"white\" stroke=\"transparent\" points=\"-4,4 -4,-214 114.1,-214 114.1,4 -4,4\"/>\n<!-- students -->\n<g id=\"node1\" class=\"node\">\n<title>students</title>\n<ellipse fill=\"none\" stroke=\"black\" cx=\"48.1\" cy=\"-192\" rx=\"40.89\" ry=\"18\"/>\n<text text-anchor=\"middle\" x=\"48.1\" y=\"-188.3\" font-family=\"Times,serif\" font-size=\"14.00\">Students</text>\n</g>\n<!-- courses -->\n<g id=\"node2\" class=\"node\">\n<title>courses</title>\n<ellipse fill=\"none\" stroke=\"black\" cx=\"48.1\" cy=\"-105\" rx=\"38.99\" ry=\"18\"/>\n<text text-anchor=\"middle\" x=\"48.1\" y=\"-101.3\" font-family=\"Times,serif\" font-size=\"14.00\">Courses</text>\n</g>\n<!-- students&#45;&gt;courses -->\n<g id=\"edge1\" class=\"edge\">\n<title>students&#45;&gt;courses</title>\n<path fill=\"none\" stroke=\"black\" d=\"M48.1,-173.8C48.1,-162.16 48.1,-146.55 48.1,-133.24\"/>\n<polygon fill=\"black\" stroke=\"black\" points=\"51.6,-133.18 48.1,-123.18 44.6,-133.18 51.6,-133.18\"/>\n<text text-anchor=\"middle\" x=\"79.1\" y=\"-144.8\" font-family=\"Times,serif\" font-size=\"14.00\">Enrollment</text>\n</g>\n<!-- instructors -->\n<g id=\"node3\" class=\"node\">\n<title>instructors</title>\n<ellipse fill=\"none\" stroke=\"black\" cx=\"48.1\" cy=\"-18\" rx=\"48.19\" ry=\"18\"/>\n<text text-anchor=\"middle\" x=\"48.1\" y=\"-14.3\" font-family=\"Times,serif\" font-size=\"14.00\">Instructors</text>\n</g>\n<!-- courses&#45;&gt;instructors -->\n<g id=\"edge2\" class=\"edge\">\n<title>courses&#45;&gt;instructors</title>\n<path fill=\"none\" stroke=\"black\" d=\"M48.1,-86.8C48.1,-75.16 48.1,-59.55 48.1,-46.24\"/>\n<polygon fill=\"black\" stroke=\"black\" points=\"51.6,-46.18 48.1,-36.18 44.6,-46.18 51.6,-46.18\"/>\n<text text-anchor=\"middle\" x=\"75.6\" y=\"-57.8\" font-family=\"Times,serif\" font-size=\"14.00\">Taught by</text>\n</g>\n</g>\n</svg>\n",
            "text/plain": [
              "<graphviz.graphs.Digraph at 0x7dff0e096260>"
            ]
          },
          "metadata": {},
          "execution_count": 2
        }
      ]
    }
  ]
}