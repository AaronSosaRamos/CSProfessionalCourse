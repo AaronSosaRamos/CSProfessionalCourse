{
  "nbformat": 4,
  "nbformat_minor": 0,
  "metadata": {
    "colab": {
      "provenance": []
    },
    "kernelspec": {
      "name": "python3",
      "display_name": "Python 3"
    },
    "language_info": {
      "name": "python"
    }
  },
  "cells": [
    {
      "cell_type": "markdown",
      "source": [
        "# Definition of the Relational Model: Transformation from Entity Diagram"
      ],
      "metadata": {
        "id": "gGwzU0ZhoRR0"
      }
    },
    {
      "cell_type": "markdown",
      "source": [
        "The relational model defines how data is organized and manipulated in a relational database management system (RDBMS). It represents data as tables (or relations) consisting of rows and columns. The transformation from an Entity-Relationship Diagram (ERD) to a relational model involves converting entities and their attributes into tables and columns, respectively. Each entity in the ERD becomes a table in the relational model, and each attribute of the entity corresponds to a column in the table. This transformation simplifies data representation and enables efficient storage and retrieval.\n",
        "\n"
      ],
      "metadata": {
        "id": "zBRCQY_voT3a"
      }
    },
    {
      "cell_type": "code",
      "execution_count": null,
      "metadata": {
        "colab": {
          "base_uri": "https://localhost:8080/"
        },
        "id": "HetnLf6ooGBW",
        "outputId": "2e730420-3379-4f65-93e0-776c39f4f43e"
      },
      "outputs": [
        {
          "output_type": "stream",
          "name": "stdout",
          "text": [
            "Relational Model:\n",
            "Table: Student\n",
            "- ID: INTEGER\n",
            "- Name: TEXT\n",
            "- Age: INTEGER\n",
            "Table: Course\n",
            "- ID: INTEGER\n",
            "- Title: TEXT\n",
            "- Credits: INTEGER\n"
          ]
        }
      ],
      "source": [
        "class Entity:\n",
        "    def __init__(self, name, attributes):\n",
        "        self.name = name\n",
        "        self.attributes = attributes\n",
        "\n",
        "class Attribute:\n",
        "    def __init__(self, name, data_type):\n",
        "        self.name = name\n",
        "        self.data_type = data_type\n",
        "\n",
        "def transform_to_relational_model(entities):\n",
        "    relational_model = {}\n",
        "    for entity in entities:\n",
        "        table_name = entity.name\n",
        "        attributes = entity.attributes\n",
        "        relational_model[table_name] = attributes\n",
        "    return relational_model\n",
        "\n",
        "# Define entities and their attributes\n",
        "entities = [\n",
        "    Entity(\"Student\", [Attribute(\"ID\", \"INTEGER\"), Attribute(\"Name\", \"TEXT\"), Attribute(\"Age\", \"INTEGER\")]),\n",
        "    Entity(\"Course\", [Attribute(\"ID\", \"INTEGER\"), Attribute(\"Title\", \"TEXT\"), Attribute(\"Credits\", \"INTEGER\")]),\n",
        "    # Additional entities can be added here\n",
        "]\n",
        "\n",
        "# Transform ERD to relational model\n",
        "relational_model = transform_to_relational_model(entities)\n",
        "print(\"Relational Model:\")\n",
        "for table_name, attributes in relational_model.items():\n",
        "    print(f\"Table: {table_name}\")\n",
        "    for attribute in attributes:\n",
        "        print(f\"- {attribute.name}: {attribute.data_type}\")"
      ]
    },
    {
      "cell_type": "markdown",
      "source": [
        "# Relationship to the Relational Model"
      ],
      "metadata": {
        "id": "BqLoLX4noeoy"
      }
    },
    {
      "cell_type": "markdown",
      "source": [
        "This part involves establishing the relationship between the conceptual relational model obtained from the ERD and the physical implementation in a database management system. SQLite, a lightweight SQL database engine, is chosen for its simplicity and compatibility with Google Colab environments. The process begins by creating tables based on the relational model using SQL commands. Each table corresponds to an entity in the relational model, with columns representing attributes. Once the tables are created, relationships between them can be established through primary and foreign key constraints, enabling the modeling of complex database structures. Finally, the database is ready for data insertion, querying, and manipulation, providing a practical implementation of the conceptual relational model.\n",
        "\n",
        "\n",
        "\n",
        "\n"
      ],
      "metadata": {
        "id": "1jp24fmJofFq"
      }
    },
    {
      "cell_type": "code",
      "source": [
        "import sqlite3\n",
        "\n",
        "class Attribute:\n",
        "    def __init__(self, name, data_type):\n",
        "        self.name = name\n",
        "        self.data_type = data_type\n",
        "\n",
        "class Entity:\n",
        "    def __init__(self, name, attributes):\n",
        "        self.name = name\n",
        "        self.attributes = attributes\n",
        "\n",
        "def create_tables(cursor, relational_model):\n",
        "    for table_name, attributes in relational_model.items():\n",
        "        columns = ', '.join([f'{attr.name} {attr.data_type}' for attr in attributes])\n",
        "        cursor.execute(f'CREATE TABLE {table_name} ({columns})')\n",
        "\n",
        "def establish_relationships(cursor, relationships):\n",
        "    for relationship in relationships:\n",
        "        cursor.execute(relationship)\n",
        "\n",
        "def populate_data(cursor):\n",
        "    # Sample data insertion\n",
        "    cursor.execute(\"INSERT INTO Student (ID, Name, Age) VALUES (1, 'John Doe', 20)\")\n",
        "    cursor.execute(\"INSERT INTO Student (ID, Name, Age) VALUES (2, 'Jane Smith', 22)\")\n",
        "    cursor.execute(\"INSERT INTO Course (ID, Title, Credits) VALUES (101, 'Introduction to Computer Science', 3)\")\n",
        "    cursor.execute(\"INSERT INTO Course (ID, Title, Credits) VALUES (102, 'Data Structures', 4)\")\n",
        "\n",
        "def main():\n",
        "    # Define the relational model obtained from ERD transformation\n",
        "    relational_model = {\n",
        "        'Student': [Attribute('ID', 'INTEGER'), Attribute('Name', 'TEXT'), Attribute('Age', 'INTEGER')],\n",
        "        'Course': [Attribute('ID', 'INTEGER'), Attribute('Title', 'TEXT'), Attribute('Credits', 'INTEGER')],\n",
        "        'Enrollment': [Attribute('student_id', 'INTEGER'), Attribute('course_id', 'INTEGER')],\n",
        "        'Professor': [Attribute('ID', 'INTEGER'), Attribute('Name', 'TEXT'), Attribute('Department', 'TEXT')],\n",
        "        # Additional tables and their attributes can be added here\n",
        "    }\n",
        "\n",
        "    # Define relationships between tables\n",
        "    relationships = [\n",
        "        'CREATE TABLE IF NOT EXISTS Enrollment (student_id INTEGER, course_id INTEGER, FOREIGN KEY(student_id) REFERENCES Student(ID), FOREIGN KEY(course_id) REFERENCES Course(ID))',\n",
        "        # Additional relationships can be added here\n",
        "    ]\n",
        "\n",
        "    # Connect to in-memory SQLite database\n",
        "    conn = sqlite3.connect(':memory:')\n",
        "    cursor = conn.cursor()\n",
        "\n",
        "    # Create tables based on the relational model\n",
        "    create_tables(cursor, relational_model)\n",
        "\n",
        "    # Establish relationships between tables\n",
        "    establish_relationships(cursor, relationships)\n",
        "\n",
        "    # Populate sample data\n",
        "    populate_data(cursor)\n",
        "\n",
        "    # Commit changes\n",
        "    conn.commit()\n",
        "\n",
        "    # Print data from tables (optional)\n",
        "    print(\"Sample Data from Tables:\")\n",
        "    cursor.execute(\"SELECT * FROM Student\")\n",
        "    print(\"Student Table:\")\n",
        "    print(cursor.fetchall())\n",
        "    cursor.execute(\"SELECT * FROM Course\")\n",
        "    print(\"Course Table:\")\n",
        "    print(cursor.fetchall())\n",
        "    cursor.execute(\"SELECT * FROM Enrollment\")\n",
        "    print(\"Enrollment Table:\")\n",
        "    print(cursor.fetchall())\n",
        "\n",
        "    # Close connection\n",
        "    conn.close()\n",
        "\n",
        "if __name__ == '__main__':\n",
        "    main()"
      ],
      "metadata": {
        "colab": {
          "base_uri": "https://localhost:8080/"
        },
        "id": "NYzEDZ_hogoi",
        "outputId": "700d7899-da37-4a18-b924-4575c82d0a60"
      },
      "execution_count": null,
      "outputs": [
        {
          "output_type": "stream",
          "name": "stdout",
          "text": [
            "Sample Data from Tables:\n",
            "Student Table:\n",
            "[(1, 'John Doe', 20), (2, 'Jane Smith', 22)]\n",
            "Course Table:\n",
            "[(101, 'Introduction to Computer Science', 3), (102, 'Data Structures', 4)]\n",
            "Enrollment Table:\n",
            "[]\n"
          ]
        }
      ]
    },
    {
      "cell_type": "markdown",
      "source": [
        "#Relational Algebra"
      ],
      "metadata": {
        "id": "euOO9RFJpi6S"
      }
    },
    {
      "cell_type": "markdown",
      "source": [
        "#Classic Relational Algebra"
      ],
      "metadata": {
        "id": "-ItmwPN0p9_y"
      }
    },
    {
      "cell_type": "markdown",
      "source": [
        "Classic relational algebra provides a theoretical foundation for relational databases. In the Python implementation, we utilize SQLite commands to create example tables (Students and Courses). We then perform classic relational algebra operations using SQL SELECT statements with WHERE clauses for selection and specifying column names for projection.\n",
        "\n"
      ],
      "metadata": {
        "id": "qip9vqq0qMnK"
      }
    },
    {
      "cell_type": "code",
      "source": [
        "import sqlite3\n",
        "\n",
        "# Connect to SQLite in-memory database\n",
        "conn = sqlite3.connect(':memory:')\n",
        "cursor = conn.cursor()\n",
        "\n",
        "# Create example tables\n",
        "cursor.execute('''CREATE TABLE Students (\n",
        "                    ID INTEGER PRIMARY KEY,\n",
        "                    Name TEXT,\n",
        "                    Age INTEGER\n",
        "                )''')\n",
        "\n",
        "cursor.execute('''CREATE TABLE Courses (\n",
        "                    ID INTEGER PRIMARY KEY,\n",
        "                    Title TEXT,\n",
        "                    Credits INTEGER\n",
        "                )''')\n",
        "\n",
        "# Populate example tables\n",
        "cursor.execute(\"INSERT INTO Students VALUES (1, 'John Doe', 20)\")\n",
        "cursor.execute(\"INSERT INTO Students VALUES (2, 'Jane Smith', 22)\")\n",
        "\n",
        "cursor.execute(\"INSERT INTO Courses VALUES (101, 'Introduction to Computer Science', 3)\")\n",
        "cursor.execute(\"INSERT INTO Courses VALUES (102, 'Data Structures', 4)\")\n",
        "\n",
        "# Classic relational algebra operations using SQLite commands\n",
        "cursor.execute('''SELECT Name, Age FROM Students WHERE Age > 21''')\n",
        "selected_students = cursor.fetchall()\n",
        "print(\"Selected Students:\", selected_students)\n",
        "\n",
        "cursor.execute('''SELECT ID, Title FROM Courses''')\n",
        "projected_courses = cursor.fetchall()\n",
        "print(\"Projected Courses:\", projected_courses)\n",
        "\n",
        "# Close connection\n",
        "conn.close()"
      ],
      "metadata": {
        "colab": {
          "base_uri": "https://localhost:8080/"
        },
        "id": "bQ2Fn3i4qADy",
        "outputId": "007e6f89-ee93-4645-ecf8-cf7a1d318380"
      },
      "execution_count": null,
      "outputs": [
        {
          "output_type": "stream",
          "name": "stdout",
          "text": [
            "Selected Students: [('Jane Smith', 22)]\n",
            "Projected Courses: [(101, 'Introduction to Computer Science'), (102, 'Data Structures')]\n"
          ]
        }
      ]
    },
    {
      "cell_type": "markdown",
      "source": [
        "#Selections and Projections"
      ],
      "metadata": {
        "id": "Xk_D6pzfqPbD"
      }
    },
    {
      "cell_type": "markdown",
      "source": [
        "Selection and projection are fundamental operations in relational algebra. In the Python implementation, we use SQLite commands to perform these operations. We select rows based on a specified condition using a WHERE clause for selection and specify column names for projection in the SELECT statement."
      ],
      "metadata": {
        "id": "0BuODc87qTSS"
      }
    },
    {
      "cell_type": "code",
      "source": [
        "import sqlite3\n",
        "\n",
        "# Connect to SQLite in-memory database\n",
        "conn = sqlite3.connect(':memory:')\n",
        "cursor = conn.cursor()\n",
        "\n",
        "# Create example table\n",
        "cursor.execute('''CREATE TABLE Students (\n",
        "                    ID INTEGER PRIMARY KEY,\n",
        "                    Name TEXT,\n",
        "                    Age INTEGER\n",
        "                )''')\n",
        "\n",
        "# Populate example table\n",
        "cursor.execute(\"INSERT INTO Students VALUES (1, 'John Doe', 20)\")\n",
        "cursor.execute(\"INSERT INTO Students VALUES (2, 'Jane Smith', 22)\")\n",
        "cursor.execute(\"INSERT INTO Students VALUES (3, 'Alice Johnson', 19)\")\n",
        "\n",
        "# Selection and Projection using SQLite commands\n",
        "cursor.execute('''SELECT * FROM Students WHERE Age > 21''')\n",
        "selected_students = cursor.fetchall()\n",
        "print(\"Selected Students (Age > 21):\", selected_students)\n",
        "\n",
        "cursor.execute('''SELECT ID, Name FROM Students''')\n",
        "projected_students = cursor.fetchall()\n",
        "print(\"Projected Students (ID and Name):\", projected_students)\n",
        "\n",
        "# Close connection\n",
        "conn.close()"
      ],
      "metadata": {
        "colab": {
          "base_uri": "https://localhost:8080/"
        },
        "id": "2GIQjfPuqREq",
        "outputId": "32088e67-ee85-4d4b-d760-e4249db4c260"
      },
      "execution_count": null,
      "outputs": [
        {
          "output_type": "stream",
          "name": "stdout",
          "text": [
            "Selected Students (Age > 21): [(2, 'Jane Smith', 22)]\n",
            "Projected Students (ID and Name): [(1, 'John Doe'), (2, 'Jane Smith'), (3, 'Alice Johnson')]\n"
          ]
        }
      ]
    },
    {
      "cell_type": "markdown",
      "source": [
        "#Main Unary Operators"
      ],
      "metadata": {
        "id": "ZbLeCkNIqWWq"
      }
    },
    {
      "cell_type": "markdown",
      "source": [
        "Unary operators in relational algebra operate on a single relation. In the Python implementation, we use SQLite commands to demonstrate unary operators. We rename a table using the ALTER TABLE statement and create a new table that is the union of an existing table with itself using the UNION operator."
      ],
      "metadata": {
        "id": "ZbXk6jA7qYvq"
      }
    },
    {
      "cell_type": "code",
      "source": [
        "import sqlite3\n",
        "\n",
        "# Connect to SQLite in-memory database\n",
        "conn = sqlite3.connect(':memory:')\n",
        "cursor = conn.cursor()\n",
        "\n",
        "# Create example table\n",
        "cursor.execute('''CREATE TABLE Students (\n",
        "                    ID INTEGER PRIMARY KEY,\n",
        "                    Name TEXT,\n",
        "                    Age INTEGER\n",
        "                )''')\n",
        "\n",
        "# Populate example table\n",
        "cursor.execute(\"INSERT INTO Students VALUES (1, 'John Doe', 20)\")\n",
        "cursor.execute(\"INSERT INTO Students VALUES (2, 'Jane Smith', 22)\")\n",
        "cursor.execute(\"INSERT INTO Students VALUES (3, 'Alice Johnson', 19)\")\n",
        "\n",
        "# Unary operators using SQLite commands\n",
        "cursor.execute('''ALTER TABLE Students RENAME TO NewStudents''')\n",
        "\n",
        "cursor.execute('''CREATE TABLE StudentsCopy AS\n",
        "                    SELECT * FROM NewStudents UNION SELECT * FROM NewStudents''')\n",
        "\n",
        "# Close connection\n",
        "conn.close()"
      ],
      "metadata": {
        "id": "ETeoAWcPqady"
      },
      "execution_count": null,
      "outputs": []
    },
    {
      "cell_type": "markdown",
      "source": [
        "#Aggregation Functions"
      ],
      "metadata": {
        "id": "UNnXut0_qeQK"
      }
    },
    {
      "cell_type": "markdown",
      "source": [
        "Aggregation functions in relational algebra compute summary statistics over groups of tuples in a relation. In the Python implementation, we use SQLite commands to calculate the sum and average of grades from an example table Grades. We use the SUM and AVG aggregate functions in SQL to perform these calculations.\n"
      ],
      "metadata": {
        "id": "1azxZ8DerOPq"
      }
    },
    {
      "cell_type": "code",
      "source": [
        "import sqlite3\n",
        "\n",
        "# Connect to SQLite in-memory database\n",
        "conn = sqlite3.connect(':memory:')\n",
        "cursor = conn.cursor()\n",
        "\n",
        "# Create example table\n",
        "cursor.execute('''CREATE TABLE Grades (\n",
        "                    StudentID INTEGER PRIMARY KEY,\n",
        "                    Grade INTEGER\n",
        "                )''')\n",
        "\n",
        "# Populate example table\n",
        "cursor.execute(\"INSERT INTO Grades VALUES (1, 85)\")\n",
        "cursor.execute(\"INSERT INTO Grades VALUES (2, 90)\")\n",
        "cursor.execute(\"INSERT INTO Grades VALUES (3, 75)\")\n",
        "cursor.execute(\"INSERT INTO Grades VALUES (4, 95)\")\n",
        "\n",
        "# Aggregation functions using SQLite commands\n",
        "cursor.execute('''SELECT SUM(Grade) FROM Grades''')\n",
        "total_grade_sum = cursor.fetchone()[0]\n",
        "print(\"Total Grade Sum:\", total_grade_sum)\n",
        "\n",
        "cursor.execute('''SELECT AVG(Grade) FROM Grades''')\n",
        "average_grade = cursor.fetchone()[0]\n",
        "print(\"Average Grade:\", average_grade)\n",
        "\n",
        "# Close connection\n",
        "conn.close()"
      ],
      "metadata": {
        "colab": {
          "base_uri": "https://localhost:8080/"
        },
        "id": "PjiikOp3qhkC",
        "outputId": "ca9dc0a6-ac07-4792-9321-4cc1f9bb88e5"
      },
      "execution_count": null,
      "outputs": [
        {
          "output_type": "stream",
          "name": "stdout",
          "text": [
            "Total Grade Sum: 345\n",
            "Average Grade: 86.25\n"
          ]
        }
      ]
    },
    {
      "cell_type": "markdown",
      "source": [
        "#More Complex Relational Algebra Operations"
      ],
      "metadata": {
        "id": "obXhM5Qisiji"
      }
    },
    {
      "cell_type": "code",
      "source": [
        "import sqlite3\n",
        "\n",
        "# Connect to SQLite in-memory database\n",
        "conn = sqlite3.connect(':memory:')\n",
        "cursor = conn.cursor()\n",
        "\n",
        "# Create example tables\n",
        "cursor.execute('''CREATE TABLE Students (\n",
        "                    ID INTEGER PRIMARY KEY,\n",
        "                    Name TEXT,\n",
        "                    Age INTEGER\n",
        "                )''')\n",
        "\n",
        "cursor.execute('''CREATE TABLE Courses (\n",
        "                    ID INTEGER PRIMARY KEY,\n",
        "                    Title TEXT,\n",
        "                    Credits INTEGER\n",
        "                )''')\n",
        "\n",
        "cursor.execute('''CREATE TABLE Enrollment (\n",
        "                    StudentID INTEGER,\n",
        "                    CourseID INTEGER,\n",
        "                    Grade INTEGER,\n",
        "                    FOREIGN KEY(StudentID) REFERENCES Students(ID),\n",
        "                    FOREIGN KEY(CourseID) REFERENCES Courses(ID)\n",
        "                )''')\n",
        "\n",
        "# Populate example tables\n",
        "cursor.execute(\"INSERT INTO Students VALUES (1, 'John Doe', 20)\")\n",
        "cursor.execute(\"INSERT INTO Students VALUES (2, 'Jane Smith', 22)\")\n",
        "cursor.execute(\"INSERT INTO Students VALUES (3, 'Alice Johnson', 21)\")\n",
        "cursor.execute(\"INSERT INTO Courses VALUES (101, 'Introduction to Computer Science', 3)\")\n",
        "cursor.execute(\"INSERT INTO Courses VALUES (102, 'Data Structures', 4)\")\n",
        "cursor.execute(\"INSERT INTO Courses VALUES (103, 'Database Systems', 3)\")\n",
        "cursor.execute(\"INSERT INTO Enrollment VALUES (1, 101, 85)\")\n",
        "cursor.execute(\"INSERT INTO Enrollment VALUES (2, 102, 90)\")\n",
        "cursor.execute(\"INSERT INTO Enrollment VALUES (3, 101, 80)\")\n",
        "cursor.execute(\"INSERT INTO Enrollment VALUES (1, 103, 75)\")\n",
        "cursor.execute(\"INSERT INTO Enrollment VALUES (2, 101, 95)\")\n",
        "\n",
        "# Complex relational algebra operations using SQLite commands\n",
        "# Aggregate functions, subqueries, GROUP BY, ORDER BY\n",
        "cursor.execute('''SELECT Students.Name, AVG(Enrollment.Grade) AS AvgGrade\n",
        "                  FROM Students\n",
        "                  INNER JOIN Enrollment ON Students.ID = Enrollment.StudentID\n",
        "                  GROUP BY Students.Name\n",
        "                  ORDER BY AvgGrade DESC''')\n",
        "average_grades = cursor.fetchall()\n",
        "print(\"Average Grades by Student (Ordered by Average Grade):\", average_grades)\n",
        "\n",
        "# Close connection\n",
        "conn.close()"
      ],
      "metadata": {
        "colab": {
          "base_uri": "https://localhost:8080/"
        },
        "id": "uvU-u1FxsjOy",
        "outputId": "a507a143-c5c7-4ea8-fa2e-4357d63dcd93"
      },
      "execution_count": null,
      "outputs": [
        {
          "output_type": "stream",
          "name": "stdout",
          "text": [
            "Average Grades by Student (Ordered by Average Grade): [('Jane Smith', 92.5), ('John Doe', 80.0), ('Alice Johnson', 80.0)]\n"
          ]
        }
      ]
    },
    {
      "cell_type": "code",
      "source": [
        "import sqlite3\n",
        "\n",
        "# Connect to SQLite in-memory database\n",
        "conn = sqlite3.connect(':memory:')\n",
        "cursor = conn.cursor()\n",
        "\n",
        "# Create example tables\n",
        "cursor.execute('''CREATE TABLE Students (\n",
        "                    ID INTEGER PRIMARY KEY,\n",
        "                    Name TEXT,\n",
        "                    Age INTEGER\n",
        "                )''')\n",
        "\n",
        "cursor.execute('''CREATE TABLE Courses (\n",
        "                    ID INTEGER PRIMARY KEY,\n",
        "                    Title TEXT,\n",
        "                    Credits INTEGER\n",
        "                )''')\n",
        "\n",
        "cursor.execute('''CREATE TABLE Enrollment (\n",
        "                    StudentID INTEGER,\n",
        "                    CourseID INTEGER,\n",
        "                    Grade INTEGER,\n",
        "                    FOREIGN KEY(StudentID) REFERENCES Students(ID),\n",
        "                    FOREIGN KEY(CourseID) REFERENCES Courses(ID)\n",
        "                )''')\n",
        "\n",
        "# Populate example tables\n",
        "cursor.execute(\"INSERT INTO Students VALUES (1, 'John Doe', 20)\")\n",
        "cursor.execute(\"INSERT INTO Students VALUES (2, 'Jane Smith', 22)\")\n",
        "cursor.execute(\"INSERT INTO Students VALUES (3, 'Alice Johnson', 21)\")\n",
        "cursor.execute(\"INSERT INTO Courses VALUES (101, 'Introduction to Computer Science', 3)\")\n",
        "cursor.execute(\"INSERT INTO Courses VALUES (102, 'Data Structures', 4)\")\n",
        "cursor.execute(\"INSERT INTO Courses VALUES (103, 'Database Systems', 3)\")\n",
        "cursor.execute(\"INSERT INTO Enrollment VALUES (1, 101, 85)\")\n",
        "cursor.execute(\"INSERT INTO Enrollment VALUES (2, 102, 90)\")\n",
        "cursor.execute(\"INSERT INTO Enrollment VALUES (3, 101, 80)\")\n",
        "cursor.execute(\"INSERT INTO Enrollment VALUES (1, 103, 75)\")\n",
        "cursor.execute(\"INSERT INTO Enrollment VALUES (2, 101, 95)\")\n",
        "\n",
        "# Complex relational algebra operations using SQLite commands\n",
        "# Aggregate functions, JOINS, GROUP BY\n",
        "cursor.execute('''SELECT Students.Name, AVG(Enrollment.Grade) AS AvgGrade\n",
        "                  FROM Students\n",
        "                  INNER JOIN Enrollment ON Students.ID = Enrollment.StudentID\n",
        "                  GROUP BY Students.Name''')\n",
        "average_grades = cursor.fetchall()\n",
        "print(\"Average Grades by Student:\", average_grades)\n",
        "\n",
        "# Close connection\n",
        "conn.close()"
      ],
      "metadata": {
        "colab": {
          "base_uri": "https://localhost:8080/"
        },
        "id": "srHElSUCsx3S",
        "outputId": "e73778b9-4243-4d8d-c37d-b24d60f1bfdc"
      },
      "execution_count": null,
      "outputs": [
        {
          "output_type": "stream",
          "name": "stdout",
          "text": [
            "Average Grades by Student: [('Alice Johnson', 80.0), ('Jane Smith', 92.5), ('John Doe', 80.0)]\n"
          ]
        }
      ]
    },
    {
      "cell_type": "markdown",
      "source": [
        "#Relational Tuple Calculus (RTC)"
      ],
      "metadata": {
        "id": "y35AhwLStWl5"
      }
    },
    {
      "cell_type": "markdown",
      "source": [
        "Relational Tuple Calculus is a non-procedural query language where queries are expressed as formulas describing the desired result set without specifying the sequence of operations to obtain it."
      ],
      "metadata": {
        "id": "Kvoi_ESrtXQi"
      }
    },
    {
      "cell_type": "code",
      "source": [
        "import sqlite3\n",
        "\n",
        "# Connect to SQLite in-memory database\n",
        "conn = sqlite3.connect(':memory:')\n",
        "cursor = conn.cursor()\n",
        "\n",
        "# Create example tables\n",
        "cursor.execute('''CREATE TABLE Students (\n",
        "                    ID INTEGER PRIMARY KEY,\n",
        "                    Name TEXT,\n",
        "                    Age INTEGER\n",
        "                )''')\n",
        "\n",
        "cursor.execute('''CREATE TABLE Courses (\n",
        "                    ID INTEGER PRIMARY KEY,\n",
        "                    Title TEXT,\n",
        "                    Credits INTEGER\n",
        "                )''')\n",
        "\n",
        "cursor.execute('''CREATE TABLE Enrollment (\n",
        "                    StudentID INTEGER,\n",
        "                    CourseID INTEGER,\n",
        "                    FOREIGN KEY(StudentID) REFERENCES Students(ID),\n",
        "                    FOREIGN KEY(CourseID) REFERENCES Courses(ID)\n",
        "                )''')\n",
        "\n",
        "# Populate example tables\n",
        "cursor.execute(\"INSERT INTO Students VALUES (1, 'John Doe', 20)\")\n",
        "cursor.execute(\"INSERT INTO Students VALUES (2, 'Jane Smith', 22)\")\n",
        "cursor.execute(\"INSERT INTO Students VALUES (3, 'Alice Johnson', 19)\")\n",
        "\n",
        "cursor.execute(\"INSERT INTO Courses VALUES (101, 'Introduction to Computer Science', 3)\")\n",
        "cursor.execute(\"INSERT INTO Courses VALUES (102, 'Data Structures', 4)\")\n",
        "\n",
        "cursor.execute(\"INSERT INTO Enrollment VALUES (1, 101)\")\n",
        "cursor.execute(\"INSERT INTO Enrollment VALUES (2, 102)\")\n",
        "\n",
        "# Relational Tuple Calculus with INNER JOINS using SQLite commands with comparisons and string queries\n",
        "cursor.execute('''SELECT Students.Name, Courses.Title\n",
        "                  FROM Students\n",
        "                  INNER JOIN Enrollment ON Students.ID = Enrollment.StudentID\n",
        "                  INNER JOIN Courses ON Enrollment.CourseID = Courses.ID\n",
        "                  WHERE Students.Age > 20 AND Courses.Title LIKE '%Data%' ''')\n",
        "result = cursor.fetchall()\n",
        "print(\"Result of Relational Tuple Calculus with INNER JOINS and Comparisons/String queries:\")\n",
        "for row in result:\n",
        "    print(row)\n",
        "\n",
        "# Close connection\n",
        "conn.close()"
      ],
      "metadata": {
        "colab": {
          "base_uri": "https://localhost:8080/"
        },
        "id": "u-2g463Att5S",
        "outputId": "adeed2d7-2934-4d34-aef0-a7599bff3e5b"
      },
      "execution_count": null,
      "outputs": [
        {
          "output_type": "stream",
          "name": "stdout",
          "text": [
            "Result of Relational Tuple Calculus with INNER JOINS and Comparisons/String queries:\n",
            "('Jane Smith', 'Data Structures')\n"
          ]
        }
      ]
    },
    {
      "cell_type": "markdown",
      "source": [
        "#Query Languages"
      ],
      "metadata": {
        "id": "RNqWQ0Y-uWOi"
      }
    },
    {
      "cell_type": "markdown",
      "source": [
        "#Structured Query Language (SQL)"
      ],
      "metadata": {
        "id": "tG6mc0ofuX4q"
      }
    },
    {
      "cell_type": "markdown",
      "source": [
        "Structured Query Language (SQL) is a standard language for managing and manipulating relational databases.\n",
        "\n"
      ],
      "metadata": {
        "id": "mB2BCliyuZpC"
      }
    },
    {
      "cell_type": "code",
      "source": [
        "import sqlite3\n",
        "\n",
        "# Connect to SQLite in-memory database\n",
        "conn = sqlite3.connect(':memory:')\n",
        "cursor = conn.cursor()\n",
        "\n",
        "# Create example table\n",
        "cursor.execute('''CREATE TABLE Students (\n",
        "                    ID INTEGER PRIMARY KEY,\n",
        "                    Name TEXT,\n",
        "                    Age INTEGER\n",
        "                )''')\n",
        "\n",
        "# Populate example table\n",
        "cursor.execute(\"INSERT INTO Students VALUES (1, 'John Doe', 20)\")\n",
        "cursor.execute(\"INSERT INTO Students VALUES (2, 'Jane Smith', 22)\")\n",
        "cursor.execute(\"INSERT INTO Students VALUES (3, 'Alice Johnson', 21)\")\n",
        "\n",
        "# Select all records from the table\n",
        "cursor.execute('''SELECT * FROM Students''')\n",
        "result = cursor.fetchall()\n",
        "print(\"All records from Students table:\")\n",
        "for row in result:\n",
        "    print(row)\n",
        "\n",
        "# Close connection\n",
        "conn.close()"
      ],
      "metadata": {
        "colab": {
          "base_uri": "https://localhost:8080/"
        },
        "id": "dIG9KmRcua8C",
        "outputId": "ac33a137-dac0-4234-db26-ca4ed29f1e2c"
      },
      "execution_count": null,
      "outputs": [
        {
          "output_type": "stream",
          "name": "stdout",
          "text": [
            "All records from Students table:\n",
            "(1, 'John Doe', 20)\n",
            "(2, 'Jane Smith', 22)\n",
            "(3, 'Alice Johnson', 21)\n"
          ]
        }
      ]
    },
    {
      "cell_type": "markdown",
      "source": [
        "# Selections and Projections"
      ],
      "metadata": {
        "id": "ZUk0HMHlufTq"
      }
    },
    {
      "cell_type": "markdown",
      "source": [
        "Selections and projections are fundamental operations in SQL for filtering and selecting specific data from tables.\n",
        "\n"
      ],
      "metadata": {
        "id": "ihjqJssdufsS"
      }
    },
    {
      "cell_type": "code",
      "source": [
        "import sqlite3\n",
        "\n",
        "# Connect to SQLite in-memory database\n",
        "conn = sqlite3.connect(':memory:')\n",
        "cursor = conn.cursor()\n",
        "\n",
        "# Create example table\n",
        "cursor.execute('''CREATE TABLE Students (\n",
        "                    ID INTEGER PRIMARY KEY,\n",
        "                    Name TEXT,\n",
        "                    Age INTEGER\n",
        "                )''')\n",
        "\n",
        "# Populate example table\n",
        "cursor.execute(\"INSERT INTO Students VALUES (1, 'John Doe', 20)\")\n",
        "cursor.execute(\"INSERT INTO Students VALUES (2, 'Jane Smith', 22)\")\n",
        "cursor.execute(\"INSERT INTO Students VALUES (3, 'Alice Johnson', 21)\")\n",
        "\n",
        "# SQL Selection and Projection\n",
        "cursor.execute('''SELECT Name FROM Students WHERE Age > 20''')\n",
        "selected_students = cursor.fetchall()\n",
        "print(\"Selected Students (Age > 20):\", selected_students)\n",
        "\n",
        "cursor.execute('''SELECT ID, Name FROM Students''')\n",
        "projected_students = cursor.fetchall()\n",
        "print(\"Projected Students (ID and Name):\", projected_students)\n",
        "\n",
        "# Close connection\n",
        "conn.close()"
      ],
      "metadata": {
        "colab": {
          "base_uri": "https://localhost:8080/"
        },
        "id": "JuBlIFn7uiYS",
        "outputId": "ec878332-234a-498c-884c-b12cf1d0ee68"
      },
      "execution_count": null,
      "outputs": [
        {
          "output_type": "stream",
          "name": "stdout",
          "text": [
            "Selected Students (Age > 20): [('Jane Smith',), ('Alice Johnson',)]\n",
            "Projected Students (ID and Name): [(1, 'John Doe'), (2, 'Jane Smith'), (3, 'Alice Johnson')]\n"
          ]
        }
      ]
    },
    {
      "cell_type": "markdown",
      "source": [
        "#Aggregations and Groupings"
      ],
      "metadata": {
        "id": "5dfDMuUFvRis"
      }
    },
    {
      "cell_type": "code",
      "source": [
        "import sqlite3\n",
        "\n",
        "# Connect to SQLite in-memory database\n",
        "conn = sqlite3.connect(':memory:')\n",
        "cursor = conn.cursor()\n",
        "\n",
        "# Create example table\n",
        "cursor.execute('''CREATE TABLE Grades (\n",
        "                    StudentID INTEGER PRIMARY KEY,\n",
        "                    Grade INTEGER\n",
        "                )''')\n",
        "\n",
        "# Populate example table\n",
        "cursor.execute(\"INSERT INTO Grades VALUES (1, 85)\")\n",
        "cursor.execute(\"INSERT INTO Grades VALUES (2, 90)\")\n",
        "cursor.execute(\"INSERT INTO Grades VALUES (3, 75)\")\n",
        "cursor.execute(\"INSERT INTO Grades VALUES (4, 95)\")\n",
        "\n",
        "# SQL Aggregations and Groupings\n",
        "cursor.execute('''SELECT AVG(Grade) FROM Grades''')\n",
        "average_grade = cursor.fetchone()[0]\n",
        "print(\"Average Grade:\", average_grade)\n",
        "\n",
        "cursor.execute('''SELECT MIN(Grade) FROM Grades''')\n",
        "min_grade = cursor.fetchone()[0]\n",
        "print(\"Minimum Grade:\", min_grade)\n",
        "\n",
        "cursor.execute('''SELECT MAX(Grade) FROM Grades''')\n",
        "max_grade = cursor.fetchone()[0]\n",
        "print(\"Maximum Grade:\", max_grade)\n",
        "\n",
        "cursor.execute('''SELECT SUM(Grade) FROM Grades''')\n",
        "total_grade = cursor.fetchone()[0]\n",
        "print(\"Total Grade:\", total_grade)\n",
        "\n",
        "cursor.execute('''SELECT COUNT(*) FROM Grades''')\n",
        "total_students = cursor.fetchone()[0]\n",
        "print(\"Total Students:\", total_students)\n",
        "\n",
        "# Close connection\n",
        "conn.close()"
      ],
      "metadata": {
        "colab": {
          "base_uri": "https://localhost:8080/"
        },
        "id": "XtOr9GawugvS",
        "outputId": "41e9989c-222b-41e7-b166-661db767b558"
      },
      "execution_count": null,
      "outputs": [
        {
          "output_type": "stream",
          "name": "stdout",
          "text": [
            "Average Grade: 86.25\n",
            "Minimum Grade: 75\n",
            "Maximum Grade: 95\n",
            "Total Grade: 345\n",
            "Total Students: 4\n"
          ]
        }
      ]
    },
    {
      "cell_type": "markdown",
      "source": [
        "#Updates and Constraints in SQL"
      ],
      "metadata": {
        "id": "PV1y1lSXv_dC"
      }
    },
    {
      "cell_type": "markdown",
      "source": [
        "#Table Management and Creation\n",
        "Table management and creation involve creating, altering, and dropping tables in a database."
      ],
      "metadata": {
        "id": "Bqbz9qX7wDnm"
      }
    },
    {
      "cell_type": "code",
      "source": [
        "import sqlite3\n",
        "\n",
        "# Connect to SQLite in-memory database\n",
        "conn = sqlite3.connect(':memory:')\n",
        "cursor = conn.cursor()\n",
        "\n",
        "# Create example table\n",
        "cursor.execute('''CREATE TABLE Students (\n",
        "                    ID INTEGER PRIMARY KEY,\n",
        "                    Name TEXT,\n",
        "                    Age INTEGER\n",
        "                )''')\n",
        "\n",
        "# Insert data into the table\n",
        "cursor.execute(\"INSERT INTO Students VALUES (1, 'John Doe', 20)\")\n",
        "cursor.execute(\"INSERT INTO Students VALUES (2, 'Jane Smith', 22)\")\n",
        "\n",
        "# Alter table to add a new column\n",
        "cursor.execute('''ALTER TABLE Students ADD COLUMN GPA REAL''')\n",
        "\n",
        "# Drop the table\n",
        "cursor.execute('''DROP TABLE Students''')\n",
        "\n",
        "# Close connection\n",
        "conn.close()"
      ],
      "metadata": {
        "id": "J7ltj2LpwAZ2"
      },
      "execution_count": null,
      "outputs": []
    },
    {
      "cell_type": "markdown",
      "source": [
        "#Schemas and Privileges\n",
        "Schemas and privileges involve defining database schemas and granting or revoking privileges for accessing data."
      ],
      "metadata": {
        "id": "Zuvlv1uqwI22"
      }
    },
    {
      "cell_type": "code",
      "source": [
        "# Schema and privileges management are not supported in SQLite. This example will use a generic SQL statement.\n",
        "import sqlite3\n",
        "\n",
        "# Connect to SQLite in-memory database\n",
        "conn = sqlite3.connect(':memory:')\n",
        "cursor = conn.cursor()\n",
        "\n",
        "# Create example table\n",
        "cursor.execute('''CREATE TABLE Students (\n",
        "                    ID INTEGER PRIMARY KEY,\n",
        "                    Name TEXT,\n",
        "                    Age INTEGER\n",
        "                )''')\n",
        "\n",
        "# Grant privileges to a user or role\n",
        "cursor.execute('''GRANT SELECT ON Students TO username''')\n",
        "\n",
        "# Revoke privileges from a user or role\n",
        "cursor.execute('''REVOKE INSERT ON Students FROM username''')\n",
        "\n",
        "# Close connection\n",
        "conn.close()"
      ],
      "metadata": {
        "id": "A2wIJ5Xgwxsy"
      },
      "execution_count": null,
      "outputs": []
    },
    {
      "cell_type": "markdown",
      "source": [
        "#Table Updates and Constraints"
      ],
      "metadata": {
        "id": "rdNCTxJXw0yk"
      }
    },
    {
      "cell_type": "markdown",
      "source": [
        "Table updates involve modifying existing data in tables, while constraints enforce rules on data integrity.\n",
        "\n"
      ],
      "metadata": {
        "id": "u0hUlfqCw1hB"
      }
    },
    {
      "cell_type": "code",
      "source": [
        "import sqlite3\n",
        "\n",
        "# Connect to SQLite in-memory database\n",
        "conn = sqlite3.connect(':memory:')\n",
        "cursor = conn.cursor()\n",
        "\n",
        "# Create example table with constraints\n",
        "cursor.execute('''CREATE TABLE Students (\n",
        "                    ID INTEGER PRIMARY KEY,\n",
        "                    Name TEXT,\n",
        "                    Age INTEGER,\n",
        "                    GPA REAL,\n",
        "                    CONSTRAINT age_constraint CHECK (Age >= 18),\n",
        "                    CONSTRAINT gpa_constraint CHECK (GPA BETWEEN 0 AND 4)\n",
        "                )''')\n",
        "\n",
        "# Attempt to insert data that violates the constraints\n",
        "try:\n",
        "    cursor.execute(\"INSERT INTO Students VALUES (1, 'John Doe', 16, 3.5)\")\n",
        "except sqlite3.IntegrityError as e:\n",
        "    print(\"Insertion failed due to age constraint:\", e)\n",
        "\n",
        "try:\n",
        "    cursor.execute(\"INSERT INTO Students VALUES (2, 'Jane Smith', 20, 4.5)\")\n",
        "except sqlite3.IntegrityError as e:\n",
        "    print(\"Insertion failed due to GPA constraint:\", e)\n",
        "\n",
        "# Close connection\n",
        "conn.close()"
      ],
      "metadata": {
        "colab": {
          "base_uri": "https://localhost:8080/"
        },
        "id": "9AZXVqo2w2y6",
        "outputId": "613dc25b-263e-4db7-be52-5d762077a618"
      },
      "execution_count": null,
      "outputs": [
        {
          "output_type": "stream",
          "name": "stdout",
          "text": [
            "Insertion failed due to age constraint: CHECK constraint failed: age_constraint\n",
            "Insertion failed due to GPA constraint: CHECK constraint failed: gpa_constraint\n"
          ]
        }
      ]
    },
    {
      "cell_type": "markdown",
      "source": [
        "#Views and Triggers with SQL"
      ],
      "metadata": {
        "id": "MVW-yVUhyAmp"
      }
    },
    {
      "cell_type": "markdown",
      "source": [
        "#Views"
      ],
      "metadata": {
        "id": "TKjEiWN5yE7a"
      }
    },
    {
      "cell_type": "code",
      "source": [
        "import sqlite3\n",
        "\n",
        "# Connect to SQLite in-memory database\n",
        "conn = sqlite3.connect(':memory:')\n",
        "cursor = conn.cursor()\n",
        "\n",
        "# Create example tables\n",
        "cursor.execute('''CREATE TABLE Employees (\n",
        "                    ID INTEGER PRIMARY KEY,\n",
        "                    Name TEXT,\n",
        "                    DepartmentID INTEGER\n",
        "                )''')\n",
        "\n",
        "cursor.execute('''CREATE TABLE Departments (\n",
        "                    ID INTEGER PRIMARY KEY,\n",
        "                    Name TEXT\n",
        "                )''')\n",
        "\n",
        "# Populate example tables\n",
        "cursor.execute(\"INSERT INTO Employees (Name, DepartmentID) VALUES ('John Doe', 1)\")\n",
        "cursor.execute(\"INSERT INTO Employees (Name, DepartmentID) VALUES ('Jane Smith', 2)\")\n",
        "cursor.execute(\"INSERT INTO Departments (Name) VALUES ('IT')\")\n",
        "cursor.execute(\"INSERT INTO Departments (Name) VALUES ('HR')\")\n",
        "\n",
        "# Create an updatable view\n",
        "cursor.execute('''CREATE VIEW EmployeeDetails AS\n",
        "                  SELECT Employees.ID, Employees.Name AS EmployeeName, Departments.Name AS DepartmentName\n",
        "                  FROM Employees\n",
        "                  INNER JOIN Departments ON Employees.DepartmentID = Departments.ID''')\n",
        "\n",
        "# Retrieve data from the view\n",
        "cursor.execute(\"SELECT * FROM EmployeeDetails\")\n",
        "result = cursor.fetchall()\n",
        "print(\"EmployeeDetails view:\")\n",
        "for row in result:\n",
        "    print(row)\n",
        "\n",
        "# Close connection\n",
        "conn.close()"
      ],
      "metadata": {
        "colab": {
          "base_uri": "https://localhost:8080/"
        },
        "id": "VYelDE6ixf0Z",
        "outputId": "c89f1bce-19f7-4863-ac5d-491c696358d0"
      },
      "execution_count": null,
      "outputs": [
        {
          "output_type": "stream",
          "name": "stdout",
          "text": [
            "EmployeeDetails view:\n",
            "(1, 'John Doe', 'IT')\n",
            "(2, 'Jane Smith', 'HR')\n"
          ]
        }
      ]
    },
    {
      "cell_type": "markdown",
      "source": [
        "#Materialized Views"
      ],
      "metadata": {
        "id": "kpk8PIlrzNkB"
      }
    },
    {
      "cell_type": "markdown",
      "source": [
        "Materialized views are precomputed views stored as physical tables, allowing for faster data retrieval at the cost of increased storage and potentially stale data."
      ],
      "metadata": {
        "id": "xIu3NDzFzURR"
      }
    },
    {
      "cell_type": "code",
      "source": [
        "import sqlite3\n",
        "\n",
        "# Connect to SQLite in-memory database\n",
        "conn = sqlite3.connect(':memory:')\n",
        "cursor = conn.cursor()\n",
        "\n",
        "# Create example tables\n",
        "cursor.execute('''CREATE TABLE Employees (\n",
        "                    ID INTEGER PRIMARY KEY,\n",
        "                    Name TEXT,\n",
        "                    Department TEXT\n",
        "                )''')\n",
        "\n",
        "cursor.execute('''CREATE TABLE Departments (\n",
        "                    ID INTEGER PRIMARY KEY,\n",
        "                    Name TEXT\n",
        "                )''')\n",
        "\n",
        "# Populate example tables\n",
        "cursor.execute(\"INSERT INTO Employees VALUES (1, 'John Doe', 'IT')\")\n",
        "cursor.execute(\"INSERT INTO Employees VALUES (2, 'Jane Smith', 'HR')\")\n",
        "cursor.execute(\"INSERT INTO Departments VALUES (1, 'IT')\")\n",
        "cursor.execute(\"INSERT INTO Departments VALUES (2, 'HR')\")\n",
        "\n",
        "# Create a regular view\n",
        "cursor.execute('''CREATE VIEW EmployeeDetails AS\n",
        "                  SELECT Employees.ID, Employees.Name, Departments.Name AS Department\n",
        "                  FROM Employees\n",
        "                  INNER JOIN Departments ON Employees.Department = Departments.ID''')\n",
        "\n",
        "# Close connection\n",
        "conn.close()"
      ],
      "metadata": {
        "id": "5s87f7IvzRsR"
      },
      "execution_count": null,
      "outputs": []
    },
    {
      "cell_type": "markdown",
      "source": [
        "#Triggers and Stored Procedures"
      ],
      "metadata": {
        "id": "bkyBXKdvzZ_x"
      }
    },
    {
      "cell_type": "markdown",
      "source": [
        "Triggers and stored procedures are database objects that contain a set of SQL statements to be executed automatically in response to certain events or conditions."
      ],
      "metadata": {
        "id": "Mpme-t_hzanB"
      }
    },
    {
      "cell_type": "code",
      "source": [
        "import sqlite3\n",
        "\n",
        "# Connect to SQLite in-memory database\n",
        "conn = sqlite3.connect(':memory:')\n",
        "cursor = conn.cursor()\n",
        "\n",
        "# Create example table\n",
        "cursor.execute('''CREATE TABLE Employees (\n",
        "                    ID INTEGER PRIMARY KEY,\n",
        "                    Name TEXT,\n",
        "                    Department TEXT,\n",
        "                    Salary INTEGER\n",
        "                )''')\n",
        "\n",
        "# Create a trigger to update the salary when a new employee is inserted\n",
        "cursor.execute('''CREATE TRIGGER UpdateSalary\n",
        "                  AFTER INSERT ON Employees\n",
        "                  BEGIN\n",
        "                    UPDATE Employees\n",
        "                    SET Salary = 50000\n",
        "                    WHERE ID = NEW.ID;\n",
        "                  END''')\n",
        "\n",
        "# Insert data into the table\n",
        "cursor.execute(\"INSERT INTO Employees (ID, Name, Department) VALUES (1, 'John Doe', 'IT')\")\n",
        "\n",
        "# Retrieve data from the table\n",
        "cursor.execute(\"SELECT * FROM Employees\")\n",
        "result = cursor.fetchall()\n",
        "print(\"Employees after trigger execution:\", result)\n",
        "\n",
        "# Close connection\n",
        "conn.close()"
      ],
      "metadata": {
        "colab": {
          "base_uri": "https://localhost:8080/"
        },
        "id": "TsmrSUO8zRqD",
        "outputId": "dfc11b99-1125-41c3-a6a7-56388d7eff93"
      },
      "execution_count": null,
      "outputs": [
        {
          "output_type": "stream",
          "name": "stdout",
          "text": [
            "Employees after trigger execution: [(1, 'John Doe', 'IT', 50000)]\n"
          ]
        }
      ]
    },
    {
      "cell_type": "code",
      "source": [
        "import sqlite3\n",
        "\n",
        "# Define a Python function to simulate a stored procedure\n",
        "def add_employee(cursor, name, department):\n",
        "    cursor.execute(\"INSERT INTO Employees (Name, Department) VALUES (?, ?)\", (name, department))\n",
        "\n",
        "# Connect to SQLite in-memory database\n",
        "conn = sqlite3.connect(':memory:')\n",
        "cursor = conn.cursor()\n",
        "\n",
        "# Create example table\n",
        "cursor.execute('''CREATE TABLE Employees (\n",
        "                    ID INTEGER PRIMARY KEY,\n",
        "                    Name TEXT,\n",
        "                    Department TEXT\n",
        "                )''')\n",
        "\n",
        "# Call the stored procedure to add an employee\n",
        "add_employee(cursor, 'John Doe', 'IT')\n",
        "\n",
        "# Retrieve data from the table\n",
        "cursor.execute(\"SELECT * FROM Employees\")\n",
        "result = cursor.fetchall()\n",
        "print(\"Employees after adding a new employee:\", result)\n",
        "\n",
        "# Close connection\n",
        "conn.close()"
      ],
      "metadata": {
        "colab": {
          "base_uri": "https://localhost:8080/"
        },
        "id": "DgcUsaHkzv6A",
        "outputId": "625b6608-5cef-46e4-ddf5-ac726eff0036"
      },
      "execution_count": null,
      "outputs": [
        {
          "output_type": "stream",
          "name": "stdout",
          "text": [
            "Employees after adding a new employee: [(1, 'John Doe', 'IT')]\n"
          ]
        }
      ]
    },
    {
      "cell_type": "markdown",
      "source": [
        "#Functional Dependency"
      ],
      "metadata": {
        "id": "fLWcmsmn0hhp"
      }
    },
    {
      "cell_type": "markdown",
      "source": [
        "Informal design guidelines help in designing databases that efficiently represent the real-world entities and their relationships.\n",
        "\n"
      ],
      "metadata": {
        "id": "UwBYDspu0iPx"
      }
    },
    {
      "cell_type": "code",
      "source": [
        "# Example of applying informal design guidelines:\n",
        "# - Avoid redundancy by organizing data into normalized tables.\n",
        "# - Ensure data integrity by enforcing constraints (e.g., primary keys, foreign keys).\n",
        "# - Represent relationships accurately using appropriate table relationships (e.g., one-to-many, many-to-many).\n",
        "# - Choose appropriate data types and lengths to optimize storage and performance.\n",
        "# - Document the database schema and relationships for clarity and maintainability."
      ],
      "metadata": {
        "id": "GLzGYIad0lhx"
      },
      "execution_count": null,
      "outputs": []
    },
    {
      "cell_type": "markdown",
      "source": [
        "#Functional Dependencies"
      ],
      "metadata": {
        "id": "uHUc0ABX002Z"
      }
    },
    {
      "cell_type": "markdown",
      "source": [
        "Functional dependencies describe the relationships between attributes in a relation, indicating how the value of one attribute uniquely determines the value of another attribute."
      ],
      "metadata": {
        "id": "TxtRVVeD06rh"
      }
    },
    {
      "cell_type": "code",
      "source": [
        "import sqlite3\n",
        "\n",
        "# Connect to SQLite in-memory database\n",
        "conn = sqlite3.connect(':memory:')\n",
        "cursor = conn.cursor()\n",
        "\n",
        "# Create example table with functional dependencies\n",
        "cursor.execute('''CREATE TABLE Students (\n",
        "                    ID INTEGER PRIMARY KEY,\n",
        "                    Name TEXT,\n",
        "                    Age INTEGER,\n",
        "                    Department TEXT,\n",
        "                    GPA REAL,\n",
        "                    CONSTRAINT age_department_dependency UNIQUE (Age, Department)\n",
        "                )''')\n",
        "\n",
        "# Close connection\n",
        "conn.close()"
      ],
      "metadata": {
        "id": "H3_CemnJ05AR"
      },
      "execution_count": null,
      "outputs": []
    },
    {
      "cell_type": "markdown",
      "source": [
        "# Inference Rules"
      ],
      "metadata": {
        "id": "jHJnLgID0-gp"
      }
    },
    {
      "cell_type": "markdown",
      "source": [
        "Inference rules are typically applied manually based on a set of functional dependencies. Here's an example of applying inference rules to determine additional functional dependencies:"
      ],
      "metadata": {
        "id": "AldVlvDS1br6"
      }
    },
    {
      "cell_type": "code",
      "source": [
        "# Given functional dependencies:\n",
        "# {Age} -> {Department}\n",
        "# {ID, Name} -> {Age}\n",
        "\n",
        "# Applying Transitivity rule:\n",
        "# Since {Age} -> {Department} and {ID, Name} -> {Age}, we can infer {ID, Name} -> {Department}\n",
        "\n",
        "# Resulting set of functional dependencies:\n",
        "# {Age} -> {Department}\n",
        "# {ID, Name} -> {Age}\n",
        "# {ID, Name} -> {Department}\n"
      ],
      "metadata": {
        "id": "GOyYGAOx1VUJ"
      },
      "execution_count": null,
      "outputs": []
    },
    {
      "cell_type": "markdown",
      "source": [
        "#Normal Forms"
      ],
      "metadata": {
        "id": "cuKObgKJ2w8z"
      }
    },
    {
      "cell_type": "markdown",
      "source": [
        "#Entity and Referential Integrity"
      ],
      "metadata": {
        "id": "YWYgJZNA2xWS"
      }
    },
    {
      "cell_type": "markdown",
      "source": [
        "Entity integrity ensures that each row in a table is uniquely identifiable, usually through a primary key constraint. Referential integrity ensures that relationships between tables remain consistent, typically through foreign key constraints.\n",
        "\n"
      ],
      "metadata": {
        "id": "2tvoMI072zHB"
      }
    },
    {
      "cell_type": "code",
      "source": [
        "import sqlite3\n",
        "\n",
        "# Connect to SQLite in-memory database\n",
        "conn = sqlite3.connect(':memory:')\n",
        "cursor = conn.cursor()\n",
        "\n",
        "# Create Students table\n",
        "cursor.execute('''CREATE TABLE Students (\n",
        "                    ID INTEGER PRIMARY KEY,\n",
        "                    Name TEXT,\n",
        "                    Age INTEGER\n",
        "                )''')\n",
        "\n",
        "# Create Courses table with a foreign key constraint\n",
        "cursor.execute('''CREATE TABLE Courses (\n",
        "                    ID INTEGER PRIMARY KEY,\n",
        "                    Title TEXT,\n",
        "                    StudentID INTEGER,\n",
        "                    FOREIGN KEY (StudentID) REFERENCES Students(ID)\n",
        "                )''')\n",
        "\n",
        "# Close connection\n",
        "conn.close()"
      ],
      "metadata": {
        "id": "vaBoxPro20hh"
      },
      "execution_count": null,
      "outputs": []
    },
    {
      "cell_type": "markdown",
      "source": [
        "# Schema Decomposition\n",
        "Schema decomposition involves breaking down a single relation into multiple relations to eliminate redundancy and ensure data integrity."
      ],
      "metadata": {
        "id": "E9IPVM0j26Xy"
      }
    },
    {
      "cell_type": "code",
      "source": [
        "import sqlite3\n",
        "\n",
        "# Connect to SQLite in-memory database\n",
        "conn = sqlite3.connect(':memory:')\n",
        "cursor = conn.cursor()\n",
        "\n",
        "# Create example tables\n",
        "cursor.execute('''CREATE TABLE Students (\n",
        "                    ID INTEGER PRIMARY KEY,\n",
        "                    Name TEXT,\n",
        "                    Age INTEGER\n",
        "                )''')\n",
        "\n",
        "cursor.execute('''CREATE TABLE Courses (\n",
        "                    ID INTEGER PRIMARY KEY,\n",
        "                    Title TEXT\n",
        "                )''')\n",
        "\n",
        "# Decompose the Courses table into two tables: Courses and Enrollments\n",
        "cursor.execute('''CREATE TABLE Enrollments (\n",
        "                    EnrollmentID INTEGER PRIMARY KEY,\n",
        "                    StudentID INTEGER,\n",
        "                    CourseID INTEGER,\n",
        "                    FOREIGN KEY (StudentID) REFERENCES Students(ID),\n",
        "                    FOREIGN KEY (CourseID) REFERENCES Courses(ID)\n",
        "                )''')\n",
        "\n",
        "# Close connection\n",
        "conn.close()\n"
      ],
      "metadata": {
        "id": "KVuLPzMM260x"
      },
      "execution_count": null,
      "outputs": []
    },
    {
      "cell_type": "markdown",
      "source": [
        "#Candidate Keys, Superkeys, and Closure of an Attribute Set"
      ],
      "metadata": {
        "id": "Xnvj_xbG3Sjo"
      }
    },
    {
      "cell_type": "markdown",
      "source": [
        "Candidate keys are minimal sets of attributes that uniquely identify tuples in a relation. Superkeys are sets of attributes that uniquely identify tuples, possibly including more attributes than necessary. Closure of an attribute set is the set of all attributes that can be functionally determined by the given set of attributes."
      ],
      "metadata": {
        "id": "cyUbcDs13oR6"
      }
    },
    {
      "cell_type": "code",
      "source": [
        "import itertools\n",
        "\n",
        "# Given relation schema and functional dependencies\n",
        "attributes = ['A', 'B', 'C']\n",
        "functional_dependencies = {\n",
        "    'A': ['B'],\n",
        "    'B': ['C'],\n",
        "    'C': []\n",
        "}\n",
        "\n",
        "# Function to compute the closure of an attribute set\n",
        "def compute_closure(attributes, functional_dependencies):\n",
        "    closure = set(attributes)\n",
        "    changed = True\n",
        "    while changed:\n",
        "        changed = False\n",
        "        for fd in functional_dependencies:\n",
        "            if all(attr in closure for attr in functional_dependencies[fd]) and fd not in closure:\n",
        "                closure.add(fd)\n",
        "                changed = True\n",
        "    return closure\n",
        "\n",
        "# Function to find candidate keys and superkeys\n",
        "def find_keys_and_superkeys(attributes, functional_dependencies):\n",
        "    keys = []\n",
        "    superkeys = []\n",
        "    for subset_size in range(1, len(attributes) + 1):\n",
        "        for subset in itertools.combinations(attributes, subset_size):\n",
        "            closure = compute_closure(subset, functional_dependencies)\n",
        "            if closure == set(attributes):\n",
        "                superkeys.append(set(subset))\n",
        "                is_candidate_key = True\n",
        "                for key in keys:\n",
        "                    if set(subset).issubset(key):\n",
        "                        is_candidate_key = False\n",
        "                        break\n",
        "                if is_candidate_key:\n",
        "                    keys.append(set(subset))\n",
        "    return keys, superkeys\n",
        "\n",
        "# Find candidate keys and superkeys\n",
        "candidate_keys, superkeys = find_keys_and_superkeys(attributes, functional_dependencies)\n",
        "print(\"Candidate Keys:\", candidate_keys)\n",
        "print(\"Superkeys:\", superkeys)"
      ],
      "metadata": {
        "colab": {
          "base_uri": "https://localhost:8080/"
        },
        "id": "V-4KWewb3TlC",
        "outputId": "c418a59b-286e-4092-d41b-9a8ba7a2010a"
      },
      "execution_count": null,
      "outputs": [
        {
          "output_type": "stream",
          "name": "stdout",
          "text": [
            "Candidate Keys: [{'A'}, {'B'}, {'C'}, {'A', 'B'}, {'C', 'A'}, {'C', 'B'}, {'C', 'A', 'B'}]\n",
            "Superkeys: [{'A'}, {'B'}, {'C'}, {'A', 'B'}, {'C', 'A'}, {'C', 'B'}, {'C', 'A', 'B'}]\n"
          ]
        }
      ]
    },
    {
      "cell_type": "markdown",
      "source": [
        "![image.png](data:image/png;base64,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)"
      ],
      "metadata": {
        "id": "vy_CIJNO4F2i"
      }
    },
    {
      "cell_type": "markdown",
      "source": [
        "#First Normal Form (1NF)"
      ],
      "metadata": {
        "id": "G-JcLMEk4V2C"
      }
    },
    {
      "cell_type": "code",
      "source": [
        "import sqlite3\n",
        "\n",
        "# Connect to SQLite in-memory database\n",
        "conn = sqlite3.connect(':memory:')\n",
        "cursor = conn.cursor()\n",
        "\n",
        "# Create a table that violates 1NF\n",
        "cursor.execute('''CREATE TABLE Students (\n",
        "                    ID INTEGER PRIMARY KEY,\n",
        "                    Name TEXT,\n",
        "                    Subjects TEXT\n",
        "                )''')\n",
        "\n",
        "# Insert data with repeating groups\n",
        "cursor.execute(\"INSERT INTO Students (Name, Subjects) VALUES ('John', 'Math, Physics, Chemistry')\")\n",
        "cursor.execute(\"INSERT INTO Students (Name, Subjects) VALUES ('Jane', 'Biology, History')\")\n",
        "\n",
        "# Retrieve data\n",
        "cursor.execute(\"SELECT * FROM Students\")\n",
        "result = cursor.fetchall()\n",
        "print(\"Data in Students table (violating 1NF):\", result)\n",
        "\n",
        "# Close connection\n",
        "conn.close()"
      ],
      "metadata": {
        "colab": {
          "base_uri": "https://localhost:8080/"
        },
        "id": "uxiV3IZk4G5T",
        "outputId": "013a6f03-886a-4d0c-ae7f-61055a764274"
      },
      "execution_count": null,
      "outputs": [
        {
          "output_type": "stream",
          "name": "stdout",
          "text": [
            "Data in Students table (violating 1NF): [(1, 'John', 'Math, Physics, Chemistry'), (2, 'Jane', 'Biology, History')]\n"
          ]
        }
      ]
    },
    {
      "cell_type": "markdown",
      "source": [
        "#Second Normal Form (2NF)"
      ],
      "metadata": {
        "id": "-G_Smhc64YXi"
      }
    },
    {
      "cell_type": "code",
      "source": [
        "# Connect to SQLite in-memory database\n",
        "conn = sqlite3.connect(':memory:')\n",
        "cursor = conn.cursor()\n",
        "\n",
        "# Create a table that violates 2NF\n",
        "cursor.execute('''CREATE TABLE Orders (\n",
        "                    OrderID INTEGER PRIMARY KEY,\n",
        "                    ProductID INTEGER,\n",
        "                    ProductName TEXT,\n",
        "                    CustomerID INTEGER,\n",
        "                    CustomerName TEXT\n",
        "                )''')\n",
        "\n",
        "# Insert data with partial dependency\n",
        "cursor.execute(\"INSERT INTO Orders (ProductID, ProductName, CustomerID) VALUES (101, 'Laptop', 1)\")\n",
        "cursor.execute(\"INSERT INTO Orders (ProductID, ProductName, CustomerID) VALUES (102, 'Printer', 2)\")\n",
        "\n",
        "# Retrieve data\n",
        "cursor.execute(\"SELECT * FROM Orders\")\n",
        "result = cursor.fetchall()\n",
        "print(\"Data in Orders table (violating 2NF):\", result)\n",
        "\n",
        "# Close connection\n",
        "conn.close()"
      ],
      "metadata": {
        "colab": {
          "base_uri": "https://localhost:8080/"
        },
        "id": "fXQXjt9j4a9q",
        "outputId": "11df6bc4-3e03-4a9b-9a73-82249d04a0d8"
      },
      "execution_count": null,
      "outputs": [
        {
          "output_type": "stream",
          "name": "stdout",
          "text": [
            "Data in Orders table (violating 2NF): [(1, 101, 'Laptop', 1, None), (2, 102, 'Printer', 2, None)]\n"
          ]
        }
      ]
    },
    {
      "cell_type": "markdown",
      "source": [
        "#Third Normal Form (3NF)"
      ],
      "metadata": {
        "id": "6tv0GJKp4ggB"
      }
    },
    {
      "cell_type": "code",
      "source": [
        "# Connect to SQLite in-memory database\n",
        "conn = sqlite3.connect(':memory:')\n",
        "cursor = conn.cursor()\n",
        "\n",
        "# Create a table that violates 3NF\n",
        "cursor.execute('''CREATE TABLE Employees (\n",
        "                    EmployeeID INTEGER PRIMARY KEY,\n",
        "                    EmployeeName TEXT,\n",
        "                    DepartmentID INTEGER,\n",
        "                    DepartmentName TEXT\n",
        "                )''')\n",
        "\n",
        "# Insert data with transitive dependency\n",
        "cursor.execute(\"INSERT INTO Employees (EmployeeName, DepartmentID, DepartmentName) VALUES ('John', 1, 'IT')\")\n",
        "cursor.execute(\"INSERT INTO Employees (EmployeeName, DepartmentID, DepartmentName) VALUES ('Jane', 2, 'HR')\")\n",
        "\n",
        "# Retrieve data\n",
        "cursor.execute(\"SELECT * FROM Employees\")\n",
        "result = cursor.fetchall()\n",
        "print(\"Data in Employees table (violating 3NF):\", result)\n",
        "\n",
        "# Close connection\n",
        "conn.close()"
      ],
      "metadata": {
        "colab": {
          "base_uri": "https://localhost:8080/"
        },
        "id": "xkbw5o3h4hGJ",
        "outputId": "78305f78-e31f-435c-bbbd-c47189a72d78"
      },
      "execution_count": null,
      "outputs": [
        {
          "output_type": "stream",
          "name": "stdout",
          "text": [
            "Data in Employees table (violating 3NF): [(1, 'John', 1, 'IT'), (2, 'Jane', 2, 'HR')]\n"
          ]
        }
      ]
    },
    {
      "cell_type": "markdown",
      "source": [
        "#Boyce-Codd Normal Form (BCNF)"
      ],
      "metadata": {
        "id": "UySfz2R24sTh"
      }
    },
    {
      "cell_type": "code",
      "source": [
        "# Connect to SQLite in-memory database\n",
        "conn = sqlite3.connect(':memory:')\n",
        "cursor = conn.cursor()\n",
        "\n",
        "# Create a table that violates BCNF\n",
        "cursor.execute('''CREATE TABLE Employees (\n",
        "                    EmployeeID INTEGER PRIMARY KEY,\n",
        "                    EmployeeName TEXT,\n",
        "                    DepartmentID INTEGER,\n",
        "                    DepartmentName TEXT,\n",
        "                    UNIQUE (DepartmentID, DepartmentName)\n",
        "                )''')\n",
        "\n",
        "# Insert data violating BCNF\n",
        "cursor.execute(\"INSERT INTO Employees (EmployeeName, DepartmentID, DepartmentName) VALUES ('John', 1, 'IT')\")\n",
        "cursor.execute(\"INSERT INTO Employees (EmployeeName, DepartmentID, DepartmentName) VALUES ('Jane', 2, 'HR')\")\n",
        "\n",
        "# Retrieve data\n",
        "cursor.execute(\"SELECT * FROM Employees\")\n",
        "result = cursor.fetchall()\n",
        "print(\"Data in Employees table (violating BCNF):\", result)\n",
        "\n",
        "# Close connection\n",
        "conn.close()"
      ],
      "metadata": {
        "colab": {
          "base_uri": "https://localhost:8080/"
        },
        "id": "9TRDsptW4vZJ",
        "outputId": "1db43aca-c07d-46c6-934c-5f258abd28e1"
      },
      "execution_count": null,
      "outputs": [
        {
          "output_type": "stream",
          "name": "stdout",
          "text": [
            "Data in Employees table (violating BCNF): [(1, 'John', 1, 'IT'), (2, 'Jane', 2, 'HR')]\n"
          ]
        }
      ]
    },
    {
      "cell_type": "markdown",
      "source": [
        "#Normalization Algorithms\n",
        "Normalization algorithms are procedures used to decompose a relation into multiple relations that satisfy the criteria of a specific normal form."
      ],
      "metadata": {
        "id": "8hi5WoAm41lh"
      }
    },
    {
      "cell_type": "code",
      "source": [
        "# Connect to SQLite in-memory database\n",
        "conn = sqlite3.connect(':memory:')\n",
        "cursor = conn.cursor()\n",
        "\n",
        "# Create initial table\n",
        "cursor.execute('''CREATE TABLE InitialTable (\n",
        "                    ID INTEGER PRIMARY KEY,\n",
        "                    Attribute1 TEXT,\n",
        "                    Attribute2 TEXT,\n",
        "                    Attribute3 TEXT\n",
        "                )''')\n",
        "\n",
        "# Insert data into the initial table\n",
        "cursor.execute(\"INSERT INTO InitialTable (Attribute1, Attribute2, Attribute3) VALUES ('A1', 'B1', 'C1')\")\n",
        "cursor.execute(\"INSERT INTO InitialTable (Attribute1, Attribute2, Attribute3) VALUES ('A2', 'B2', 'C2')\")\n",
        "\n",
        "# Create decomposed tables\n",
        "cursor.execute('''CREATE TABLE Table1 (\n",
        "                    ID INTEGER PRIMARY KEY,\n",
        "                    Attribute1 TEXT\n",
        "                )''')\n",
        "\n",
        "cursor.execute('''CREATE TABLE Table2 (\n",
        "                    ID INTEGER PRIMARY KEY,\n",
        "                    Attribute2 TEXT\n",
        "                )''')\n",
        "\n",
        "cursor.execute('''CREATE TABLE Table3 (\n",
        "                    ID INTEGER PRIMARY KEY,\n",
        "                    Attribute3 TEXT\n",
        "                )''')\n",
        "\n",
        "# Insert data into decomposed tables\n",
        "cursor.execute(\"INSERT INTO Table1 (ID, Attribute1) SELECT ID, Attribute1 FROM InitialTable\")\n",
        "cursor.execute(\"INSERT INTO Table2 (ID, Attribute2) SELECT ID, Attribute2 FROM InitialTable\")\n",
        "cursor.execute(\"INSERT INTO Table3 (ID, Attribute3) SELECT ID, Attribute3 FROM InitialTable\")\n",
        "\n",
        "# Close connection\n",
        "conn.close()"
      ],
      "metadata": {
        "id": "HaYmtuJW42aU"
      },
      "execution_count": null,
      "outputs": []
    },
    {
      "cell_type": "code",
      "source": [
        "import sqlite3\n",
        "\n",
        "# Connect to SQLite in-memory database\n",
        "conn = sqlite3.connect(':memory:')\n",
        "cursor = conn.cursor()\n",
        "\n",
        "# Create tables\n",
        "\n",
        "# Authors table respects 1NF because each attribute is atomic\n",
        "# and there are no repeating groups.\n",
        "cursor.execute('''CREATE TABLE Authors (\n",
        "                    AuthorID INTEGER PRIMARY KEY,\n",
        "                    AuthorName TEXT\n",
        "                )''')\n",
        "\n",
        "# Books table respects 1NF because each attribute is atomic\n",
        "# and there are no repeating groups. It also respects 2NF\n",
        "# because the non-prime attribute (Title) is fully functionally\n",
        "# dependent on the entire primary key (BookID).\n",
        "cursor.execute('''CREATE TABLE Books (\n",
        "                    BookID INTEGER PRIMARY KEY,\n",
        "                    Title TEXT,\n",
        "                    AuthorID INTEGER,\n",
        "                    FOREIGN KEY (AuthorID) REFERENCES Authors(AuthorID)\n",
        "                )''')\n",
        "\n",
        "# Customers table respects 1NF because each attribute is atomic\n",
        "# and there are no repeating groups.\n",
        "cursor.execute('''CREATE TABLE Customers (\n",
        "                    CustomerID INTEGER PRIMARY KEY,\n",
        "                    CustomerName TEXT\n",
        "                )''')\n",
        "\n",
        "# Orders table respects 1NF because each attribute is atomic\n",
        "# and there are no repeating groups. It also respects 2NF and 3NF\n",
        "# because non-prime attributes (BookID, Quantity) are fully\n",
        "# functionally dependent on the entire primary key (OrderID).\n",
        "# It also respects BCNF because every non-trivial functional\n",
        "# dependency is a dependency on a superkey (OrderID).\n",
        "cursor.execute('''CREATE TABLE Orders (\n",
        "                    OrderID INTEGER PRIMARY KEY,\n",
        "                    CustomerID INTEGER,\n",
        "                    BookID INTEGER,\n",
        "                    Quantity INTEGER,\n",
        "                    FOREIGN KEY (CustomerID) REFERENCES Customers(CustomerID),\n",
        "                    FOREIGN KEY (BookID) REFERENCES Books(BookID)\n",
        "                )''')\n",
        "\n",
        "# Populate tables with sample data\n",
        "\n",
        "# Authors table\n",
        "cursor.executemany(\"INSERT INTO Authors (AuthorName) VALUES (?)\", [(\"Stephen King\",), (\"J.K. Rowling\",)])\n",
        "\n",
        "# Books table\n",
        "cursor.executemany(\"INSERT INTO Books (Title, AuthorID) VALUES (?, ?)\", [(\"IT\", 1), (\"Harry Potter\", 2)])\n",
        "\n",
        "# Customers table\n",
        "cursor.executemany(\"INSERT INTO Customers (CustomerName) VALUES (?)\", [(\"John Doe\",), (\"Jane Doe\",)])\n",
        "\n",
        "# Orders table\n",
        "cursor.executemany(\"INSERT INTO Orders (CustomerID, BookID, Quantity) VALUES (?, ?, ?)\", [(1, 1, 2), (2, 2, 1)])\n",
        "\n",
        "\n",
        "# Commit changes and close connection\n",
        "conn.commit()\n",
        "\n",
        "\n",
        "# Retrieve all books along with their authors\n",
        "cursor.execute('''SELECT Books.Title, Authors.AuthorName\n",
        "                  FROM Books\n",
        "                  INNER JOIN Authors ON Books.AuthorID = Authors.AuthorID''')\n",
        "books_with_authors = cursor.fetchall()\n",
        "print(\"Books with Authors:\")\n",
        "for row in books_with_authors:\n",
        "    print(row)\n",
        "\n",
        "# Retrieve all orders along with the customer names and book titles\n",
        "cursor.execute('''SELECT Orders.OrderID, Customers.CustomerName, Books.Title, Orders.Quantity\n",
        "                  FROM Orders\n",
        "                  INNER JOIN Customers ON Orders.CustomerID = Customers.CustomerID\n",
        "                  INNER JOIN Books ON Orders.BookID = Books.BookID''')\n",
        "orders_with_details = cursor.fetchall()\n",
        "print(\"\\nOrders with Customer Names and Book Titles:\")\n",
        "for row in orders_with_details:\n",
        "    print(row)\n",
        "\n",
        "# Close connection\n",
        "conn.close()"
      ],
      "metadata": {
        "colab": {
          "base_uri": "https://localhost:8080/"
        },
        "id": "3SogjHl_5FQy",
        "outputId": "636b0300-9889-4c08-d82b-c165213f0d58"
      },
      "execution_count": null,
      "outputs": [
        {
          "output_type": "stream",
          "name": "stdout",
          "text": [
            "Books with Authors:\n",
            "('IT', 'Stephen King')\n",
            "('Harry Potter', 'J.K. Rowling')\n",
            "\n",
            "Orders with Customer Names and Book Titles:\n",
            "(1, 'John Doe', 'IT', 2)\n",
            "(2, 'Jane Doe', 'Harry Potter', 1)\n"
          ]
        }
      ]
    },
    {
      "cell_type": "markdown",
      "source": [
        "#Processing and Query Optimization"
      ],
      "metadata": {
        "id": "U2bMZi4t6EgU"
      }
    },
    {
      "cell_type": "markdown",
      "source": [
        "#Maintaining a Data Buffer in Memory"
      ],
      "metadata": {
        "id": "3rOZ1Tjl6FEi"
      }
    },
    {
      "cell_type": "code",
      "source": [
        "import sqlite3\n",
        "\n",
        "# Connect to SQLite in-memory database\n",
        "conn = sqlite3.connect(':memory:')\n",
        "cursor = conn.cursor()\n",
        "\n",
        "# Create tables and populate data (as needed)\n",
        "cursor.execute('''CREATE TABLE Records (\n",
        "                    ID INTEGER PRIMARY KEY,\n",
        "                    Data TEXT\n",
        "                )''')\n",
        "cursor.executemany(\"INSERT INTO Records (Data) VALUES (?)\", [(\"Data1\",), (\"Data2\",), (\"Data3\",)])\n",
        "\n",
        "# Retrieve data and maintain a buffer in memory\n",
        "cursor.execute(\"SELECT * FROM Records\")\n",
        "buffer_data = cursor.fetchall()\n",
        "\n",
        "# Process data in memory\n",
        "for row in buffer_data:\n",
        "    print(row)\n",
        "\n",
        "# Close connection\n",
        "conn.close()"
      ],
      "metadata": {
        "colab": {
          "base_uri": "https://localhost:8080/"
        },
        "id": "I7-QHvsQ6GtL",
        "outputId": "a5f54cf3-0edb-42b0-85fd-17eb3094af5f"
      },
      "execution_count": null,
      "outputs": [
        {
          "output_type": "stream",
          "name": "stdout",
          "text": [
            "(1, 'Data1')\n",
            "(2, 'Data2')\n",
            "(3, 'Data3')\n"
          ]
        }
      ]
    },
    {
      "cell_type": "markdown",
      "source": [
        "#SQL Query Processing"
      ],
      "metadata": {
        "id": "NKpGmFCA6IpB"
      }
    },
    {
      "cell_type": "code",
      "source": [
        "import sqlite3\n",
        "\n",
        "# Connect to SQLite in-memory database\n",
        "conn = sqlite3.connect(':memory:')\n",
        "cursor = conn.cursor()\n",
        "\n",
        "# Create tables and populate data (as needed)\n",
        "cursor.execute('''CREATE TABLE Records (\n",
        "                    ID INTEGER PRIMARY KEY,\n",
        "                    Data TEXT\n",
        "                )''')\n",
        "cursor.executemany(\"INSERT INTO Records (Data) VALUES (?)\", [(\"Data1\",), (\"Data2\",), (\"Data3\",)])\n",
        "\n",
        "# Execute SQL queries\n",
        "cursor.execute(\"SELECT * FROM Records WHERE ID = 2\")\n",
        "result = cursor.fetchall()\n",
        "\n",
        "# Process query results\n",
        "print(\"Query Result:\", result)\n",
        "\n",
        "# Close connection\n",
        "conn.close()"
      ],
      "metadata": {
        "colab": {
          "base_uri": "https://localhost:8080/"
        },
        "id": "3ZIwR48V6K2p",
        "outputId": "b79ed228-b8be-4a09-cd7a-2d2964e4d53d"
      },
      "execution_count": null,
      "outputs": [
        {
          "output_type": "stream",
          "name": "stdout",
          "text": [
            "Query Result: [(2, 'Data2')]\n"
          ]
        }
      ]
    },
    {
      "cell_type": "markdown",
      "source": [
        "#Syntactic Optimization"
      ],
      "metadata": {
        "id": "es_bOONz6MqZ"
      }
    },
    {
      "cell_type": "code",
      "source": [
        "import sqlite3\n",
        "\n",
        "# Connect to SQLite in-memory database\n",
        "conn = sqlite3.connect(':memory:')\n",
        "cursor = conn.cursor()\n",
        "\n",
        "# Create tables and populate data (as needed)\n",
        "cursor.execute('''CREATE TABLE Records (\n",
        "                    ID INTEGER PRIMARY KEY,\n",
        "                    Data TEXT\n",
        "                )''')\n",
        "cursor.executemany(\"INSERT INTO Records (Data) VALUES (?)\", [(\"Data1\",), (\"Data2\",), (\"Data3\",)])\n",
        "\n",
        "# Execute optimized SQL queries with limited columns\n",
        "cursor.execute(\"SELECT Data FROM Records WHERE ID = 2\")\n",
        "result = cursor.fetchall()\n",
        "\n",
        "# Process query results\n",
        "print(\"Query Result:\", result)\n",
        "\n",
        "# Close connection\n",
        "conn.close()\n"
      ],
      "metadata": {
        "colab": {
          "base_uri": "https://localhost:8080/"
        },
        "id": "PnRcJ7hh6Oyc",
        "outputId": "39eb3160-bf0b-4d62-e898-0b5112928229"
      },
      "execution_count": null,
      "outputs": [
        {
          "output_type": "stream",
          "name": "stdout",
          "text": [
            "Query Result: [('Data2',)]\n"
          ]
        }
      ]
    },
    {
      "cell_type": "markdown",
      "source": [
        "#Physical Optimization"
      ],
      "metadata": {
        "id": "WNr0zH_A6T3w"
      }
    },
    {
      "cell_type": "code",
      "source": [
        "import sqlite3\n",
        "\n",
        "# Connect to SQLite in-memory database\n",
        "conn = sqlite3.connect(':memory:')\n",
        "cursor = conn.cursor()\n",
        "\n",
        "# Create tables and populate data (as needed)\n",
        "cursor.execute('''CREATE TABLE Records (\n",
        "                    ID INTEGER PRIMARY KEY,\n",
        "                    Data TEXT\n",
        "                )''')\n",
        "cursor.executemany(\"INSERT INTO Records (Data) VALUES (?)\", [(\"Data1\",), (\"Data2\",), (\"Data3\",)])\n",
        "\n",
        "# Implement physical optimization techniques (e.g., indexing)\n",
        "cursor.execute(\"CREATE INDEX idx_data ON Records (Data)\")\n",
        "\n",
        "# Execute optimized SQL queries\n",
        "cursor.execute(\"SELECT * FROM Records WHERE Data = 'Data2'\")\n",
        "result = cursor.fetchall()\n",
        "\n",
        "# Process query results\n",
        "print(\"Query Result:\", result)\n",
        "\n",
        "# Close connection\n",
        "conn.close()"
      ],
      "metadata": {
        "colab": {
          "base_uri": "https://localhost:8080/"
        },
        "id": "cIAcO3Oq6WfY",
        "outputId": "d7910df6-4d09-4403-9b56-15da4c3aa5a1"
      },
      "execution_count": null,
      "outputs": [
        {
          "output_type": "stream",
          "name": "stdout",
          "text": [
            "Query Result: [(2, 'Data2')]\n"
          ]
        }
      ]
    },
    {
      "cell_type": "markdown",
      "source": [
        "#Indexing"
      ],
      "metadata": {
        "id": "vpyvlrC56mXC"
      }
    },
    {
      "cell_type": "markdown",
      "source": [
        "In SQLite, an index is a separate structure that stores the values of one or more columns from a table in a sorted order, facilitating faster data retrieval."
      ],
      "metadata": {
        "id": "CE9Gbvps6o8x"
      }
    },
    {
      "cell_type": "code",
      "source": [
        "import sqlite3\n",
        "\n",
        "# Connect to SQLite in-memory database\n",
        "conn = sqlite3.connect(':memory:')\n",
        "cursor = conn.cursor()\n",
        "\n",
        "# Create a table with sample data\n",
        "cursor.execute('''CREATE TABLE Employees (\n",
        "                    ID INTEGER PRIMARY KEY,\n",
        "                    Name TEXT,\n",
        "                    Age INTEGER,\n",
        "                    Department TEXT,\n",
        "                    Salary REAL\n",
        "                )''')\n",
        "cursor.executemany(\"INSERT INTO Employees (Name, Age, Department, Salary) VALUES (?, ?, ?, ?)\", [\n",
        "    (\"John\", 30, \"IT\", 50000),\n",
        "    (\"Jane\", 25, \"HR\", 45000),\n",
        "    (\"Doe\", 35, \"Finance\", 60000),\n",
        "    (\"Alex\", 40, \"IT\", 55000),\n",
        "    (\"Emily\", 28, \"Finance\", 52000),\n",
        "    (\"Michael\", 32, \"HR\", 48000),\n",
        "    (\"Sophia\", 38, \"IT\", 58000),\n",
        "    (\"William\", 27, \"Finance\", 49000),\n",
        "    (\"Olivia\", 33, \"HR\", 52000),\n",
        "    (\"James\", 45, \"IT\", 62000)\n",
        "])\n",
        "\n",
        "# Create multiple indexes\n",
        "cursor.execute(\"CREATE INDEX idx_age ON Employees (Age)\")\n",
        "cursor.execute(\"CREATE INDEX idx_department ON Employees (Department)\")\n",
        "cursor.execute(\"CREATE INDEX idx_salary ON Employees (Salary)\")\n",
        "cursor.execute(\"CREATE INDEX idx_age_salary ON Employees (Age, Salary)\")\n",
        "cursor.execute(\"CREATE INDEX idx_department_salary ON Employees (Department, Salary)\")\n",
        "cursor.execute(\"CREATE INDEX idx_age_department ON Employees (Age, Department)\")\n",
        "cursor.execute(\"CREATE INDEX idx_age_name ON Employees (Age, Name)\")\n",
        "cursor.execute(\"CREATE INDEX idx_name_department ON Employees (Name, Department)\")\n",
        "cursor.execute(\"CREATE INDEX idx_name_salary ON Employees (Name, Salary)\")\n",
        "cursor.execute(\"CREATE INDEX idx_age_department_salary ON Employees (Age, Department, Salary)\")\n",
        "\n",
        "# Execute a query using one of the indexes\n",
        "cursor.execute(\"SELECT * FROM Employees WHERE Age = 30 AND Department = 'IT'\")\n",
        "result = cursor.fetchall()\n",
        "\n",
        "# Print query result\n",
        "print(\"Query Result with Index:\", result)\n",
        "\n",
        "# Close connection\n",
        "conn.close()"
      ],
      "metadata": {
        "colab": {
          "base_uri": "https://localhost:8080/"
        },
        "id": "uU0SPs-A6pTi",
        "outputId": "37b834e4-6a44-4fa3-ede1-210cbe66303e"
      },
      "execution_count": null,
      "outputs": [
        {
          "output_type": "stream",
          "name": "stdout",
          "text": [
            "Query Result with Index: [(1, 'John', 30, 'IT', 50000.0)]\n"
          ]
        }
      ]
    },
    {
      "cell_type": "markdown",
      "source": [
        "#Transactions"
      ],
      "metadata": {
        "id": "Ledqrgie7GHp"
      }
    },
    {
      "cell_type": "markdown",
      "source": [
        "![image.png](data:image/png;base64,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)"
      ],
      "metadata": {
        "id": "FdeSccsF7GhR"
      }
    },
    {
      "cell_type": "markdown",
      "source": [
        "![image.png](data:image/png;base64,iVBORw0KGgoAAAANSUhEUgAAAxYAAADZCAYAAAC96KZbAAAAAXNSR0IArs4c6QAAAARnQU1BAACxjwv8YQUAAAAJcEhZcwAADsMAAA7DAcdvqGQAAEAuSURBVHhe7d2/ax3H/vj/1/32ViuICps3qHAaVzpFChuuVQYZF6eycIrTBjdGGGJUCV1iizQh7SliXOkUwiKlHLCLgI8rw4e4EAQJ4mC1+gf0nV+7OzM7++usZB8rz8dlc3XO2Z2dec3sj9mdXf/nTBEAAAAA6OH/c/8PAAAAADOjYwEAAACgNzoWAAAAAHqjYwEAAACgNzoWAAAAAHqjYwEAAACgNzoWAAAAAHqjYwEAAACgNzoWAAAAAHqjYwEAAACgNzoWAAAAAHqjYwEAAACgNzoWAAAAAHqjYwEAAACgNzoWAAAAAHqjYwEAAACgNzoWAAAAAHqjYwEAAACgt7nsWJxM1mXhydR9ik1lZ2FBFtS089Z9VcGk4+bV0/rkxP3S0oeJrHvLz5RGBZu3HVWalt7uqPnXZfKh4nNfrdI7kcl3Kg553di6yGNSSsP+3lRPAAAA+PLNYcdiKs9G++7vmD6xXZUt96nO9MmCLI9uyMHpqZya6UBujJZrOiwRfZJ8fSQ3XmbLq+n9WESn8d1E5aSfxeFzleaGDNznzlY21PLPZbjkPn8SizL8VcXhUUWuP0ueAAAAMA/mpmOhOwL2rkB1x+Fk8lBGe2syfjmWNfdd0oeJ/LwtsvnSP3EfyMbLTZHtn1tc5VcdmF9ULh4fyMaK+0pbGspzlcba1yLH53WnAAAAALgE5qZjMXiU3Rk4lPFd96Xv7Y4sj/ZVZ+G5DL9y31X550jUnHLL7xTk9uXoH/dnpWM52nN/xlY25PmjoQy8q/JFp8hOwdCfbHjQ22xYlR3+lBoK1WnoVjDsqBgeVpryOzRuGFP+W8Wwp3+i4V/BHZ54KFTEz5P523YSt27btHbeunyW7vi4dM/hThAAAAA+jy/k4W11Qno7cQeh1rvSXYWTo3fqv2tyraljIgO5P14T2V5NnFz77Anx6p9jOfSGS71TJ9LhcwX7Mrp9JA/MPOnhT7pTEQzdcsOu2j2fMJCNbDk3Her8q7KO1/XadD6XZfT1gfe7Sv56/IyHn089HcimjkHb4WM+MyxKLa/+3HTDyTZW3F2jvRfy2q+bt8/snaj/DWXRfQUAAIAvyxfRsZg+WZWtu+rkvWpsf8yc1P4kN91Hw93xkMcPWj0DYJ+BsCfGeQfDTN7JuDkh3pSDX70T4qWhPHgssvVLePU9HJYVO5Hjaz/J4fv7xTxLV+WG+r93RzNcw3dlNXd3dFk/HMvV/x3KoelkWIvXTOqlztfsw8daWrmlYrovL/4oyjX9XXUa796RmzybAQAA8MWa+46FvpK/uj3L1exFWcxOVPWwHH3Ho0vnxIjuBOiTbNmS1Ww4k7kDoj9nnQ47rW7rZX1Nd0kWZbCi87voDYdq95B6iX6TlSrr2viwuLuzNJCBSntxyRsOpeNRksjnV9fUt22Gj7U1kFuq47X/22vX8ZrKK/08zPfcrQAAAPiSzX3H4vgv/YaofRldL07c9dua9LfZ2P26ZxHM8w9Zp8K/szALfSfEdS5eZUOUdLp+5yObOq4re05j+a8HLg13t6STqezo2Kg8/TT01549g7EsR9+7/JlyfB6D9bGsZcOh3r5S0ax6HgYAAABfirnvWBQPdXvTe/1WqDUZv7efnwcn0Rn3/MO2mKv33U701Yl47YPE9sq+GU4UPy8wE3fVXj+L0OmOik+XV9/liIZmae7kXT+/Uf+MSuLOhHkQvs1zKR0s3ZQ7d+1wKD0Mam3sDQEDAADAF+kLeXi7STbExz3/YP5hu2UZ7dmT9bqOR+ofqTPPdOyNZLn0W/YQuXtOY+W+jNUJcvgQtLs70OUNRx+ORQ+q8p+nOJn83Gko1PSJLq/ubJWf5bBDtvznKVTZ9et0E7ZuR2Xxyzuj8nMii3Lz2zXZHy2bYW53vmnf5QMAAMB8uiQdi9DJHy/MUCktGy7lT03/enZ2l+Rw/C56fmJVJLirYP/BuIPH/nMWq/Ku6x0S/e9jZP/4nktHD4nSb3bSJ9/Nb4aydzxKQ8b09GRqHkS3b4HKvtdDovRrfeNOke6Y3JJX+fKqg/X4oMddFPt2LV0GnZ4f98XhAzvUi4e2AQAALoX/nCnub+AT0nd2bEet/SuEAQAAMK8u5R0LzD871IuHtgEAAC4LOhb4tMzzLwuyPJLk8yAAAAD4MjEUCgAAAEBv3LEAAAAA0BsdCwAAAAC90bEAAAAA0BsdCwAAAAC90bEAAAAA0BsdCwAAAAC90bEAAAAA0BsdCwAAAAC90bEAAAAA0BsdCwAAAAC90bEAAAAA0BsdCwAAAAC90bEAAAAA0BsdCwAAAAC90bEAAAAA0BsdCwAAAAC90bEAAAAA0BsdCwAAAAC90bEAAAAA0NscdSxOZPLdgix8N1F/9TGVnQWVjj89mbrfQtMn0XwLO2rpyNsd89vOW/c54WSyHixrPvcuR+gi0vzckmUy8V6XyQf3GTNw21JFu08J23D35eu1TO9fVfd2P7U+uegt2q4n3H+dd/1eLvO3r03XV378SuX1w0TW422JfWshFZ9Ptk3Ool/eLuP5w/zW4Ty3o0/jct2xMA1tVd6ND+X09NRNB7K5veqdNGm24lf/HMthPt+pHI7fyar6vq4TkbI4fK6W35CB+4weVjZULJ/LcMl9xgwWZfiratOPZm2RfZdHs4FsqH3O8+Gi+wxUSWyPqpOwur0m4/fq+1+Hag4A87FfZd9+qToW0+cj2b87lp+CClWV/H4sa4/Vn6bDoK/+rMqWmu8w2iHrDsLheE22bnNVBwAwn06O3qn/3pCrXIABMGfmuGNR3P4NhixV3s47keM/3Z+xpaE8f7QhgxX199tnMtoT2fw+fZVncfhANmVfRs/bDxMohpHYPC+P9kX2RrJcyq+9U5KXJTX0qqQ6zXy9brhWsS4Xu3w9FbfE3+o7PMV88Z2aeKhY/Ltdf/F76tZfnIadpyZOqdv15k6Ul07UBkpxMFO5c9hUnkCQlpqCYQjltlmUvVsdN+aptuxV+Si+L3TJV7h8XM/F5MW4Nl6FsLzlOippqPtq2e3oqS2LWz6IT5ZmIq+N9VJb3vS60/OE7aZ+GSvIm45HapvRzPersqX+3Lpt56/dxhOxrdzGXfmL/DuuvkrfO5XpZfUclDerp6Jss+9zNJtevIxJ05Td/n5u+++mbaJ12/a3Ry+Pqmb1HfZ4OVOe6yN1FFPHses67aht/BOuN7UfrGr/Wfyrtofwexcvv9yuzP58Ns22dVzeTvK0WsazMT5ynKdtpqZtUE2leETq52+/7Rudtr2aNm3SUWXPzwOK9ty1DswU57ep/Tf9rsT5yOaprsMsb+X8FulE220pDnaK67R9nUd5aJn+pXI2Nz6e7d6/cnbl/q76y/t85crZ06n5Qnlz9lR9vvLjG/c5Mn1q5jdTnk7o4+499ftTlVK1Nz96y7s0izyUxWmaz/H6/949u6fSubdbfNsmL5lUmnb5uKwubl6MSuvJ4uQtZ+e5d7b7t/+5vEwWh9LvrnxFnOL6VKIYmDTiOJn1FPlIxd/UTxxvXR6vzOl5qssTiPOgltLtrqi7om369dm1jhvzVFX2PGYV+ci+z+MR5z9OJ85LuQ2Fou1wxnjZdcZ13aLu4zaT5PKYSC9Is0O7DeulrryJdZfaxizLZHH02oybJ8yPz6brx9Cvj+J7t/6abSjOc6ou6uqnKb04zvH20bh8Vq5E3dl57O/F/JZZj7dM/Nko1UU5f4GWbaQ27zn3m1c3tevWTH6jNpG1/7iswXzVMbT1Us5L+jurlM8sD3E7c5+b69h+Dtuu4tL1v6tri8n45Gl735fqvSk+ser5y2WqW28Yh1TZ6sqbbNNZXUTtqFRnpfK1yG/VMlm9N24frjyJtpCnYdaRrsM4H366pTbfYruoasfpOo/y0CL9y2b+OxbRzqpUwSVuOV2R+VRUYLmxlgUbaG0DsuI8mc/RRmzSjMpSaoA1UmkmG+ffb87e/P3x7KP/XbwRx5+NMC+pndTH3V0VB12Gj2dvpnodQQkTG1N5w/moln+jJj1Xqkzhcuk2EK8rjr8R7djqyxMy+QvKFucjbqtW1zpuirFeR2m5oFzpfJTyq2Ou24T9ZMQxCz/H5fWV1zlrvErzJeq+vvx1UnGP86Wl8lDeP/h11VzedJ2H9R3P02KZqm0qtR/I2XTDeKXikKXjyp48aEfzlPKTLoPRJr3ssylvlO+Z8mMV+5x0myrWmf6sdd62m9pIsh2/Odv9cVdtq+5jrlxfcdxKUvFKxicqQ4v2X1p3sixO9JtO5959f3mvntvUsZs/rIt0vTbnqyEWTnkbrI9PoKpNJspUu954nlK66TQyqTZt04jj0+LY3ia/qXKrmO+qetNlnm37UNy2bOZqUYfpeonWlayj5nSqzh/iZdukf9lcwtfNugfd3APZp/r5CnO7zN4qu/p/a26+T8kN0zIPkfu30+wwhX6icbZLAxksLcrikrt9rtdzu/taBv/dLG6dqknf1lscDmVjRT9AuCiDFb2ORe9WZViWqjHAi2r5gZraPdZ0LEd7Imv/d9V9zlyVa3dF9v86dp+b1ZcnZPKnylbcql02w+dKvr7qlaN7HdfnyZZ9f7Qcpmdu/0aCfCTomOs24d0StkMpups+0bHYlAPv+aTZ4qUtytWv1f/9eZwYstCh/OfItls3xMSbVrft71rr8p6zym3q2g331zn658gbZlBMQbtZuWWGjb74I7vl/0pFblMepB5abJOeop9zO/habxP2JRwbeviq1mL589nnpMywbTe1kaWbckftw7IhanZ4xkCGj4ZqW3XzfAZt2v/iN3fUMXVLXrmhHCd/vDDPNt7P6srnyvnuSLeRqbzaXpM7/9PDjd/JsR664trMLb1syzaihceET7evaBMfX/0262Iwiy7bXq01ufaV+9NoPra34vKX16UefrU0VO1bbYvq58btw7SFOG+K25bLR+0Ut912Ou6kdTl/wL/h37HQz1e4zoXeCO0GXewUy/TOT21u397scSBKWwveVlVM5/v2gOzkcVmOvnfreKk2iq7M25n08ocy1ifxbqedjRvMxhsu//XAzXegdiSfWIcdQ1N5fPkO9Zdr7q1hdpk2OtVxizxtviynpaf8hKuNfOzxz3JNv0VGLa9fUtCVjos+gG6+DN+A1ideTc6l/F3pFzsk1pm9feciyztfVAcyjoGZsvofyH3VjvZ/e222w+nv6vTj8a2ag35Tepo+GViTzccq3dKFgzbLX5wu23ZzG/EugJn9c3ay2vDcxqfQ0P71MfXBY5Xj33VOT+T1b+oUsPJ4uSg3v3VtRJ/83r0jN5cGcuuxPR6X28zsdfzJ9hVN8WltX47+cX921nXba+98ju32zUh6eXOsiZ7vmIt96N6R6pK21OH8AZeqY6Gv0NfvlG9cU5v9yn3TMLZ+qXqw62e1i1+TO99020XUsz3kbCdwodyVC71z7rNDPZlMXCyLA+CBOpjYg73tfJkdecUrSauuyJx86BKBqjsT7k5Gh85ffXl87kCpTyI6HSi613F9nmzZ7cG7n+yK4mGf1/i+3TFXDnVcwnbVIV6ljmDVFSXt/MrfhWm3ey/kdeWVxFnbR3/2SnFimzJXRc/ZV9fUuuouwFgmTyZe9mr0eL3i1KZleuaO2NcPZOPRTzL+c7U4cLdYvu0+J97mj/9quq7dddtu00amMsnKlp20mAtgPa5in4Pm9m+ZK7jbr2T64bW82Ku/Up61kWe/v8v32Xr5/d+eySu1/W/+17WZlm2k7NPtK9rGJ1PZJs026+7UzKj1ttdJ87G9lQ8Tmbh6tK/jV+npDrQ5mW+xfZi2kOh4qW253TaoVd2ZcMedDh2x9ucP0C5Nx+Jk8lBGe/qqT/Z2gIzqcPww8m7VqobxP7UD1z3oxNs09MnT5stz+HcUot7wYN2t03/zgbsNaA6e2VXlxJsRci162HaH5e/IVPl/6XgjU+Xl4WikYul31NydHPXXyYdjtQa1FnN727IdMo/pwO3L6Acvxjrd66qn78e9tkyqrr7XB7DV4A0K0yf61myH275N5bFfOO62ur/DcG8Sa9JYx77GPBVl95fNrvR0eaOEOXEK4jyVZ4nhBZV029TD6R4fJK7OdoiXis3DoCx6m606ILYof1Vs+8ja7fWwXsxdQNNuZ28fvS3pYSVR3kw7aq5Lf1ttJbsqHbx6Oxte6a0/z5PaJs3VaPd9rE16qj5XtzflwJzQ2P20jB7a+dss37jPcSca+oTY/urW6f72dd1/B5rbiN6HjUbLYdvWFwDc3+djhivije3fMUNd1PFWDzdqOkFzbWRre99e3NP0iaM6Xm+pTkl+ct22zZXMuq+8wPhkqtqkuUhzv98dhrbbXqbF+YO0ObY3UnWmzrlGt8PYm7sqqgOo19G4D83bQhRntS0vB22hvg6z7bb9cSeh8ViNEvesxRxwD9TkD8iUH1jTGh9acw8k+VPVAzLmgZxo3nh9qfSKyeajnCf7YI4/j+V/ryfvgR73sFJp/blymlWxsN9n8+oHoFwss3lbPkwUxyeIY5bfbFL5ztbrP3BVm0aiTMm8xesqPUSViEPi4a/6vPiietLrc+3ALpNum1ZNHSc05ikue1DOqnyUvw/Xo/Pk8uliGcYwXD5uT2E6eo728QrTimLTpu798gfriNk8hb+l4pWOYft2q6ZSeVPrdmnmbTeep80yVpC3fN3V7cyPuU0/XebUdlSq+2gZo7YeQlXpZd/HD2tmZc2+b5Of+rpzZfeWN2kGMfbr149HVO81MS/NW2ojSu227SvXl41D1fyWHwcTv2Q7qWl3eb7SdVtVZyk2PT+/rkxR29bq6zidX6N1PK1SfOpiUbcNJpaJxfOHMWuz3opyt9727PJ2/S4uVfuNOI7ZNqL+7hQnl7d8CmLo58f9lihLfVtw63S/VectWlfcLlpuF+3rPFq2ZfqXyX/0f1wfA/oKlLsy+1n+1WG9/t9v8S8eAy3pq5IP5ad/zb9yOn2yI6L/TR732TD7LZGDz/Wv/3/u9eOzMHf4f7tT+odm8Qmx7WEOXf6Ht7vQY131OFf99o/Ubc2LlO0g6FQArWQnNuG/tH+JqX3E6vaWrAbDJaeyc3ur/7CKmZ3YoZbn9OAovhR2OOVFvOQEbbHtYT5xxwIAvhh6PHf4+kf9EOTnuGNjOnb6+Q79YgCuWv9r6LcGmedSPtedfbDtYa7RsQAAAADQG0OhAAAAAPRGxwIAAABAb3QsAAAAAPRGxwIAAABAb3QsAAAAAPRGxwIAAABAb3QsAAAAAPRGxwIAAABAb3QsAAAAAPRGxwIAAABAb3QsAAAAAPRGxwIAAABAb3QsAAAAAPQ2Vx2Lk8m6LHw3kRP32Xi7IwsL6zL54D5/AaZPFmThydR9Ql+peJq2srAjFxvlE5l8170uL6L+TZoLaoq3j0thtjinJPchuCSmsqO2gZ237mPKh4msf2HHi2apctvv1ie0dADzhTsW+CItDp/L6emGDNzni7Eow19P5fTRxa6lkepcr26vyfi9ysuvQ5UrAP9uA9k4PZXnQ/YGAOYLHQtgzp0cvVP/vSFXl+xnAACAuXQ2J3bvXzm7csWb7u+efdQ/TJ+qz/fOdqe7Z/e8359OzWKeN2dPvd+vXHmqvqn25kd/3iy9jy4f5WXt/O77v8O85Hkt5UFNP3opVS6n2WXv7b4JYnFvV8+R5ctNfpq10mnG5fu4e89+Z2KtfvfylY5TtkyiHlwa+fczlLkoX3U88zzbT3Z59VuQ32BdVpZvO6nlXf7K7Ukr0rVmz6/RMRZPp1G9R8tU1Y1R2m6KOg9jkLUxp/X2Vl5/kI5Su55ARf3pfPztZsnFMY7agP+bjlXcHpWw7WhuWS+2zXmvyoeVryPbpsyUKo8vTrM8f32+KuLYuB2oyWun5rd4GdN2i/yUyufmr/pe69Zeo3mCOCaWV0plyvOb2rbMIuV0/e01sVx5HqV2u9bq24pWWR+V5c7yFq2pLsZty1MbEwCoNzcdCy15QMt2ct73difsHXTdjt3fyeYHOPfZV/rNrcPshFMnmsF38Q69fFJidu4VO2s/XTNfvlx28PHK5e3g8+VS+atUHNBK6/XKnx/UgtiXyxWuuziJKUTfzVLmRF2m4hnWoVtvsC6XtrecLbe3ror4FOIyzp7f9rEo56XclpvqRsnbTrgN2Bj439n15vnPlvPStuv341a9/iydxvUEivrzfy+tNxHrODbms5+vLO1SOyi3lexzY97b5kPNU16vn66nMs2i/FX5KtZRxDEuW30+wnnKMVRM/oq85OWL5kt/36G9evPE5c/yWZQtIcqn5coXL2vWWU6/qINsOW+eUj3Fy8RljX9X3+j4e+Vsrlf7OSx303qVirzWlieul1JeAKDeF9KxSB8osp2h2TGXdnzxjrcQ79i1j7u7ameq0yifiNgDnNvxl3a82puz3R93z964PJbzY9Ms5SVIK5Xfcl7S31WpOiiE6yofwBUT9/JJkB+7IC5aUJ5ZyxyuI/8clSFcdzomzfWmuBOa0vdGnO6s+W0fi3JdxWVVWtRNslxmffG2FKXfYntLz6PSUdvPGzV9bLOegItztE3m37uYpNpBnDezjiidcL16/ntn9/x69ePZIu+t8xGXtaoNKnEbsj6aeL6Zqm+rlg3qos92YOtOz5OKYRwXm2ZVnKLv/fh6yu01Ti9qd+5zKn65ZP3Z5eK42Lbql3KG7T0ZT+94oGOq1hGspWN9ZPmI1xHkrWqb9NcVL+M01oPK466KSRg9AEi7BM9YnMjxn+r/tlftW3PyaVW27Awlg/9uiuyNZNnNq9+ssTgcysaKfkh3UW5+u6bSe+XeOHQir3/bl7Xxffug8NJNuXNXZOt2th79ZqKBDB8NZVA5Bv5YjvZE9kfLbhk3XR/JvpvjIq3931X3V+aqXFNl2P/r2H3WwjH8dlz/lqz6+VXT6rb9XVv85o6sqXleubeVnPzxQvbvjuX+iv70ectc8s+RWu+aXPvKfc58dU19e9Hax6JcV2Vt6saKymtisC+j6+Fyy6NuNVL1zMei2n4GalqcdT1fX40eTF+Uq1+r//vzWG2F3bfzjG2n7+RYvyno7SvZuntHfvpe7QNMuiLT31UKj2/Z7bsx77Pno5pLM1F+Hc/Bivq2tv3uy9E/7nOTqnRc3XV7TUHVcz/d9yWfQrxtmba6pGJr3jyo87QsI7WddrLUcDzQMVXrWHRvcdLzBNvBOdVH5TZ57Yb6r2v7bazckk2//es3rC0NVXm6tg0A/1aX5uHttfGhnJ6elqbkWzNWNtzvhzLWJ9juhC97dd/i8IHauboT5g+v5cXemtz5JkvHvSlIL/9SnZzkB8zmV59uvizy5U8b5kR8DqlOwmEiv/mbidQB58FjFYHfdcldB+zbm8HJ0RdX5gt0rrFoqptKm3KQWu7c37B1MevptJ1nzMnfvrz448R0Ikwb1SdQey/k9YepvFInuJv/9XPVnPeZ8nGB3h3N+WtHZ26vF8e+slrtu3+55vJmjwfdNBwPzOtv9eef5Zp+q5ua73B88ZcyQh06nqqF67dN5fnMLsDxCmcALV2CjoW9qrn/2+vWO76TycR1AoqDwoE6QS6u4A/kljthNlfhHz+QYX4laCqT7N3hWQfl/bi4Ippk7xDYE/BPL7wzodkr6HVXx82VLnPi5b6oYO7+6Ls7pQ7Y5y1zibsSVzrAmiuGF+18Y9G2bkrM1e3iDtOsqq6Cnnxw28Ws63F3EAr+lfzu23nB3oXc/+2ZvPoza6N6G1edjeevVEk25VbWuWvMe598VPHvzPhOVEzdn1V3JtwV72K7a1CVjqq7YN17R2ov4emxnczcXi9UdidadRB7dW7qjwfZXdzD0+feMcTTtj4aVG6T5k6G176bqI7QxLV9+0pvVR7dYYrbAwBUmL+OxQw7sMG62pHrKyv+P7Dlbm+X/gEhteN8OBrJanCHwV611NeRsrntCfOquW3tX82cPlmV0Wg5SNccPNzfueAkQXVg9NALlV6wnLtiVvsPPjWpKqdPrddfhy7DljrYPKi7urpyX8Z39S3xME7mdr5/9crMtyWrelhP0AE75zKXTrq6cp3F2/4/nqXKc3v2ASy1LrL+29ZNLLvDFMTA/eN0Le645bL1/+CtS29X15fzoRMzrUdtww+D+DyUkeqsjtft9td6O0/sQ8xwqL0t2dorhotc/T91Sre9pdqtGwaltch7p/1NS1macfmXr7s083xFda7bb7DdNahKR9XdsiufPUn1O1c9t5NZ22uF5rszba7Qu+GJ/kWXt886D4VqOh4c/6X+CtrjVJ75Q6Fa1EemttxV26RaVz6Mt5Fq5z+MZHQ73CeZoYL6To7q7HTeVwD493HPWswJ95CdmdwDZ60e6tP8ZfVUfpDNZx5Y8+aPH2jLH+RLPHSYPXBXLB/N4//uPwRZu1yqTKmHMaPvTHxS+deKNMPyhvkNH/ALNccpW77iocrOZXbrrIqb+z7Mc4uHVp0sr3leXNrpB0JneJhTO7f6t6rqp7ZuKh7m1MIYqMmPW+vtrWH9Su16AkWcw2VS+bd5qZ7H/70c3yAPrj6qY56lEy1n1OcjWWe1bU1rKls5X2HeZ90OqpbJflfLmrwX+UmWT6n6XuveXm08/Pn8fKXqTfPXY2NdTseK4q231WB/ml6udns3U1j+sNy6jG69Xhpd6qMxb1kaaqp94NsplcfFIJ/y31z7qqhfAND+o//j+hgI6Kszy/Li28O5/9dN9ZXvh/JTIp/6quCqvBvPfxk+hZPJjrz+ZiO8uqvHQF9/IXfeVwxVAAAAQCv8y9tVzG3xDmOXPxPdqVj+7Y78RMehnhkWsBUOFXC3/sMhXAAAAJgFdyxK7FV+PaJYv8Xny357EXcsQvYuVDCO+vGBnD5qNwIZAAAA1ehYAAAAAOiNoVAAAAAAeqNjAQAAAKA3OhYAAAAAeqNjAQAAAKA3OhYAAAAAeqNjAQAAAKA3OhYAAAAAeqNjAQAAAKA3OhYAAAAAeqNjAQAAAKA3OhYAAAAAeqNjAQAAAKA3OhYAAAAAeqNjAQAAAKA3OhYAAAAAeqNjAQAAAKA3OhYAAAAAeqNjAQAAAKA3OhYAAAAAeqNjAQAAAKA3OhYAAAAAeqNjAQAAAKA3OhYAAAAAeqNjAQAAAKA3OhYAAAAAeqNjAQAAAKA3OhYAAAAAeqNjAQAAAKA3OhYAAAAAeqNjAQAAAKA3OhYAAAAAepvLjsXJZF0Wnkzdp9hUdhYWZEFNO2/dV0nFfNlUP3/BrH9hXSYf3BcXxK5nR+UUAAAA+LLNYcdiKs9G++7v2IlMvluVLfep0tsddcK+Ku/Gh3J6emqnl5uydbt95wIAAABAe3PTsZg+ye4sVHccTiYPZbS3JuOXY1lz36VMf1cpPD6Q58NF942ysiEHj0W2fuf+AAAAAHDe5qZjMXjk7iycHsr4rvvS93ZHlkf7svnyuQy/ct8lncjVdZXOo4H7HPnzWM1xPorOUPVQKzvcyZuvcoiXpu/I2PnWJy6X5u5L2+UBAACAz+MLeXh7Kju37V2IjRX3VaVFWVxyf/rUCfrqtsjm90M1R1+2A7D651gOs6FW78fy7rbXIVB0x2N5dEMOsnlOD2Rze7Wic6DTXJbR3qaZ39xt+TCRdVXuzZdtlgcAAAA+ny+iYzF9sipbd9VJfNVdiCr6xDy70n9bzAl7c8ekhbfP7JCs/3mdlKWh/DRek/3RM/swtlr3z7oj83JDilwPZOPlgRz8V3eVfH6nwpv/nyPZlzW5lt+hUcurDsxY/UXXAgAAAPNk7jsWeijR6nZ0Et+WOtl/nt8tuCWvzmko0cnRO/XfG3I1ujOyeO2G+u87OdZvkyp1CpyVgQz05D7q+X82nQqRtfF973tl5ZZsqlRG113n6LuJnKgyDVUHq2MXCwAAALhQc9+xOP5LvyHKO7nW0/WR+kbMW570Z3/4UbWB3B+viWz/fMGvkd2Xo3/cn63sq/+N5cDc7XgY5W0gG65jdKjzvjeS5ayD4eYAAAAA5sHcdyyKh7q96b1+K9SajN/bz8Hbn9zwp+rORvlOQ1fBnQmPvZOxKbf0cKuvrqkcJjoZH06iTsGmHPw6lMHwJxnf1R0o79+1UGWZuAfCF4fPbdlfbqoOxpEc268BAACAufCFPLzdJHubkjopXxrKg8ci+6Pl8C1N6iT9of73MR7fkoE/v/u5k5X7thPwg3fnwKWfD2dy+di67a9jKjvXl2U5ud5FGf56oLoZW7JqhmupPP4wklH0b2+YV+nqt2Zd8D/eBwAAAHRxSToWIXOXw/2DeP7wKdH/YF7rB8Cj4VfZZIYh6U7AqRx87YYm6Umlf+NlePdE5+Nw/E5W8+VXZevxgZz6D2gH9MPdmyL6zU/fvZabah1xOcybqH5Vy/e86wIAAACcp/+cKe5vAAAAAJjJpbxjAQAAAODTomMBAAAAoDc6FgAAAAB6o2MBAAAAoDc6FgAAAAB6o2MBAAAAoDc6FgAAAAB6o2MBAAAAoDc6FgAAAAB6o2MBAAAAoDc6FgAAAAB6o2MBAAAAoDc6FgAAAAB6o2MBAAAAoDc6FgAAAAB6o2MBAAAAoDc6FgAAAAB6o2MBAAAAoDc6FgAAAAB6o2MBAAAAoDc6FgAAAAB6o2MBAAAAoLe561icTNZlYWHBm9Zl8sH9GJjKTjCfmp5M3W+ZE5l8p77/bqL+qmLTWZ8Uc0yfpNJCWjl+n4NpN7X1/KVxbbeuXZ9zG7Xb3o6q0fPxpW1H59uGLqaO5tmF1vfbHdU2q44FKXa/tPPWfWyr83ow986xTs97H1nl8h3PlA8TWY/r4V+6vX2qdvS5zFXHQh+Ylkc35OD0VE7ddDgWGV2PTlxNY1yVd+PDfL7T00MZ/7k6Q2UNZEMt/3y46D6jG+J3EU4mD2W0t2m3hUcD9y0A4HNZHD5X5xob6qiHc7GyoeL5XIZL7jMuhfnpWKje7M/bIpsvw41Wb8gHj9fkhhzb3rvu9d7ekjXVqQhPZhdl+KvqXNzdktXL1tPHv87xX/sid6/JVfcZAABg3s1Px+KfI1GnUkmDR89lYzhQXQeR6fORmm9THiSvkKvOxfebInsjedb6Frg/lMf+vao6OLKt736Et/bt7Sv1nZuqh//YYRDx76Xbm+bWYJFe6tanGV7gzRPf2m/63bLlKqcfDRUzd4K89IJhDcXQjmydfszistbnKz1MwSzjr7M2Pxmbr+WRaj2q3pf1fKo8/8/VVSkeLk3zfXYb9m1UD4n1NNV9u3ooVM/vtcGsPMlyl7XJQ1yO+rRdnav58vK2qpP67ahNuw+59ptP5Vvn9fVTbrtmytebbkPmt1IbKe6Itt8fpLVZPq7TeJ7G+myKddPvn6W+i3Znp/Rd6Mr4mTyvypb6c+u2/a3YFuK0K4Zh/BPluVTupnSa19O+/bi0vPbrz1u/3ffPh/k92W6KtGwaqp6y9uLN37UNl+LQqg1m4vKW206b8lRt93k57VzlcpupHON4G9h5W9RpyH5/rvui0nJ2Kh0fmuLc9LtSVdcmf9f1udu+GYGSxyjLWxCveH8f1WHL8tRvFzVq91c2b8l1RfFoavdGENM4DpGm+Hfez16gs7nx8Wz3/pWzK1fs9HTqvg64eX584z6nvDl7qpa/t/tR/e3mv7+r/qriz2+9+bG8DvPdladq7kx5uYJdb/zbx917Xl7i5eO8JvL+9+7ZPS82Jj0/T9On1bEzv9072/3bfdb870q/V+SvVOamcigu38U8dpk4n0Hco7Jmy1TVfRhbzeUjmD/6zsUrVa/+ck1136keWsXHrTMojy8uW4c0a8oalsOl6c/fsU6C+swkYlPOlydRDpvPoq02lasoS33ey21ISbaRDuusiE2pzZRi21ynjXmoinWepp2/iG20zs9R3zXl9uu8OX42r/5687S9PJbSSdZ3c93G6YRxzn5vbrN+Oy+49ZV+r45VVu5Z81Eqm78Ozawnro8oLzX5a2rDeTkr6rXUzozq9ZXaTkN5qrZ7W87iu7zcXn5KZXJp+XVn5wmX8yXz2DJPpZhly3np2WW88jbF2aThze9+L8rUXNelGGtxuvEySimvLcpTiolbJtwfpDSVy/4ep2PqM6/L5ljY/PnLuDSius01xr9FfXxCc9SxcLJG40958G3wqjZGyw9wm+DGFaK+CRqJktoglFLjzdn1+mlqZv4sL66hhQ30zdnuj7tnb/R6TBzKaZu8uTT8vzMfd3dVmqn4VJQzS0st8/HvICUbu7qNxYjSLW0AVhgru0ztxplKR8VsV/2eKl0QW6dUP3HMXVsr7Wz8dbeo+0710Co+6TQLUd20STPZ3hSVR133ep5ifpe+HzutY50E9WnEbSpTbpuZdBw+2jxP1beV5fLzml5vHHPzOV6XSSdKv8c6LZ3/j9H21nI7cvX1sbE+7fpLMfWXS6YR74M+bX1XltvUVRHbxvi5z2G9qXyrZT76acfrM58b6rYxnXS53+w+PdvN22xVGaNtznDpJdtmef5im2mTj4ayKsntIipDWD9OlE4mbMMNcUilUdUGq9YX5a1NeWxa5dgEeUt8NoK41m8D5e+tZB6TeZp1X9JiHi/Otr78dUTlqop9Vtf6Q6q+o+Wq9vfN6wrLk0qn+tzIE9RdxtsnuvXE7SLY97WIRXO7CTXGvzHfn9b8vW7WPMxTPLx98Fh9p2+vm9s+V+XaXTPXp2WGaWW38IrJ3K6c1dJNuaPKkt2qt7f7BjJ8NJTBksjJ0Ts105aseuvTkxlu4Az+u1ncLlWTvtW2OBzKxkrq0bKB3FKx3P/ttbs9NpVXKq3N74dmiNlALbO4pP7Kb7cty2jPzBj6+qqZv4rN9w25Gj2MtXjthvrvOzmuu9XnW7klm37M9W29paGKz6D1g3OL39yRNRXDV+625ckfL2T/7ljur9jP1ppc+8r9mfnqmvp2X47+UX+3qPsu9XBu8fG0StOUI1FWlUdd90VO38nP39m6XxvfD2Pdu06O5Uin+3/xkyN2u97/69h9zpzI8Z/q/0ptbtHmeUV9W1Uuvw57i9LvvU6d/0WzvRVDGOzQnUxlnbr6WmysTxvr/dGyS99NZjiCs1S/D/r09d3UljPN8UtaUvlWyywuecNlbqeWaqjbxnQW5ea3a8WwMDXpoROD4YYM8zY7w/Ek2g5srOqOEW3ycZ7bTlhv7dpwQxw6tMF2baeLRGw6q98GuovzNOO2EGuIs6kvtY6q84PGunaf61Xv769+rf7vT/ecbQvdzo08Sw37xBbOJxahpvifR77P0/x1LCKDR1nn4pUKlGtg5u8Kb1+pjWpN7nwzS/XVcW/oKU2zviFCP2zu0nipNoL8AOGNJ1QnwYel9anpV9sZKDph+qH14iQiOZZPGayPZW3vhbzWJ5omTptyy51k5zulX665ddo0z1eXg5V925Qu3+FYHRzj8aZtqB3jA9V2tn7XET2R17+pw+i3N2fYsBvqvmM9VDuvE2Ff1zT1oX4sByrm+6OH0ZjPc6iTOh0OHG29OzrvFJu1WWc2/nb5rweu7RyoVnb+Nl9mbTWcNsx237QPmt/6ni1+2djtZTn63i93V83p2LcHFfkqP+txTseThmNEcz6qfZptpykOF9wGL4Hz2ZfUx/nTnB802DtS3bSWZj4mtzgv+wya4z9f+Z6fjoXqidVWuntDjjk5VkH7OTnviUx+UX31u3fk5nn20swVnOLKd1vxFTnzpp/cVCZZGbKN4L0um73CbK6yZJ2ACieTiWs0RaPSnbDUlUBjSfdq9+XFHycy/V3F6fEtt/N2J9369b1Zp2VGVVfebS++6Mho4YHLXa3IfJjIxMU7PzjqDabLzkUxVy50R/TDa3mxl3roP3Hi7V/Ja1H3XeqhS3zaapVm1VXIDyfRAVod6FUbGAx/UjsufQXL2zH1rpOqK9Xuql6p01d1pUrlOStrVblcHZ7/BQal9zrd3UJ90v8ofRpZWaeqvozG+rSxtp3qKvX7oE9f301tOdMcvyR3MUWfyNqOVZWGfUKLdKZqn2Ajm52w2RMBs89rsU9pw8Sq4RjRnI+W7TiuczNPvXZtuCEOHdpgu7bjzFCe2biRAhXbQH8zbgux2jg3nx801nUr1ft7c26Qn68063xulGvYJzp15y7nEwtfm/Ozdvn+VOamY7Fze8v2KhNvIlj1huzoq9A/maupy1FHRN+W1reH7IlROvgd+I07u/J9239qP7sNnuoRJu6suHJkpk9WZRSVwQzVcX/Lyv3yiZ36y1wp01cR1I7g4WikeqXh73ons6b+SjdhtZF9v2lit7q9JuP1bDO1O7lgo3v7LD0UqkmW7x+8K0omr3rDyIbWuBOOfFiWyq/5dxvcBx3bH0Yyuh1eWTOdIbWcVG0oqRMec4tX9d71EJCKHdPW7SjGeljD4wf23dpNdd+1HlrFp6M2aebliMp6fVmWK9rw8Fd95UvFzmyTM9ZJcJCw7U8PzQjSUNuCPlFLvenN3mUbyUN/O1FtZfm6u/pUVS6/DrtItaFY33V+OFa7+/DgdDL5WcXAU1Wnqr7M9t9Yn0Wsg32Mu/Kl41+/D/o89V3XlnNt4ucE85gTTP9Aq8qoL0Ql1NVtYzp6X6/2Ccv+VXVzYcP93bRPcd80ymJVdYxonY/qsmr2RMnvALh5mrRuw1Vx6NgG27QdZebyzMhe3Aq3Q7sNNGizL+qwLVRrinOL84OmunZfqVTKHVlP1f5+tOefrzQwdV5zTFa/m7cnxeeaSuN5WeO5i9I6Fm01x78535+Ye9ZiTrgHUq74U/nhNMs9/BRN8YNN5fSKyT7oEz3EpLkHYcx83gNA9oEbL43swZmkaN1q3tIDWf56zFQuq3koyJsnyKfS9HuZi1vpAakonvp38xBSlmb0sFAuET8lzlf5gaRwfXr54AEoza0/n0p59vnphXHM6q2Uh/whq6jsiXptqvuu9dAUH/N7ZXnTddEc8/py2N+iNpjVQZaXLnVSsR2V2n1tvWpR/aQejIvKFcY/Ha9yeRNtKG8jZobALOvMxTFQ82Xp+fXW1K7iPJTW17SPafr9s9R3tO/U88f10CJ+fmyyuMXxejrN1hXXd/0+oTGduAxmHvNDrrHucvVtqb6NdM9H3Ma0cB5VRhP/oj7s71HbcXq34S5tsE3bUZrKU7Xdx+VMltu1zSDOUXvN20tlnXfYFzVtC8nlbPpBXdTGOdoe8riGaTTVtf97U96KdKL4tixPZV6yeFXFPo5nvP4ofzpds64ovbpYtG43uRbxb8z3p/Mf/R/Xx/ji6bGG+q6Avi1Yf6sb/yb6Ku3yb3fkML6T9XZHFm6/k/F7/uVPAMAF+DCRnT9uykZwh07fmVmWF9/G/9AvPgl97P/9Vr/hY6g09w9vd6Ef9NYPHukH1PxbQvg3m8ozPSRopoe2AQCYlR1mtBW9CMMOn6n6h35xocwFRZEDOhUX5lLdsQB82R0seXyQvjLBHQsAwAUzd82DZz30w/+zvlESmG90LAAAAAD0dqmGQgEAAAD4POhYAAAAAOiNjgUAAACA3uhYAAAAAOiNjgUAAACA3uhYAAAAAOiNjgUAAACA3uhYAAAAAOiNjgUAAACA3uhYAAAAAOiNjgUAAACA3uhYAAAAAOiNjgUAYO5MnyzIwsK6TD64Lz6rE5l8p/OzI1P3DQCg7AvqWExlZ2FB1icn7vN8MAe/7ybqsFN2Mlk//wPR2505Oth2dQF1eMHxoA49nyDfcbzN54rt62J85v1MbYznOW/nTK1rdXtNxu+fy80/dJtYkJ237rdcVTxcJyBuNx8msq7mr99fV5VvUYa/Hsr47pasPqnZG1xIjObz2AcAKdyxwJdtZUNOT5/LcMl9xhdtcfhc1eeGDNxnzJFPtq2pE+nbWyKPH5h1LQ4fyKb6duv36IT+7StRc8n+b6+jDsRrebEnsvn9UHUHCtPnI9nXf+yN5Fmpk9KG6lx8r3KyvZro5AAANDoWAID5YToMazJez7qXA7n1WP3fn8dBB2L6u+5WKHsv5LV/h+CfI9WBWJNrX7nPxlRebYusjQ9kfDfRSWlr5X6/5QHgkpuvjkV2qzqbkresj91YVzeVbkvb28b579EwlnyohbllrX731mHH9BZT6apUnL+6W+JV2pQxnqdhKE6e7yw/reJYpTp+yTHPWRzzWMTL1w0LsPPGcTbr8WObrSObSr/Zddi6TdSbWz7/vld8ivVkU2qIQjxPU1sp1WFdmZvULmtjvj6ZNmxH2ZjybKprg67O/TRcjP268IeaVG2H+fdu/cujfXOFedmbx6pup03a1F/zfsarMzdVtbt86hXjKm3iEM6jy2vyHrX7MC4qnbgOTXmK7blUh2ZKbO/R9rbz1pU7EVPNdhhuyFXvzsjgv5tRB+JEjv/UHYWxbKpuxNE/7mvFLH/3jtz076y4zsqdbwZy89s1ke2fa/ZLdRbl6tfq/7Zfta+rNvubeJ6mtpDH3M3XZh0A8CmczY03Z0+vXDm7t/vRff54tnv/ytmV+7vqL83+fuXKvbPdv80XZ2d/757dC5aJ01Df/OinoVLdvafSCL8rr0txaT+dhp/9tNNpFezvT1WunOlTM3+epmLy12Ue83sRA/ubF5NSDBJlq1JZxiJ/YTyjdVUun+Uvzpv97JdVM+v40a0xrge3TP57EA9X1uw3I/quKr4t6zCoCyPKj9I4T1MdNpW5TpR2tmwc89T6inmqt4cw7UJVWy/FxX2280frUOJ0zOe4birbmR/ztNJ8VbGeMT55Oo310D3GpTQq41DOu18Pdp5w3aU2mMehukx5OnEdJ9qBn0c7T7hcIREXLS6r+Wzz4rerLN/++vI0a+dJxK5CVm5/H5KL692V35+3KkbV80T5LcU0Lk9FDAHgE5ifjoU7cIQ76zdnuz/unr0xO+n0wcDsgLMd6PSNmvdjsDO1B4FiJ548eJgdtbejd/y0g/Xk6nfg4brjg1vGL1f1PG902XRsvAOXPfhEZWmMYzWTXm3+is86fVM+r+xVMbJ5199Wp+UL8uGVN6fKuKt+N3NEv8f1HcbDxjduQ+mYWUF6VfP5eaicx9Wh+buhDpvKXEOv46PaBgpxm4rrwArqLrV+JbntZKJy6/Tu3ffrIqzrqrTi+jOfozYVtI9culwh3RbV/iGIT7pNNsfHa2OOP09jPcwS4yhvQZ5y4Xpq58m+r23X3vdRnuO6MoK04raXseUof69V/Ram5beLoI2kypL4zsQlynt97D1xXHxBjOrLb+uxep58n+/P79YdtM9k/bXb5wPAeZufoVBLN+WOHrt6O7udq2/xDmT4aCiDtg8LrgzUvIuy6N36N0MpSsLb7CdH79R/t2Q1u43sptVt+3t2212+vho8DJjfFm/lWI72RNb+76r7nLkq11S59/86Vn9XzaPKpcu24j4qL35w+XMPOOaWZo2jK+P2ahCDhYVV84BkYSAb78fyTqW/PLohB79mD0hWx8jmPfy2tZVbZqjD6LrLj77FvzRU5VFpull8i9/ckTWV41du+MbJHy9k/+5Y7pvY2fjuj5bDMl53D3U2SY7dVr66pr51wzGq5jExCPNcWYcdy+zT61hU20AxVGJZRqrMXdjtIdxGtMVrN9xfCUu23b070gMw9Hj2NbnzP/3Q7Ts51kNOzFCUTbnlteHUOpq1aafxEKNsuJNui2r/oOJTDPuJ23ez5v1Fcz3MFONAwz7JPI/Qcr9V2677qN/ndbPohjDZIUjHf6kcf3vTlMts826YlNneo3ZmH9oOvzNDq7z9xMU4332+/PZQFvRD7aosD4ZejS6dw7ETAM7JHD1joV/ndyqnp2p6aXf69sDdMNbUl48z/VmuvbdpHY5bHhrVyeehXnc85SfOF8ycCLS1L/t7m3Kg41R6Q0m/OK6ND8sxUNNz/0CmT0QebxYnjRdKdWRcHkxdJsfbe9QJ+IPHqtTm4coTef1bcQKS2XxZLp+eNoKT3u7sSXVbdXXYscye/IT5l2uuPetXZLofL5Q98TNv6NGdCDPGXT90uy8v/jix494f32rsGLVV3069bSD4Xp1kuucilv964H47UO14Bg37i89XD87ekTpl/RK5Tkdif2g7XXqfYx/EvnHNbdXmxFq3s6nZ3sN2Zuct9oNuMifo2X6iG9spPAed9vlqj7GnukcvdXtVZQmeTzmHYycAnJM56lhMZZI9RGlea6h2ku/Hstbh5DW7On3Y8ZWI5oAVv1kk4F8F9Lkrgq34V6l87oqVOfmtmudEToK86fe7b8hAxelAn0Tf9h+YnDWOtoylVzfGdOft9jsZr2/IxssbMrqeHbyqYxTmvSw8IY9iqtY3cSfd9lWk7uBZc+JkrkbqK5vmtZP6gc2sW2HjO/MbXfw7Ez53xdesp2qeD/r6sa+mDmcos+U6Uvqku0eHuDiBs58zTSdU2ZXjZ7+/yztzui72f3smr1Sdbv73PLoVLdtpkj3JNB3LR7PnpXl/0VwPs8a40LBPMifX7ip/037L3SFLt+s+7NucqvZ5aa5cqbbu8vni+SsVOf8OhOvU/vXKpBu0s+wNU+5CUzCZTn33h7j13RJ91yC8+5Zynvt825neWBmo/a7O96r30oH+x04AOC9z07GYPlmV0Wg5eEOLva3dntnhBwekqTxLDoWKmFcI6qEn/hUeN5zKXSUerKsd9d5IHvr5mzzsMMwk/Q50XW49RMTe2q6aZ1mWryfeOqMMHukroSrvP9h8NsXRXrFNvLlFycq47F8Nc0M5bHonMvlhJDL+yXbczElxcfWsKkY6735+Cu6g6p0khjG16xvdDstu3/qi/qg6aJr6VPnSQ5yCYUZFfIP4uKvLqfgGsrsht6N24r1zv3Ke66oOK64ghnXYXObqOrQnLMFJyttnnYdC5duDa1OG6uw8bNqW3JXjre394mqy7mjtbcnWXpsTsQrRSWZzO63w4VidaoUd2ZPJz2r766hxf9GiHmaNsad6n1S8qtV29sJYlfdbtgMQX6Aw7bon28kPtze7z6tWPUzJdVS2t9R2Hd79Mh019b3uRBRDutS29Iu3bcayjsofNW2mxO+4NbmYfb7e7+o7mfujh6a+Go+dbbYNADgv7lmL+eAeQtMPp9nJf7gufHAxEz+caB/Kyyb9EJ17GNB/0C/x4KUWLlteV5w//Xv64Uir7uHGfD2pZeviED1AaeTzu/lqlrdlrHtA0cUrn7J5wzjmsnXl31ctr6XqMJw/j6n/MKN7YDGf/Dyk4qHY2Fc8YFkX30iqDrO0s6nUTpR4nnJ5Guqwpsz1dRjFXy/n0rL5TNWBSzOoW/dQaSmdqvVaNm9+vFw6QdrpuGrl7/3yVH2vp/p85eK6V/WS1ZVtK23jk5W1mMJlmupB6xrjVN7iOJRjGs+jl0+VJ2yzKh0Xq3wbivKWrMN4GS2K+dNp1QPLGZff1O8uhuXt2i3jlSms1zRbh7ZMYfmjKUu3cv1Oqv7iNhfF3YjnSbT1sN6LtmPyUre8y3O4PABcjP/o/7g+Bv4V9IOtD0X+x79W/eWiDtHWVHaeiGxEQ7/0Xa9VOciHhJ1MduT1Nxthe9LDHq+/kDvve7QzlcbOHzdlw39Gy7TfZXnx7WH47JZPX2XXQy77rPvc2XyPvi7iBgAI0bH4V2lxQMecow7RnulAuOdK8pcTxCftpgMxss+neW95638S7dLQQ7O8DoIeemjeKHe6UTucyOY9XPbzycqy2ZhvAPg3o2MBAJeZ6Uj4TzWkTtazE2f3UXt8PlfmbUfCf3aEk3MAuKzoWAAAAADobY5eNwsAAADgS0XHAgAAAEBvdCwAAAAA9EbHAgAAAEBvdCwAAAAA9EbHAgAAAEBvdCwAAAAA9EbHAgAAAEBvdCwAAAAA9EbHAgAAAEBvdCwAAAAA9EbHAgAAAEBvdCwAAAAA9CTy/wO5Uama3eXbLgAAAABJRU5ErkJggg==)"
      ],
      "metadata": {
        "id": "v_MqesCl7T2Z"
      }
    },
    {
      "cell_type": "code",
      "source": [
        "import sqlite3\n",
        "\n",
        "# Connect to SQLite in-memory database\n",
        "conn = sqlite3.connect(':memory:')\n",
        "cursor = conn.cursor()\n",
        "\n",
        "# Create a table for bank accounts\n",
        "cursor.execute('''CREATE TABLE Accounts (\n",
        "                    ID INTEGER PRIMARY KEY,\n",
        "                    Name TEXT,\n",
        "                    Balance REAL\n",
        "                )''')\n",
        "\n",
        "# Insert initial data for two accounts\n",
        "cursor.executemany(\"INSERT INTO Accounts (Name, Balance) VALUES (?, ?)\", [(\"John\", 1000), (\"Jane\", 2000)])\n",
        "\n",
        "try:\n",
        "    # Perform 10 transactions\n",
        "    for i in range(10):\n",
        "        # Start a new transaction\n",
        "        conn.execute(\"BEGIN TRANSACTION\")\n",
        "\n",
        "        try:\n",
        "            # Transfer funds from John to Jane\n",
        "            cursor.execute(\"UPDATE Accounts SET Balance = Balance - 100 WHERE Name = 'John'\")\n",
        "            cursor.execute(\"UPDATE Accounts SET Balance = Balance + 100 WHERE Name = 'Jane'\")\n",
        "\n",
        "            # Commit the transaction\n",
        "            conn.commit()\n",
        "\n",
        "        except Exception as e:\n",
        "            # Rollback the transaction if an error occurs\n",
        "            conn.rollback()\n",
        "            print(\"Transaction failed:\", e)\n",
        "\n",
        "except Exception as e:\n",
        "    print(\"Error:\", e)\n",
        "\n",
        "# Print balances after transactions\n",
        "cursor.execute(\"SELECT * FROM Accounts\")\n",
        "print(\"Balances after Transactions:\")\n",
        "for row in cursor.fetchall():\n",
        "    print(row)\n",
        "\n",
        "# Close connection\n",
        "conn.close()"
      ],
      "metadata": {
        "colab": {
          "base_uri": "https://localhost:8080/"
        },
        "id": "nmoJi4vw7I5B",
        "outputId": "0571059f-3d66-40aa-b6f5-d55babb68233"
      },
      "execution_count": null,
      "outputs": [
        {
          "output_type": "stream",
          "name": "stdout",
          "text": [
            "Error: cannot start a transaction within a transaction\n",
            "Balances after Transactions:\n",
            "(1, 'John', 1000.0)\n",
            "(2, 'Jane', 2000.0)\n"
          ]
        }
      ]
    },
    {
      "cell_type": "markdown",
      "source": [
        "#Non-Relational Databases"
      ],
      "metadata": {
        "id": "ek2yVbV88I-p"
      }
    },
    {
      "cell_type": "markdown",
      "source": [
        "#Graph Databases\n",
        "Graph databases store data in a graph structure with nodes, edges, and properties. They are suitable for representing highly interconnected data, such as social networks, recommendation systems, and network topologies."
      ],
      "metadata": {
        "id": "SaGi0zCu8XMB"
      }
    },
    {
      "cell_type": "markdown",
      "source": [
        "#Introduction to the Semantic Web\n",
        "The Semantic Web is an extension of the World Wide Web that enables machines to understand the meaning (semantics) of data and information. It promotes common data formats, standardized metadata, and ontologies to enable automated reasoning and decision-making by computers."
      ],
      "metadata": {
        "id": "mn7XwBeJ8b0Z"
      }
    },
    {
      "cell_type": "code",
      "source": [
        "from neo4j import GraphDatabase\n",
        "from rdflib import Graph, Literal, URIRef\n",
        "from rdflib.namespace import FOAF, RDF, XSD\n",
        "\n",
        "# Connect to a Neo4j graph database (assuming Neo4j is installed locally)\n",
        "neo4j_uri = \"bolt://localhost:7687\"\n",
        "neo4j_user = \"neo4j\"\n",
        "neo4j_password = \"password\"\n",
        "neo4j_driver = GraphDatabase.driver(neo4j_uri, auth=(neo4j_user, neo4j_password))\n",
        "\n",
        "# Create a sample graph in Neo4j\n",
        "def create_graph(tx):\n",
        "    tx.run(\"CREATE (alice:Person {name: 'Alice'})-[:FRIENDS_WITH]->(bob:Person {name: 'Bob'})\")\n",
        "\n",
        "with neo4j_driver.session() as session:\n",
        "    session.write_transaction(create_graph)\n",
        "\n",
        "# Query the graph in Neo4j\n",
        "def query_graph(tx):\n",
        "    result = tx.run(\"MATCH (n:Person) RETURN n.name AS name\")\n",
        "    return [record[\"name\"] for record in result]\n",
        "\n",
        "with neo4j_driver.session() as session:\n",
        "    names = session.read_transaction(query_graph)\n",
        "    print(\"Nodes in Neo4j Graph:\", names)\n",
        "\n",
        "# Create a sample RDF graph with RDFLib\n",
        "rdf_graph = Graph()\n",
        "rdf_graph.add((URIRef(\"http://example.org/alice\"), FOAF.name, Literal(\"Alice\")))\n",
        "rdf_graph.add((URIRef(\"http://example.org/alice\"), FOAF.knows, URIRef(\"http://example.org/bob\")))\n",
        "rdf_graph.add((URIRef(\"http://example.org/bob\"), FOAF.name, Literal(\"Bob\")))\n",
        "\n",
        "# Serialize and print RDF graph\n",
        "print(\"\\nRDF Graph Triples:\")\n",
        "for s, p, o in rdf_graph:\n",
        "    print(s, p, o)\n",
        "\n",
        "# Close Neo4j driver\n",
        "neo4j_driver.close()"
      ],
      "metadata": {
        "id": "Ut0lQf0a8aFq"
      },
      "execution_count": null,
      "outputs": []
    }
  ]
}