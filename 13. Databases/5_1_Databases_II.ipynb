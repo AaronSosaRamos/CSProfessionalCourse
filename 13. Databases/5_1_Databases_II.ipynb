{
  "nbformat": 4,
  "nbformat_minor": 0,
  "metadata": {
    "colab": {
      "provenance": []
    },
    "kernelspec": {
      "name": "python3",
      "display_name": "Python 3"
    },
    "language_info": {
      "name": "python"
    }
  },
  "cells": [
    {
      "cell_type": "markdown",
      "source": [
        "#Storage and File Structure"
      ],
      "metadata": {
        "id": "j-_RuGf5qz5o"
      }
    },
    {
      "cell_type": "code",
      "execution_count": null,
      "metadata": {
        "id": "c3SU53pTqJNE"
      },
      "outputs": [],
      "source": [
        "import sqlite3\n",
        "\n",
        "# Connect to an in-memory SQLite database\n",
        "conn = sqlite3.connect(':memory:')"
      ]
    },
    {
      "cell_type": "markdown",
      "source": [
        "#Organizing Records in a File"
      ],
      "metadata": {
        "id": "Anbyop-Tq2tf"
      }
    },
    {
      "cell_type": "markdown",
      "source": [
        "#Fixed-Length Records"
      ],
      "metadata": {
        "id": "BsHVoE0lq4Wm"
      }
    },
    {
      "cell_type": "code",
      "source": [
        "# Create a table with fixed-length records\n",
        "conn.execute('''CREATE TABLE IF NOT EXISTS FixedLengthRecords (\n",
        "                    id INTEGER PRIMARY KEY,\n",
        "                    name TEXT,\n",
        "                    age INTEGER\n",
        "                )''')\n",
        "\n",
        "# Insert data into the table\n",
        "conn.execute(\"INSERT INTO FixedLengthRecords (name, age) VALUES ('John', 30)\")\n",
        "conn.execute(\"INSERT INTO FixedLengthRecords (name, age) VALUES ('Alice', 25)\")"
      ],
      "metadata": {
        "colab": {
          "base_uri": "https://localhost:8080/"
        },
        "id": "Rbb_24edq5r2",
        "outputId": "be469117-8b65-4cb8-ccbb-9ce2612595cc"
      },
      "execution_count": null,
      "outputs": [
        {
          "output_type": "execute_result",
          "data": {
            "text/plain": [
              "<sqlite3.Cursor at 0x7b6c8ef670c0>"
            ]
          },
          "metadata": {},
          "execution_count": 2
        }
      ]
    },
    {
      "cell_type": "markdown",
      "source": [
        "#Variable-Length Records"
      ],
      "metadata": {
        "id": "tMnK7SG3q8r2"
      }
    },
    {
      "cell_type": "code",
      "source": [
        "# Create a table with variable-length records\n",
        "conn.execute('''CREATE TABLE IF NOT EXISTS VariableLengthRecords (\n",
        "                    id INTEGER PRIMARY KEY,\n",
        "                    message TEXT\n",
        "                )''')\n",
        "\n",
        "# Insert data into the table\n",
        "conn.execute(\"INSERT INTO VariableLengthRecords (message) VALUES ('This is a short message')\")\n",
        "conn.execute(\"INSERT INTO VariableLengthRecords (message) VALUES ('This is a longer message with more characters')\")"
      ],
      "metadata": {
        "colab": {
          "base_uri": "https://localhost:8080/"
        },
        "id": "M_xJhM9erAQ-",
        "outputId": "a2a6989b-4489-42cd-a205-e107f1d1134f"
      },
      "execution_count": null,
      "outputs": [
        {
          "output_type": "execute_result",
          "data": {
            "text/plain": [
              "<sqlite3.Cursor at 0x7b6c8fc76840>"
            ]
          },
          "metadata": {},
          "execution_count": 3
        }
      ]
    },
    {
      "cell_type": "markdown",
      "source": [
        "#Organization methods for basic files"
      ],
      "metadata": {
        "id": "mQ6BMA1hrkEG"
      }
    },
    {
      "cell_type": "markdown",
      "source": [
        "#Heap Files"
      ],
      "metadata": {
        "id": "19QiHn8CrlvB"
      }
    },
    {
      "cell_type": "markdown",
      "source": [
        "Heap files store records without any particular order."
      ],
      "metadata": {
        "id": "uKO_PRVxsHFt"
      }
    },
    {
      "cell_type": "code",
      "source": [
        "heap_file = []\n",
        "\n",
        "# Inserting records into the heap file\n",
        "heap_file.append({'id': 1, 'name': 'Alice', 'age': 25})\n",
        "heap_file.append({'id': 2, 'name': 'John', 'age': 30})"
      ],
      "metadata": {
        "id": "tk2jIJzOsGid"
      },
      "execution_count": null,
      "outputs": []
    },
    {
      "cell_type": "code",
      "source": [
        "heap_file"
      ],
      "metadata": {
        "id": "KhafqEeTspaU",
        "outputId": "2e2cf1a8-b4b4-4386-d80f-e080d6887a8c",
        "colab": {
          "base_uri": "https://localhost:8080/"
        }
      },
      "execution_count": null,
      "outputs": [
        {
          "output_type": "execute_result",
          "data": {
            "text/plain": [
              "[{'id': 1, 'name': 'Alice', 'age': 25}, {'id': 2, 'name': 'John', 'age': 30}]"
            ]
          },
          "metadata": {},
          "execution_count": 5
        }
      ]
    },
    {
      "cell_type": "markdown",
      "source": [
        "#Sequential/Ordered Files"
      ],
      "metadata": {
        "id": "sAdwnwKPsklk"
      }
    },
    {
      "cell_type": "markdown",
      "source": [
        "Sequential files store records in sorted order based on a specified key."
      ],
      "metadata": {
        "id": "FM-Q594qslXq"
      }
    },
    {
      "cell_type": "code",
      "source": [
        "# Define records\n",
        "records = [\n",
        "    {'id': 1, 'name': 'Alice', 'age': 25},\n",
        "    {'id': 2, 'name': 'John', 'age': 30}\n",
        "]\n",
        "\n",
        "# Sort records based on name\n",
        "sorted_records = sorted(records, key=lambda x: x['name'])\n",
        "sorted_records"
      ],
      "metadata": {
        "id": "OdIdG2GZsnvW",
        "outputId": "450870da-36cd-4dcf-b4c9-0e24bb764eb1",
        "colab": {
          "base_uri": "https://localhost:8080/"
        }
      },
      "execution_count": null,
      "outputs": [
        {
          "output_type": "execute_result",
          "data": {
            "text/plain": [
              "[{'id': 1, 'name': 'Alice', 'age': 25}, {'id': 2, 'name': 'John', 'age': 30}]"
            ]
          },
          "metadata": {},
          "execution_count": 6
        }
      ]
    },
    {
      "cell_type": "markdown",
      "source": [
        "#Random/ Direct Access Files"
      ],
      "metadata": {
        "id": "8yPFjsr4tfV1"
      }
    },
    {
      "cell_type": "markdown",
      "source": [
        "Random access files allow direct access to any record based on its location or index."
      ],
      "metadata": {
        "id": "TjtKWTm4tgs8"
      }
    },
    {
      "cell_type": "code",
      "source": [
        "random_access_file = {\n",
        "    1: {'name': 'Alice', 'age': 25},\n",
        "    2: {'name': 'John', 'age': 30}\n",
        "}\n",
        "\n",
        "# Access record with id 1 directly\n",
        "record_with_id_1 = random_access_file[1]\n",
        "record_with_id_1"
      ],
      "metadata": {
        "colab": {
          "base_uri": "https://localhost:8080/"
        },
        "id": "vniLAyJvtizg",
        "outputId": "e9cfedcf-f4c7-4476-9dab-9c120fbcded7"
      },
      "execution_count": null,
      "outputs": [
        {
          "output_type": "execute_result",
          "data": {
            "text/plain": [
              "{'name': 'Alice', 'age': 25}"
            ]
          },
          "metadata": {},
          "execution_count": 7
        }
      ]
    },
    {
      "cell_type": "markdown",
      "source": [
        "#Indexed Sequential Files"
      ],
      "metadata": {
        "id": "xafX00k4tnPE"
      }
    },
    {
      "cell_type": "markdown",
      "source": [
        "Indexed sequential files combine sequential organization with indexing for faster access."
      ],
      "metadata": {
        "id": "vXbeMta-toHT"
      }
    },
    {
      "cell_type": "code",
      "source": [
        "# Define records\n",
        "records = [\n",
        "    {'id': 1, 'name': 'Alice', 'age': 25},\n",
        "    {'id': 2, 'name': 'John', 'age': 30}\n",
        "]\n",
        "\n",
        "# Create an index based on name\n",
        "index = {record['name']: record for record in records}\n",
        "\n",
        "# Access record with name 'Alice' directly\n",
        "record_with_name_alice = index['Alice']\n",
        "record_with_name_alice"
      ],
      "metadata": {
        "colab": {
          "base_uri": "https://localhost:8080/"
        },
        "id": "siAhl-fKtpkj",
        "outputId": "30fd5971-25c3-47ad-aa87-d105a3980569"
      },
      "execution_count": null,
      "outputs": [
        {
          "output_type": "execute_result",
          "data": {
            "text/plain": [
              "{'id': 1, 'name': 'Alice', 'age': 25}"
            ]
          },
          "metadata": {},
          "execution_count": 9
        }
      ]
    },
    {
      "cell_type": "markdown",
      "source": [
        "#Hash Files"
      ],
      "metadata": {
        "id": "NGumFe4atwMd"
      }
    },
    {
      "cell_type": "markdown",
      "source": [
        "Hash files use a hashing function to determine the location of records within the file."
      ],
      "metadata": {
        "id": "qPfgKVFstxAc"
      }
    },
    {
      "cell_type": "code",
      "source": [
        "# Define records\n",
        "records = {\n",
        "    'Alice': {'id': 1, 'age': 25},\n",
        "    'John': {'id': 2, 'age': 30}\n",
        "}\n",
        "\n",
        "# Access record with name 'Alice' directly\n",
        "record_with_name_alice = records['Alice']"
      ],
      "metadata": {
        "id": "G0_F_7nItyj9"
      },
      "execution_count": null,
      "outputs": []
    },
    {
      "cell_type": "markdown",
      "source": [
        "#B+ Trees"
      ],
      "metadata": {
        "id": "xPafqf4Lt1bV"
      }
    },
    {
      "cell_type": "markdown",
      "source": [
        "B+ trees are commonly used in database systems to store and retrieve data efficiently."
      ],
      "metadata": {
        "id": "ZuPp53ybt51d"
      }
    },
    {
      "cell_type": "code",
      "source": [
        "class TreeNode:\n",
        "    def __init__(self, leaf=False):\n",
        "        self.keys = []\n",
        "        self.children = []\n",
        "        self.leaf = leaf\n",
        "\n",
        "class BPlusTree:\n",
        "    def __init__(self, order):\n",
        "        self.root = TreeNode(leaf=True)\n",
        "        self.order = order\n",
        "\n",
        "    def insert(self, key, value):\n",
        "        if key in self.root.keys:\n",
        "            raise ValueError(\"Duplicate keys are not allowed\")\n",
        "\n",
        "        if len(self.root.keys) == (2 * self.order) - 1:\n",
        "            new_root = TreeNode()\n",
        "            new_root.children.append(self.root)\n",
        "            self._split(new_root, 0)\n",
        "            self.root = new_root\n",
        "\n",
        "        self._insert_non_full(self.root, key, value)\n",
        "\n",
        "    def _insert_non_full(self, node, key, value):\n",
        "        index = len(node.keys) - 1\n",
        "        if node.leaf:\n",
        "            node.keys.append(None)\n",
        "            while index >= 0 and key < node.keys[index]:\n",
        "                node.keys[index + 1] = node.keys[index]\n",
        "                index -= 1\n",
        "            node.keys[index + 1] = key\n",
        "        else:\n",
        "            while index >= 0 and key < node.keys[index]:\n",
        "                index -= 1\n",
        "            index += 1\n",
        "            if len(node.children[index].keys) == (2 * self.order) - 1:\n",
        "                self._split(node, index)\n",
        "                if key > node.keys[index]:\n",
        "                    index += 1\n",
        "            self._insert_non_full(node.children[index], key, value)\n",
        "\n",
        "    def _split(self, parent, index):\n",
        "        order = self.order\n",
        "        node = parent.children[index]\n",
        "        new_node = TreeNode(leaf=node.leaf)\n",
        "\n",
        "        parent.keys.insert(index, node.keys[order - 1])\n",
        "        parent.children.insert(index + 1, new_node)\n",
        "        new_node.keys = node.keys[order:]\n",
        "        node.keys = node.keys[:order - 1]\n",
        "\n",
        "        if not node.leaf:\n",
        "            new_node.children = node.children[order:]\n",
        "            node.children = node.children[:order]\n",
        "\n",
        "    def search(self, key):\n",
        "        return self._search(self.root, key)\n",
        "\n",
        "    def _search(self, node, key):\n",
        "        index = 0\n",
        "        while index < len(node.keys) and key > node.keys[index]:\n",
        "            index += 1\n",
        "        if index < len(node.keys) and key == node.keys[index]:\n",
        "            return node, index\n",
        "        elif node.leaf:\n",
        "            return None, None\n",
        "        else:\n",
        "            return self._search(node.children[index], key)\n",
        "\n",
        "    def __getitem__(self, key):\n",
        "        node, index = self.search(key)\n",
        "        if node and index is not None:\n",
        "            return node.keys[index]\n",
        "        raise KeyError(\"Key not found\")\n",
        "\n",
        "# Example usage:\n",
        "tree = BPlusTree(order=3)\n",
        "tree.insert(10, \"Value for 10\")\n",
        "tree.insert(20, \"Value for 20\")\n",
        "tree.insert(5, \"Value for 5\")\n",
        "\n",
        "print(tree.search(10))\n",
        "print(tree.search(20))\n",
        "print(tree.search(5))\n",
        "\n",
        "try:\n",
        "    print(tree.search(15))\n",
        "except KeyError as e:\n",
        "    print(e)"
      ],
      "metadata": {
        "colab": {
          "base_uri": "https://localhost:8080/"
        },
        "id": "1njKzzpNt695",
        "outputId": "a228a200-ae15-478b-9009-2af524b922a5"
      },
      "execution_count": null,
      "outputs": [
        {
          "output_type": "stream",
          "name": "stdout",
          "text": [
            "(<__main__.TreeNode object at 0x7b6c5c22b250>, 1)\n",
            "(<__main__.TreeNode object at 0x7b6c5c22b250>, 2)\n",
            "(<__main__.TreeNode object at 0x7b6c5c22b250>, 0)\n",
            "(None, None)\n"
          ]
        }
      ]
    },
    {
      "cell_type": "markdown",
      "source": [
        "#Transactions, retreival and concurrency control"
      ],
      "metadata": {
        "id": "gANHIUrTvaff"
      }
    },
    {
      "cell_type": "markdown",
      "source": [
        "#Concurrency Control\n"
      ],
      "metadata": {
        "id": "EPVZo1oTvjyC"
      }
    },
    {
      "cell_type": "code",
      "source": [
        "import sqlite3\n",
        "\n",
        "# Connect to an in-memory SQLite database\n",
        "conn = sqlite3.connect(':memory:')\n",
        "\n",
        "# Enable autocommit mode\n",
        "conn.isolation_level = None\n",
        "\n",
        "# Create a table\n",
        "conn.execute('''CREATE TABLE IF NOT EXISTS Employees (\n",
        "                    id INTEGER PRIMARY KEY,\n",
        "                    name TEXT,\n",
        "                    age INTEGER\n",
        "                )''')\n",
        "\n",
        "# Insert data into the table\n",
        "conn.execute(\"INSERT INTO Employees (name, age) VALUES ('Alice', 30)\")\n",
        "conn.execute(\"INSERT INTO Employees (name, age) VALUES ('Bob', 25)\")\n",
        "\n",
        "# Commit the transaction\n",
        "conn.commit()\n",
        "\n",
        "# Close the connection\n",
        "conn.close()"
      ],
      "metadata": {
        "id": "1HfqMZPEwJfO"
      },
      "execution_count": null,
      "outputs": []
    },
    {
      "cell_type": "markdown",
      "source": [
        "#Deadlock Prevention"
      ],
      "metadata": {
        "id": "xccQ_xIjwNNJ"
      }
    },
    {
      "cell_type": "code",
      "source": [
        "import sqlite3\n",
        "\n",
        "# Connect to an in-memory SQLite database\n",
        "conn = sqlite3.connect(':memory:')\n",
        "\n",
        "# Enable autocommit mode\n",
        "conn.isolation_level = None\n",
        "\n",
        "# Create a table\n",
        "conn.execute('''CREATE TABLE IF NOT EXISTS Employees (\n",
        "                    id INTEGER PRIMARY KEY,\n",
        "                    name TEXT,\n",
        "                    age INTEGER\n",
        "                )''')\n",
        "\n",
        "# Start a transaction\n",
        "cursor = conn.cursor()\n",
        "cursor.execute(\"BEGIN TRANSACTION\")\n",
        "\n",
        "# Insert data into the table\n",
        "cursor.execute(\"INSERT INTO Employees (name, age) VALUES ('Alice', 30)\")\n",
        "cursor.execute(\"INSERT INTO Employees (name, age) VALUES ('Bob', 25)\")\n",
        "\n",
        "# Commit the transaction\n",
        "cursor.execute(\"COMMIT\")"
      ],
      "metadata": {
        "colab": {
          "base_uri": "https://localhost:8080/"
        },
        "id": "S2_U3X1zwOAh",
        "outputId": "841dc64a-07f2-49d1-84bf-96387f702391"
      },
      "execution_count": null,
      "outputs": [
        {
          "output_type": "execute_result",
          "data": {
            "text/plain": [
              "<sqlite3.Cursor at 0x7b6c5c1c2bc0>"
            ]
          },
          "metadata": {},
          "execution_count": 21
        }
      ]
    },
    {
      "cell_type": "markdown",
      "source": [
        "#Database Recovery"
      ],
      "metadata": {
        "id": "8xOTKpX2wg5e"
      }
    },
    {
      "cell_type": "code",
      "source": [
        "# SQLite provides mechanisms for database recovery, including journaling and WAL.\n",
        "# Here's an example of enabling WAL mode for better recovery:\n",
        "\n",
        "# Connect to an in-memory SQLite database with WAL mode\n",
        "conn = sqlite3.connect(':memory:', isolation_level=None)\n",
        "conn.execute(\"PRAGMA journal_mode = WAL\")\n",
        "\n",
        "# Create a table\n",
        "conn.execute('''CREATE TABLE IF NOT EXISTS Products (\n",
        "                    id INTEGER PRIMARY KEY,\n",
        "                    name TEXT,\n",
        "                    price REAL\n",
        "                )''')\n",
        "\n",
        "# Insert data into the table\n",
        "conn.execute(\"INSERT INTO Products (name, price) VALUES ('Laptop', 999.99)\")\n",
        "conn.execute(\"INSERT INTO Products (name, price) VALUES ('Phone', 599.99)\")\n",
        "\n",
        "# Close the connection\n",
        "conn.close()"
      ],
      "metadata": {
        "id": "qgxLk087whnW"
      },
      "execution_count": null,
      "outputs": []
    },
    {
      "cell_type": "markdown",
      "source": [
        "#Information Retrieval - Searching and Retrieving Documents"
      ],
      "metadata": {
        "id": "fMelUqScw7eS"
      }
    },
    {
      "cell_type": "code",
      "source": [
        "import sqlite3\n",
        "\n",
        "# Connect to an in-memory SQLite database\n",
        "conn = sqlite3.connect(':memory:')\n",
        "\n",
        "# Create a table 'Documents'\n",
        "conn.execute('''CREATE TABLE Documents (\n",
        "                    id INTEGER PRIMARY KEY,\n",
        "                    content TEXT\n",
        "                )''')\n",
        "\n",
        "# Define a function to search for documents containing specific keywords\n",
        "def search_documents(keywords):\n",
        "    cursor = conn.cursor()\n",
        "    cursor.execute(\"SELECT * FROM Documents WHERE content LIKE ?\", ('%{}%'.format(keywords),))\n",
        "    results = cursor.fetchall()\n",
        "    return results\n",
        "\n",
        "# Insert some example documents\n",
        "documents = [\n",
        "    \"Machine learning is a subset of artificial intelligence.\",\n",
        "    \"Data mining involves extracting patterns from large datasets.\",\n",
        "    \"Natural language processing enables computers to understand human language.\"\n",
        "]\n",
        "\n",
        "for doc_id, content in enumerate(documents, 1):\n",
        "    conn.execute(\"INSERT INTO Documents (id, content) VALUES (?, ?)\", (doc_id, content))\n",
        "\n",
        "# Example usage:\n",
        "results = search_documents('machine learning')\n",
        "for result in results:\n",
        "    print(result)\n",
        "\n",
        "# Close the connection\n",
        "conn.close()"
      ],
      "metadata": {
        "colab": {
          "base_uri": "https://localhost:8080/"
        },
        "id": "C5tUT4pkw-7i",
        "outputId": "68069f24-f2d2-4863-e8a6-6fd93610192a"
      },
      "execution_count": null,
      "outputs": [
        {
          "output_type": "stream",
          "name": "stdout",
          "text": [
            "(1, 'Machine learning is a subset of artificial intelligence.')\n"
          ]
        }
      ]
    },
    {
      "cell_type": "markdown",
      "source": [
        "#Document Retrieval"
      ],
      "metadata": {
        "id": "NtejTVCLxOqZ"
      }
    },
    {
      "cell_type": "markdown",
      "source": [
        "#Boolean Model"
      ],
      "metadata": {
        "id": "p5QrfWraxPXx"
      }
    },
    {
      "cell_type": "code",
      "source": [
        "import sqlite3\n",
        "\n",
        "# Connect to an in-memory SQLite database\n",
        "conn = sqlite3.connect(':memory:')\n",
        "\n",
        "# Create a table 'Documents'\n",
        "conn.execute('''CREATE TABLE Documents (\n",
        "                    id INTEGER PRIMARY KEY,\n",
        "                    content TEXT\n",
        "                )''')\n",
        "\n",
        "# Define a function to perform boolean retrieval\n",
        "def boolean_retrieval(query):\n",
        "    cursor = conn.cursor()\n",
        "    cursor.execute(\"SELECT * FROM Documents WHERE content LIKE ?\", ('%' + query + '%',))\n",
        "    results = cursor.fetchall()\n",
        "    return results\n",
        "\n",
        "# Insert some example documents\n",
        "documents = [\n",
        "    \"Machine learning is a subset of artificial intelligence.\",\n",
        "    \"Data mining involves extracting patterns from large datasets.\",\n",
        "    \"Natural language processing enables computers to understand human language.\"\n",
        "]\n",
        "\n",
        "for doc_id, content in enumerate(documents, 1):\n",
        "    conn.execute(\"INSERT INTO Documents (id, content) VALUES (?, ?)\", (doc_id, content))\n",
        "\n",
        "# Example usage:\n",
        "results = boolean_retrieval('\"machine learning\" AND \"data mining\"')\n",
        "for result in results:\n",
        "    print(result)\n",
        "\n",
        "# Close the connection\n",
        "conn.close()\n"
      ],
      "metadata": {
        "id": "oXRv0NKCxUMR"
      },
      "execution_count": null,
      "outputs": []
    },
    {
      "cell_type": "markdown",
      "source": [
        "#Inverted Index"
      ],
      "metadata": {
        "id": "UhtKTWF3xrlR"
      }
    },
    {
      "cell_type": "code",
      "source": [
        "import re\n",
        "import sqlite3\n",
        "\n",
        "# Connect to an in-memory SQLite database\n",
        "conn = sqlite3.connect(':memory:')\n",
        "\n",
        "# Create a table 'Documents'\n",
        "conn.execute('''CREATE TABLE Documents (\n",
        "                    id INTEGER PRIMARY KEY,\n",
        "                    content TEXT\n",
        "                )''')\n",
        "\n",
        "# Insert some example documents\n",
        "documents = [\n",
        "    \"Machine learning is a subset of artificial intelligence.\",\n",
        "    \"Data mining involves extracting patterns from large datasets.\",\n",
        "    \"Natural language processing enables computers to understand human language.\"\n",
        "]\n",
        "\n",
        "for doc_id, content in enumerate(documents, 1):\n",
        "    conn.execute(\"INSERT INTO Documents (id, content) VALUES (?, ?)\", (doc_id, content))\n",
        "\n",
        "# Function to create an inverted index\n",
        "def create_inverted_index(conn):\n",
        "    inverted_index = {}\n",
        "    cursor = conn.cursor()\n",
        "    cursor.execute(\"SELECT * FROM Documents\")\n",
        "    documents = cursor.fetchall()\n",
        "    for doc in documents:\n",
        "        words = re.findall(r'\\w+', doc[1].lower())  # assuming content is in the second column\n",
        "        for word in words:\n",
        "            if word not in inverted_index:\n",
        "                inverted_index[word] = set()\n",
        "            inverted_index[word].add(doc[0])  # assuming id is in the first column\n",
        "    return inverted_index\n",
        "\n",
        "# Function to perform retrieval using the inverted index\n",
        "def inverted_index_retrieval(query, inverted_index):\n",
        "    words = re.findall(r'\\b(?!and|or)\\w+\\b', query.lower())\n",
        "    result = set(inverted_index[words[0]])\n",
        "    for word in words[1:]:\n",
        "        result = result.intersection(inverted_index[word])\n",
        "    cursor = conn.cursor()\n",
        "    cursor.execute(\"SELECT * FROM Documents WHERE id IN ({seq})\".format(seq=','.join(['?']*len(result))), tuple(result))\n",
        "    results = cursor.fetchall()\n",
        "    return results\n",
        "\n",
        "# Example usage:\n",
        "inverted_index = create_inverted_index(conn)\n",
        "results = inverted_index_retrieval(\"machine learning AND data mining\", inverted_index)\n",
        "for result in results:\n",
        "    print(result)\n",
        "\n",
        "# Close the connection\n",
        "conn.close()"
      ],
      "metadata": {
        "id": "umljAIqeyDlq"
      },
      "execution_count": null,
      "outputs": []
    },
    {
      "cell_type": "markdown",
      "source": [
        "#Multimedia Database\n",
        "#Similarity Search Concepts\n",
        "Similarity search in multimedia databases involves finding objects that are similar to a given query object. Concepts such as distance metrics (e.g., Euclidean distance, cosine similarity) and search algorithms (e.g., k-nearest neighbors, range queries) are essential."
      ],
      "metadata": {
        "id": "Sa1xyH7qynff"
      }
    },
    {
      "cell_type": "code",
      "source": [
        "# Implement similarity search concepts\n",
        "# Example: Compute cosine similarity between two feature vectors\n",
        "import numpy as np\n",
        "\n",
        "# Define feature vectors for two objects\n",
        "object1_features = np.array([0.2, 0.4, 0.6, 0.8])\n",
        "object2_features = np.array([0.1, 0.5, 0.7, 0.9])\n",
        "\n",
        "# Compute cosine similarity\n",
        "cosine_similarity = np.dot(object1_features, object2_features) / (np.linalg.norm(object1_features) * np.linalg.norm(object2_features))\n",
        "print(\"Cosine Similarity:\", cosine_similarity)"
      ],
      "metadata": {
        "colab": {
          "base_uri": "https://localhost:8080/"
        },
        "id": "NAOAy0qiys_f",
        "outputId": "99bab31f-0dca-4184-a770-f27c366f4549"
      },
      "execution_count": null,
      "outputs": [
        {
          "output_type": "stream",
          "name": "stdout",
          "text": [
            "Cosine Similarity: 0.9939990885479663\n"
          ]
        }
      ]
    },
    {
      "cell_type": "markdown",
      "source": [
        "#Similarity Models for Multimedia Objects\n",
        "Various similarity models are used for multimedia objects, such as content-based retrieval or feature-based retrieval. These models extract features from multimedia data and compare them to retrieve similar objects."
      ],
      "metadata": {
        "id": "OXc6T1H9yyhO"
      }
    },
    {
      "cell_type": "code",
      "source": [
        "# Implement a content-based similarity model\n",
        "# Example: Using OpenCV for image feature extraction and comparison\n",
        "\n",
        "import cv2\n",
        "\n",
        "# Read two images\n",
        "image1 = cv2.imread('image1.jpg')\n",
        "image2 = cv2.imread('image2.jpg')\n",
        "\n",
        "# Convert images to grayscale\n",
        "gray_image1 = cv2.cvtColor(image1, cv2.COLOR_BGR2GRAY)\n",
        "gray_image2 = cv2.cvtColor(image2, cv2.COLOR_BGR2GRAY)\n",
        "\n",
        "# Extract features (e.g., histograms) from images\n",
        "histogram1 = cv2.calcHist([gray_image1], [0], None, [256], [0, 256])\n",
        "histogram2 = cv2.calcHist([gray_image2], [0], None, [256], [0, 256])\n",
        "\n",
        "# Compare histograms using histogram intersection\n",
        "histogram_intersection = cv2.compareHist(histogram1, histogram2, cv2.HISTCMP_INTERSECT)\n",
        "print(\"Histogram Intersection:\", histogram_intersection)"
      ],
      "metadata": {
        "id": "NuBOd505yv4n"
      },
      "execution_count": null,
      "outputs": []
    },
    {
      "cell_type": "markdown",
      "source": [
        "#Multidimensional Indexing\n",
        "Multidimensional indexing structures like R-trees or KD-trees are used for efficient retrieval of multimedia data. These indexing structures organize multimedia objects based on their multidimensional features, allowing for fast search and retrieval."
      ],
      "metadata": {
        "id": "UAfkaJlUy2l-"
      }
    },
    {
      "cell_type": "code",
      "source": [
        "# Implement multidimensional indexing\n",
        "# Example: Using R-tree indexing for spatial data (e.g., images with spatial coordinates)\n",
        "\n",
        "from rtree import index\n",
        "\n",
        "# Create an R-tree index\n",
        "idx = index.Index()\n",
        "\n",
        "# Insert spatial objects (e.g., bounding boxes of images) into the index\n",
        "idx.insert(0, (0, 0, 100, 100))  # Example bounding box for image 1\n",
        "idx.insert(1, (50, 50, 150, 150))  # Example bounding box for image 2\n",
        "\n",
        "# Perform a range query to retrieve objects within a specified region\n",
        "query_results = list(idx.intersection((0, 0, 75, 75)))  # Example query region\n",
        "print(\"Query Results:\", query_results)"
      ],
      "metadata": {
        "id": "H2UHunMzy5bu"
      },
      "execution_count": null,
      "outputs": []
    },
    {
      "cell_type": "markdown",
      "source": [
        "# Distributed Databases\n"
      ],
      "metadata": {
        "id": "PuXt_9_izav9"
      }
    },
    {
      "cell_type": "markdown",
      "source": [
        "#Distributed Systems"
      ],
      "metadata": {
        "id": "pp7N7vaUzbXK"
      }
    },
    {
      "cell_type": "code",
      "source": [
        "import sqlite3\n",
        "\n",
        "# Connect to the in-memory SQLite databases on different nodes\n",
        "conn_node1 = sqlite3.connect(':memory:')\n",
        "conn_node2 = sqlite3.connect(':memory:')\n",
        "\n",
        "# Example usage:\n",
        "# Perform operations on the databases as if they are part of a distributed system\n",
        "# conn_node1.execute(...)\n",
        "# conn_node2.execute(...)\n",
        "\n",
        "# Close connections\n",
        "conn_node1.close()\n",
        "conn_node2.close()"
      ],
      "metadata": {
        "id": "txMR0HW3zdjf"
      },
      "execution_count": null,
      "outputs": []
    },
    {
      "cell_type": "markdown",
      "source": [
        "#Distributed Database Design"
      ],
      "metadata": {
        "id": "1CHNbk0Czizn"
      }
    },
    {
      "cell_type": "markdown",
      "source": [
        "#Horizontal Fragmentation"
      ],
      "metadata": {
        "id": "vxPuvQ9-zm2H"
      }
    },
    {
      "cell_type": "code",
      "source": [
        "import sqlite3\n",
        "\n",
        "# Connect to the in-memory SQLite database\n",
        "conn = sqlite3.connect(':memory:')\n",
        "\n",
        "# Create the Customers table\n",
        "conn.execute('''CREATE TABLE Customers (\n",
        "                    id INTEGER PRIMARY KEY,\n",
        "                    name TEXT,\n",
        "                    email TEXT,\n",
        "                    address TEXT,\n",
        "                    phone TEXT\n",
        "                )''')\n",
        "\n",
        "# Insert some example data into the Customers table\n",
        "customers_data = [\n",
        "    (1, 'John Doe', 'john@example.com', 'Region1', '123456789'),\n",
        "    (2, 'Jane Smith', 'jane@example.com', 'Region2', '987654321'),\n",
        "    # More customer data here...\n",
        "]\n",
        "\n",
        "conn.executemany(\"INSERT INTO Customers (id, name, email, address, phone) VALUES (?, ?, ?, ?, ?)\", customers_data)\n",
        "\n",
        "# Create separate tables for different regions\n",
        "conn.execute('''CREATE TABLE Customers_Region1 AS\n",
        "                 SELECT * FROM Customers WHERE address LIKE '%Region1%' ''')\n",
        "\n",
        "conn.execute('''CREATE TABLE Customers_Region2 AS\n",
        "                 SELECT * FROM Customers WHERE address LIKE '%Region2%' ''')\n",
        "\n",
        "# Close the connection\n",
        "conn.close()\n"
      ],
      "metadata": {
        "id": "bJUpBcI1znW-"
      },
      "execution_count": null,
      "outputs": []
    },
    {
      "cell_type": "markdown",
      "source": [
        "#Vertical Fragmentation"
      ],
      "metadata": {
        "id": "hvJkz-PCz-cm"
      }
    },
    {
      "cell_type": "code",
      "source": [
        "import sqlite3\n",
        "\n",
        "# Connect to the in-memory SQLite database\n",
        "conn = sqlite3.connect(':memory:')\n",
        "\n",
        "# Create the Customers table\n",
        "conn.execute('''CREATE TABLE Customers (\n",
        "                    id INTEGER PRIMARY KEY,\n",
        "                    name TEXT,\n",
        "                    email TEXT,\n",
        "                    address TEXT,\n",
        "                    phone TEXT\n",
        "                )''')\n",
        "\n",
        "# Insert some example data into the Customers table\n",
        "customers_data = [\n",
        "    (1, 'John Doe', 'john@example.com', 'Address1', '123456789'),\n",
        "    (2, 'Jane Smith', 'jane@example.com', 'Address2', '987654321'),\n",
        "    # More customer data here...\n",
        "]\n",
        "\n",
        "conn.executemany(\"INSERT INTO Customers (id, name, email, address, phone) VALUES (?, ?, ?, ?, ?)\", customers_data)\n",
        "\n",
        "# Create separate tables for different attributes\n",
        "conn.execute('''CREATE TABLE Customers_ID_Name AS\n",
        "                 SELECT id, name FROM Customers''')\n",
        "\n",
        "conn.execute('''CREATE TABLE Customers_Email_Address AS\n",
        "                 SELECT email, address FROM Customers''')\n",
        "\n",
        "# Close the connection\n",
        "conn.close()"
      ],
      "metadata": {
        "id": "7OOTAFRVz_cW"
      },
      "execution_count": null,
      "outputs": []
    },
    {
      "cell_type": "markdown",
      "source": [
        "#Distributed Query Processing"
      ],
      "metadata": {
        "id": "k-4ts5Rn1VjF"
      }
    },
    {
      "cell_type": "markdown",
      "source": [
        "#Decomposition"
      ],
      "metadata": {
        "id": "j_ObMV8h1XnE"
      }
    },
    {
      "cell_type": "code",
      "source": [
        "import sqlite3\n",
        "\n",
        "# Connect to the in-memory SQLite databases on different nodes\n",
        "conn_node1 = sqlite3.connect(':memory:')\n",
        "conn_node2 = sqlite3.connect(':memory:')\n",
        "\n",
        "# Create tables and insert data on each node\n",
        "# For demonstration purposes, let's assume we have some tables named 'table1' and 'table2' with sample data\n",
        "\n",
        "# Node 1\n",
        "conn_node1.execute('''CREATE TABLE table1 (\n",
        "                        id INTEGER PRIMARY KEY,\n",
        "                        name TEXT\n",
        "                    )''')\n",
        "conn_node1.execute(\"INSERT INTO table1 (name) VALUES ('Alice')\")\n",
        "conn_node1.execute(\"INSERT INTO table1 (name) VALUES ('Bob')\")\n",
        "\n",
        "# Node 2\n",
        "conn_node2.execute('''CREATE TABLE table2 (\n",
        "                        id INTEGER PRIMARY KEY,\n",
        "                        age INTEGER\n",
        "                    )''')\n",
        "conn_node2.execute(\"INSERT INTO table2 (age) VALUES (25)\")\n",
        "conn_node2.execute(\"INSERT INTO table2 (age) VALUES (30)\")\n",
        "\n",
        "# Perform subqueries on individual nodes\n",
        "cursor_node1 = conn_node1.cursor()\n",
        "cursor_node1.execute(\"SELECT * FROM table1 WHERE name = 'Alice'\")\n",
        "\n",
        "cursor_node2 = conn_node2.cursor()\n",
        "cursor_node2.execute(\"SELECT * FROM table2 WHERE age > 28\")\n",
        "\n",
        "# Combine results from different nodes\n",
        "results_node1 = cursor_node1.fetchall()\n",
        "results_node2 = cursor_node2.fetchall()\n",
        "\n",
        "# Print results\n",
        "print(\"Results from Node 1:\", results_node1)\n",
        "print(\"Results from Node 2:\", results_node2)\n",
        "\n",
        "# Close connections\n",
        "conn_node1.close()\n",
        "conn_node2.close()"
      ],
      "metadata": {
        "colab": {
          "base_uri": "https://localhost:8080/"
        },
        "id": "OBMtE7Lr1ZUG",
        "outputId": "c5e08305-56dd-43ce-aafa-eb31f3d277c1"
      },
      "execution_count": null,
      "outputs": [
        {
          "output_type": "stream",
          "name": "stdout",
          "text": [
            "Results from Node 1: [(1, 'Alice')]\n",
            "Results from Node 2: [(2, 30)]\n"
          ]
        }
      ]
    },
    {
      "cell_type": "markdown",
      "source": [
        "#Localization and Optimization"
      ],
      "metadata": {
        "id": "N8LEmXdB1ij3"
      }
    },
    {
      "cell_type": "markdown",
      "source": [
        "![image.png](data:image/png;base64,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)"
      ],
      "metadata": {
        "id": "s8AEyyvF2DBs"
      }
    },
    {
      "cell_type": "code",
      "source": [
        "import sqlite3\n",
        "\n",
        "# Connect to the SQLite in-memory database\n",
        "conn = sqlite3.connect(':memory:')\n",
        "\n",
        "# Create a table\n",
        "conn.execute('''CREATE TABLE employees (\n",
        "                    id INTEGER PRIMARY KEY,\n",
        "                    name TEXT,\n",
        "                    age INTEGER,\n",
        "                    department TEXT\n",
        "                )''')\n",
        "\n",
        "# Insert some sample data\n",
        "employees_data = [\n",
        "    (1, 'Alice', 30, 'HR'),\n",
        "    (2, 'Bob', 35, 'Engineering'),\n",
        "    (3, 'Charlie', 28, 'Marketing'),\n",
        "    # More data here...\n",
        "]\n",
        "conn.executemany(\"INSERT INTO employees (id, name, age, department) VALUES (?, ?, ?, ?)\", employees_data)\n",
        "\n",
        "# Create an index on the department column\n",
        "conn.execute(\"CREATE INDEX idx_department ON employees (department)\")\n",
        "\n",
        "# Perform a query\n",
        "cursor = conn.cursor()\n",
        "cursor.execute(\"SELECT * FROM employees WHERE department = 'Engineering' AND age > 30\")\n",
        "\n",
        "# Fetch and print results\n",
        "results = cursor.fetchall()\n",
        "print(\"Results:\", results)\n",
        "\n",
        "# Close the connection\n",
        "conn.close()"
      ],
      "metadata": {
        "colab": {
          "base_uri": "https://localhost:8080/"
        },
        "id": "fJQx7O0A1lPs",
        "outputId": "d9af2eec-14b1-4c86-9fd1-21f129c3487c"
      },
      "execution_count": null,
      "outputs": [
        {
          "output_type": "stream",
          "name": "stdout",
          "text": [
            "Results: [(2, 'Bob', 35, 'Engineering')]\n"
          ]
        }
      ]
    },
    {
      "cell_type": "markdown",
      "source": [
        "#Distributed Transactions and Concurrency Control"
      ],
      "metadata": {
        "id": "EYFagKf72KM0"
      }
    },
    {
      "cell_type": "code",
      "source": [
        "# Example of distributed transaction management using SQLite with in-memory databases\n",
        "# Start transactions on individual nodes and ensure distributed ACID properties\n",
        "\n",
        "# Connect to the in-memory SQLite databases on different nodes\n",
        "conn_node1 = sqlite3.connect(':memory:')\n",
        "conn_node2 = sqlite3.connect(':memory:')\n",
        "\n",
        "# Start distributed transaction\n",
        "conn_node1.execute(\"BEGIN TRANSACTION\")\n",
        "conn_node2.execute(\"BEGIN TRANSACTION\")\n",
        "\n",
        "# Perform transactional operations on individual nodes\n",
        "# For example, insert/update/delete records\n",
        "\n",
        "# Commit transactions on all nodes\n",
        "conn_node1.execute(\"COMMIT\")\n",
        "conn_node2.execute(\"COMMIT\")\n",
        "\n",
        "# Close connections\n",
        "conn_node1.close()\n",
        "conn_node2.close()"
      ],
      "metadata": {
        "id": "y96rNwmi2Nr0"
      },
      "execution_count": null,
      "outputs": []
    },
    {
      "cell_type": "markdown",
      "source": [
        "#MapReduce"
      ],
      "metadata": {
        "id": "WiYv5-NS2Sd0"
      }
    },
    {
      "cell_type": "code",
      "source": [
        "from functools import reduce\n",
        "\n",
        "# List of documents\n",
        "documents = [\n",
        "    \"Lorem ipsum dolor sit amet, consectetur adipiscing elit.\",\n",
        "    \"Sed do eiusmod tempor incididunt ut labore et dolore magna aliqua.\",\n",
        "    \"Ut enim ad minim veniam, quis nostrud exercitation ullamco laboris nisi ut aliquip ex ea commodo consequat.\",\n",
        "    # More documents here...\n",
        "]\n",
        "\n",
        "# Mapper function to split each document into words and emit (word, 1) pairs\n",
        "def mapper(document):\n",
        "    words = document.split()\n",
        "    return [(word.lower(), 1) for word in words]\n",
        "\n",
        "# Reducer function to aggregate the counts of each word\n",
        "def reducer(accumulator, pair):\n",
        "    word, count = pair\n",
        "    accumulator[word] = accumulator.get(word, 0) + count\n",
        "    return accumulator\n",
        "\n",
        "# Map step: Apply the mapper function to each document\n",
        "mapped_data = map(mapper, documents)\n",
        "\n",
        "# Reduce step: Combine the mapped data and aggregate the counts\n",
        "word_counts = reduce(reducer, [pair for sublist in mapped_data for pair in sublist], {})\n",
        "\n",
        "# Print the word counts\n",
        "for word, count in word_counts.items():\n",
        "    print(f\"{word}: {count}\")"
      ],
      "metadata": {
        "colab": {
          "base_uri": "https://localhost:8080/"
        },
        "id": "rV8jXmZi2TJt",
        "outputId": "b5912480-f282-4cd7-a8bb-90cf1409b6e0"
      },
      "execution_count": null,
      "outputs": [
        {
          "output_type": "stream",
          "name": "stdout",
          "text": [
            "lorem: 1\n",
            "ipsum: 1\n",
            "dolor: 1\n",
            "sit: 1\n",
            "amet,: 1\n",
            "consectetur: 1\n",
            "adipiscing: 1\n",
            "elit.: 1\n",
            "sed: 1\n",
            "do: 1\n",
            "eiusmod: 1\n",
            "tempor: 1\n",
            "incididunt: 1\n",
            "ut: 3\n",
            "labore: 1\n",
            "et: 1\n",
            "dolore: 1\n",
            "magna: 1\n",
            "aliqua.: 1\n",
            "enim: 1\n",
            "ad: 1\n",
            "minim: 1\n",
            "veniam,: 1\n",
            "quis: 1\n",
            "nostrud: 1\n",
            "exercitation: 1\n",
            "ullamco: 1\n",
            "laboris: 1\n",
            "nisi: 1\n",
            "aliquip: 1\n",
            "ex: 1\n",
            "ea: 1\n",
            "commodo: 1\n",
            "consequat.: 1\n"
          ]
        }
      ]
    },
    {
      "cell_type": "markdown",
      "source": [
        "#NoSQL Databases"
      ],
      "metadata": {
        "id": "7_NztJlm2bGl"
      }
    },
    {
      "cell_type": "markdown",
      "source": [
        "#MongoDB"
      ],
      "metadata": {
        "id": "4Gnn79mN2bh9"
      }
    },
    {
      "cell_type": "code",
      "source": [
        "# Example of using MongoDB with PyMongo\n",
        "from pymongo import MongoClient\n",
        "\n",
        "# Connect to MongoDB\n",
        "client = MongoClient('localhost', 27017)\n",
        "\n",
        "# Access database\n",
        "db = client['mydatabase']\n",
        "\n",
        "# Access collection\n",
        "collection = db['mycollection']\n",
        "\n",
        "# Perform operations on the collection\n",
        "# For example, insert documents, query documents, update documents, etc.\n",
        "\n",
        "# Close connection\n",
        "client.close()"
      ],
      "metadata": {
        "id": "gRDJdzXZ2fIl"
      },
      "execution_count": null,
      "outputs": []
    },
    {
      "cell_type": "markdown",
      "source": [
        "#Cassandra"
      ],
      "metadata": {
        "id": "PB8fLfuV2gv1"
      }
    },
    {
      "cell_type": "code",
      "source": [
        "# Example of using Cassandra with cassandra-driver\n",
        "from cassandra.cluster import Cluster\n",
        "\n",
        "# Connect to Cassandra\n",
        "cluster = Cluster(['localhost'])\n",
        "session = cluster.connect()\n",
        "\n",
        "# Create keyspace and connect to it\n",
        "session.execute(\"CREATE KEYSPACE IF NOT EXISTS mykeyspace WITH replication = {'class': 'SimpleStrategy', 'replication_factor': 1}\")\n",
        "session.set_keyspace('mykeyspace')\n",
        "\n",
        "# Create table\n",
        "session.execute(\"CREATE TABLE IF NOT EXISTS mytable (id UUID PRIMARY KEY, name TEXT, age INT)\")\n",
        "\n",
        "# Perform operations on the table\n",
        "# For example, insert data, query data, etc.\n",
        "\n",
        "# Close connection\n",
        "cluster.shutdown()"
      ],
      "metadata": {
        "id": "UBqJMYre2jLp"
      },
      "execution_count": null,
      "outputs": []
    }
  ]
}