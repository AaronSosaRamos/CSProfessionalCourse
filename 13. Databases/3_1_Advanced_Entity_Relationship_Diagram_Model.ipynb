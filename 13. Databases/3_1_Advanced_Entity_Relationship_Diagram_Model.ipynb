{
  "nbformat": 4,
  "nbformat_minor": 0,
  "metadata": {
    "colab": {
      "provenance": []
    },
    "kernelspec": {
      "name": "python3",
      "display_name": "Python 3"
    },
    "language_info": {
      "name": "python"
    }
  },
  "cells": [
    {
      "cell_type": "markdown",
      "source": [
        "#Advanced Entity-Relationship Diagram Model"
      ],
      "metadata": {
        "id": "0M1yF6cnWotm"
      }
    },
    {
      "cell_type": "markdown",
      "source": [
        "#Multiple Relationships"
      ],
      "metadata": {
        "id": "ToDK5Sx9WqyL"
      }
    },
    {
      "cell_type": "markdown",
      "source": [
        "Multiple relationships occur when two entities are associated with each other through more than one relationship type. This situation often arises in complex systems where entities interact with each other in various ways.\n"
      ],
      "metadata": {
        "id": "r7aF7hjXWtGL"
      }
    },
    {
      "cell_type": "markdown",
      "source": [
        "#Weak and Virtual Entities"
      ],
      "metadata": {
        "id": "mVeYLj5GW-LE"
      }
    },
    {
      "cell_type": "markdown",
      "source": [
        "A weak entity is an entity that cannot be uniquely identified by its attributes alone and depends on another entity called the identifying or owner entity. Weak entities typically have a partial key that, in combination with the owner entity's primary key, forms a composite key. Virtual entities, on the other hand, represent concepts or relationships that are derived from existing entities but are not explicitly stored in the database.\n",
        "\n"
      ],
      "metadata": {
        "id": "SsOAEfXDW_7U"
      }
    },
    {
      "cell_type": "markdown",
      "source": [
        "#Class Hierarchies"
      ],
      "metadata": {
        "id": "Y1i4bHl9XKMM"
      }
    },
    {
      "cell_type": "markdown",
      "source": [
        "Class hierarchies represent inheritance relationships between entities, where subclasses inherit attributes and relationships from superclasses. This concept is common in object-oriented programming and can be modeled in the ERD using generalization and specialization relationships."
      ],
      "metadata": {
        "id": "A2HKuuCfXK8T"
      }
    },
    {
      "cell_type": "markdown",
      "source": [
        "#Overlap and Coupling"
      ],
      "metadata": {
        "id": "2rzqk0UfXZlT"
      }
    },
    {
      "cell_type": "markdown",
      "source": [
        "Overlap and coupling refer to the degree of intersection and interdependence between entities in the ERD. Overlap occurs when entities share common attributes or relationships, while coupling measures the strength of connections between entities. Minimizing overlap and coupling helps maintain the integrity and flexibility of the database schema."
      ],
      "metadata": {
        "id": "AA_OIBJAXaHS"
      }
    },
    {
      "cell_type": "code",
      "execution_count": null,
      "metadata": {
        "colab": {
          "base_uri": "https://localhost:8080/"
        },
        "id": "1EnRP1WbWeBe",
        "outputId": "f37e75a4-7365-480c-fc6c-3d3d9eff6b6b"
      },
      "outputs": [
        {
          "output_type": "stream",
          "name": "stdout",
          "text": [
            "Results for query: SELECT * FROM books\n",
            "[(1, 'The Great Gatsby', 'F. Scott Fitzgerald'), (2, 'To Kill a Mockingbird', 'Harper Lee'), (3, '1984', 'George Orwell')]\n",
            "\n",
            "\n",
            "Results for query: SELECT * FROM users\n",
            "[(1, 'Alice Smith', 'alice@example.com'), (2, 'Bob Johnson', 'bob@example.com')]\n",
            "\n",
            "\n",
            "Results for query: SELECT * FROM borrowings\n",
            "[(1, 1, 1), (2, 1, 2), (3, 2, 3)]\n",
            "\n",
            "\n",
            "Results for query: SELECT * FROM book_copies\n",
            "[(1, 1), (2, 1), (3, 2), (4, 3), (5, 3)]\n",
            "\n",
            "\n",
            "Results for query: SELECT * FROM book_categories\n",
            "[(1, 'Fiction'), (2, 'Non-Fiction'), (3, 'Science Fiction')]\n",
            "\n",
            "\n",
            "Results for query: SELECT * FROM ebooks\n",
            "[(1, 2), (2, 3)]\n",
            "\n",
            "\n",
            "Results for query: SELECT * FROM reference_materials\n",
            "[(1, 'Encyclopedia Britannica', 'Reference'), (2, 'The Oxford Dictionary', 'Language')]\n",
            "\n",
            "\n"
          ]
        }
      ],
      "source": [
        "# Example: Advanced Library Management System\n",
        "\n",
        "# Import necessary libraries\n",
        "import sqlite3\n",
        "\n",
        "# Connect to an in-memory database\n",
        "conn = sqlite3.connect(':memory:')\n",
        "\n",
        "# Create a cursor object to execute SQL commands\n",
        "cursor = conn.cursor()\n",
        "\n",
        "# Define tables for books, users, and borrowings\n",
        "cursor.execute('''CREATE TABLE IF NOT EXISTS books\n",
        "                  (book_id INTEGER PRIMARY KEY, title TEXT, author TEXT)''')\n",
        "\n",
        "cursor.execute('''CREATE TABLE IF NOT EXISTS users\n",
        "                  (user_id INTEGER PRIMARY KEY, name TEXT, email TEXT)''')\n",
        "\n",
        "cursor.execute('''CREATE TABLE IF NOT EXISTS borrowings\n",
        "                  (borrow_id INTEGER PRIMARY KEY, user_id INTEGER, book_id INTEGER,\n",
        "                  FOREIGN KEY(user_id) REFERENCES users(user_id),\n",
        "                  FOREIGN KEY(book_id) REFERENCES books(book_id))''')\n",
        "\n",
        "# Define weak entity for book copies and virtual entity for book categories\n",
        "cursor.execute('''CREATE TABLE IF NOT EXISTS book_copies\n",
        "                  (copy_id INTEGER PRIMARY KEY, book_id INTEGER,\n",
        "                  FOREIGN KEY(book_id) REFERENCES books(book_id))''')\n",
        "\n",
        "cursor.execute('''CREATE TABLE IF NOT EXISTS book_categories\n",
        "                  (category_id INTEGER PRIMARY KEY, category_name TEXT)''')\n",
        "\n",
        "# Define class hierarchy for books and e-books\n",
        "cursor.execute('''CREATE TABLE IF NOT EXISTS ebooks\n",
        "                  (ebook_id INTEGER PRIMARY KEY, book_id INTEGER,\n",
        "                  FOREIGN KEY(book_id) REFERENCES books(book_id))''')\n",
        "\n",
        "# Define overlap and coupling for reference materials\n",
        "cursor.execute('''CREATE TABLE IF NOT EXISTS reference_materials\n",
        "                  (reference_id INTEGER PRIMARY KEY, title TEXT, topic TEXT)''')\n",
        "\n",
        "# Insert sample data into books, users, and book categories\n",
        "cursor.executemany(\"INSERT INTO books (title, author) VALUES (?, ?)\",\n",
        "                   [('The Great Gatsby', 'F. Scott Fitzgerald'),\n",
        "                    ('To Kill a Mockingbird', 'Harper Lee'),\n",
        "                    ('1984', 'George Orwell')])\n",
        "\n",
        "cursor.executemany(\"INSERT INTO users (name, email) VALUES (?, ?)\",\n",
        "                   [('Alice Smith', 'alice@example.com'),\n",
        "                    ('Bob Johnson', 'bob@example.com')])\n",
        "\n",
        "cursor.executemany(\"INSERT INTO book_categories (category_name) VALUES (?)\",\n",
        "                   [('Fiction',), ('Non-Fiction',), ('Science Fiction',)])\n",
        "\n",
        "# Insert sample borrowings data\n",
        "cursor.executemany(\"INSERT INTO borrowings (user_id, book_id) VALUES (?, ?)\",\n",
        "                   [(1, 1), (1, 2), (2, 3)])\n",
        "\n",
        "# Insert sample data for book copies\n",
        "cursor.executemany(\"INSERT INTO book_copies (book_id) VALUES (?)\",\n",
        "                   [(1,), (1,), (2,), (3,), (3,)])\n",
        "\n",
        "# Insert sample data for e-books\n",
        "cursor.executemany(\"INSERT INTO ebooks (book_id) VALUES (?)\",\n",
        "                   [(2,), (3,)])\n",
        "\n",
        "# Insert sample data for reference materials\n",
        "cursor.executemany(\"INSERT INTO reference_materials (title, topic) VALUES (?, ?)\",\n",
        "                   [('Encyclopedia Britannica', 'Reference'),\n",
        "                    ('The Oxford Dictionary', 'Language')])\n",
        "\n",
        "\n",
        "# Commit the transaction\n",
        "conn.commit()\n",
        "\n",
        "# Define the SELECT queries\n",
        "queries = [\n",
        "    \"SELECT * FROM books\",\n",
        "    \"SELECT * FROM users\",\n",
        "    \"SELECT * FROM borrowings\",\n",
        "    \"SELECT * FROM book_copies\",\n",
        "    \"SELECT * FROM book_categories\",\n",
        "    \"SELECT * FROM ebooks\",\n",
        "    \"SELECT * FROM reference_materials\"\n",
        "]\n",
        "\n",
        "# Execute the queries and display the results\n",
        "for query in queries:\n",
        "    cursor.execute(query)\n",
        "    print(f\"Results for query: {query}\")\n",
        "    print(cursor.fetchall())\n",
        "    print(\"\\n\")\n",
        "\n",
        "# Close the cursor and connection\n",
        "cursor.close()\n",
        "conn.close()"
      ]
    },
    {
      "cell_type": "code",
      "source": [
        "# Install the required libraries\n",
        "!pip install graphviz\n",
        "\n",
        "# Import necessary libraries\n",
        "from graphviz import Digraph\n",
        "\n",
        "# Create a new graph\n",
        "graph = Digraph()\n",
        "\n",
        "# Define nodes for books, users, borrowings, book copies, book categories, e-books, and reference materials\n",
        "graph.node('books', label='Books')\n",
        "graph.node('users', label='Users')\n",
        "graph.node('borrowings', label='Borrowings')\n",
        "graph.node('book_copies', label='Book Copies')\n",
        "graph.node('book_categories', label='Book Categories')\n",
        "graph.node('ebooks', label='E-books')\n",
        "graph.node('reference_materials', label='Reference Materials')\n",
        "\n",
        "# Define relationships between entities\n",
        "graph.edge('users', 'borrowings', label='Borrow')\n",
        "graph.edge('books', 'borrowings', label='Borrowed by')\n",
        "graph.edge('books', 'book_copies', label='Has')\n",
        "graph.edge('books', 'ebooks', label='Has (e-book)')\n",
        "graph.edge('books', 'reference_materials', label='Also')\n",
        "graph.edge('books', 'book_categories', label='Belongs to')\n",
        "\n",
        "# Render and display the graph\n",
        "graph.render('library_erd', format='png', cleanup=True)\n",
        "graph"
      ],
      "metadata": {
        "colab": {
          "base_uri": "https://localhost:8080/",
          "height": 214
        },
        "id": "IIboJoVEX2zD",
        "outputId": "4b030686-bfaa-4b1d-86b6-0594a1346c23"
      },
      "execution_count": null,
      "outputs": [
        {
          "output_type": "stream",
          "name": "stdout",
          "text": [
            "Requirement already satisfied: graphviz in /usr/local/lib/python3.10/dist-packages (0.20.3)\n"
          ]
        },
        {
          "output_type": "execute_result",
          "data": {
            "image/svg+xml": "<?xml version=\"1.0\" encoding=\"UTF-8\" standalone=\"no\"?>\n<!DOCTYPE svg PUBLIC \"-//W3C//DTD SVG 1.1//EN\"\n \"http://www.w3.org/Graphics/SVG/1.1/DTD/svg11.dtd\">\n<!-- Generated by graphviz version 2.43.0 (0)\n -->\n<!-- Title: %3 Pages: 1 -->\n<svg width=\"683pt\" height=\"131pt\"\n viewBox=\"0.00 0.00 682.54 131.00\" xmlns=\"http://www.w3.org/2000/svg\" xmlns:xlink=\"http://www.w3.org/1999/xlink\">\n<g id=\"graph0\" class=\"graph\" transform=\"scale(1 1) rotate(0) translate(4 127)\">\n<title>%3</title>\n<polygon fill=\"white\" stroke=\"transparent\" points=\"-4,4 -4,-127 678.54,-127 678.54,4 -4,4\"/>\n<!-- books -->\n<g id=\"node1\" class=\"node\">\n<title>books</title>\n<ellipse fill=\"none\" stroke=\"black\" cx=\"328.54\" cy=\"-105\" rx=\"33.29\" ry=\"18\"/>\n<text text-anchor=\"middle\" x=\"328.54\" y=\"-101.3\" font-family=\"Times,serif\" font-size=\"14.00\">Books</text>\n</g>\n<!-- borrowings -->\n<g id=\"node3\" class=\"node\">\n<title>borrowings</title>\n<ellipse fill=\"none\" stroke=\"black\" cx=\"622.54\" cy=\"-18\" rx=\"51.99\" ry=\"18\"/>\n<text text-anchor=\"middle\" x=\"622.54\" y=\"-14.3\" font-family=\"Times,serif\" font-size=\"14.00\">Borrowings</text>\n</g>\n<!-- books&#45;&gt;borrowings -->\n<g id=\"edge2\" class=\"edge\">\n<title>books&#45;&gt;borrowings</title>\n<path fill=\"none\" stroke=\"black\" d=\"M357.61,-96.09C383.18,-89.09 421.38,-78.54 454.54,-69 495.09,-57.33 541,-43.64 574.57,-33.53\"/>\n<polygon fill=\"black\" stroke=\"black\" points=\"576.01,-36.75 584.57,-30.52 573.99,-30.05 576.01,-36.75\"/>\n<text text-anchor=\"middle\" x=\"540.54\" y=\"-57.8\" font-family=\"Times,serif\" font-size=\"14.00\">Borrowed by</text>\n</g>\n<!-- book_copies -->\n<g id=\"node4\" class=\"node\">\n<title>book_copies</title>\n<ellipse fill=\"none\" stroke=\"black\" cx=\"56.54\" cy=\"-18\" rx=\"56.59\" ry=\"18\"/>\n<text text-anchor=\"middle\" x=\"56.54\" y=\"-14.3\" font-family=\"Times,serif\" font-size=\"14.00\">Book Copies</text>\n</g>\n<!-- books&#45;&gt;book_copies -->\n<g id=\"edge3\" class=\"edge\">\n<title>books&#45;&gt;book_copies</title>\n<path fill=\"none\" stroke=\"black\" d=\"M300.46,-95.22C254.36,-80.82 162.1,-51.99 105.2,-34.21\"/>\n<polygon fill=\"black\" stroke=\"black\" points=\"105.94,-30.77 95.35,-31.13 103.85,-37.45 105.94,-30.77\"/>\n<text text-anchor=\"middle\" x=\"220.54\" y=\"-57.8\" font-family=\"Times,serif\" font-size=\"14.00\">Has</text>\n</g>\n<!-- book_categories -->\n<g id=\"node5\" class=\"node\">\n<title>book_categories</title>\n<ellipse fill=\"none\" stroke=\"black\" cx=\"200.54\" cy=\"-18\" rx=\"69.59\" ry=\"18\"/>\n<text text-anchor=\"middle\" x=\"200.54\" y=\"-14.3\" font-family=\"Times,serif\" font-size=\"14.00\">Book Categories</text>\n</g>\n<!-- books&#45;&gt;book_categories -->\n<g id=\"edge6\" class=\"edge\">\n<title>books&#45;&gt;book_categories</title>\n<path fill=\"none\" stroke=\"black\" d=\"M305.02,-92C292.96,-85.59 278.2,-77.31 265.54,-69 252.81,-60.63 239.36,-50.52 228.03,-41.59\"/>\n<polygon fill=\"black\" stroke=\"black\" points=\"230.18,-38.83 220.18,-35.33 225.82,-44.31 230.18,-38.83\"/>\n<text text-anchor=\"middle\" x=\"295.04\" y=\"-57.8\" font-family=\"Times,serif\" font-size=\"14.00\">Belongs to</text>\n</g>\n<!-- ebooks -->\n<g id=\"node6\" class=\"node\">\n<title>ebooks</title>\n<ellipse fill=\"none\" stroke=\"black\" cx=\"328.54\" cy=\"-18\" rx=\"40.09\" ry=\"18\"/>\n<text text-anchor=\"middle\" x=\"328.54\" y=\"-14.3\" font-family=\"Times,serif\" font-size=\"14.00\">E&#45;books</text>\n</g>\n<!-- books&#45;&gt;ebooks -->\n<g id=\"edge4\" class=\"edge\">\n<title>books&#45;&gt;ebooks</title>\n<path fill=\"none\" stroke=\"black\" d=\"M328.54,-86.8C328.54,-75.16 328.54,-59.55 328.54,-46.24\"/>\n<polygon fill=\"black\" stroke=\"black\" points=\"332.05,-46.18 328.54,-36.18 325.05,-46.18 332.05,-46.18\"/>\n<text text-anchor=\"middle\" x=\"364.54\" y=\"-57.8\" font-family=\"Times,serif\" font-size=\"14.00\">Has (e&#45;book)</text>\n</g>\n<!-- reference_materials -->\n<g id=\"node7\" class=\"node\">\n<title>reference_materials</title>\n<ellipse fill=\"none\" stroke=\"black\" cx=\"469.54\" cy=\"-18\" rx=\"82.59\" ry=\"18\"/>\n<text text-anchor=\"middle\" x=\"469.54\" y=\"-14.3\" font-family=\"Times,serif\" font-size=\"14.00\">Reference Materials</text>\n</g>\n<!-- books&#45;&gt;reference_materials -->\n<g id=\"edge5\" class=\"edge\">\n<title>books&#45;&gt;reference_materials</title>\n<path fill=\"none\" stroke=\"black\" d=\"M354.61,-93.71C369.63,-87.37 388.63,-78.62 404.54,-69 417.68,-61.06 431.29,-50.94 442.63,-41.88\"/>\n<polygon fill=\"black\" stroke=\"black\" points=\"444.9,-44.54 450.45,-35.52 440.49,-39.11 444.9,-44.54\"/>\n<text text-anchor=\"middle\" x=\"437.54\" y=\"-57.8\" font-family=\"Times,serif\" font-size=\"14.00\">Also</text>\n</g>\n<!-- users -->\n<g id=\"node2\" class=\"node\">\n<title>users</title>\n<ellipse fill=\"none\" stroke=\"black\" cx=\"622.54\" cy=\"-105\" rx=\"30.59\" ry=\"18\"/>\n<text text-anchor=\"middle\" x=\"622.54\" y=\"-101.3\" font-family=\"Times,serif\" font-size=\"14.00\">Users</text>\n</g>\n<!-- users&#45;&gt;borrowings -->\n<g id=\"edge1\" class=\"edge\">\n<title>users&#45;&gt;borrowings</title>\n<path fill=\"none\" stroke=\"black\" d=\"M622.54,-86.8C622.54,-75.16 622.54,-59.55 622.54,-46.24\"/>\n<polygon fill=\"black\" stroke=\"black\" points=\"626.05,-46.18 622.54,-36.18 619.05,-46.18 626.05,-46.18\"/>\n<text text-anchor=\"middle\" x=\"643.54\" y=\"-57.8\" font-family=\"Times,serif\" font-size=\"14.00\">Borrow</text>\n</g>\n</g>\n</svg>\n",
            "text/plain": [
              "<graphviz.graphs.Digraph at 0x7f3eeca67490>"
            ]
          },
          "metadata": {},
          "execution_count": 3
        }
      ]
    }
  ]
}