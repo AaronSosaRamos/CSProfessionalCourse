{
  "nbformat": 4,
  "nbformat_minor": 0,
  "metadata": {
    "colab": {
      "provenance": []
    },
    "kernelspec": {
      "name": "python3",
      "display_name": "Python 3"
    },
    "language_info": {
      "name": "python"
    }
  },
  "cells": [
    {
      "cell_type": "markdown",
      "source": [
        "#Searching and Sorting Algorithms:"
      ],
      "metadata": {
        "id": "uZYLWyrb4VSE"
      }
    },
    {
      "cell_type": "markdown",
      "source": [
        "#Binary Search\n",
        "Binary search is used to efficiently find the position of a target value within a sorted array. It works by repeatedly dividing in half the portion of the array that could contain the target value."
      ],
      "metadata": {
        "id": "ZgSRI7ga4eZc"
      }
    },
    {
      "cell_type": "code",
      "execution_count": null,
      "metadata": {
        "colab": {
          "base_uri": "https://localhost:8080/"
        },
        "id": "lH9opt9K37Dm",
        "outputId": "29ed9b1c-d039-40f6-af88-4a6b583fd15b"
      },
      "outputs": [
        {
          "output_type": "stream",
          "name": "stdout",
          "text": [
            "Element found at index 5\n"
          ]
        }
      ],
      "source": [
        "def binary_search(arr, target):\n",
        "    left, right = 0, len(arr) - 1\n",
        "\n",
        "    while left <= right:\n",
        "        mid = (left + right) // 2\n",
        "\n",
        "        # Check if the target is present at mid\n",
        "        if arr[mid] == target:\n",
        "            return mid\n",
        "        # If target is greater, ignore the left half\n",
        "        elif arr[mid] < target:\n",
        "            left = mid + 1\n",
        "        # If target is smaller, ignore the right half\n",
        "        else:\n",
        "            right = mid - 1\n",
        "\n",
        "    # Target was not found in the array\n",
        "    return -1\n",
        "\n",
        "# Example usage:\n",
        "arr = [2, 5, 8, 12, 16, 23, 38, 56, 72, 91]\n",
        "target = 23\n",
        "result = binary_search(arr, target)\n",
        "if result != -1:\n",
        "    print(f\"Element found at index {result}\")\n",
        "else:\n",
        "    print(\"Element not found in array\")"
      ]
    },
    {
      "cell_type": "markdown",
      "source": [
        "#Merge Sort\n",
        "Merge sort is a divide and conquer algorithm that recursively divides the array into halves, sorts each half, and then merges them back together."
      ],
      "metadata": {
        "id": "zYN3X7Ps4oer"
      }
    },
    {
      "cell_type": "code",
      "source": [
        "def merge_sort(arr):\n",
        "    if len(arr) <= 1:\n",
        "        return arr\n",
        "\n",
        "    # Divide the array into two halves\n",
        "    mid = len(arr) // 2\n",
        "    left_half = arr[:mid]\n",
        "    right_half = arr[mid:]\n",
        "\n",
        "    # Recursively sort each half\n",
        "    left_half = merge_sort(left_half)\n",
        "    right_half = merge_sort(right_half)\n",
        "\n",
        "    # Merge the sorted halves\n",
        "    return merge(left_half, right_half)\n",
        "\n",
        "def merge(left, right):\n",
        "    result = []\n",
        "    i = j = 0\n",
        "\n",
        "    # Merge the two halves while maintaining sorted order\n",
        "    while i < len(left) and j < len(right):\n",
        "        if left[i] <= right[j]:\n",
        "            result.append(left[i])\n",
        "            i += 1\n",
        "        else:\n",
        "            result.append(right[j])\n",
        "            j += 1\n",
        "\n",
        "    # Append remaining elements\n",
        "    result.extend(left[i:])\n",
        "    result.extend(right[j:])\n",
        "\n",
        "    return result\n",
        "\n",
        "# Example usage:\n",
        "arr = [12, 11, 13, 5, 6, 7]\n",
        "sorted_arr = merge_sort(arr)\n",
        "print(\"Sorted array:\", sorted_arr)"
      ],
      "metadata": {
        "id": "OyyKCcNi4qcb",
        "outputId": "4e30619b-c643-49ca-c988-b7b28b7276c6",
        "colab": {
          "base_uri": "https://localhost:8080/"
        }
      },
      "execution_count": null,
      "outputs": [
        {
          "output_type": "stream",
          "name": "stdout",
          "text": [
            "Sorted array: [5, 6, 7, 11, 12, 13]\n"
          ]
        }
      ]
    },
    {
      "cell_type": "markdown",
      "source": [
        "#Bubble Sort\n"
      ],
      "metadata": {
        "id": "MqqjLhfJ5C-0"
      }
    },
    {
      "cell_type": "markdown",
      "source": [
        "Bubble sort is a simple comparison-based sorting algorithm. It repeatedly steps through the list, compares adjacent elements, and swaps them if they are in the wrong order.\n"
      ],
      "metadata": {
        "id": "ywzAKh6i5E7D"
      }
    },
    {
      "cell_type": "code",
      "source": [
        "def bubble_sort(arr):\n",
        "    n = len(arr)\n",
        "    # Traverse through all array elements\n",
        "    for i in range(n):\n",
        "        # Last i elements are already in place\n",
        "        for j in range(0, n - i - 1):\n",
        "            # Traverse the array from 0 to n-i-1\n",
        "            # Swap if the element found is greater\n",
        "            # than the next element\n",
        "            if arr[j] > arr[j + 1]:\n",
        "                arr[j], arr[j + 1] = arr[j + 1], arr[j]\n",
        "\n",
        "# Example usage:\n",
        "arr = [64, 34, 25, 12, 22, 11, 90]\n",
        "bubble_sort(arr)\n",
        "print(\"Sorted array using Bubble Sort:\", arr)"
      ],
      "metadata": {
        "colab": {
          "base_uri": "https://localhost:8080/"
        },
        "id": "0aQkV6CO5GTD",
        "outputId": "7ef9ba92-383e-430b-cde0-aed24476dc63"
      },
      "execution_count": null,
      "outputs": [
        {
          "output_type": "stream",
          "name": "stdout",
          "text": [
            "Sorted array using Bubble Sort: [11, 12, 22, 25, 34, 64, 90]\n"
          ]
        }
      ]
    },
    {
      "cell_type": "markdown",
      "source": [
        "#Counting Sort"
      ],
      "metadata": {
        "id": "fjxnKr3N5g2j"
      }
    },
    {
      "cell_type": "markdown",
      "source": [
        "Counting sort is an integer sorting algorithm that operates by counting the number of occurrences of each distinct element and using arithmetic to determine their positions in the output array."
      ],
      "metadata": {
        "id": "mOBFdCa65hRs"
      }
    },
    {
      "cell_type": "code",
      "source": [
        "def counting_sort(arr):\n",
        "    # Determine the range of the input elements\n",
        "    max_val = max(arr)\n",
        "    min_val = min(arr)\n",
        "    range_size = max_val - min_val + 1\n",
        "\n",
        "    # Create a dynamic programming array to store the count of each element\n",
        "    count = [0] * range_size\n",
        "\n",
        "    # Count the occurrences of each element in the input array\n",
        "    for num in arr:\n",
        "        count[num - min_val] += 1\n",
        "\n",
        "    # Reconstruct the sorted array based on the count array\n",
        "    sorted_arr = []\n",
        "    for i in range(range_size):\n",
        "        if count[i] > 0:\n",
        "            sorted_arr.extend([i + min_val] * count[i])\n",
        "\n",
        "    return sorted_arr\n",
        "\n",
        "# Example usage:\n",
        "arr = [4, 2, 2, 8, 3, 3, 1]\n",
        "sorted_arr = counting_sort(arr)\n",
        "print(\"Sorted array using Counting Sort:\", sorted_arr)"
      ],
      "metadata": {
        "colab": {
          "base_uri": "https://localhost:8080/"
        },
        "id": "TWbr-MHQ5daG",
        "outputId": "4fb0b150-48e7-42df-e17a-8334bca9790b"
      },
      "execution_count": null,
      "outputs": [
        {
          "output_type": "stream",
          "name": "stdout",
          "text": [
            "Sorted array using Counting Sort: [1, 2, 2, 3, 3, 4, 8]\n"
          ]
        }
      ]
    },
    {
      "cell_type": "markdown",
      "source": [
        "#Sweep Line\n",
        "Sweep Line is a computational geometry technique where we use a line (or a point) that sweeps across the plane to solve problems involving intervals or events. This technique involves sorting events or intervals based on their positions and processing them in a specific order as the sweep line moves."
      ],
      "metadata": {
        "id": "8ubiiKvj5nPU"
      }
    },
    {
      "cell_type": "markdown",
      "source": [
        "Finding the maximum number of overlapping intervals"
      ],
      "metadata": {
        "id": "Dv7HnbRp6BcT"
      }
    },
    {
      "cell_type": "code",
      "source": [
        "def max_overlapping_intervals(intervals):\n",
        "    events = []\n",
        "\n",
        "    # Create events for start and end of each interval\n",
        "    for start, end in intervals:\n",
        "        events.append((start, 'start'))\n",
        "        events.append((end, 'end'))\n",
        "\n",
        "    # Sort events by position, with 'end' events coming before 'start' events if tied\n",
        "    events.sort(key=lambda x: (x[0], x[1] == 'start'))\n",
        "\n",
        "    max_overlaps = 0\n",
        "    current_overlaps = 0\n",
        "\n",
        "    # Sweep line processing\n",
        "    for event in events:\n",
        "        if event[1] == 'start':\n",
        "            current_overlaps += 1\n",
        "            max_overlaps = max(max_overlaps, current_overlaps)\n",
        "        else:\n",
        "            current_overlaps -= 1\n",
        "\n",
        "    return max_overlaps\n",
        "\n",
        "# Example usage:\n",
        "intervals = [(1, 3), (2, 4), (3, 6), (5, 7), (6, 8)]\n",
        "result = max_overlapping_intervals(intervals)\n",
        "print(\"Maximum number of overlapping intervals:\", result)"
      ],
      "metadata": {
        "colab": {
          "base_uri": "https://localhost:8080/"
        },
        "id": "KNnaQXS45sdb",
        "outputId": "05b42654-4712-43a8-d239-e8b71b13be54"
      },
      "execution_count": null,
      "outputs": [
        {
          "output_type": "stream",
          "name": "stdout",
          "text": [
            "Maximum number of overlapping intervals: 2\n"
          ]
        }
      ]
    },
    {
      "cell_type": "markdown",
      "source": [
        "#Sliding Window"
      ],
      "metadata": {
        "id": "dSiLzCcd55HT"
      }
    },
    {
      "cell_type": "markdown",
      "source": [
        "Sliding Window is a technique used for finding subarrays (or sublists) of a fixed size k or with specific properties in a given list or array. It involves using two pointers or indices to define a window of elements and then adjusting this window as needed to solve the problem efficiently.\n"
      ],
      "metadata": {
        "id": "UGm46GFy56Kb"
      }
    },
    {
      "cell_type": "markdown",
      "source": [
        "Finding the maximum sum of a subarray of size k"
      ],
      "metadata": {
        "id": "tVbwQMaN6DRb"
      }
    },
    {
      "cell_type": "code",
      "source": [
        "def max_sum_subarray(arr, k):\n",
        "    max_sum = float('-inf')\n",
        "    current_sum = 0\n",
        "\n",
        "    # Calculate sum of first window of size k\n",
        "    for i in range(k):\n",
        "        current_sum += arr[i]\n",
        "\n",
        "    max_sum = current_sum\n",
        "\n",
        "    # Slide the window across the array\n",
        "    for i in range(k, len(arr)):\n",
        "        current_sum += arr[i] - arr[i - k]\n",
        "        max_sum = max(max_sum, current_sum)\n",
        "\n",
        "    return max_sum\n",
        "\n",
        "# Example usage:\n",
        "arr = [2, 1, 5, 1, 3, 2]\n",
        "k = 3\n",
        "result = max_sum_subarray(arr, k)\n",
        "print(\"Maximum sum of subarray of size\", k, \":\", result)"
      ],
      "metadata": {
        "colab": {
          "base_uri": "https://localhost:8080/"
        },
        "id": "-OoMw8jE54_z",
        "outputId": "e7ae2f84-6936-4dad-dd97-0423a666c6c9"
      },
      "execution_count": null,
      "outputs": [
        {
          "output_type": "stream",
          "name": "stdout",
          "text": [
            "Maximum sum of subarray of size 3 : 9\n"
          ]
        }
      ]
    },
    {
      "cell_type": "markdown",
      "source": [
        "#Binary Search\n",
        "Binary Search is a divide and conquer algorithm that efficiently finds the position of a target value within a sorted array. It compares the target value to the middle element of the array and decides to continue searching in the left half or right half based on the comparison.\n"
      ],
      "metadata": {
        "id": "7z4bCt7w6QUz"
      }
    },
    {
      "cell_type": "code",
      "source": [
        "def binary_search(arr, target):\n",
        "    left, right = 0, len(arr) - 1\n",
        "\n",
        "    while left <= right:\n",
        "        mid = (left + right) // 2\n",
        "\n",
        "        # Check if the target is present at mid\n",
        "        if arr[mid] == target:\n",
        "            return mid\n",
        "        # If target is greater, ignore the left half\n",
        "        elif arr[mid] < target:\n",
        "            left = mid + 1\n",
        "        # If target is smaller, ignore the right half\n",
        "        else:\n",
        "            right = mid - 1\n",
        "\n",
        "    # Target was not found in the array\n",
        "    return -1\n",
        "\n",
        "# Example usage:\n",
        "arr = [2, 5, 8, 12, 16, 23, 38, 56, 72, 91]\n",
        "target = 23\n",
        "result = binary_search(arr, target)\n",
        "if result != -1:\n",
        "    print(f\"Element found at index {result}\")\n",
        "else:\n",
        "    print(\"Element not found in array\")"
      ],
      "metadata": {
        "colab": {
          "base_uri": "https://localhost:8080/"
        },
        "id": "eFW8ciC46Rsj",
        "outputId": "36192db2-3359-42e0-b82f-49392e76279f"
      },
      "execution_count": null,
      "outputs": [
        {
          "output_type": "stream",
          "name": "stdout",
          "text": [
            "Element found at index 5\n"
          ]
        }
      ]
    },
    {
      "cell_type": "markdown",
      "source": [
        "#Ternary Search\n"
      ],
      "metadata": {
        "id": "hfou950S6hOL"
      }
    },
    {
      "cell_type": "markdown",
      "source": [
        "Ternary Search is a divide and conquer algorithm that is used to determine the position of the maximum or minimum value of a unimodal function (a function that increases then decreases or vice versa).\n"
      ],
      "metadata": {
        "id": "wj3rU81W6jcj"
      }
    },
    {
      "cell_type": "code",
      "source": [
        "def ternary_search(func, left, right, eps=1e-9):\n",
        "    while right - left > eps:\n",
        "        # Find mid1 and mid2\n",
        "        mid1 = left + (right - left) / 3\n",
        "        mid2 = right - (right - left) / 3\n",
        "\n",
        "        # Calculate the values at mid1 and mid2\n",
        "        f_mid1 = func(mid1)\n",
        "        f_mid2 = func(mid2)\n",
        "\n",
        "        # Decide the search range\n",
        "        if f_mid1 < f_mid2:\n",
        "            left = mid1\n",
        "        else:\n",
        "            right = mid2\n",
        "\n",
        "    # Return the minimum or maximum value\n",
        "    return (left + right) / 2\n",
        "\n",
        "# Example usage:\n",
        "import math\n",
        "\n",
        "# Define a unimodal function (e.g., a parabola)\n",
        "def f(x):\n",
        "    return -(x - 3) ** 2 + 5\n",
        "\n",
        "# Find the maximum value of the function within the range [0, 5]\n",
        "max_value = ternary_search(f, 0, 5)\n",
        "print(\"Maximum value of the function:\", f(max_value))"
      ],
      "metadata": {
        "colab": {
          "base_uri": "https://localhost:8080/"
        },
        "id": "DQZUP0Am6hy7",
        "outputId": "25ea3232-3b0a-4277-e094-5e9cf6c68c3d"
      },
      "execution_count": null,
      "outputs": [
        {
          "output_type": "stream",
          "name": "stdout",
          "text": [
            "Maximum value of the function: 5.0\n"
          ]
        }
      ]
    }
  ]
}