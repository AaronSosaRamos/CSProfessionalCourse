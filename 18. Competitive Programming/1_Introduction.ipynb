{
  "nbformat": 4,
  "nbformat_minor": 0,
  "metadata": {
    "colab": {
      "provenance": []
    },
    "kernelspec": {
      "name": "python3",
      "display_name": "Python 3"
    },
    "language_info": {
      "name": "python"
    }
  },
  "cells": [
    {
      "cell_type": "markdown",
      "source": [
        "#Recursive Algorithms: Subsets, Permutations, and Backtracking\n"
      ],
      "metadata": {
        "id": "XUO_Ww7HsW2Z"
      }
    },
    {
      "cell_type": "markdown",
      "source": [
        "#Subsets\n",
        "Subsets of a set are all possible combinations of its elements. To find all subsets recursively, we can utilize the concept that for each element in the set, we have two choices: include it in a subset or exclude it. This forms the basis for our recursive approach.\n",
        "\n"
      ],
      "metadata": {
        "id": "nkhiBOc9sZcH"
      }
    },
    {
      "cell_type": "code",
      "execution_count": null,
      "metadata": {
        "colab": {
          "base_uri": "https://localhost:8080/"
        },
        "id": "5ZKuMUCUsNE8",
        "outputId": "09827d5d-e88a-46ff-c184-f341ad31b530"
      },
      "outputs": [
        {
          "output_type": "stream",
          "name": "stdout",
          "text": [
            "[[], [1], [1, 2], [1, 2, 3], [1, 3], [2], [2, 3], [3]]\n"
          ]
        }
      ],
      "source": [
        "def subsets(nums):\n",
        "    result = []\n",
        "\n",
        "    def backtrack(start, current_subset):\n",
        "        result.append(current_subset[:])  # Add a copy of the current subset\n",
        "\n",
        "        for i in range(start, len(nums)):\n",
        "            current_subset.append(nums[i])  # Include the current element\n",
        "            backtrack(i + 1, current_subset)  # Recursively generate subsets\n",
        "            current_subset.pop()  # Backtrack: remove the current element\n",
        "\n",
        "    backtrack(0, [])\n",
        "    return result\n",
        "\n",
        "# Example usage:\n",
        "nums = [1, 2, 3]\n",
        "print(subsets(nums))  # Output: [[], [1], [1, 2], [1, 2, 3], [1, 3], [2], [2, 3], [3]]"
      ]
    },
    {
      "cell_type": "markdown",
      "source": [
        "#Permutations\n",
        "Permutations of a set are all possible arrangements of its elements. Using recursion, we can generate permutations by choosing each element as a starting point and recursively permuting the remaining elements."
      ],
      "metadata": {
        "id": "P84qf7JCsjDM"
      }
    },
    {
      "cell_type": "code",
      "source": [
        "def permutations(nums):\n",
        "    result = []\n",
        "\n",
        "    def backtrack(current_permutation):\n",
        "        if len(current_permutation) == len(nums):\n",
        "            result.append(current_permutation[:])  # Add a copy of the current permutation\n",
        "            return\n",
        "\n",
        "        for num in nums:\n",
        "            if num in current_permutation:\n",
        "                continue  # Skip if the number is already in the current permutation\n",
        "            current_permutation.append(num)\n",
        "            backtrack(current_permutation)\n",
        "            current_permutation.pop()  # Backtrack: remove the last added element\n",
        "\n",
        "    backtrack([])\n",
        "    return result\n",
        "\n",
        "# Example usage:\n",
        "nums = [1, 2, 3]\n",
        "print(permutations(nums))  # Output: [[1, 2, 3], [1, 3, 2], [2, 1, 3], [2, 3, 1], [3, 1, 2], [3, 2, 1]]"
      ],
      "metadata": {
        "colab": {
          "base_uri": "https://localhost:8080/"
        },
        "id": "WWmbj7bJsix3",
        "outputId": "ecae18a7-3ccb-402a-bac4-48cf5ee49ecf"
      },
      "execution_count": null,
      "outputs": [
        {
          "output_type": "stream",
          "name": "stdout",
          "text": [
            "[[1, 2, 3], [1, 3, 2], [2, 1, 3], [2, 3, 1], [3, 1, 2], [3, 2, 1]]\n"
          ]
        }
      ]
    },
    {
      "cell_type": "markdown",
      "source": [
        "#Backtracking"
      ],
      "metadata": {
        "id": "pPWHXWxusuOp"
      }
    },
    {
      "cell_type": "markdown",
      "source": [
        "Backtracking is a general algorithmic technique that explores all potential solutions by constructing each candidate incrementally and abandoning a candidate (\"backtracking\") as soon as it determines that the candidate cannot possibly be completed to a valid solution.\n",
        "\n"
      ],
      "metadata": {
        "id": "5KVc-Ic0su6U"
      }
    },
    {
      "cell_type": "markdown",
      "source": [
        "Example: N-Queens Problem"
      ],
      "metadata": {
        "id": "qvCVLvZSs1jr"
      }
    },
    {
      "cell_type": "code",
      "source": [
        "def solve_n_queens(n):\n",
        "    result = []\n",
        "\n",
        "    def is_valid(board, row, col):\n",
        "        # Check if placing a queen at board[row][col] is valid\n",
        "        for r in range(row):\n",
        "            if board[r] == col or abs(board[r] - col) == row - r:\n",
        "                return False\n",
        "        return True\n",
        "\n",
        "    def backtrack(board, row):\n",
        "        if row == n:\n",
        "            # If we've placed queens in all rows, add the current board configuration to result\n",
        "            result.append([\"\".join('Q' if board[i] == col else '.' for col in range(n)) for i in range(n)])\n",
        "            return\n",
        "\n",
        "        for col in range(n):\n",
        "            if is_valid(board, row, col):\n",
        "                board[row] = col  # Place queen at board[row][col]\n",
        "                backtrack(board, row + 1)  # Recur to place queens in the next row\n",
        "                board[row] = -1  # Backtrack: remove queen from board[row][col]\n",
        "\n",
        "    board = [-1] * n  # Initialize the board: -1 means no queen placed in that row yet\n",
        "    backtrack(board, 0)  # Start backtracking from the first row\n",
        "    return result\n",
        "\n",
        "# Example usage:\n",
        "n = 4\n",
        "solutions = solve_n_queens(n)\n",
        "for solution in solutions:\n",
        "    for row in solution:\n",
        "        print(row)\n",
        "    print()"
      ],
      "metadata": {
        "colab": {
          "base_uri": "https://localhost:8080/"
        },
        "id": "XuYf4e2Ms18g",
        "outputId": "e75f4bf8-1fe7-48ce-cfa1-1e811538918d"
      },
      "execution_count": null,
      "outputs": [
        {
          "output_type": "stream",
          "name": "stdout",
          "text": [
            ".Q..\n",
            "...Q\n",
            "Q...\n",
            "..Q.\n",
            "\n",
            "..Q.\n",
            "Q...\n",
            "...Q\n",
            ".Q..\n",
            "\n"
          ]
        }
      ]
    },
    {
      "cell_type": "code",
      "source": [
        "def is_safe(board, row, col, n):\n",
        "    # Check if there is a queen in the same column up to the current row\n",
        "    for i in range(row):\n",
        "        if board[i][col] == 1:\n",
        "            return False\n",
        "\n",
        "    # Check upper left diagonal\n",
        "    for i, j in zip(range(row, -1, -1), range(col, -1, -1)):\n",
        "        if board[i][j] == 1:\n",
        "            return False\n",
        "\n",
        "    # Check upper right diagonal\n",
        "    for i, j in zip(range(row, -1, -1), range(col, n)):\n",
        "        if board[i][j] == 1:\n",
        "            return False\n",
        "\n",
        "    return True\n",
        "\n",
        "def solve_n_queens_util(board, row, n):\n",
        "    if row == n:\n",
        "        return True\n",
        "\n",
        "    for col in range(n):\n",
        "        if is_safe(board, row, col, n):\n",
        "            board[row][col] = 1\n",
        "\n",
        "            if solve_n_queens_util(board, row + 1, n):\n",
        "                return True\n",
        "\n",
        "            # Backtrack\n",
        "            board[row][col] = 0\n",
        "\n",
        "    return False\n",
        "\n",
        "def solve_n_queens(n):\n",
        "    board = [[0] * n for _ in range(n)]\n",
        "\n",
        "    if not solve_n_queens_util(board, 0, n):\n",
        "        print(\"No solution exists.\")\n",
        "        return []\n",
        "\n",
        "    return board\n",
        "\n",
        "def print_board(board):\n",
        "    n = len(board)\n",
        "    for i in range(n):\n",
        "        for j in range(n):\n",
        "            if board[i][j] == 1:\n",
        "                print(\"Q\", end=\" \")\n",
        "            else:\n",
        "                print(\".\", end=\" \")\n",
        "        print()\n",
        "\n",
        "n = 4  # Change this to the desired board size (e.g., n = 4 for 4x4 board)\n",
        "solution = solve_n_queens(n)\n",
        "\n",
        "if solution:\n",
        "    print(\"Solution:\")\n",
        "    print_board(solution)"
      ],
      "metadata": {
        "colab": {
          "base_uri": "https://localhost:8080/"
        },
        "id": "gfP4iVCht4am",
        "outputId": "33bfe753-8e0a-441e-cd56-c72c71c1023b"
      },
      "execution_count": null,
      "outputs": [
        {
          "output_type": "stream",
          "name": "stdout",
          "text": [
            "Solution:\n",
            ". Q . . \n",
            ". . . Q \n",
            "Q . . . \n",
            ". . Q . \n"
          ]
        }
      ]
    },
    {
      "cell_type": "markdown",
      "source": [
        "#Bit Manipulation: Basic Operations\n"
      ],
      "metadata": {
        "id": "4Fxi4A5xuQ0G"
      }
    },
    {
      "cell_type": "markdown",
      "source": [
        "Left Shift (<<): Shifts the bits of a number to the left, effectively multiplying the number by 2 for each shift."
      ],
      "metadata": {
        "id": "IkeAJGZxuTTi"
      }
    },
    {
      "cell_type": "code",
      "source": [
        "x = 5  # Binary representation: 0101\n",
        "result = x << 1  # Left shift by 1: 1010 (equivalent to multiplying x by 2)\n",
        "print(result)  # Output: 10"
      ],
      "metadata": {
        "colab": {
          "base_uri": "https://localhost:8080/"
        },
        "id": "BArdw3UUuRWx",
        "outputId": "179ccd41-2646-4768-f933-8e743044b14a"
      },
      "execution_count": null,
      "outputs": [
        {
          "output_type": "stream",
          "name": "stdout",
          "text": [
            "10\n"
          ]
        }
      ]
    },
    {
      "cell_type": "markdown",
      "source": [
        "Right Shift (>>): Shifts the bits of a number to the right, effectively dividing the number by 2 for each shift."
      ],
      "metadata": {
        "id": "ZZY-MfCQuboN"
      }
    },
    {
      "cell_type": "code",
      "source": [
        "x = 8  # Binary representation: 1000\n",
        "result = x >> 1  # Right shift by 1: 0100 (equivalent to dividing x by 2)\n",
        "print(result)  # Output: 4"
      ],
      "metadata": {
        "colab": {
          "base_uri": "https://localhost:8080/"
        },
        "id": "VzKVtgRKucQP",
        "outputId": "f1d7ff63-ed9d-4807-872a-794b27d2d9ba"
      },
      "execution_count": null,
      "outputs": [
        {
          "output_type": "stream",
          "name": "stdout",
          "text": [
            "4\n"
          ]
        }
      ]
    },
    {
      "cell_type": "markdown",
      "source": [
        "Bitwise AND (&): Performs the bitwise AND operation between two numbers.\n"
      ],
      "metadata": {
        "id": "tkpGOZFuuhzt"
      }
    },
    {
      "cell_type": "code",
      "source": [
        "x = 5   # Binary representation: 0101\n",
        "y = 3   # Binary representation: 0011\n",
        "result = x & y  # Bitwise AND: 0001\n",
        "print(result)  # Output: 1"
      ],
      "metadata": {
        "colab": {
          "base_uri": "https://localhost:8080/"
        },
        "id": "vV2kvVR9uiZj",
        "outputId": "6577a2e3-2f54-4ca2-f163-2899af985a69"
      },
      "execution_count": null,
      "outputs": [
        {
          "output_type": "stream",
          "name": "stdout",
          "text": [
            "1\n"
          ]
        }
      ]
    },
    {
      "cell_type": "markdown",
      "source": [
        "Bitwise OR (|): Performs the bitwise OR operation between two numbers.\n"
      ],
      "metadata": {
        "id": "BD9PpUoWumHK"
      }
    },
    {
      "cell_type": "code",
      "source": [
        "x = 5   # Binary representation: 0101\n",
        "y = 3   # Binary representation: 0011\n",
        "result = x | y  # Bitwise OR: 0111\n",
        "print(result)  # Output: 7"
      ],
      "metadata": {
        "colab": {
          "base_uri": "https://localhost:8080/"
        },
        "id": "lC4jSGBDumwO",
        "outputId": "5a6ef37a-aaa8-4a55-a3af-0e0e3a4bf0c1"
      },
      "execution_count": null,
      "outputs": [
        {
          "output_type": "stream",
          "name": "stdout",
          "text": [
            "7\n"
          ]
        }
      ]
    },
    {
      "cell_type": "markdown",
      "source": [
        "Bitwise XOR (^): Performs the bitwise XOR (exclusive OR) operation between two numbers."
      ],
      "metadata": {
        "id": "NbmVH1fRurBT"
      }
    },
    {
      "cell_type": "code",
      "source": [
        "x = 5   # Binary representation: 0101\n",
        "y = 3   # Binary representation: 0011\n",
        "result = x ^ y  # Bitwise XOR: 0110\n",
        "print(result)  # Output: 6"
      ],
      "metadata": {
        "colab": {
          "base_uri": "https://localhost:8080/"
        },
        "id": "4-Ha_hPnurd2",
        "outputId": "5549ef06-00ec-4a9c-e842-f96d1000a00a"
      },
      "execution_count": null,
      "outputs": [
        {
          "output_type": "stream",
          "name": "stdout",
          "text": [
            "6\n"
          ]
        }
      ]
    },
    {
      "cell_type": "markdown",
      "source": [
        "Bitwise NOT (~): Flips all the bits of a number.\n"
      ],
      "metadata": {
        "id": "K1PYoHpxu0C5"
      }
    },
    {
      "cell_type": "code",
      "source": [
        "x = 5   # Binary representation: 0101\n",
        "result = ~x  # Bitwise NOT: 1010 (in two's complement form)\n",
        "print(result)  # Output: -6 (in two's complement form)"
      ],
      "metadata": {
        "colab": {
          "base_uri": "https://localhost:8080/"
        },
        "id": "kBOLlb_Nu00v",
        "outputId": "b06f35d6-0334-442b-efb3-4b5cb0f56483"
      },
      "execution_count": null,
      "outputs": [
        {
          "output_type": "stream",
          "name": "stdout",
          "text": [
            "-6\n"
          ]
        }
      ]
    },
    {
      "cell_type": "markdown",
      "source": [
        "#Bit Manipulation: Set Representation\n",
        "Representing a Set:\n",
        "* Each element in a set can be represented by a bit position in an integer.\n",
        "* For a set of n elements, you can use an n-bit integer to represent subsets of these elements."
      ],
      "metadata": {
        "id": "A77DeBM3u9TP"
      }
    },
    {
      "cell_type": "code",
      "source": [
        "def set_to_binary_string(s, n):\n",
        "    # Convert the integer set representation `s` into a binary string\n",
        "    return bin(s)[2:].zfill(n)\n",
        "\n",
        "def add_element_to_set(s, element):\n",
        "    # Add an element to the set represented by integer `s`\n",
        "    return s | (1 << element)\n",
        "\n",
        "def is_element_in_set(s, element):\n",
        "    # Check if an element is present in the set represented by integer `s`\n",
        "    return (s & (1 << element)) != 0\n",
        "\n",
        "def remove_element_from_set(s, element):\n",
        "    # Remove an element from the set represented by integer `s`\n",
        "    return s & ~(1 << element)\n",
        "\n",
        "# Example usage\n",
        "n = 4  # Number of elements in the set (for demonstration)\n",
        "set_representation = 0  # Start with an empty set (represented by 0)\n",
        "\n",
        "# Add elements to the set\n",
        "set_representation = add_element_to_set(set_representation, 1)  # Add element 1\n",
        "set_representation = add_element_to_set(set_representation, 3)  # Add element 3\n",
        "\n",
        "# Check if elements are in the set\n",
        "print(\"Is element 1 in the set?\", is_element_in_set(set_representation, 1))  # Output: True\n",
        "print(\"Is element 2 in the set?\", is_element_in_set(set_representation, 2))  # Output: False\n",
        "print(\"Is element 3 in the set?\", is_element_in_set(set_representation, 3))  # Output: True\n",
        "\n",
        "# Remove an element from the set\n",
        "set_representation = remove_element_from_set(set_representation, 1)  # Remove element 1\n",
        "print(\"Set after removing element 1:\", set_to_binary_string(set_representation, n))  # Output: '0100'"
      ],
      "metadata": {
        "colab": {
          "base_uri": "https://localhost:8080/"
        },
        "id": "vgJcHqE3vD8G",
        "outputId": "7a4671eb-cae5-4362-f1c6-67aae04e9ac3"
      },
      "execution_count": null,
      "outputs": [
        {
          "output_type": "stream",
          "name": "stdout",
          "text": [
            "Is element 1 in the set? True\n",
            "Is element 2 in the set? False\n",
            "Is element 3 in the set? True\n",
            "Set after removing element 1: 1000\n"
          ]
        }
      ]
    },
    {
      "cell_type": "code",
      "source": [
        "def iterate_subsets_of_set(n):\n",
        "    subsets = []\n",
        "    total_subsets = 1 << n  # Total number of subsets (2^n)\n",
        "\n",
        "    for i in range(total_subsets):\n",
        "        subset = []\n",
        "        for j in range(n):\n",
        "            if i & (1 << j):  # Check if j-th bit is set in i\n",
        "                subset.append(j)\n",
        "        subsets.append(subset)\n",
        "\n",
        "    return subsets\n",
        "\n",
        "# Example usage\n",
        "n = 3  # Number of elements in the set (for demonstration)\n",
        "subsets = iterate_subsets_of_set(n)\n",
        "\n",
        "print(\"All subsets of the set {0, 1, 2}:\")\n",
        "for subset in subsets:\n",
        "    print(subset)"
      ],
      "metadata": {
        "colab": {
          "base_uri": "https://localhost:8080/"
        },
        "id": "DDQYtmaQvhk_",
        "outputId": "f119dcbc-0bf1-4139-9001-095088ed8656"
      },
      "execution_count": null,
      "outputs": [
        {
          "output_type": "stream",
          "name": "stdout",
          "text": [
            "All subsets of the set {0, 1, 2}:\n",
            "[]\n",
            "[0]\n",
            "[1]\n",
            "[0, 1]\n",
            "[2]\n",
            "[0, 2]\n",
            "[1, 2]\n",
            "[0, 1, 2]\n"
          ]
        }
      ]
    }
  ]
}