{
  "nbformat": 4,
  "nbformat_minor": 0,
  "metadata": {
    "colab": {
      "provenance": []
    },
    "kernelspec": {
      "name": "python3",
      "display_name": "Python 3"
    },
    "language_info": {
      "name": "python"
    }
  },
  "cells": [
    {
      "cell_type": "markdown",
      "source": [
        "#2.1. Basic Counting Principles\n",
        "\n"
      ],
      "metadata": {
        "id": "OaFmEh4zpq4I"
      }
    },
    {
      "cell_type": "markdown",
      "source": [
        "#2.1.1. Additive and Multiplicative Principles\n",
        "\n"
      ],
      "metadata": {
        "id": "AYvierDDpyBg"
      }
    },
    {
      "cell_type": "code",
      "execution_count": 1,
      "metadata": {
        "colab": {
          "base_uri": "https://localhost:8080/"
        },
        "id": "fx0Kp7sopVEZ",
        "outputId": "dae1b6cf-52bc-4312-b251-ae59f3b3068d"
      },
      "outputs": [
        {
          "output_type": "stream",
          "name": "stdout",
          "text": [
            "Principio aditivo: 5\n",
            "Principio multiplicativo: 6\n"
          ]
        }
      ],
      "source": [
        "# Principio aditivo\n",
        "def principio_aditivo(a, b):\n",
        "    return a + b\n",
        "\n",
        "# Principio multiplicativo\n",
        "def principio_multiplicativo(a, b):\n",
        "    return a * b\n",
        "\n",
        "# Ejemplo de uso\n",
        "result_aditivo = principio_aditivo(3, 2)  # Resultado esperado: 5\n",
        "result_multiplicativo = principio_multiplicativo(3, 2)  # Resultado esperado: 6\n",
        "print(\"Principio aditivo:\", result_aditivo)\n",
        "print(\"Principio multiplicativo:\", result_multiplicativo)"
      ]
    },
    {
      "cell_type": "markdown",
      "source": [
        "#2.1.2. Principle of Inclusion-Exclusion\n",
        "\n"
      ],
      "metadata": {
        "id": "iwgjjJ42qDDl"
      }
    },
    {
      "cell_type": "code",
      "source": [
        "def principio_inclusion_exclusion(set1, set2, intersection):\n",
        "    return len(set1) + len(set2) - len(intersection)\n",
        "\n",
        "# Ejemplo de uso\n",
        "students_math = set([\"John\", \"Alice\", \"Bob\", \"Eve\"])\n",
        "students_history = set([\"Alice\", \"Bob\", \"Charlie\", \"Eve\"])\n",
        "intersection = students_math.intersection(students_history)\n",
        "total_students = principio_inclusion_exclusion(students_math, students_history, intersection)\n",
        "print(\"Total students studying either math or history:\", total_students)\n"
      ],
      "metadata": {
        "colab": {
          "base_uri": "https://localhost:8080/"
        },
        "id": "QlKIc-m0qDp9",
        "outputId": "a8e9aee9-f8dc-4376-b23f-2d8b099295aa"
      },
      "execution_count": 2,
      "outputs": [
        {
          "output_type": "stream",
          "name": "stdout",
          "text": [
            "Total students studying either math or history: 5\n"
          ]
        }
      ]
    },
    {
      "cell_type": "markdown",
      "source": [
        "#2.1.3. Principle of Boxes\n"
      ],
      "metadata": {
        "id": "V-orfX0XqSC3"
      }
    },
    {
      "cell_type": "code",
      "source": [
        "def principio_casillas(m, n):\n",
        "    return m * n\n",
        "\n",
        "# Ejemplo de uso\n",
        "num_shirts = 3\n",
        "num_pants = 4\n",
        "total_combinations = principio_casillas(num_shirts, num_pants)\n",
        "print(\"Total combinations of shirts and pants:\", total_combinations)\n"
      ],
      "metadata": {
        "colab": {
          "base_uri": "https://localhost:8080/"
        },
        "id": "1jxLabRIqahv",
        "outputId": "47d634c2-3839-4308-9f30-a12f7e8e9a2e"
      },
      "execution_count": 3,
      "outputs": [
        {
          "output_type": "stream",
          "name": "stdout",
          "text": [
            "Total combinations of shirts and pants: 12\n"
          ]
        }
      ]
    },
    {
      "cell_type": "markdown",
      "source": [
        "#2.2. Permutations and Combinations Without Repetition\n",
        "\n"
      ],
      "metadata": {
        "id": "3dJU0fdfqe4C"
      }
    },
    {
      "cell_type": "code",
      "source": [
        "import math\n",
        "\n",
        "# Permutaciones sin repetición\n",
        "def permutations_without_repetition(n, r):\n",
        "    return math.factorial(n) / math.factorial(n - r)\n",
        "\n",
        "# Combinaciones sin repetición\n",
        "def combinations_without_repetition(n, r):\n",
        "    return math.factorial(n) / (math.factorial(r) * math.factorial(n - r))\n",
        "\n",
        "# Ejemplo de uso\n",
        "num_elements = 5\n",
        "num_selection = 3\n",
        "perm = permutations_without_repetition(num_elements, num_selection)\n",
        "comb = combinations_without_repetition(num_elements, num_selection)\n",
        "print(\"Permutations without repetition:\", perm)\n",
        "print(\"Combinations without repetition:\", comb)\n"
      ],
      "metadata": {
        "colab": {
          "base_uri": "https://localhost:8080/"
        },
        "id": "vLZzHp-aqi0Q",
        "outputId": "0da58d64-889c-4e16-f02e-49afa9f615fc"
      },
      "execution_count": 4,
      "outputs": [
        {
          "output_type": "stream",
          "name": "stdout",
          "text": [
            "Permutations without repetition: 60.0\n",
            "Combinations without repetition: 10.0\n"
          ]
        }
      ]
    },
    {
      "cell_type": "markdown",
      "source": [
        "#2.3. Permutations and Combinations With Repetition\n",
        "\n"
      ],
      "metadata": {
        "id": "2_jMYaPOqtxq"
      }
    },
    {
      "cell_type": "code",
      "source": [
        "# Permutaciones con repetición\n",
        "def permutations_with_repetition(n, r):\n",
        "    return n ** r\n",
        "\n",
        "# Combinaciones con repetición\n",
        "def combinations_with_repetition(n, r):\n",
        "    return math.factorial(n + r - 1) / (math.factorial(r) * math.factorial(n - 1))\n",
        "\n",
        "# Ejemplo de uso\n",
        "perm_rep = permutations_with_repetition(num_elements, num_selection)\n",
        "comb_rep = combinations_with_repetition(num_elements, num_selection)\n",
        "print(\"Permutations with repetition:\", perm_rep)\n",
        "print(\"Combinations with repetition:\", comb_rep)\n"
      ],
      "metadata": {
        "colab": {
          "base_uri": "https://localhost:8080/"
        },
        "id": "UHhMB9C0qwqT",
        "outputId": "d712048d-1317-4522-ff34-2515e7d65a25"
      },
      "execution_count": 5,
      "outputs": [
        {
          "output_type": "stream",
          "name": "stdout",
          "text": [
            "Permutations with repetition: 125\n",
            "Combinations with repetition: 35.0\n"
          ]
        }
      ]
    },
    {
      "cell_type": "markdown",
      "source": [
        "#2.4. Recurrence Relations\n",
        "\n"
      ],
      "metadata": {
        "id": "JtLne3MHq3bQ"
      }
    },
    {
      "cell_type": "markdown",
      "source": [
        "#2.4.1. First-Order Recurrence Relations\n",
        "\n"
      ],
      "metadata": {
        "id": "gvyo4eDmq4pB"
      }
    },
    {
      "cell_type": "code",
      "source": [
        "def fibonacci(n):\n",
        "    if n <= 1:\n",
        "        return n\n",
        "    else:\n",
        "        return fibonacci(n-1) + fibonacci(n-2)\n",
        "\n",
        "# Ejemplo de uso\n",
        "print(\"Fibonacci sequence:\")\n",
        "for i in range(10):\n",
        "    print(fibonacci(i), end=\" \")\n",
        "print()\n"
      ],
      "metadata": {
        "colab": {
          "base_uri": "https://localhost:8080/"
        },
        "id": "XiWvM123q63_",
        "outputId": "d672b405-4cd5-47e5-c84b-ea1fe21160f3"
      },
      "execution_count": 6,
      "outputs": [
        {
          "output_type": "stream",
          "name": "stdout",
          "text": [
            "Fibonacci sequence:\n",
            "0 1 1 2 3 5 8 13 21 34 \n"
          ]
        }
      ]
    },
    {
      "cell_type": "markdown",
      "source": [
        "#2.4.2. Second-Order Recurrence Relations\n",
        "\n"
      ],
      "metadata": {
        "id": "xdG5n3MbrC0B"
      }
    },
    {
      "cell_type": "code",
      "source": [
        "def tribonacci(n):\n",
        "    if n == 0:\n",
        "        return 0\n",
        "    elif n == 1 or n == 2:\n",
        "        return 1\n",
        "    else:\n",
        "        return tribonacci(n-1) + tribonacci(n-2) + tribonacci(n-3)\n",
        "\n",
        "print(\"Tribonacci sequence:\")\n",
        "for i in range(10):\n",
        "    print(tribonacci(i), end=\" \")\n",
        "print()\n"
      ],
      "metadata": {
        "colab": {
          "base_uri": "https://localhost:8080/"
        },
        "id": "MFZwQPT8rFoh",
        "outputId": "34efaee2-dab8-447b-cc90-70106895ad64"
      },
      "execution_count": 7,
      "outputs": [
        {
          "output_type": "stream",
          "name": "stdout",
          "text": [
            "Tribonacci sequence:\n",
            "0 1 1 2 4 7 13 24 44 81 \n"
          ]
        }
      ]
    },
    {
      "cell_type": "markdown",
      "source": [
        "#2.4.3. Non-Homogeneous Recurrence Relations\n",
        "\n"
      ],
      "metadata": {
        "id": "sHt3MFgVrKGL"
      }
    },
    {
      "cell_type": "code",
      "source": [
        "def non_homogeneous_recurrence(n):\n",
        "    if n == 0:\n",
        "        return 1\n",
        "    else:\n",
        "        return 2 * non_homogeneous_recurrence(n-1) + 3\n",
        "\n",
        "print(\"Non-homogeneous recurrence sequence:\")\n",
        "for i in range(10):\n",
        "    print(non_homogeneous_recurrence(i), end=\" \")\n",
        "print()\n"
      ],
      "metadata": {
        "colab": {
          "base_uri": "https://localhost:8080/"
        },
        "id": "o4jLK4nnrLKR",
        "outputId": "84e11d23-03da-47c4-b531-4f17ee62f620"
      },
      "execution_count": 8,
      "outputs": [
        {
          "output_type": "stream",
          "name": "stdout",
          "text": [
            "Non-homogeneous recurrence sequence:\n",
            "1 5 13 29 61 125 253 509 1021 2045 \n"
          ]
        }
      ]
    },
    {
      "cell_type": "markdown",
      "source": [
        "#2.5. Generating Functions\n",
        "\n"
      ],
      "metadata": {
        "id": "vcnzNoV5rWVl"
      }
    },
    {
      "cell_type": "markdown",
      "source": [
        "#2.5.1. Ordinary Generating Functions\n",
        "\n"
      ],
      "metadata": {
        "id": "iwpw2MnOrcAM"
      }
    },
    {
      "cell_type": "code",
      "source": [
        "import math\n",
        "\n",
        "# Example of an ordinary generating function for the sequence {1, 2, 3, ...}\n",
        "def ordinary_generating_function(x):\n",
        "    return sum(x**i for i in range(1, 11))\n",
        "\n",
        "# Example usage\n",
        "print(\"Generating sequence {1, 2, 3, ...} using ordinary generating function:\")\n",
        "for i in range(10):\n",
        "    print(int(ordinary_generating_function(i)), end=\" \")\n",
        "print()\n"
      ],
      "metadata": {
        "colab": {
          "base_uri": "https://localhost:8080/"
        },
        "id": "hJiLAk3BreM0",
        "outputId": "64dd332d-01dd-4ea3-da37-5805435de231"
      },
      "execution_count": 15,
      "outputs": [
        {
          "output_type": "stream",
          "name": "stdout",
          "text": [
            "Generating sequence {1, 2, 3, ...} using ordinary generating function:\n",
            "0 10 2046 88572 1398100 12207030 72559410 329554456 1227133512 3922632450 \n"
          ]
        }
      ]
    },
    {
      "cell_type": "markdown",
      "source": [
        "#2.5.2. Exponential Generating Functions\n",
        "\n"
      ],
      "metadata": {
        "id": "ibMvyWX0rvNm"
      }
    },
    {
      "cell_type": "code",
      "source": [
        "# Example of an exponential generating function for the sequence {n!}\n",
        "def exponential_generating_function(x):\n",
        "    return math.exp(x)\n",
        "\n",
        "# Example usage\n",
        "print(\"Generating sequence {n!} using exponential generating function:\")\n",
        "for i in range(10):\n",
        "    print(int(exponential_generating_function(i)), end=\" \")\n",
        "print()\n"
      ],
      "metadata": {
        "colab": {
          "base_uri": "https://localhost:8080/"
        },
        "id": "cDKdPnmZrv2G",
        "outputId": "662c7232-f718-4d90-b401-6ba8d605bd1a"
      },
      "execution_count": 16,
      "outputs": [
        {
          "output_type": "stream",
          "name": "stdout",
          "text": [
            "Generating sequence {n!} using exponential generating function:\n",
            "1 2 7 20 54 148 403 1096 2980 8103 \n"
          ]
        }
      ]
    },
    {
      "cell_type": "markdown",
      "source": [
        "#2.5.3. Solving Recurrence Relations Using the Method of Generating Functions\n",
        "\n"
      ],
      "metadata": {
        "id": "DDcmjhoZsDeX"
      }
    },
    {
      "cell_type": "code",
      "source": [
        "# Example of solving a recurrence relation using generating functions\n",
        "def solve_recurrence_using_generating_function(n):\n",
        "    return n * (n - 1)\n",
        "\n",
        "# Example usage\n",
        "print(\"Solving recurrence relation using generating function:\")\n",
        "for i in range(10):\n",
        "    print(solve_recurrence_using_generating_function(i), end=\" \")\n",
        "print()\n"
      ],
      "metadata": {
        "colab": {
          "base_uri": "https://localhost:8080/"
        },
        "id": "AXhKHWBpsGOg",
        "outputId": "6cc2b3a3-23a1-40ce-d6fe-c8fde743ac45"
      },
      "execution_count": 17,
      "outputs": [
        {
          "output_type": "stream",
          "name": "stdout",
          "text": [
            "Solving recurrence relation using generating function:\n",
            "0 0 2 6 12 20 30 42 56 72 \n"
          ]
        }
      ]
    }
  ]
}