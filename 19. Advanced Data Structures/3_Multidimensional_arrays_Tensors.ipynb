{
  "nbformat": 4,
  "nbformat_minor": 0,
  "metadata": {
    "colab": {
      "provenance": []
    },
    "kernelspec": {
      "name": "python3",
      "display_name": "Python 3"
    },
    "language_info": {
      "name": "python"
    }
  },
  "cells": [
    {
      "cell_type": "markdown",
      "source": [
        "#3. Multidimensional arrays: Tensors\n",
        "#### 3.1. Definitions\n",
        "\n",
        "*Tensor*:\n",
        "- A tensor is a generalized concept of vectors and matrices to higher dimensions.\n",
        "- Tensors can represent data in higher-dimensional spaces, which is essential for many machine learning and deep learning applications.\n",
        "- Tensors are used extensively in frameworks like TensorFlow and PyTorch.\n",
        "\n",
        "*Order (Rank)*:\n",
        "- The number of dimensions a tensor has.\n",
        "- Scalar: A single number (0-dimensional tensor).\n",
        "- Vector: A 1-dimensional tensor.\n",
        "- Matrix: A 2-dimensional tensor.\n",
        "- Higher-order tensors: 3D tensors, 4D tensors, and so on.\n",
        "\n",
        "*Shape*:\n",
        "- The shape of a tensor is a tuple representing the size of each dimension.\n",
        "\n",
        "*Examples*:\n",
        "- Scalar: 3 (shape: ())\n",
        "- Vector: [1, 2, 3] (shape: (3,))\n",
        "- Matrix: [[1, 2], [3, 4]] (shape: (2, 2))\n",
        "- 3D Tensor: [[[1, 2], [3, 4]], [[5, 6], [7, 8]]] (shape: (2, 2, 2))"
      ],
      "metadata": {
        "id": "zi0LeeB-kqXO"
      }
    },
    {
      "cell_type": "markdown",
      "source": [
        "#### 3.2. Creating a Tensor\n",
        "\n",
        "Creating tensors in TensorFlow:"
      ],
      "metadata": {
        "id": "Sz0hVddKl8hj"
      }
    },
    {
      "cell_type": "code",
      "execution_count": 1,
      "metadata": {
        "colab": {
          "base_uri": "https://localhost:8080/"
        },
        "id": "iizXp5cfimFK",
        "outputId": "aa4ff022-01d7-420d-bccb-77f25afeea00"
      },
      "outputs": [
        {
          "output_type": "stream",
          "name": "stdout",
          "text": [
            "Scalar: tf.Tensor(3, shape=(), dtype=int32)\n",
            "Vector: tf.Tensor([1 2 3], shape=(3,), dtype=int32)\n",
            "Matrix: tf.Tensor(\n",
            "[[1 2]\n",
            " [3 4]], shape=(2, 2), dtype=int32)\n",
            "3D Tensor: tf.Tensor(\n",
            "[[[1 2]\n",
            "  [3 4]]\n",
            "\n",
            " [[5 6]\n",
            "  [7 8]]], shape=(2, 2, 2), dtype=int32)\n",
            "4D Tensor: tf.Tensor(\n",
            "[[[[ 0.21517427 -1.0674813  -1.1855551 ]\n",
            "   [-0.14382572 -1.7070622  -0.5960419 ]\n",
            "   [ 0.37751815 -0.19666176  0.36918983]]\n",
            "\n",
            "  [[ 0.4442822  -2.4559412   1.0381485 ]\n",
            "   [-0.43373248 -1.2615013  -1.602615  ]\n",
            "   [ 0.6871438  -1.103767    0.13396183]]\n",
            "\n",
            "  [[-0.12689644 -0.9184361  -0.65228003]\n",
            "   [-0.36818498 -0.5314076  -0.63693506]\n",
            "   [ 0.5960835  -1.203138   -0.2857015 ]]]\n",
            "\n",
            "\n",
            " [[[-0.34971705  0.15584742 -0.94834787]\n",
            "   [ 1.4082457   0.33960432 -1.7262065 ]\n",
            "   [-0.6975394   0.2157053   0.19664432]]\n",
            "\n",
            "  [[-0.38300332  0.3243978  -0.9247898 ]\n",
            "   [-0.2423386  -0.20037806  0.75627416]\n",
            "   [ 0.5130751  -0.7681052   0.6779137 ]]\n",
            "\n",
            "  [[-0.9280416   0.69160855  0.6707856 ]\n",
            "   [ 0.03611741 -0.17550214  0.49705127]\n",
            "   [-0.20699021  1.5167353  -0.44478938]]]\n",
            "\n",
            "\n",
            " [[[-1.9142803   1.4999869   0.68674916]\n",
            "   [ 2.8669086  -0.83774674  1.0959328 ]\n",
            "   [-1.2760524   0.6830306  -1.3139458 ]]\n",
            "\n",
            "  [[ 0.39652377 -1.4343047   1.5653037 ]\n",
            "   [-0.08689398  1.9802293  -0.22256655]\n",
            "   [ 0.42523274  0.4292092  -0.19302532]]\n",
            "\n",
            "  [[ 1.3146355   0.7955397  -0.7833967 ]\n",
            "   [-0.15810077  1.0458087   0.34258825]\n",
            "   [-0.23012565  2.1769729   1.3397583 ]]]], shape=(3, 3, 3, 3), dtype=float32)\n"
          ]
        }
      ],
      "source": [
        "import tensorflow as tf\n",
        "\n",
        "# Scalar\n",
        "scalar = tf.constant(3)\n",
        "print(\"Scalar:\", scalar)\n",
        "\n",
        "# Vector\n",
        "vector = tf.constant([1, 2, 3])\n",
        "print(\"Vector:\", vector)\n",
        "\n",
        "# Matrix\n",
        "matrix = tf.constant([[1, 2], [3, 4]])\n",
        "print(\"Matrix:\", matrix)\n",
        "\n",
        "# 3D Tensor\n",
        "tensor_3d = tf.constant([[[1, 2], [3, 4]], [[5, 6], [7, 8]]])\n",
        "print(\"3D Tensor:\", tensor_3d)\n",
        "\n",
        "# Higher-order Tensor\n",
        "tensor_4d = tf.random.normal([3, 3, 3, 3])  # 4D tensor with random values\n",
        "print(\"4D Tensor:\", tensor_4d)"
      ]
    },
    {
      "cell_type": "markdown",
      "source": [
        "#### 3.3. Algorithms on Tensors\n",
        "\n",
        "Tensors can be manipulated using a variety of operations. Here are some examples of common tensor operations and algorithms:\n",
        "\n",
        "*Element-wise Operations*:"
      ],
      "metadata": {
        "id": "JyIEm6AUmR-i"
      }
    },
    {
      "cell_type": "code",
      "source": [
        "import tensorflow as tf\n",
        "\n",
        "# Define two tensors\n",
        "tensor_a = tf.constant([[1, 2], [3, 4]])\n",
        "tensor_b = tf.constant([[5, 6], [7, 8]])\n",
        "\n",
        "# Element-wise addition\n",
        "add_result = tf.add(tensor_a, tensor_b)\n",
        "print(\"Addition Result:\\n\", add_result)\n",
        "\n",
        "# Element-wise multiplication\n",
        "multiply_result = tf.multiply(tensor_a, tensor_b)\n",
        "print(\"Multiplication Result:\\n\", multiply_result)"
      ],
      "metadata": {
        "colab": {
          "base_uri": "https://localhost:8080/"
        },
        "id": "vyjdToWAmSpA",
        "outputId": "f31f8b0d-d2aa-4c9d-9f4e-b4570371868c"
      },
      "execution_count": 2,
      "outputs": [
        {
          "output_type": "stream",
          "name": "stdout",
          "text": [
            "Addition Result:\n",
            " tf.Tensor(\n",
            "[[ 6  8]\n",
            " [10 12]], shape=(2, 2), dtype=int32)\n",
            "Multiplication Result:\n",
            " tf.Tensor(\n",
            "[[ 5 12]\n",
            " [21 32]], shape=(2, 2), dtype=int32)\n"
          ]
        }
      ]
    },
    {
      "cell_type": "markdown",
      "source": [
        "*Matrix Multiplication*:\n"
      ],
      "metadata": {
        "id": "5zl5ZoC0mZxi"
      }
    },
    {
      "cell_type": "code",
      "source": [
        "# Matrix multiplication (dot product)\n",
        "matrix_a = tf.constant([[1, 2], [3, 4]])\n",
        "matrix_b = tf.constant([[5, 6], [7, 8]])\n",
        "\n",
        "matmul_result = tf.matmul(matrix_a, matrix_b)\n",
        "print(\"Matrix Multiplication Result:\\n\", matmul_result)"
      ],
      "metadata": {
        "colab": {
          "base_uri": "https://localhost:8080/"
        },
        "id": "dUioawsHmaK9",
        "outputId": "695fdd65-5327-4143-fbfc-6a0ccc93f22c"
      },
      "execution_count": 3,
      "outputs": [
        {
          "output_type": "stream",
          "name": "stdout",
          "text": [
            "Matrix Multiplication Result:\n",
            " tf.Tensor(\n",
            "[[19 22]\n",
            " [43 50]], shape=(2, 2), dtype=int32)\n"
          ]
        }
      ]
    },
    {
      "cell_type": "markdown",
      "source": [
        "*Transposing a Tensor*:\n"
      ],
      "metadata": {
        "id": "h3qB1BUomeL4"
      }
    },
    {
      "cell_type": "code",
      "source": [
        "# Transpose a tensor\n",
        "matrix = tf.constant([[1, 2, 3], [4, 5, 6]])\n",
        "transpose_result = tf.transpose(matrix)\n",
        "print(\"Transpose Result:\\n\", transpose_result)"
      ],
      "metadata": {
        "colab": {
          "base_uri": "https://localhost:8080/"
        },
        "id": "4nWedeeYmee3",
        "outputId": "97f5bb5d-2d3a-4945-a14d-bada1c6ae0ad"
      },
      "execution_count": 5,
      "outputs": [
        {
          "output_type": "stream",
          "name": "stdout",
          "text": [
            "Transpose Result:\n",
            " tf.Tensor(\n",
            "[[1 4]\n",
            " [2 5]\n",
            " [3 6]], shape=(3, 2), dtype=int32)\n"
          ]
        }
      ]
    },
    {
      "cell_type": "markdown",
      "source": [
        "*Reshaping a Tensor*:\n"
      ],
      "metadata": {
        "id": "1TVK6VeQmk-9"
      }
    },
    {
      "cell_type": "code",
      "source": [
        "#Reshape a tensor\n",
        "tensor = tf.constant([[1, 2, 3], [4, 5, 6]])\n",
        "reshape_result = tf.reshape(tensor, [3, 2])\n",
        "print(\"Reshape Result:\\n\", reshape_result)"
      ],
      "metadata": {
        "colab": {
          "base_uri": "https://localhost:8080/"
        },
        "id": "qaYxeayFmlM_",
        "outputId": "95b26f53-23c6-4ee5-8fc7-23a1f9763a16"
      },
      "execution_count": 6,
      "outputs": [
        {
          "output_type": "stream",
          "name": "stdout",
          "text": [
            "Reshape Result:\n",
            " tf.Tensor(\n",
            "[[1 2]\n",
            " [3 4]\n",
            " [5 6]], shape=(3, 2), dtype=int32)\n"
          ]
        }
      ]
    },
    {
      "cell_type": "markdown",
      "source": [
        "*Reducing Operations*:\n"
      ],
      "metadata": {
        "id": "wLaQMU7Umqn8"
      }
    },
    {
      "cell_type": "code",
      "source": [
        "# Reducing a tensor along dimensions\n",
        "tensor = tf.constant([[1, 2, 3], [4, 5, 6]])\n",
        "\n",
        "# Sum all elements\n",
        "reduce_sum_result = tf.reduce_sum(tensor)\n",
        "print(\"Reduce Sum Result:\", reduce_sum_result)\n",
        "\n",
        "# Sum along specific dimension\n",
        "reduce_sum_axis_result = tf.reduce_sum(tensor, axis=0)\n",
        "print(\"Reduce Sum along Axis 0 Result:\", reduce_sum_axis_result)"
      ],
      "metadata": {
        "colab": {
          "base_uri": "https://localhost:8080/"
        },
        "id": "9sgly31omsql",
        "outputId": "4591d9d9-f65c-4629-d991-424cec6aa2dc"
      },
      "execution_count": 7,
      "outputs": [
        {
          "output_type": "stream",
          "name": "stdout",
          "text": [
            "Reduce Sum Result: tf.Tensor(21, shape=(), dtype=int32)\n",
            "Reduce Sum along Axis 0 Result: tf.Tensor([5 7 9], shape=(3,), dtype=int32)\n"
          ]
        }
      ]
    },
    {
      "cell_type": "markdown",
      "source": [
        "*Reducing Operations:*"
      ],
      "metadata": {
        "id": "RRN_5J16nVUz"
      }
    },
    {
      "cell_type": "code",
      "source": [
        "# Reducing a tensor along dimensions\n",
        "tensor = tf.constant([[1, 2, 3], [4, 5, 6]])\n",
        "\n",
        "# Sum all elements\n",
        "reduce_sum_result = tf.reduce_sum(tensor)\n",
        "print(\"Reduce Sum Result:\", reduce_sum_result)\n",
        "\n",
        "# Sum along specific dimension\n",
        "reduce_sum_axis_result = tf.reduce_sum(tensor, axis=0)\n",
        "print(\"Reduce Sum along Axis 0 Result:\", reduce_sum_axis_result)"
      ],
      "metadata": {
        "colab": {
          "base_uri": "https://localhost:8080/"
        },
        "id": "JtnbLQN7nWCw",
        "outputId": "06cf143f-10c0-41c3-faa7-a5651fb8eb8b"
      },
      "execution_count": 8,
      "outputs": [
        {
          "output_type": "stream",
          "name": "stdout",
          "text": [
            "Reduce Sum Result: tf.Tensor(21, shape=(), dtype=int32)\n",
            "Reduce Sum along Axis 0 Result: tf.Tensor([5 7 9], shape=(3,), dtype=int32)\n"
          ]
        }
      ]
    },
    {
      "cell_type": "markdown",
      "source": [
        "3.3.1. Operaciones Elementales\n"
      ],
      "metadata": {
        "id": "k7qg9mRCnc9D"
      }
    },
    {
      "cell_type": "markdown",
      "source": [
        "Element by element op."
      ],
      "metadata": {
        "id": "18k92HjZn0eN"
      }
    },
    {
      "cell_type": "code",
      "source": [
        "import tensorflow as tf\n",
        "\n",
        "# Definir dos tensores\n",
        "tensor_a = tf.constant([[1, 2], [3, 4]])\n",
        "tensor_b = tf.constant([[5, 6], [7, 8]])\n",
        "\n",
        "# Suma elemento por elemento\n",
        "add_result = tf.add(tensor_a, tensor_b)\n",
        "print(\"Sum result:\\n\", add_result)\n",
        "\n",
        "# Multiplicación elemento por elemento\n",
        "multiply_result = tf.multiply(tensor_a, tensor_b)\n",
        "print(\"Multiplication result:\\n\", multiply_result)"
      ],
      "metadata": {
        "colab": {
          "base_uri": "https://localhost:8080/"
        },
        "id": "hpYdXYXTndZi",
        "outputId": "3177d3ad-5cd5-4aec-bf1f-60e05e12298b"
      },
      "execution_count": 17,
      "outputs": [
        {
          "output_type": "stream",
          "name": "stdout",
          "text": [
            "Sum result:\n",
            " tf.Tensor(\n",
            "[[ 6  8]\n",
            " [10 12]], shape=(2, 2), dtype=int32)\n",
            "Multiplication result:\n",
            " tf.Tensor(\n",
            "[[ 5 12]\n",
            " [21 32]], shape=(2, 2), dtype=int32)\n"
          ]
        }
      ]
    },
    {
      "cell_type": "markdown",
      "source": [
        "Matrix multiplication:"
      ],
      "metadata": {
        "id": "-b8neHU3npti"
      }
    },
    {
      "cell_type": "code",
      "source": [
        "matrix_a = tf.constant([[1, 2], [3, 4]])\n",
        "matrix_b = tf.constant([[5, 6], [7, 8]])\n",
        "\n",
        "matmul_result = tf.matmul(matrix_a, matrix_b)\n",
        "print(matmul_result)"
      ],
      "metadata": {
        "colab": {
          "base_uri": "https://localhost:8080/"
        },
        "id": "ug9Rvg5-nqRK",
        "outputId": "45cfa8d6-868d-4750-aef8-9dce9a727631"
      },
      "execution_count": 18,
      "outputs": [
        {
          "output_type": "stream",
          "name": "stdout",
          "text": [
            "tf.Tensor(\n",
            "[[19 22]\n",
            " [43 50]], shape=(2, 2), dtype=int32)\n"
          ]
        }
      ]
    },
    {
      "cell_type": "markdown",
      "source": [
        "Tensor transposition:"
      ],
      "metadata": {
        "id": "fi73aZnBnyTl"
      }
    },
    {
      "cell_type": "code",
      "source": [
        "matrix = tf.constant([[1, 2, 3], [4, 5, 6]])\n",
        "transpose_result = tf.transpose(matrix)\n",
        "print(transpose_result)"
      ],
      "metadata": {
        "colab": {
          "base_uri": "https://localhost:8080/"
        },
        "id": "WCAPB_b_nyyF",
        "outputId": "4e8c7268-dae6-4e86-c8ac-e339c9c9bfdb"
      },
      "execution_count": 22,
      "outputs": [
        {
          "output_type": "stream",
          "name": "stdout",
          "text": [
            "tf.Tensor(\n",
            "[[1 4]\n",
            " [2 5]\n",
            " [3 6]], shape=(3, 2), dtype=int32)\n"
          ]
        }
      ]
    },
    {
      "cell_type": "markdown",
      "source": [
        "Tensor reestructuration:"
      ],
      "metadata": {
        "id": "EH3L_Vbtn2vA"
      }
    },
    {
      "cell_type": "code",
      "source": [
        "tensor = tf.constant([[1, 2, 3], [4, 5, 6]])\n",
        "reshape_result = tf.reshape(tensor, [3, 2])\n",
        "print(reshape_result)"
      ],
      "metadata": {
        "colab": {
          "base_uri": "https://localhost:8080/"
        },
        "id": "fqSYVVR-n5ff",
        "outputId": "d04d9ffe-c544-499c-ca71-a1c50f7bad37"
      },
      "execution_count": 21,
      "outputs": [
        {
          "output_type": "stream",
          "name": "stdout",
          "text": [
            "tf.Tensor(\n",
            "[[1 2]\n",
            " [3 4]\n",
            " [5 6]], shape=(3, 2), dtype=int32)\n"
          ]
        }
      ]
    },
    {
      "cell_type": "markdown",
      "source": [
        "Reduction op."
      ],
      "metadata": {
        "id": "zYaNk8THn7fZ"
      }
    },
    {
      "cell_type": "code",
      "source": [
        "tensor = tf.constant([[1, 2, 3], [4, 5, 6]])\n",
        "\n",
        "reduce_sum_result = tf.reduce_sum(tensor)\n",
        "print(\"Reduce sum result\", reduce_sum_result)\n",
        "\n",
        "reduce_sum_axis_result = tf.reduce_sum(tensor, axis=0)\n",
        "print(\"Reduce sum result across the axis 0:\", reduce_sum_axis_result)"
      ],
      "metadata": {
        "colab": {
          "base_uri": "https://localhost:8080/"
        },
        "id": "mTLTgpVNn78y",
        "outputId": "8fa982e1-745e-48f1-807d-0f5c4d0f102f"
      },
      "execution_count": 23,
      "outputs": [
        {
          "output_type": "stream",
          "name": "stdout",
          "text": [
            "Reduce sum result tf.Tensor(21, shape=(), dtype=int32)\n",
            "Reduce sum result across the axis 0: tf.Tensor([5 7 9], shape=(3,), dtype=int32)\n"
          ]
        }
      ]
    },
    {
      "cell_type": "markdown",
      "source": [
        "Tensor concatenation:"
      ],
      "metadata": {
        "id": "w6bi5k-On_fh"
      }
    },
    {
      "cell_type": "code",
      "source": [
        "tensor1 = tf.constant([[1, 2], [3, 4]])\n",
        "tensor2 = tf.constant([[5, 6], [7, 8]])\n",
        "\n",
        "concat_result = tf.concat([tensor1, tensor2], axis=0)\n",
        "print(\"Result of the tensor concatenation across the axis 0:\\n\", concat_result)\n",
        "\n",
        "concat_result_axis1 = tf.concat([tensor1, tensor2], axis=1)\n",
        "print(\"Result of the tensor concatenation across the axis 1:\\n\", concat_result_axis1)"
      ],
      "metadata": {
        "colab": {
          "base_uri": "https://localhost:8080/"
        },
        "id": "r7yeB3T2n_4h",
        "outputId": "c827cb93-b5fa-4389-bda1-7a4ff9481a1c"
      },
      "execution_count": 24,
      "outputs": [
        {
          "output_type": "stream",
          "name": "stdout",
          "text": [
            "Result of the tensor concatenation across the axis 0:\n",
            " tf.Tensor(\n",
            "[[1 2]\n",
            " [3 4]\n",
            " [5 6]\n",
            " [7 8]], shape=(4, 2), dtype=int32)\n",
            "Result of the tensor concatenation across the axis 1:\n",
            " tf.Tensor(\n",
            "[[1 2 5 6]\n",
            " [3 4 7 8]], shape=(2, 4), dtype=int32)\n"
          ]
        }
      ]
    },
    {
      "cell_type": "markdown",
      "source": [
        "Tensor segmentation:"
      ],
      "metadata": {
        "id": "39N4MBIEoClD"
      }
    },
    {
      "cell_type": "code",
      "source": [
        "tensor = tf.constant([[1, 2, 3], [4, 5, 6], [7, 8, 9]])\n",
        "\n",
        "split_result = tf.split(tensor, num_or_size_splits=3, axis=0)\n",
        "print(\"Result of the tensor segmentation in three parts across the axis 0:\\n\", split_result)"
      ],
      "metadata": {
        "colab": {
          "base_uri": "https://localhost:8080/"
        },
        "id": "OHhQI8_-oC_i",
        "outputId": "8739a038-e74a-4514-c604-045661241fb3"
      },
      "execution_count": 25,
      "outputs": [
        {
          "output_type": "stream",
          "name": "stdout",
          "text": [
            "Result of the tensor segmentation in three parts across the axis 0:\n",
            " [<tf.Tensor: shape=(1, 3), dtype=int32, numpy=array([[1, 2, 3]], dtype=int32)>, <tf.Tensor: shape=(1, 3), dtype=int32, numpy=array([[4, 5, 6]], dtype=int32)>, <tf.Tensor: shape=(1, 3), dtype=int32, numpy=array([[7, 8, 9]], dtype=int32)>]\n"
          ]
        }
      ]
    },
    {
      "cell_type": "code",
      "source": [
        "import tensorflow as tf\n",
        "import numpy as np\n",
        "\n",
        "# Function to initialize a tensor\n",
        "def create_tensor(shape, value=0.0):\n",
        "    return tf.Variable(tf.fill(shape, value), dtype=tf.float32)\n",
        "\n",
        "# 2D Convolution Algorithm (without using tf.nn.conv2d)\n",
        "def convolution_2d(input_tensor, kernel):\n",
        "    input_shape = input_tensor.shape\n",
        "    kernel_shape = kernel.shape\n",
        "    output_shape = (input_shape[0] - kernel_shape[0] + 1, input_shape[1] - kernel_shape[1] + 1)\n",
        "    output = create_tensor(output_shape)\n",
        "\n",
        "    for i in range(output_shape[0]):\n",
        "        for j in range(output_shape[1]):\n",
        "            output[i, j].assign(tf.reduce_sum(input_tensor[i:i+kernel_shape[0], j:j+kernel_shape[1]] * kernel))\n",
        "\n",
        "    return output\n",
        "\n",
        "# Backpropagation algorithm for a single-layer neural network (without using tf.GradientTape)\n",
        "def simple_backpropagation(X, y, weights, bias, learning_rate):\n",
        "    m = X.shape[0]\n",
        "\n",
        "    # Forward pass\n",
        "    Z = tf.matmul(X, weights) + bias\n",
        "    A = tf.nn.sigmoid(Z)\n",
        "    loss = tf.reduce_mean(tf.square(A - y))\n",
        "\n",
        "    # Backward pass (calculate gradients)\n",
        "    dZ = A - y\n",
        "    dW = tf.matmul(tf.transpose(X), dZ) / m\n",
        "    dB = tf.reduce_mean(dZ, axis=0)  # Calculate the gradient for the bias correctly\n",
        "\n",
        "    # Update parameters\n",
        "    weights.assign_sub(learning_rate * dW)\n",
        "    bias.assign_sub(learning_rate * tf.reshape(dB, bias.shape))  # Ensure dB shape matches bias shape\n",
        "\n",
        "    return loss\n",
        "\n",
        "# SVD (Singular Value Decomposition) algorithm\n",
        "def svd_decomposition(tensor):\n",
        "    tensor = tf.cast(tensor, tf.float32)\n",
        "    s, u, v = tf.linalg.svd(tensor)\n",
        "    return s, u, v\n",
        "\n",
        "# Example usage of the algorithms\n",
        "\n",
        "# Creating example tensors\n",
        "input_tensor = tf.constant([\n",
        "    [1, 2, 3, 0],\n",
        "    [4, 5, 6, 0],\n",
        "    [7, 8, 9, 0],\n",
        "    [0, 0, 0, 0]\n",
        "], dtype=tf.float32)\n",
        "\n",
        "kernel = tf.constant([\n",
        "    [1, 0],\n",
        "    [0, -1]\n",
        "], dtype=tf.float32)\n",
        "\n",
        "# Apply convolution\n",
        "conv_result = convolution_2d(input_tensor, kernel)\n",
        "print(\"2D Convolution Result:\\n\", conv_result.numpy())\n",
        "\n",
        "# Creating data for backpropagation\n",
        "X = tf.constant([[1.0, 2.0], [3.0, 4.0], [5.0, 6.0]], dtype=tf.float32)\n",
        "y = tf.constant([[0.0], [1.0], [0.0]], dtype=tf.float32)\n",
        "weights = create_tensor([2, 1], value=0.1)\n",
        "bias = create_tensor([1], value=0.1)\n",
        "\n",
        "# Apply backpropagation\n",
        "loss = simple_backpropagation(X, y, weights, bias, learning_rate=0.1)\n",
        "print(\"Loss after backpropagation:\", loss.numpy())\n",
        "\n",
        "# Creating tensor for SVD\n",
        "tensor = tf.constant([\n",
        "    [1, 2, 3],\n",
        "    [4, 5, 6],\n",
        "    [7, 8, 9]\n",
        "], dtype=tf.float32)\n",
        "\n",
        "# Apply SVD\n",
        "s, u, v = svd_decomposition(tensor)\n",
        "print(\"Singular Values:\\n\", s.numpy())\n",
        "print(\"U Matrix:\\n\", u.numpy())\n",
        "print(\"V Matrix:\\n\", v.numpy())"
      ],
      "metadata": {
        "colab": {
          "base_uri": "https://localhost:8080/"
        },
        "id": "65zo_75aokwg",
        "outputId": "7fb064ce-ad5a-4a72-87f9-d245f318db96"
      },
      "execution_count": 26,
      "outputs": [
        {
          "output_type": "stream",
          "name": "stdout",
          "text": [
            "2D Convolution Result:\n",
            " [[-4. -4.  3.]\n",
            " [-4. -4.  6.]\n",
            " [ 7.  8.  9.]]\n",
            "Loss after backpropagation: 0.34839103\n",
            "Singular Values:\n",
            " [1.6848103e+01 1.0683696e+00 2.8763120e-07]\n",
            "U Matrix:\n",
            " [[ 0.21483716  0.8872305  -0.40824857]\n",
            " [ 0.5205872   0.24964423  0.8164965 ]\n",
            " [ 0.8263376  -0.3879429  -0.4082481 ]]\n",
            "V Matrix:\n",
            " [[ 0.47967106 -0.77669096  0.40824836]\n",
            " [ 0.5723676  -0.07568647 -0.81649655]\n",
            " [ 0.6650643   0.62531805  0.40824822]]\n"
          ]
        }
      ]
    }
  ]
}