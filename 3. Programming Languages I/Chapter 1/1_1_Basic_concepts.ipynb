{
  "nbformat": 4,
  "nbformat_minor": 0,
  "metadata": {
    "colab": {
      "provenance": []
    },
    "kernelspec": {
      "name": "python3",
      "display_name": "Python 3"
    },
    "language_info": {
      "name": "python"
    }
  },
  "cells": [
    {
      "cell_type": "markdown",
      "source": [
        "#Basic Concepts"
      ],
      "metadata": {
        "id": "24LBnXN9AS_7"
      }
    },
    {
      "cell_type": "code",
      "execution_count": 1,
      "metadata": {
        "colab": {
          "base_uri": "https://localhost:8080/"
        },
        "id": "sK-zq3DDARlb",
        "outputId": "b8f979db-7be3-4d89-8a69-c22bfca96ada"
      },
      "outputs": [
        {
          "output_type": "stream",
          "name": "stdout",
          "text": [
            "Integer variable is greater than 5\n",
            "Iteration 0\n",
            "Iteration 1\n",
            "Iteration 2\n",
            "While loop iteration 0\n",
            "While loop iteration 1\n",
            "While loop iteration 2\n",
            "Nested loop iteration: 0 0\n",
            "Nested loop iteration: 0 1\n",
            "Nested loop iteration: 1 0\n",
            "Nested loop iteration: 1 1\n",
            "Nested loop iteration: 2 0\n",
            "Nested loop iteration: 2 1\n"
          ]
        }
      ],
      "source": [
        "# Basic Data Types\n",
        "integer_variable = 10\n",
        "float_variable = 3.14\n",
        "string_variable = \"Hello, world!\"\n",
        "boolean_variable = True\n",
        "list_variable = [1, 2, 3, 4, 5]\n",
        "tuple_variable = (1, 2, 3)\n",
        "dictionary_variable = {'a': 1, 'b': 2, 'c': 3}\n",
        "set_variable = {1, 2, 3}\n",
        "\n",
        "# Arithmetic Operations\n",
        "result_addition = integer_variable + 5\n",
        "result_subtraction = float_variable - 1.5\n",
        "result_multiplication = integer_variable * 2\n",
        "result_division = float_variable / 2\n",
        "result_modulus = integer_variable % 3\n",
        "result_exponentiation = 2 ** 3\n",
        "\n",
        "# Logic Operations\n",
        "logical_and_result = boolean_variable and True\n",
        "logical_or_result = boolean_variable or False\n",
        "logical_not_result = not boolean_variable\n",
        "\n",
        "# Selective Statements (if-elif-else)\n",
        "if integer_variable > 5:\n",
        "    print(\"Integer variable is greater than 5\")\n",
        "elif integer_variable < 5:\n",
        "    print(\"Integer variable is less than 5\")\n",
        "else:\n",
        "    print(\"Integer variable is equal to 5\")\n",
        "\n",
        "# Repetitive Statements (for and while loops)\n",
        "for i in range(3):\n",
        "    print(\"Iteration\", i)\n",
        "\n",
        "counter = 0\n",
        "while counter < 3:\n",
        "    print(\"While loop iteration\", counter)\n",
        "    counter += 1\n",
        "\n",
        "# Nested Repetitive Loops\n",
        "for i in range(3):\n",
        "    for j in range(2):\n",
        "        print(\"Nested loop iteration:\", i, j)\n"
      ]
    },
    {
      "cell_type": "markdown",
      "source": [
        "#Strings"
      ],
      "metadata": {
        "id": "dZ8hbFCyBd_F"
      }
    },
    {
      "cell_type": "code",
      "source": [
        "# Basic functions\n",
        "string = \"Hello, world!\"\n",
        "print(\"Length of string:\", len(string))\n",
        "print(\"Uppercase:\", string.upper())\n",
        "print(\"Lowercase:\", string.lower())\n",
        "print(\"Occurrences of 'l':\", string.count('l'))\n",
        "print(\"Replace 'world' with 'Python':\", string.replace('world', 'Python'))\n",
        "print(\"Split string by comma:\", string.split(','))\n",
        "print(\"Stripped string:\", \"   Hello, world!   \".strip())\n",
        "print(\"Starts with 'Hello':\", string.startswith('Hello'))\n",
        "print(\"Ends with 'world!':\", string.endswith('world!'))\n",
        "\n",
        "# Indexes and operations\n",
        "print(\"First character:\", string[0])\n",
        "print(\"Last character:\", string[-1])\n",
        "print(\"Substring from index 7 to end:\", string[7:])\n",
        "print(\"Concatenation:\", string + \" Have a nice day!\")\n",
        "print(\"Repetition:\", string * 3)\n",
        "\n",
        "# Iterations\n",
        "for char in string:\n",
        "    print(char)"
      ],
      "metadata": {
        "colab": {
          "base_uri": "https://localhost:8080/"
        },
        "id": "3SRDxvhGBesU",
        "outputId": "c00398d1-69b9-456c-dae9-bd813d7a4ab5"
      },
      "execution_count": 2,
      "outputs": [
        {
          "output_type": "stream",
          "name": "stdout",
          "text": [
            "Length of string: 13\n",
            "Uppercase: HELLO, WORLD!\n",
            "Lowercase: hello, world!\n",
            "Occurrences of 'l': 3\n",
            "Replace 'world' with 'Python': Hello, Python!\n",
            "Split string by comma: ['Hello', ' world!']\n",
            "Stripped string: Hello, world!\n",
            "Starts with 'Hello': True\n",
            "Ends with 'world!': True\n",
            "First character: H\n",
            "Last character: !\n",
            "Substring from index 7 to end: world!\n",
            "Concatenation: Hello, world! Have a nice day!\n",
            "Repetition: Hello, world!Hello, world!Hello, world!\n",
            "H\n",
            "e\n",
            "l\n",
            "l\n",
            "o\n",
            ",\n",
            " \n",
            "w\n",
            "o\n",
            "r\n",
            "l\n",
            "d\n",
            "!\n"
          ]
        }
      ]
    },
    {
      "cell_type": "markdown",
      "source": [
        "#Functions"
      ],
      "metadata": {
        "id": "hJxEkOjkCMuL"
      }
    },
    {
      "cell_type": "code",
      "source": [
        "# Function definition\n",
        "def greet(name):\n",
        "    return f\"Hello, {name}!\"\n",
        "\n",
        "# Calling the function\n",
        "print(greet(\"Alice\"))  # Output: Hello, Alice!\n",
        "\n",
        "# Pass by Value example\n",
        "def modify_value(x):\n",
        "    x = x * 2\n",
        "    return x\n",
        "\n",
        "value = 10\n",
        "print(\"Original value:\", value)\n",
        "print(\"Modified value:\", modify_value(value))  # Output: Modified value: 20\n",
        "print(\"Original value after modification:\", value)  # Output: Original value after modification: 10\n",
        "\n",
        "# Pass by Reference example\n",
        "def modify_list(lst):\n",
        "    lst.append(4)\n",
        "    return lst\n",
        "\n",
        "my_list = [1, 2, 3]\n",
        "print(\"Original list:\", my_list)\n",
        "print(\"Modified list:\", modify_list(my_list))  # Output: Modified list: [1, 2, 3, 4]\n",
        "print(\"Original list after modification:\", my_list)  # Output: Original list after modification: [1, 2, 3, 4]\n",
        "\n",
        "# Global and Local Variables\n",
        "global_var = 10\n",
        "\n",
        "def my_function():\n",
        "    local_var = 20\n",
        "    print(\"Inside function:\", global_var, local_var)\n",
        "\n",
        "my_function()\n",
        "print(\"Outside function:\", global_var)  # Output: Inside function: 10 20, Outside function: 10\n",
        "\n",
        "def my_function2():\n",
        "    global global_var\n",
        "    global_var += 3\n",
        "\n",
        "my_function2()\n",
        "print(\"Outside function:\", global_var)  # Output: Inside function: 10 20, Outside function: 13\n",
        "\n",
        "# Libraries\n",
        "import math\n",
        "\n",
        "print(\"Square root of 16:\", math.sqrt(16))  # Output: Square root of 16: 4.0\n",
        "\n",
        "# Scope and Reachness of a Variable\n",
        "def outer_function():\n",
        "    outer_var = \"Outer\"\n",
        "\n",
        "    def inner_function():\n",
        "        inner_var = \"Inner\"\n",
        "        print(\"Inner variable inside inner function:\", inner_var)\n",
        "        print(\"Outer variable inside inner function:\", outer_var)\n",
        "\n",
        "    inner_function()\n",
        "    print(\"Outer variable outside inner function:\", outer_var)\n",
        "\n",
        "# outer_var and inner_var are not accessible here\n",
        "outer_function()\n",
        "\n",
        "# Default Parameters\n",
        "def greet_default(name=\"World\"):\n",
        "    return f\"Hello, {name}!\"\n",
        "\n",
        "print(greet_default())  # Output: Hello, World!\n",
        "print(greet_default(\"Alice\"))  # Output: Hello, Alice!\n"
      ],
      "metadata": {
        "colab": {
          "base_uri": "https://localhost:8080/"
        },
        "id": "alVOJW9rCOTE",
        "outputId": "a3fbfcf6-1ad6-4e8f-a9d6-261c2d0aec25"
      },
      "execution_count": 6,
      "outputs": [
        {
          "output_type": "stream",
          "name": "stdout",
          "text": [
            "Hello, Alice!\n",
            "Original value: 10\n",
            "Modified value: 20\n",
            "Original value after modification: 10\n",
            "Original list: [1, 2, 3]\n",
            "Modified list: [1, 2, 3, 4]\n",
            "Original list after modification: [1, 2, 3, 4]\n",
            "Inside function: 10 20\n",
            "Outside function: 10\n",
            "Outside function: 13\n",
            "Square root of 16: 4.0\n",
            "Inner variable inside inner function: Inner\n",
            "Outer variable inside inner function: Outer\n",
            "Outer variable outside inner function: Outer\n",
            "Hello, World!\n",
            "Hello, Alice!\n"
          ]
        }
      ]
    },
    {
      "cell_type": "markdown",
      "source": [
        "#Lists"
      ],
      "metadata": {
        "id": "Q-hgIUd-EMy7"
      }
    },
    {
      "cell_type": "code",
      "source": [
        "# Lists, Indexes, and Operations\n",
        "my_list = [1, 2, 3, 4, 5]\n",
        "\n",
        "print(\"First element:\", my_list[0])\n",
        "print(\"Last element:\", my_list[-1])\n",
        "\n",
        "my_list.append(6)\n",
        "print(\"Appended list:\", my_list)\n",
        "\n",
        "my_list.extend([7, 8, 9])\n",
        "print(\"Extended list:\", my_list)\n",
        "\n",
        "my_list.remove(2)\n",
        "print(\"List after removing element 2:\", my_list)\n",
        "\n",
        "my_list.sort(reverse=True)\n",
        "print(\"Sorted list (descending):\", my_list)\n",
        "\n",
        "# Iterations\n",
        "for item in my_list:\n",
        "    print(item)\n",
        "\n",
        "# Matrices\n",
        "matrix = [\n",
        "    [1, 2, 3],\n",
        "    [4, 5, 6],\n",
        "    [7, 8, 9]\n",
        "]\n",
        "\n",
        "print(\"Element at row 2, column 3:\", matrix[1][2])  # Output: 6\n",
        "\n",
        "# List Comprehensions\n",
        "squared_numbers = [x**2 for x in range(1, 6)]\n",
        "print(\"Squared numbers:\", squared_numbers)  # Output: [1, 4, 9, 16, 25]\n"
      ],
      "metadata": {
        "colab": {
          "base_uri": "https://localhost:8080/"
        },
        "id": "komrN53mEOF7",
        "outputId": "7955764a-b95d-440a-ccaf-7b25a899ed01"
      },
      "execution_count": 7,
      "outputs": [
        {
          "output_type": "stream",
          "name": "stdout",
          "text": [
            "First element: 1\n",
            "Last element: 5\n",
            "Appended list: [1, 2, 3, 4, 5, 6]\n",
            "Extended list: [1, 2, 3, 4, 5, 6, 7, 8, 9]\n",
            "List after removing element 2: [1, 3, 4, 5, 6, 7, 8, 9]\n",
            "Sorted list (descending): [9, 8, 7, 6, 5, 4, 3, 1]\n",
            "9\n",
            "8\n",
            "7\n",
            "6\n",
            "5\n",
            "4\n",
            "3\n",
            "1\n",
            "Element at row 2, column 3: 6\n",
            "Squared numbers: [1, 4, 9, 16, 25]\n"
          ]
        }
      ]
    },
    {
      "cell_type": "markdown",
      "source": [
        "#Dictionaries"
      ],
      "metadata": {
        "id": "DO-XjrQNEtBD"
      }
    },
    {
      "cell_type": "code",
      "source": [
        "# Dictionaries and Key-Value Pairs\n",
        "my_dict = {\"name\": \"Alice\", \"age\": 30, \"city\": \"New York\"}\n",
        "\n",
        "print(\"Name:\", my_dict[\"name\"])\n",
        "print(\"Age:\", my_dict[\"age\"])\n",
        "\n",
        "# Operations\n",
        "my_dict[\"email\"] = \"alice@example.com\"  # Adding a new key-value pair\n",
        "print(\"Dictionary after adding 'email':\", my_dict)\n",
        "\n",
        "my_dict[\"age\"] = 31  # Modifying the value of an existing key\n",
        "print(\"Dictionary after modifying 'age':\", my_dict)\n",
        "\n",
        "del my_dict[\"city\"]  # Deleting a key-value pair\n",
        "print(\"Dictionary after deleting 'city':\", my_dict)\n",
        "\n",
        "# Iterating over keys\n",
        "print(\"Keys:\")\n",
        "for key in my_dict.keys():\n",
        "    print(key)\n",
        "\n",
        "# Iterating over values\n",
        "print(\"Values:\")\n",
        "for value in my_dict.values():\n",
        "    print(value)\n",
        "\n",
        "# Iterating over items (key-value pairs)\n",
        "print(\"Key-Value Pairs:\")\n",
        "for key, value in my_dict.items():\n",
        "    print(key, \":\", value)\n"
      ],
      "metadata": {
        "colab": {
          "base_uri": "https://localhost:8080/"
        },
        "id": "G9LGbyDJEuRT",
        "outputId": "61e435ff-f1a6-4c5f-aa2b-b32e204c83d4"
      },
      "execution_count": 8,
      "outputs": [
        {
          "output_type": "stream",
          "name": "stdout",
          "text": [
            "Name: Alice\n",
            "Age: 30\n",
            "Dictionary after adding 'email': {'name': 'Alice', 'age': 30, 'city': 'New York', 'email': 'alice@example.com'}\n",
            "Dictionary after modifying 'age': {'name': 'Alice', 'age': 31, 'city': 'New York', 'email': 'alice@example.com'}\n",
            "Dictionary after deleting 'city': {'name': 'Alice', 'age': 31, 'email': 'alice@example.com'}\n",
            "Keys:\n",
            "name\n",
            "age\n",
            "email\n",
            "Values:\n",
            "Alice\n",
            "31\n",
            "alice@example.com\n",
            "Key-Value Pairs:\n",
            "name : Alice\n",
            "age : 31\n",
            "email : alice@example.com\n"
          ]
        }
      ]
    },
    {
      "cell_type": "markdown",
      "source": [
        "#Files"
      ],
      "metadata": {
        "id": "msLVqvHqFiIT"
      }
    },
    {
      "cell_type": "code",
      "source": [
        "# Writing to a file in \"w\" mode\n",
        "with open(\"example.txt\", \"w\") as file:\n",
        "    file.write(\"This is line 1.\\n\")\n",
        "    file.write(\"This is line 2.\\n\")\n",
        "    file.write(\"This is line 3.\\n\")\n",
        "\n",
        "print(\"Data has been written to the file.\")\n",
        "\n",
        "# Appending to a file in \"a\" mode\n",
        "with open(\"example.txt\", \"a\") as file:\n",
        "    file.write(\"This is line 4 (appended).\\n\")\n",
        "\n",
        "print(\"Data has been appended to the file.\")\n",
        "\n",
        "# Reading from a file in \"r\" mode\n",
        "with open(\"example.txt\", \"r\") as file:\n",
        "    contents = file.read()\n",
        "\n",
        "print(\"Contents of the file (read mode):\")\n",
        "print(contents)\n",
        "\n",
        "# Reading and writing to a file in \"+\" mode\n",
        "with open(\"example.txt\", \"r+\") as file:\n",
        "    file.write(\"This line replaces the content.\\n\")\n",
        "    file.seek(0)  # Move the cursor to the beginning of the file\n",
        "    new_contents = file.read()\n",
        "\n",
        "print(\"Contents of the file (read and write mode):\")\n",
        "print(new_contents)\n"
      ],
      "metadata": {
        "id": "38qqZAqpFi2D"
      },
      "execution_count": null,
      "outputs": []
    }
  ]
}