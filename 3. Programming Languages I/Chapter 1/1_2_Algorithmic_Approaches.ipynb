{
  "nbformat": 4,
  "nbformat_minor": 0,
  "metadata": {
    "colab": {
      "provenance": []
    },
    "kernelspec": {
      "name": "python3",
      "display_name": "Python 3"
    },
    "language_info": {
      "name": "python"
    }
  },
  "cells": [
    {
      "cell_type": "markdown",
      "source": [
        "#Time and Space Complexity"
      ],
      "metadata": {
        "id": "eSf7p7nHIU_e"
      }
    },
    {
      "cell_type": "code",
      "execution_count": 1,
      "metadata": {
        "id": "UpFlnL6WIL2b"
      },
      "outputs": [],
      "source": [
        "# Example: Finding the maximum element in an array\n",
        "\n",
        "def find_max(arr):\n",
        "    max_element = arr[0]  # O(1)\n",
        "    for element in arr:   # O(n)\n",
        "        if element > max_element:  # O(1)\n",
        "            max_element = element  # O(1)\n",
        "    return max_element   # O(1)\n",
        "\n",
        "# Time complexity: O(n) - linear time complexity\n",
        "# Space complexity: O(1) - constant space complexity\n"
      ]
    },
    {
      "cell_type": "markdown",
      "source": [
        "#Recursive Approach"
      ],
      "metadata": {
        "id": "MCtL9ekDJySt"
      }
    },
    {
      "cell_type": "code",
      "source": [
        "# Recursive Function Example (`factorial` function):\n",
        "def factorial(n):\n",
        "    if n == 0:  # Base case: If n is 0, return 1 (factorial of 0 is 1)\n",
        "        return 1\n",
        "    else:\n",
        "        return n * factorial(n - 1)  # Recursive case: Multiply n by factorial of (n-1)\n",
        "\n",
        "print(\"Factorial of 5:\", factorial(5))  # Output: 120\n",
        "\n",
        "# Recursion: A technique in which a function calls itself in order to solve a problem.\n",
        "# The `factorial` function demonstrates recursion by breaking down the problem of calculating\n",
        "# the factorial of a number into smaller subproblems until reaching a base case.\n",
        "\n",
        "\n",
        "# Backtracking Example (`generate_permutations` function):\n",
        "def generate_permutations(nums):\n",
        "    def backtrack(start):\n",
        "        if start == len(nums):  # Base case: If start equals length of nums, add a copy of nums to result\n",
        "            result.append(nums[:])\n",
        "        else:\n",
        "            for i in range(start, len(nums)):\n",
        "                nums[start], nums[i] = nums[i], nums[start]  # Swap elements\n",
        "                backtrack(start + 1)  # Recursive case: Recur to next position\n",
        "                nums[start], nums[i] = nums[i], nums[start]  # Backtrack (undo the swap)\n",
        "\n",
        "    result = []\n",
        "    backtrack(0)  # Start recursion from index 0\n",
        "    return result\n",
        "\n",
        "# Backtracking: A technique used to systematically search for solutions to problems by trying out\n",
        "# different possibilities and undoing choices that do not lead to a solution.\n",
        "# The `generate_permutations` function demonstrates backtracking by generating all permutations\n",
        "# of a given list of numbers.\n",
        "\n",
        "\n",
        "# Understanding Call Stack with Recursion (`countdown` function):\n",
        "def countdown(n):\n",
        "    if n == 0:  # Base case: If n is 0, print \"Blastoff!\" and return\n",
        "        print(\"Blastoff!\")\n",
        "    else:\n",
        "        print(n)\n",
        "        countdown(n - 1)  # Recursive case: Recursively call countdown with n-1\n",
        "\n",
        "countdown(5)\n",
        "\n",
        "# Call Stack: A data structure used to keep track of function calls and their corresponding\n",
        "# local variables and parameters. Recursion involves creating multiple frames on the call stack,\n",
        "# with each recursive call adding a new frame.\n",
        "# The `countdown` function demonstrates recursion and its interaction with the call stack\n",
        "# by printing a countdown from a given number to zero.\n"
      ],
      "metadata": {
        "colab": {
          "base_uri": "https://localhost:8080/"
        },
        "id": "dmnm21nLJzja",
        "outputId": "064e0f7b-2235-4474-eea9-1254a771f4ce"
      },
      "execution_count": 2,
      "outputs": [
        {
          "output_type": "stream",
          "name": "stdout",
          "text": [
            "Factorial of 5: 120\n",
            "5\n",
            "4\n",
            "3\n",
            "2\n",
            "1\n",
            "Blastoff!\n"
          ]
        }
      ]
    },
    {
      "cell_type": "markdown",
      "source": [
        "#Sort Algorithms"
      ],
      "metadata": {
        "id": "_c-yp3bGLZzg"
      }
    },
    {
      "cell_type": "code",
      "source": [
        "# Selection Sort\n",
        "def selection_sort(arr):\n",
        "    n = len(arr)\n",
        "    for i in range(n - 1):\n",
        "        min_index = i\n",
        "        for j in range(i + 1, n):\n",
        "            if arr[j] < arr[min_index]:\n",
        "                min_index = j\n",
        "        arr[i], arr[min_index] = arr[min_index], arr[i]\n",
        "    return arr\n",
        "\n",
        "# Insertion Sort\n",
        "def insertion_sort(arr):\n",
        "    for i in range(1, len(arr)):\n",
        "        key = arr[i]\n",
        "        j = i - 1\n",
        "        while j >= 0 and arr[j] > key:\n",
        "            arr[j + 1] = arr[j]\n",
        "            j -= 1\n",
        "        arr[j + 1] = key\n",
        "    return arr\n",
        "\n",
        "# Quicksort\n",
        "def quicksort(arr):\n",
        "    if len(arr) <= 1:\n",
        "        return arr\n",
        "    pivot = arr[len(arr) // 2]\n",
        "    left = [x for x in arr if x < pivot]\n",
        "    middle = [x for x in arr if x == pivot]\n",
        "    right = [x for x in arr if x > pivot]\n",
        "    return quicksort(left) + middle + quicksort(right)\n",
        "\n",
        "# Example usage:\n",
        "arr = [3, 6, 8, 10, 1, 2, 1]\n",
        "print(\"Original array:\", arr)\n",
        "print(\"Selection Sort:\", selection_sort(arr.copy()))\n",
        "print(\"Insertion Sort:\", insertion_sort(arr.copy()))\n",
        "print(\"Quicksort:\", quicksort(arr.copy()))\n"
      ],
      "metadata": {
        "colab": {
          "base_uri": "https://localhost:8080/"
        },
        "id": "txwD_vcjLa1H",
        "outputId": "59d97b65-010d-4f87-9163-481e767fa136"
      },
      "execution_count": 3,
      "outputs": [
        {
          "output_type": "stream",
          "name": "stdout",
          "text": [
            "Original array: [3, 6, 8, 10, 1, 2, 1]\n",
            "Selection Sort: [1, 1, 2, 3, 6, 8, 10]\n",
            "Insertion Sort: [1, 1, 2, 3, 6, 8, 10]\n",
            "Quicksort: [1, 1, 2, 3, 6, 8, 10]\n"
          ]
        }
      ]
    },
    {
      "cell_type": "markdown",
      "source": [
        "#Search Algorithms"
      ],
      "metadata": {
        "id": "qrC00e-VLjYm"
      }
    },
    {
      "cell_type": "code",
      "source": [
        "# Linear Search\n",
        "def linear_search(arr, target):\n",
        "    for i in range(len(arr)):\n",
        "        if arr[i] == target:\n",
        "            return i  # Return the index of the target element if found\n",
        "    return -1  # Return -1 if the target element is not found\n",
        "\n",
        "# Binary Search\n",
        "def binary_search(arr, target):\n",
        "    low = 0\n",
        "    high = len(arr) - 1\n",
        "    while low <= high:\n",
        "        mid = (low + high) // 2\n",
        "        if arr[mid] == target:\n",
        "            return mid  # Return the index of the target element if found\n",
        "        elif arr[mid] < target:\n",
        "            low = mid + 1\n",
        "        else:\n",
        "            high = mid - 1\n",
        "    return -1  # Return -1 if the target element is not found\n",
        "\n",
        "# Example usage:\n",
        "arr = [1, 3, 5, 7, 9, 11, 13]\n",
        "target = 7\n",
        "print(\"Array:\", arr)\n",
        "print(\"Target:\", target)\n",
        "print(\"Linear Search Result:\", linear_search(arr, target))\n",
        "print(\"Binary Search Result:\", binary_search(arr, target))\n"
      ],
      "metadata": {
        "colab": {
          "base_uri": "https://localhost:8080/"
        },
        "id": "embktUmbLmjW",
        "outputId": "46e05e29-5c60-462a-f3c5-eea4212ea82d"
      },
      "execution_count": 4,
      "outputs": [
        {
          "output_type": "stream",
          "name": "stdout",
          "text": [
            "Array: [1, 3, 5, 7, 9, 11, 13]\n",
            "Target: 7\n",
            "Linear Search Result: 3\n",
            "Binary Search Result: 3\n"
          ]
        }
      ]
    }
  ]
}